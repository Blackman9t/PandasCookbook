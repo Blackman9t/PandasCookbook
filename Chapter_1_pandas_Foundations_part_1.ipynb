{
  "nbformat": 4,
  "nbformat_minor": 0,
  "metadata": {
    "colab": {
      "name": "Chapter 1 pandas Foundations part 1.ipynb",
      "version": "0.3.2",
      "provenance": [],
      "collapsed_sections": [],
      "include_colab_link": true
    },
    "language_info": {
      "codemirror_mode": {
        "name": "ipython",
        "version": 3
      },
      "file_extension": ".py",
      "mimetype": "text/x-python",
      "name": "python",
      "nbconvert_exporter": "python",
      "pygments_lexer": "ipython3",
      "version": "3.6.1"
    },
    "kernelspec": {
      "name": "python3",
      "display_name": "Python 3"
    },
    "accelerator": "GPU"
  },
  "cells": [
    {
      "cell_type": "markdown",
      "metadata": {
        "id": "view-in-github",
        "colab_type": "text"
      },
      "source": [
        "<a href=\"https://colab.research.google.com/github/Blackman9t/PandasCookbook/blob/master/Chapter_1_pandas_Foundations_part_1.ipynb\" target=\"_parent\"><img src=\"https://colab.research.google.com/assets/colab-badge.svg\" alt=\"Open In Colab\"/></a>"
      ]
    },
    {
      "cell_type": "markdown",
      "metadata": {
        "id": "og5pPAItzAwq",
        "colab_type": "text"
      },
      "source": [
        "# Recipes\n",
        "* [Dissecting the anatomy of a DataFrame](#Dissecting-the-anatomy-of-a-DataFrame)\n",
        "* [Accessing the main DataFrame components](#Accessing-the-main-DataFrame-components)\n",
        "* [Understanding data types](#Understanding-data-types)\n",
        "* [Selecting a single Series](#Selecting-a-single-Series)\n",
        "* [Calling Series methods](#Calling-Series-methods)\n",
        "* [Working with operators on a Series](#Working-with-operators-on-a-Series)\n",
        "* [Chaining Series methods together](#Chaining-Series-methods-together)\n",
        "* [Making a meaningful index](#Making-a-meaningful-index)\n",
        "* [Renaming row and column labels](#Renaming-row-and-column-labels)\n",
        "* [Creating and deleting columns](#Creating-and-deleting-columns)"
      ]
    },
    {
      "cell_type": "code",
      "metadata": {
        "id": "4goOgziGzAwm",
        "colab_type": "code",
        "colab": {}
      },
      "source": [
        "import pandas as pd\n",
        "import numpy as np\n",
        "from IPython.display import display"
      ],
      "execution_count": 0,
      "outputs": []
    },
    {
      "cell_type": "markdown",
      "metadata": {
        "id": "urJBjBzazAwr",
        "colab_type": "text"
      },
      "source": [
        "## change options for each recipe"
      ]
    },
    {
      "cell_type": "code",
      "metadata": {
        "id": "dOoihhGXzAwr",
        "colab_type": "code",
        "colab": {}
      },
      "source": [
        "pd.set_option('max_rows', 10)"
      ],
      "execution_count": 0,
      "outputs": []
    },
    {
      "cell_type": "markdown",
      "metadata": {
        "id": "nrA7Aa1VzrpJ",
        "colab_type": "text"
      },
      "source": [
        "### mounting gdrive so we can import data files to colab"
      ]
    },
    {
      "cell_type": "code",
      "metadata": {
        "id": "AdBSiMmdzpaS",
        "colab_type": "code",
        "outputId": "fd709a8b-d6b9-4908-b0ff-638f25ff0931",
        "colab": {
          "base_uri": "https://localhost:8080/",
          "height": 34
        }
      },
      "source": [
        "from google.colab import drive\n",
        "drive.mount('/content/gdrive')"
      ],
      "execution_count": 135,
      "outputs": [
        {
          "output_type": "stream",
          "text": [
            "Drive already mounted at /content/gdrive; to attempt to forcibly remount, call drive.mount(\"/content/gdrive\", force_remount=True).\n"
          ],
          "name": "stdout"
        }
      ]
    },
    {
      "cell_type": "code",
      "metadata": {
        "id": "Gal76Xx72kSH",
        "colab_type": "code",
        "colab": {}
      },
      "source": [
        "# next let's read the movie file from gdrive\n",
        "\n",
        "file = ''\n",
        "\n",
        "with open('/content/gdrive/My Drive/Colab_Notebooks/data_tools/pandas/PandasCookBook_Code/data/movie.csv') as f:\n",
        "    file = f.read()"
      ],
      "execution_count": 0,
      "outputs": []
    },
    {
      "cell_type": "code",
      "metadata": {
        "id": "zIIgJLoe3m7F",
        "colab_type": "code",
        "colab": {}
      },
      "source": [
        "# let's read the file into a Data frame using the IO class\n",
        "\n",
        "import sys\n",
        "if sys.version_info[0] < 3: \n",
        "    from StringIO import StringIO\n",
        "else:\n",
        "    from io import StringIO\n",
        "\n",
        "TESTDATA = StringIO(file)\n",
        "\n",
        "# define additional missing values\n",
        "\n",
        "missing_data = ['na','--','?','None']\n",
        "\n",
        "movie = pd.read_csv(TESTDATA, sep=\",\", na_values=missing_data)\n"
      ],
      "execution_count": 0,
      "outputs": []
    },
    {
      "cell_type": "markdown",
      "metadata": {
        "id": "XnjVn3KqzAwu",
        "colab_type": "text"
      },
      "source": [
        "# Dissecting the anatomy of a DataFrame"
      ]
    },
    {
      "cell_type": "code",
      "metadata": {
        "id": "CK4iRW9jzAwv",
        "colab_type": "code",
        "outputId": "d00a2542-5270-40eb-a5e7-67883430b590",
        "colab": {
          "base_uri": "https://localhost:8080/",
          "height": 224
        }
      },
      "source": [
        "movie.head()"
      ],
      "execution_count": 138,
      "outputs": [
        {
          "output_type": "execute_result",
          "data": {
            "text/html": [
              "<div>\n",
              "<style scoped>\n",
              "    .dataframe tbody tr th:only-of-type {\n",
              "        vertical-align: middle;\n",
              "    }\n",
              "\n",
              "    .dataframe tbody tr th {\n",
              "        vertical-align: top;\n",
              "    }\n",
              "\n",
              "    .dataframe thead th {\n",
              "        text-align: right;\n",
              "    }\n",
              "</style>\n",
              "<table border=\"1\" class=\"dataframe\">\n",
              "  <thead>\n",
              "    <tr style=\"text-align: right;\">\n",
              "      <th></th>\n",
              "      <th>color</th>\n",
              "      <th>director_name</th>\n",
              "      <th>num_critic_for_reviews</th>\n",
              "      <th>duration</th>\n",
              "      <th>...</th>\n",
              "      <th>actor_2_facebook_likes</th>\n",
              "      <th>imdb_score</th>\n",
              "      <th>aspect_ratio</th>\n",
              "      <th>movie_facebook_likes</th>\n",
              "    </tr>\n",
              "  </thead>\n",
              "  <tbody>\n",
              "    <tr>\n",
              "      <th>0</th>\n",
              "      <td>Color</td>\n",
              "      <td>James Cameron</td>\n",
              "      <td>723.0</td>\n",
              "      <td>178.0</td>\n",
              "      <td>...</td>\n",
              "      <td>936.0</td>\n",
              "      <td>7.9</td>\n",
              "      <td>1.78</td>\n",
              "      <td>33000</td>\n",
              "    </tr>\n",
              "    <tr>\n",
              "      <th>1</th>\n",
              "      <td>Color</td>\n",
              "      <td>Gore Verbinski</td>\n",
              "      <td>302.0</td>\n",
              "      <td>169.0</td>\n",
              "      <td>...</td>\n",
              "      <td>5000.0</td>\n",
              "      <td>7.1</td>\n",
              "      <td>2.35</td>\n",
              "      <td>0</td>\n",
              "    </tr>\n",
              "    <tr>\n",
              "      <th>2</th>\n",
              "      <td>Color</td>\n",
              "      <td>Sam Mendes</td>\n",
              "      <td>602.0</td>\n",
              "      <td>148.0</td>\n",
              "      <td>...</td>\n",
              "      <td>393.0</td>\n",
              "      <td>6.8</td>\n",
              "      <td>2.35</td>\n",
              "      <td>85000</td>\n",
              "    </tr>\n",
              "    <tr>\n",
              "      <th>3</th>\n",
              "      <td>Color</td>\n",
              "      <td>Christopher Nolan</td>\n",
              "      <td>813.0</td>\n",
              "      <td>164.0</td>\n",
              "      <td>...</td>\n",
              "      <td>23000.0</td>\n",
              "      <td>8.5</td>\n",
              "      <td>2.35</td>\n",
              "      <td>164000</td>\n",
              "    </tr>\n",
              "    <tr>\n",
              "      <th>4</th>\n",
              "      <td>NaN</td>\n",
              "      <td>Doug Walker</td>\n",
              "      <td>NaN</td>\n",
              "      <td>NaN</td>\n",
              "      <td>...</td>\n",
              "      <td>12.0</td>\n",
              "      <td>7.1</td>\n",
              "      <td>NaN</td>\n",
              "      <td>0</td>\n",
              "    </tr>\n",
              "  </tbody>\n",
              "</table>\n",
              "<p>5 rows × 28 columns</p>\n",
              "</div>"
            ],
            "text/plain": [
              "   color      director_name  num_critic_for_reviews  duration  ...  \\\n",
              "0  Color      James Cameron                   723.0     178.0  ...   \n",
              "1  Color     Gore Verbinski                   302.0     169.0  ...   \n",
              "2  Color         Sam Mendes                   602.0     148.0  ...   \n",
              "3  Color  Christopher Nolan                   813.0     164.0  ...   \n",
              "4    NaN        Doug Walker                     NaN       NaN  ...   \n",
              "\n",
              "   actor_2_facebook_likes  imdb_score aspect_ratio  movie_facebook_likes  \n",
              "0                   936.0         7.9         1.78                 33000  \n",
              "1                  5000.0         7.1         2.35                     0  \n",
              "2                   393.0         6.8         2.35                 85000  \n",
              "3                 23000.0         8.5         2.35                164000  \n",
              "4                    12.0         7.1          NaN                     0  \n",
              "\n",
              "[5 rows x 28 columns]"
            ]
          },
          "metadata": {
            "tags": []
          },
          "execution_count": 138
        }
      ]
    },
    {
      "cell_type": "markdown",
      "metadata": {
        "id": "c8Uz2uG9zAwz",
        "colab_type": "text"
      },
      "source": [
        "![dataframe anatomy](./images/ch01_dataframe_anatomy.png)"
      ]
    },
    {
      "cell_type": "markdown",
      "metadata": {
        "id": "arBk7iDezAw0",
        "colab_type": "text"
      },
      "source": [
        "# Accessing the main DataFrame components"
      ]
    },
    {
      "cell_type": "code",
      "metadata": {
        "id": "RslGlz81_ixQ",
        "colab_type": "code",
        "colab": {
          "base_uri": "https://localhost:8080/",
          "height": 34
        },
        "outputId": "de881303-6196-4577-ca73-cc5063d08147"
      },
      "source": [
        "movie.shape"
      ],
      "execution_count": 139,
      "outputs": [
        {
          "output_type": "execute_result",
          "data": {
            "text/plain": [
              "(4916, 28)"
            ]
          },
          "metadata": {
            "tags": []
          },
          "execution_count": 139
        }
      ]
    },
    {
      "cell_type": "code",
      "metadata": {
        "id": "WTZYISdZzAw1",
        "colab_type": "code",
        "colab": {}
      },
      "source": [
        "columns = movie.columns\n",
        "index = movie.index\n",
        "data = movie.values"
      ],
      "execution_count": 0,
      "outputs": []
    },
    {
      "cell_type": "code",
      "metadata": {
        "id": "rYena-KqzAw3",
        "colab_type": "code",
        "outputId": "52f63552-b633-4b6e-9f23-eaa2a402d931",
        "colab": {
          "base_uri": "https://localhost:8080/",
          "height": 168
        }
      },
      "source": [
        "columns"
      ],
      "execution_count": 141,
      "outputs": [
        {
          "output_type": "execute_result",
          "data": {
            "text/plain": [
              "Index(['color', 'director_name', 'num_critic_for_reviews', 'duration',\n",
              "       'director_facebook_likes', 'actor_3_facebook_likes', 'actor_2_name',\n",
              "       'actor_1_facebook_likes', 'gross', 'genres', 'actor_1_name',\n",
              "       'movie_title', 'num_voted_users', 'cast_total_facebook_likes',\n",
              "       'actor_3_name', 'facenumber_in_poster', 'plot_keywords',\n",
              "       'movie_imdb_link', 'num_user_for_reviews', 'language', 'country',\n",
              "       'content_rating', 'budget', 'title_year', 'actor_2_facebook_likes',\n",
              "       'imdb_score', 'aspect_ratio', 'movie_facebook_likes'],\n",
              "      dtype='object')"
            ]
          },
          "metadata": {
            "tags": []
          },
          "execution_count": 141
        }
      ]
    },
    {
      "cell_type": "code",
      "metadata": {
        "id": "xIkszBeKzAw7",
        "colab_type": "code",
        "outputId": "77b4a90b-451c-4f5d-b227-a10d139b4c9c",
        "colab": {
          "base_uri": "https://localhost:8080/",
          "height": 34
        }
      },
      "source": [
        "index"
      ],
      "execution_count": 142,
      "outputs": [
        {
          "output_type": "execute_result",
          "data": {
            "text/plain": [
              "RangeIndex(start=0, stop=4916, step=1)"
            ]
          },
          "metadata": {
            "tags": []
          },
          "execution_count": 142
        }
      ]
    },
    {
      "cell_type": "code",
      "metadata": {
        "id": "U4W17Q3_zAw_",
        "colab_type": "code",
        "outputId": "3d6ed82a-62f9-495b-c844-f79941908b6c",
        "colab": {
          "base_uri": "https://localhost:8080/",
          "height": 134
        }
      },
      "source": [
        "data"
      ],
      "execution_count": 143,
      "outputs": [
        {
          "output_type": "execute_result",
          "data": {
            "text/plain": [
              "array([['Color', 'James Cameron', 723.0, ..., 7.9, 1.78, 33000],\n",
              "       ['Color', 'Gore Verbinski', 302.0, ..., 7.1, 2.35, 0],\n",
              "       ['Color', 'Sam Mendes', 602.0, ..., 6.8, 2.35, 85000],\n",
              "       ...,\n",
              "       ['Color', 'Benjamin Roberds', 13.0, ..., 6.3, nan, 16],\n",
              "       ['Color', 'Daniel Hsia', 14.0, ..., 6.3, 2.35, 660],\n",
              "       ['Color', 'Jon Gunn', 43.0, ..., 6.6, 1.85, 456]], dtype=object)"
            ]
          },
          "metadata": {
            "tags": []
          },
          "execution_count": 143
        }
      ]
    },
    {
      "cell_type": "code",
      "metadata": {
        "id": "nLpLf-cZ_eHT",
        "colab_type": "code",
        "colab": {
          "base_uri": "https://localhost:8080/",
          "height": 34
        },
        "outputId": "65411dde-83cb-457a-8bf7-a9bae498d0dc"
      },
      "source": [
        "len(data)"
      ],
      "execution_count": 144,
      "outputs": [
        {
          "output_type": "execute_result",
          "data": {
            "text/plain": [
              "4916"
            ]
          },
          "metadata": {
            "tags": []
          },
          "execution_count": 144
        }
      ]
    },
    {
      "cell_type": "markdown",
      "metadata": {
        "id": "JcNErw8q5BOM",
        "colab_type": "text"
      },
      "source": [
        "confirming that RangeIndex is a sub class of index"
      ]
    },
    {
      "cell_type": "code",
      "metadata": {
        "id": "dISBpl0lzAxC",
        "colab_type": "code",
        "outputId": "f4c14067-25fb-4217-d09e-c1967e503151",
        "colab": {
          "base_uri": "https://localhost:8080/",
          "height": 34
        }
      },
      "source": [
        "issubclass(pd.RangeIndex, pd.Index)  # This checks if first arg is a subclass of second arg"
      ],
      "execution_count": 145,
      "outputs": [
        {
          "output_type": "execute_result",
          "data": {
            "text/plain": [
              "True"
            ]
          },
          "metadata": {
            "tags": []
          },
          "execution_count": 145
        }
      ]
    },
    {
      "cell_type": "markdown",
      "metadata": {
        "id": "_yS7n5v-zAxF",
        "colab_type": "text"
      },
      "source": [
        "## There's more"
      ]
    },
    {
      "cell_type": "code",
      "metadata": {
        "id": "VS39xGbnzAxG",
        "colab_type": "code",
        "outputId": "219418b6-f0b6-45bb-e23b-4f8c566776a7",
        "colab": {
          "base_uri": "https://localhost:8080/",
          "height": 34
        }
      },
      "source": [
        "index.values"
      ],
      "execution_count": 146,
      "outputs": [
        {
          "output_type": "execute_result",
          "data": {
            "text/plain": [
              "array([   0,    1,    2, ..., 4913, 4914, 4915])"
            ]
          },
          "metadata": {
            "tags": []
          },
          "execution_count": 146
        }
      ]
    },
    {
      "cell_type": "code",
      "metadata": {
        "id": "x6otRhRqzAxJ",
        "colab_type": "code",
        "outputId": "db91346c-ef9a-4009-8f3b-9c720861a6dc",
        "colab": {
          "base_uri": "https://localhost:8080/",
          "height": 168
        }
      },
      "source": [
        "columns.values"
      ],
      "execution_count": 147,
      "outputs": [
        {
          "output_type": "execute_result",
          "data": {
            "text/plain": [
              "array(['color', 'director_name', 'num_critic_for_reviews', 'duration',\n",
              "       'director_facebook_likes', 'actor_3_facebook_likes',\n",
              "       'actor_2_name', 'actor_1_facebook_likes', 'gross', 'genres',\n",
              "       'actor_1_name', 'movie_title', 'num_voted_users',\n",
              "       'cast_total_facebook_likes', 'actor_3_name',\n",
              "       'facenumber_in_poster', 'plot_keywords', 'movie_imdb_link',\n",
              "       'num_user_for_reviews', 'language', 'country', 'content_rating',\n",
              "       'budget', 'title_year', 'actor_2_facebook_likes', 'imdb_score',\n",
              "       'aspect_ratio', 'movie_facebook_likes'], dtype=object)"
            ]
          },
          "metadata": {
            "tags": []
          },
          "execution_count": 147
        }
      ]
    },
    {
      "cell_type": "markdown",
      "metadata": {
        "id": "h3wYRCd5zAxO",
        "colab_type": "text"
      },
      "source": [
        "# Understanding data types"
      ]
    },
    {
      "cell_type": "code",
      "metadata": {
        "id": "pwZD9yBazAxT",
        "colab_type": "code",
        "outputId": "b1040695-53b3-42bc-ecd0-86bf6d2784d5",
        "colab": {
          "base_uri": "https://localhost:8080/",
          "height": 218
        }
      },
      "source": [
        "movie.dtypes"
      ],
      "execution_count": 148,
      "outputs": [
        {
          "output_type": "execute_result",
          "data": {
            "text/plain": [
              "color                       object\n",
              "director_name               object\n",
              "num_critic_for_reviews     float64\n",
              "duration                   float64\n",
              "director_facebook_likes    float64\n",
              "                            ...   \n",
              "title_year                 float64\n",
              "actor_2_facebook_likes     float64\n",
              "imdb_score                 float64\n",
              "aspect_ratio               float64\n",
              "movie_facebook_likes         int64\n",
              "Length: 28, dtype: object"
            ]
          },
          "metadata": {
            "tags": []
          },
          "execution_count": 148
        }
      ]
    },
    {
      "cell_type": "code",
      "metadata": {
        "id": "T3Fi0Ko6zAxZ",
        "colab_type": "code",
        "outputId": "aee530f7-b6bb-4e5b-e688-81415b1d0877",
        "colab": {
          "base_uri": "https://localhost:8080/",
          "height": 84
        }
      },
      "source": [
        "movie.get_dtype_counts()"
      ],
      "execution_count": 149,
      "outputs": [
        {
          "output_type": "execute_result",
          "data": {
            "text/plain": [
              "float64    13\n",
              "int64       3\n",
              "object     12\n",
              "dtype: int64"
            ]
          },
          "metadata": {
            "tags": []
          },
          "execution_count": 149
        }
      ]
    },
    {
      "cell_type": "markdown",
      "metadata": {
        "id": "DCt7Onu8zAxj",
        "colab_type": "text"
      },
      "source": [
        "# Selecting a single Series"
      ]
    },
    {
      "cell_type": "code",
      "metadata": {
        "id": "PTIznfwezAxn",
        "colab_type": "code",
        "outputId": "3bdc62ca-b5f6-4a5d-b84f-e3730eee38ee",
        "colab": {
          "base_uri": "https://localhost:8080/",
          "height": 218
        }
      },
      "source": [
        "movie['director_name']"
      ],
      "execution_count": 150,
      "outputs": [
        {
          "output_type": "execute_result",
          "data": {
            "text/plain": [
              "0           James Cameron\n",
              "1          Gore Verbinski\n",
              "2              Sam Mendes\n",
              "3       Christopher Nolan\n",
              "4             Doug Walker\n",
              "              ...        \n",
              "4911          Scott Smith\n",
              "4912                  NaN\n",
              "4913     Benjamin Roberds\n",
              "4914          Daniel Hsia\n",
              "4915             Jon Gunn\n",
              "Name: director_name, Length: 4916, dtype: object"
            ]
          },
          "metadata": {
            "tags": []
          },
          "execution_count": 150
        }
      ]
    },
    {
      "cell_type": "code",
      "metadata": {
        "id": "BzpyEwEuzAxr",
        "colab_type": "code",
        "outputId": "537d1192-3805-418a-f479-352b2baec652",
        "colab": {
          "base_uri": "https://localhost:8080/",
          "height": 34
        }
      },
      "source": [
        "type(movie['director_name'])"
      ],
      "execution_count": 151,
      "outputs": [
        {
          "output_type": "execute_result",
          "data": {
            "text/plain": [
              "pandas.core.series.Series"
            ]
          },
          "metadata": {
            "tags": []
          },
          "execution_count": 151
        }
      ]
    },
    {
      "cell_type": "markdown",
      "metadata": {
        "id": "yw-k1xKjzAxx",
        "colab_type": "text"
      },
      "source": [
        "# There's more"
      ]
    },
    {
      "cell_type": "code",
      "metadata": {
        "id": "nnnceyNKzAxy",
        "colab_type": "code",
        "outputId": "0951776c-5bb8-49d8-91ae-425203f941aa",
        "colab": {
          "base_uri": "https://localhost:8080/",
          "height": 34
        }
      },
      "source": [
        "director = movie['director_name'] # save Series to variable\n",
        "director.name"
      ],
      "execution_count": 152,
      "outputs": [
        {
          "output_type": "execute_result",
          "data": {
            "text/plain": [
              "'director_name'"
            ]
          },
          "metadata": {
            "tags": []
          },
          "execution_count": 152
        }
      ]
    },
    {
      "cell_type": "code",
      "metadata": {
        "id": "65dsLGjGzAx1",
        "colab_type": "code",
        "outputId": "0e4b76f9-cbd4-4c3f-d73e-80bede4307b3",
        "colab": {
          "base_uri": "https://localhost:8080/",
          "height": 195
        }
      },
      "source": [
        "director.to_frame().head()  # converting the Series to a Data Frame and display first 5 rows"
      ],
      "execution_count": 153,
      "outputs": [
        {
          "output_type": "execute_result",
          "data": {
            "text/html": [
              "<div>\n",
              "<style scoped>\n",
              "    .dataframe tbody tr th:only-of-type {\n",
              "        vertical-align: middle;\n",
              "    }\n",
              "\n",
              "    .dataframe tbody tr th {\n",
              "        vertical-align: top;\n",
              "    }\n",
              "\n",
              "    .dataframe thead th {\n",
              "        text-align: right;\n",
              "    }\n",
              "</style>\n",
              "<table border=\"1\" class=\"dataframe\">\n",
              "  <thead>\n",
              "    <tr style=\"text-align: right;\">\n",
              "      <th></th>\n",
              "      <th>director_name</th>\n",
              "    </tr>\n",
              "  </thead>\n",
              "  <tbody>\n",
              "    <tr>\n",
              "      <th>0</th>\n",
              "      <td>James Cameron</td>\n",
              "    </tr>\n",
              "    <tr>\n",
              "      <th>1</th>\n",
              "      <td>Gore Verbinski</td>\n",
              "    </tr>\n",
              "    <tr>\n",
              "      <th>2</th>\n",
              "      <td>Sam Mendes</td>\n",
              "    </tr>\n",
              "    <tr>\n",
              "      <th>3</th>\n",
              "      <td>Christopher Nolan</td>\n",
              "    </tr>\n",
              "    <tr>\n",
              "      <th>4</th>\n",
              "      <td>Doug Walker</td>\n",
              "    </tr>\n",
              "  </tbody>\n",
              "</table>\n",
              "</div>"
            ],
            "text/plain": [
              "       director_name\n",
              "0      James Cameron\n",
              "1     Gore Verbinski\n",
              "2         Sam Mendes\n",
              "3  Christopher Nolan\n",
              "4        Doug Walker"
            ]
          },
          "metadata": {
            "tags": []
          },
          "execution_count": 153
        }
      ]
    },
    {
      "cell_type": "markdown",
      "metadata": {
        "id": "b7FWSB94zAx4",
        "colab_type": "text"
      },
      "source": [
        "# Calling Series methods"
      ]
    },
    {
      "cell_type": "markdown",
      "metadata": {
        "id": "BwcZ2bW5zAx5",
        "colab_type": "text"
      },
      "source": [
        "## Getting ready..."
      ]
    },
    {
      "cell_type": "code",
      "metadata": {
        "id": "fhwRMUPZzAx6",
        "colab_type": "code",
        "outputId": "470b3984-bc59-491b-9d58-71e1886c20e0",
        "colab": {
          "base_uri": "https://localhost:8080/",
          "height": 34
        }
      },
      "source": [
        "s_attr_methods = set(dir(pd.Series))\n",
        "len(s_attr_methods)"
      ],
      "execution_count": 154,
      "outputs": [
        {
          "output_type": "execute_result",
          "data": {
            "text/plain": [
              "471"
            ]
          },
          "metadata": {
            "tags": []
          },
          "execution_count": 154
        }
      ]
    },
    {
      "cell_type": "code",
      "metadata": {
        "id": "6uxPnNw2zAyD",
        "colab_type": "code",
        "outputId": "b73c7820-b6a3-46ba-a401-e9d3dac57018",
        "colab": {
          "base_uri": "https://localhost:8080/",
          "height": 34
        }
      },
      "source": [
        "df_attr_methods = set(dir(pd.DataFrame))\n",
        "len(df_attr_methods)"
      ],
      "execution_count": 155,
      "outputs": [
        {
          "output_type": "execute_result",
          "data": {
            "text/plain": [
              "458"
            ]
          },
          "metadata": {
            "tags": []
          },
          "execution_count": 155
        }
      ]
    },
    {
      "cell_type": "code",
      "metadata": {
        "id": "VDNN3WovzAyG",
        "colab_type": "code",
        "outputId": "50f78524-174c-4545-bfd9-6a7e24d5d12a",
        "colab": {
          "base_uri": "https://localhost:8080/",
          "height": 34
        }
      },
      "source": [
        "Meth = s_attr_methods & df_attr_methods\n",
        "len(s_attr_methods & df_attr_methods)"
      ],
      "execution_count": 156,
      "outputs": [
        {
          "output_type": "execute_result",
          "data": {
            "text/plain": [
              "400"
            ]
          },
          "metadata": {
            "tags": []
          },
          "execution_count": 156
        }
      ]
    },
    {
      "cell_type": "markdown",
      "metadata": {
        "id": "QV_fGxCnzAyI",
        "colab_type": "text"
      },
      "source": [
        "## How to do it..."
      ]
    },
    {
      "cell_type": "code",
      "metadata": {
        "id": "b1axC5nCzAyL",
        "colab_type": "code",
        "colab": {}
      },
      "source": [
        "director = movie['director_name']\n",
        "actor_1_fb_likes = movie['actor_1_facebook_likes']"
      ],
      "execution_count": 0,
      "outputs": []
    },
    {
      "cell_type": "code",
      "metadata": {
        "id": "MW97eGlWzAyN",
        "colab_type": "code",
        "outputId": "839bdefa-561e-4b48-cc02-54f09474c779",
        "colab": {
          "base_uri": "https://localhost:8080/",
          "height": 118
        }
      },
      "source": [
        "director.head()"
      ],
      "execution_count": 158,
      "outputs": [
        {
          "output_type": "execute_result",
          "data": {
            "text/plain": [
              "0        James Cameron\n",
              "1       Gore Verbinski\n",
              "2           Sam Mendes\n",
              "3    Christopher Nolan\n",
              "4          Doug Walker\n",
              "Name: director_name, dtype: object"
            ]
          },
          "metadata": {
            "tags": []
          },
          "execution_count": 158
        }
      ]
    },
    {
      "cell_type": "code",
      "metadata": {
        "id": "MnCdq2LVzAyR",
        "colab_type": "code",
        "outputId": "a35764c4-9f3d-4208-e2b9-b48038e7f228",
        "colab": {
          "base_uri": "https://localhost:8080/",
          "height": 118
        }
      },
      "source": [
        "actor_1_fb_likes.head()"
      ],
      "execution_count": 159,
      "outputs": [
        {
          "output_type": "execute_result",
          "data": {
            "text/plain": [
              "0     1000.0\n",
              "1    40000.0\n",
              "2    11000.0\n",
              "3    27000.0\n",
              "4      131.0\n",
              "Name: actor_1_facebook_likes, dtype: float64"
            ]
          },
          "metadata": {
            "tags": []
          },
          "execution_count": 159
        }
      ]
    },
    {
      "cell_type": "code",
      "metadata": {
        "id": "yud2T5U0zAyU",
        "colab_type": "code",
        "outputId": "9c748906-239a-4d2c-c0cb-c7822f9ec756",
        "colab": {
          "base_uri": "https://localhost:8080/",
          "height": 185
        }
      },
      "source": [
        "with pd.option_context('max_rows', 8):\n",
        "    display(director.value_counts())"
      ],
      "execution_count": 160,
      "outputs": [
        {
          "output_type": "display_data",
          "data": {
            "text/plain": [
              "Steven Spielberg    26\n",
              "Woody Allen         22\n",
              "Clint Eastwood      20\n",
              "Martin Scorsese     20\n",
              "                    ..\n",
              "Zach Cregger         1\n",
              "Nathan Greno         1\n",
              "Giovanni Zelko       1\n",
              "Rob Pritts           1\n",
              "Name: director_name, Length: 2397, dtype: int64"
            ]
          },
          "metadata": {
            "tags": []
          }
        }
      ]
    },
    {
      "cell_type": "code",
      "metadata": {
        "id": "IPaxd9ZTzAyW",
        "colab_type": "code",
        "outputId": "fd0481c1-279a-4ba3-d216-30dfa40ee2c1",
        "colab": {
          "base_uri": "https://localhost:8080/",
          "height": 185
        }
      },
      "source": [
        "pd.set_option('max_rows', 8)\n",
        "actor_1_fb_likes.value_counts()"
      ],
      "execution_count": 161,
      "outputs": [
        {
          "output_type": "execute_result",
          "data": {
            "text/plain": [
              "1000.0     436\n",
              "11000.0    206\n",
              "2000.0     189\n",
              "3000.0     150\n",
              "          ... \n",
              "216.0        1\n",
              "859.0        1\n",
              "225.0        1\n",
              "334.0        1\n",
              "Name: actor_1_facebook_likes, Length: 877, dtype: int64"
            ]
          },
          "metadata": {
            "tags": []
          },
          "execution_count": 161
        }
      ]
    },
    {
      "cell_type": "code",
      "metadata": {
        "id": "4uulAC9OzAyZ",
        "colab_type": "code",
        "outputId": "099369ee-ae54-4738-d624-f9189a7e116d",
        "colab": {
          "base_uri": "https://localhost:8080/",
          "height": 34
        }
      },
      "source": [
        "director.size  # Size normally outputs the product of nrows by ncols. In series it will be == len"
      ],
      "execution_count": 162,
      "outputs": [
        {
          "output_type": "execute_result",
          "data": {
            "text/plain": [
              "4916"
            ]
          },
          "metadata": {
            "tags": []
          },
          "execution_count": 162
        }
      ]
    },
    {
      "cell_type": "code",
      "metadata": {
        "id": "UT9icI0RzAyb",
        "colab_type": "code",
        "outputId": "b0bbb04a-808f-4c4a-a9a0-370ae9b9f95e",
        "colab": {
          "base_uri": "https://localhost:8080/",
          "height": 34
        }
      },
      "source": [
        "director.shape"
      ],
      "execution_count": 163,
      "outputs": [
        {
          "output_type": "execute_result",
          "data": {
            "text/plain": [
              "(4916,)"
            ]
          },
          "metadata": {
            "tags": []
          },
          "execution_count": 163
        }
      ]
    },
    {
      "cell_type": "code",
      "metadata": {
        "id": "tYWfw2IvzAye",
        "colab_type": "code",
        "outputId": "ad111e84-820f-4ecc-e22f-986ed02f1914",
        "colab": {
          "base_uri": "https://localhost:8080/",
          "height": 34
        }
      },
      "source": [
        "len(director)"
      ],
      "execution_count": 164,
      "outputs": [
        {
          "output_type": "execute_result",
          "data": {
            "text/plain": [
              "4916"
            ]
          },
          "metadata": {
            "tags": []
          },
          "execution_count": 164
        }
      ]
    },
    {
      "cell_type": "code",
      "metadata": {
        "id": "Uj4gUqwdzAyh",
        "colab_type": "code",
        "outputId": "ec4905d5-6d1c-4631-b3a5-105006b02886",
        "colab": {
          "base_uri": "https://localhost:8080/",
          "height": 34
        }
      },
      "source": [
        "director.count()  # Count returns the total number of Non-NaN values"
      ],
      "execution_count": 165,
      "outputs": [
        {
          "output_type": "execute_result",
          "data": {
            "text/plain": [
              "4814"
            ]
          },
          "metadata": {
            "tags": []
          },
          "execution_count": 165
        }
      ]
    },
    {
      "cell_type": "code",
      "metadata": {
        "id": "l_ZIHJUqzAyj",
        "colab_type": "code",
        "outputId": "329f14e0-e5a9-4ac1-fa04-04cec2916b47",
        "colab": {
          "base_uri": "https://localhost:8080/",
          "height": 34
        }
      },
      "source": [
        "actor_1_fb_likes.count()"
      ],
      "execution_count": 166,
      "outputs": [
        {
          "output_type": "execute_result",
          "data": {
            "text/plain": [
              "4909"
            ]
          },
          "metadata": {
            "tags": []
          },
          "execution_count": 166
        }
      ]
    },
    {
      "cell_type": "code",
      "metadata": {
        "id": "eHaJHpJRzAyl",
        "colab_type": "code",
        "outputId": "980c60fb-03c9-47e8-8c60-bfcda42dd5be",
        "colab": {
          "base_uri": "https://localhost:8080/",
          "height": 34
        }
      },
      "source": [
        "actor_1_fb_likes.quantile(.25)  # method exists to calculate an exact quantile of numeric data"
      ],
      "execution_count": 167,
      "outputs": [
        {
          "output_type": "execute_result",
          "data": {
            "text/plain": [
              "607.0"
            ]
          },
          "metadata": {
            "tags": []
          },
          "execution_count": 167
        }
      ]
    },
    {
      "cell_type": "code",
      "metadata": {
        "id": "jm9Ge59mzAyo",
        "colab_type": "code",
        "outputId": "61a8bfd3-a2ac-4bbe-c660-66a57089d6de",
        "colab": {
          "base_uri": "https://localhost:8080/",
          "height": 34
        }
      },
      "source": [
        "actor_1_fb_likes.min(), actor_1_fb_likes.max(), actor_1_fb_likes.mean(), \\\n",
        "    actor_1_fb_likes.median(), actor_1_fb_likes.std(), actor_1_fb_likes.sum()"
      ],
      "execution_count": 168,
      "outputs": [
        {
          "output_type": "execute_result",
          "data": {
            "text/plain": [
              "(0.0, 640000.0, 6494.488490527602, 982.0, 15106.986883848309, 31881444.0)"
            ]
          },
          "metadata": {
            "tags": []
          },
          "execution_count": 168
        }
      ]
    },
    {
      "cell_type": "code",
      "metadata": {
        "id": "qvHpEt74zAyq",
        "colab_type": "code",
        "outputId": "9419ea50-b722-48d5-eedc-2472b72cea3f",
        "colab": {
          "base_uri": "https://localhost:8080/",
          "height": 168
        }
      },
      "source": [
        "actor_1_fb_likes.describe()"
      ],
      "execution_count": 169,
      "outputs": [
        {
          "output_type": "execute_result",
          "data": {
            "text/plain": [
              "count      4909.000000\n",
              "mean       6494.488491\n",
              "std       15106.986884\n",
              "min           0.000000\n",
              "25%         607.000000\n",
              "50%         982.000000\n",
              "75%       11000.000000\n",
              "max      640000.000000\n",
              "Name: actor_1_facebook_likes, dtype: float64"
            ]
          },
          "metadata": {
            "tags": []
          },
          "execution_count": 169
        }
      ]
    },
    {
      "cell_type": "code",
      "metadata": {
        "id": "twAQ2uFdzAys",
        "colab_type": "code",
        "outputId": "487bab48-f47e-4e31-aaa0-c1c5ce6fb554",
        "colab": {
          "base_uri": "https://localhost:8080/",
          "height": 34
        }
      },
      "source": [
        "actor_1_fb_likes.quantile(.2)"
      ],
      "execution_count": 170,
      "outputs": [
        {
          "output_type": "execute_result",
          "data": {
            "text/plain": [
              "510.0"
            ]
          },
          "metadata": {
            "tags": []
          },
          "execution_count": 170
        }
      ]
    },
    {
      "cell_type": "code",
      "metadata": {
        "id": "Zv-CmijazAyw",
        "colab_type": "code",
        "outputId": "e7e575cb-a95a-4a14-923c-908fc09ab04f",
        "colab": {
          "base_uri": "https://localhost:8080/",
          "height": 185
        }
      },
      "source": [
        "actor_1_fb_likes.quantile([.1, .2, .3, .4, .5, .6, .7, .8, .9])"
      ],
      "execution_count": 171,
      "outputs": [
        {
          "output_type": "execute_result",
          "data": {
            "text/plain": [
              "0.1      240.0\n",
              "0.2      510.0\n",
              "0.3      694.0\n",
              "0.4      854.0\n",
              "        ...   \n",
              "0.6     1000.0\n",
              "0.7     8000.0\n",
              "0.8    13000.0\n",
              "0.9    18000.0\n",
              "Name: actor_1_facebook_likes, Length: 9, dtype: float64"
            ]
          },
          "metadata": {
            "tags": []
          },
          "execution_count": 171
        }
      ]
    },
    {
      "cell_type": "code",
      "metadata": {
        "id": "zloSOe_7zAy0",
        "colab_type": "code",
        "outputId": "7d4e681b-8e64-407f-b691-12430f07bd83",
        "colab": {
          "base_uri": "https://localhost:8080/",
          "height": 185
        }
      },
      "source": [
        "director.isnull()"
      ],
      "execution_count": 172,
      "outputs": [
        {
          "output_type": "execute_result",
          "data": {
            "text/plain": [
              "0       False\n",
              "1       False\n",
              "2       False\n",
              "3       False\n",
              "        ...  \n",
              "4912     True\n",
              "4913    False\n",
              "4914    False\n",
              "4915    False\n",
              "Name: director_name, Length: 4916, dtype: bool"
            ]
          },
          "metadata": {
            "tags": []
          },
          "execution_count": 172
        }
      ]
    },
    {
      "cell_type": "code",
      "metadata": {
        "id": "_QhXeX60zAy2",
        "colab_type": "code",
        "outputId": "43571584-3a60-4135-9a22-e9f0d25e33d4",
        "colab": {
          "base_uri": "https://localhost:8080/",
          "height": 34
        }
      },
      "source": [
        "actor_1_fb_likes_filled = actor_1_fb_likes.fillna(0)  # Filling missing values with 0\n",
        "actor_1_fb_likes_filled.count()"
      ],
      "execution_count": 173,
      "outputs": [
        {
          "output_type": "execute_result",
          "data": {
            "text/plain": [
              "4916"
            ]
          },
          "metadata": {
            "tags": []
          },
          "execution_count": 173
        }
      ]
    },
    {
      "cell_type": "code",
      "metadata": {
        "id": "NkoU1DJJzAy4",
        "colab_type": "code",
        "outputId": "c9359f51-2e7e-4c07-dfc1-1c1004255324",
        "colab": {
          "base_uri": "https://localhost:8080/",
          "height": 34
        }
      },
      "source": [
        "actor_1_fb_likes_dropped = actor_1_fb_likes.dropna()  # dropping missing values\n",
        "actor_1_fb_likes_dropped.size"
      ],
      "execution_count": 174,
      "outputs": [
        {
          "output_type": "execute_result",
          "data": {
            "text/plain": [
              "4909"
            ]
          },
          "metadata": {
            "tags": []
          },
          "execution_count": 174
        }
      ]
    },
    {
      "cell_type": "markdown",
      "metadata": {
        "id": "537Wj6BtzAy9",
        "colab_type": "text"
      },
      "source": [
        "## There's more..."
      ]
    },
    {
      "cell_type": "code",
      "metadata": {
        "id": "DWcascs6zAy9",
        "colab_type": "code",
        "outputId": "05d4156e-7009-4823-d8ae-57a6df21e86c",
        "colab": {
          "base_uri": "https://localhost:8080/",
          "height": 185
        }
      },
      "source": [
        "director.value_counts(normalize=True)  # Setting normalize=True returns the relative frequency of each item in the distribution instead of the count of occurrence of each."
      ],
      "execution_count": 175,
      "outputs": [
        {
          "output_type": "execute_result",
          "data": {
            "text/plain": [
              "Steven Spielberg    0.005401\n",
              "Woody Allen         0.004570\n",
              "Clint Eastwood      0.004155\n",
              "Martin Scorsese     0.004155\n",
              "                      ...   \n",
              "Zach Cregger        0.000208\n",
              "Nathan Greno        0.000208\n",
              "Giovanni Zelko      0.000208\n",
              "Rob Pritts          0.000208\n",
              "Name: director_name, Length: 2397, dtype: float64"
            ]
          },
          "metadata": {
            "tags": []
          },
          "execution_count": 175
        }
      ]
    },
    {
      "cell_type": "code",
      "metadata": {
        "id": "jprEUhh1zAy_",
        "colab_type": "code",
        "outputId": "ed58a5d4-21f9-4ce6-9781-4e6682b273da",
        "colab": {
          "base_uri": "https://localhost:8080/",
          "height": 34
        }
      },
      "source": [
        "director.hasnans  # Asking if the director series has any NaN values, returns a bool"
      ],
      "execution_count": 176,
      "outputs": [
        {
          "output_type": "execute_result",
          "data": {
            "text/plain": [
              "True"
            ]
          },
          "metadata": {
            "tags": []
          },
          "execution_count": 176
        }
      ]
    },
    {
      "cell_type": "code",
      "metadata": {
        "id": "cyOVY5G4zAzB",
        "colab_type": "code",
        "outputId": "4209d5c4-aa65-496b-fc84-d30230bb22db",
        "colab": {
          "base_uri": "https://localhost:8080/",
          "height": 185
        }
      },
      "source": [
        "director.notnull()  # returns a bool for each observation depending on whether it is null or not"
      ],
      "execution_count": 177,
      "outputs": [
        {
          "output_type": "execute_result",
          "data": {
            "text/plain": [
              "0        True\n",
              "1        True\n",
              "2        True\n",
              "3        True\n",
              "        ...  \n",
              "4912    False\n",
              "4913     True\n",
              "4914     True\n",
              "4915     True\n",
              "Name: director_name, Length: 4916, dtype: bool"
            ]
          },
          "metadata": {
            "tags": []
          },
          "execution_count": 177
        }
      ]
    },
    {
      "cell_type": "code",
      "metadata": {
        "id": "bril3VJfzAzD",
        "colab_type": "code",
        "outputId": "ad0b6b97-c2ea-42db-b1a5-aa25b5fe608f",
        "colab": {
          "base_uri": "https://localhost:8080/",
          "height": 101
        }
      },
      "source": [
        "director.describe()"
      ],
      "execution_count": 178,
      "outputs": [
        {
          "output_type": "execute_result",
          "data": {
            "text/plain": [
              "count                 4814\n",
              "unique                2397\n",
              "top       Steven Spielberg\n",
              "freq                    26\n",
              "Name: director_name, dtype: object"
            ]
          },
          "metadata": {
            "tags": []
          },
          "execution_count": 178
        }
      ]
    },
    {
      "cell_type": "markdown",
      "metadata": {
        "id": "CaByMosTzAzF",
        "colab_type": "text"
      },
      "source": [
        "# Working with operators on a Series"
      ]
    },
    {
      "cell_type": "code",
      "metadata": {
        "id": "i5YCcPNxzAzG",
        "colab_type": "code",
        "colab": {}
      },
      "source": [
        "pd.options.display.max_rows = 6"
      ],
      "execution_count": 0,
      "outputs": []
    },
    {
      "cell_type": "code",
      "metadata": {
        "id": "-1ryEq4EzAzH",
        "colab_type": "code",
        "outputId": "ef1b9f1f-f7e7-459e-e5cb-67539b359373",
        "colab": {
          "base_uri": "https://localhost:8080/",
          "height": 34
        }
      },
      "source": [
        "5 + 9    # plus operator example. Adds 5 and 9"
      ],
      "execution_count": 180,
      "outputs": [
        {
          "output_type": "execute_result",
          "data": {
            "text/plain": [
              "14"
            ]
          },
          "metadata": {
            "tags": []
          },
          "execution_count": 180
        }
      ]
    },
    {
      "cell_type": "code",
      "metadata": {
        "id": "Z9QrRzSjzAzK",
        "colab_type": "code",
        "outputId": "384f2086-e0f1-4268-a7e1-24d1c33985a6",
        "colab": {
          "base_uri": "https://localhost:8080/",
          "height": 34
        }
      },
      "source": [
        "4 ** 2   # exponentiation operator. Raises 4 to the second power"
      ],
      "execution_count": 181,
      "outputs": [
        {
          "output_type": "execute_result",
          "data": {
            "text/plain": [
              "16"
            ]
          },
          "metadata": {
            "tags": []
          },
          "execution_count": 181
        }
      ]
    },
    {
      "cell_type": "code",
      "metadata": {
        "id": "-4HhxpKgzAzN",
        "colab_type": "code",
        "colab": {}
      },
      "source": [
        "a = 10   # assignment operator."
      ],
      "execution_count": 0,
      "outputs": []
    },
    {
      "cell_type": "code",
      "metadata": {
        "id": "EZs8vz1wzAzO",
        "colab_type": "code",
        "outputId": "87041079-5439-4324-d622-9f8c5f9a2587",
        "colab": {
          "base_uri": "https://localhost:8080/",
          "height": 34
        }
      },
      "source": [
        "5 <= 9   # less than or equal to operator"
      ],
      "execution_count": 183,
      "outputs": [
        {
          "output_type": "execute_result",
          "data": {
            "text/plain": [
              "True"
            ]
          },
          "metadata": {
            "tags": []
          },
          "execution_count": 183
        }
      ]
    },
    {
      "cell_type": "code",
      "metadata": {
        "id": "Kn8MIxgWzAzU",
        "colab_type": "code",
        "outputId": "8d598b71-7750-4c54-e42e-a43dd4d01903",
        "colab": {
          "base_uri": "https://localhost:8080/",
          "height": 34
        }
      },
      "source": [
        "'abcde' + 'fg'    # plus operator for strings. C"
      ],
      "execution_count": 184,
      "outputs": [
        {
          "output_type": "execute_result",
          "data": {
            "text/plain": [
              "'abcdefg'"
            ]
          },
          "metadata": {
            "tags": []
          },
          "execution_count": 184
        }
      ]
    },
    {
      "cell_type": "code",
      "metadata": {
        "id": "Pau1baOSzAzW",
        "colab_type": "code",
        "outputId": "7e4fd4f2-4291-4d3a-981f-70f9dcec17c0",
        "colab": {
          "base_uri": "https://localhost:8080/",
          "height": 34
        }
      },
      "source": [
        "not (5 <= 9)      # not is an operator that is a reserved keyword and reverse a boolean"
      ],
      "execution_count": 185,
      "outputs": [
        {
          "output_type": "execute_result",
          "data": {
            "text/plain": [
              "False"
            ]
          },
          "metadata": {
            "tags": []
          },
          "execution_count": 185
        }
      ]
    },
    {
      "cell_type": "code",
      "metadata": {
        "id": "GKCEEGovzAzZ",
        "colab_type": "code",
        "outputId": "2bb80171-f884-4957-e20d-c2b8b89e9d12",
        "colab": {
          "base_uri": "https://localhost:8080/",
          "height": 34
        }
      },
      "source": [
        "7 in [1, 2, 6]    # in operator checks for membership of a list"
      ],
      "execution_count": 186,
      "outputs": [
        {
          "output_type": "execute_result",
          "data": {
            "text/plain": [
              "False"
            ]
          },
          "metadata": {
            "tags": []
          },
          "execution_count": 186
        }
      ]
    },
    {
      "cell_type": "code",
      "metadata": {
        "id": "Fuawf16czAza",
        "colab_type": "code",
        "outputId": "6cbdd67f-4c4f-4426-e5b4-55831f9ffea4",
        "colab": {
          "base_uri": "https://localhost:8080/",
          "height": 34
        }
      },
      "source": [
        "set([1,2,3]) & set([2,3,4])"
      ],
      "execution_count": 187,
      "outputs": [
        {
          "output_type": "execute_result",
          "data": {
            "text/plain": [
              "{2, 3}"
            ]
          },
          "metadata": {
            "tags": []
          },
          "execution_count": 187
        }
      ]
    },
    {
      "cell_type": "code",
      "metadata": {
        "id": "6HT83CHQzAzd",
        "colab_type": "code",
        "colab": {}
      },
      "source": [
        "# [1, 2, 3] - 3  # This code line produces a TypeError"
      ],
      "execution_count": 0,
      "outputs": []
    },
    {
      "cell_type": "code",
      "metadata": {
        "id": "tWuo6NoQzAze",
        "colab_type": "code",
        "colab": {}
      },
      "source": [
        "# a = set([1,2,3])     \n",
        "# a[0]                 # the indexing operator does not work with sets"
      ],
      "execution_count": 0,
      "outputs": []
    },
    {
      "cell_type": "markdown",
      "metadata": {
        "id": "LCOWnGdfzAzg",
        "colab_type": "text"
      },
      "source": [
        "## Getting ready..."
      ]
    },
    {
      "cell_type": "code",
      "metadata": {
        "id": "u317rxxmzAzg",
        "colab_type": "code",
        "outputId": "40044d40-7199-4dff-8a89-4037f3dda774",
        "colab": {
          "base_uri": "https://localhost:8080/",
          "height": 151
        }
      },
      "source": [
        "imdb_score = movie['imdb_score']\n",
        "imdb_score"
      ],
      "execution_count": 190,
      "outputs": [
        {
          "output_type": "execute_result",
          "data": {
            "text/plain": [
              "0       7.9\n",
              "1       7.1\n",
              "2       6.8\n",
              "       ... \n",
              "4913    6.3\n",
              "4914    6.3\n",
              "4915    6.6\n",
              "Name: imdb_score, Length: 4916, dtype: float64"
            ]
          },
          "metadata": {
            "tags": []
          },
          "execution_count": 190
        }
      ]
    },
    {
      "cell_type": "code",
      "metadata": {
        "id": "piOCKIQdzAzi",
        "colab_type": "code",
        "outputId": "a2ccb463-f02c-4cf8-f379-d52d2d666774",
        "colab": {
          "base_uri": "https://localhost:8080/",
          "height": 151
        }
      },
      "source": [
        "imdb_score + 1"
      ],
      "execution_count": 191,
      "outputs": [
        {
          "output_type": "execute_result",
          "data": {
            "text/plain": [
              "0       8.9\n",
              "1       8.1\n",
              "2       7.8\n",
              "       ... \n",
              "4913    7.3\n",
              "4914    7.3\n",
              "4915    7.6\n",
              "Name: imdb_score, Length: 4916, dtype: float64"
            ]
          },
          "metadata": {
            "tags": []
          },
          "execution_count": 191
        }
      ]
    },
    {
      "cell_type": "code",
      "metadata": {
        "id": "5yN3Cuz4zAzk",
        "colab_type": "code",
        "outputId": "20602d13-b753-4533-95de-a5428c5eba9c",
        "colab": {
          "base_uri": "https://localhost:8080/",
          "height": 151
        }
      },
      "source": [
        "imdb_score * 2.5"
      ],
      "execution_count": 192,
      "outputs": [
        {
          "output_type": "execute_result",
          "data": {
            "text/plain": [
              "0       19.75\n",
              "1       17.75\n",
              "2       17.00\n",
              "        ...  \n",
              "4913    15.75\n",
              "4914    15.75\n",
              "4915    16.50\n",
              "Name: imdb_score, Length: 4916, dtype: float64"
            ]
          },
          "metadata": {
            "tags": []
          },
          "execution_count": 192
        }
      ]
    },
    {
      "cell_type": "code",
      "metadata": {
        "id": "P7htIY8ZzAzl",
        "colab_type": "code",
        "outputId": "bc21e2ab-0824-473f-a4e8-c487d162adae",
        "colab": {
          "base_uri": "https://localhost:8080/",
          "height": 151
        }
      },
      "source": [
        "imdb_score // 7"
      ],
      "execution_count": 193,
      "outputs": [
        {
          "output_type": "execute_result",
          "data": {
            "text/plain": [
              "0       1.0\n",
              "1       1.0\n",
              "2       0.0\n",
              "       ... \n",
              "4913    0.0\n",
              "4914    0.0\n",
              "4915    0.0\n",
              "Name: imdb_score, Length: 4916, dtype: float64"
            ]
          },
          "metadata": {
            "tags": []
          },
          "execution_count": 193
        }
      ]
    },
    {
      "cell_type": "code",
      "metadata": {
        "id": "eTFVAZE4zAzn",
        "colab_type": "code",
        "outputId": "ff77dae4-c3a1-4e53-ed4b-3e644715bf57",
        "colab": {
          "base_uri": "https://localhost:8080/",
          "height": 151
        }
      },
      "source": [
        "imdb_score > 7"
      ],
      "execution_count": 194,
      "outputs": [
        {
          "output_type": "execute_result",
          "data": {
            "text/plain": [
              "0        True\n",
              "1        True\n",
              "2       False\n",
              "        ...  \n",
              "4913    False\n",
              "4914    False\n",
              "4915    False\n",
              "Name: imdb_score, Length: 4916, dtype: bool"
            ]
          },
          "metadata": {
            "tags": []
          },
          "execution_count": 194
        }
      ]
    },
    {
      "cell_type": "markdown",
      "metadata": {
        "id": "nXE5kWtIShzP",
        "colab_type": "text"
      },
      "source": [
        "boolean equality determination"
      ]
    },
    {
      "cell_type": "code",
      "metadata": {
        "id": "EcNZQQ6WzAzo",
        "colab_type": "code",
        "colab": {}
      },
      "source": [
        "director = movie['director_name']"
      ],
      "execution_count": 0,
      "outputs": []
    },
    {
      "cell_type": "code",
      "metadata": {
        "id": "m0YG8uUOzAzq",
        "colab_type": "code",
        "outputId": "ca911348-3f60-4b51-feec-c4cabfa864a7",
        "colab": {
          "base_uri": "https://localhost:8080/",
          "height": 151
        }
      },
      "source": [
        "director == 'James Cameron'  # checks if each element in the series is equal to 'James Cameron'"
      ],
      "execution_count": 196,
      "outputs": [
        {
          "output_type": "execute_result",
          "data": {
            "text/plain": [
              "0        True\n",
              "1       False\n",
              "2       False\n",
              "        ...  \n",
              "4913    False\n",
              "4914    False\n",
              "4915    False\n",
              "Name: director_name, Length: 4916, dtype: bool"
            ]
          },
          "metadata": {
            "tags": []
          },
          "execution_count": 196
        }
      ]
    },
    {
      "cell_type": "markdown",
      "metadata": {
        "id": "emcglQQEzAzs",
        "colab_type": "text"
      },
      "source": [
        "## There's more..."
      ]
    },
    {
      "cell_type": "code",
      "metadata": {
        "id": "3BERXttszAzt",
        "colab_type": "code",
        "outputId": "22204b54-c6d9-41de-e05b-a8ab46f9e325",
        "colab": {
          "base_uri": "https://localhost:8080/",
          "height": 151
        }
      },
      "source": [
        "imdb_score.add(1)              # imdb_score + 1"
      ],
      "execution_count": 197,
      "outputs": [
        {
          "output_type": "execute_result",
          "data": {
            "text/plain": [
              "0       8.9\n",
              "1       8.1\n",
              "2       7.8\n",
              "       ... \n",
              "4913    7.3\n",
              "4914    7.3\n",
              "4915    7.6\n",
              "Name: imdb_score, Length: 4916, dtype: float64"
            ]
          },
          "metadata": {
            "tags": []
          },
          "execution_count": 197
        }
      ]
    },
    {
      "cell_type": "code",
      "metadata": {
        "id": "SHrCdtfpzAzu",
        "colab_type": "code",
        "outputId": "c4c73c4c-f3b5-428a-9e21-ee401336c3ed",
        "colab": {
          "base_uri": "https://localhost:8080/",
          "height": 151
        }
      },
      "source": [
        "imdb_score.mul(2.5)            # imdb_score * 2.5"
      ],
      "execution_count": 198,
      "outputs": [
        {
          "output_type": "execute_result",
          "data": {
            "text/plain": [
              "0       19.75\n",
              "1       17.75\n",
              "2       17.00\n",
              "        ...  \n",
              "4913    15.75\n",
              "4914    15.75\n",
              "4915    16.50\n",
              "Name: imdb_score, Length: 4916, dtype: float64"
            ]
          },
          "metadata": {
            "tags": []
          },
          "execution_count": 198
        }
      ]
    },
    {
      "cell_type": "code",
      "metadata": {
        "id": "tRp66jtfzAzw",
        "colab_type": "code",
        "outputId": "767f024d-3deb-45e4-be80-4b40f6f8ea5d",
        "colab": {
          "base_uri": "https://localhost:8080/",
          "height": 151
        }
      },
      "source": [
        "imdb_score.floordiv(7)         # imdb_score // 7"
      ],
      "execution_count": 199,
      "outputs": [
        {
          "output_type": "execute_result",
          "data": {
            "text/plain": [
              "0       1.0\n",
              "1       1.0\n",
              "2       0.0\n",
              "       ... \n",
              "4913    0.0\n",
              "4914    0.0\n",
              "4915    0.0\n",
              "Name: imdb_score, Length: 4916, dtype: float64"
            ]
          },
          "metadata": {
            "tags": []
          },
          "execution_count": 199
        }
      ]
    },
    {
      "cell_type": "code",
      "metadata": {
        "id": "P7QVXvwTzAz0",
        "colab_type": "code",
        "outputId": "7337f853-5c29-412a-c1a1-1eae8bc06b7c",
        "colab": {
          "base_uri": "https://localhost:8080/",
          "height": 151
        }
      },
      "source": [
        "imdb_score.gt(7)               # imdb_score > 7"
      ],
      "execution_count": 200,
      "outputs": [
        {
          "output_type": "execute_result",
          "data": {
            "text/plain": [
              "0        True\n",
              "1        True\n",
              "2       False\n",
              "        ...  \n",
              "4913    False\n",
              "4914    False\n",
              "4915    False\n",
              "Name: imdb_score, Length: 4916, dtype: bool"
            ]
          },
          "metadata": {
            "tags": []
          },
          "execution_count": 200
        }
      ]
    },
    {
      "cell_type": "code",
      "metadata": {
        "id": "jc7fJy5ozAz4",
        "colab_type": "code",
        "outputId": "4d60a7ef-f849-4980-c878-07720e4e0454",
        "colab": {
          "base_uri": "https://localhost:8080/",
          "height": 151
        }
      },
      "source": [
        "director.eq('James Cameron')   # director == 'James Cameron'"
      ],
      "execution_count": 201,
      "outputs": [
        {
          "output_type": "execute_result",
          "data": {
            "text/plain": [
              "0        True\n",
              "1       False\n",
              "2       False\n",
              "        ...  \n",
              "4913    False\n",
              "4914    False\n",
              "4915    False\n",
              "Name: director_name, Length: 4916, dtype: bool"
            ]
          },
          "metadata": {
            "tags": []
          },
          "execution_count": 201
        }
      ]
    },
    {
      "cell_type": "code",
      "metadata": {
        "id": "Zn4OS2jMzAz6",
        "colab_type": "code",
        "outputId": "84def084-fece-43cb-f45d-30e6fdeab497",
        "colab": {
          "base_uri": "https://localhost:8080/",
          "height": 151
        }
      },
      "source": [
        "imdb_score.astype(int).mod(5)  # Casting imdb_score to an int and finding mode 5 for each entry."
      ],
      "execution_count": 202,
      "outputs": [
        {
          "output_type": "execute_result",
          "data": {
            "text/plain": [
              "0       2\n",
              "1       2\n",
              "2       1\n",
              "       ..\n",
              "4913    1\n",
              "4914    1\n",
              "4915    1\n",
              "Name: imdb_score, Length: 4916, dtype: int64"
            ]
          },
          "metadata": {
            "tags": []
          },
          "execution_count": 202
        }
      ]
    },
    {
      "cell_type": "code",
      "metadata": {
        "id": "fh3Q5wlEzAz8",
        "colab_type": "code",
        "colab": {}
      },
      "source": [
        "a = type(1)"
      ],
      "execution_count": 0,
      "outputs": []
    },
    {
      "cell_type": "code",
      "metadata": {
        "id": "HZX4GTv5zAz-",
        "colab_type": "code",
        "outputId": "683883b7-36bc-48c2-de29-4b76d8fecfe1",
        "colab": {
          "base_uri": "https://localhost:8080/",
          "height": 34
        }
      },
      "source": [
        "type(a)"
      ],
      "execution_count": 204,
      "outputs": [
        {
          "output_type": "execute_result",
          "data": {
            "text/plain": [
              "type"
            ]
          },
          "metadata": {
            "tags": []
          },
          "execution_count": 204
        }
      ]
    },
    {
      "cell_type": "code",
      "metadata": {
        "id": "Vc0qwxazzA0B",
        "colab_type": "code",
        "colab": {}
      },
      "source": [
        "a = type(imdb_score)"
      ],
      "execution_count": 0,
      "outputs": []
    },
    {
      "cell_type": "code",
      "metadata": {
        "id": "QKP4R6L8zA0D",
        "colab_type": "code",
        "outputId": "d12d2b75-b1b6-40b3-aaa1-9e56980fd191",
        "colab": {
          "base_uri": "https://localhost:8080/",
          "height": 84
        }
      },
      "source": [
        "a([1,2,3])"
      ],
      "execution_count": 206,
      "outputs": [
        {
          "output_type": "execute_result",
          "data": {
            "text/plain": [
              "0    1\n",
              "1    2\n",
              "2    3\n",
              "dtype: int64"
            ]
          },
          "metadata": {
            "tags": []
          },
          "execution_count": 206
        }
      ]
    },
    {
      "cell_type": "markdown",
      "metadata": {
        "id": "BG5GH3HMzA0F",
        "colab_type": "text"
      },
      "source": [
        "# Chaining Series methods together"
      ]
    },
    {
      "cell_type": "code",
      "metadata": {
        "id": "KANiZkndzA0F",
        "colab_type": "code",
        "colab": {}
      },
      "source": [
        "actor_1_fb_likes = movie['actor_1_facebook_likes']\n",
        "director = movie['director_name']"
      ],
      "execution_count": 0,
      "outputs": []
    },
    {
      "cell_type": "code",
      "metadata": {
        "id": "40uYVHBKzA0H",
        "colab_type": "code",
        "outputId": "ac19d654-4d1d-46d2-95aa-17ba6727869e",
        "colab": {
          "base_uri": "https://localhost:8080/",
          "height": 84
        }
      },
      "source": [
        "director.value_counts().head(3)  # Select the count of unique elements in director and display the first 3"
      ],
      "execution_count": 208,
      "outputs": [
        {
          "output_type": "execute_result",
          "data": {
            "text/plain": [
              "Steven Spielberg    26\n",
              "Woody Allen         22\n",
              "Clint Eastwood      20\n",
              "Name: director_name, dtype: int64"
            ]
          },
          "metadata": {
            "tags": []
          },
          "execution_count": 208
        }
      ]
    },
    {
      "cell_type": "code",
      "metadata": {
        "id": "uPJ-diq3zA0N",
        "colab_type": "code",
        "outputId": "e32b6c42-858a-4b68-e68e-61ecdfcf304f",
        "colab": {
          "base_uri": "https://localhost:8080/",
          "height": 34
        }
      },
      "source": [
        "actor_1_fb_likes.isnull().sum()  # what is the number of NaN values in the actor_1_fb_likes column"
      ],
      "execution_count": 209,
      "outputs": [
        {
          "output_type": "execute_result",
          "data": {
            "text/plain": [
              "7"
            ]
          },
          "metadata": {
            "tags": []
          },
          "execution_count": 209
        }
      ]
    },
    {
      "cell_type": "code",
      "metadata": {
        "id": "clIx7WRAzA0P",
        "colab_type": "code",
        "outputId": "5f30bf77-4492-422c-ffab-91009269aa9c",
        "colab": {
          "base_uri": "https://localhost:8080/",
          "height": 34
        }
      },
      "source": [
        "actor_1_fb_likes.dtype"
      ],
      "execution_count": 210,
      "outputs": [
        {
          "output_type": "execute_result",
          "data": {
            "text/plain": [
              "dtype('float64')"
            ]
          },
          "metadata": {
            "tags": []
          },
          "execution_count": 210
        }
      ]
    },
    {
      "cell_type": "code",
      "metadata": {
        "id": "oo-78l2xzA0V",
        "colab_type": "code",
        "outputId": "9ab521ed-7316-4d2a-ff58-9eac5f3f6df8",
        "colab": {
          "base_uri": "https://localhost:8080/",
          "height": 118
        }
      },
      "source": [
        "# Chaining expressions, first fillna with zero\n",
        "# Then convert the values to int\n",
        "# Then display first 5 rows\n",
        "\n",
        "actor_1_fb_likes.fillna(0)\\\n",
        "                .astype(int)\\\n",
        "                .head()"
      ],
      "execution_count": 211,
      "outputs": [
        {
          "output_type": "execute_result",
          "data": {
            "text/plain": [
              "0     1000\n",
              "1    40000\n",
              "2    11000\n",
              "3    27000\n",
              "4      131\n",
              "Name: actor_1_facebook_likes, dtype: int64"
            ]
          },
          "metadata": {
            "tags": []
          },
          "execution_count": 211
        }
      ]
    },
    {
      "cell_type": "markdown",
      "metadata": {
        "id": "ry-FT-oPzA0X",
        "colab_type": "text"
      },
      "source": [
        "## There's more..."
      ]
    },
    {
      "cell_type": "code",
      "metadata": {
        "id": "xZpXG2njzA0X",
        "colab_type": "code",
        "outputId": "23d5ad3c-0523-4208-855c-e09787eb6f7d",
        "colab": {
          "base_uri": "https://localhost:8080/",
          "height": 34
        }
      },
      "source": [
        "actor_1_fb_likes.isnull()\\\n",
        "                .mean()"
      ],
      "execution_count": 212,
      "outputs": [
        {
          "output_type": "execute_result",
          "data": {
            "text/plain": [
              "0.0014239218877135883"
            ]
          },
          "metadata": {
            "tags": []
          },
          "execution_count": 212
        }
      ]
    },
    {
      "cell_type": "code",
      "metadata": {
        "id": "73fJzBcPzA0Z",
        "colab_type": "code",
        "outputId": "3c1caa7a-74e9-4bf0-8556-e1f4e5d96138",
        "colab": {
          "base_uri": "https://localhost:8080/",
          "height": 118
        }
      },
      "source": [
        "# doing the same code again with parenthesis\n",
        "\n",
        "(actor_1_fb_likes.fillna(0)\n",
        "                 .astype(int)\n",
        "                 .head())"
      ],
      "execution_count": 213,
      "outputs": [
        {
          "output_type": "execute_result",
          "data": {
            "text/plain": [
              "0     1000\n",
              "1    40000\n",
              "2    11000\n",
              "3    27000\n",
              "4      131\n",
              "Name: actor_1_facebook_likes, dtype: int64"
            ]
          },
          "metadata": {
            "tags": []
          },
          "execution_count": 213
        }
      ]
    },
    {
      "cell_type": "markdown",
      "metadata": {
        "id": "oJPTjNiLzA0c",
        "colab_type": "text"
      },
      "source": [
        "# Making a meaningful index"
      ]
    },
    {
      "cell_type": "code",
      "metadata": {
        "id": "3fUO5OKlzA0d",
        "colab_type": "code",
        "outputId": "fcf65de9-cd1b-445e-8de9-ac7c4e293a68",
        "colab": {
          "base_uri": "https://localhost:8080/",
          "height": 34
        }
      },
      "source": [
        "movie.shape"
      ],
      "execution_count": 214,
      "outputs": [
        {
          "output_type": "execute_result",
          "data": {
            "text/plain": [
              "(4916, 28)"
            ]
          },
          "metadata": {
            "tags": []
          },
          "execution_count": 214
        }
      ]
    },
    {
      "cell_type": "code",
      "metadata": {
        "id": "E1IMODeJbYXE",
        "colab_type": "code",
        "colab": {
          "base_uri": "https://localhost:8080/",
          "height": 224
        },
        "outputId": "ec6f2c2d-a69b-4c85-902f-35bc25a25c91"
      },
      "source": [
        "movie.head()"
      ],
      "execution_count": 215,
      "outputs": [
        {
          "output_type": "execute_result",
          "data": {
            "text/html": [
              "<div>\n",
              "<style scoped>\n",
              "    .dataframe tbody tr th:only-of-type {\n",
              "        vertical-align: middle;\n",
              "    }\n",
              "\n",
              "    .dataframe tbody tr th {\n",
              "        vertical-align: top;\n",
              "    }\n",
              "\n",
              "    .dataframe thead th {\n",
              "        text-align: right;\n",
              "    }\n",
              "</style>\n",
              "<table border=\"1\" class=\"dataframe\">\n",
              "  <thead>\n",
              "    <tr style=\"text-align: right;\">\n",
              "      <th></th>\n",
              "      <th>color</th>\n",
              "      <th>director_name</th>\n",
              "      <th>num_critic_for_reviews</th>\n",
              "      <th>duration</th>\n",
              "      <th>...</th>\n",
              "      <th>actor_2_facebook_likes</th>\n",
              "      <th>imdb_score</th>\n",
              "      <th>aspect_ratio</th>\n",
              "      <th>movie_facebook_likes</th>\n",
              "    </tr>\n",
              "  </thead>\n",
              "  <tbody>\n",
              "    <tr>\n",
              "      <th>0</th>\n",
              "      <td>Color</td>\n",
              "      <td>James Cameron</td>\n",
              "      <td>723.0</td>\n",
              "      <td>178.0</td>\n",
              "      <td>...</td>\n",
              "      <td>936.0</td>\n",
              "      <td>7.9</td>\n",
              "      <td>1.78</td>\n",
              "      <td>33000</td>\n",
              "    </tr>\n",
              "    <tr>\n",
              "      <th>1</th>\n",
              "      <td>Color</td>\n",
              "      <td>Gore Verbinski</td>\n",
              "      <td>302.0</td>\n",
              "      <td>169.0</td>\n",
              "      <td>...</td>\n",
              "      <td>5000.0</td>\n",
              "      <td>7.1</td>\n",
              "      <td>2.35</td>\n",
              "      <td>0</td>\n",
              "    </tr>\n",
              "    <tr>\n",
              "      <th>2</th>\n",
              "      <td>Color</td>\n",
              "      <td>Sam Mendes</td>\n",
              "      <td>602.0</td>\n",
              "      <td>148.0</td>\n",
              "      <td>...</td>\n",
              "      <td>393.0</td>\n",
              "      <td>6.8</td>\n",
              "      <td>2.35</td>\n",
              "      <td>85000</td>\n",
              "    </tr>\n",
              "    <tr>\n",
              "      <th>3</th>\n",
              "      <td>Color</td>\n",
              "      <td>Christopher Nolan</td>\n",
              "      <td>813.0</td>\n",
              "      <td>164.0</td>\n",
              "      <td>...</td>\n",
              "      <td>23000.0</td>\n",
              "      <td>8.5</td>\n",
              "      <td>2.35</td>\n",
              "      <td>164000</td>\n",
              "    </tr>\n",
              "    <tr>\n",
              "      <th>4</th>\n",
              "      <td>NaN</td>\n",
              "      <td>Doug Walker</td>\n",
              "      <td>NaN</td>\n",
              "      <td>NaN</td>\n",
              "      <td>...</td>\n",
              "      <td>12.0</td>\n",
              "      <td>7.1</td>\n",
              "      <td>NaN</td>\n",
              "      <td>0</td>\n",
              "    </tr>\n",
              "  </tbody>\n",
              "</table>\n",
              "<p>5 rows × 28 columns</p>\n",
              "</div>"
            ],
            "text/plain": [
              "   color      director_name  num_critic_for_reviews  duration  ...  \\\n",
              "0  Color      James Cameron                   723.0     178.0  ...   \n",
              "1  Color     Gore Verbinski                   302.0     169.0  ...   \n",
              "2  Color         Sam Mendes                   602.0     148.0  ...   \n",
              "3  Color  Christopher Nolan                   813.0     164.0  ...   \n",
              "4    NaN        Doug Walker                     NaN       NaN  ...   \n",
              "\n",
              "   actor_2_facebook_likes  imdb_score aspect_ratio  movie_facebook_likes  \n",
              "0                   936.0         7.9         1.78                 33000  \n",
              "1                  5000.0         7.1         2.35                     0  \n",
              "2                   393.0         6.8         2.35                 85000  \n",
              "3                 23000.0         8.5         2.35                164000  \n",
              "4                    12.0         7.1          NaN                     0  \n",
              "\n",
              "[5 rows x 28 columns]"
            ]
          },
          "metadata": {
            "tags": []
          },
          "execution_count": 215
        }
      ]
    },
    {
      "cell_type": "markdown",
      "metadata": {
        "id": "WBiN1rWzb9SJ",
        "colab_type": "text"
      },
      "source": [
        "Defining a new data frame like movie dataframe but by simply setting index to a series in movie dataframe"
      ]
    },
    {
      "cell_type": "code",
      "metadata": {
        "id": "8NjSOdpfzA0f",
        "colab_type": "code",
        "outputId": "9958f2fe-817b-4bf9-8040-20fb9f844673",
        "colab": {
          "base_uri": "https://localhost:8080/",
          "height": 313
        }
      },
      "source": [
        "movie2 = movie.set_index('movie_title')\n",
        "movie2"
      ],
      "execution_count": 216,
      "outputs": [
        {
          "output_type": "execute_result",
          "data": {
            "text/html": [
              "<div>\n",
              "<style scoped>\n",
              "    .dataframe tbody tr th:only-of-type {\n",
              "        vertical-align: middle;\n",
              "    }\n",
              "\n",
              "    .dataframe tbody tr th {\n",
              "        vertical-align: top;\n",
              "    }\n",
              "\n",
              "    .dataframe thead th {\n",
              "        text-align: right;\n",
              "    }\n",
              "</style>\n",
              "<table border=\"1\" class=\"dataframe\">\n",
              "  <thead>\n",
              "    <tr style=\"text-align: right;\">\n",
              "      <th></th>\n",
              "      <th>color</th>\n",
              "      <th>director_name</th>\n",
              "      <th>num_critic_for_reviews</th>\n",
              "      <th>duration</th>\n",
              "      <th>...</th>\n",
              "      <th>actor_2_facebook_likes</th>\n",
              "      <th>imdb_score</th>\n",
              "      <th>aspect_ratio</th>\n",
              "      <th>movie_facebook_likes</th>\n",
              "    </tr>\n",
              "    <tr>\n",
              "      <th>movie_title</th>\n",
              "      <th></th>\n",
              "      <th></th>\n",
              "      <th></th>\n",
              "      <th></th>\n",
              "      <th></th>\n",
              "      <th></th>\n",
              "      <th></th>\n",
              "      <th></th>\n",
              "      <th></th>\n",
              "    </tr>\n",
              "  </thead>\n",
              "  <tbody>\n",
              "    <tr>\n",
              "      <th>Avatar</th>\n",
              "      <td>Color</td>\n",
              "      <td>James Cameron</td>\n",
              "      <td>723.0</td>\n",
              "      <td>178.0</td>\n",
              "      <td>...</td>\n",
              "      <td>936.0</td>\n",
              "      <td>7.9</td>\n",
              "      <td>1.78</td>\n",
              "      <td>33000</td>\n",
              "    </tr>\n",
              "    <tr>\n",
              "      <th>Pirates of the Caribbean: At World's End</th>\n",
              "      <td>Color</td>\n",
              "      <td>Gore Verbinski</td>\n",
              "      <td>302.0</td>\n",
              "      <td>169.0</td>\n",
              "      <td>...</td>\n",
              "      <td>5000.0</td>\n",
              "      <td>7.1</td>\n",
              "      <td>2.35</td>\n",
              "      <td>0</td>\n",
              "    </tr>\n",
              "    <tr>\n",
              "      <th>Spectre</th>\n",
              "      <td>Color</td>\n",
              "      <td>Sam Mendes</td>\n",
              "      <td>602.0</td>\n",
              "      <td>148.0</td>\n",
              "      <td>...</td>\n",
              "      <td>393.0</td>\n",
              "      <td>6.8</td>\n",
              "      <td>2.35</td>\n",
              "      <td>85000</td>\n",
              "    </tr>\n",
              "    <tr>\n",
              "      <th>...</th>\n",
              "      <td>...</td>\n",
              "      <td>...</td>\n",
              "      <td>...</td>\n",
              "      <td>...</td>\n",
              "      <td>...</td>\n",
              "      <td>...</td>\n",
              "      <td>...</td>\n",
              "      <td>...</td>\n",
              "      <td>...</td>\n",
              "    </tr>\n",
              "    <tr>\n",
              "      <th>A Plague So Pleasant</th>\n",
              "      <td>Color</td>\n",
              "      <td>Benjamin Roberds</td>\n",
              "      <td>13.0</td>\n",
              "      <td>76.0</td>\n",
              "      <td>...</td>\n",
              "      <td>0.0</td>\n",
              "      <td>6.3</td>\n",
              "      <td>NaN</td>\n",
              "      <td>16</td>\n",
              "    </tr>\n",
              "    <tr>\n",
              "      <th>Shanghai Calling</th>\n",
              "      <td>Color</td>\n",
              "      <td>Daniel Hsia</td>\n",
              "      <td>14.0</td>\n",
              "      <td>100.0</td>\n",
              "      <td>...</td>\n",
              "      <td>719.0</td>\n",
              "      <td>6.3</td>\n",
              "      <td>2.35</td>\n",
              "      <td>660</td>\n",
              "    </tr>\n",
              "    <tr>\n",
              "      <th>My Date with Drew</th>\n",
              "      <td>Color</td>\n",
              "      <td>Jon Gunn</td>\n",
              "      <td>43.0</td>\n",
              "      <td>90.0</td>\n",
              "      <td>...</td>\n",
              "      <td>23.0</td>\n",
              "      <td>6.6</td>\n",
              "      <td>1.85</td>\n",
              "      <td>456</td>\n",
              "    </tr>\n",
              "  </tbody>\n",
              "</table>\n",
              "<p>4916 rows × 27 columns</p>\n",
              "</div>"
            ],
            "text/plain": [
              "                                          color     director_name  \\\n",
              "movie_title                                                         \n",
              "Avatar                                    Color     James Cameron   \n",
              "Pirates of the Caribbean: At World's End  Color    Gore Verbinski   \n",
              "Spectre                                   Color        Sam Mendes   \n",
              "...                                         ...               ...   \n",
              "A Plague So Pleasant                      Color  Benjamin Roberds   \n",
              "Shanghai Calling                          Color       Daniel Hsia   \n",
              "My Date with Drew                         Color          Jon Gunn   \n",
              "\n",
              "                                          num_critic_for_reviews  duration  \\\n",
              "movie_title                                                                  \n",
              "Avatar                                                     723.0     178.0   \n",
              "Pirates of the Caribbean: At World's End                   302.0     169.0   \n",
              "Spectre                                                    602.0     148.0   \n",
              "...                                                          ...       ...   \n",
              "A Plague So Pleasant                                        13.0      76.0   \n",
              "Shanghai Calling                                            14.0     100.0   \n",
              "My Date with Drew                                           43.0      90.0   \n",
              "\n",
              "                                          ...  actor_2_facebook_likes  \\\n",
              "movie_title                               ...                           \n",
              "Avatar                                    ...                   936.0   \n",
              "Pirates of the Caribbean: At World's End  ...                  5000.0   \n",
              "Spectre                                   ...                   393.0   \n",
              "...                                       ...                     ...   \n",
              "A Plague So Pleasant                      ...                     0.0   \n",
              "Shanghai Calling                          ...                   719.0   \n",
              "My Date with Drew                         ...                    23.0   \n",
              "\n",
              "                                          imdb_score aspect_ratio  \\\n",
              "movie_title                                                         \n",
              "Avatar                                           7.9         1.78   \n",
              "Pirates of the Caribbean: At World's End         7.1         2.35   \n",
              "Spectre                                          6.8         2.35   \n",
              "...                                              ...          ...   \n",
              "A Plague So Pleasant                             6.3          NaN   \n",
              "Shanghai Calling                                 6.3         2.35   \n",
              "My Date with Drew                                6.6         1.85   \n",
              "\n",
              "                                          movie_facebook_likes  \n",
              "movie_title                                                     \n",
              "Avatar                                                   33000  \n",
              "Pirates of the Caribbean: At World's End                     0  \n",
              "Spectre                                                  85000  \n",
              "...                                                        ...  \n",
              "A Plague So Pleasant                                        16  \n",
              "Shanghai Calling                                           660  \n",
              "My Date with Drew                                          456  \n",
              "\n",
              "[4916 rows x 27 columns]"
            ]
          },
          "metadata": {
            "tags": []
          },
          "execution_count": 216
        }
      ]
    },
    {
      "cell_type": "markdown",
      "metadata": {
        "id": "VFQ8wwlpenG4",
        "colab_type": "text"
      },
      "source": [
        "it is possible to choose a column as the index upon initial read with the index_col parameter of the read_csv function:"
      ]
    },
    {
      "cell_type": "code",
      "metadata": {
        "id": "scpRfEKIzA0h",
        "colab_type": "code",
        "outputId": "ef7359c4-7f7e-4bfd-83f4-4cacc0d245ba",
        "colab": {
          "base_uri": "https://localhost:8080/",
          "height": 313
        }
      },
      "source": [
        "data = StringIO(file)\n",
        "pd.read_csv(data, index_col='movie_title')"
      ],
      "execution_count": 223,
      "outputs": [
        {
          "output_type": "execute_result",
          "data": {
            "text/html": [
              "<div>\n",
              "<style scoped>\n",
              "    .dataframe tbody tr th:only-of-type {\n",
              "        vertical-align: middle;\n",
              "    }\n",
              "\n",
              "    .dataframe tbody tr th {\n",
              "        vertical-align: top;\n",
              "    }\n",
              "\n",
              "    .dataframe thead th {\n",
              "        text-align: right;\n",
              "    }\n",
              "</style>\n",
              "<table border=\"1\" class=\"dataframe\">\n",
              "  <thead>\n",
              "    <tr style=\"text-align: right;\">\n",
              "      <th></th>\n",
              "      <th>color</th>\n",
              "      <th>director_name</th>\n",
              "      <th>num_critic_for_reviews</th>\n",
              "      <th>duration</th>\n",
              "      <th>...</th>\n",
              "      <th>actor_2_facebook_likes</th>\n",
              "      <th>imdb_score</th>\n",
              "      <th>aspect_ratio</th>\n",
              "      <th>movie_facebook_likes</th>\n",
              "    </tr>\n",
              "    <tr>\n",
              "      <th>movie_title</th>\n",
              "      <th></th>\n",
              "      <th></th>\n",
              "      <th></th>\n",
              "      <th></th>\n",
              "      <th></th>\n",
              "      <th></th>\n",
              "      <th></th>\n",
              "      <th></th>\n",
              "      <th></th>\n",
              "    </tr>\n",
              "  </thead>\n",
              "  <tbody>\n",
              "    <tr>\n",
              "      <th>Avatar</th>\n",
              "      <td>Color</td>\n",
              "      <td>James Cameron</td>\n",
              "      <td>723.0</td>\n",
              "      <td>178.0</td>\n",
              "      <td>...</td>\n",
              "      <td>936.0</td>\n",
              "      <td>7.9</td>\n",
              "      <td>1.78</td>\n",
              "      <td>33000</td>\n",
              "    </tr>\n",
              "    <tr>\n",
              "      <th>Pirates of the Caribbean: At World's End</th>\n",
              "      <td>Color</td>\n",
              "      <td>Gore Verbinski</td>\n",
              "      <td>302.0</td>\n",
              "      <td>169.0</td>\n",
              "      <td>...</td>\n",
              "      <td>5000.0</td>\n",
              "      <td>7.1</td>\n",
              "      <td>2.35</td>\n",
              "      <td>0</td>\n",
              "    </tr>\n",
              "    <tr>\n",
              "      <th>Spectre</th>\n",
              "      <td>Color</td>\n",
              "      <td>Sam Mendes</td>\n",
              "      <td>602.0</td>\n",
              "      <td>148.0</td>\n",
              "      <td>...</td>\n",
              "      <td>393.0</td>\n",
              "      <td>6.8</td>\n",
              "      <td>2.35</td>\n",
              "      <td>85000</td>\n",
              "    </tr>\n",
              "    <tr>\n",
              "      <th>...</th>\n",
              "      <td>...</td>\n",
              "      <td>...</td>\n",
              "      <td>...</td>\n",
              "      <td>...</td>\n",
              "      <td>...</td>\n",
              "      <td>...</td>\n",
              "      <td>...</td>\n",
              "      <td>...</td>\n",
              "      <td>...</td>\n",
              "    </tr>\n",
              "    <tr>\n",
              "      <th>A Plague So Pleasant</th>\n",
              "      <td>Color</td>\n",
              "      <td>Benjamin Roberds</td>\n",
              "      <td>13.0</td>\n",
              "      <td>76.0</td>\n",
              "      <td>...</td>\n",
              "      <td>0.0</td>\n",
              "      <td>6.3</td>\n",
              "      <td>NaN</td>\n",
              "      <td>16</td>\n",
              "    </tr>\n",
              "    <tr>\n",
              "      <th>Shanghai Calling</th>\n",
              "      <td>Color</td>\n",
              "      <td>Daniel Hsia</td>\n",
              "      <td>14.0</td>\n",
              "      <td>100.0</td>\n",
              "      <td>...</td>\n",
              "      <td>719.0</td>\n",
              "      <td>6.3</td>\n",
              "      <td>2.35</td>\n",
              "      <td>660</td>\n",
              "    </tr>\n",
              "    <tr>\n",
              "      <th>My Date with Drew</th>\n",
              "      <td>Color</td>\n",
              "      <td>Jon Gunn</td>\n",
              "      <td>43.0</td>\n",
              "      <td>90.0</td>\n",
              "      <td>...</td>\n",
              "      <td>23.0</td>\n",
              "      <td>6.6</td>\n",
              "      <td>1.85</td>\n",
              "      <td>456</td>\n",
              "    </tr>\n",
              "  </tbody>\n",
              "</table>\n",
              "<p>4916 rows × 27 columns</p>\n",
              "</div>"
            ],
            "text/plain": [
              "                                          color     director_name  \\\n",
              "movie_title                                                         \n",
              "Avatar                                    Color     James Cameron   \n",
              "Pirates of the Caribbean: At World's End  Color    Gore Verbinski   \n",
              "Spectre                                   Color        Sam Mendes   \n",
              "...                                         ...               ...   \n",
              "A Plague So Pleasant                      Color  Benjamin Roberds   \n",
              "Shanghai Calling                          Color       Daniel Hsia   \n",
              "My Date with Drew                         Color          Jon Gunn   \n",
              "\n",
              "                                          num_critic_for_reviews  duration  \\\n",
              "movie_title                                                                  \n",
              "Avatar                                                     723.0     178.0   \n",
              "Pirates of the Caribbean: At World's End                   302.0     169.0   \n",
              "Spectre                                                    602.0     148.0   \n",
              "...                                                          ...       ...   \n",
              "A Plague So Pleasant                                        13.0      76.0   \n",
              "Shanghai Calling                                            14.0     100.0   \n",
              "My Date with Drew                                           43.0      90.0   \n",
              "\n",
              "                                          ...  actor_2_facebook_likes  \\\n",
              "movie_title                               ...                           \n",
              "Avatar                                    ...                   936.0   \n",
              "Pirates of the Caribbean: At World's End  ...                  5000.0   \n",
              "Spectre                                   ...                   393.0   \n",
              "...                                       ...                     ...   \n",
              "A Plague So Pleasant                      ...                     0.0   \n",
              "Shanghai Calling                          ...                   719.0   \n",
              "My Date with Drew                         ...                    23.0   \n",
              "\n",
              "                                          imdb_score aspect_ratio  \\\n",
              "movie_title                                                         \n",
              "Avatar                                           7.9         1.78   \n",
              "Pirates of the Caribbean: At World's End         7.1         2.35   \n",
              "Spectre                                          6.8         2.35   \n",
              "...                                              ...          ...   \n",
              "A Plague So Pleasant                             6.3          NaN   \n",
              "Shanghai Calling                                 6.3         2.35   \n",
              "My Date with Drew                                6.6         1.85   \n",
              "\n",
              "                                          movie_facebook_likes  \n",
              "movie_title                                                     \n",
              "Avatar                                                   33000  \n",
              "Pirates of the Caribbean: At World's End                     0  \n",
              "Spectre                                                  85000  \n",
              "...                                                        ...  \n",
              "A Plague So Pleasant                                        16  \n",
              "Shanghai Calling                                           660  \n",
              "My Date with Drew                                          456  \n",
              "\n",
              "[4916 rows x 27 columns]"
            ]
          },
          "metadata": {
            "tags": []
          },
          "execution_count": 223
        }
      ]
    },
    {
      "cell_type": "markdown",
      "metadata": {
        "id": "ksX0mbL-zA0i",
        "colab_type": "text"
      },
      "source": [
        "# There's more..."
      ]
    },
    {
      "cell_type": "code",
      "metadata": {
        "id": "w4clOsKwzA0i",
        "colab_type": "code",
        "outputId": "d0f6a1dc-cf5e-4065-87db-e0cc98c2467e",
        "colab": {
          "base_uri": "https://localhost:8080/",
          "height": 283
        }
      },
      "source": [
        "movie2.reset_index()  # resetting the index back to default"
      ],
      "execution_count": 224,
      "outputs": [
        {
          "output_type": "execute_result",
          "data": {
            "text/html": [
              "<div>\n",
              "<style scoped>\n",
              "    .dataframe tbody tr th:only-of-type {\n",
              "        vertical-align: middle;\n",
              "    }\n",
              "\n",
              "    .dataframe tbody tr th {\n",
              "        vertical-align: top;\n",
              "    }\n",
              "\n",
              "    .dataframe thead th {\n",
              "        text-align: right;\n",
              "    }\n",
              "</style>\n",
              "<table border=\"1\" class=\"dataframe\">\n",
              "  <thead>\n",
              "    <tr style=\"text-align: right;\">\n",
              "      <th></th>\n",
              "      <th>movie_title</th>\n",
              "      <th>color</th>\n",
              "      <th>director_name</th>\n",
              "      <th>num_critic_for_reviews</th>\n",
              "      <th>...</th>\n",
              "      <th>actor_2_facebook_likes</th>\n",
              "      <th>imdb_score</th>\n",
              "      <th>aspect_ratio</th>\n",
              "      <th>movie_facebook_likes</th>\n",
              "    </tr>\n",
              "  </thead>\n",
              "  <tbody>\n",
              "    <tr>\n",
              "      <th>0</th>\n",
              "      <td>Avatar</td>\n",
              "      <td>Color</td>\n",
              "      <td>James Cameron</td>\n",
              "      <td>723.0</td>\n",
              "      <td>...</td>\n",
              "      <td>936.0</td>\n",
              "      <td>7.9</td>\n",
              "      <td>1.78</td>\n",
              "      <td>33000</td>\n",
              "    </tr>\n",
              "    <tr>\n",
              "      <th>1</th>\n",
              "      <td>Pirates of the Caribbean: At World's End</td>\n",
              "      <td>Color</td>\n",
              "      <td>Gore Verbinski</td>\n",
              "      <td>302.0</td>\n",
              "      <td>...</td>\n",
              "      <td>5000.0</td>\n",
              "      <td>7.1</td>\n",
              "      <td>2.35</td>\n",
              "      <td>0</td>\n",
              "    </tr>\n",
              "    <tr>\n",
              "      <th>2</th>\n",
              "      <td>Spectre</td>\n",
              "      <td>Color</td>\n",
              "      <td>Sam Mendes</td>\n",
              "      <td>602.0</td>\n",
              "      <td>...</td>\n",
              "      <td>393.0</td>\n",
              "      <td>6.8</td>\n",
              "      <td>2.35</td>\n",
              "      <td>85000</td>\n",
              "    </tr>\n",
              "    <tr>\n",
              "      <th>...</th>\n",
              "      <td>...</td>\n",
              "      <td>...</td>\n",
              "      <td>...</td>\n",
              "      <td>...</td>\n",
              "      <td>...</td>\n",
              "      <td>...</td>\n",
              "      <td>...</td>\n",
              "      <td>...</td>\n",
              "      <td>...</td>\n",
              "    </tr>\n",
              "    <tr>\n",
              "      <th>4913</th>\n",
              "      <td>A Plague So Pleasant</td>\n",
              "      <td>Color</td>\n",
              "      <td>Benjamin Roberds</td>\n",
              "      <td>13.0</td>\n",
              "      <td>...</td>\n",
              "      <td>0.0</td>\n",
              "      <td>6.3</td>\n",
              "      <td>NaN</td>\n",
              "      <td>16</td>\n",
              "    </tr>\n",
              "    <tr>\n",
              "      <th>4914</th>\n",
              "      <td>Shanghai Calling</td>\n",
              "      <td>Color</td>\n",
              "      <td>Daniel Hsia</td>\n",
              "      <td>14.0</td>\n",
              "      <td>...</td>\n",
              "      <td>719.0</td>\n",
              "      <td>6.3</td>\n",
              "      <td>2.35</td>\n",
              "      <td>660</td>\n",
              "    </tr>\n",
              "    <tr>\n",
              "      <th>4915</th>\n",
              "      <td>My Date with Drew</td>\n",
              "      <td>Color</td>\n",
              "      <td>Jon Gunn</td>\n",
              "      <td>43.0</td>\n",
              "      <td>...</td>\n",
              "      <td>23.0</td>\n",
              "      <td>6.6</td>\n",
              "      <td>1.85</td>\n",
              "      <td>456</td>\n",
              "    </tr>\n",
              "  </tbody>\n",
              "</table>\n",
              "<p>4916 rows × 28 columns</p>\n",
              "</div>"
            ],
            "text/plain": [
              "                                   movie_title  color     director_name  \\\n",
              "0                                       Avatar  Color     James Cameron   \n",
              "1     Pirates of the Caribbean: At World's End  Color    Gore Verbinski   \n",
              "2                                      Spectre  Color        Sam Mendes   \n",
              "...                                        ...    ...               ...   \n",
              "4913                      A Plague So Pleasant  Color  Benjamin Roberds   \n",
              "4914                          Shanghai Calling  Color       Daniel Hsia   \n",
              "4915                         My Date with Drew  Color          Jon Gunn   \n",
              "\n",
              "      num_critic_for_reviews  ...  actor_2_facebook_likes  imdb_score  \\\n",
              "0                      723.0  ...                   936.0         7.9   \n",
              "1                      302.0  ...                  5000.0         7.1   \n",
              "2                      602.0  ...                   393.0         6.8   \n",
              "...                      ...  ...                     ...         ...   \n",
              "4913                    13.0  ...                     0.0         6.3   \n",
              "4914                    14.0  ...                   719.0         6.3   \n",
              "4915                    43.0  ...                    23.0         6.6   \n",
              "\n",
              "      aspect_ratio movie_facebook_likes  \n",
              "0             1.78                33000  \n",
              "1             2.35                    0  \n",
              "2             2.35                85000  \n",
              "...            ...                  ...  \n",
              "4913           NaN                   16  \n",
              "4914          2.35                  660  \n",
              "4915          1.85                  456  \n",
              "\n",
              "[4916 rows x 28 columns]"
            ]
          },
          "metadata": {
            "tags": []
          },
          "execution_count": 224
        }
      ]
    },
    {
      "cell_type": "markdown",
      "metadata": {
        "id": "83-rdh9gzA0j",
        "colab_type": "text"
      },
      "source": [
        "# Renaming row and column labels"
      ]
    },
    {
      "cell_type": "code",
      "metadata": {
        "id": "YfAuSInBzA0l",
        "colab_type": "code",
        "colab": {
          "base_uri": "https://localhost:8080/",
          "height": 313
        },
        "outputId": "874f2215-9fed-4a23-f74f-654d708effd0"
      },
      "source": [
        "# If we know from time, which column will be more meaningful for data indexing and analysis,\n",
        "# Then we can specify it on time in the read_csv function by setting index_col parameter\n",
        "\n",
        "data = StringIO(file)\n",
        "\n",
        "movie3 = pd.read_csv(data, index_col='movie_title')\n",
        "\n",
        "movie3"
      ],
      "execution_count": 229,
      "outputs": [
        {
          "output_type": "execute_result",
          "data": {
            "text/html": [
              "<div>\n",
              "<style scoped>\n",
              "    .dataframe tbody tr th:only-of-type {\n",
              "        vertical-align: middle;\n",
              "    }\n",
              "\n",
              "    .dataframe tbody tr th {\n",
              "        vertical-align: top;\n",
              "    }\n",
              "\n",
              "    .dataframe thead th {\n",
              "        text-align: right;\n",
              "    }\n",
              "</style>\n",
              "<table border=\"1\" class=\"dataframe\">\n",
              "  <thead>\n",
              "    <tr style=\"text-align: right;\">\n",
              "      <th></th>\n",
              "      <th>color</th>\n",
              "      <th>director_name</th>\n",
              "      <th>num_critic_for_reviews</th>\n",
              "      <th>duration</th>\n",
              "      <th>...</th>\n",
              "      <th>actor_2_facebook_likes</th>\n",
              "      <th>imdb_score</th>\n",
              "      <th>aspect_ratio</th>\n",
              "      <th>movie_facebook_likes</th>\n",
              "    </tr>\n",
              "    <tr>\n",
              "      <th>movie_title</th>\n",
              "      <th></th>\n",
              "      <th></th>\n",
              "      <th></th>\n",
              "      <th></th>\n",
              "      <th></th>\n",
              "      <th></th>\n",
              "      <th></th>\n",
              "      <th></th>\n",
              "      <th></th>\n",
              "    </tr>\n",
              "  </thead>\n",
              "  <tbody>\n",
              "    <tr>\n",
              "      <th>Avatar</th>\n",
              "      <td>Color</td>\n",
              "      <td>James Cameron</td>\n",
              "      <td>723.0</td>\n",
              "      <td>178.0</td>\n",
              "      <td>...</td>\n",
              "      <td>936.0</td>\n",
              "      <td>7.9</td>\n",
              "      <td>1.78</td>\n",
              "      <td>33000</td>\n",
              "    </tr>\n",
              "    <tr>\n",
              "      <th>Pirates of the Caribbean: At World's End</th>\n",
              "      <td>Color</td>\n",
              "      <td>Gore Verbinski</td>\n",
              "      <td>302.0</td>\n",
              "      <td>169.0</td>\n",
              "      <td>...</td>\n",
              "      <td>5000.0</td>\n",
              "      <td>7.1</td>\n",
              "      <td>2.35</td>\n",
              "      <td>0</td>\n",
              "    </tr>\n",
              "    <tr>\n",
              "      <th>Spectre</th>\n",
              "      <td>Color</td>\n",
              "      <td>Sam Mendes</td>\n",
              "      <td>602.0</td>\n",
              "      <td>148.0</td>\n",
              "      <td>...</td>\n",
              "      <td>393.0</td>\n",
              "      <td>6.8</td>\n",
              "      <td>2.35</td>\n",
              "      <td>85000</td>\n",
              "    </tr>\n",
              "    <tr>\n",
              "      <th>...</th>\n",
              "      <td>...</td>\n",
              "      <td>...</td>\n",
              "      <td>...</td>\n",
              "      <td>...</td>\n",
              "      <td>...</td>\n",
              "      <td>...</td>\n",
              "      <td>...</td>\n",
              "      <td>...</td>\n",
              "      <td>...</td>\n",
              "    </tr>\n",
              "    <tr>\n",
              "      <th>A Plague So Pleasant</th>\n",
              "      <td>Color</td>\n",
              "      <td>Benjamin Roberds</td>\n",
              "      <td>13.0</td>\n",
              "      <td>76.0</td>\n",
              "      <td>...</td>\n",
              "      <td>0.0</td>\n",
              "      <td>6.3</td>\n",
              "      <td>NaN</td>\n",
              "      <td>16</td>\n",
              "    </tr>\n",
              "    <tr>\n",
              "      <th>Shanghai Calling</th>\n",
              "      <td>Color</td>\n",
              "      <td>Daniel Hsia</td>\n",
              "      <td>14.0</td>\n",
              "      <td>100.0</td>\n",
              "      <td>...</td>\n",
              "      <td>719.0</td>\n",
              "      <td>6.3</td>\n",
              "      <td>2.35</td>\n",
              "      <td>660</td>\n",
              "    </tr>\n",
              "    <tr>\n",
              "      <th>My Date with Drew</th>\n",
              "      <td>Color</td>\n",
              "      <td>Jon Gunn</td>\n",
              "      <td>43.0</td>\n",
              "      <td>90.0</td>\n",
              "      <td>...</td>\n",
              "      <td>23.0</td>\n",
              "      <td>6.6</td>\n",
              "      <td>1.85</td>\n",
              "      <td>456</td>\n",
              "    </tr>\n",
              "  </tbody>\n",
              "</table>\n",
              "<p>4916 rows × 27 columns</p>\n",
              "</div>"
            ],
            "text/plain": [
              "                                          color     director_name  \\\n",
              "movie_title                                                         \n",
              "Avatar                                    Color     James Cameron   \n",
              "Pirates of the Caribbean: At World's End  Color    Gore Verbinski   \n",
              "Spectre                                   Color        Sam Mendes   \n",
              "...                                         ...               ...   \n",
              "A Plague So Pleasant                      Color  Benjamin Roberds   \n",
              "Shanghai Calling                          Color       Daniel Hsia   \n",
              "My Date with Drew                         Color          Jon Gunn   \n",
              "\n",
              "                                          num_critic_for_reviews  duration  \\\n",
              "movie_title                                                                  \n",
              "Avatar                                                     723.0     178.0   \n",
              "Pirates of the Caribbean: At World's End                   302.0     169.0   \n",
              "Spectre                                                    602.0     148.0   \n",
              "...                                                          ...       ...   \n",
              "A Plague So Pleasant                                        13.0      76.0   \n",
              "Shanghai Calling                                            14.0     100.0   \n",
              "My Date with Drew                                           43.0      90.0   \n",
              "\n",
              "                                          ...  actor_2_facebook_likes  \\\n",
              "movie_title                               ...                           \n",
              "Avatar                                    ...                   936.0   \n",
              "Pirates of the Caribbean: At World's End  ...                  5000.0   \n",
              "Spectre                                   ...                   393.0   \n",
              "...                                       ...                     ...   \n",
              "A Plague So Pleasant                      ...                     0.0   \n",
              "Shanghai Calling                          ...                   719.0   \n",
              "My Date with Drew                         ...                    23.0   \n",
              "\n",
              "                                          imdb_score aspect_ratio  \\\n",
              "movie_title                                                         \n",
              "Avatar                                           7.9         1.78   \n",
              "Pirates of the Caribbean: At World's End         7.1         2.35   \n",
              "Spectre                                          6.8         2.35   \n",
              "...                                              ...          ...   \n",
              "A Plague So Pleasant                             6.3          NaN   \n",
              "Shanghai Calling                                 6.3         2.35   \n",
              "My Date with Drew                                6.6         1.85   \n",
              "\n",
              "                                          movie_facebook_likes  \n",
              "movie_title                                                     \n",
              "Avatar                                                   33000  \n",
              "Pirates of the Caribbean: At World's End                     0  \n",
              "Spectre                                                  85000  \n",
              "...                                                        ...  \n",
              "A Plague So Pleasant                                        16  \n",
              "Shanghai Calling                                           660  \n",
              "My Date with Drew                                          456  \n",
              "\n",
              "[4916 rows x 27 columns]"
            ]
          },
          "metadata": {
            "tags": []
          },
          "execution_count": 229
        }
      ]
    },
    {
      "cell_type": "markdown",
      "metadata": {
        "id": "w-Zo_ilkhVEH",
        "colab_type": "text"
      },
      "source": [
        "<h3>By default, both set_index and read_csv drop the column used as the index from the DataFrame. With set_index, it is possible to keep the column in the DataFrame by setting the drop parameter to False.\n",
        "\n",
        "There's more...\n",
        "Conversely, it is possible to turn the index into a column with the reset_index method. This will make movie_title a column again and revert the index back to a RangeIndex. reset_index always puts the column as the very first one in the DataFrame, so the columns may not be in their original order:</h3>"
      ]
    },
    {
      "cell_type": "code",
      "metadata": {
        "id": "EYtqNimvf9Dp",
        "colab_type": "code",
        "colab": {
          "base_uri": "https://localhost:8080/",
          "height": 34
        },
        "outputId": "0fcf310f-ee72-4836-92b2-6d5cd11ba14e"
      },
      "source": [
        "'movie_title' in movie3.columns  # the movie_title col has become the index so it no longer exists as a column"
      ],
      "execution_count": 233,
      "outputs": [
        {
          "output_type": "execute_result",
          "data": {
            "text/plain": [
              "False"
            ]
          },
          "metadata": {
            "tags": []
          },
          "execution_count": 233
        }
      ]
    },
    {
      "cell_type": "markdown",
      "metadata": {
        "id": "HmTLzpSphtYa",
        "colab_type": "text"
      },
      "source": [
        "Renaming some index and columns"
      ]
    },
    {
      "cell_type": "code",
      "metadata": {
        "id": "ZwuLNU18zA0m",
        "colab_type": "code",
        "colab": {}
      },
      "source": [
        "indexes_renamed = {'Avatar':'Ratava', 'Spectre': 'Ertceps'} \n",
        "columns_renamed = {'director_name':'Director Name', \n",
        "                       'num_critic_for_reviews': 'Critical Reviews'} "
      ],
      "execution_count": 0,
      "outputs": []
    },
    {
      "cell_type": "code",
      "metadata": {
        "id": "JGKKSJAfzA0n",
        "colab_type": "code",
        "outputId": "644a1e65-10c8-4bc2-f6b0-896a817e6ff0",
        "colab": {
          "base_uri": "https://localhost:8080/",
          "height": 254
        }
      },
      "source": [
        "movie3.rename(index=indexes_renamed, columns=columns_renamed).head()"
      ],
      "execution_count": 235,
      "outputs": [
        {
          "output_type": "execute_result",
          "data": {
            "text/html": [
              "<div>\n",
              "<style scoped>\n",
              "    .dataframe tbody tr th:only-of-type {\n",
              "        vertical-align: middle;\n",
              "    }\n",
              "\n",
              "    .dataframe tbody tr th {\n",
              "        vertical-align: top;\n",
              "    }\n",
              "\n",
              "    .dataframe thead th {\n",
              "        text-align: right;\n",
              "    }\n",
              "</style>\n",
              "<table border=\"1\" class=\"dataframe\">\n",
              "  <thead>\n",
              "    <tr style=\"text-align: right;\">\n",
              "      <th></th>\n",
              "      <th>color</th>\n",
              "      <th>Director Name</th>\n",
              "      <th>Critical Reviews</th>\n",
              "      <th>duration</th>\n",
              "      <th>...</th>\n",
              "      <th>actor_2_facebook_likes</th>\n",
              "      <th>imdb_score</th>\n",
              "      <th>aspect_ratio</th>\n",
              "      <th>movie_facebook_likes</th>\n",
              "    </tr>\n",
              "    <tr>\n",
              "      <th>movie_title</th>\n",
              "      <th></th>\n",
              "      <th></th>\n",
              "      <th></th>\n",
              "      <th></th>\n",
              "      <th></th>\n",
              "      <th></th>\n",
              "      <th></th>\n",
              "      <th></th>\n",
              "      <th></th>\n",
              "    </tr>\n",
              "  </thead>\n",
              "  <tbody>\n",
              "    <tr>\n",
              "      <th>Ratava</th>\n",
              "      <td>Color</td>\n",
              "      <td>James Cameron</td>\n",
              "      <td>723.0</td>\n",
              "      <td>178.0</td>\n",
              "      <td>...</td>\n",
              "      <td>936.0</td>\n",
              "      <td>7.9</td>\n",
              "      <td>1.78</td>\n",
              "      <td>33000</td>\n",
              "    </tr>\n",
              "    <tr>\n",
              "      <th>Pirates of the Caribbean: At World's End</th>\n",
              "      <td>Color</td>\n",
              "      <td>Gore Verbinski</td>\n",
              "      <td>302.0</td>\n",
              "      <td>169.0</td>\n",
              "      <td>...</td>\n",
              "      <td>5000.0</td>\n",
              "      <td>7.1</td>\n",
              "      <td>2.35</td>\n",
              "      <td>0</td>\n",
              "    </tr>\n",
              "    <tr>\n",
              "      <th>Ertceps</th>\n",
              "      <td>Color</td>\n",
              "      <td>Sam Mendes</td>\n",
              "      <td>602.0</td>\n",
              "      <td>148.0</td>\n",
              "      <td>...</td>\n",
              "      <td>393.0</td>\n",
              "      <td>6.8</td>\n",
              "      <td>2.35</td>\n",
              "      <td>85000</td>\n",
              "    </tr>\n",
              "    <tr>\n",
              "      <th>The Dark Knight Rises</th>\n",
              "      <td>Color</td>\n",
              "      <td>Christopher Nolan</td>\n",
              "      <td>813.0</td>\n",
              "      <td>164.0</td>\n",
              "      <td>...</td>\n",
              "      <td>23000.0</td>\n",
              "      <td>8.5</td>\n",
              "      <td>2.35</td>\n",
              "      <td>164000</td>\n",
              "    </tr>\n",
              "    <tr>\n",
              "      <th>Star Wars: Episode VII - The Force Awakens</th>\n",
              "      <td>NaN</td>\n",
              "      <td>Doug Walker</td>\n",
              "      <td>NaN</td>\n",
              "      <td>NaN</td>\n",
              "      <td>...</td>\n",
              "      <td>12.0</td>\n",
              "      <td>7.1</td>\n",
              "      <td>NaN</td>\n",
              "      <td>0</td>\n",
              "    </tr>\n",
              "  </tbody>\n",
              "</table>\n",
              "<p>5 rows × 27 columns</p>\n",
              "</div>"
            ],
            "text/plain": [
              "                                            color      Director Name  \\\n",
              "movie_title                                                            \n",
              "Ratava                                      Color      James Cameron   \n",
              "Pirates of the Caribbean: At World's End    Color     Gore Verbinski   \n",
              "Ertceps                                     Color         Sam Mendes   \n",
              "The Dark Knight Rises                       Color  Christopher Nolan   \n",
              "Star Wars: Episode VII - The Force Awakens    NaN        Doug Walker   \n",
              "\n",
              "                                            Critical Reviews  duration  ...  \\\n",
              "movie_title                                                             ...   \n",
              "Ratava                                                 723.0     178.0  ...   \n",
              "Pirates of the Caribbean: At World's End               302.0     169.0  ...   \n",
              "Ertceps                                                602.0     148.0  ...   \n",
              "The Dark Knight Rises                                  813.0     164.0  ...   \n",
              "Star Wars: Episode VII - The Force Awakens               NaN       NaN  ...   \n",
              "\n",
              "                                            actor_2_facebook_likes  \\\n",
              "movie_title                                                          \n",
              "Ratava                                                       936.0   \n",
              "Pirates of the Caribbean: At World's End                    5000.0   \n",
              "Ertceps                                                      393.0   \n",
              "The Dark Knight Rises                                      23000.0   \n",
              "Star Wars: Episode VII - The Force Awakens                    12.0   \n",
              "\n",
              "                                            imdb_score aspect_ratio  \\\n",
              "movie_title                                                           \n",
              "Ratava                                             7.9         1.78   \n",
              "Pirates of the Caribbean: At World's End           7.1         2.35   \n",
              "Ertceps                                            6.8         2.35   \n",
              "The Dark Knight Rises                              8.5         2.35   \n",
              "Star Wars: Episode VII - The Force Awakens         7.1          NaN   \n",
              "\n",
              "                                            movie_facebook_likes  \n",
              "movie_title                                                       \n",
              "Ratava                                                     33000  \n",
              "Pirates of the Caribbean: At World's End                       0  \n",
              "Ertceps                                                    85000  \n",
              "The Dark Knight Rises                                     164000  \n",
              "Star Wars: Episode VII - The Force Awakens                     0  \n",
              "\n",
              "[5 rows x 27 columns]"
            ]
          },
          "metadata": {
            "tags": []
          },
          "execution_count": 235
        }
      ]
    },
    {
      "cell_type": "markdown",
      "metadata": {
        "collapsed": true,
        "id": "jGZxBPVGzA0o",
        "colab_type": "text"
      },
      "source": [
        "# There's more\n",
        "\n",
        "How it works...\n",
        "The rename DataFrame method allows for both row and column labels to be renamed at the same time with the index and columns parameters. Each of these parameters may be set to a dictionary that maps old labels to their new values.\n",
        "\n",
        "There's more...\n",
        "There are multiple ways to rename row and column labels. It is possible to reassign the index and column attributes directly to a Python list. This assignment works when the list has the same number of elements as the row and column labels. The following code uses the tolist method on each Index object to create a Python list of labels. It then modifies a couple values in the list and reassigns the list to the attributes index and columns:\n",
        "\n"
      ]
    },
    {
      "cell_type": "code",
      "metadata": {
        "id": "5C1ix3HbzA0o",
        "colab_type": "code",
        "colab": {}
      },
      "source": [
        "data = StringIO(file)\n",
        "\n",
        "movie = pd.read_csv(data, index_col='movie_title')\n",
        "index = movie.index\n",
        "columns = movie.columns\n",
        "\n",
        "index_list = index.tolist()\n",
        "column_list = columns.tolist()\n",
        "\n",
        "index_list[0] = 'Ratava'\n",
        "index_list[2] = 'Ertceps'\n",
        "column_list[1] = 'Director Name'\n",
        "column_list[2] = 'Critical Reviews'"
      ],
      "execution_count": 0,
      "outputs": []
    },
    {
      "cell_type": "code",
      "metadata": {
        "id": "7kWtAsOOzA0r",
        "colab_type": "code",
        "outputId": "1191f366-90b6-472a-e3a2-0f8306e3bdb8",
        "colab": {
          "base_uri": "https://localhost:8080/",
          "height": 34
        }
      },
      "source": [
        "print(index_list[:5])"
      ],
      "execution_count": 237,
      "outputs": [
        {
          "output_type": "stream",
          "text": [
            "['Ratava', \"Pirates of the Caribbean: At World's End\", 'Ertceps', 'The Dark Knight Rises', 'Star Wars: Episode VII - The Force Awakens']\n"
          ],
          "name": "stdout"
        }
      ]
    },
    {
      "cell_type": "code",
      "metadata": {
        "id": "h0I_xrPXzA0s",
        "colab_type": "code",
        "outputId": "cd94b5cf-8618-4766-b9b0-271b8c9e0987",
        "colab": {
          "base_uri": "https://localhost:8080/",
          "height": 54
        }
      },
      "source": [
        "print(column_list)"
      ],
      "execution_count": 238,
      "outputs": [
        {
          "output_type": "stream",
          "text": [
            "['color', 'Director Name', 'Critical Reviews', 'duration', 'director_facebook_likes', 'actor_3_facebook_likes', 'actor_2_name', 'actor_1_facebook_likes', 'gross', 'genres', 'actor_1_name', 'num_voted_users', 'cast_total_facebook_likes', 'actor_3_name', 'facenumber_in_poster', 'plot_keywords', 'movie_imdb_link', 'num_user_for_reviews', 'language', 'country', 'content_rating', 'budget', 'title_year', 'actor_2_facebook_likes', 'imdb_score', 'aspect_ratio', 'movie_facebook_likes']\n"
          ],
          "name": "stdout"
        }
      ]
    },
    {
      "cell_type": "code",
      "metadata": {
        "id": "Xlb2qwgqzA0t",
        "colab_type": "code",
        "colab": {}
      },
      "source": [
        "movie.index = index_list\n",
        "movie.columns = column_list"
      ],
      "execution_count": 0,
      "outputs": []
    },
    {
      "cell_type": "code",
      "metadata": {
        "id": "3mFmBDI-zA0v",
        "colab_type": "code",
        "outputId": "66ba24eb-a032-4484-e0b6-40e318503d45",
        "colab": {
          "base_uri": "https://localhost:8080/",
          "height": 224
        }
      },
      "source": [
        "movie.head()"
      ],
      "execution_count": 242,
      "outputs": [
        {
          "output_type": "execute_result",
          "data": {
            "text/html": [
              "<div>\n",
              "<style scoped>\n",
              "    .dataframe tbody tr th:only-of-type {\n",
              "        vertical-align: middle;\n",
              "    }\n",
              "\n",
              "    .dataframe tbody tr th {\n",
              "        vertical-align: top;\n",
              "    }\n",
              "\n",
              "    .dataframe thead th {\n",
              "        text-align: right;\n",
              "    }\n",
              "</style>\n",
              "<table border=\"1\" class=\"dataframe\">\n",
              "  <thead>\n",
              "    <tr style=\"text-align: right;\">\n",
              "      <th></th>\n",
              "      <th>color</th>\n",
              "      <th>Director Name</th>\n",
              "      <th>Critical Reviews</th>\n",
              "      <th>duration</th>\n",
              "      <th>...</th>\n",
              "      <th>actor_2_facebook_likes</th>\n",
              "      <th>imdb_score</th>\n",
              "      <th>aspect_ratio</th>\n",
              "      <th>movie_facebook_likes</th>\n",
              "    </tr>\n",
              "  </thead>\n",
              "  <tbody>\n",
              "    <tr>\n",
              "      <th>Ratava</th>\n",
              "      <td>Color</td>\n",
              "      <td>James Cameron</td>\n",
              "      <td>723.0</td>\n",
              "      <td>178.0</td>\n",
              "      <td>...</td>\n",
              "      <td>936.0</td>\n",
              "      <td>7.9</td>\n",
              "      <td>1.78</td>\n",
              "      <td>33000</td>\n",
              "    </tr>\n",
              "    <tr>\n",
              "      <th>Pirates of the Caribbean: At World's End</th>\n",
              "      <td>Color</td>\n",
              "      <td>Gore Verbinski</td>\n",
              "      <td>302.0</td>\n",
              "      <td>169.0</td>\n",
              "      <td>...</td>\n",
              "      <td>5000.0</td>\n",
              "      <td>7.1</td>\n",
              "      <td>2.35</td>\n",
              "      <td>0</td>\n",
              "    </tr>\n",
              "    <tr>\n",
              "      <th>Ertceps</th>\n",
              "      <td>Color</td>\n",
              "      <td>Sam Mendes</td>\n",
              "      <td>602.0</td>\n",
              "      <td>148.0</td>\n",
              "      <td>...</td>\n",
              "      <td>393.0</td>\n",
              "      <td>6.8</td>\n",
              "      <td>2.35</td>\n",
              "      <td>85000</td>\n",
              "    </tr>\n",
              "    <tr>\n",
              "      <th>The Dark Knight Rises</th>\n",
              "      <td>Color</td>\n",
              "      <td>Christopher Nolan</td>\n",
              "      <td>813.0</td>\n",
              "      <td>164.0</td>\n",
              "      <td>...</td>\n",
              "      <td>23000.0</td>\n",
              "      <td>8.5</td>\n",
              "      <td>2.35</td>\n",
              "      <td>164000</td>\n",
              "    </tr>\n",
              "    <tr>\n",
              "      <th>Star Wars: Episode VII - The Force Awakens</th>\n",
              "      <td>NaN</td>\n",
              "      <td>Doug Walker</td>\n",
              "      <td>NaN</td>\n",
              "      <td>NaN</td>\n",
              "      <td>...</td>\n",
              "      <td>12.0</td>\n",
              "      <td>7.1</td>\n",
              "      <td>NaN</td>\n",
              "      <td>0</td>\n",
              "    </tr>\n",
              "  </tbody>\n",
              "</table>\n",
              "<p>5 rows × 27 columns</p>\n",
              "</div>"
            ],
            "text/plain": [
              "                                            color      Director Name  \\\n",
              "Ratava                                      Color      James Cameron   \n",
              "Pirates of the Caribbean: At World's End    Color     Gore Verbinski   \n",
              "Ertceps                                     Color         Sam Mendes   \n",
              "The Dark Knight Rises                       Color  Christopher Nolan   \n",
              "Star Wars: Episode VII - The Force Awakens    NaN        Doug Walker   \n",
              "\n",
              "                                            Critical Reviews  duration  ...  \\\n",
              "Ratava                                                 723.0     178.0  ...   \n",
              "Pirates of the Caribbean: At World's End               302.0     169.0  ...   \n",
              "Ertceps                                                602.0     148.0  ...   \n",
              "The Dark Knight Rises                                  813.0     164.0  ...   \n",
              "Star Wars: Episode VII - The Force Awakens               NaN       NaN  ...   \n",
              "\n",
              "                                            actor_2_facebook_likes  \\\n",
              "Ratava                                                       936.0   \n",
              "Pirates of the Caribbean: At World's End                    5000.0   \n",
              "Ertceps                                                      393.0   \n",
              "The Dark Knight Rises                                      23000.0   \n",
              "Star Wars: Episode VII - The Force Awakens                    12.0   \n",
              "\n",
              "                                            imdb_score aspect_ratio  \\\n",
              "Ratava                                             7.9         1.78   \n",
              "Pirates of the Caribbean: At World's End           7.1         2.35   \n",
              "Ertceps                                            6.8         2.35   \n",
              "The Dark Knight Rises                              8.5         2.35   \n",
              "Star Wars: Episode VII - The Force Awakens         7.1          NaN   \n",
              "\n",
              "                                            movie_facebook_likes  \n",
              "Ratava                                                     33000  \n",
              "Pirates of the Caribbean: At World's End                       0  \n",
              "Ertceps                                                    85000  \n",
              "The Dark Knight Rises                                     164000  \n",
              "Star Wars: Episode VII - The Force Awakens                     0  \n",
              "\n",
              "[5 rows x 27 columns]"
            ]
          },
          "metadata": {
            "tags": []
          },
          "execution_count": 242
        }
      ]
    },
    {
      "cell_type": "markdown",
      "metadata": {
        "id": "hsA32L9bzA0w",
        "colab_type": "text"
      },
      "source": [
        "# Creating and deleting columns"
      ]
    },
    {
      "cell_type": "code",
      "metadata": {
        "id": "LvRwN4RWzA0x",
        "colab_type": "code",
        "colab": {}
      },
      "source": [
        "movie['has_seen'] = 0"
      ],
      "execution_count": 0,
      "outputs": []
    },
    {
      "cell_type": "code",
      "metadata": {
        "id": "vqOFdGNtzA0y",
        "colab_type": "code",
        "outputId": "c8434179-91ef-423d-bf35-22724a2859b7",
        "colab": {
          "base_uri": "https://localhost:8080/",
          "height": 168
        }
      },
      "source": [
        "movie.columns"
      ],
      "execution_count": 244,
      "outputs": [
        {
          "output_type": "execute_result",
          "data": {
            "text/plain": [
              "Index(['color', 'Director Name', 'Critical Reviews', 'duration',\n",
              "       'director_facebook_likes', 'actor_3_facebook_likes', 'actor_2_name',\n",
              "       'actor_1_facebook_likes', 'gross', 'genres', 'actor_1_name',\n",
              "       'num_voted_users', 'cast_total_facebook_likes', 'actor_3_name',\n",
              "       'facenumber_in_poster', 'plot_keywords', 'movie_imdb_link',\n",
              "       'num_user_for_reviews', 'language', 'country', 'content_rating',\n",
              "       'budget', 'title_year', 'actor_2_facebook_likes', 'imdb_score',\n",
              "       'aspect_ratio', 'movie_facebook_likes', 'has_seen'],\n",
              "      dtype='object')"
            ]
          },
          "metadata": {
            "tags": []
          },
          "execution_count": 244
        }
      ]
    },
    {
      "cell_type": "code",
      "metadata": {
        "id": "JdahlA_GzA0z",
        "colab_type": "code",
        "colab": {}
      },
      "source": [
        "movie['actor_director_facebook_likes'] = (movie['actor_1_facebook_likes'] + \n",
        "                                              movie['actor_2_facebook_likes'] + \n",
        "                                              movie['actor_3_facebook_likes'] + \n",
        "                                              movie['director_facebook_likes'])"
      ],
      "execution_count": 0,
      "outputs": []
    },
    {
      "cell_type": "code",
      "metadata": {
        "id": "FqQUdVWizA00",
        "colab_type": "code",
        "outputId": "375e272e-3eba-45c3-994c-8e7f2510d54d",
        "colab": {
          "base_uri": "https://localhost:8080/",
          "height": 34
        }
      },
      "source": [
        "movie['actor_director_facebook_likes'].isnull().sum()"
      ],
      "execution_count": 246,
      "outputs": [
        {
          "output_type": "execute_result",
          "data": {
            "text/plain": [
              "122"
            ]
          },
          "metadata": {
            "tags": []
          },
          "execution_count": 246
        }
      ]
    },
    {
      "cell_type": "code",
      "metadata": {
        "id": "1StU3hkvzA03",
        "colab_type": "code",
        "colab": {}
      },
      "source": [
        "movie['actor_director_facebook_likes'] = movie['actor_director_facebook_likes'].fillna(0)"
      ],
      "execution_count": 0,
      "outputs": []
    },
    {
      "cell_type": "code",
      "metadata": {
        "id": "3PNa2AOizA04",
        "colab_type": "code",
        "colab": {}
      },
      "source": [
        "movie['is_cast_likes_more'] = (movie['cast_total_facebook_likes'] >= \n",
        "                                  movie['actor_director_facebook_likes'])"
      ],
      "execution_count": 0,
      "outputs": []
    },
    {
      "cell_type": "markdown",
      "metadata": {
        "id": "jN3qTLqblbOs",
        "colab_type": "text"
      },
      "source": [
        "is_cast_likes_more is now a column of boolean values. We can check whether all the values of this column are True with the all Series method:"
      ]
    },
    {
      "cell_type": "code",
      "metadata": {
        "id": "WF87s7YrzA04",
        "colab_type": "code",
        "outputId": "18894f7e-359d-4606-ce46-8f8a04d06625",
        "colab": {
          "base_uri": "https://localhost:8080/",
          "height": 34
        }
      },
      "source": [
        "movie['is_cast_likes_more'].all()  # Checks if all values are True in the column is_cast_likes_more"
      ],
      "execution_count": 251,
      "outputs": [
        {
          "output_type": "execute_result",
          "data": {
            "text/plain": [
              "False"
            ]
          },
          "metadata": {
            "tags": []
          },
          "execution_count": 251
        }
      ]
    },
    {
      "cell_type": "markdown",
      "metadata": {
        "id": "KkLxG7hllx5u",
        "colab_type": "text"
      },
      "source": [
        "It turns out that there is at least one movie with more actor_director_facebook_likes than cast_total_facebook_likes. It could be that director Facebook likes are not part of the cast total likes. Let's backtrack and delete column actor_director_facebook_likes:"
      ]
    },
    {
      "cell_type": "code",
      "metadata": {
        "id": "QCn_G9mhzA06",
        "colab_type": "code",
        "colab": {}
      },
      "source": [
        "movie = movie.drop('actor_director_facebook_likes', axis='columns')"
      ],
      "execution_count": 0,
      "outputs": []
    },
    {
      "cell_type": "markdown",
      "metadata": {
        "id": "4E300L8dl4st",
        "colab_type": "text"
      },
      "source": [
        "Let's recreate a column of just the total actor likes:"
      ]
    },
    {
      "cell_type": "code",
      "metadata": {
        "id": "2LU0WgWezA08",
        "colab_type": "code",
        "colab": {}
      },
      "source": [
        "movie['actor_total_facebook_likes'] = (movie['actor_1_facebook_likes'] + \n",
        "                                       movie['actor_2_facebook_likes'] + \n",
        "                                       movie['actor_3_facebook_likes'])\n",
        "\n",
        "movie['actor_total_facebook_likes'] = movie['actor_total_facebook_likes'].fillna(0)"
      ],
      "execution_count": 0,
      "outputs": []
    },
    {
      "cell_type": "markdown",
      "metadata": {
        "id": "gcaJZVV8mGJB",
        "colab_type": "text"
      },
      "source": [
        "Check again whether all the values in cast_total_facebook_likes are greater than the actor_total_facebook_likes:"
      ]
    },
    {
      "cell_type": "code",
      "metadata": {
        "id": "WToNjC2izA09",
        "colab_type": "code",
        "outputId": "8d9ecf8b-9256-4818-e27f-c40fe4f1a9c4",
        "colab": {
          "base_uri": "https://localhost:8080/",
          "height": 34
        }
      },
      "source": [
        "movie['is_cast_likes_more'] = movie['cast_total_facebook_likes'] >= \\\n",
        "                                  movie['actor_total_facebook_likes']\n",
        "    \n",
        "movie['is_cast_likes_more'].all()"
      ],
      "execution_count": 254,
      "outputs": [
        {
          "output_type": "execute_result",
          "data": {
            "text/plain": [
              "True"
            ]
          },
          "metadata": {
            "tags": []
          },
          "execution_count": 254
        }
      ]
    },
    {
      "cell_type": "markdown",
      "metadata": {
        "id": "Pka7tUMumQjn",
        "colab_type": "text"
      },
      "source": [
        "Finally, let's calculate the percentage of the cast_total_facebook_likes that come from actor_total_facebook_likes:"
      ]
    },
    {
      "cell_type": "code",
      "metadata": {
        "id": "LdPCiuPFzA0-",
        "colab_type": "code",
        "colab": {}
      },
      "source": [
        "movie['pct_actor_cast_like'] = (movie['actor_total_facebook_likes'] / \n",
        "                                movie['cast_total_facebook_likes'])"
      ],
      "execution_count": 0,
      "outputs": []
    },
    {
      "cell_type": "markdown",
      "metadata": {
        "id": "Jbw8bwdemlXN",
        "colab_type": "text"
      },
      "source": [
        "Let's validate that the min and max of this column fall between 0 and 1:"
      ]
    },
    {
      "cell_type": "code",
      "metadata": {
        "id": "FF-XrW8XzA0_",
        "colab_type": "code",
        "outputId": "3d1d76b0-1a03-441a-b86e-6aceba57b6e3",
        "colab": {
          "base_uri": "https://localhost:8080/",
          "height": 34
        }
      },
      "source": [
        "movie['pct_actor_cast_like'].min(), movie['pct_actor_cast_like'].max() "
      ],
      "execution_count": 256,
      "outputs": [
        {
          "output_type": "execute_result",
          "data": {
            "text/plain": [
              "(0.0, 1.0)"
            ]
          },
          "metadata": {
            "tags": []
          },
          "execution_count": 256
        }
      ]
    },
    {
      "cell_type": "markdown",
      "metadata": {
        "id": "vBuSjJzqm9oj",
        "colab_type": "text"
      },
      "source": [
        "We can then output this column as a Series. First, we need to set the index to the movie title so we can properly identify each value."
      ]
    },
    {
      "cell_type": "code",
      "metadata": {
        "id": "cVkYT8i1m_Ml",
        "colab_type": "code",
        "colab": {
          "base_uri": "https://localhost:8080/",
          "height": 224
        },
        "outputId": "76eaf6cf-4e28-401c-9abe-17df48787d50"
      },
      "source": [
        "movie.reset_index\n",
        "movie.head()"
      ],
      "execution_count": 261,
      "outputs": [
        {
          "output_type": "execute_result",
          "data": {
            "text/html": [
              "<div>\n",
              "<style scoped>\n",
              "    .dataframe tbody tr th:only-of-type {\n",
              "        vertical-align: middle;\n",
              "    }\n",
              "\n",
              "    .dataframe tbody tr th {\n",
              "        vertical-align: top;\n",
              "    }\n",
              "\n",
              "    .dataframe thead th {\n",
              "        text-align: right;\n",
              "    }\n",
              "</style>\n",
              "<table border=\"1\" class=\"dataframe\">\n",
              "  <thead>\n",
              "    <tr style=\"text-align: right;\">\n",
              "      <th></th>\n",
              "      <th>color</th>\n",
              "      <th>Director Name</th>\n",
              "      <th>Critical Reviews</th>\n",
              "      <th>duration</th>\n",
              "      <th>...</th>\n",
              "      <th>has_seen</th>\n",
              "      <th>is_cast_likes_more</th>\n",
              "      <th>actor_total_facebook_likes</th>\n",
              "      <th>pct_actor_cast_like</th>\n",
              "    </tr>\n",
              "  </thead>\n",
              "  <tbody>\n",
              "    <tr>\n",
              "      <th>Ratava</th>\n",
              "      <td>Color</td>\n",
              "      <td>James Cameron</td>\n",
              "      <td>723.0</td>\n",
              "      <td>178.0</td>\n",
              "      <td>...</td>\n",
              "      <td>0</td>\n",
              "      <td>True</td>\n",
              "      <td>2791.0</td>\n",
              "      <td>0.577369</td>\n",
              "    </tr>\n",
              "    <tr>\n",
              "      <th>Pirates of the Caribbean: At World's End</th>\n",
              "      <td>Color</td>\n",
              "      <td>Gore Verbinski</td>\n",
              "      <td>302.0</td>\n",
              "      <td>169.0</td>\n",
              "      <td>...</td>\n",
              "      <td>0</td>\n",
              "      <td>True</td>\n",
              "      <td>46000.0</td>\n",
              "      <td>0.951396</td>\n",
              "    </tr>\n",
              "    <tr>\n",
              "      <th>Ertceps</th>\n",
              "      <td>Color</td>\n",
              "      <td>Sam Mendes</td>\n",
              "      <td>602.0</td>\n",
              "      <td>148.0</td>\n",
              "      <td>...</td>\n",
              "      <td>0</td>\n",
              "      <td>True</td>\n",
              "      <td>11554.0</td>\n",
              "      <td>0.987521</td>\n",
              "    </tr>\n",
              "    <tr>\n",
              "      <th>The Dark Knight Rises</th>\n",
              "      <td>Color</td>\n",
              "      <td>Christopher Nolan</td>\n",
              "      <td>813.0</td>\n",
              "      <td>164.0</td>\n",
              "      <td>...</td>\n",
              "      <td>0</td>\n",
              "      <td>True</td>\n",
              "      <td>73000.0</td>\n",
              "      <td>0.683783</td>\n",
              "    </tr>\n",
              "    <tr>\n",
              "      <th>Star Wars: Episode VII - The Force Awakens</th>\n",
              "      <td>NaN</td>\n",
              "      <td>Doug Walker</td>\n",
              "      <td>NaN</td>\n",
              "      <td>NaN</td>\n",
              "      <td>...</td>\n",
              "      <td>0</td>\n",
              "      <td>True</td>\n",
              "      <td>0.0</td>\n",
              "      <td>0.000000</td>\n",
              "    </tr>\n",
              "  </tbody>\n",
              "</table>\n",
              "<p>5 rows × 31 columns</p>\n",
              "</div>"
            ],
            "text/plain": [
              "                                            color      Director Name  \\\n",
              "Ratava                                      Color      James Cameron   \n",
              "Pirates of the Caribbean: At World's End    Color     Gore Verbinski   \n",
              "Ertceps                                     Color         Sam Mendes   \n",
              "The Dark Knight Rises                       Color  Christopher Nolan   \n",
              "Star Wars: Episode VII - The Force Awakens    NaN        Doug Walker   \n",
              "\n",
              "                                            Critical Reviews  duration  ...  \\\n",
              "Ratava                                                 723.0     178.0  ...   \n",
              "Pirates of the Caribbean: At World's End               302.0     169.0  ...   \n",
              "Ertceps                                                602.0     148.0  ...   \n",
              "The Dark Knight Rises                                  813.0     164.0  ...   \n",
              "Star Wars: Episode VII - The Force Awakens               NaN       NaN  ...   \n",
              "\n",
              "                                            has_seen  is_cast_likes_more  \\\n",
              "Ratava                                             0                True   \n",
              "Pirates of the Caribbean: At World's End           0                True   \n",
              "Ertceps                                            0                True   \n",
              "The Dark Knight Rises                              0                True   \n",
              "Star Wars: Episode VII - The Force Awakens         0                True   \n",
              "\n",
              "                                           actor_total_facebook_likes  \\\n",
              "Ratava                                                         2791.0   \n",
              "Pirates of the Caribbean: At World's End                      46000.0   \n",
              "Ertceps                                                       11554.0   \n",
              "The Dark Knight Rises                                         73000.0   \n",
              "Star Wars: Episode VII - The Force Awakens                        0.0   \n",
              "\n",
              "                                            pct_actor_cast_like  \n",
              "Ratava                                                 0.577369  \n",
              "Pirates of the Caribbean: At World's End               0.951396  \n",
              "Ertceps                                                0.987521  \n",
              "The Dark Knight Rises                                  0.683783  \n",
              "Star Wars: Episode VII - The Force Awakens             0.000000  \n",
              "\n",
              "[5 rows x 31 columns]"
            ]
          },
          "metadata": {
            "tags": []
          },
          "execution_count": 261
        }
      ]
    },
    {
      "cell_type": "markdown",
      "metadata": {
        "id": "Lkm4ClR7n24w",
        "colab_type": "text"
      },
      "source": [
        "<h3>How it works...\n",
        "Many pandas operations are flexible, and column creation is one of them. This recipe assigns both a scalar value, as seen in Step 1, and a Series, as seen in step 2, to create a new column.\n",
        "\n",
        "Step 2 adds four different Series together with the plus operator. Step 3 uses method chaining to find and fill missing values. Step 4 uses the greater than or equal comparison operator to return a boolean Series, which is then evaluated with the all method in step 5 to check whether every single value is True or not.\n",
        "\n",
        "The drop method accepts the name of the row or column to delete. It defaults to dropping rows by the index names. To drop columns you must set the axis parameter to either 1 or columns. The default value for axis is 0 or the string index.\n",
        "\n",
        "Steps 7 and 8 redo the work of step 3 to step 5 without the director_facebook_likes column. Step 9 finally calculates the desired column we wanted since step 4. Step 10 validates that the percentages are between 0 and 1.</h3>."
      ]
    },
    {
      "cell_type": "markdown",
      "metadata": {
        "id": "voa1bFmbzA1B",
        "colab_type": "text"
      },
      "source": [
        "## There's more...\n",
        "\n",
        "It is possible to insert a new column into a specific place in a DataFrame besides the end with the insert method. The insert method takes the integer position of the new column as its first argument, the name of the new column as its second, and the values as its third. You will need to use the get_loc Index method to find the integer location of the column name.\n",
        "\n",
        "The insert method modifies the calling DataFrame in-place, so there won't be an assignment statement. The profit of each movie may be calculated by subtracting budget from gross and inserting it directly after gross with the following:"
      ]
    },
    {
      "cell_type": "code",
      "metadata": {
        "id": "NQ76sU3dzA1C",
        "colab_type": "code",
        "colab": {}
      },
      "source": [
        "profit_index = movie.columns.get_loc('gross') + 1  # This gets the column location of gross and 1 added to make it the index of profit so they be side by side"
      ],
      "execution_count": 0,
      "outputs": []
    },
    {
      "cell_type": "code",
      "metadata": {
        "id": "okbjalqZzA1D",
        "colab_type": "code",
        "colab": {}
      },
      "source": [
        "movie.insert(profit_index, 'profit', movie.gross - movie.budget)"
      ],
      "execution_count": 0,
      "outputs": []
    },
    {
      "cell_type": "code",
      "metadata": {
        "id": "XnOXUsqCzA1D",
        "colab_type": "code",
        "outputId": "f55f52aa-edb0-4669-a28c-b7e67f1cc75a",
        "colab": {
          "base_uri": "https://localhost:8080/",
          "height": 202
        }
      },
      "source": [
        "movie.columns  # we can see that profit is immediately after gross and is the value of gross minus budget"
      ],
      "execution_count": 268,
      "outputs": [
        {
          "output_type": "execute_result",
          "data": {
            "text/plain": [
              "Index(['color', 'Director Name', 'Critical Reviews', 'duration',\n",
              "       'director_facebook_likes', 'actor_3_facebook_likes', 'actor_2_name',\n",
              "       'actor_1_facebook_likes', 'gross', 'profit', 'genres', 'actor_1_name',\n",
              "       'num_voted_users', 'cast_total_facebook_likes', 'actor_3_name',\n",
              "       'facenumber_in_poster', 'plot_keywords', 'movie_imdb_link',\n",
              "       'num_user_for_reviews', 'language', 'country', 'content_rating',\n",
              "       'budget', 'title_year', 'actor_2_facebook_likes', 'imdb_score',\n",
              "       'aspect_ratio', 'movie_facebook_likes', 'has_seen',\n",
              "       'is_cast_likes_more', 'actor_total_facebook_likes',\n",
              "       'pct_actor_cast_like'],\n",
              "      dtype='object')"
            ]
          },
          "metadata": {
            "tags": []
          },
          "execution_count": 268
        }
      ]
    },
    {
      "cell_type": "markdown",
      "metadata": {
        "id": "69WQGzFXpHfP",
        "colab_type": "text"
      },
      "source": [
        "### An alternative to deleting columns with the drop method is to use the del statement:"
      ]
    },
    {
      "cell_type": "code",
      "metadata": {
        "id": "rK-GxRoCzA1E",
        "colab_type": "code",
        "colab": {}
      },
      "source": [
        "del(movie['actor_total_facebook_likes'])"
      ],
      "execution_count": 0,
      "outputs": []
    },
    {
      "cell_type": "code",
      "metadata": {
        "id": "94VNgT55p7Xp",
        "colab_type": "code",
        "colab": {
          "base_uri": "https://localhost:8080/",
          "height": 185
        },
        "outputId": "8156b97d-e611-4123-bbce-95d0c417c30a"
      },
      "source": [
        "movie.columns  # We can see that the actor_total_facebook_likes column has been aptly deleted."
      ],
      "execution_count": 275,
      "outputs": [
        {
          "output_type": "execute_result",
          "data": {
            "text/plain": [
              "Index(['color', 'Director Name', 'Critical Reviews', 'duration',\n",
              "       'director_facebook_likes', 'actor_3_facebook_likes', 'actor_2_name',\n",
              "       'actor_1_facebook_likes', 'gross', 'profit', 'genres', 'actor_1_name',\n",
              "       'num_voted_users', 'cast_total_facebook_likes', 'actor_3_name',\n",
              "       'facenumber_in_poster', 'plot_keywords', 'movie_imdb_link',\n",
              "       'num_user_for_reviews', 'language', 'country', 'content_rating',\n",
              "       'budget', 'title_year', 'actor_2_facebook_likes', 'imdb_score',\n",
              "       'aspect_ratio', 'movie_facebook_likes', 'has_seen',\n",
              "       'is_cast_likes_more', 'pct_actor_cast_like'],\n",
              "      dtype='object')"
            ]
          },
          "metadata": {
            "tags": []
          },
          "execution_count": 275
        }
      ]
    },
    {
      "cell_type": "code",
      "metadata": {
        "id": "o4RWDy6tzA1H",
        "colab_type": "code",
        "colab": {}
      },
      "source": [
        ""
      ],
      "execution_count": 0,
      "outputs": []
    }
  ]
}