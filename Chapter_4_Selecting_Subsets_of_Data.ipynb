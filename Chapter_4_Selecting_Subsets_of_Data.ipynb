{
  "nbformat": 4,
  "nbformat_minor": 0,
  "metadata": {
    "colab": {
      "name": "Chapter 4 Selecting Subsets of Data.ipynb",
      "version": "0.3.2",
      "provenance": [],
      "collapsed_sections": [
        "WDG3f8LZCTaC",
        "KIzXVvKcCTas",
        "6YHlOvlDCTaz",
        "3t40NoArCTbA",
        "XT4EDlYdCTbE"
      ],
      "include_colab_link": true
    },
    "language_info": {
      "codemirror_mode": {
        "name": "ipython",
        "version": 3
      },
      "file_extension": ".py",
      "mimetype": "text/x-python",
      "name": "python",
      "nbconvert_exporter": "python",
      "pygments_lexer": "ipython3",
      "version": "3.6.1"
    },
    "kernelspec": {
      "display_name": "Python 3",
      "language": "python",
      "name": "python3"
    }
  },
  "cells": [
    {
      "cell_type": "markdown",
      "metadata": {
        "id": "view-in-github",
        "colab_type": "text"
      },
      "source": [
        "<a href=\"https://colab.research.google.com/github/Blackman9t/PandasCookbook/blob/master/Chapter_4_Selecting_Subsets_of_Data.ipynb\" target=\"_parent\"><img src=\"https://colab.research.google.com/assets/colab-badge.svg\" alt=\"Open In Colab\"/></a>"
      ]
    },
    {
      "cell_type": "code",
      "metadata": {
        "id": "p7WsP4EsCTXw",
        "colab_type": "code",
        "colab": {}
      },
      "source": [
        "import pandas as pd\n",
        "import numpy as np"
      ],
      "execution_count": 0,
      "outputs": []
    },
    {
      "cell_type": "markdown",
      "metadata": {
        "id": "5IssWIVUCTX3",
        "colab_type": "text"
      },
      "source": [
        "# Selecting Series data"
      ]
    },
    {
      "cell_type": "markdown",
      "metadata": {
        "id": "iEn5xK7vSo0h",
        "colab_type": "text"
      },
      "source": [
        "Step1: Read in the college dataset with the institution name as the index, and select a single column as a Series with the indexing operator:"
      ]
    },
    {
      "cell_type": "code",
      "metadata": {
        "id": "EhC86kuyCTX4",
        "colab_type": "code",
        "outputId": "a57a2b62-1f41-472d-84d7-ac1b69d0236d",
        "colab": {
          "base_uri": "https://localhost:8080/",
          "height": 134
        }
      },
      "source": [
        "college = pd.read_csv('https://raw.githubusercontent.com/Blackman9t/PandasCookbook/master/college.csv', index_col='INSTNM')\n",
        "city = college['CITY']\n",
        "city.head()"
      ],
      "execution_count": 0,
      "outputs": [
        {
          "output_type": "execute_result",
          "data": {
            "text/plain": [
              "INSTNM\n",
              "Alabama A & M University                   Normal\n",
              "University of Alabama at Birmingham    Birmingham\n",
              "Amridge University                     Montgomery\n",
              "University of Alabama in Huntsville    Huntsville\n",
              "Alabama State University               Montgomery\n",
              "Name: CITY, dtype: object"
            ]
          },
          "metadata": {
            "tags": []
          },
          "execution_count": 2
        }
      ]
    },
    {
      "cell_type": "markdown",
      "metadata": {
        "id": "YIEm3tYdSxi2",
        "colab_type": "text"
      },
      "source": [
        "Step2: The .iloc indexer makes selections only by integer location. Passing an integer to it returns a scalar value:"
      ]
    },
    {
      "cell_type": "code",
      "metadata": {
        "id": "7y4MZIvfCTX_",
        "colab_type": "code",
        "outputId": "af933f30-574f-4411-fa15-d7d2d8f2d811",
        "colab": {
          "base_uri": "https://localhost:8080/",
          "height": 34
        }
      },
      "source": [
        "city.iloc[3]"
      ],
      "execution_count": 0,
      "outputs": [
        {
          "output_type": "execute_result",
          "data": {
            "text/plain": [
              "'Huntsville'"
            ]
          },
          "metadata": {
            "tags": []
          },
          "execution_count": 5
        }
      ]
    },
    {
      "cell_type": "markdown",
      "metadata": {
        "id": "kboXwYZJS61_",
        "colab_type": "text"
      },
      "source": [
        "Step3: To select several different integer locations, pass a list to .iloc. This returns a Series:"
      ]
    },
    {
      "cell_type": "code",
      "metadata": {
        "id": "EV2x-hyICTYD",
        "colab_type": "code",
        "outputId": "cf1ea972-7061-46b8-ea75-8b273c14a069",
        "colab": {
          "base_uri": "https://localhost:8080/",
          "height": 101
        }
      },
      "source": [
        "city.iloc[[10,20,30]]"
      ],
      "execution_count": 0,
      "outputs": [
        {
          "output_type": "execute_result",
          "data": {
            "text/plain": [
              "INSTNM\n",
              "Birmingham Southern College                            Birmingham\n",
              "George C Wallace State Community College-Hanceville    Hanceville\n",
              "Judson College                                             Marion\n",
              "Name: CITY, dtype: object"
            ]
          },
          "metadata": {
            "tags": []
          },
          "execution_count": 4
        }
      ]
    },
    {
      "cell_type": "markdown",
      "metadata": {
        "id": "IS5tnfUGTDm6",
        "colab_type": "text"
      },
      "source": [
        "Step4: To select an equally spaced partition of data, use slice notation:"
      ]
    },
    {
      "cell_type": "code",
      "metadata": {
        "id": "uX-JbrepCTYH",
        "colab_type": "code",
        "outputId": "99071a49-7c63-43b7-ff47-ae56c7f88df5",
        "colab": {
          "base_uri": "https://localhost:8080/",
          "height": 134
        }
      },
      "source": [
        "city.iloc[4:50:10]"
      ],
      "execution_count": 0,
      "outputs": [
        {
          "output_type": "execute_result",
          "data": {
            "text/plain": [
              "INSTNM\n",
              "Alabama State University              Montgomery\n",
              "Enterprise State Community College    Enterprise\n",
              "Heritage Christian University           Florence\n",
              "Marion Military Institute                 Marion\n",
              "Reid State Technical College           Evergreen\n",
              "Name: CITY, dtype: object"
            ]
          },
          "metadata": {
            "tags": []
          },
          "execution_count": 6
        }
      ]
    },
    {
      "cell_type": "markdown",
      "metadata": {
        "id": "6bSu_4VJTW8L",
        "colab_type": "text"
      },
      "source": [
        "step5: Now we turn to the .loc indexer, which selects only with index labels. Passing a single string returns a scalar value:\n"
      ]
    },
    {
      "cell_type": "code",
      "metadata": {
        "id": "vg1uq3rqCTYL",
        "colab_type": "code",
        "outputId": "cde6021f-e917-40e6-c34b-3987151136bf",
        "colab": {
          "base_uri": "https://localhost:8080/",
          "height": 34
        }
      },
      "source": [
        "city.loc['Heritage Christian University']"
      ],
      "execution_count": 0,
      "outputs": [
        {
          "output_type": "execute_result",
          "data": {
            "text/plain": [
              "'Florence'"
            ]
          },
          "metadata": {
            "tags": []
          },
          "execution_count": 7
        }
      ]
    },
    {
      "cell_type": "markdown",
      "metadata": {
        "id": "ED9W3H7iUFgJ",
        "colab_type": "text"
      },
      "source": [
        "Step6: To select several disjoint labels, use a list:\n"
      ]
    },
    {
      "cell_type": "code",
      "metadata": {
        "id": "J5yi6d5rCTYP",
        "colab_type": "code",
        "outputId": "1503923e-598b-4c6c-ae76-16c75eab6ff0",
        "colab": {
          "base_uri": "https://localhost:8080/",
          "height": 84
        }
      },
      "source": [
        "np.random.seed(1)\n",
        "labels = list(np.random.choice(city.index, 4))\n",
        "labels"
      ],
      "execution_count": 0,
      "outputs": [
        {
          "output_type": "execute_result",
          "data": {
            "text/plain": [
              "['Northwest HVAC/R Training Center',\n",
              " 'California State University-Dominguez Hills',\n",
              " 'Lower Columbia College',\n",
              " 'Southwest Acupuncture College-Boulder']"
            ]
          },
          "metadata": {
            "tags": []
          },
          "execution_count": 12
        }
      ]
    },
    {
      "cell_type": "code",
      "metadata": {
        "id": "NdceS8s9CTYU",
        "colab_type": "code",
        "outputId": "4a70151f-2d7c-4b63-ba49-c4532f3bcedc",
        "colab": {
          "base_uri": "https://localhost:8080/",
          "height": 118
        }
      },
      "source": [
        "city.loc[labels]"
      ],
      "execution_count": 0,
      "outputs": [
        {
          "output_type": "execute_result",
          "data": {
            "text/plain": [
              "INSTNM\n",
              "Northwest HVAC/R Training Center                Spokane\n",
              "California State University-Dominguez Hills      Carson\n",
              "Lower Columbia College                         Longview\n",
              "Southwest Acupuncture College-Boulder           Boulder\n",
              "Name: CITY, dtype: object"
            ]
          },
          "metadata": {
            "tags": []
          },
          "execution_count": 13
        }
      ]
    },
    {
      "cell_type": "markdown",
      "metadata": {
        "id": "B-ERmu4KUfpe",
        "colab_type": "text"
      },
      "source": [
        "Step7: To select an equally spaced partition of data, use slice notation. Make sure that the start and stop values are strings. You can use an integer to specify the step size of the slice:"
      ]
    },
    {
      "cell_type": "code",
      "metadata": {
        "id": "5Ah0IXVlCTYZ",
        "colab_type": "code",
        "outputId": "77e7ce26-847f-451e-c284-c5b0e89034ab",
        "colab": {
          "base_uri": "https://localhost:8080/",
          "height": 134
        }
      },
      "source": [
        "city.loc['Alabama State University':'Reid State Technical College':10]"
      ],
      "execution_count": 0,
      "outputs": [
        {
          "output_type": "execute_result",
          "data": {
            "text/plain": [
              "INSTNM\n",
              "Alabama State University              Montgomery\n",
              "Enterprise State Community College    Enterprise\n",
              "Heritage Christian University           Florence\n",
              "Marion Military Institute                 Marion\n",
              "Reid State Technical College           Evergreen\n",
              "Name: CITY, dtype: object"
            ]
          },
          "metadata": {
            "tags": []
          },
          "execution_count": 15
        }
      ]
    },
    {
      "cell_type": "code",
      "metadata": {
        "id": "AytSQ5T7CTYe",
        "colab_type": "code",
        "outputId": "4a4c6072-fb2c-46c0-d1cb-3c4db9a1599e",
        "colab": {
          "base_uri": "https://localhost:8080/",
          "height": 134
        }
      },
      "source": [
        "city['Alabama State University':'Reid State Technical College':10]"
      ],
      "execution_count": 0,
      "outputs": [
        {
          "output_type": "execute_result",
          "data": {
            "text/plain": [
              "INSTNM\n",
              "Alabama State University              Montgomery\n",
              "Enterprise State Community College    Enterprise\n",
              "Heritage Christian University           Florence\n",
              "Marion Military Institute                 Marion\n",
              "Reid State Technical College           Evergreen\n",
              "Name: CITY, dtype: object"
            ]
          },
          "metadata": {
            "tags": []
          },
          "execution_count": 16
        }
      ]
    },
    {
      "cell_type": "markdown",
      "metadata": {
        "id": "5opp3kVdVtE2",
        "colab_type": "text"
      },
      "source": [
        "How it works...\n",
        "The values in a Series are referenced by integers beginning from 0. Step 2 selects the fourth element of the Series with the .loc indexer. Step 3 passes a three-item integer list to the indexing operator, which returns a Series with those integer locations selected. This feature is an enhancement over a Python list, which is incapable of selecting multiple disjoint items in this manner.\n",
        "\n",
        "In step 4, slice notation with start, stop, and step values specified is used to select an entire section of a Series.\n",
        "\n",
        "Steps 5 through 7 replicate steps 2 through 4 with the label-based indexer, .loc.  The labels must be exact matches of values in the index. To ensure our labels are exact, we choose four labels at random from the index in step 6 and store them to a list before selecting their values as a Series. Selections with the .loc indexer always include the last element, as seen in step 7."
      ]
    },
    {
      "cell_type": "markdown",
      "metadata": {
        "id": "QyvU-p7GCTYi",
        "colab_type": "text"
      },
      "source": [
        "## There's more..."
      ]
    },
    {
      "cell_type": "markdown",
      "metadata": {
        "id": "FxBVdUQ_WRZu",
        "colab_type": "text"
      },
      "source": [
        "When passing a scalar value to the indexing operator, as with step 2 and step 5, a scalar value is returned. When passing a list or slice, as in the other steps, a Series is returned. This returned value might seem inconsistent, but if we think of a Series as a dictionary-like object that maps labels to values, then returning the value makes sense. To select a single item and retain the item in its Series, pass in as a single-item list rather than a scalar value:\n",
        "\n"
      ]
    },
    {
      "cell_type": "code",
      "metadata": {
        "id": "GoIQGRKGCTYj",
        "colab_type": "code",
        "outputId": "23b00e15-b6a0-46ef-9c74-421745489bb0",
        "colab": {}
      },
      "source": [
        "city.iloc[[3]]"
      ],
      "execution_count": 0,
      "outputs": [
        {
          "output_type": "execute_result",
          "data": {
            "text/plain": [
              "INSTNM\n",
              "University of Alabama in Huntsville    Huntsville\n",
              "Name: CITY, dtype: object"
            ]
          },
          "metadata": {
            "tags": []
          },
          "execution_count": 81
        }
      ]
    },
    {
      "cell_type": "markdown",
      "metadata": {
        "id": "btrwkaLOWS2G",
        "colab_type": "text"
      },
      "source": [
        "Care needs to be taken when using slice notation with .loc. If the start index appears after the stop index, then an empty Series is returned without an exception raised:"
      ]
    },
    {
      "cell_type": "code",
      "metadata": {
        "id": "mrf6td0ZCTYm",
        "colab_type": "code",
        "outputId": "ba22d7c7-74d9-4799-cea5-9a7cc73c3f14",
        "colab": {}
      },
      "source": [
        "city.loc['Reid State Technical College':'Alabama State University':10]"
      ],
      "execution_count": 0,
      "outputs": [
        {
          "output_type": "execute_result",
          "data": {
            "text/plain": [
              "Series([], Name: CITY, dtype: object)"
            ]
          },
          "metadata": {
            "tags": []
          },
          "execution_count": 83
        }
      ]
    },
    {
      "cell_type": "code",
      "metadata": {
        "id": "mXpCksqSCTYq",
        "colab_type": "code",
        "outputId": "ce3d643b-c35e-4a6f-986a-3b28d9fc0e50",
        "colab": {}
      },
      "source": [
        "city.loc['Reid State Technical College':'Alabama State University':-10]"
      ],
      "execution_count": 0,
      "outputs": [
        {
          "output_type": "execute_result",
          "data": {
            "text/plain": [
              "INSTNM\n",
              "Reid State Technical College           Evergreen\n",
              "Marion Military Institute                 Marion\n",
              "Heritage Christian University           Florence\n",
              "Enterprise State Community College    Enterprise\n",
              "Alabama State University              Montgomery\n",
              "Name: CITY, dtype: object"
            ]
          },
          "metadata": {
            "tags": []
          },
          "execution_count": 84
        }
      ]
    },
    {
      "cell_type": "markdown",
      "metadata": {
        "id": "pAuG7bJCCTYv",
        "colab_type": "text"
      },
      "source": [
        "# Selecting DataFrame rows"
      ]
    },
    {
      "cell_type": "markdown",
      "metadata": {
        "id": "E5V-QaT4XGTN",
        "colab_type": "text"
      },
      "source": [
        "Step1: Read in the college dataset, and set the index as the institution name:"
      ]
    },
    {
      "cell_type": "code",
      "metadata": {
        "id": "ZvuL9bfZCTYv",
        "colab_type": "code",
        "outputId": "7172a7ff-1a68-400f-c379-6174f366bc5b",
        "colab": {
          "base_uri": "https://localhost:8080/",
          "height": 430
        }
      },
      "source": [
        "college = pd.read_csv('https://raw.githubusercontent.com/Blackman9t/PandasCookbook/master/college.csv', index_col='INSTNM')\n",
        "college.head()"
      ],
      "execution_count": 0,
      "outputs": [
        {
          "output_type": "execute_result",
          "data": {
            "text/html": [
              "<div>\n",
              "<style scoped>\n",
              "    .dataframe tbody tr th:only-of-type {\n",
              "        vertical-align: middle;\n",
              "    }\n",
              "\n",
              "    .dataframe tbody tr th {\n",
              "        vertical-align: top;\n",
              "    }\n",
              "\n",
              "    .dataframe thead th {\n",
              "        text-align: right;\n",
              "    }\n",
              "</style>\n",
              "<table border=\"1\" class=\"dataframe\">\n",
              "  <thead>\n",
              "    <tr style=\"text-align: right;\">\n",
              "      <th></th>\n",
              "      <th>CITY</th>\n",
              "      <th>STABBR</th>\n",
              "      <th>HBCU</th>\n",
              "      <th>MENONLY</th>\n",
              "      <th>WOMENONLY</th>\n",
              "      <th>RELAFFIL</th>\n",
              "      <th>SATVRMID</th>\n",
              "      <th>SATMTMID</th>\n",
              "      <th>DISTANCEONLY</th>\n",
              "      <th>UGDS</th>\n",
              "      <th>UGDS_WHITE</th>\n",
              "      <th>UGDS_BLACK</th>\n",
              "      <th>UGDS_HISP</th>\n",
              "      <th>UGDS_ASIAN</th>\n",
              "      <th>UGDS_AIAN</th>\n",
              "      <th>UGDS_NHPI</th>\n",
              "      <th>UGDS_2MOR</th>\n",
              "      <th>UGDS_NRA</th>\n",
              "      <th>UGDS_UNKN</th>\n",
              "      <th>PPTUG_EF</th>\n",
              "      <th>CURROPER</th>\n",
              "      <th>PCTPELL</th>\n",
              "      <th>PCTFLOAN</th>\n",
              "      <th>UG25ABV</th>\n",
              "      <th>MD_EARN_WNE_P10</th>\n",
              "      <th>GRAD_DEBT_MDN_SUPP</th>\n",
              "    </tr>\n",
              "    <tr>\n",
              "      <th>INSTNM</th>\n",
              "      <th></th>\n",
              "      <th></th>\n",
              "      <th></th>\n",
              "      <th></th>\n",
              "      <th></th>\n",
              "      <th></th>\n",
              "      <th></th>\n",
              "      <th></th>\n",
              "      <th></th>\n",
              "      <th></th>\n",
              "      <th></th>\n",
              "      <th></th>\n",
              "      <th></th>\n",
              "      <th></th>\n",
              "      <th></th>\n",
              "      <th></th>\n",
              "      <th></th>\n",
              "      <th></th>\n",
              "      <th></th>\n",
              "      <th></th>\n",
              "      <th></th>\n",
              "      <th></th>\n",
              "      <th></th>\n",
              "      <th></th>\n",
              "      <th></th>\n",
              "      <th></th>\n",
              "    </tr>\n",
              "  </thead>\n",
              "  <tbody>\n",
              "    <tr>\n",
              "      <th>Alabama A &amp; M University</th>\n",
              "      <td>Normal</td>\n",
              "      <td>AL</td>\n",
              "      <td>1.0</td>\n",
              "      <td>0.0</td>\n",
              "      <td>0.0</td>\n",
              "      <td>0</td>\n",
              "      <td>424.0</td>\n",
              "      <td>420.0</td>\n",
              "      <td>0.0</td>\n",
              "      <td>4206.0</td>\n",
              "      <td>0.0333</td>\n",
              "      <td>0.9353</td>\n",
              "      <td>0.0055</td>\n",
              "      <td>0.0019</td>\n",
              "      <td>0.0024</td>\n",
              "      <td>0.0019</td>\n",
              "      <td>0.0000</td>\n",
              "      <td>0.0059</td>\n",
              "      <td>0.0138</td>\n",
              "      <td>0.0656</td>\n",
              "      <td>1</td>\n",
              "      <td>0.7356</td>\n",
              "      <td>0.8284</td>\n",
              "      <td>0.1049</td>\n",
              "      <td>30300</td>\n",
              "      <td>33888</td>\n",
              "    </tr>\n",
              "    <tr>\n",
              "      <th>University of Alabama at Birmingham</th>\n",
              "      <td>Birmingham</td>\n",
              "      <td>AL</td>\n",
              "      <td>0.0</td>\n",
              "      <td>0.0</td>\n",
              "      <td>0.0</td>\n",
              "      <td>0</td>\n",
              "      <td>570.0</td>\n",
              "      <td>565.0</td>\n",
              "      <td>0.0</td>\n",
              "      <td>11383.0</td>\n",
              "      <td>0.5922</td>\n",
              "      <td>0.2600</td>\n",
              "      <td>0.0283</td>\n",
              "      <td>0.0518</td>\n",
              "      <td>0.0022</td>\n",
              "      <td>0.0007</td>\n",
              "      <td>0.0368</td>\n",
              "      <td>0.0179</td>\n",
              "      <td>0.0100</td>\n",
              "      <td>0.2607</td>\n",
              "      <td>1</td>\n",
              "      <td>0.3460</td>\n",
              "      <td>0.5214</td>\n",
              "      <td>0.2422</td>\n",
              "      <td>39700</td>\n",
              "      <td>21941.5</td>\n",
              "    </tr>\n",
              "    <tr>\n",
              "      <th>Amridge University</th>\n",
              "      <td>Montgomery</td>\n",
              "      <td>AL</td>\n",
              "      <td>0.0</td>\n",
              "      <td>0.0</td>\n",
              "      <td>0.0</td>\n",
              "      <td>1</td>\n",
              "      <td>NaN</td>\n",
              "      <td>NaN</td>\n",
              "      <td>1.0</td>\n",
              "      <td>291.0</td>\n",
              "      <td>0.2990</td>\n",
              "      <td>0.4192</td>\n",
              "      <td>0.0069</td>\n",
              "      <td>0.0034</td>\n",
              "      <td>0.0000</td>\n",
              "      <td>0.0000</td>\n",
              "      <td>0.0000</td>\n",
              "      <td>0.0000</td>\n",
              "      <td>0.2715</td>\n",
              "      <td>0.4536</td>\n",
              "      <td>1</td>\n",
              "      <td>0.6801</td>\n",
              "      <td>0.7795</td>\n",
              "      <td>0.8540</td>\n",
              "      <td>40100</td>\n",
              "      <td>23370</td>\n",
              "    </tr>\n",
              "    <tr>\n",
              "      <th>University of Alabama in Huntsville</th>\n",
              "      <td>Huntsville</td>\n",
              "      <td>AL</td>\n",
              "      <td>0.0</td>\n",
              "      <td>0.0</td>\n",
              "      <td>0.0</td>\n",
              "      <td>0</td>\n",
              "      <td>595.0</td>\n",
              "      <td>590.0</td>\n",
              "      <td>0.0</td>\n",
              "      <td>5451.0</td>\n",
              "      <td>0.6988</td>\n",
              "      <td>0.1255</td>\n",
              "      <td>0.0382</td>\n",
              "      <td>0.0376</td>\n",
              "      <td>0.0143</td>\n",
              "      <td>0.0002</td>\n",
              "      <td>0.0172</td>\n",
              "      <td>0.0332</td>\n",
              "      <td>0.0350</td>\n",
              "      <td>0.2146</td>\n",
              "      <td>1</td>\n",
              "      <td>0.3072</td>\n",
              "      <td>0.4596</td>\n",
              "      <td>0.2640</td>\n",
              "      <td>45500</td>\n",
              "      <td>24097</td>\n",
              "    </tr>\n",
              "    <tr>\n",
              "      <th>Alabama State University</th>\n",
              "      <td>Montgomery</td>\n",
              "      <td>AL</td>\n",
              "      <td>1.0</td>\n",
              "      <td>0.0</td>\n",
              "      <td>0.0</td>\n",
              "      <td>0</td>\n",
              "      <td>425.0</td>\n",
              "      <td>430.0</td>\n",
              "      <td>0.0</td>\n",
              "      <td>4811.0</td>\n",
              "      <td>0.0158</td>\n",
              "      <td>0.9208</td>\n",
              "      <td>0.0121</td>\n",
              "      <td>0.0019</td>\n",
              "      <td>0.0010</td>\n",
              "      <td>0.0006</td>\n",
              "      <td>0.0098</td>\n",
              "      <td>0.0243</td>\n",
              "      <td>0.0137</td>\n",
              "      <td>0.0892</td>\n",
              "      <td>1</td>\n",
              "      <td>0.7347</td>\n",
              "      <td>0.7554</td>\n",
              "      <td>0.1270</td>\n",
              "      <td>26600</td>\n",
              "      <td>33118.5</td>\n",
              "    </tr>\n",
              "  </tbody>\n",
              "</table>\n",
              "</div>"
            ],
            "text/plain": [
              "                                           CITY  ... GRAD_DEBT_MDN_SUPP\n",
              "INSTNM                                           ...                   \n",
              "Alabama A & M University                 Normal  ...              33888\n",
              "University of Alabama at Birmingham  Birmingham  ...            21941.5\n",
              "Amridge University                   Montgomery  ...              23370\n",
              "University of Alabama in Huntsville  Huntsville  ...              24097\n",
              "Alabama State University             Montgomery  ...            33118.5\n",
              "\n",
              "[5 rows x 26 columns]"
            ]
          },
          "metadata": {
            "tags": []
          },
          "execution_count": 17
        }
      ]
    },
    {
      "cell_type": "code",
      "metadata": {
        "id": "Om9jP7ceCTYz",
        "colab_type": "code",
        "colab": {}
      },
      "source": [
        "pd.options.display.max_rows = 6"
      ],
      "execution_count": 0,
      "outputs": []
    },
    {
      "cell_type": "markdown",
      "metadata": {
        "id": "JS6oLqnLXPop",
        "colab_type": "text"
      },
      "source": [
        "Step2: Pass an integer to the .iloc indexer to select an entire row at that position:"
      ]
    },
    {
      "cell_type": "code",
      "metadata": {
        "id": "4jc0TqGKCTY2",
        "colab_type": "code",
        "outputId": "8187d23e-3931-4cb9-f9a3-cd0a318fe628",
        "colab": {
          "base_uri": "https://localhost:8080/",
          "height": 151
        }
      },
      "source": [
        "college.iloc[60]"
      ],
      "execution_count": 0,
      "outputs": [
        {
          "output_type": "execute_result",
          "data": {
            "text/plain": [
              "CITY                  Anchorage\n",
              "STABBR                       AK\n",
              "HBCU                          0\n",
              "                        ...    \n",
              "UG25ABV                  0.4386\n",
              "MD_EARN_WNE_P10           42500\n",
              "GRAD_DEBT_MDN_SUPP      19449.5\n",
              "Name: University of Alaska Anchorage, Length: 26, dtype: object"
            ]
          },
          "metadata": {
            "tags": []
          },
          "execution_count": 19
        }
      ]
    },
    {
      "cell_type": "markdown",
      "metadata": {
        "id": "ZnUMuuZgXZ_b",
        "colab_type": "text"
      },
      "source": [
        "Step3: To get the same row as the preceding step, pass the index label to the .loc indexer:\n"
      ]
    },
    {
      "cell_type": "code",
      "metadata": {
        "id": "BlbCnAFLCTY6",
        "colab_type": "code",
        "outputId": "f630a0af-4ecb-42ee-de52-870c42ded2d9",
        "colab": {
          "base_uri": "https://localhost:8080/",
          "height": 151
        }
      },
      "source": [
        "college.loc['University of Alaska Anchorage']"
      ],
      "execution_count": 0,
      "outputs": [
        {
          "output_type": "execute_result",
          "data": {
            "text/plain": [
              "CITY                  Anchorage\n",
              "STABBR                       AK\n",
              "HBCU                          0\n",
              "                        ...    \n",
              "UG25ABV                  0.4386\n",
              "MD_EARN_WNE_P10           42500\n",
              "GRAD_DEBT_MDN_SUPP      19449.5\n",
              "Name: University of Alaska Anchorage, Length: 26, dtype: object"
            ]
          },
          "metadata": {
            "tags": []
          },
          "execution_count": 20
        }
      ]
    },
    {
      "cell_type": "markdown",
      "metadata": {
        "id": "3ji684N4XrP4",
        "colab_type": "text"
      },
      "source": [
        "Step4: To select a disjointed set of rows as a DataFrame, pass a list of integers to the .iloc indexer:"
      ]
    },
    {
      "cell_type": "code",
      "metadata": {
        "id": "yk7PwAKlCTY8",
        "colab_type": "code",
        "outputId": "a4a13f6e-f361-4491-d0e7-ebae7d9749f8",
        "colab": {
          "base_uri": "https://localhost:8080/",
          "height": 286
        }
      },
      "source": [
        "college.iloc[[60, 99, 3]]"
      ],
      "execution_count": 0,
      "outputs": [
        {
          "output_type": "execute_result",
          "data": {
            "text/html": [
              "<div>\n",
              "<style scoped>\n",
              "    .dataframe tbody tr th:only-of-type {\n",
              "        vertical-align: middle;\n",
              "    }\n",
              "\n",
              "    .dataframe tbody tr th {\n",
              "        vertical-align: top;\n",
              "    }\n",
              "\n",
              "    .dataframe thead th {\n",
              "        text-align: right;\n",
              "    }\n",
              "</style>\n",
              "<table border=\"1\" class=\"dataframe\">\n",
              "  <thead>\n",
              "    <tr style=\"text-align: right;\">\n",
              "      <th></th>\n",
              "      <th>CITY</th>\n",
              "      <th>STABBR</th>\n",
              "      <th>HBCU</th>\n",
              "      <th>MENONLY</th>\n",
              "      <th>WOMENONLY</th>\n",
              "      <th>RELAFFIL</th>\n",
              "      <th>SATVRMID</th>\n",
              "      <th>SATMTMID</th>\n",
              "      <th>DISTANCEONLY</th>\n",
              "      <th>UGDS</th>\n",
              "      <th>UGDS_WHITE</th>\n",
              "      <th>UGDS_BLACK</th>\n",
              "      <th>UGDS_HISP</th>\n",
              "      <th>UGDS_ASIAN</th>\n",
              "      <th>UGDS_AIAN</th>\n",
              "      <th>UGDS_NHPI</th>\n",
              "      <th>UGDS_2MOR</th>\n",
              "      <th>UGDS_NRA</th>\n",
              "      <th>UGDS_UNKN</th>\n",
              "      <th>PPTUG_EF</th>\n",
              "      <th>CURROPER</th>\n",
              "      <th>PCTPELL</th>\n",
              "      <th>PCTFLOAN</th>\n",
              "      <th>UG25ABV</th>\n",
              "      <th>MD_EARN_WNE_P10</th>\n",
              "      <th>GRAD_DEBT_MDN_SUPP</th>\n",
              "    </tr>\n",
              "    <tr>\n",
              "      <th>INSTNM</th>\n",
              "      <th></th>\n",
              "      <th></th>\n",
              "      <th></th>\n",
              "      <th></th>\n",
              "      <th></th>\n",
              "      <th></th>\n",
              "      <th></th>\n",
              "      <th></th>\n",
              "      <th></th>\n",
              "      <th></th>\n",
              "      <th></th>\n",
              "      <th></th>\n",
              "      <th></th>\n",
              "      <th></th>\n",
              "      <th></th>\n",
              "      <th></th>\n",
              "      <th></th>\n",
              "      <th></th>\n",
              "      <th></th>\n",
              "      <th></th>\n",
              "      <th></th>\n",
              "      <th></th>\n",
              "      <th></th>\n",
              "      <th></th>\n",
              "      <th></th>\n",
              "      <th></th>\n",
              "    </tr>\n",
              "  </thead>\n",
              "  <tbody>\n",
              "    <tr>\n",
              "      <th>University of Alaska Anchorage</th>\n",
              "      <td>Anchorage</td>\n",
              "      <td>AK</td>\n",
              "      <td>0.0</td>\n",
              "      <td>0.0</td>\n",
              "      <td>0.0</td>\n",
              "      <td>0</td>\n",
              "      <td>NaN</td>\n",
              "      <td>NaN</td>\n",
              "      <td>0.0</td>\n",
              "      <td>12865.0</td>\n",
              "      <td>0.5747</td>\n",
              "      <td>0.0358</td>\n",
              "      <td>0.0761</td>\n",
              "      <td>0.0778</td>\n",
              "      <td>0.0653</td>\n",
              "      <td>0.0086</td>\n",
              "      <td>0.0980</td>\n",
              "      <td>0.0181</td>\n",
              "      <td>0.0457</td>\n",
              "      <td>0.4539</td>\n",
              "      <td>1</td>\n",
              "      <td>0.2385</td>\n",
              "      <td>0.2647</td>\n",
              "      <td>0.4386</td>\n",
              "      <td>42500</td>\n",
              "      <td>19449.5</td>\n",
              "    </tr>\n",
              "    <tr>\n",
              "      <th>International Academy of Hair Design</th>\n",
              "      <td>Tempe</td>\n",
              "      <td>AZ</td>\n",
              "      <td>0.0</td>\n",
              "      <td>0.0</td>\n",
              "      <td>0.0</td>\n",
              "      <td>0</td>\n",
              "      <td>NaN</td>\n",
              "      <td>NaN</td>\n",
              "      <td>0.0</td>\n",
              "      <td>188.0</td>\n",
              "      <td>0.2713</td>\n",
              "      <td>0.2500</td>\n",
              "      <td>0.3670</td>\n",
              "      <td>0.0160</td>\n",
              "      <td>0.0160</td>\n",
              "      <td>0.0000</td>\n",
              "      <td>0.0160</td>\n",
              "      <td>0.0000</td>\n",
              "      <td>0.0638</td>\n",
              "      <td>0.0000</td>\n",
              "      <td>0</td>\n",
              "      <td>0.7185</td>\n",
              "      <td>0.7346</td>\n",
              "      <td>0.3905</td>\n",
              "      <td>22200</td>\n",
              "      <td>10556</td>\n",
              "    </tr>\n",
              "    <tr>\n",
              "      <th>University of Alabama in Huntsville</th>\n",
              "      <td>Huntsville</td>\n",
              "      <td>AL</td>\n",
              "      <td>0.0</td>\n",
              "      <td>0.0</td>\n",
              "      <td>0.0</td>\n",
              "      <td>0</td>\n",
              "      <td>595.0</td>\n",
              "      <td>590.0</td>\n",
              "      <td>0.0</td>\n",
              "      <td>5451.0</td>\n",
              "      <td>0.6988</td>\n",
              "      <td>0.1255</td>\n",
              "      <td>0.0382</td>\n",
              "      <td>0.0376</td>\n",
              "      <td>0.0143</td>\n",
              "      <td>0.0002</td>\n",
              "      <td>0.0172</td>\n",
              "      <td>0.0332</td>\n",
              "      <td>0.0350</td>\n",
              "      <td>0.2146</td>\n",
              "      <td>1</td>\n",
              "      <td>0.3072</td>\n",
              "      <td>0.4596</td>\n",
              "      <td>0.2640</td>\n",
              "      <td>45500</td>\n",
              "      <td>24097</td>\n",
              "    </tr>\n",
              "  </tbody>\n",
              "</table>\n",
              "</div>"
            ],
            "text/plain": [
              "                                            CITY  ... GRAD_DEBT_MDN_SUPP\n",
              "INSTNM                                            ...                   \n",
              "University of Alaska Anchorage         Anchorage  ...            19449.5\n",
              "International Academy of Hair Design       Tempe  ...              10556\n",
              "University of Alabama in Huntsville   Huntsville  ...              24097\n",
              "\n",
              "[3 rows x 26 columns]"
            ]
          },
          "metadata": {
            "tags": []
          },
          "execution_count": 21
        }
      ]
    },
    {
      "cell_type": "markdown",
      "metadata": {
        "id": "KIK7c8YlX4Fm",
        "colab_type": "text"
      },
      "source": [
        "Step5: The same DataFrame from step 4 may be reproduced using .loc by passing it a list of the exact institution names:"
      ]
    },
    {
      "cell_type": "code",
      "metadata": {
        "id": "UJnInBItCTY_",
        "colab_type": "code",
        "outputId": "5c8ec536-f62e-41f3-8d3a-14d39ef1cf31",
        "colab": {
          "base_uri": "https://localhost:8080/",
          "height": 286
        }
      },
      "source": [
        "labels = ['University of Alaska Anchorage',\n",
        "          'International Academy of Hair Design',\n",
        "          'University of Alabama in Huntsville']\n",
        "college.loc[labels]"
      ],
      "execution_count": 0,
      "outputs": [
        {
          "output_type": "execute_result",
          "data": {
            "text/html": [
              "<div>\n",
              "<style scoped>\n",
              "    .dataframe tbody tr th:only-of-type {\n",
              "        vertical-align: middle;\n",
              "    }\n",
              "\n",
              "    .dataframe tbody tr th {\n",
              "        vertical-align: top;\n",
              "    }\n",
              "\n",
              "    .dataframe thead th {\n",
              "        text-align: right;\n",
              "    }\n",
              "</style>\n",
              "<table border=\"1\" class=\"dataframe\">\n",
              "  <thead>\n",
              "    <tr style=\"text-align: right;\">\n",
              "      <th></th>\n",
              "      <th>CITY</th>\n",
              "      <th>STABBR</th>\n",
              "      <th>HBCU</th>\n",
              "      <th>MENONLY</th>\n",
              "      <th>WOMENONLY</th>\n",
              "      <th>RELAFFIL</th>\n",
              "      <th>SATVRMID</th>\n",
              "      <th>SATMTMID</th>\n",
              "      <th>DISTANCEONLY</th>\n",
              "      <th>UGDS</th>\n",
              "      <th>UGDS_WHITE</th>\n",
              "      <th>UGDS_BLACK</th>\n",
              "      <th>UGDS_HISP</th>\n",
              "      <th>UGDS_ASIAN</th>\n",
              "      <th>UGDS_AIAN</th>\n",
              "      <th>UGDS_NHPI</th>\n",
              "      <th>UGDS_2MOR</th>\n",
              "      <th>UGDS_NRA</th>\n",
              "      <th>UGDS_UNKN</th>\n",
              "      <th>PPTUG_EF</th>\n",
              "      <th>CURROPER</th>\n",
              "      <th>PCTPELL</th>\n",
              "      <th>PCTFLOAN</th>\n",
              "      <th>UG25ABV</th>\n",
              "      <th>MD_EARN_WNE_P10</th>\n",
              "      <th>GRAD_DEBT_MDN_SUPP</th>\n",
              "    </tr>\n",
              "    <tr>\n",
              "      <th>INSTNM</th>\n",
              "      <th></th>\n",
              "      <th></th>\n",
              "      <th></th>\n",
              "      <th></th>\n",
              "      <th></th>\n",
              "      <th></th>\n",
              "      <th></th>\n",
              "      <th></th>\n",
              "      <th></th>\n",
              "      <th></th>\n",
              "      <th></th>\n",
              "      <th></th>\n",
              "      <th></th>\n",
              "      <th></th>\n",
              "      <th></th>\n",
              "      <th></th>\n",
              "      <th></th>\n",
              "      <th></th>\n",
              "      <th></th>\n",
              "      <th></th>\n",
              "      <th></th>\n",
              "      <th></th>\n",
              "      <th></th>\n",
              "      <th></th>\n",
              "      <th></th>\n",
              "      <th></th>\n",
              "    </tr>\n",
              "  </thead>\n",
              "  <tbody>\n",
              "    <tr>\n",
              "      <th>University of Alaska Anchorage</th>\n",
              "      <td>Anchorage</td>\n",
              "      <td>AK</td>\n",
              "      <td>0.0</td>\n",
              "      <td>0.0</td>\n",
              "      <td>0.0</td>\n",
              "      <td>0</td>\n",
              "      <td>NaN</td>\n",
              "      <td>NaN</td>\n",
              "      <td>0.0</td>\n",
              "      <td>12865.0</td>\n",
              "      <td>0.5747</td>\n",
              "      <td>0.0358</td>\n",
              "      <td>0.0761</td>\n",
              "      <td>0.0778</td>\n",
              "      <td>0.0653</td>\n",
              "      <td>0.0086</td>\n",
              "      <td>0.0980</td>\n",
              "      <td>0.0181</td>\n",
              "      <td>0.0457</td>\n",
              "      <td>0.4539</td>\n",
              "      <td>1</td>\n",
              "      <td>0.2385</td>\n",
              "      <td>0.2647</td>\n",
              "      <td>0.4386</td>\n",
              "      <td>42500</td>\n",
              "      <td>19449.5</td>\n",
              "    </tr>\n",
              "    <tr>\n",
              "      <th>International Academy of Hair Design</th>\n",
              "      <td>Tempe</td>\n",
              "      <td>AZ</td>\n",
              "      <td>0.0</td>\n",
              "      <td>0.0</td>\n",
              "      <td>0.0</td>\n",
              "      <td>0</td>\n",
              "      <td>NaN</td>\n",
              "      <td>NaN</td>\n",
              "      <td>0.0</td>\n",
              "      <td>188.0</td>\n",
              "      <td>0.2713</td>\n",
              "      <td>0.2500</td>\n",
              "      <td>0.3670</td>\n",
              "      <td>0.0160</td>\n",
              "      <td>0.0160</td>\n",
              "      <td>0.0000</td>\n",
              "      <td>0.0160</td>\n",
              "      <td>0.0000</td>\n",
              "      <td>0.0638</td>\n",
              "      <td>0.0000</td>\n",
              "      <td>0</td>\n",
              "      <td>0.7185</td>\n",
              "      <td>0.7346</td>\n",
              "      <td>0.3905</td>\n",
              "      <td>22200</td>\n",
              "      <td>10556</td>\n",
              "    </tr>\n",
              "    <tr>\n",
              "      <th>University of Alabama in Huntsville</th>\n",
              "      <td>Huntsville</td>\n",
              "      <td>AL</td>\n",
              "      <td>0.0</td>\n",
              "      <td>0.0</td>\n",
              "      <td>0.0</td>\n",
              "      <td>0</td>\n",
              "      <td>595.0</td>\n",
              "      <td>590.0</td>\n",
              "      <td>0.0</td>\n",
              "      <td>5451.0</td>\n",
              "      <td>0.6988</td>\n",
              "      <td>0.1255</td>\n",
              "      <td>0.0382</td>\n",
              "      <td>0.0376</td>\n",
              "      <td>0.0143</td>\n",
              "      <td>0.0002</td>\n",
              "      <td>0.0172</td>\n",
              "      <td>0.0332</td>\n",
              "      <td>0.0350</td>\n",
              "      <td>0.2146</td>\n",
              "      <td>1</td>\n",
              "      <td>0.3072</td>\n",
              "      <td>0.4596</td>\n",
              "      <td>0.2640</td>\n",
              "      <td>45500</td>\n",
              "      <td>24097</td>\n",
              "    </tr>\n",
              "  </tbody>\n",
              "</table>\n",
              "</div>"
            ],
            "text/plain": [
              "                                            CITY  ... GRAD_DEBT_MDN_SUPP\n",
              "INSTNM                                            ...                   \n",
              "University of Alaska Anchorage         Anchorage  ...            19449.5\n",
              "International Academy of Hair Design       Tempe  ...              10556\n",
              "University of Alabama in Huntsville   Huntsville  ...              24097\n",
              "\n",
              "[3 rows x 26 columns]"
            ]
          },
          "metadata": {
            "tags": []
          },
          "execution_count": 22
        }
      ]
    },
    {
      "cell_type": "markdown",
      "metadata": {
        "id": "DW0eRMX3YI8h",
        "colab_type": "text"
      },
      "source": [
        "Step6: Use slice notation with .iloc to select an entire segment of the data:\n"
      ]
    },
    {
      "cell_type": "code",
      "metadata": {
        "id": "CGqyaDqVCTZC",
        "colab_type": "code",
        "outputId": "6c0db7f0-10df-459d-b601-b64a02e28dec",
        "colab": {
          "base_uri": "https://localhost:8080/",
          "height": 286
        }
      },
      "source": [
        "college.iloc[99:102]"
      ],
      "execution_count": 0,
      "outputs": [
        {
          "output_type": "execute_result",
          "data": {
            "text/html": [
              "<div>\n",
              "<style scoped>\n",
              "    .dataframe tbody tr th:only-of-type {\n",
              "        vertical-align: middle;\n",
              "    }\n",
              "\n",
              "    .dataframe tbody tr th {\n",
              "        vertical-align: top;\n",
              "    }\n",
              "\n",
              "    .dataframe thead th {\n",
              "        text-align: right;\n",
              "    }\n",
              "</style>\n",
              "<table border=\"1\" class=\"dataframe\">\n",
              "  <thead>\n",
              "    <tr style=\"text-align: right;\">\n",
              "      <th></th>\n",
              "      <th>CITY</th>\n",
              "      <th>STABBR</th>\n",
              "      <th>HBCU</th>\n",
              "      <th>MENONLY</th>\n",
              "      <th>WOMENONLY</th>\n",
              "      <th>RELAFFIL</th>\n",
              "      <th>SATVRMID</th>\n",
              "      <th>SATMTMID</th>\n",
              "      <th>DISTANCEONLY</th>\n",
              "      <th>UGDS</th>\n",
              "      <th>UGDS_WHITE</th>\n",
              "      <th>UGDS_BLACK</th>\n",
              "      <th>UGDS_HISP</th>\n",
              "      <th>UGDS_ASIAN</th>\n",
              "      <th>UGDS_AIAN</th>\n",
              "      <th>UGDS_NHPI</th>\n",
              "      <th>UGDS_2MOR</th>\n",
              "      <th>UGDS_NRA</th>\n",
              "      <th>UGDS_UNKN</th>\n",
              "      <th>PPTUG_EF</th>\n",
              "      <th>CURROPER</th>\n",
              "      <th>PCTPELL</th>\n",
              "      <th>PCTFLOAN</th>\n",
              "      <th>UG25ABV</th>\n",
              "      <th>MD_EARN_WNE_P10</th>\n",
              "      <th>GRAD_DEBT_MDN_SUPP</th>\n",
              "    </tr>\n",
              "    <tr>\n",
              "      <th>INSTNM</th>\n",
              "      <th></th>\n",
              "      <th></th>\n",
              "      <th></th>\n",
              "      <th></th>\n",
              "      <th></th>\n",
              "      <th></th>\n",
              "      <th></th>\n",
              "      <th></th>\n",
              "      <th></th>\n",
              "      <th></th>\n",
              "      <th></th>\n",
              "      <th></th>\n",
              "      <th></th>\n",
              "      <th></th>\n",
              "      <th></th>\n",
              "      <th></th>\n",
              "      <th></th>\n",
              "      <th></th>\n",
              "      <th></th>\n",
              "      <th></th>\n",
              "      <th></th>\n",
              "      <th></th>\n",
              "      <th></th>\n",
              "      <th></th>\n",
              "      <th></th>\n",
              "      <th></th>\n",
              "    </tr>\n",
              "  </thead>\n",
              "  <tbody>\n",
              "    <tr>\n",
              "      <th>International Academy of Hair Design</th>\n",
              "      <td>Tempe</td>\n",
              "      <td>AZ</td>\n",
              "      <td>0.0</td>\n",
              "      <td>0.0</td>\n",
              "      <td>0.0</td>\n",
              "      <td>0</td>\n",
              "      <td>NaN</td>\n",
              "      <td>NaN</td>\n",
              "      <td>0.0</td>\n",
              "      <td>188.0</td>\n",
              "      <td>0.2713</td>\n",
              "      <td>0.2500</td>\n",
              "      <td>0.3670</td>\n",
              "      <td>0.0160</td>\n",
              "      <td>0.0160</td>\n",
              "      <td>0.0000</td>\n",
              "      <td>0.0160</td>\n",
              "      <td>0.0000</td>\n",
              "      <td>0.0638</td>\n",
              "      <td>0.0000</td>\n",
              "      <td>0</td>\n",
              "      <td>0.7185</td>\n",
              "      <td>0.7346</td>\n",
              "      <td>0.3905</td>\n",
              "      <td>22200</td>\n",
              "      <td>10556</td>\n",
              "    </tr>\n",
              "    <tr>\n",
              "      <th>GateWay Community College</th>\n",
              "      <td>Phoenix</td>\n",
              "      <td>AZ</td>\n",
              "      <td>0.0</td>\n",
              "      <td>0.0</td>\n",
              "      <td>0.0</td>\n",
              "      <td>0</td>\n",
              "      <td>NaN</td>\n",
              "      <td>NaN</td>\n",
              "      <td>0.0</td>\n",
              "      <td>5211.0</td>\n",
              "      <td>0.3585</td>\n",
              "      <td>0.1201</td>\n",
              "      <td>0.3389</td>\n",
              "      <td>0.0355</td>\n",
              "      <td>0.0451</td>\n",
              "      <td>0.0029</td>\n",
              "      <td>0.0127</td>\n",
              "      <td>0.0161</td>\n",
              "      <td>0.0702</td>\n",
              "      <td>0.7465</td>\n",
              "      <td>1</td>\n",
              "      <td>0.3270</td>\n",
              "      <td>0.2189</td>\n",
              "      <td>0.5832</td>\n",
              "      <td>29800</td>\n",
              "      <td>7283</td>\n",
              "    </tr>\n",
              "    <tr>\n",
              "      <th>Mesa Community College</th>\n",
              "      <td>Mesa</td>\n",
              "      <td>AZ</td>\n",
              "      <td>0.0</td>\n",
              "      <td>0.0</td>\n",
              "      <td>0.0</td>\n",
              "      <td>0</td>\n",
              "      <td>NaN</td>\n",
              "      <td>NaN</td>\n",
              "      <td>0.0</td>\n",
              "      <td>19055.0</td>\n",
              "      <td>0.5002</td>\n",
              "      <td>0.0661</td>\n",
              "      <td>0.2354</td>\n",
              "      <td>0.0390</td>\n",
              "      <td>0.0403</td>\n",
              "      <td>0.0046</td>\n",
              "      <td>0.0205</td>\n",
              "      <td>0.0257</td>\n",
              "      <td>0.0682</td>\n",
              "      <td>0.6457</td>\n",
              "      <td>1</td>\n",
              "      <td>0.3423</td>\n",
              "      <td>0.2207</td>\n",
              "      <td>0.4010</td>\n",
              "      <td>35200</td>\n",
              "      <td>8000</td>\n",
              "    </tr>\n",
              "  </tbody>\n",
              "</table>\n",
              "</div>"
            ],
            "text/plain": [
              "                                         CITY  ... GRAD_DEBT_MDN_SUPP\n",
              "INSTNM                                         ...                   \n",
              "International Academy of Hair Design    Tempe  ...              10556\n",
              "GateWay Community College             Phoenix  ...               7283\n",
              "Mesa Community College                   Mesa  ...               8000\n",
              "\n",
              "[3 rows x 26 columns]"
            ]
          },
          "metadata": {
            "tags": []
          },
          "execution_count": 23
        }
      ]
    },
    {
      "cell_type": "markdown",
      "metadata": {
        "id": "yxzGi20EYV3u",
        "colab_type": "text"
      },
      "source": [
        "Step7: Slice notation also works with the .loc indexer and is inclusive of the last label:\n"
      ]
    },
    {
      "cell_type": "code",
      "metadata": {
        "id": "8R9H8o5KCTZF",
        "colab_type": "code",
        "outputId": "cb8d0325-f841-46d3-d1bb-c74244f93f8d",
        "colab": {
          "base_uri": "https://localhost:8080/",
          "height": 286
        }
      },
      "source": [
        "start = 'International Academy of Hair Design'\n",
        "stop = 'Mesa Community College'\n",
        "college.loc[start:stop]"
      ],
      "execution_count": 0,
      "outputs": [
        {
          "output_type": "execute_result",
          "data": {
            "text/html": [
              "<div>\n",
              "<style scoped>\n",
              "    .dataframe tbody tr th:only-of-type {\n",
              "        vertical-align: middle;\n",
              "    }\n",
              "\n",
              "    .dataframe tbody tr th {\n",
              "        vertical-align: top;\n",
              "    }\n",
              "\n",
              "    .dataframe thead th {\n",
              "        text-align: right;\n",
              "    }\n",
              "</style>\n",
              "<table border=\"1\" class=\"dataframe\">\n",
              "  <thead>\n",
              "    <tr style=\"text-align: right;\">\n",
              "      <th></th>\n",
              "      <th>CITY</th>\n",
              "      <th>STABBR</th>\n",
              "      <th>HBCU</th>\n",
              "      <th>MENONLY</th>\n",
              "      <th>WOMENONLY</th>\n",
              "      <th>RELAFFIL</th>\n",
              "      <th>SATVRMID</th>\n",
              "      <th>SATMTMID</th>\n",
              "      <th>DISTANCEONLY</th>\n",
              "      <th>UGDS</th>\n",
              "      <th>UGDS_WHITE</th>\n",
              "      <th>UGDS_BLACK</th>\n",
              "      <th>UGDS_HISP</th>\n",
              "      <th>UGDS_ASIAN</th>\n",
              "      <th>UGDS_AIAN</th>\n",
              "      <th>UGDS_NHPI</th>\n",
              "      <th>UGDS_2MOR</th>\n",
              "      <th>UGDS_NRA</th>\n",
              "      <th>UGDS_UNKN</th>\n",
              "      <th>PPTUG_EF</th>\n",
              "      <th>CURROPER</th>\n",
              "      <th>PCTPELL</th>\n",
              "      <th>PCTFLOAN</th>\n",
              "      <th>UG25ABV</th>\n",
              "      <th>MD_EARN_WNE_P10</th>\n",
              "      <th>GRAD_DEBT_MDN_SUPP</th>\n",
              "    </tr>\n",
              "    <tr>\n",
              "      <th>INSTNM</th>\n",
              "      <th></th>\n",
              "      <th></th>\n",
              "      <th></th>\n",
              "      <th></th>\n",
              "      <th></th>\n",
              "      <th></th>\n",
              "      <th></th>\n",
              "      <th></th>\n",
              "      <th></th>\n",
              "      <th></th>\n",
              "      <th></th>\n",
              "      <th></th>\n",
              "      <th></th>\n",
              "      <th></th>\n",
              "      <th></th>\n",
              "      <th></th>\n",
              "      <th></th>\n",
              "      <th></th>\n",
              "      <th></th>\n",
              "      <th></th>\n",
              "      <th></th>\n",
              "      <th></th>\n",
              "      <th></th>\n",
              "      <th></th>\n",
              "      <th></th>\n",
              "      <th></th>\n",
              "    </tr>\n",
              "  </thead>\n",
              "  <tbody>\n",
              "    <tr>\n",
              "      <th>International Academy of Hair Design</th>\n",
              "      <td>Tempe</td>\n",
              "      <td>AZ</td>\n",
              "      <td>0.0</td>\n",
              "      <td>0.0</td>\n",
              "      <td>0.0</td>\n",
              "      <td>0</td>\n",
              "      <td>NaN</td>\n",
              "      <td>NaN</td>\n",
              "      <td>0.0</td>\n",
              "      <td>188.0</td>\n",
              "      <td>0.2713</td>\n",
              "      <td>0.2500</td>\n",
              "      <td>0.3670</td>\n",
              "      <td>0.0160</td>\n",
              "      <td>0.0160</td>\n",
              "      <td>0.0000</td>\n",
              "      <td>0.0160</td>\n",
              "      <td>0.0000</td>\n",
              "      <td>0.0638</td>\n",
              "      <td>0.0000</td>\n",
              "      <td>0</td>\n",
              "      <td>0.7185</td>\n",
              "      <td>0.7346</td>\n",
              "      <td>0.3905</td>\n",
              "      <td>22200</td>\n",
              "      <td>10556</td>\n",
              "    </tr>\n",
              "    <tr>\n",
              "      <th>GateWay Community College</th>\n",
              "      <td>Phoenix</td>\n",
              "      <td>AZ</td>\n",
              "      <td>0.0</td>\n",
              "      <td>0.0</td>\n",
              "      <td>0.0</td>\n",
              "      <td>0</td>\n",
              "      <td>NaN</td>\n",
              "      <td>NaN</td>\n",
              "      <td>0.0</td>\n",
              "      <td>5211.0</td>\n",
              "      <td>0.3585</td>\n",
              "      <td>0.1201</td>\n",
              "      <td>0.3389</td>\n",
              "      <td>0.0355</td>\n",
              "      <td>0.0451</td>\n",
              "      <td>0.0029</td>\n",
              "      <td>0.0127</td>\n",
              "      <td>0.0161</td>\n",
              "      <td>0.0702</td>\n",
              "      <td>0.7465</td>\n",
              "      <td>1</td>\n",
              "      <td>0.3270</td>\n",
              "      <td>0.2189</td>\n",
              "      <td>0.5832</td>\n",
              "      <td>29800</td>\n",
              "      <td>7283</td>\n",
              "    </tr>\n",
              "    <tr>\n",
              "      <th>Mesa Community College</th>\n",
              "      <td>Mesa</td>\n",
              "      <td>AZ</td>\n",
              "      <td>0.0</td>\n",
              "      <td>0.0</td>\n",
              "      <td>0.0</td>\n",
              "      <td>0</td>\n",
              "      <td>NaN</td>\n",
              "      <td>NaN</td>\n",
              "      <td>0.0</td>\n",
              "      <td>19055.0</td>\n",
              "      <td>0.5002</td>\n",
              "      <td>0.0661</td>\n",
              "      <td>0.2354</td>\n",
              "      <td>0.0390</td>\n",
              "      <td>0.0403</td>\n",
              "      <td>0.0046</td>\n",
              "      <td>0.0205</td>\n",
              "      <td>0.0257</td>\n",
              "      <td>0.0682</td>\n",
              "      <td>0.6457</td>\n",
              "      <td>1</td>\n",
              "      <td>0.3423</td>\n",
              "      <td>0.2207</td>\n",
              "      <td>0.4010</td>\n",
              "      <td>35200</td>\n",
              "      <td>8000</td>\n",
              "    </tr>\n",
              "  </tbody>\n",
              "</table>\n",
              "</div>"
            ],
            "text/plain": [
              "                                         CITY  ... GRAD_DEBT_MDN_SUPP\n",
              "INSTNM                                         ...                   \n",
              "International Academy of Hair Design    Tempe  ...              10556\n",
              "GateWay Community College             Phoenix  ...               7283\n",
              "Mesa Community College                   Mesa  ...               8000\n",
              "\n",
              "[3 rows x 26 columns]"
            ]
          },
          "metadata": {
            "tags": []
          },
          "execution_count": 24
        }
      ]
    },
    {
      "cell_type": "markdown",
      "metadata": {
        "id": "ShgeCHoXYrPx",
        "colab_type": "text"
      },
      "source": [
        "##How it works...\n",
        "Passing a scalar value, a list of scalars, or a slice object to the .iloc or .loc indexers causes pandas to scan the index labels for the appropriate rows and return them. If a single scalar value is passed, a Series is returned. If a list or slice object is passed, then a DataFrame is returned."
      ]
    },
    {
      "cell_type": "markdown",
      "metadata": {
        "id": "cpGFWTSLCTZI",
        "colab_type": "text"
      },
      "source": [
        "# There's more..."
      ]
    },
    {
      "cell_type": "markdown",
      "metadata": {
        "id": "sFQOuDwYZCEu",
        "colab_type": "text"
      },
      "source": [
        "In step 5, the list of index labels can be selected directly from the DataFrame returned in step 4 without the need for copying and pasting:"
      ]
    },
    {
      "cell_type": "code",
      "metadata": {
        "id": "KDPZmwaWCTZI",
        "colab_type": "code",
        "outputId": "dbf3c236-979a-4fdc-a2a5-2d4b21d6228b",
        "colab": {}
      },
      "source": [
        "college.iloc[[60, 99, 3]].index.tolist()"
      ],
      "execution_count": 0,
      "outputs": [
        {
          "output_type": "execute_result",
          "data": {
            "text/plain": [
              "['University of Alaska Anchorage',\n",
              " 'International Academy of Hair Design',\n",
              " 'University of Alabama in Huntsville']"
            ]
          },
          "metadata": {
            "tags": []
          },
          "execution_count": 115
        }
      ]
    },
    {
      "cell_type": "markdown",
      "metadata": {
        "id": "OgWO6PfTCTZL",
        "colab_type": "text"
      },
      "source": [
        "# Selecting DataFrame rows and columns simultaneously"
      ]
    },
    {
      "cell_type": "markdown",
      "metadata": {
        "id": "6BO-p4raeoXi",
        "colab_type": "text"
      },
      "source": [
        "Directly using the indexing operator is the correct method to select one or more columns from a DataFrame. However, it does not allow you to select both rows and columns simultaneously. To select rows and columns simultaneously, you will need to pass both valid row and column selections separated by a comma to either the .iloc or .loc indexers."
      ]
    },
    {
      "cell_type": "markdown",
      "metadata": {
        "id": "X-FGF5UNe7rs",
        "colab_type": "text"
      },
      "source": [
        "The rows and columns variables may be scalar values, lists, slice objects, or boolean sequences.\n",
        "\n",
        "In this recipe, each step shows a simultaneous row and column selection using .iloc and its exact replication using .loc."
      ]
    },
    {
      "cell_type": "markdown",
      "metadata": {
        "id": "SxBevIqjfQr1",
        "colab_type": "text"
      },
      "source": [
        "Step1: Read in the college dataset, and set the index as the institution name. Select the first three rows and the first four columns with slice notation:"
      ]
    },
    {
      "cell_type": "code",
      "metadata": {
        "id": "alPUkEBpCTZM",
        "colab_type": "code",
        "outputId": "c155ac83-0f11-4a14-b364-5715b5e27fff",
        "colab": {
          "base_uri": "https://localhost:8080/",
          "height": 166
        }
      },
      "source": [
        "college = pd.read_csv('https://raw.githubusercontent.com/Blackman9t/PandasCookbook/master/college.csv', index_col='INSTNM')\n",
        "college.iloc[:3, :4]"
      ],
      "execution_count": 0,
      "outputs": [
        {
          "output_type": "execute_result",
          "data": {
            "text/html": [
              "<div>\n",
              "<style scoped>\n",
              "    .dataframe tbody tr th:only-of-type {\n",
              "        vertical-align: middle;\n",
              "    }\n",
              "\n",
              "    .dataframe tbody tr th {\n",
              "        vertical-align: top;\n",
              "    }\n",
              "\n",
              "    .dataframe thead th {\n",
              "        text-align: right;\n",
              "    }\n",
              "</style>\n",
              "<table border=\"1\" class=\"dataframe\">\n",
              "  <thead>\n",
              "    <tr style=\"text-align: right;\">\n",
              "      <th></th>\n",
              "      <th>CITY</th>\n",
              "      <th>STABBR</th>\n",
              "      <th>HBCU</th>\n",
              "      <th>MENONLY</th>\n",
              "    </tr>\n",
              "    <tr>\n",
              "      <th>INSTNM</th>\n",
              "      <th></th>\n",
              "      <th></th>\n",
              "      <th></th>\n",
              "      <th></th>\n",
              "    </tr>\n",
              "  </thead>\n",
              "  <tbody>\n",
              "    <tr>\n",
              "      <th>Alabama A &amp; M University</th>\n",
              "      <td>Normal</td>\n",
              "      <td>AL</td>\n",
              "      <td>1.0</td>\n",
              "      <td>0.0</td>\n",
              "    </tr>\n",
              "    <tr>\n",
              "      <th>University of Alabama at Birmingham</th>\n",
              "      <td>Birmingham</td>\n",
              "      <td>AL</td>\n",
              "      <td>0.0</td>\n",
              "      <td>0.0</td>\n",
              "    </tr>\n",
              "    <tr>\n",
              "      <th>Amridge University</th>\n",
              "      <td>Montgomery</td>\n",
              "      <td>AL</td>\n",
              "      <td>0.0</td>\n",
              "      <td>0.0</td>\n",
              "    </tr>\n",
              "  </tbody>\n",
              "</table>\n",
              "</div>"
            ],
            "text/plain": [
              "                                           CITY STABBR  HBCU  MENONLY\n",
              "INSTNM                                                               \n",
              "Alabama A & M University                 Normal     AL   1.0      0.0\n",
              "University of Alabama at Birmingham  Birmingham     AL   0.0      0.0\n",
              "Amridge University                   Montgomery     AL   0.0      0.0"
            ]
          },
          "metadata": {
            "tags": []
          },
          "execution_count": 26
        }
      ]
    },
    {
      "cell_type": "markdown",
      "metadata": {
        "id": "AKV3k3H2fX37",
        "colab_type": "text"
      },
      "source": [
        "Step2: Select all the rows of two different columns:"
      ]
    },
    {
      "cell_type": "code",
      "metadata": {
        "id": "4aFsZdp3CTZQ",
        "colab_type": "code",
        "outputId": "cf57b7f9-1e0a-4499-d92a-b92229c02340",
        "colab": {
          "base_uri": "https://localhost:8080/",
          "height": 166
        }
      },
      "source": [
        "college.loc[:'Amridge University', :'MENONLY']"
      ],
      "execution_count": 0,
      "outputs": [
        {
          "output_type": "execute_result",
          "data": {
            "text/html": [
              "<div>\n",
              "<style scoped>\n",
              "    .dataframe tbody tr th:only-of-type {\n",
              "        vertical-align: middle;\n",
              "    }\n",
              "\n",
              "    .dataframe tbody tr th {\n",
              "        vertical-align: top;\n",
              "    }\n",
              "\n",
              "    .dataframe thead th {\n",
              "        text-align: right;\n",
              "    }\n",
              "</style>\n",
              "<table border=\"1\" class=\"dataframe\">\n",
              "  <thead>\n",
              "    <tr style=\"text-align: right;\">\n",
              "      <th></th>\n",
              "      <th>CITY</th>\n",
              "      <th>STABBR</th>\n",
              "      <th>HBCU</th>\n",
              "      <th>MENONLY</th>\n",
              "    </tr>\n",
              "    <tr>\n",
              "      <th>INSTNM</th>\n",
              "      <th></th>\n",
              "      <th></th>\n",
              "      <th></th>\n",
              "      <th></th>\n",
              "    </tr>\n",
              "  </thead>\n",
              "  <tbody>\n",
              "    <tr>\n",
              "      <th>Alabama A &amp; M University</th>\n",
              "      <td>Normal</td>\n",
              "      <td>AL</td>\n",
              "      <td>1.0</td>\n",
              "      <td>0.0</td>\n",
              "    </tr>\n",
              "    <tr>\n",
              "      <th>University of Alabama at Birmingham</th>\n",
              "      <td>Birmingham</td>\n",
              "      <td>AL</td>\n",
              "      <td>0.0</td>\n",
              "      <td>0.0</td>\n",
              "    </tr>\n",
              "    <tr>\n",
              "      <th>Amridge University</th>\n",
              "      <td>Montgomery</td>\n",
              "      <td>AL</td>\n",
              "      <td>0.0</td>\n",
              "      <td>0.0</td>\n",
              "    </tr>\n",
              "  </tbody>\n",
              "</table>\n",
              "</div>"
            ],
            "text/plain": [
              "                                           CITY STABBR  HBCU  MENONLY\n",
              "INSTNM                                                               \n",
              "Alabama A & M University                 Normal     AL   1.0      0.0\n",
              "University of Alabama at Birmingham  Birmingham     AL   0.0      0.0\n",
              "Amridge University                   Montgomery     AL   0.0      0.0"
            ]
          },
          "metadata": {
            "tags": []
          },
          "execution_count": 27
        }
      ]
    },
    {
      "cell_type": "markdown",
      "metadata": {
        "id": "EnoN55pMfnqv",
        "colab_type": "text"
      },
      "source": [
        "Step3: Select disjointed rows and columns:\n"
      ]
    },
    {
      "cell_type": "code",
      "metadata": {
        "id": "SFrQ3_M6f0h3",
        "colab_type": "code",
        "colab": {}
      },
      "source": [
        "college.head(2)"
      ],
      "execution_count": 0,
      "outputs": []
    },
    {
      "cell_type": "code",
      "metadata": {
        "id": "ygZC0JSLCTZU",
        "colab_type": "code",
        "outputId": "5a90acdf-5ed8-4766-a85b-3656caeb7e93",
        "colab": {}
      },
      "source": [
        "college.iloc[:, [4,6]].head()"
      ],
      "execution_count": 0,
      "outputs": [
        {
          "output_type": "execute_result",
          "data": {
            "text/html": [
              "<div>\n",
              "<style>\n",
              "    .dataframe thead tr:only-child th {\n",
              "        text-align: right;\n",
              "    }\n",
              "\n",
              "    .dataframe thead th {\n",
              "        text-align: left;\n",
              "    }\n",
              "\n",
              "    .dataframe tbody tr th {\n",
              "        vertical-align: top;\n",
              "    }\n",
              "</style>\n",
              "<table border=\"1\" class=\"dataframe\">\n",
              "  <thead>\n",
              "    <tr style=\"text-align: right;\">\n",
              "      <th></th>\n",
              "      <th>WOMENONLY</th>\n",
              "      <th>SATVRMID</th>\n",
              "    </tr>\n",
              "    <tr>\n",
              "      <th>INSTNM</th>\n",
              "      <th></th>\n",
              "      <th></th>\n",
              "    </tr>\n",
              "  </thead>\n",
              "  <tbody>\n",
              "    <tr>\n",
              "      <th>Alabama A &amp; M University</th>\n",
              "      <td>0.0</td>\n",
              "      <td>424.0</td>\n",
              "    </tr>\n",
              "    <tr>\n",
              "      <th>University of Alabama at Birmingham</th>\n",
              "      <td>0.0</td>\n",
              "      <td>570.0</td>\n",
              "    </tr>\n",
              "    <tr>\n",
              "      <th>Amridge University</th>\n",
              "      <td>0.0</td>\n",
              "      <td>NaN</td>\n",
              "    </tr>\n",
              "    <tr>\n",
              "      <th>University of Alabama in Huntsville</th>\n",
              "      <td>0.0</td>\n",
              "      <td>595.0</td>\n",
              "    </tr>\n",
              "    <tr>\n",
              "      <th>Alabama State University</th>\n",
              "      <td>0.0</td>\n",
              "      <td>425.0</td>\n",
              "    </tr>\n",
              "  </tbody>\n",
              "</table>\n",
              "</div>"
            ],
            "text/plain": [
              "                                     WOMENONLY  SATVRMID\n",
              "INSTNM                                                  \n",
              "Alabama A & M University                   0.0     424.0\n",
              "University of Alabama at Birmingham        0.0     570.0\n",
              "Amridge University                         0.0       NaN\n",
              "University of Alabama in Huntsville        0.0     595.0\n",
              "Alabama State University                   0.0     425.0"
            ]
          },
          "metadata": {
            "tags": []
          },
          "execution_count": 126
        }
      ]
    },
    {
      "cell_type": "code",
      "metadata": {
        "id": "bG_NFQxyCTZY",
        "colab_type": "code",
        "outputId": "578b8edb-fb7f-4678-ced2-045b77e67095",
        "colab": {
          "base_uri": "https://localhost:8080/",
          "height": 313
        }
      },
      "source": [
        "college.loc[:, ['WOMENONLY', 'SATVRMID']]"
      ],
      "execution_count": 0,
      "outputs": [
        {
          "output_type": "execute_result",
          "data": {
            "text/html": [
              "<div>\n",
              "<style scoped>\n",
              "    .dataframe tbody tr th:only-of-type {\n",
              "        vertical-align: middle;\n",
              "    }\n",
              "\n",
              "    .dataframe tbody tr th {\n",
              "        vertical-align: top;\n",
              "    }\n",
              "\n",
              "    .dataframe thead th {\n",
              "        text-align: right;\n",
              "    }\n",
              "</style>\n",
              "<table border=\"1\" class=\"dataframe\">\n",
              "  <thead>\n",
              "    <tr style=\"text-align: right;\">\n",
              "      <th></th>\n",
              "      <th>WOMENONLY</th>\n",
              "      <th>SATVRMID</th>\n",
              "    </tr>\n",
              "    <tr>\n",
              "      <th>INSTNM</th>\n",
              "      <th></th>\n",
              "      <th></th>\n",
              "    </tr>\n",
              "  </thead>\n",
              "  <tbody>\n",
              "    <tr>\n",
              "      <th>Alabama A &amp; M University</th>\n",
              "      <td>0.0</td>\n",
              "      <td>424.0</td>\n",
              "    </tr>\n",
              "    <tr>\n",
              "      <th>University of Alabama at Birmingham</th>\n",
              "      <td>0.0</td>\n",
              "      <td>570.0</td>\n",
              "    </tr>\n",
              "    <tr>\n",
              "      <th>Amridge University</th>\n",
              "      <td>0.0</td>\n",
              "      <td>NaN</td>\n",
              "    </tr>\n",
              "    <tr>\n",
              "      <th>...</th>\n",
              "      <td>...</td>\n",
              "      <td>...</td>\n",
              "    </tr>\n",
              "    <tr>\n",
              "      <th>National Personal Training Institute of Cleveland</th>\n",
              "      <td>NaN</td>\n",
              "      <td>NaN</td>\n",
              "    </tr>\n",
              "    <tr>\n",
              "      <th>Bay Area Medical Academy - San Jose Satellite Location</th>\n",
              "      <td>NaN</td>\n",
              "      <td>NaN</td>\n",
              "    </tr>\n",
              "    <tr>\n",
              "      <th>Excel Learning Center-San Antonio South</th>\n",
              "      <td>NaN</td>\n",
              "      <td>NaN</td>\n",
              "    </tr>\n",
              "  </tbody>\n",
              "</table>\n",
              "<p>7535 rows × 2 columns</p>\n",
              "</div>"
            ],
            "text/plain": [
              "                                                    WOMENONLY  SATVRMID\n",
              "INSTNM                                                                 \n",
              "Alabama A & M University                                  0.0     424.0\n",
              "University of Alabama at Birmingham                       0.0     570.0\n",
              "Amridge University                                        0.0       NaN\n",
              "...                                                       ...       ...\n",
              "National Personal Training Institute of Cleveland         NaN       NaN\n",
              "Bay Area Medical Academy - San Jose Satellite L...        NaN       NaN\n",
              "Excel Learning Center-San Antonio South                   NaN       NaN\n",
              "\n",
              "[7535 rows x 2 columns]"
            ]
          },
          "metadata": {
            "tags": []
          },
          "execution_count": 29
        }
      ]
    },
    {
      "cell_type": "markdown",
      "metadata": {
        "id": "XbxIL41LgsQD",
        "colab_type": "text"
      },
      "source": [
        "Selecting columns 7 and 15 for only rows 100 and 200 from the college data set using .iloc"
      ]
    },
    {
      "cell_type": "code",
      "metadata": {
        "id": "uv7m_jyVCTZa",
        "colab_type": "code",
        "outputId": "466c94e6-bdf6-4780-bb8d-50adff62e663",
        "colab": {
          "base_uri": "https://localhost:8080/",
          "height": 136
        }
      },
      "source": [
        "college.iloc[[100, 200], [7, 15]]"
      ],
      "execution_count": 0,
      "outputs": [
        {
          "output_type": "execute_result",
          "data": {
            "text/html": [
              "<div>\n",
              "<style scoped>\n",
              "    .dataframe tbody tr th:only-of-type {\n",
              "        vertical-align: middle;\n",
              "    }\n",
              "\n",
              "    .dataframe tbody tr th {\n",
              "        vertical-align: top;\n",
              "    }\n",
              "\n",
              "    .dataframe thead th {\n",
              "        text-align: right;\n",
              "    }\n",
              "</style>\n",
              "<table border=\"1\" class=\"dataframe\">\n",
              "  <thead>\n",
              "    <tr style=\"text-align: right;\">\n",
              "      <th></th>\n",
              "      <th>SATMTMID</th>\n",
              "      <th>UGDS_NHPI</th>\n",
              "    </tr>\n",
              "    <tr>\n",
              "      <th>INSTNM</th>\n",
              "      <th></th>\n",
              "      <th></th>\n",
              "    </tr>\n",
              "  </thead>\n",
              "  <tbody>\n",
              "    <tr>\n",
              "      <th>GateWay Community College</th>\n",
              "      <td>NaN</td>\n",
              "      <td>0.0029</td>\n",
              "    </tr>\n",
              "    <tr>\n",
              "      <th>American Baptist Seminary of the West</th>\n",
              "      <td>NaN</td>\n",
              "      <td>NaN</td>\n",
              "    </tr>\n",
              "  </tbody>\n",
              "</table>\n",
              "</div>"
            ],
            "text/plain": [
              "                                       SATMTMID  UGDS_NHPI\n",
              "INSTNM                                                    \n",
              "GateWay Community College                   NaN     0.0029\n",
              "American Baptist Seminary of the West       NaN        NaN"
            ]
          },
          "metadata": {
            "tags": []
          },
          "execution_count": 31
        }
      ]
    },
    {
      "cell_type": "markdown",
      "metadata": {
        "id": "NJeeGVgDhJh5",
        "colab_type": "text"
      },
      "source": [
        "Selecting columns 7 and 15 for only rows 100 and 200 using the label names,  from the college data set using .loc"
      ]
    },
    {
      "cell_type": "code",
      "metadata": {
        "id": "EvsGz7e2CTZf",
        "colab_type": "code",
        "outputId": "2f283e1a-4276-45d6-9682-f411af97b1e2",
        "colab": {
          "base_uri": "https://localhost:8080/",
          "height": 136
        }
      },
      "source": [
        "rows = ['GateWay Community College', 'American Baptist Seminary of the West']\n",
        "columns = ['SATMTMID', 'UGDS_NHPI']\n",
        "college.loc[rows, columns]"
      ],
      "execution_count": 0,
      "outputs": [
        {
          "output_type": "execute_result",
          "data": {
            "text/html": [
              "<div>\n",
              "<style scoped>\n",
              "    .dataframe tbody tr th:only-of-type {\n",
              "        vertical-align: middle;\n",
              "    }\n",
              "\n",
              "    .dataframe tbody tr th {\n",
              "        vertical-align: top;\n",
              "    }\n",
              "\n",
              "    .dataframe thead th {\n",
              "        text-align: right;\n",
              "    }\n",
              "</style>\n",
              "<table border=\"1\" class=\"dataframe\">\n",
              "  <thead>\n",
              "    <tr style=\"text-align: right;\">\n",
              "      <th></th>\n",
              "      <th>SATMTMID</th>\n",
              "      <th>UGDS_NHPI</th>\n",
              "    </tr>\n",
              "    <tr>\n",
              "      <th>INSTNM</th>\n",
              "      <th></th>\n",
              "      <th></th>\n",
              "    </tr>\n",
              "  </thead>\n",
              "  <tbody>\n",
              "    <tr>\n",
              "      <th>GateWay Community College</th>\n",
              "      <td>NaN</td>\n",
              "      <td>0.0029</td>\n",
              "    </tr>\n",
              "    <tr>\n",
              "      <th>American Baptist Seminary of the West</th>\n",
              "      <td>NaN</td>\n",
              "      <td>NaN</td>\n",
              "    </tr>\n",
              "  </tbody>\n",
              "</table>\n",
              "</div>"
            ],
            "text/plain": [
              "                                       SATMTMID  UGDS_NHPI\n",
              "INSTNM                                                    \n",
              "GateWay Community College                   NaN     0.0029\n",
              "American Baptist Seminary of the West       NaN        NaN"
            ]
          },
          "metadata": {
            "tags": []
          },
          "execution_count": 32
        }
      ]
    },
    {
      "cell_type": "markdown",
      "metadata": {
        "id": "LAGjn56PgYgf",
        "colab_type": "text"
      },
      "source": [
        "Step4: Select a single scalar value:"
      ]
    },
    {
      "cell_type": "code",
      "metadata": {
        "id": "0gu2Asw_CTZn",
        "colab_type": "code",
        "outputId": "07b4fcb6-94d2-4776-e5b9-e3313e629318",
        "colab": {
          "base_uri": "https://localhost:8080/",
          "height": 34
        }
      },
      "source": [
        "college.iloc[5, -4]"
      ],
      "execution_count": 0,
      "outputs": [
        {
          "output_type": "execute_result",
          "data": {
            "text/plain": [
              "0.401"
            ]
          },
          "metadata": {
            "tags": []
          },
          "execution_count": 33
        }
      ]
    },
    {
      "cell_type": "code",
      "metadata": {
        "id": "hH8V4qaSCTZ1",
        "colab_type": "code",
        "outputId": "aa6d5d40-af3e-479c-84d9-f5796377044a",
        "colab": {
          "base_uri": "https://localhost:8080/",
          "height": 34
        }
      },
      "source": [
        "college.loc['The University of Alabama', 'PCTFLOAN']"
      ],
      "execution_count": 0,
      "outputs": [
        {
          "output_type": "execute_result",
          "data": {
            "text/plain": [
              "0.401"
            ]
          },
          "metadata": {
            "tags": []
          },
          "execution_count": 34
        }
      ]
    },
    {
      "cell_type": "markdown",
      "metadata": {
        "id": "R5678oVKhriV",
        "colab_type": "text"
      },
      "source": [
        "Step5: Slice the rows and select a single column:"
      ]
    },
    {
      "cell_type": "code",
      "metadata": {
        "id": "nsP3gGHSCTZ7",
        "colab_type": "code",
        "outputId": "9ff7a31c-9e52-4e45-d9a8-cb377b6a42a0",
        "colab": {
          "base_uri": "https://localhost:8080/",
          "height": 134
        }
      },
      "source": [
        "college.iloc[90:80:-2, 5]"
      ],
      "execution_count": 0,
      "outputs": [
        {
          "output_type": "execute_result",
          "data": {
            "text/plain": [
              "INSTNM\n",
              "Empire Beauty School-Flagstaff     0\n",
              "Charles of Italy Beauty College    0\n",
              "Central Arizona College            0\n",
              "University of Arizona              0\n",
              "Arizona State University-Tempe     0\n",
              "Name: RELAFFIL, dtype: int64"
            ]
          },
          "metadata": {
            "tags": []
          },
          "execution_count": 35
        }
      ]
    },
    {
      "cell_type": "code",
      "metadata": {
        "id": "OcnbGS_7CTZ-",
        "colab_type": "code",
        "outputId": "1220a5e2-28f3-49b4-dadc-aac6b6209f04",
        "colab": {
          "base_uri": "https://localhost:8080/",
          "height": 134
        }
      },
      "source": [
        "start = 'Empire Beauty School-Flagstaff'\n",
        "stop = 'Arizona State University-Tempe'\n",
        "college.loc[start:stop:-2, 'RELAFFIL']"
      ],
      "execution_count": 0,
      "outputs": [
        {
          "output_type": "execute_result",
          "data": {
            "text/plain": [
              "INSTNM\n",
              "Empire Beauty School-Flagstaff     0\n",
              "Charles of Italy Beauty College    0\n",
              "Central Arizona College            0\n",
              "University of Arizona              0\n",
              "Arizona State University-Tempe     0\n",
              "Name: RELAFFIL, dtype: int64"
            ]
          },
          "metadata": {
            "tags": []
          },
          "execution_count": 36
        }
      ]
    },
    {
      "cell_type": "markdown",
      "metadata": {
        "id": "8rDOFGPmiqB1",
        "colab_type": "text"
      },
      "source": [
        "How it works...\n",
        "One of the keys to selecting rows and columns simultaneously is to understand the use of the comma in the brackets. The selection to the left of the comma always selects rows based on the row index. The selection to the right of the comma always selects columns based on the column index.\n",
        "\n",
        "It is not necessary to make a selection for both rows and columns simultaneously. Step 2 shows how to select all the rows and a subset of columns. The colon represents a slice object that simply returns all the values for that dimension."
      ]
    },
    {
      "cell_type": "markdown",
      "metadata": {
        "id": "yX5vsboWjTWP",
        "colab_type": "text"
      },
      "source": [
        "There's more...\n",
        "When selecting a subset of rows, along with all the columns, it is not necessary to use a colon following a comma. The default behavior is to select all the columns if there is no comma present. The previous recipe selected rows in exactly this manner. You can, however, use a colon to represent a slice of all the columns. The following lines of code are equivalent:\n",
        "\n",
        "```\n",
        "college.iloc[:2]\n",
        "college.iloc[:2, :]\n",
        "```"
      ]
    },
    {
      "cell_type": "code",
      "metadata": {
        "id": "KvoyWPg0jjrg",
        "colab_type": "code",
        "outputId": "1b87df4d-dab9-4705-ca69-63d6066f897e",
        "colab": {
          "base_uri": "https://localhost:8080/",
          "height": 240
        }
      },
      "source": [
        "college.iloc[:2]"
      ],
      "execution_count": 0,
      "outputs": [
        {
          "output_type": "execute_result",
          "data": {
            "text/html": [
              "<div>\n",
              "<style scoped>\n",
              "    .dataframe tbody tr th:only-of-type {\n",
              "        vertical-align: middle;\n",
              "    }\n",
              "\n",
              "    .dataframe tbody tr th {\n",
              "        vertical-align: top;\n",
              "    }\n",
              "\n",
              "    .dataframe thead th {\n",
              "        text-align: right;\n",
              "    }\n",
              "</style>\n",
              "<table border=\"1\" class=\"dataframe\">\n",
              "  <thead>\n",
              "    <tr style=\"text-align: right;\">\n",
              "      <th></th>\n",
              "      <th>CITY</th>\n",
              "      <th>STABBR</th>\n",
              "      <th>HBCU</th>\n",
              "      <th>MENONLY</th>\n",
              "      <th>WOMENONLY</th>\n",
              "      <th>RELAFFIL</th>\n",
              "      <th>SATVRMID</th>\n",
              "      <th>SATMTMID</th>\n",
              "      <th>DISTANCEONLY</th>\n",
              "      <th>UGDS</th>\n",
              "      <th>UGDS_WHITE</th>\n",
              "      <th>UGDS_BLACK</th>\n",
              "      <th>UGDS_HISP</th>\n",
              "      <th>UGDS_ASIAN</th>\n",
              "      <th>UGDS_AIAN</th>\n",
              "      <th>UGDS_NHPI</th>\n",
              "      <th>UGDS_2MOR</th>\n",
              "      <th>UGDS_NRA</th>\n",
              "      <th>UGDS_UNKN</th>\n",
              "      <th>PPTUG_EF</th>\n",
              "      <th>CURROPER</th>\n",
              "      <th>PCTPELL</th>\n",
              "      <th>PCTFLOAN</th>\n",
              "      <th>UG25ABV</th>\n",
              "      <th>MD_EARN_WNE_P10</th>\n",
              "      <th>GRAD_DEBT_MDN_SUPP</th>\n",
              "    </tr>\n",
              "    <tr>\n",
              "      <th>INSTNM</th>\n",
              "      <th></th>\n",
              "      <th></th>\n",
              "      <th></th>\n",
              "      <th></th>\n",
              "      <th></th>\n",
              "      <th></th>\n",
              "      <th></th>\n",
              "      <th></th>\n",
              "      <th></th>\n",
              "      <th></th>\n",
              "      <th></th>\n",
              "      <th></th>\n",
              "      <th></th>\n",
              "      <th></th>\n",
              "      <th></th>\n",
              "      <th></th>\n",
              "      <th></th>\n",
              "      <th></th>\n",
              "      <th></th>\n",
              "      <th></th>\n",
              "      <th></th>\n",
              "      <th></th>\n",
              "      <th></th>\n",
              "      <th></th>\n",
              "      <th></th>\n",
              "      <th></th>\n",
              "    </tr>\n",
              "  </thead>\n",
              "  <tbody>\n",
              "    <tr>\n",
              "      <th>Alabama A &amp; M University</th>\n",
              "      <td>Normal</td>\n",
              "      <td>AL</td>\n",
              "      <td>1.0</td>\n",
              "      <td>0.0</td>\n",
              "      <td>0.0</td>\n",
              "      <td>0</td>\n",
              "      <td>424.0</td>\n",
              "      <td>420.0</td>\n",
              "      <td>0.0</td>\n",
              "      <td>4206.0</td>\n",
              "      <td>0.0333</td>\n",
              "      <td>0.9353</td>\n",
              "      <td>0.0055</td>\n",
              "      <td>0.0019</td>\n",
              "      <td>0.0024</td>\n",
              "      <td>0.0019</td>\n",
              "      <td>0.0000</td>\n",
              "      <td>0.0059</td>\n",
              "      <td>0.0138</td>\n",
              "      <td>0.0656</td>\n",
              "      <td>1</td>\n",
              "      <td>0.7356</td>\n",
              "      <td>0.8284</td>\n",
              "      <td>0.1049</td>\n",
              "      <td>30300</td>\n",
              "      <td>33888</td>\n",
              "    </tr>\n",
              "    <tr>\n",
              "      <th>University of Alabama at Birmingham</th>\n",
              "      <td>Birmingham</td>\n",
              "      <td>AL</td>\n",
              "      <td>0.0</td>\n",
              "      <td>0.0</td>\n",
              "      <td>0.0</td>\n",
              "      <td>0</td>\n",
              "      <td>570.0</td>\n",
              "      <td>565.0</td>\n",
              "      <td>0.0</td>\n",
              "      <td>11383.0</td>\n",
              "      <td>0.5922</td>\n",
              "      <td>0.2600</td>\n",
              "      <td>0.0283</td>\n",
              "      <td>0.0518</td>\n",
              "      <td>0.0022</td>\n",
              "      <td>0.0007</td>\n",
              "      <td>0.0368</td>\n",
              "      <td>0.0179</td>\n",
              "      <td>0.0100</td>\n",
              "      <td>0.2607</td>\n",
              "      <td>1</td>\n",
              "      <td>0.3460</td>\n",
              "      <td>0.5214</td>\n",
              "      <td>0.2422</td>\n",
              "      <td>39700</td>\n",
              "      <td>21941.5</td>\n",
              "    </tr>\n",
              "  </tbody>\n",
              "</table>\n",
              "</div>"
            ],
            "text/plain": [
              "                                           CITY  ... GRAD_DEBT_MDN_SUPP\n",
              "INSTNM                                           ...                   \n",
              "Alabama A & M University                 Normal  ...              33888\n",
              "University of Alabama at Birmingham  Birmingham  ...            21941.5\n",
              "\n",
              "[2 rows x 26 columns]"
            ]
          },
          "metadata": {
            "tags": []
          },
          "execution_count": 40
        }
      ]
    },
    {
      "cell_type": "code",
      "metadata": {
        "id": "DL5yLrmpjwT2",
        "colab_type": "code",
        "outputId": "0c2d4059-2bec-4e1b-e1e9-b8f4fb6e6d2b",
        "colab": {
          "base_uri": "https://localhost:8080/",
          "height": 240
        }
      },
      "source": [
        "college.iloc[:2, :]"
      ],
      "execution_count": 0,
      "outputs": [
        {
          "output_type": "execute_result",
          "data": {
            "text/html": [
              "<div>\n",
              "<style scoped>\n",
              "    .dataframe tbody tr th:only-of-type {\n",
              "        vertical-align: middle;\n",
              "    }\n",
              "\n",
              "    .dataframe tbody tr th {\n",
              "        vertical-align: top;\n",
              "    }\n",
              "\n",
              "    .dataframe thead th {\n",
              "        text-align: right;\n",
              "    }\n",
              "</style>\n",
              "<table border=\"1\" class=\"dataframe\">\n",
              "  <thead>\n",
              "    <tr style=\"text-align: right;\">\n",
              "      <th></th>\n",
              "      <th>CITY</th>\n",
              "      <th>STABBR</th>\n",
              "      <th>HBCU</th>\n",
              "      <th>MENONLY</th>\n",
              "      <th>WOMENONLY</th>\n",
              "      <th>RELAFFIL</th>\n",
              "      <th>SATVRMID</th>\n",
              "      <th>SATMTMID</th>\n",
              "      <th>DISTANCEONLY</th>\n",
              "      <th>UGDS</th>\n",
              "      <th>UGDS_WHITE</th>\n",
              "      <th>UGDS_BLACK</th>\n",
              "      <th>UGDS_HISP</th>\n",
              "      <th>UGDS_ASIAN</th>\n",
              "      <th>UGDS_AIAN</th>\n",
              "      <th>UGDS_NHPI</th>\n",
              "      <th>UGDS_2MOR</th>\n",
              "      <th>UGDS_NRA</th>\n",
              "      <th>UGDS_UNKN</th>\n",
              "      <th>PPTUG_EF</th>\n",
              "      <th>CURROPER</th>\n",
              "      <th>PCTPELL</th>\n",
              "      <th>PCTFLOAN</th>\n",
              "      <th>UG25ABV</th>\n",
              "      <th>MD_EARN_WNE_P10</th>\n",
              "      <th>GRAD_DEBT_MDN_SUPP</th>\n",
              "    </tr>\n",
              "    <tr>\n",
              "      <th>INSTNM</th>\n",
              "      <th></th>\n",
              "      <th></th>\n",
              "      <th></th>\n",
              "      <th></th>\n",
              "      <th></th>\n",
              "      <th></th>\n",
              "      <th></th>\n",
              "      <th></th>\n",
              "      <th></th>\n",
              "      <th></th>\n",
              "      <th></th>\n",
              "      <th></th>\n",
              "      <th></th>\n",
              "      <th></th>\n",
              "      <th></th>\n",
              "      <th></th>\n",
              "      <th></th>\n",
              "      <th></th>\n",
              "      <th></th>\n",
              "      <th></th>\n",
              "      <th></th>\n",
              "      <th></th>\n",
              "      <th></th>\n",
              "      <th></th>\n",
              "      <th></th>\n",
              "      <th></th>\n",
              "    </tr>\n",
              "  </thead>\n",
              "  <tbody>\n",
              "    <tr>\n",
              "      <th>Alabama A &amp; M University</th>\n",
              "      <td>Normal</td>\n",
              "      <td>AL</td>\n",
              "      <td>1.0</td>\n",
              "      <td>0.0</td>\n",
              "      <td>0.0</td>\n",
              "      <td>0</td>\n",
              "      <td>424.0</td>\n",
              "      <td>420.0</td>\n",
              "      <td>0.0</td>\n",
              "      <td>4206.0</td>\n",
              "      <td>0.0333</td>\n",
              "      <td>0.9353</td>\n",
              "      <td>0.0055</td>\n",
              "      <td>0.0019</td>\n",
              "      <td>0.0024</td>\n",
              "      <td>0.0019</td>\n",
              "      <td>0.0000</td>\n",
              "      <td>0.0059</td>\n",
              "      <td>0.0138</td>\n",
              "      <td>0.0656</td>\n",
              "      <td>1</td>\n",
              "      <td>0.7356</td>\n",
              "      <td>0.8284</td>\n",
              "      <td>0.1049</td>\n",
              "      <td>30300</td>\n",
              "      <td>33888</td>\n",
              "    </tr>\n",
              "    <tr>\n",
              "      <th>University of Alabama at Birmingham</th>\n",
              "      <td>Birmingham</td>\n",
              "      <td>AL</td>\n",
              "      <td>0.0</td>\n",
              "      <td>0.0</td>\n",
              "      <td>0.0</td>\n",
              "      <td>0</td>\n",
              "      <td>570.0</td>\n",
              "      <td>565.0</td>\n",
              "      <td>0.0</td>\n",
              "      <td>11383.0</td>\n",
              "      <td>0.5922</td>\n",
              "      <td>0.2600</td>\n",
              "      <td>0.0283</td>\n",
              "      <td>0.0518</td>\n",
              "      <td>0.0022</td>\n",
              "      <td>0.0007</td>\n",
              "      <td>0.0368</td>\n",
              "      <td>0.0179</td>\n",
              "      <td>0.0100</td>\n",
              "      <td>0.2607</td>\n",
              "      <td>1</td>\n",
              "      <td>0.3460</td>\n",
              "      <td>0.5214</td>\n",
              "      <td>0.2422</td>\n",
              "      <td>39700</td>\n",
              "      <td>21941.5</td>\n",
              "    </tr>\n",
              "  </tbody>\n",
              "</table>\n",
              "</div>"
            ],
            "text/plain": [
              "                                           CITY  ... GRAD_DEBT_MDN_SUPP\n",
              "INSTNM                                           ...                   \n",
              "Alabama A & M University                 Normal  ...              33888\n",
              "University of Alabama at Birmingham  Birmingham  ...            21941.5\n",
              "\n",
              "[2 rows x 26 columns]"
            ]
          },
          "metadata": {
            "tags": []
          },
          "execution_count": 41
        }
      ]
    },
    {
      "cell_type": "markdown",
      "metadata": {
        "id": "WDG3f8LZCTaC",
        "colab_type": "text"
      },
      "source": [
        "# Selecting with a combination of integers and labels"
      ]
    },
    {
      "cell_type": "code",
      "metadata": {
        "id": "QS__r2uiCTaD",
        "colab_type": "code",
        "colab": {}
      },
      "source": [
        "college = pd.read_csv('data/college.csv', index_col='INSTNM')"
      ],
      "execution_count": 0,
      "outputs": []
    },
    {
      "cell_type": "code",
      "metadata": {
        "id": "WMqH8ekmCTaG",
        "colab_type": "code",
        "outputId": "95b28bf4-dcf1-4971-eaef-4eb36999aaac",
        "colab": {}
      },
      "source": [
        "col_start = college.columns.get_loc('UGDS_WHITE')\n",
        "col_end = college.columns.get_loc('UGDS_UNKN') + 1\n",
        "col_start, col_end"
      ],
      "execution_count": 0,
      "outputs": [
        {
          "output_type": "execute_result",
          "data": {
            "text/plain": [
              "(10, 19)"
            ]
          },
          "metadata": {
            "tags": []
          },
          "execution_count": 154
        }
      ]
    },
    {
      "cell_type": "code",
      "metadata": {
        "id": "tYfRWqryCTaK",
        "colab_type": "code",
        "outputId": "08661ddf-a4ca-4e02-e0de-f417c72fa82a",
        "colab": {}
      },
      "source": [
        "college.iloc[:5, col_start:col_end]"
      ],
      "execution_count": 0,
      "outputs": [
        {
          "output_type": "execute_result",
          "data": {
            "text/html": [
              "<div>\n",
              "<style>\n",
              "    .dataframe thead tr:only-child th {\n",
              "        text-align: right;\n",
              "    }\n",
              "\n",
              "    .dataframe thead th {\n",
              "        text-align: left;\n",
              "    }\n",
              "\n",
              "    .dataframe tbody tr th {\n",
              "        vertical-align: top;\n",
              "    }\n",
              "</style>\n",
              "<table border=\"1\" class=\"dataframe\">\n",
              "  <thead>\n",
              "    <tr style=\"text-align: right;\">\n",
              "      <th></th>\n",
              "      <th>UGDS_WHITE</th>\n",
              "      <th>UGDS_BLACK</th>\n",
              "      <th>UGDS_HISP</th>\n",
              "      <th>UGDS_ASIAN</th>\n",
              "      <th>UGDS_AIAN</th>\n",
              "      <th>UGDS_NHPI</th>\n",
              "      <th>UGDS_2MOR</th>\n",
              "      <th>UGDS_NRA</th>\n",
              "      <th>UGDS_UNKN</th>\n",
              "    </tr>\n",
              "    <tr>\n",
              "      <th>INSTNM</th>\n",
              "      <th></th>\n",
              "      <th></th>\n",
              "      <th></th>\n",
              "      <th></th>\n",
              "      <th></th>\n",
              "      <th></th>\n",
              "      <th></th>\n",
              "      <th></th>\n",
              "      <th></th>\n",
              "    </tr>\n",
              "  </thead>\n",
              "  <tbody>\n",
              "    <tr>\n",
              "      <th>Alabama A &amp; M University</th>\n",
              "      <td>0.0333</td>\n",
              "      <td>0.9353</td>\n",
              "      <td>0.0055</td>\n",
              "      <td>0.0019</td>\n",
              "      <td>0.0024</td>\n",
              "      <td>0.0019</td>\n",
              "      <td>0.0000</td>\n",
              "      <td>0.0059</td>\n",
              "      <td>0.0138</td>\n",
              "    </tr>\n",
              "    <tr>\n",
              "      <th>University of Alabama at Birmingham</th>\n",
              "      <td>0.5922</td>\n",
              "      <td>0.2600</td>\n",
              "      <td>0.0283</td>\n",
              "      <td>0.0518</td>\n",
              "      <td>0.0022</td>\n",
              "      <td>0.0007</td>\n",
              "      <td>0.0368</td>\n",
              "      <td>0.0179</td>\n",
              "      <td>0.0100</td>\n",
              "    </tr>\n",
              "    <tr>\n",
              "      <th>Amridge University</th>\n",
              "      <td>0.2990</td>\n",
              "      <td>0.4192</td>\n",
              "      <td>0.0069</td>\n",
              "      <td>0.0034</td>\n",
              "      <td>0.0000</td>\n",
              "      <td>0.0000</td>\n",
              "      <td>0.0000</td>\n",
              "      <td>0.0000</td>\n",
              "      <td>0.2715</td>\n",
              "    </tr>\n",
              "    <tr>\n",
              "      <th>University of Alabama in Huntsville</th>\n",
              "      <td>0.6988</td>\n",
              "      <td>0.1255</td>\n",
              "      <td>0.0382</td>\n",
              "      <td>0.0376</td>\n",
              "      <td>0.0143</td>\n",
              "      <td>0.0002</td>\n",
              "      <td>0.0172</td>\n",
              "      <td>0.0332</td>\n",
              "      <td>0.0350</td>\n",
              "    </tr>\n",
              "    <tr>\n",
              "      <th>Alabama State University</th>\n",
              "      <td>0.0158</td>\n",
              "      <td>0.9208</td>\n",
              "      <td>0.0121</td>\n",
              "      <td>0.0019</td>\n",
              "      <td>0.0010</td>\n",
              "      <td>0.0006</td>\n",
              "      <td>0.0098</td>\n",
              "      <td>0.0243</td>\n",
              "      <td>0.0137</td>\n",
              "    </tr>\n",
              "  </tbody>\n",
              "</table>\n",
              "</div>"
            ],
            "text/plain": [
              "                                     UGDS_WHITE  UGDS_BLACK  UGDS_HISP  \\\n",
              "INSTNM                                                                   \n",
              "Alabama A & M University                 0.0333      0.9353     0.0055   \n",
              "University of Alabama at Birmingham      0.5922      0.2600     0.0283   \n",
              "Amridge University                       0.2990      0.4192     0.0069   \n",
              "University of Alabama in Huntsville      0.6988      0.1255     0.0382   \n",
              "Alabama State University                 0.0158      0.9208     0.0121   \n",
              "\n",
              "                                     UGDS_ASIAN  UGDS_AIAN  UGDS_NHPI  \\\n",
              "INSTNM                                                                  \n",
              "Alabama A & M University                 0.0019     0.0024     0.0019   \n",
              "University of Alabama at Birmingham      0.0518     0.0022     0.0007   \n",
              "Amridge University                       0.0034     0.0000     0.0000   \n",
              "University of Alabama in Huntsville      0.0376     0.0143     0.0002   \n",
              "Alabama State University                 0.0019     0.0010     0.0006   \n",
              "\n",
              "                                     UGDS_2MOR  UGDS_NRA  UGDS_UNKN  \n",
              "INSTNM                                                               \n",
              "Alabama A & M University                0.0000    0.0059     0.0138  \n",
              "University of Alabama at Birmingham     0.0368    0.0179     0.0100  \n",
              "Amridge University                      0.0000    0.0000     0.2715  \n",
              "University of Alabama in Huntsville     0.0172    0.0332     0.0350  \n",
              "Alabama State University                0.0098    0.0243     0.0137  "
            ]
          },
          "metadata": {
            "tags": []
          },
          "execution_count": 155
        }
      ]
    },
    {
      "cell_type": "markdown",
      "metadata": {
        "id": "yZcGDsnhCTaO",
        "colab_type": "text"
      },
      "source": [
        "# There's more..."
      ]
    },
    {
      "cell_type": "code",
      "metadata": {
        "id": "_Ysj8n9ACTaO",
        "colab_type": "code",
        "outputId": "bfb72330-d2dd-4525-b2d5-f8e31e2cc96c",
        "colab": {}
      },
      "source": [
        "row_start = college.index[10]\n",
        "row_end = college.index[15]\n",
        "college.loc[row_start:row_end, 'UGDS_WHITE':'UGDS_UNKN']"
      ],
      "execution_count": 0,
      "outputs": [
        {
          "output_type": "execute_result",
          "data": {
            "text/html": [
              "<div>\n",
              "<style>\n",
              "    .dataframe thead tr:only-child th {\n",
              "        text-align: right;\n",
              "    }\n",
              "\n",
              "    .dataframe thead th {\n",
              "        text-align: left;\n",
              "    }\n",
              "\n",
              "    .dataframe tbody tr th {\n",
              "        vertical-align: top;\n",
              "    }\n",
              "</style>\n",
              "<table border=\"1\" class=\"dataframe\">\n",
              "  <thead>\n",
              "    <tr style=\"text-align: right;\">\n",
              "      <th></th>\n",
              "      <th>UGDS_WHITE</th>\n",
              "      <th>UGDS_BLACK</th>\n",
              "      <th>UGDS_HISP</th>\n",
              "      <th>UGDS_ASIAN</th>\n",
              "      <th>UGDS_AIAN</th>\n",
              "      <th>UGDS_NHPI</th>\n",
              "      <th>UGDS_2MOR</th>\n",
              "      <th>UGDS_NRA</th>\n",
              "      <th>UGDS_UNKN</th>\n",
              "    </tr>\n",
              "    <tr>\n",
              "      <th>INSTNM</th>\n",
              "      <th></th>\n",
              "      <th></th>\n",
              "      <th></th>\n",
              "      <th></th>\n",
              "      <th></th>\n",
              "      <th></th>\n",
              "      <th></th>\n",
              "      <th></th>\n",
              "      <th></th>\n",
              "    </tr>\n",
              "  </thead>\n",
              "  <tbody>\n",
              "    <tr>\n",
              "      <th>Birmingham Southern College</th>\n",
              "      <td>0.7983</td>\n",
              "      <td>0.1102</td>\n",
              "      <td>0.0195</td>\n",
              "      <td>0.0517</td>\n",
              "      <td>0.0102</td>\n",
              "      <td>0.0000</td>\n",
              "      <td>0.0051</td>\n",
              "      <td>0.0000</td>\n",
              "      <td>0.0051</td>\n",
              "    </tr>\n",
              "    <tr>\n",
              "      <th>Chattahoochee Valley Community College</th>\n",
              "      <td>0.4661</td>\n",
              "      <td>0.4372</td>\n",
              "      <td>0.0492</td>\n",
              "      <td>0.0127</td>\n",
              "      <td>0.0023</td>\n",
              "      <td>0.0035</td>\n",
              "      <td>0.0151</td>\n",
              "      <td>0.0000</td>\n",
              "      <td>0.0139</td>\n",
              "    </tr>\n",
              "    <tr>\n",
              "      <th>Concordia College Alabama</th>\n",
              "      <td>0.0280</td>\n",
              "      <td>0.8758</td>\n",
              "      <td>0.0373</td>\n",
              "      <td>0.0093</td>\n",
              "      <td>0.0000</td>\n",
              "      <td>0.0000</td>\n",
              "      <td>0.0031</td>\n",
              "      <td>0.0466</td>\n",
              "      <td>0.0000</td>\n",
              "    </tr>\n",
              "    <tr>\n",
              "      <th>South University-Montgomery</th>\n",
              "      <td>0.3046</td>\n",
              "      <td>0.6054</td>\n",
              "      <td>0.0153</td>\n",
              "      <td>0.0153</td>\n",
              "      <td>0.0153</td>\n",
              "      <td>0.0096</td>\n",
              "      <td>0.0000</td>\n",
              "      <td>0.0019</td>\n",
              "      <td>0.0326</td>\n",
              "    </tr>\n",
              "    <tr>\n",
              "      <th>Enterprise State Community College</th>\n",
              "      <td>0.6408</td>\n",
              "      <td>0.2435</td>\n",
              "      <td>0.0509</td>\n",
              "      <td>0.0202</td>\n",
              "      <td>0.0081</td>\n",
              "      <td>0.0029</td>\n",
              "      <td>0.0254</td>\n",
              "      <td>0.0012</td>\n",
              "      <td>0.0069</td>\n",
              "    </tr>\n",
              "    <tr>\n",
              "      <th>James H Faulkner State Community College</th>\n",
              "      <td>0.6979</td>\n",
              "      <td>0.2259</td>\n",
              "      <td>0.0320</td>\n",
              "      <td>0.0084</td>\n",
              "      <td>0.0177</td>\n",
              "      <td>0.0014</td>\n",
              "      <td>0.0152</td>\n",
              "      <td>0.0007</td>\n",
              "      <td>0.0009</td>\n",
              "    </tr>\n",
              "  </tbody>\n",
              "</table>\n",
              "</div>"
            ],
            "text/plain": [
              "                                          UGDS_WHITE  UGDS_BLACK  UGDS_HISP  \\\n",
              "INSTNM                                                                        \n",
              "Birmingham Southern College                   0.7983      0.1102     0.0195   \n",
              "Chattahoochee Valley Community College        0.4661      0.4372     0.0492   \n",
              "Concordia College Alabama                     0.0280      0.8758     0.0373   \n",
              "South University-Montgomery                   0.3046      0.6054     0.0153   \n",
              "Enterprise State Community College            0.6408      0.2435     0.0509   \n",
              "James H Faulkner State Community College      0.6979      0.2259     0.0320   \n",
              "\n",
              "                                          UGDS_ASIAN  UGDS_AIAN  UGDS_NHPI  \\\n",
              "INSTNM                                                                       \n",
              "Birmingham Southern College                   0.0517     0.0102     0.0000   \n",
              "Chattahoochee Valley Community College        0.0127     0.0023     0.0035   \n",
              "Concordia College Alabama                     0.0093     0.0000     0.0000   \n",
              "South University-Montgomery                   0.0153     0.0153     0.0096   \n",
              "Enterprise State Community College            0.0202     0.0081     0.0029   \n",
              "James H Faulkner State Community College      0.0084     0.0177     0.0014   \n",
              "\n",
              "                                          UGDS_2MOR  UGDS_NRA  UGDS_UNKN  \n",
              "INSTNM                                                                    \n",
              "Birmingham Southern College                  0.0051    0.0000     0.0051  \n",
              "Chattahoochee Valley Community College       0.0151    0.0000     0.0139  \n",
              "Concordia College Alabama                    0.0031    0.0466     0.0000  \n",
              "South University-Montgomery                  0.0000    0.0019     0.0326  \n",
              "Enterprise State Community College           0.0254    0.0012     0.0069  \n",
              "James H Faulkner State Community College     0.0152    0.0007     0.0009  "
            ]
          },
          "metadata": {
            "tags": []
          },
          "execution_count": 157
        }
      ]
    },
    {
      "cell_type": "markdown",
      "metadata": {
        "id": "dyc4C6HVCTaU",
        "colab_type": "text"
      },
      "source": [
        "# Speeding up scalar selection"
      ]
    },
    {
      "cell_type": "code",
      "metadata": {
        "id": "8ybvvB8SCTaV",
        "colab_type": "code",
        "outputId": "4d4601ba-39cf-45cb-f1d7-5f0d0e4fccd6",
        "colab": {}
      },
      "source": [
        "college = pd.read_csv('data/college.csv', index_col='INSTNM')\n",
        "college.loc['Texas A & M University-College Station', 'UGDS_WHITE']"
      ],
      "execution_count": 0,
      "outputs": [
        {
          "output_type": "execute_result",
          "data": {
            "text/plain": [
              "0.66099999999999992"
            ]
          },
          "metadata": {
            "tags": []
          },
          "execution_count": 163
        }
      ]
    },
    {
      "cell_type": "code",
      "metadata": {
        "id": "bVU2b9S_CTaZ",
        "colab_type": "code",
        "outputId": "cfb5c002-8d40-43d3-f474-2f9aefd50599",
        "colab": {}
      },
      "source": [
        "college.at['Texas A & M University-College Station', 'UGDS_WHITE']"
      ],
      "execution_count": 0,
      "outputs": [
        {
          "output_type": "execute_result",
          "data": {
            "text/plain": [
              "0.66099999999999992"
            ]
          },
          "metadata": {
            "tags": []
          },
          "execution_count": 164
        }
      ]
    },
    {
      "cell_type": "code",
      "metadata": {
        "id": "gmUqhGBiCTac",
        "colab_type": "code",
        "outputId": "f6c0147a-130c-488d-95af-97f9890b7e4c",
        "colab": {}
      },
      "source": [
        "%timeit college.loc['Texas A & M University-College Station', 'UGDS_WHITE']"
      ],
      "execution_count": 0,
      "outputs": [
        {
          "output_type": "stream",
          "text": [
            "8.97 µs ± 617 ns per loop (mean ± std. dev. of 7 runs, 100000 loops each)\n"
          ],
          "name": "stdout"
        }
      ]
    },
    {
      "cell_type": "code",
      "metadata": {
        "id": "2JCT4o6aCTad",
        "colab_type": "code",
        "outputId": "c602287f-bc63-4081-d5cd-a7db54673bf9",
        "colab": {}
      },
      "source": [
        "%timeit college.at['Texas A & M University-College Station', 'UGDS_WHITE']"
      ],
      "execution_count": 0,
      "outputs": [
        {
          "output_type": "stream",
          "text": [
            "6.28 µs ± 214 ns per loop (mean ± std. dev. of 7 runs, 100000 loops each)\n"
          ],
          "name": "stdout"
        }
      ]
    },
    {
      "cell_type": "code",
      "metadata": {
        "id": "M8L6BWK1CTaf",
        "colab_type": "code",
        "colab": {}
      },
      "source": [
        "row_num = college.index.get_loc('Texas A & M University-College Station')\n",
        "col_num = college.columns.get_loc('UGDS_WHITE')"
      ],
      "execution_count": 0,
      "outputs": []
    },
    {
      "cell_type": "code",
      "metadata": {
        "id": "yxnnsM4lCTai",
        "colab_type": "code",
        "outputId": "3e92b456-f5c1-433b-a65c-32ffac13b89d",
        "colab": {}
      },
      "source": [
        "row_num, col_num"
      ],
      "execution_count": 0,
      "outputs": [
        {
          "output_type": "execute_result",
          "data": {
            "text/plain": [
              "(3765, 10)"
            ]
          },
          "metadata": {
            "tags": []
          },
          "execution_count": 168
        }
      ]
    },
    {
      "cell_type": "code",
      "metadata": {
        "id": "lxWz2ReECTam",
        "colab_type": "code",
        "outputId": "43823d4c-ea67-4ae8-c02a-f746ec5d8f1d",
        "colab": {}
      },
      "source": [
        "%timeit college.iloc[row_num, col_num]"
      ],
      "execution_count": 0,
      "outputs": [
        {
          "output_type": "stream",
          "text": [
            "9.74 µs ± 153 ns per loop (mean ± std. dev. of 7 runs, 100000 loops each)\n"
          ],
          "name": "stdout"
        }
      ]
    },
    {
      "cell_type": "code",
      "metadata": {
        "id": "xRzilqSACTao",
        "colab_type": "code",
        "outputId": "7fae3443-44d1-4525-a922-020d25a0f7f1",
        "colab": {}
      },
      "source": [
        "%timeit college.iat[row_num, col_num]"
      ],
      "execution_count": 0,
      "outputs": [
        {
          "output_type": "stream",
          "text": [
            "7.29 µs ± 431 ns per loop (mean ± std. dev. of 7 runs, 100000 loops each)\n"
          ],
          "name": "stdout"
        }
      ]
    },
    {
      "cell_type": "code",
      "metadata": {
        "id": "AigCzqSECTap",
        "colab_type": "code",
        "outputId": "cc08de92-25e3-46a4-8ed8-b1ed25f6e6a1",
        "colab": {}
      },
      "source": [
        "%timeit college.iloc[5, col_num]"
      ],
      "execution_count": 0,
      "outputs": [
        {
          "output_type": "stream",
          "text": [
            "10.6 µs ± 725 ns per loop (mean ± std. dev. of 7 runs, 100000 loops each)\n"
          ],
          "name": "stdout"
        }
      ]
    },
    {
      "cell_type": "code",
      "metadata": {
        "id": "O8LrVl8jCTaq",
        "colab_type": "code",
        "outputId": "d1c847d7-3bd0-4caf-982d-ce14559f0cdd",
        "colab": {}
      },
      "source": [
        "%timeit college.iat[5, col_num]"
      ],
      "execution_count": 0,
      "outputs": [
        {
          "output_type": "stream",
          "text": [
            "6.59 µs ± 53.5 ns per loop (mean ± std. dev. of 7 runs, 100000 loops each)\n"
          ],
          "name": "stdout"
        }
      ]
    },
    {
      "cell_type": "markdown",
      "metadata": {
        "id": "KIzXVvKcCTas",
        "colab_type": "text"
      },
      "source": [
        "## There's more..."
      ]
    },
    {
      "cell_type": "code",
      "metadata": {
        "collapsed": true,
        "id": "4BlldngWCTas",
        "colab_type": "code",
        "colab": {}
      },
      "source": [
        "state = college['STABBR']"
      ],
      "execution_count": 0,
      "outputs": []
    },
    {
      "cell_type": "code",
      "metadata": {
        "id": "K2sQyCOnCTau",
        "colab_type": "code",
        "outputId": "b72ffaf6-0131-497b-fa9e-84f4265439be",
        "colab": {}
      },
      "source": [
        "state.iat[1000]"
      ],
      "execution_count": 0,
      "outputs": [
        {
          "output_type": "execute_result",
          "data": {
            "text/plain": [
              "'IL'"
            ]
          },
          "metadata": {
            "tags": []
          },
          "execution_count": 196
        }
      ]
    },
    {
      "cell_type": "code",
      "metadata": {
        "id": "l54vGGiYCTaw",
        "colab_type": "code",
        "outputId": "cb31692f-5380-44e5-8cdd-a6366ebc00df",
        "colab": {}
      },
      "source": [
        "state.at['Stanford University']"
      ],
      "execution_count": 0,
      "outputs": [
        {
          "output_type": "execute_result",
          "data": {
            "text/plain": [
              "'CA'"
            ]
          },
          "metadata": {
            "tags": []
          },
          "execution_count": 197
        }
      ]
    },
    {
      "cell_type": "markdown",
      "metadata": {
        "id": "6YHlOvlDCTaz",
        "colab_type": "text"
      },
      "source": [
        "# Slicing rows lazily"
      ]
    },
    {
      "cell_type": "code",
      "metadata": {
        "id": "fS4ETpIMCTaz",
        "colab_type": "code",
        "outputId": "abdffd9c-93de-4644-a426-2748bb242938",
        "colab": {}
      },
      "source": [
        "college = pd.read_csv('data/college.csv', index_col='INSTNM')\n",
        "college[10:20:2]"
      ],
      "execution_count": 0,
      "outputs": [
        {
          "output_type": "execute_result",
          "data": {
            "text/html": [
              "<div>\n",
              "<style>\n",
              "    .dataframe thead tr:only-child th {\n",
              "        text-align: right;\n",
              "    }\n",
              "\n",
              "    .dataframe thead th {\n",
              "        text-align: left;\n",
              "    }\n",
              "\n",
              "    .dataframe tbody tr th {\n",
              "        vertical-align: top;\n",
              "    }\n",
              "</style>\n",
              "<table border=\"1\" class=\"dataframe\">\n",
              "  <thead>\n",
              "    <tr style=\"text-align: right;\">\n",
              "      <th></th>\n",
              "      <th>CITY</th>\n",
              "      <th>STABBR</th>\n",
              "      <th>HBCU</th>\n",
              "      <th>MENONLY</th>\n",
              "      <th>WOMENONLY</th>\n",
              "      <th>RELAFFIL</th>\n",
              "      <th>SATVRMID</th>\n",
              "      <th>SATMTMID</th>\n",
              "      <th>DISTANCEONLY</th>\n",
              "      <th>UGDS</th>\n",
              "      <th>...</th>\n",
              "      <th>UGDS_2MOR</th>\n",
              "      <th>UGDS_NRA</th>\n",
              "      <th>UGDS_UNKN</th>\n",
              "      <th>PPTUG_EF</th>\n",
              "      <th>CURROPER</th>\n",
              "      <th>PCTPELL</th>\n",
              "      <th>PCTFLOAN</th>\n",
              "      <th>UG25ABV</th>\n",
              "      <th>MD_EARN_WNE_P10</th>\n",
              "      <th>GRAD_DEBT_MDN_SUPP</th>\n",
              "    </tr>\n",
              "    <tr>\n",
              "      <th>INSTNM</th>\n",
              "      <th></th>\n",
              "      <th></th>\n",
              "      <th></th>\n",
              "      <th></th>\n",
              "      <th></th>\n",
              "      <th></th>\n",
              "      <th></th>\n",
              "      <th></th>\n",
              "      <th></th>\n",
              "      <th></th>\n",
              "      <th></th>\n",
              "      <th></th>\n",
              "      <th></th>\n",
              "      <th></th>\n",
              "      <th></th>\n",
              "      <th></th>\n",
              "      <th></th>\n",
              "      <th></th>\n",
              "      <th></th>\n",
              "      <th></th>\n",
              "      <th></th>\n",
              "    </tr>\n",
              "  </thead>\n",
              "  <tbody>\n",
              "    <tr>\n",
              "      <th>Birmingham Southern College</th>\n",
              "      <td>Birmingham</td>\n",
              "      <td>AL</td>\n",
              "      <td>0.0</td>\n",
              "      <td>0.0</td>\n",
              "      <td>0.0</td>\n",
              "      <td>1</td>\n",
              "      <td>560.0</td>\n",
              "      <td>560.0</td>\n",
              "      <td>0.0</td>\n",
              "      <td>1180.0</td>\n",
              "      <td>...</td>\n",
              "      <td>0.0051</td>\n",
              "      <td>0.0000</td>\n",
              "      <td>0.0051</td>\n",
              "      <td>0.0017</td>\n",
              "      <td>1</td>\n",
              "      <td>0.1920</td>\n",
              "      <td>0.4809</td>\n",
              "      <td>0.0152</td>\n",
              "      <td>44200</td>\n",
              "      <td>27000</td>\n",
              "    </tr>\n",
              "    <tr>\n",
              "      <th>Concordia College Alabama</th>\n",
              "      <td>Selma</td>\n",
              "      <td>AL</td>\n",
              "      <td>1.0</td>\n",
              "      <td>0.0</td>\n",
              "      <td>0.0</td>\n",
              "      <td>1</td>\n",
              "      <td>420.0</td>\n",
              "      <td>400.0</td>\n",
              "      <td>0.0</td>\n",
              "      <td>322.0</td>\n",
              "      <td>...</td>\n",
              "      <td>0.0031</td>\n",
              "      <td>0.0466</td>\n",
              "      <td>0.0000</td>\n",
              "      <td>0.1056</td>\n",
              "      <td>1</td>\n",
              "      <td>0.8667</td>\n",
              "      <td>0.9333</td>\n",
              "      <td>0.2367</td>\n",
              "      <td>19900</td>\n",
              "      <td>PrivacySuppressed</td>\n",
              "    </tr>\n",
              "    <tr>\n",
              "      <th>Enterprise State Community College</th>\n",
              "      <td>Enterprise</td>\n",
              "      <td>AL</td>\n",
              "      <td>0.0</td>\n",
              "      <td>0.0</td>\n",
              "      <td>0.0</td>\n",
              "      <td>0</td>\n",
              "      <td>NaN</td>\n",
              "      <td>NaN</td>\n",
              "      <td>0.0</td>\n",
              "      <td>1729.0</td>\n",
              "      <td>...</td>\n",
              "      <td>0.0254</td>\n",
              "      <td>0.0012</td>\n",
              "      <td>0.0069</td>\n",
              "      <td>0.3823</td>\n",
              "      <td>1</td>\n",
              "      <td>0.4895</td>\n",
              "      <td>0.2263</td>\n",
              "      <td>0.3399</td>\n",
              "      <td>24600</td>\n",
              "      <td>8273</td>\n",
              "    </tr>\n",
              "    <tr>\n",
              "      <th>Faulkner University</th>\n",
              "      <td>Montgomery</td>\n",
              "      <td>AL</td>\n",
              "      <td>0.0</td>\n",
              "      <td>0.0</td>\n",
              "      <td>0.0</td>\n",
              "      <td>1</td>\n",
              "      <td>NaN</td>\n",
              "      <td>NaN</td>\n",
              "      <td>0.0</td>\n",
              "      <td>2367.0</td>\n",
              "      <td>...</td>\n",
              "      <td>0.0173</td>\n",
              "      <td>0.0182</td>\n",
              "      <td>0.0258</td>\n",
              "      <td>0.2302</td>\n",
              "      <td>1</td>\n",
              "      <td>0.5812</td>\n",
              "      <td>0.7253</td>\n",
              "      <td>0.4589</td>\n",
              "      <td>37200</td>\n",
              "      <td>22000</td>\n",
              "    </tr>\n",
              "    <tr>\n",
              "      <th>New Beginning College of Cosmetology</th>\n",
              "      <td>Albertville</td>\n",
              "      <td>AL</td>\n",
              "      <td>0.0</td>\n",
              "      <td>0.0</td>\n",
              "      <td>0.0</td>\n",
              "      <td>0</td>\n",
              "      <td>NaN</td>\n",
              "      <td>NaN</td>\n",
              "      <td>0.0</td>\n",
              "      <td>115.0</td>\n",
              "      <td>...</td>\n",
              "      <td>0.0000</td>\n",
              "      <td>0.0000</td>\n",
              "      <td>0.0000</td>\n",
              "      <td>0.0783</td>\n",
              "      <td>1</td>\n",
              "      <td>0.8224</td>\n",
              "      <td>0.8553</td>\n",
              "      <td>0.3933</td>\n",
              "      <td>NaN</td>\n",
              "      <td>5500</td>\n",
              "    </tr>\n",
              "  </tbody>\n",
              "</table>\n",
              "<p>5 rows × 26 columns</p>\n",
              "</div>"
            ],
            "text/plain": [
              "                                             CITY STABBR  HBCU  MENONLY  \\\n",
              "INSTNM                                                                    \n",
              "Birmingham Southern College            Birmingham     AL   0.0      0.0   \n",
              "Concordia College Alabama                   Selma     AL   1.0      0.0   \n",
              "Enterprise State Community College     Enterprise     AL   0.0      0.0   \n",
              "Faulkner University                    Montgomery     AL   0.0      0.0   \n",
              "New Beginning College of Cosmetology  Albertville     AL   0.0      0.0   \n",
              "\n",
              "                                      WOMENONLY  RELAFFIL  SATVRMID  SATMTMID  \\\n",
              "INSTNM                                                                          \n",
              "Birmingham Southern College                 0.0         1     560.0     560.0   \n",
              "Concordia College Alabama                   0.0         1     420.0     400.0   \n",
              "Enterprise State Community College          0.0         0       NaN       NaN   \n",
              "Faulkner University                         0.0         1       NaN       NaN   \n",
              "New Beginning College of Cosmetology        0.0         0       NaN       NaN   \n",
              "\n",
              "                                      DISTANCEONLY    UGDS  \\\n",
              "INSTNM                                                       \n",
              "Birmingham Southern College                    0.0  1180.0   \n",
              "Concordia College Alabama                      0.0   322.0   \n",
              "Enterprise State Community College             0.0  1729.0   \n",
              "Faulkner University                            0.0  2367.0   \n",
              "New Beginning College of Cosmetology           0.0   115.0   \n",
              "\n",
              "                                             ...          UGDS_2MOR  UGDS_NRA  \\\n",
              "INSTNM                                       ...                                \n",
              "Birmingham Southern College                  ...             0.0051    0.0000   \n",
              "Concordia College Alabama                    ...             0.0031    0.0466   \n",
              "Enterprise State Community College           ...             0.0254    0.0012   \n",
              "Faulkner University                          ...             0.0173    0.0182   \n",
              "New Beginning College of Cosmetology         ...             0.0000    0.0000   \n",
              "\n",
              "                                      UGDS_UNKN  PPTUG_EF  CURROPER  PCTPELL  \\\n",
              "INSTNM                                                                         \n",
              "Birmingham Southern College              0.0051    0.0017         1   0.1920   \n",
              "Concordia College Alabama                0.0000    0.1056         1   0.8667   \n",
              "Enterprise State Community College       0.0069    0.3823         1   0.4895   \n",
              "Faulkner University                      0.0258    0.2302         1   0.5812   \n",
              "New Beginning College of Cosmetology     0.0000    0.0783         1   0.8224   \n",
              "\n",
              "                                      PCTFLOAN  UG25ABV  MD_EARN_WNE_P10  \\\n",
              "INSTNM                                                                     \n",
              "Birmingham Southern College             0.4809   0.0152            44200   \n",
              "Concordia College Alabama               0.9333   0.2367            19900   \n",
              "Enterprise State Community College      0.2263   0.3399            24600   \n",
              "Faulkner University                     0.7253   0.4589            37200   \n",
              "New Beginning College of Cosmetology    0.8553   0.3933              NaN   \n",
              "\n",
              "                                      GRAD_DEBT_MDN_SUPP  \n",
              "INSTNM                                                    \n",
              "Birmingham Southern College                        27000  \n",
              "Concordia College Alabama              PrivacySuppressed  \n",
              "Enterprise State Community College                  8273  \n",
              "Faulkner University                                22000  \n",
              "New Beginning College of Cosmetology                5500  \n",
              "\n",
              "[5 rows x 26 columns]"
            ]
          },
          "metadata": {
            "tags": []
          },
          "execution_count": 245
        }
      ]
    },
    {
      "cell_type": "code",
      "metadata": {
        "id": "GU4LMBqECTa1",
        "colab_type": "code",
        "outputId": "fb865c46-b314-49be-e504-cac3d6992114",
        "colab": {}
      },
      "source": [
        "city[10:20:2]"
      ],
      "execution_count": 0,
      "outputs": [
        {
          "output_type": "execute_result",
          "data": {
            "text/plain": [
              "INSTNM\n",
              "Birmingham Southern College              Birmingham\n",
              "Concordia College Alabama                     Selma\n",
              "Enterprise State Community College       Enterprise\n",
              "Faulkner University                      Montgomery\n",
              "New Beginning College of Cosmetology    Albertville\n",
              "Name: CITY, dtype: object"
            ]
          },
          "metadata": {
            "tags": []
          },
          "execution_count": 202
        }
      ]
    },
    {
      "cell_type": "code",
      "metadata": {
        "id": "3NNgJXD9CTa5",
        "colab_type": "code",
        "outputId": "7341a67f-3864-4cbc-a858-d63abd0f3573",
        "colab": {}
      },
      "source": [
        "college.index[4001]"
      ],
      "execution_count": 0,
      "outputs": [
        {
          "output_type": "execute_result",
          "data": {
            "text/plain": [
              "'Spokane Community College'"
            ]
          },
          "metadata": {
            "tags": []
          },
          "execution_count": 249
        }
      ]
    },
    {
      "cell_type": "code",
      "metadata": {
        "id": "arK_VIWBCTa6",
        "colab_type": "code",
        "outputId": "9495f6b7-4d2c-4816-ab4a-804a8342ee6f",
        "colab": {}
      },
      "source": [
        "college['Mesa Community College':'Spokane Community College':1500]"
      ],
      "execution_count": 0,
      "outputs": [
        {
          "output_type": "execute_result",
          "data": {
            "text/html": [
              "<div>\n",
              "<style>\n",
              "    .dataframe thead tr:only-child th {\n",
              "        text-align: right;\n",
              "    }\n",
              "\n",
              "    .dataframe thead th {\n",
              "        text-align: left;\n",
              "    }\n",
              "\n",
              "    .dataframe tbody tr th {\n",
              "        vertical-align: top;\n",
              "    }\n",
              "</style>\n",
              "<table border=\"1\" class=\"dataframe\">\n",
              "  <thead>\n",
              "    <tr style=\"text-align: right;\">\n",
              "      <th></th>\n",
              "      <th>CITY</th>\n",
              "      <th>STABBR</th>\n",
              "      <th>HBCU</th>\n",
              "      <th>MENONLY</th>\n",
              "      <th>WOMENONLY</th>\n",
              "      <th>RELAFFIL</th>\n",
              "      <th>SATVRMID</th>\n",
              "      <th>SATMTMID</th>\n",
              "      <th>DISTANCEONLY</th>\n",
              "      <th>UGDS</th>\n",
              "      <th>...</th>\n",
              "      <th>UGDS_2MOR</th>\n",
              "      <th>UGDS_NRA</th>\n",
              "      <th>UGDS_UNKN</th>\n",
              "      <th>PPTUG_EF</th>\n",
              "      <th>CURROPER</th>\n",
              "      <th>PCTPELL</th>\n",
              "      <th>PCTFLOAN</th>\n",
              "      <th>UG25ABV</th>\n",
              "      <th>MD_EARN_WNE_P10</th>\n",
              "      <th>GRAD_DEBT_MDN_SUPP</th>\n",
              "    </tr>\n",
              "    <tr>\n",
              "      <th>INSTNM</th>\n",
              "      <th></th>\n",
              "      <th></th>\n",
              "      <th></th>\n",
              "      <th></th>\n",
              "      <th></th>\n",
              "      <th></th>\n",
              "      <th></th>\n",
              "      <th></th>\n",
              "      <th></th>\n",
              "      <th></th>\n",
              "      <th></th>\n",
              "      <th></th>\n",
              "      <th></th>\n",
              "      <th></th>\n",
              "      <th></th>\n",
              "      <th></th>\n",
              "      <th></th>\n",
              "      <th></th>\n",
              "      <th></th>\n",
              "      <th></th>\n",
              "      <th></th>\n",
              "    </tr>\n",
              "  </thead>\n",
              "  <tbody>\n",
              "    <tr>\n",
              "      <th>Mesa Community College</th>\n",
              "      <td>Mesa</td>\n",
              "      <td>AZ</td>\n",
              "      <td>0.0</td>\n",
              "      <td>0.0</td>\n",
              "      <td>0.0</td>\n",
              "      <td>0</td>\n",
              "      <td>NaN</td>\n",
              "      <td>NaN</td>\n",
              "      <td>0.0</td>\n",
              "      <td>19055.0</td>\n",
              "      <td>...</td>\n",
              "      <td>0.0205</td>\n",
              "      <td>0.0257</td>\n",
              "      <td>0.0682</td>\n",
              "      <td>0.6457</td>\n",
              "      <td>1</td>\n",
              "      <td>0.3423</td>\n",
              "      <td>0.2207</td>\n",
              "      <td>0.4010</td>\n",
              "      <td>35200</td>\n",
              "      <td>8000</td>\n",
              "    </tr>\n",
              "    <tr>\n",
              "      <th>Hair Academy Inc-New Carrollton</th>\n",
              "      <td>New Carrollton</td>\n",
              "      <td>MD</td>\n",
              "      <td>0.0</td>\n",
              "      <td>0.0</td>\n",
              "      <td>0.0</td>\n",
              "      <td>0</td>\n",
              "      <td>NaN</td>\n",
              "      <td>NaN</td>\n",
              "      <td>0.0</td>\n",
              "      <td>504.0</td>\n",
              "      <td>...</td>\n",
              "      <td>0.0000</td>\n",
              "      <td>0.0000</td>\n",
              "      <td>0.0000</td>\n",
              "      <td>0.4683</td>\n",
              "      <td>1</td>\n",
              "      <td>0.9756</td>\n",
              "      <td>1.0000</td>\n",
              "      <td>0.5882</td>\n",
              "      <td>15200</td>\n",
              "      <td>9666</td>\n",
              "    </tr>\n",
              "    <tr>\n",
              "      <th>National College of Natural Medicine</th>\n",
              "      <td>Portland</td>\n",
              "      <td>OR</td>\n",
              "      <td>0.0</td>\n",
              "      <td>0.0</td>\n",
              "      <td>0.0</td>\n",
              "      <td>0</td>\n",
              "      <td>NaN</td>\n",
              "      <td>NaN</td>\n",
              "      <td>0.0</td>\n",
              "      <td>NaN</td>\n",
              "      <td>...</td>\n",
              "      <td>NaN</td>\n",
              "      <td>NaN</td>\n",
              "      <td>NaN</td>\n",
              "      <td>NaN</td>\n",
              "      <td>1</td>\n",
              "      <td>NaN</td>\n",
              "      <td>NaN</td>\n",
              "      <td>NaN</td>\n",
              "      <td>NaN</td>\n",
              "      <td>PrivacySuppressed</td>\n",
              "    </tr>\n",
              "  </tbody>\n",
              "</table>\n",
              "<p>3 rows × 26 columns</p>\n",
              "</div>"
            ],
            "text/plain": [
              "                                                CITY STABBR  HBCU  MENONLY  \\\n",
              "INSTNM                                                                       \n",
              "Mesa Community College                          Mesa     AZ   0.0      0.0   \n",
              "Hair Academy Inc-New Carrollton       New Carrollton     MD   0.0      0.0   \n",
              "National College of Natural Medicine        Portland     OR   0.0      0.0   \n",
              "\n",
              "                                      WOMENONLY  RELAFFIL  SATVRMID  SATMTMID  \\\n",
              "INSTNM                                                                          \n",
              "Mesa Community College                      0.0         0       NaN       NaN   \n",
              "Hair Academy Inc-New Carrollton             0.0         0       NaN       NaN   \n",
              "National College of Natural Medicine        0.0         0       NaN       NaN   \n",
              "\n",
              "                                      DISTANCEONLY     UGDS  \\\n",
              "INSTNM                                                        \n",
              "Mesa Community College                         0.0  19055.0   \n",
              "Hair Academy Inc-New Carrollton                0.0    504.0   \n",
              "National College of Natural Medicine           0.0      NaN   \n",
              "\n",
              "                                             ...          UGDS_2MOR  UGDS_NRA  \\\n",
              "INSTNM                                       ...                                \n",
              "Mesa Community College                       ...             0.0205    0.0257   \n",
              "Hair Academy Inc-New Carrollton              ...             0.0000    0.0000   \n",
              "National College of Natural Medicine         ...                NaN       NaN   \n",
              "\n",
              "                                      UGDS_UNKN  PPTUG_EF  CURROPER  PCTPELL  \\\n",
              "INSTNM                                                                         \n",
              "Mesa Community College                   0.0682    0.6457         1   0.3423   \n",
              "Hair Academy Inc-New Carrollton          0.0000    0.4683         1   0.9756   \n",
              "National College of Natural Medicine        NaN       NaN         1      NaN   \n",
              "\n",
              "                                      PCTFLOAN  UG25ABV  MD_EARN_WNE_P10  \\\n",
              "INSTNM                                                                     \n",
              "Mesa Community College                  0.2207   0.4010            35200   \n",
              "Hair Academy Inc-New Carrollton         1.0000   0.5882            15200   \n",
              "National College of Natural Medicine       NaN      NaN              NaN   \n",
              "\n",
              "                                      GRAD_DEBT_MDN_SUPP  \n",
              "INSTNM                                                    \n",
              "Mesa Community College                              8000  \n",
              "Hair Academy Inc-New Carrollton                     9666  \n",
              "National College of Natural Medicine   PrivacySuppressed  \n",
              "\n",
              "[3 rows x 26 columns]"
            ]
          },
          "metadata": {
            "tags": []
          },
          "execution_count": 256
        }
      ]
    },
    {
      "cell_type": "code",
      "metadata": {
        "id": "OfDaIlzLCTa9",
        "colab_type": "code",
        "outputId": "e05c0fb0-6462-47f9-b8b1-f2c8403fcaef",
        "colab": {}
      },
      "source": [
        "city['Mesa Community College':'Spokane Community College':1500]"
      ],
      "execution_count": 0,
      "outputs": [
        {
          "output_type": "execute_result",
          "data": {
            "text/plain": [
              "INSTNM\n",
              "Mesa Community College                            Mesa\n",
              "Hair Academy Inc-New Carrollton         New Carrollton\n",
              "National College of Natural Medicine          Portland\n",
              "Name: CITY, dtype: object"
            ]
          },
          "metadata": {
            "tags": []
          },
          "execution_count": 304
        }
      ]
    },
    {
      "cell_type": "markdown",
      "metadata": {
        "id": "3t40NoArCTbA",
        "colab_type": "text"
      },
      "source": [
        "## There's more..."
      ]
    },
    {
      "cell_type": "code",
      "metadata": {
        "id": "-UKDU03jCTbA",
        "colab_type": "code",
        "outputId": "3265a6fb-9746-4a55-fba7-181f94c91a03",
        "colab": {}
      },
      "source": [
        "college[:10, ['CITY', 'STABBR']]"
      ],
      "execution_count": 0,
      "outputs": [
        {
          "output_type": "error",
          "ename": "TypeError",
          "evalue": "unhashable type: 'slice'",
          "traceback": [
            "\u001b[0;31m---------------------------------------------------------------------------\u001b[0m",
            "\u001b[0;31mTypeError\u001b[0m                                 Traceback (most recent call last)",
            "\u001b[0;32m<ipython-input-306-92538c61bdfa>\u001b[0m in \u001b[0;36m<module>\u001b[0;34m()\u001b[0m\n\u001b[0;32m----> 1\u001b[0;31m \u001b[0mcollege\u001b[0m\u001b[0;34m[\u001b[0m\u001b[0;34m:\u001b[0m\u001b[0;36m10\u001b[0m\u001b[0;34m,\u001b[0m \u001b[0;34m[\u001b[0m\u001b[0;34m'CITY'\u001b[0m\u001b[0;34m,\u001b[0m \u001b[0;34m'STABBR'\u001b[0m\u001b[0;34m]\u001b[0m\u001b[0;34m]\u001b[0m\u001b[0;34m\u001b[0m\u001b[0m\n\u001b[0m",
            "\u001b[0;32m/Users/Ted/anaconda/lib/python3.6/site-packages/pandas/core/frame.py\u001b[0m in \u001b[0;36m__getitem__\u001b[0;34m(self, key)\u001b[0m\n\u001b[1;32m   1962\u001b[0m             \u001b[0;32mreturn\u001b[0m \u001b[0mself\u001b[0m\u001b[0;34m.\u001b[0m\u001b[0m_getitem_multilevel\u001b[0m\u001b[0;34m(\u001b[0m\u001b[0mkey\u001b[0m\u001b[0;34m)\u001b[0m\u001b[0;34m\u001b[0m\u001b[0m\n\u001b[1;32m   1963\u001b[0m         \u001b[0;32melse\u001b[0m\u001b[0;34m:\u001b[0m\u001b[0;34m\u001b[0m\u001b[0m\n\u001b[0;32m-> 1964\u001b[0;31m             \u001b[0;32mreturn\u001b[0m \u001b[0mself\u001b[0m\u001b[0;34m.\u001b[0m\u001b[0m_getitem_column\u001b[0m\u001b[0;34m(\u001b[0m\u001b[0mkey\u001b[0m\u001b[0;34m)\u001b[0m\u001b[0;34m\u001b[0m\u001b[0m\n\u001b[0m\u001b[1;32m   1965\u001b[0m \u001b[0;34m\u001b[0m\u001b[0m\n\u001b[1;32m   1966\u001b[0m     \u001b[0;32mdef\u001b[0m \u001b[0m_getitem_column\u001b[0m\u001b[0;34m(\u001b[0m\u001b[0mself\u001b[0m\u001b[0;34m,\u001b[0m \u001b[0mkey\u001b[0m\u001b[0;34m)\u001b[0m\u001b[0;34m:\u001b[0m\u001b[0;34m\u001b[0m\u001b[0m\n",
            "\u001b[0;32m/Users/Ted/anaconda/lib/python3.6/site-packages/pandas/core/frame.py\u001b[0m in \u001b[0;36m_getitem_column\u001b[0;34m(self, key)\u001b[0m\n\u001b[1;32m   1969\u001b[0m         \u001b[0;31m# get column\u001b[0m\u001b[0;34m\u001b[0m\u001b[0;34m\u001b[0m\u001b[0m\n\u001b[1;32m   1970\u001b[0m         \u001b[0;32mif\u001b[0m \u001b[0mself\u001b[0m\u001b[0;34m.\u001b[0m\u001b[0mcolumns\u001b[0m\u001b[0;34m.\u001b[0m\u001b[0mis_unique\u001b[0m\u001b[0;34m:\u001b[0m\u001b[0;34m\u001b[0m\u001b[0m\n\u001b[0;32m-> 1971\u001b[0;31m             \u001b[0;32mreturn\u001b[0m \u001b[0mself\u001b[0m\u001b[0;34m.\u001b[0m\u001b[0m_get_item_cache\u001b[0m\u001b[0;34m(\u001b[0m\u001b[0mkey\u001b[0m\u001b[0;34m)\u001b[0m\u001b[0;34m\u001b[0m\u001b[0m\n\u001b[0m\u001b[1;32m   1972\u001b[0m \u001b[0;34m\u001b[0m\u001b[0m\n\u001b[1;32m   1973\u001b[0m         \u001b[0;31m# duplicate columns & possible reduce dimensionality\u001b[0m\u001b[0;34m\u001b[0m\u001b[0;34m\u001b[0m\u001b[0m\n",
            "\u001b[0;32m/Users/Ted/anaconda/lib/python3.6/site-packages/pandas/core/generic.py\u001b[0m in \u001b[0;36m_get_item_cache\u001b[0;34m(self, item)\u001b[0m\n\u001b[1;32m   1641\u001b[0m         \u001b[0;34m\"\"\"Return the cached item, item represents a label indexer.\"\"\"\u001b[0m\u001b[0;34m\u001b[0m\u001b[0m\n\u001b[1;32m   1642\u001b[0m         \u001b[0mcache\u001b[0m \u001b[0;34m=\u001b[0m \u001b[0mself\u001b[0m\u001b[0;34m.\u001b[0m\u001b[0m_item_cache\u001b[0m\u001b[0;34m\u001b[0m\u001b[0m\n\u001b[0;32m-> 1643\u001b[0;31m         \u001b[0mres\u001b[0m \u001b[0;34m=\u001b[0m \u001b[0mcache\u001b[0m\u001b[0;34m.\u001b[0m\u001b[0mget\u001b[0m\u001b[0;34m(\u001b[0m\u001b[0mitem\u001b[0m\u001b[0;34m)\u001b[0m\u001b[0;34m\u001b[0m\u001b[0m\n\u001b[0m\u001b[1;32m   1644\u001b[0m         \u001b[0;32mif\u001b[0m \u001b[0mres\u001b[0m \u001b[0;32mis\u001b[0m \u001b[0;32mNone\u001b[0m\u001b[0;34m:\u001b[0m\u001b[0;34m\u001b[0m\u001b[0m\n\u001b[1;32m   1645\u001b[0m             \u001b[0mvalues\u001b[0m \u001b[0;34m=\u001b[0m \u001b[0mself\u001b[0m\u001b[0;34m.\u001b[0m\u001b[0m_data\u001b[0m\u001b[0;34m.\u001b[0m\u001b[0mget\u001b[0m\u001b[0;34m(\u001b[0m\u001b[0mitem\u001b[0m\u001b[0;34m)\u001b[0m\u001b[0;34m\u001b[0m\u001b[0m\n",
            "\u001b[0;31mTypeError\u001b[0m: unhashable type: 'slice'"
          ]
        }
      ]
    },
    {
      "cell_type": "code",
      "metadata": {
        "id": "NxY28eVSCTbC",
        "colab_type": "code",
        "outputId": "5ea2e3d6-bbd5-41d3-a50a-4bc64de6a6af",
        "colab": {}
      },
      "source": [
        "first_ten_instnm = college.index[:10]\n",
        "college.loc[first_ten_instnm, ['CITY', 'STABBR']]"
      ],
      "execution_count": 0,
      "outputs": [
        {
          "output_type": "execute_result",
          "data": {
            "text/html": [
              "<div>\n",
              "<style>\n",
              "    .dataframe thead tr:only-child th {\n",
              "        text-align: right;\n",
              "    }\n",
              "\n",
              "    .dataframe thead th {\n",
              "        text-align: left;\n",
              "    }\n",
              "\n",
              "    .dataframe tbody tr th {\n",
              "        vertical-align: top;\n",
              "    }\n",
              "</style>\n",
              "<table border=\"1\" class=\"dataframe\">\n",
              "  <thead>\n",
              "    <tr style=\"text-align: right;\">\n",
              "      <th></th>\n",
              "      <th>CITY</th>\n",
              "      <th>STABBR</th>\n",
              "    </tr>\n",
              "    <tr>\n",
              "      <th>INSTNM</th>\n",
              "      <th></th>\n",
              "      <th></th>\n",
              "    </tr>\n",
              "  </thead>\n",
              "  <tbody>\n",
              "    <tr>\n",
              "      <th>Alabama A &amp; M University</th>\n",
              "      <td>Normal</td>\n",
              "      <td>AL</td>\n",
              "    </tr>\n",
              "    <tr>\n",
              "      <th>University of Alabama at Birmingham</th>\n",
              "      <td>Birmingham</td>\n",
              "      <td>AL</td>\n",
              "    </tr>\n",
              "    <tr>\n",
              "      <th>Amridge University</th>\n",
              "      <td>Montgomery</td>\n",
              "      <td>AL</td>\n",
              "    </tr>\n",
              "    <tr>\n",
              "      <th>...</th>\n",
              "      <td>...</td>\n",
              "      <td>...</td>\n",
              "    </tr>\n",
              "    <tr>\n",
              "      <th>Athens State University</th>\n",
              "      <td>Athens</td>\n",
              "      <td>AL</td>\n",
              "    </tr>\n",
              "    <tr>\n",
              "      <th>Auburn University at Montgomery</th>\n",
              "      <td>Montgomery</td>\n",
              "      <td>AL</td>\n",
              "    </tr>\n",
              "    <tr>\n",
              "      <th>Auburn University</th>\n",
              "      <td>Auburn</td>\n",
              "      <td>AL</td>\n",
              "    </tr>\n",
              "  </tbody>\n",
              "</table>\n",
              "<p>10 rows × 2 columns</p>\n",
              "</div>"
            ],
            "text/plain": [
              "                                           CITY STABBR\n",
              "INSTNM                                                \n",
              "Alabama A & M University                 Normal     AL\n",
              "University of Alabama at Birmingham  Birmingham     AL\n",
              "Amridge University                   Montgomery     AL\n",
              "...                                         ...    ...\n",
              "Athens State University                  Athens     AL\n",
              "Auburn University at Montgomery      Montgomery     AL\n",
              "Auburn University                        Auburn     AL\n",
              "\n",
              "[10 rows x 2 columns]"
            ]
          },
          "metadata": {
            "tags": []
          },
          "execution_count": 313
        }
      ]
    },
    {
      "cell_type": "markdown",
      "metadata": {
        "id": "XT4EDlYdCTbE",
        "colab_type": "text"
      },
      "source": [
        "# Slicing Lexicographically"
      ]
    },
    {
      "cell_type": "code",
      "metadata": {
        "id": "ug26SytsCTbF",
        "colab_type": "code",
        "outputId": "71ee4353-53e6-4a4a-9769-8e796be4045a",
        "colab": {}
      },
      "source": [
        "college = pd.read_csv('data/college.csv', index_col='INSTNM')\n",
        "college.loc['Sp':'Su']"
      ],
      "execution_count": 0,
      "outputs": [
        {
          "output_type": "error",
          "ename": "KeyError",
          "evalue": "'Sp'",
          "traceback": [
            "\u001b[0;31m---------------------------------------------------------------------------\u001b[0m",
            "\u001b[0;31mValueError\u001b[0m                                Traceback (most recent call last)",
            "\u001b[0;32m/Users/Ted/anaconda/lib/python3.6/site-packages/pandas/core/indexes/base.py\u001b[0m in \u001b[0;36mget_slice_bound\u001b[0;34m(self, label, side, kind)\u001b[0m\n\u001b[1;32m   3483\u001b[0m             \u001b[0;32mtry\u001b[0m\u001b[0;34m:\u001b[0m\u001b[0;34m\u001b[0m\u001b[0m\n\u001b[0;32m-> 3484\u001b[0;31m                 \u001b[0;32mreturn\u001b[0m \u001b[0mself\u001b[0m\u001b[0;34m.\u001b[0m\u001b[0m_searchsorted_monotonic\u001b[0m\u001b[0;34m(\u001b[0m\u001b[0mlabel\u001b[0m\u001b[0;34m,\u001b[0m \u001b[0mside\u001b[0m\u001b[0;34m)\u001b[0m\u001b[0;34m\u001b[0m\u001b[0m\n\u001b[0m\u001b[1;32m   3485\u001b[0m             \u001b[0;32mexcept\u001b[0m \u001b[0mValueError\u001b[0m\u001b[0;34m:\u001b[0m\u001b[0;34m\u001b[0m\u001b[0m\n",
            "\u001b[0;32m/Users/Ted/anaconda/lib/python3.6/site-packages/pandas/core/indexes/base.py\u001b[0m in \u001b[0;36m_searchsorted_monotonic\u001b[0;34m(self, label, side)\u001b[0m\n\u001b[1;32m   3442\u001b[0m \u001b[0;34m\u001b[0m\u001b[0m\n\u001b[0;32m-> 3443\u001b[0;31m         \u001b[0;32mraise\u001b[0m \u001b[0mValueError\u001b[0m\u001b[0;34m(\u001b[0m\u001b[0;34m'index must be monotonic increasing or decreasing'\u001b[0m\u001b[0;34m)\u001b[0m\u001b[0;34m\u001b[0m\u001b[0m\n\u001b[0m\u001b[1;32m   3444\u001b[0m \u001b[0;34m\u001b[0m\u001b[0m\n",
            "\u001b[0;31mValueError\u001b[0m: index must be monotonic increasing or decreasing",
            "\nDuring handling of the above exception, another exception occurred:\n",
            "\u001b[0;31mKeyError\u001b[0m                                  Traceback (most recent call last)",
            "\u001b[0;32m<ipython-input-366-c9f1c69a918b>\u001b[0m in \u001b[0;36m<module>\u001b[0;34m()\u001b[0m\n\u001b[1;32m      1\u001b[0m \u001b[0mcollege\u001b[0m \u001b[0;34m=\u001b[0m \u001b[0mpd\u001b[0m\u001b[0;34m.\u001b[0m\u001b[0mread_csv\u001b[0m\u001b[0;34m(\u001b[0m\u001b[0;34m'data/college.csv'\u001b[0m\u001b[0;34m,\u001b[0m \u001b[0mindex_col\u001b[0m\u001b[0;34m=\u001b[0m\u001b[0;34m'INSTNM'\u001b[0m\u001b[0;34m)\u001b[0m\u001b[0;34m\u001b[0m\u001b[0m\n\u001b[0;32m----> 2\u001b[0;31m \u001b[0mcollege\u001b[0m\u001b[0;34m.\u001b[0m\u001b[0mloc\u001b[0m\u001b[0;34m[\u001b[0m\u001b[0;34m'Sp'\u001b[0m\u001b[0;34m:\u001b[0m\u001b[0;34m'Su'\u001b[0m\u001b[0;34m]\u001b[0m\u001b[0;34m\u001b[0m\u001b[0m\n\u001b[0m",
            "\u001b[0;32m/Users/Ted/anaconda/lib/python3.6/site-packages/pandas/core/indexing.py\u001b[0m in \u001b[0;36m__getitem__\u001b[0;34m(self, key)\u001b[0m\n\u001b[1;32m   1326\u001b[0m         \u001b[0;32melse\u001b[0m\u001b[0;34m:\u001b[0m\u001b[0;34m\u001b[0m\u001b[0m\n\u001b[1;32m   1327\u001b[0m             \u001b[0mkey\u001b[0m \u001b[0;34m=\u001b[0m \u001b[0mcom\u001b[0m\u001b[0;34m.\u001b[0m\u001b[0m_apply_if_callable\u001b[0m\u001b[0;34m(\u001b[0m\u001b[0mkey\u001b[0m\u001b[0;34m,\u001b[0m \u001b[0mself\u001b[0m\u001b[0;34m.\u001b[0m\u001b[0mobj\u001b[0m\u001b[0;34m)\u001b[0m\u001b[0;34m\u001b[0m\u001b[0m\n\u001b[0;32m-> 1328\u001b[0;31m             \u001b[0;32mreturn\u001b[0m \u001b[0mself\u001b[0m\u001b[0;34m.\u001b[0m\u001b[0m_getitem_axis\u001b[0m\u001b[0;34m(\u001b[0m\u001b[0mkey\u001b[0m\u001b[0;34m,\u001b[0m \u001b[0maxis\u001b[0m\u001b[0;34m=\u001b[0m\u001b[0;36m0\u001b[0m\u001b[0;34m)\u001b[0m\u001b[0;34m\u001b[0m\u001b[0m\n\u001b[0m\u001b[1;32m   1329\u001b[0m \u001b[0;34m\u001b[0m\u001b[0m\n\u001b[1;32m   1330\u001b[0m     \u001b[0;32mdef\u001b[0m \u001b[0m_is_scalar_access\u001b[0m\u001b[0;34m(\u001b[0m\u001b[0mself\u001b[0m\u001b[0;34m,\u001b[0m \u001b[0mkey\u001b[0m\u001b[0;34m)\u001b[0m\u001b[0;34m:\u001b[0m\u001b[0;34m\u001b[0m\u001b[0m\n",
            "\u001b[0;32m/Users/Ted/anaconda/lib/python3.6/site-packages/pandas/core/indexing.py\u001b[0m in \u001b[0;36m_getitem_axis\u001b[0;34m(self, key, axis)\u001b[0m\n\u001b[1;32m   1504\u001b[0m         \u001b[0;32mif\u001b[0m \u001b[0misinstance\u001b[0m\u001b[0;34m(\u001b[0m\u001b[0mkey\u001b[0m\u001b[0;34m,\u001b[0m \u001b[0mslice\u001b[0m\u001b[0;34m)\u001b[0m\u001b[0;34m:\u001b[0m\u001b[0;34m\u001b[0m\u001b[0m\n\u001b[1;32m   1505\u001b[0m             \u001b[0mself\u001b[0m\u001b[0;34m.\u001b[0m\u001b[0m_has_valid_type\u001b[0m\u001b[0;34m(\u001b[0m\u001b[0mkey\u001b[0m\u001b[0;34m,\u001b[0m \u001b[0maxis\u001b[0m\u001b[0;34m)\u001b[0m\u001b[0;34m\u001b[0m\u001b[0m\n\u001b[0;32m-> 1506\u001b[0;31m             \u001b[0;32mreturn\u001b[0m \u001b[0mself\u001b[0m\u001b[0;34m.\u001b[0m\u001b[0m_get_slice_axis\u001b[0m\u001b[0;34m(\u001b[0m\u001b[0mkey\u001b[0m\u001b[0;34m,\u001b[0m \u001b[0maxis\u001b[0m\u001b[0;34m=\u001b[0m\u001b[0maxis\u001b[0m\u001b[0;34m)\u001b[0m\u001b[0;34m\u001b[0m\u001b[0m\n\u001b[0m\u001b[1;32m   1507\u001b[0m         \u001b[0;32melif\u001b[0m \u001b[0mis_bool_indexer\u001b[0m\u001b[0;34m(\u001b[0m\u001b[0mkey\u001b[0m\u001b[0;34m)\u001b[0m\u001b[0;34m:\u001b[0m\u001b[0;34m\u001b[0m\u001b[0m\n\u001b[1;32m   1508\u001b[0m             \u001b[0;32mreturn\u001b[0m \u001b[0mself\u001b[0m\u001b[0;34m.\u001b[0m\u001b[0m_getbool_axis\u001b[0m\u001b[0;34m(\u001b[0m\u001b[0mkey\u001b[0m\u001b[0;34m,\u001b[0m \u001b[0maxis\u001b[0m\u001b[0;34m=\u001b[0m\u001b[0maxis\u001b[0m\u001b[0;34m)\u001b[0m\u001b[0;34m\u001b[0m\u001b[0m\n",
            "\u001b[0;32m/Users/Ted/anaconda/lib/python3.6/site-packages/pandas/core/indexing.py\u001b[0m in \u001b[0;36m_get_slice_axis\u001b[0;34m(self, slice_obj, axis)\u001b[0m\n\u001b[1;32m   1354\u001b[0m         \u001b[0mlabels\u001b[0m \u001b[0;34m=\u001b[0m \u001b[0mobj\u001b[0m\u001b[0;34m.\u001b[0m\u001b[0m_get_axis\u001b[0m\u001b[0;34m(\u001b[0m\u001b[0maxis\u001b[0m\u001b[0;34m)\u001b[0m\u001b[0;34m\u001b[0m\u001b[0m\n\u001b[1;32m   1355\u001b[0m         indexer = labels.slice_indexer(slice_obj.start, slice_obj.stop,\n\u001b[0;32m-> 1356\u001b[0;31m                                        slice_obj.step, kind=self.name)\n\u001b[0m\u001b[1;32m   1357\u001b[0m \u001b[0;34m\u001b[0m\u001b[0m\n\u001b[1;32m   1358\u001b[0m         \u001b[0;32mif\u001b[0m \u001b[0misinstance\u001b[0m\u001b[0;34m(\u001b[0m\u001b[0mindexer\u001b[0m\u001b[0;34m,\u001b[0m \u001b[0mslice\u001b[0m\u001b[0;34m)\u001b[0m\u001b[0;34m:\u001b[0m\u001b[0;34m\u001b[0m\u001b[0m\n",
            "\u001b[0;32m/Users/Ted/anaconda/lib/python3.6/site-packages/pandas/core/indexes/base.py\u001b[0m in \u001b[0;36mslice_indexer\u001b[0;34m(self, start, end, step, kind)\u001b[0m\n\u001b[1;32m   3348\u001b[0m         \"\"\"\n\u001b[1;32m   3349\u001b[0m         start_slice, end_slice = self.slice_locs(start, end, step=step,\n\u001b[0;32m-> 3350\u001b[0;31m                                                  kind=kind)\n\u001b[0m\u001b[1;32m   3351\u001b[0m \u001b[0;34m\u001b[0m\u001b[0m\n\u001b[1;32m   3352\u001b[0m         \u001b[0;31m# return a slice\u001b[0m\u001b[0;34m\u001b[0m\u001b[0;34m\u001b[0m\u001b[0m\n",
            "\u001b[0;32m/Users/Ted/anaconda/lib/python3.6/site-packages/pandas/core/indexes/base.py\u001b[0m in \u001b[0;36mslice_locs\u001b[0;34m(self, start, end, step, kind)\u001b[0m\n\u001b[1;32m   3536\u001b[0m         \u001b[0mstart_slice\u001b[0m \u001b[0;34m=\u001b[0m \u001b[0;32mNone\u001b[0m\u001b[0;34m\u001b[0m\u001b[0m\n\u001b[1;32m   3537\u001b[0m         \u001b[0;32mif\u001b[0m \u001b[0mstart\u001b[0m \u001b[0;32mis\u001b[0m \u001b[0;32mnot\u001b[0m \u001b[0;32mNone\u001b[0m\u001b[0;34m:\u001b[0m\u001b[0;34m\u001b[0m\u001b[0m\n\u001b[0;32m-> 3538\u001b[0;31m             \u001b[0mstart_slice\u001b[0m \u001b[0;34m=\u001b[0m \u001b[0mself\u001b[0m\u001b[0;34m.\u001b[0m\u001b[0mget_slice_bound\u001b[0m\u001b[0;34m(\u001b[0m\u001b[0mstart\u001b[0m\u001b[0;34m,\u001b[0m \u001b[0;34m'left'\u001b[0m\u001b[0;34m,\u001b[0m \u001b[0mkind\u001b[0m\u001b[0;34m)\u001b[0m\u001b[0;34m\u001b[0m\u001b[0m\n\u001b[0m\u001b[1;32m   3539\u001b[0m         \u001b[0;32mif\u001b[0m \u001b[0mstart_slice\u001b[0m \u001b[0;32mis\u001b[0m \u001b[0;32mNone\u001b[0m\u001b[0;34m:\u001b[0m\u001b[0;34m\u001b[0m\u001b[0m\n\u001b[1;32m   3540\u001b[0m             \u001b[0mstart_slice\u001b[0m \u001b[0;34m=\u001b[0m \u001b[0;36m0\u001b[0m\u001b[0;34m\u001b[0m\u001b[0m\n",
            "\u001b[0;32m/Users/Ted/anaconda/lib/python3.6/site-packages/pandas/core/indexes/base.py\u001b[0m in \u001b[0;36mget_slice_bound\u001b[0;34m(self, label, side, kind)\u001b[0m\n\u001b[1;32m   3485\u001b[0m             \u001b[0;32mexcept\u001b[0m \u001b[0mValueError\u001b[0m\u001b[0;34m:\u001b[0m\u001b[0;34m\u001b[0m\u001b[0m\n\u001b[1;32m   3486\u001b[0m                 \u001b[0;31m# raise the original KeyError\u001b[0m\u001b[0;34m\u001b[0m\u001b[0;34m\u001b[0m\u001b[0m\n\u001b[0;32m-> 3487\u001b[0;31m                 \u001b[0;32mraise\u001b[0m \u001b[0merr\u001b[0m\u001b[0;34m\u001b[0m\u001b[0m\n\u001b[0m\u001b[1;32m   3488\u001b[0m \u001b[0;34m\u001b[0m\u001b[0m\n\u001b[1;32m   3489\u001b[0m         \u001b[0;32mif\u001b[0m \u001b[0misinstance\u001b[0m\u001b[0;34m(\u001b[0m\u001b[0mslc\u001b[0m\u001b[0;34m,\u001b[0m \u001b[0mnp\u001b[0m\u001b[0;34m.\u001b[0m\u001b[0mndarray\u001b[0m\u001b[0;34m)\u001b[0m\u001b[0;34m:\u001b[0m\u001b[0;34m\u001b[0m\u001b[0m\n",
            "\u001b[0;32m/Users/Ted/anaconda/lib/python3.6/site-packages/pandas/core/indexes/base.py\u001b[0m in \u001b[0;36mget_slice_bound\u001b[0;34m(self, label, side, kind)\u001b[0m\n\u001b[1;32m   3479\u001b[0m         \u001b[0;31m# we need to look up the label\u001b[0m\u001b[0;34m\u001b[0m\u001b[0;34m\u001b[0m\u001b[0m\n\u001b[1;32m   3480\u001b[0m         \u001b[0;32mtry\u001b[0m\u001b[0;34m:\u001b[0m\u001b[0;34m\u001b[0m\u001b[0m\n\u001b[0;32m-> 3481\u001b[0;31m             \u001b[0mslc\u001b[0m \u001b[0;34m=\u001b[0m \u001b[0mself\u001b[0m\u001b[0;34m.\u001b[0m\u001b[0m_get_loc_only_exact_matches\u001b[0m\u001b[0;34m(\u001b[0m\u001b[0mlabel\u001b[0m\u001b[0;34m)\u001b[0m\u001b[0;34m\u001b[0m\u001b[0m\n\u001b[0m\u001b[1;32m   3482\u001b[0m         \u001b[0;32mexcept\u001b[0m \u001b[0mKeyError\u001b[0m \u001b[0;32mas\u001b[0m \u001b[0merr\u001b[0m\u001b[0;34m:\u001b[0m\u001b[0;34m\u001b[0m\u001b[0m\n\u001b[1;32m   3483\u001b[0m             \u001b[0;32mtry\u001b[0m\u001b[0;34m:\u001b[0m\u001b[0;34m\u001b[0m\u001b[0m\n",
            "\u001b[0;32m/Users/Ted/anaconda/lib/python3.6/site-packages/pandas/core/indexes/base.py\u001b[0m in \u001b[0;36m_get_loc_only_exact_matches\u001b[0;34m(self, key)\u001b[0m\n\u001b[1;32m   3448\u001b[0m         \u001b[0mget_slice_bound\u001b[0m\u001b[0;34m.\u001b[0m\u001b[0;34m\u001b[0m\u001b[0m\n\u001b[1;32m   3449\u001b[0m         \"\"\"\n\u001b[0;32m-> 3450\u001b[0;31m         \u001b[0;32mreturn\u001b[0m \u001b[0mself\u001b[0m\u001b[0;34m.\u001b[0m\u001b[0mget_loc\u001b[0m\u001b[0;34m(\u001b[0m\u001b[0mkey\u001b[0m\u001b[0;34m)\u001b[0m\u001b[0;34m\u001b[0m\u001b[0m\n\u001b[0m\u001b[1;32m   3451\u001b[0m \u001b[0;34m\u001b[0m\u001b[0m\n\u001b[1;32m   3452\u001b[0m     \u001b[0;32mdef\u001b[0m \u001b[0mget_slice_bound\u001b[0m\u001b[0;34m(\u001b[0m\u001b[0mself\u001b[0m\u001b[0;34m,\u001b[0m \u001b[0mlabel\u001b[0m\u001b[0;34m,\u001b[0m \u001b[0mside\u001b[0m\u001b[0;34m,\u001b[0m \u001b[0mkind\u001b[0m\u001b[0;34m)\u001b[0m\u001b[0;34m:\u001b[0m\u001b[0;34m\u001b[0m\u001b[0m\n",
            "\u001b[0;32m/Users/Ted/anaconda/lib/python3.6/site-packages/pandas/core/indexes/base.py\u001b[0m in \u001b[0;36mget_loc\u001b[0;34m(self, key, method, tolerance)\u001b[0m\n\u001b[1;32m   2442\u001b[0m                 \u001b[0;32mreturn\u001b[0m \u001b[0mself\u001b[0m\u001b[0;34m.\u001b[0m\u001b[0m_engine\u001b[0m\u001b[0;34m.\u001b[0m\u001b[0mget_loc\u001b[0m\u001b[0;34m(\u001b[0m\u001b[0mkey\u001b[0m\u001b[0;34m)\u001b[0m\u001b[0;34m\u001b[0m\u001b[0m\n\u001b[1;32m   2443\u001b[0m             \u001b[0;32mexcept\u001b[0m \u001b[0mKeyError\u001b[0m\u001b[0;34m:\u001b[0m\u001b[0;34m\u001b[0m\u001b[0m\n\u001b[0;32m-> 2444\u001b[0;31m                 \u001b[0;32mreturn\u001b[0m \u001b[0mself\u001b[0m\u001b[0;34m.\u001b[0m\u001b[0m_engine\u001b[0m\u001b[0;34m.\u001b[0m\u001b[0mget_loc\u001b[0m\u001b[0;34m(\u001b[0m\u001b[0mself\u001b[0m\u001b[0;34m.\u001b[0m\u001b[0m_maybe_cast_indexer\u001b[0m\u001b[0;34m(\u001b[0m\u001b[0mkey\u001b[0m\u001b[0;34m)\u001b[0m\u001b[0;34m)\u001b[0m\u001b[0;34m\u001b[0m\u001b[0m\n\u001b[0m\u001b[1;32m   2445\u001b[0m \u001b[0;34m\u001b[0m\u001b[0m\n\u001b[1;32m   2446\u001b[0m         \u001b[0mindexer\u001b[0m \u001b[0;34m=\u001b[0m \u001b[0mself\u001b[0m\u001b[0;34m.\u001b[0m\u001b[0mget_indexer\u001b[0m\u001b[0;34m(\u001b[0m\u001b[0;34m[\u001b[0m\u001b[0mkey\u001b[0m\u001b[0;34m]\u001b[0m\u001b[0;34m,\u001b[0m \u001b[0mmethod\u001b[0m\u001b[0;34m=\u001b[0m\u001b[0mmethod\u001b[0m\u001b[0;34m,\u001b[0m \u001b[0mtolerance\u001b[0m\u001b[0;34m=\u001b[0m\u001b[0mtolerance\u001b[0m\u001b[0;34m)\u001b[0m\u001b[0;34m\u001b[0m\u001b[0m\n",
            "\u001b[0;32mpandas/_libs/index.pyx\u001b[0m in \u001b[0;36mpandas._libs.index.IndexEngine.get_loc (pandas/_libs/index.c:5280)\u001b[0;34m()\u001b[0m\n",
            "\u001b[0;32mpandas/_libs/index.pyx\u001b[0m in \u001b[0;36mpandas._libs.index.IndexEngine.get_loc (pandas/_libs/index.c:5126)\u001b[0;34m()\u001b[0m\n",
            "\u001b[0;32mpandas/_libs/hashtable_class_helper.pxi\u001b[0m in \u001b[0;36mpandas._libs.hashtable.PyObjectHashTable.get_item (pandas/_libs/hashtable.c:20523)\u001b[0;34m()\u001b[0m\n",
            "\u001b[0;32mpandas/_libs/hashtable_class_helper.pxi\u001b[0m in \u001b[0;36mpandas._libs.hashtable.PyObjectHashTable.get_item (pandas/_libs/hashtable.c:20477)\u001b[0;34m()\u001b[0m\n",
            "\u001b[0;31mKeyError\u001b[0m: 'Sp'"
          ]
        }
      ]
    },
    {
      "cell_type": "code",
      "metadata": {
        "id": "2vy00-goCTbG",
        "colab_type": "code",
        "colab": {}
      },
      "source": [
        "college = college.sort_index()"
      ],
      "execution_count": 0,
      "outputs": []
    },
    {
      "cell_type": "code",
      "metadata": {
        "id": "gse7CjWZCTbH",
        "colab_type": "code",
        "outputId": "5f9e9daa-b1fe-4a5b-f1ca-6b6db611d648",
        "colab": {}
      },
      "source": [
        "college.head()"
      ],
      "execution_count": 0,
      "outputs": [
        {
          "output_type": "execute_result",
          "data": {
            "text/html": [
              "<div>\n",
              "<style>\n",
              "    .dataframe thead tr:only-child th {\n",
              "        text-align: right;\n",
              "    }\n",
              "\n",
              "    .dataframe thead th {\n",
              "        text-align: left;\n",
              "    }\n",
              "\n",
              "    .dataframe tbody tr th {\n",
              "        vertical-align: top;\n",
              "    }\n",
              "</style>\n",
              "<table border=\"1\" class=\"dataframe\">\n",
              "  <thead>\n",
              "    <tr style=\"text-align: right;\">\n",
              "      <th></th>\n",
              "      <th>CITY</th>\n",
              "      <th>STABBR</th>\n",
              "      <th>HBCU</th>\n",
              "      <th>MENONLY</th>\n",
              "      <th>WOMENONLY</th>\n",
              "      <th>RELAFFIL</th>\n",
              "      <th>SATVRMID</th>\n",
              "      <th>SATMTMID</th>\n",
              "      <th>DISTANCEONLY</th>\n",
              "      <th>UGDS</th>\n",
              "      <th>...</th>\n",
              "      <th>UGDS_2MOR</th>\n",
              "      <th>UGDS_NRA</th>\n",
              "      <th>UGDS_UNKN</th>\n",
              "      <th>PPTUG_EF</th>\n",
              "      <th>CURROPER</th>\n",
              "      <th>PCTPELL</th>\n",
              "      <th>PCTFLOAN</th>\n",
              "      <th>UG25ABV</th>\n",
              "      <th>MD_EARN_WNE_P10</th>\n",
              "      <th>GRAD_DEBT_MDN_SUPP</th>\n",
              "    </tr>\n",
              "    <tr>\n",
              "      <th>INSTNM</th>\n",
              "      <th></th>\n",
              "      <th></th>\n",
              "      <th></th>\n",
              "      <th></th>\n",
              "      <th></th>\n",
              "      <th></th>\n",
              "      <th></th>\n",
              "      <th></th>\n",
              "      <th></th>\n",
              "      <th></th>\n",
              "      <th></th>\n",
              "      <th></th>\n",
              "      <th></th>\n",
              "      <th></th>\n",
              "      <th></th>\n",
              "      <th></th>\n",
              "      <th></th>\n",
              "      <th></th>\n",
              "      <th></th>\n",
              "      <th></th>\n",
              "      <th></th>\n",
              "    </tr>\n",
              "  </thead>\n",
              "  <tbody>\n",
              "    <tr>\n",
              "      <th>A &amp; W Healthcare Educators</th>\n",
              "      <td>New Orleans</td>\n",
              "      <td>LA</td>\n",
              "      <td>0.0</td>\n",
              "      <td>0.0</td>\n",
              "      <td>0.0</td>\n",
              "      <td>0</td>\n",
              "      <td>NaN</td>\n",
              "      <td>NaN</td>\n",
              "      <td>0.0</td>\n",
              "      <td>40.0</td>\n",
              "      <td>...</td>\n",
              "      <td>0.0000</td>\n",
              "      <td>0.0000</td>\n",
              "      <td>0.0000</td>\n",
              "      <td>0.1250</td>\n",
              "      <td>1</td>\n",
              "      <td>0.7018</td>\n",
              "      <td>0.8596</td>\n",
              "      <td>0.6667</td>\n",
              "      <td>NaN</td>\n",
              "      <td>19022.5</td>\n",
              "    </tr>\n",
              "    <tr>\n",
              "      <th>A T Still University of Health Sciences</th>\n",
              "      <td>Kirksville</td>\n",
              "      <td>MO</td>\n",
              "      <td>0.0</td>\n",
              "      <td>0.0</td>\n",
              "      <td>0.0</td>\n",
              "      <td>0</td>\n",
              "      <td>NaN</td>\n",
              "      <td>NaN</td>\n",
              "      <td>0.0</td>\n",
              "      <td>NaN</td>\n",
              "      <td>...</td>\n",
              "      <td>NaN</td>\n",
              "      <td>NaN</td>\n",
              "      <td>NaN</td>\n",
              "      <td>NaN</td>\n",
              "      <td>1</td>\n",
              "      <td>NaN</td>\n",
              "      <td>NaN</td>\n",
              "      <td>NaN</td>\n",
              "      <td>219800</td>\n",
              "      <td>PrivacySuppressed</td>\n",
              "    </tr>\n",
              "    <tr>\n",
              "      <th>ABC Beauty Academy</th>\n",
              "      <td>Garland</td>\n",
              "      <td>TX</td>\n",
              "      <td>0.0</td>\n",
              "      <td>0.0</td>\n",
              "      <td>0.0</td>\n",
              "      <td>0</td>\n",
              "      <td>NaN</td>\n",
              "      <td>NaN</td>\n",
              "      <td>0.0</td>\n",
              "      <td>30.0</td>\n",
              "      <td>...</td>\n",
              "      <td>0.0000</td>\n",
              "      <td>0.0000</td>\n",
              "      <td>0.0000</td>\n",
              "      <td>0.0000</td>\n",
              "      <td>0</td>\n",
              "      <td>0.7857</td>\n",
              "      <td>0.0000</td>\n",
              "      <td>0.8286</td>\n",
              "      <td>NaN</td>\n",
              "      <td>PrivacySuppressed</td>\n",
              "    </tr>\n",
              "    <tr>\n",
              "      <th>ABC Beauty College Inc</th>\n",
              "      <td>Arkadelphia</td>\n",
              "      <td>AR</td>\n",
              "      <td>0.0</td>\n",
              "      <td>0.0</td>\n",
              "      <td>0.0</td>\n",
              "      <td>0</td>\n",
              "      <td>NaN</td>\n",
              "      <td>NaN</td>\n",
              "      <td>0.0</td>\n",
              "      <td>38.0</td>\n",
              "      <td>...</td>\n",
              "      <td>0.0000</td>\n",
              "      <td>0.0000</td>\n",
              "      <td>0.0000</td>\n",
              "      <td>0.2105</td>\n",
              "      <td>1</td>\n",
              "      <td>0.9815</td>\n",
              "      <td>1.0000</td>\n",
              "      <td>0.4688</td>\n",
              "      <td>PrivacySuppressed</td>\n",
              "      <td>16500</td>\n",
              "    </tr>\n",
              "    <tr>\n",
              "      <th>AI Miami International University of Art and Design</th>\n",
              "      <td>Miami</td>\n",
              "      <td>FL</td>\n",
              "      <td>0.0</td>\n",
              "      <td>0.0</td>\n",
              "      <td>0.0</td>\n",
              "      <td>0</td>\n",
              "      <td>NaN</td>\n",
              "      <td>NaN</td>\n",
              "      <td>0.0</td>\n",
              "      <td>2778.0</td>\n",
              "      <td>...</td>\n",
              "      <td>0.0018</td>\n",
              "      <td>0.0025</td>\n",
              "      <td>0.4644</td>\n",
              "      <td>0.2185</td>\n",
              "      <td>1</td>\n",
              "      <td>0.5507</td>\n",
              "      <td>0.6966</td>\n",
              "      <td>0.3262</td>\n",
              "      <td>29900</td>\n",
              "      <td>31000</td>\n",
              "    </tr>\n",
              "  </tbody>\n",
              "</table>\n",
              "<p>5 rows × 26 columns</p>\n",
              "</div>"
            ],
            "text/plain": [
              "                                                           CITY STABBR  HBCU  \\\n",
              "INSTNM                                                                         \n",
              "A & W Healthcare Educators                          New Orleans     LA   0.0   \n",
              "A T Still University of Health Sciences              Kirksville     MO   0.0   \n",
              "ABC Beauty Academy                                      Garland     TX   0.0   \n",
              "ABC Beauty College Inc                              Arkadelphia     AR   0.0   \n",
              "AI Miami International University of Art and De...        Miami     FL   0.0   \n",
              "\n",
              "                                                    MENONLY  WOMENONLY  \\\n",
              "INSTNM                                                                   \n",
              "A & W Healthcare Educators                              0.0        0.0   \n",
              "A T Still University of Health Sciences                 0.0        0.0   \n",
              "ABC Beauty Academy                                      0.0        0.0   \n",
              "ABC Beauty College Inc                                  0.0        0.0   \n",
              "AI Miami International University of Art and De...      0.0        0.0   \n",
              "\n",
              "                                                    RELAFFIL  SATVRMID  \\\n",
              "INSTNM                                                                   \n",
              "A & W Healthcare Educators                                 0       NaN   \n",
              "A T Still University of Health Sciences                    0       NaN   \n",
              "ABC Beauty Academy                                         0       NaN   \n",
              "ABC Beauty College Inc                                     0       NaN   \n",
              "AI Miami International University of Art and De...         0       NaN   \n",
              "\n",
              "                                                    SATMTMID  DISTANCEONLY  \\\n",
              "INSTNM                                                                       \n",
              "A & W Healthcare Educators                               NaN           0.0   \n",
              "A T Still University of Health Sciences                  NaN           0.0   \n",
              "ABC Beauty Academy                                       NaN           0.0   \n",
              "ABC Beauty College Inc                                   NaN           0.0   \n",
              "AI Miami International University of Art and De...       NaN           0.0   \n",
              "\n",
              "                                                      UGDS  \\\n",
              "INSTNM                                                       \n",
              "A & W Healthcare Educators                            40.0   \n",
              "A T Still University of Health Sciences                NaN   \n",
              "ABC Beauty Academy                                    30.0   \n",
              "ABC Beauty College Inc                                38.0   \n",
              "AI Miami International University of Art and De...  2778.0   \n",
              "\n",
              "                                                           ...          \\\n",
              "INSTNM                                                     ...           \n",
              "A & W Healthcare Educators                                 ...           \n",
              "A T Still University of Health Sciences                    ...           \n",
              "ABC Beauty Academy                                         ...           \n",
              "ABC Beauty College Inc                                     ...           \n",
              "AI Miami International University of Art and De...         ...           \n",
              "\n",
              "                                                    UGDS_2MOR  UGDS_NRA  \\\n",
              "INSTNM                                                                    \n",
              "A & W Healthcare Educators                             0.0000    0.0000   \n",
              "A T Still University of Health Sciences                   NaN       NaN   \n",
              "ABC Beauty Academy                                     0.0000    0.0000   \n",
              "ABC Beauty College Inc                                 0.0000    0.0000   \n",
              "AI Miami International University of Art and De...     0.0018    0.0025   \n",
              "\n",
              "                                                    UGDS_UNKN  PPTUG_EF  \\\n",
              "INSTNM                                                                    \n",
              "A & W Healthcare Educators                             0.0000    0.1250   \n",
              "A T Still University of Health Sciences                   NaN       NaN   \n",
              "ABC Beauty Academy                                     0.0000    0.0000   \n",
              "ABC Beauty College Inc                                 0.0000    0.2105   \n",
              "AI Miami International University of Art and De...     0.4644    0.2185   \n",
              "\n",
              "                                                    CURROPER  PCTPELL  \\\n",
              "INSTNM                                                                  \n",
              "A & W Healthcare Educators                                 1   0.7018   \n",
              "A T Still University of Health Sciences                    1      NaN   \n",
              "ABC Beauty Academy                                         0   0.7857   \n",
              "ABC Beauty College Inc                                     1   0.9815   \n",
              "AI Miami International University of Art and De...         1   0.5507   \n",
              "\n",
              "                                                    PCTFLOAN  UG25ABV  \\\n",
              "INSTNM                                                                  \n",
              "A & W Healthcare Educators                            0.8596   0.6667   \n",
              "A T Still University of Health Sciences                  NaN      NaN   \n",
              "ABC Beauty Academy                                    0.0000   0.8286   \n",
              "ABC Beauty College Inc                                1.0000   0.4688   \n",
              "AI Miami International University of Art and De...    0.6966   0.3262   \n",
              "\n",
              "                                                      MD_EARN_WNE_P10  \\\n",
              "INSTNM                                                                  \n",
              "A & W Healthcare Educators                                        NaN   \n",
              "A T Still University of Health Sciences                        219800   \n",
              "ABC Beauty Academy                                                NaN   \n",
              "ABC Beauty College Inc                              PrivacySuppressed   \n",
              "AI Miami International University of Art and De...              29900   \n",
              "\n",
              "                                                    GRAD_DEBT_MDN_SUPP  \n",
              "INSTNM                                                                  \n",
              "A & W Healthcare Educators                                     19022.5  \n",
              "A T Still University of Health Sciences              PrivacySuppressed  \n",
              "ABC Beauty Academy                                   PrivacySuppressed  \n",
              "ABC Beauty College Inc                                           16500  \n",
              "AI Miami International University of Art and De...               31000  \n",
              "\n",
              "[5 rows x 26 columns]"
            ]
          },
          "metadata": {
            "tags": []
          },
          "execution_count": 368
        }
      ]
    },
    {
      "cell_type": "code",
      "metadata": {
        "collapsed": true,
        "id": "gUTaaQNPCTbJ",
        "colab_type": "code",
        "colab": {}
      },
      "source": [
        "pd.options.display.max_rows = 6"
      ],
      "execution_count": 0,
      "outputs": []
    },
    {
      "cell_type": "code",
      "metadata": {
        "id": "rhwqa_1ZCTbL",
        "colab_type": "code",
        "outputId": "0918e751-8480-4dd9-83a2-8309969a21de",
        "colab": {}
      },
      "source": [
        "college.loc['Sp':'Su']"
      ],
      "execution_count": 0,
      "outputs": [
        {
          "output_type": "execute_result",
          "data": {
            "text/html": [
              "<div>\n",
              "<style>\n",
              "    .dataframe thead tr:only-child th {\n",
              "        text-align: right;\n",
              "    }\n",
              "\n",
              "    .dataframe thead th {\n",
              "        text-align: left;\n",
              "    }\n",
              "\n",
              "    .dataframe tbody tr th {\n",
              "        vertical-align: top;\n",
              "    }\n",
              "</style>\n",
              "<table border=\"1\" class=\"dataframe\">\n",
              "  <thead>\n",
              "    <tr style=\"text-align: right;\">\n",
              "      <th></th>\n",
              "      <th>CITY</th>\n",
              "      <th>STABBR</th>\n",
              "      <th>HBCU</th>\n",
              "      <th>MENONLY</th>\n",
              "      <th>WOMENONLY</th>\n",
              "      <th>RELAFFIL</th>\n",
              "      <th>SATVRMID</th>\n",
              "      <th>SATMTMID</th>\n",
              "      <th>DISTANCEONLY</th>\n",
              "      <th>UGDS</th>\n",
              "      <th>...</th>\n",
              "      <th>UGDS_2MOR</th>\n",
              "      <th>UGDS_NRA</th>\n",
              "      <th>UGDS_UNKN</th>\n",
              "      <th>PPTUG_EF</th>\n",
              "      <th>CURROPER</th>\n",
              "      <th>PCTPELL</th>\n",
              "      <th>PCTFLOAN</th>\n",
              "      <th>UG25ABV</th>\n",
              "      <th>MD_EARN_WNE_P10</th>\n",
              "      <th>GRAD_DEBT_MDN_SUPP</th>\n",
              "    </tr>\n",
              "    <tr>\n",
              "      <th>INSTNM</th>\n",
              "      <th></th>\n",
              "      <th></th>\n",
              "      <th></th>\n",
              "      <th></th>\n",
              "      <th></th>\n",
              "      <th></th>\n",
              "      <th></th>\n",
              "      <th></th>\n",
              "      <th></th>\n",
              "      <th></th>\n",
              "      <th></th>\n",
              "      <th></th>\n",
              "      <th></th>\n",
              "      <th></th>\n",
              "      <th></th>\n",
              "      <th></th>\n",
              "      <th></th>\n",
              "      <th></th>\n",
              "      <th></th>\n",
              "      <th></th>\n",
              "      <th></th>\n",
              "    </tr>\n",
              "  </thead>\n",
              "  <tbody>\n",
              "    <tr>\n",
              "      <th>Spa Tech Institute-Ipswich</th>\n",
              "      <td>Ipswich</td>\n",
              "      <td>MA</td>\n",
              "      <td>0.0</td>\n",
              "      <td>0.0</td>\n",
              "      <td>0.0</td>\n",
              "      <td>0</td>\n",
              "      <td>NaN</td>\n",
              "      <td>NaN</td>\n",
              "      <td>0.0</td>\n",
              "      <td>37.0</td>\n",
              "      <td>...</td>\n",
              "      <td>0.000</td>\n",
              "      <td>0.0</td>\n",
              "      <td>0.0541</td>\n",
              "      <td>0.4054</td>\n",
              "      <td>1</td>\n",
              "      <td>0.2656</td>\n",
              "      <td>0.3906</td>\n",
              "      <td>0.7907</td>\n",
              "      <td>21500</td>\n",
              "      <td>6333</td>\n",
              "    </tr>\n",
              "    <tr>\n",
              "      <th>Spa Tech Institute-Plymouth</th>\n",
              "      <td>Plymouth</td>\n",
              "      <td>MA</td>\n",
              "      <td>0.0</td>\n",
              "      <td>0.0</td>\n",
              "      <td>0.0</td>\n",
              "      <td>0</td>\n",
              "      <td>NaN</td>\n",
              "      <td>NaN</td>\n",
              "      <td>0.0</td>\n",
              "      <td>153.0</td>\n",
              "      <td>...</td>\n",
              "      <td>0.000</td>\n",
              "      <td>0.0</td>\n",
              "      <td>0.2484</td>\n",
              "      <td>0.3399</td>\n",
              "      <td>1</td>\n",
              "      <td>0.3716</td>\n",
              "      <td>0.4266</td>\n",
              "      <td>0.6250</td>\n",
              "      <td>21500</td>\n",
              "      <td>6333</td>\n",
              "    </tr>\n",
              "    <tr>\n",
              "      <th>Spa Tech Institute-Westboro</th>\n",
              "      <td>Westboro</td>\n",
              "      <td>MA</td>\n",
              "      <td>0.0</td>\n",
              "      <td>0.0</td>\n",
              "      <td>0.0</td>\n",
              "      <td>0</td>\n",
              "      <td>NaN</td>\n",
              "      <td>NaN</td>\n",
              "      <td>0.0</td>\n",
              "      <td>90.0</td>\n",
              "      <td>...</td>\n",
              "      <td>0.000</td>\n",
              "      <td>0.0</td>\n",
              "      <td>0.0222</td>\n",
              "      <td>0.5778</td>\n",
              "      <td>1</td>\n",
              "      <td>0.3409</td>\n",
              "      <td>0.4545</td>\n",
              "      <td>0.6882</td>\n",
              "      <td>21500</td>\n",
              "      <td>6333</td>\n",
              "    </tr>\n",
              "    <tr>\n",
              "      <th>...</th>\n",
              "      <td>...</td>\n",
              "      <td>...</td>\n",
              "      <td>...</td>\n",
              "      <td>...</td>\n",
              "      <td>...</td>\n",
              "      <td>...</td>\n",
              "      <td>...</td>\n",
              "      <td>...</td>\n",
              "      <td>...</td>\n",
              "      <td>...</td>\n",
              "      <td>...</td>\n",
              "      <td>...</td>\n",
              "      <td>...</td>\n",
              "      <td>...</td>\n",
              "      <td>...</td>\n",
              "      <td>...</td>\n",
              "      <td>...</td>\n",
              "      <td>...</td>\n",
              "      <td>...</td>\n",
              "      <td>...</td>\n",
              "      <td>...</td>\n",
              "    </tr>\n",
              "    <tr>\n",
              "      <th>Stylemaster College of Hair Design</th>\n",
              "      <td>Longview</td>\n",
              "      <td>WA</td>\n",
              "      <td>0.0</td>\n",
              "      <td>0.0</td>\n",
              "      <td>0.0</td>\n",
              "      <td>0</td>\n",
              "      <td>NaN</td>\n",
              "      <td>NaN</td>\n",
              "      <td>0.0</td>\n",
              "      <td>77.0</td>\n",
              "      <td>...</td>\n",
              "      <td>0.013</td>\n",
              "      <td>0.0</td>\n",
              "      <td>0.0000</td>\n",
              "      <td>0.0000</td>\n",
              "      <td>1</td>\n",
              "      <td>0.8036</td>\n",
              "      <td>0.7024</td>\n",
              "      <td>0.4510</td>\n",
              "      <td>17000</td>\n",
              "      <td>13320</td>\n",
              "    </tr>\n",
              "    <tr>\n",
              "      <th>Styles and Profiles Beauty College</th>\n",
              "      <td>Selmer</td>\n",
              "      <td>TN</td>\n",
              "      <td>0.0</td>\n",
              "      <td>0.0</td>\n",
              "      <td>0.0</td>\n",
              "      <td>0</td>\n",
              "      <td>NaN</td>\n",
              "      <td>NaN</td>\n",
              "      <td>0.0</td>\n",
              "      <td>31.0</td>\n",
              "      <td>...</td>\n",
              "      <td>0.000</td>\n",
              "      <td>0.0</td>\n",
              "      <td>0.0000</td>\n",
              "      <td>0.0000</td>\n",
              "      <td>1</td>\n",
              "      <td>0.8182</td>\n",
              "      <td>0.7955</td>\n",
              "      <td>0.2400</td>\n",
              "      <td>PrivacySuppressed</td>\n",
              "      <td>PrivacySuppressed</td>\n",
              "    </tr>\n",
              "    <tr>\n",
              "      <th>Styletrends Barber and Hairstyling Academy</th>\n",
              "      <td>Rock Hill</td>\n",
              "      <td>SC</td>\n",
              "      <td>0.0</td>\n",
              "      <td>0.0</td>\n",
              "      <td>0.0</td>\n",
              "      <td>0</td>\n",
              "      <td>NaN</td>\n",
              "      <td>NaN</td>\n",
              "      <td>0.0</td>\n",
              "      <td>45.0</td>\n",
              "      <td>...</td>\n",
              "      <td>0.000</td>\n",
              "      <td>0.0</td>\n",
              "      <td>0.0000</td>\n",
              "      <td>0.5556</td>\n",
              "      <td>0</td>\n",
              "      <td>1.0000</td>\n",
              "      <td>1.0000</td>\n",
              "      <td>0.3529</td>\n",
              "      <td>PrivacySuppressed</td>\n",
              "      <td>9495.5</td>\n",
              "    </tr>\n",
              "  </tbody>\n",
              "</table>\n",
              "<p>201 rows × 26 columns</p>\n",
              "</div>"
            ],
            "text/plain": [
              "                                                 CITY STABBR  HBCU  MENONLY  \\\n",
              "INSTNM                                                                        \n",
              "Spa Tech Institute-Ipswich                    Ipswich     MA   0.0      0.0   \n",
              "Spa Tech Institute-Plymouth                  Plymouth     MA   0.0      0.0   \n",
              "Spa Tech Institute-Westboro                  Westboro     MA   0.0      0.0   \n",
              "...                                               ...    ...   ...      ...   \n",
              "Stylemaster College of Hair Design           Longview     WA   0.0      0.0   \n",
              "Styles and Profiles Beauty College             Selmer     TN   0.0      0.0   \n",
              "Styletrends Barber and Hairstyling Academy  Rock Hill     SC   0.0      0.0   \n",
              "\n",
              "                                            WOMENONLY  RELAFFIL  SATVRMID  \\\n",
              "INSTNM                                                                      \n",
              "Spa Tech Institute-Ipswich                        0.0         0       NaN   \n",
              "Spa Tech Institute-Plymouth                       0.0         0       NaN   \n",
              "Spa Tech Institute-Westboro                       0.0         0       NaN   \n",
              "...                                               ...       ...       ...   \n",
              "Stylemaster College of Hair Design                0.0         0       NaN   \n",
              "Styles and Profiles Beauty College                0.0         0       NaN   \n",
              "Styletrends Barber and Hairstyling Academy        0.0         0       NaN   \n",
              "\n",
              "                                            SATMTMID  DISTANCEONLY   UGDS  \\\n",
              "INSTNM                                                                      \n",
              "Spa Tech Institute-Ipswich                       NaN           0.0   37.0   \n",
              "Spa Tech Institute-Plymouth                      NaN           0.0  153.0   \n",
              "Spa Tech Institute-Westboro                      NaN           0.0   90.0   \n",
              "...                                              ...           ...    ...   \n",
              "Stylemaster College of Hair Design               NaN           0.0   77.0   \n",
              "Styles and Profiles Beauty College               NaN           0.0   31.0   \n",
              "Styletrends Barber and Hairstyling Academy       NaN           0.0   45.0   \n",
              "\n",
              "                                                   ...          UGDS_2MOR  \\\n",
              "INSTNM                                             ...                      \n",
              "Spa Tech Institute-Ipswich                         ...              0.000   \n",
              "Spa Tech Institute-Plymouth                        ...              0.000   \n",
              "Spa Tech Institute-Westboro                        ...              0.000   \n",
              "...                                                ...                ...   \n",
              "Stylemaster College of Hair Design                 ...              0.013   \n",
              "Styles and Profiles Beauty College                 ...              0.000   \n",
              "Styletrends Barber and Hairstyling Academy         ...              0.000   \n",
              "\n",
              "                                            UGDS_NRA  UGDS_UNKN  PPTUG_EF  \\\n",
              "INSTNM                                                                      \n",
              "Spa Tech Institute-Ipswich                       0.0     0.0541    0.4054   \n",
              "Spa Tech Institute-Plymouth                      0.0     0.2484    0.3399   \n",
              "Spa Tech Institute-Westboro                      0.0     0.0222    0.5778   \n",
              "...                                              ...        ...       ...   \n",
              "Stylemaster College of Hair Design               0.0     0.0000    0.0000   \n",
              "Styles and Profiles Beauty College               0.0     0.0000    0.0000   \n",
              "Styletrends Barber and Hairstyling Academy       0.0     0.0000    0.5556   \n",
              "\n",
              "                                            CURROPER  PCTPELL  PCTFLOAN  \\\n",
              "INSTNM                                                                    \n",
              "Spa Tech Institute-Ipswich                         1   0.2656    0.3906   \n",
              "Spa Tech Institute-Plymouth                        1   0.3716    0.4266   \n",
              "Spa Tech Institute-Westboro                        1   0.3409    0.4545   \n",
              "...                                              ...      ...       ...   \n",
              "Stylemaster College of Hair Design                 1   0.8036    0.7024   \n",
              "Styles and Profiles Beauty College                 1   0.8182    0.7955   \n",
              "Styletrends Barber and Hairstyling Academy         0   1.0000    1.0000   \n",
              "\n",
              "                                            UG25ABV    MD_EARN_WNE_P10  \\\n",
              "INSTNM                                                                   \n",
              "Spa Tech Institute-Ipswich                   0.7907              21500   \n",
              "Spa Tech Institute-Plymouth                  0.6250              21500   \n",
              "Spa Tech Institute-Westboro                  0.6882              21500   \n",
              "...                                             ...                ...   \n",
              "Stylemaster College of Hair Design           0.4510              17000   \n",
              "Styles and Profiles Beauty College           0.2400  PrivacySuppressed   \n",
              "Styletrends Barber and Hairstyling Academy   0.3529  PrivacySuppressed   \n",
              "\n",
              "                                            GRAD_DEBT_MDN_SUPP  \n",
              "INSTNM                                                          \n",
              "Spa Tech Institute-Ipswich                                6333  \n",
              "Spa Tech Institute-Plymouth                               6333  \n",
              "Spa Tech Institute-Westboro                               6333  \n",
              "...                                                        ...  \n",
              "Stylemaster College of Hair Design                       13320  \n",
              "Styles and Profiles Beauty College           PrivacySuppressed  \n",
              "Styletrends Barber and Hairstyling Academy              9495.5  \n",
              "\n",
              "[201 rows x 26 columns]"
            ]
          },
          "metadata": {
            "tags": []
          },
          "execution_count": 373
        }
      ]
    },
    {
      "cell_type": "code",
      "metadata": {
        "id": "AG4NBYUnCTbN",
        "colab_type": "code",
        "outputId": "6b2da041-e870-46d5-a287-e8aa4b367194",
        "colab": {}
      },
      "source": [
        "college = college.sort_index(ascending=False)\n",
        "college.index.is_monotonic_decreasing"
      ],
      "execution_count": 0,
      "outputs": [
        {
          "output_type": "execute_result",
          "data": {
            "text/plain": [
              "True"
            ]
          },
          "metadata": {
            "tags": []
          },
          "execution_count": 384
        }
      ]
    },
    {
      "cell_type": "code",
      "metadata": {
        "id": "5pYn3WITCTbP",
        "colab_type": "code",
        "outputId": "c06e831b-08f5-4159-e264-f180a99ba3ea",
        "colab": {}
      },
      "source": [
        "college.loc['E':'B']"
      ],
      "execution_count": 0,
      "outputs": [
        {
          "output_type": "execute_result",
          "data": {
            "text/html": [
              "<div>\n",
              "<style>\n",
              "    .dataframe thead tr:only-child th {\n",
              "        text-align: right;\n",
              "    }\n",
              "\n",
              "    .dataframe thead th {\n",
              "        text-align: left;\n",
              "    }\n",
              "\n",
              "    .dataframe tbody tr th {\n",
              "        vertical-align: top;\n",
              "    }\n",
              "</style>\n",
              "<table border=\"1\" class=\"dataframe\">\n",
              "  <thead>\n",
              "    <tr style=\"text-align: right;\">\n",
              "      <th></th>\n",
              "      <th>CITY</th>\n",
              "      <th>STABBR</th>\n",
              "      <th>HBCU</th>\n",
              "      <th>MENONLY</th>\n",
              "      <th>WOMENONLY</th>\n",
              "      <th>RELAFFIL</th>\n",
              "      <th>SATVRMID</th>\n",
              "      <th>SATMTMID</th>\n",
              "      <th>DISTANCEONLY</th>\n",
              "      <th>UGDS</th>\n",
              "      <th>...</th>\n",
              "      <th>UGDS_2MOR</th>\n",
              "      <th>UGDS_NRA</th>\n",
              "      <th>UGDS_UNKN</th>\n",
              "      <th>PPTUG_EF</th>\n",
              "      <th>CURROPER</th>\n",
              "      <th>PCTPELL</th>\n",
              "      <th>PCTFLOAN</th>\n",
              "      <th>UG25ABV</th>\n",
              "      <th>MD_EARN_WNE_P10</th>\n",
              "      <th>GRAD_DEBT_MDN_SUPP</th>\n",
              "    </tr>\n",
              "    <tr>\n",
              "      <th>INSTNM</th>\n",
              "      <th></th>\n",
              "      <th></th>\n",
              "      <th></th>\n",
              "      <th></th>\n",
              "      <th></th>\n",
              "      <th></th>\n",
              "      <th></th>\n",
              "      <th></th>\n",
              "      <th></th>\n",
              "      <th></th>\n",
              "      <th></th>\n",
              "      <th></th>\n",
              "      <th></th>\n",
              "      <th></th>\n",
              "      <th></th>\n",
              "      <th></th>\n",
              "      <th></th>\n",
              "      <th></th>\n",
              "      <th></th>\n",
              "      <th></th>\n",
              "      <th></th>\n",
              "    </tr>\n",
              "  </thead>\n",
              "  <tbody>\n",
              "    <tr>\n",
              "      <th>Dyersburg State Community College</th>\n",
              "      <td>Dyersburg</td>\n",
              "      <td>TN</td>\n",
              "      <td>0.0</td>\n",
              "      <td>0.0</td>\n",
              "      <td>0.0</td>\n",
              "      <td>0</td>\n",
              "      <td>NaN</td>\n",
              "      <td>NaN</td>\n",
              "      <td>0.0</td>\n",
              "      <td>2001.0</td>\n",
              "      <td>...</td>\n",
              "      <td>0.0185</td>\n",
              "      <td>0.0010</td>\n",
              "      <td>0.0085</td>\n",
              "      <td>0.4423</td>\n",
              "      <td>1</td>\n",
              "      <td>0.4921</td>\n",
              "      <td>0.2493</td>\n",
              "      <td>0.3097</td>\n",
              "      <td>26800</td>\n",
              "      <td>7475</td>\n",
              "    </tr>\n",
              "    <tr>\n",
              "      <th>Dutchess Community College</th>\n",
              "      <td>Poughkeepsie</td>\n",
              "      <td>NY</td>\n",
              "      <td>0.0</td>\n",
              "      <td>0.0</td>\n",
              "      <td>0.0</td>\n",
              "      <td>0</td>\n",
              "      <td>NaN</td>\n",
              "      <td>NaN</td>\n",
              "      <td>0.0</td>\n",
              "      <td>6885.0</td>\n",
              "      <td>...</td>\n",
              "      <td>0.0446</td>\n",
              "      <td>0.0129</td>\n",
              "      <td>0.0049</td>\n",
              "      <td>0.3312</td>\n",
              "      <td>1</td>\n",
              "      <td>0.2464</td>\n",
              "      <td>0.1936</td>\n",
              "      <td>0.1806</td>\n",
              "      <td>32500</td>\n",
              "      <td>10250</td>\n",
              "    </tr>\n",
              "    <tr>\n",
              "      <th>Dutchess BOCES-Practical Nursing Program</th>\n",
              "      <td>Poughkeepsie</td>\n",
              "      <td>NY</td>\n",
              "      <td>0.0</td>\n",
              "      <td>0.0</td>\n",
              "      <td>0.0</td>\n",
              "      <td>0</td>\n",
              "      <td>NaN</td>\n",
              "      <td>NaN</td>\n",
              "      <td>0.0</td>\n",
              "      <td>155.0</td>\n",
              "      <td>...</td>\n",
              "      <td>0.0581</td>\n",
              "      <td>0.0000</td>\n",
              "      <td>0.0000</td>\n",
              "      <td>0.7548</td>\n",
              "      <td>1</td>\n",
              "      <td>0.5294</td>\n",
              "      <td>0.6275</td>\n",
              "      <td>0.5430</td>\n",
              "      <td>36500</td>\n",
              "      <td>9500</td>\n",
              "    </tr>\n",
              "    <tr>\n",
              "      <th>...</th>\n",
              "      <td>...</td>\n",
              "      <td>...</td>\n",
              "      <td>...</td>\n",
              "      <td>...</td>\n",
              "      <td>...</td>\n",
              "      <td>...</td>\n",
              "      <td>...</td>\n",
              "      <td>...</td>\n",
              "      <td>...</td>\n",
              "      <td>...</td>\n",
              "      <td>...</td>\n",
              "      <td>...</td>\n",
              "      <td>...</td>\n",
              "      <td>...</td>\n",
              "      <td>...</td>\n",
              "      <td>...</td>\n",
              "      <td>...</td>\n",
              "      <td>...</td>\n",
              "      <td>...</td>\n",
              "      <td>...</td>\n",
              "      <td>...</td>\n",
              "    </tr>\n",
              "    <tr>\n",
              "      <th>BJ's Beauty &amp; Barber College</th>\n",
              "      <td>Auburn</td>\n",
              "      <td>WA</td>\n",
              "      <td>0.0</td>\n",
              "      <td>0.0</td>\n",
              "      <td>0.0</td>\n",
              "      <td>0</td>\n",
              "      <td>NaN</td>\n",
              "      <td>NaN</td>\n",
              "      <td>0.0</td>\n",
              "      <td>28.0</td>\n",
              "      <td>...</td>\n",
              "      <td>0.0714</td>\n",
              "      <td>0.0000</td>\n",
              "      <td>0.0714</td>\n",
              "      <td>0.0000</td>\n",
              "      <td>1</td>\n",
              "      <td>0.5192</td>\n",
              "      <td>0.6154</td>\n",
              "      <td>0.2917</td>\n",
              "      <td>NaN</td>\n",
              "      <td>PrivacySuppressed</td>\n",
              "    </tr>\n",
              "    <tr>\n",
              "      <th>BIR Training Center</th>\n",
              "      <td>Chicago</td>\n",
              "      <td>IL</td>\n",
              "      <td>0.0</td>\n",
              "      <td>0.0</td>\n",
              "      <td>0.0</td>\n",
              "      <td>0</td>\n",
              "      <td>NaN</td>\n",
              "      <td>NaN</td>\n",
              "      <td>0.0</td>\n",
              "      <td>2132.0</td>\n",
              "      <td>...</td>\n",
              "      <td>0.0000</td>\n",
              "      <td>0.0000</td>\n",
              "      <td>0.0000</td>\n",
              "      <td>0.1806</td>\n",
              "      <td>0</td>\n",
              "      <td>0.6700</td>\n",
              "      <td>0.6998</td>\n",
              "      <td>0.6741</td>\n",
              "      <td>PrivacySuppressed</td>\n",
              "      <td>15394</td>\n",
              "    </tr>\n",
              "    <tr>\n",
              "      <th>B M Spurr School of Practical Nursing</th>\n",
              "      <td>Glen Dale</td>\n",
              "      <td>WV</td>\n",
              "      <td>0.0</td>\n",
              "      <td>0.0</td>\n",
              "      <td>0.0</td>\n",
              "      <td>0</td>\n",
              "      <td>NaN</td>\n",
              "      <td>NaN</td>\n",
              "      <td>0.0</td>\n",
              "      <td>31.0</td>\n",
              "      <td>...</td>\n",
              "      <td>0.0000</td>\n",
              "      <td>0.0000</td>\n",
              "      <td>0.0000</td>\n",
              "      <td>0.0000</td>\n",
              "      <td>1</td>\n",
              "      <td>0.4722</td>\n",
              "      <td>0.0000</td>\n",
              "      <td>0.4444</td>\n",
              "      <td>PrivacySuppressed</td>\n",
              "      <td>PrivacySuppressed</td>\n",
              "    </tr>\n",
              "  </tbody>\n",
              "</table>\n",
              "<p>1411 rows × 26 columns</p>\n",
              "</div>"
            ],
            "text/plain": [
              "                                                  CITY STABBR  HBCU  MENONLY  \\\n",
              "INSTNM                                                                         \n",
              "Dyersburg State Community College            Dyersburg     TN   0.0      0.0   \n",
              "Dutchess Community College                Poughkeepsie     NY   0.0      0.0   \n",
              "Dutchess BOCES-Practical Nursing Program  Poughkeepsie     NY   0.0      0.0   \n",
              "...                                                ...    ...   ...      ...   \n",
              "BJ's Beauty & Barber College                    Auburn     WA   0.0      0.0   \n",
              "BIR Training Center                            Chicago     IL   0.0      0.0   \n",
              "B M Spurr School of Practical Nursing        Glen Dale     WV   0.0      0.0   \n",
              "\n",
              "                                          WOMENONLY  RELAFFIL  SATVRMID  \\\n",
              "INSTNM                                                                    \n",
              "Dyersburg State Community College               0.0         0       NaN   \n",
              "Dutchess Community College                      0.0         0       NaN   \n",
              "Dutchess BOCES-Practical Nursing Program        0.0         0       NaN   \n",
              "...                                             ...       ...       ...   \n",
              "BJ's Beauty & Barber College                    0.0         0       NaN   \n",
              "BIR Training Center                             0.0         0       NaN   \n",
              "B M Spurr School of Practical Nursing           0.0         0       NaN   \n",
              "\n",
              "                                          SATMTMID  DISTANCEONLY    UGDS  \\\n",
              "INSTNM                                                                     \n",
              "Dyersburg State Community College              NaN           0.0  2001.0   \n",
              "Dutchess Community College                     NaN           0.0  6885.0   \n",
              "Dutchess BOCES-Practical Nursing Program       NaN           0.0   155.0   \n",
              "...                                            ...           ...     ...   \n",
              "BJ's Beauty & Barber College                   NaN           0.0    28.0   \n",
              "BIR Training Center                            NaN           0.0  2132.0   \n",
              "B M Spurr School of Practical Nursing          NaN           0.0    31.0   \n",
              "\n",
              "                                                 ...          UGDS_2MOR  \\\n",
              "INSTNM                                           ...                      \n",
              "Dyersburg State Community College                ...             0.0185   \n",
              "Dutchess Community College                       ...             0.0446   \n",
              "Dutchess BOCES-Practical Nursing Program         ...             0.0581   \n",
              "...                                              ...                ...   \n",
              "BJ's Beauty & Barber College                     ...             0.0714   \n",
              "BIR Training Center                              ...             0.0000   \n",
              "B M Spurr School of Practical Nursing            ...             0.0000   \n",
              "\n",
              "                                          UGDS_NRA  UGDS_UNKN  PPTUG_EF  \\\n",
              "INSTNM                                                                    \n",
              "Dyersburg State Community College           0.0010     0.0085    0.4423   \n",
              "Dutchess Community College                  0.0129     0.0049    0.3312   \n",
              "Dutchess BOCES-Practical Nursing Program    0.0000     0.0000    0.7548   \n",
              "...                                            ...        ...       ...   \n",
              "BJ's Beauty & Barber College                0.0000     0.0714    0.0000   \n",
              "BIR Training Center                         0.0000     0.0000    0.1806   \n",
              "B M Spurr School of Practical Nursing       0.0000     0.0000    0.0000   \n",
              "\n",
              "                                          CURROPER  PCTPELL  PCTFLOAN  \\\n",
              "INSTNM                                                                  \n",
              "Dyersburg State Community College                1   0.4921    0.2493   \n",
              "Dutchess Community College                       1   0.2464    0.1936   \n",
              "Dutchess BOCES-Practical Nursing Program         1   0.5294    0.6275   \n",
              "...                                            ...      ...       ...   \n",
              "BJ's Beauty & Barber College                     1   0.5192    0.6154   \n",
              "BIR Training Center                              0   0.6700    0.6998   \n",
              "B M Spurr School of Practical Nursing            1   0.4722    0.0000   \n",
              "\n",
              "                                          UG25ABV    MD_EARN_WNE_P10  \\\n",
              "INSTNM                                                                 \n",
              "Dyersburg State Community College          0.3097              26800   \n",
              "Dutchess Community College                 0.1806              32500   \n",
              "Dutchess BOCES-Practical Nursing Program   0.5430              36500   \n",
              "...                                           ...                ...   \n",
              "BJ's Beauty & Barber College               0.2917                NaN   \n",
              "BIR Training Center                        0.6741  PrivacySuppressed   \n",
              "B M Spurr School of Practical Nursing      0.4444  PrivacySuppressed   \n",
              "\n",
              "                                          GRAD_DEBT_MDN_SUPP  \n",
              "INSTNM                                                        \n",
              "Dyersburg State Community College                       7475  \n",
              "Dutchess Community College                             10250  \n",
              "Dutchess BOCES-Practical Nursing Program                9500  \n",
              "...                                                      ...  \n",
              "BJ's Beauty & Barber College               PrivacySuppressed  \n",
              "BIR Training Center                                    15394  \n",
              "B M Spurr School of Practical Nursing      PrivacySuppressed  \n",
              "\n",
              "[1411 rows x 26 columns]"
            ]
          },
          "metadata": {
            "tags": []
          },
          "execution_count": 381
        }
      ]
    },
    {
      "cell_type": "code",
      "metadata": {
        "id": "hzDaTb8nCTbS",
        "colab_type": "code",
        "outputId": "080cd58a-226c-4108-bb41-22908c521f8d",
        "colab": {}
      },
      "source": [
        "college.loc['E':'B']"
      ],
      "execution_count": 0,
      "outputs": [
        {
          "output_type": "execute_result",
          "data": {
            "text/html": [
              "<div>\n",
              "<style>\n",
              "    .dataframe thead tr:only-child th {\n",
              "        text-align: right;\n",
              "    }\n",
              "\n",
              "    .dataframe thead th {\n",
              "        text-align: left;\n",
              "    }\n",
              "\n",
              "    .dataframe tbody tr th {\n",
              "        vertical-align: top;\n",
              "    }\n",
              "</style>\n",
              "<table border=\"1\" class=\"dataframe\">\n",
              "  <thead>\n",
              "    <tr style=\"text-align: right;\">\n",
              "      <th></th>\n",
              "      <th>CITY</th>\n",
              "      <th>STABBR</th>\n",
              "      <th>HBCU</th>\n",
              "      <th>MENONLY</th>\n",
              "      <th>WOMENONLY</th>\n",
              "      <th>RELAFFIL</th>\n",
              "      <th>SATVRMID</th>\n",
              "      <th>SATMTMID</th>\n",
              "      <th>DISTANCEONLY</th>\n",
              "      <th>UGDS</th>\n",
              "      <th>...</th>\n",
              "      <th>UGDS_2MOR</th>\n",
              "      <th>UGDS_NRA</th>\n",
              "      <th>UGDS_UNKN</th>\n",
              "      <th>PPTUG_EF</th>\n",
              "      <th>CURROPER</th>\n",
              "      <th>PCTPELL</th>\n",
              "      <th>PCTFLOAN</th>\n",
              "      <th>UG25ABV</th>\n",
              "      <th>MD_EARN_WNE_P10</th>\n",
              "      <th>GRAD_DEBT_MDN_SUPP</th>\n",
              "    </tr>\n",
              "    <tr>\n",
              "      <th>INSTNM</th>\n",
              "      <th></th>\n",
              "      <th></th>\n",
              "      <th></th>\n",
              "      <th></th>\n",
              "      <th></th>\n",
              "      <th></th>\n",
              "      <th></th>\n",
              "      <th></th>\n",
              "      <th></th>\n",
              "      <th></th>\n",
              "      <th></th>\n",
              "      <th></th>\n",
              "      <th></th>\n",
              "      <th></th>\n",
              "      <th></th>\n",
              "      <th></th>\n",
              "      <th></th>\n",
              "      <th></th>\n",
              "      <th></th>\n",
              "      <th></th>\n",
              "      <th></th>\n",
              "    </tr>\n",
              "  </thead>\n",
              "  <tbody>\n",
              "    <tr>\n",
              "      <th>Dyersburg State Community College</th>\n",
              "      <td>Dyersburg</td>\n",
              "      <td>TN</td>\n",
              "      <td>0.0</td>\n",
              "      <td>0.0</td>\n",
              "      <td>0.0</td>\n",
              "      <td>0</td>\n",
              "      <td>NaN</td>\n",
              "      <td>NaN</td>\n",
              "      <td>0.0</td>\n",
              "      <td>2001.0</td>\n",
              "      <td>...</td>\n",
              "      <td>0.0185</td>\n",
              "      <td>0.0010</td>\n",
              "      <td>0.0085</td>\n",
              "      <td>0.4423</td>\n",
              "      <td>1</td>\n",
              "      <td>0.4921</td>\n",
              "      <td>0.2493</td>\n",
              "      <td>0.3097</td>\n",
              "      <td>26800</td>\n",
              "      <td>7475</td>\n",
              "    </tr>\n",
              "    <tr>\n",
              "      <th>Dutchess Community College</th>\n",
              "      <td>Poughkeepsie</td>\n",
              "      <td>NY</td>\n",
              "      <td>0.0</td>\n",
              "      <td>0.0</td>\n",
              "      <td>0.0</td>\n",
              "      <td>0</td>\n",
              "      <td>NaN</td>\n",
              "      <td>NaN</td>\n",
              "      <td>0.0</td>\n",
              "      <td>6885.0</td>\n",
              "      <td>...</td>\n",
              "      <td>0.0446</td>\n",
              "      <td>0.0129</td>\n",
              "      <td>0.0049</td>\n",
              "      <td>0.3312</td>\n",
              "      <td>1</td>\n",
              "      <td>0.2464</td>\n",
              "      <td>0.1936</td>\n",
              "      <td>0.1806</td>\n",
              "      <td>32500</td>\n",
              "      <td>10250</td>\n",
              "    </tr>\n",
              "    <tr>\n",
              "      <th>Dutchess BOCES-Practical Nursing Program</th>\n",
              "      <td>Poughkeepsie</td>\n",
              "      <td>NY</td>\n",
              "      <td>0.0</td>\n",
              "      <td>0.0</td>\n",
              "      <td>0.0</td>\n",
              "      <td>0</td>\n",
              "      <td>NaN</td>\n",
              "      <td>NaN</td>\n",
              "      <td>0.0</td>\n",
              "      <td>155.0</td>\n",
              "      <td>...</td>\n",
              "      <td>0.0581</td>\n",
              "      <td>0.0000</td>\n",
              "      <td>0.0000</td>\n",
              "      <td>0.7548</td>\n",
              "      <td>1</td>\n",
              "      <td>0.5294</td>\n",
              "      <td>0.6275</td>\n",
              "      <td>0.5430</td>\n",
              "      <td>36500</td>\n",
              "      <td>9500</td>\n",
              "    </tr>\n",
              "    <tr>\n",
              "      <th>...</th>\n",
              "      <td>...</td>\n",
              "      <td>...</td>\n",
              "      <td>...</td>\n",
              "      <td>...</td>\n",
              "      <td>...</td>\n",
              "      <td>...</td>\n",
              "      <td>...</td>\n",
              "      <td>...</td>\n",
              "      <td>...</td>\n",
              "      <td>...</td>\n",
              "      <td>...</td>\n",
              "      <td>...</td>\n",
              "      <td>...</td>\n",
              "      <td>...</td>\n",
              "      <td>...</td>\n",
              "      <td>...</td>\n",
              "      <td>...</td>\n",
              "      <td>...</td>\n",
              "      <td>...</td>\n",
              "      <td>...</td>\n",
              "      <td>...</td>\n",
              "    </tr>\n",
              "    <tr>\n",
              "      <th>BJ's Beauty &amp; Barber College</th>\n",
              "      <td>Auburn</td>\n",
              "      <td>WA</td>\n",
              "      <td>0.0</td>\n",
              "      <td>0.0</td>\n",
              "      <td>0.0</td>\n",
              "      <td>0</td>\n",
              "      <td>NaN</td>\n",
              "      <td>NaN</td>\n",
              "      <td>0.0</td>\n",
              "      <td>28.0</td>\n",
              "      <td>...</td>\n",
              "      <td>0.0714</td>\n",
              "      <td>0.0000</td>\n",
              "      <td>0.0714</td>\n",
              "      <td>0.0000</td>\n",
              "      <td>1</td>\n",
              "      <td>0.5192</td>\n",
              "      <td>0.6154</td>\n",
              "      <td>0.2917</td>\n",
              "      <td>NaN</td>\n",
              "      <td>PrivacySuppressed</td>\n",
              "    </tr>\n",
              "    <tr>\n",
              "      <th>BIR Training Center</th>\n",
              "      <td>Chicago</td>\n",
              "      <td>IL</td>\n",
              "      <td>0.0</td>\n",
              "      <td>0.0</td>\n",
              "      <td>0.0</td>\n",
              "      <td>0</td>\n",
              "      <td>NaN</td>\n",
              "      <td>NaN</td>\n",
              "      <td>0.0</td>\n",
              "      <td>2132.0</td>\n",
              "      <td>...</td>\n",
              "      <td>0.0000</td>\n",
              "      <td>0.0000</td>\n",
              "      <td>0.0000</td>\n",
              "      <td>0.1806</td>\n",
              "      <td>0</td>\n",
              "      <td>0.6700</td>\n",
              "      <td>0.6998</td>\n",
              "      <td>0.6741</td>\n",
              "      <td>PrivacySuppressed</td>\n",
              "      <td>15394</td>\n",
              "    </tr>\n",
              "    <tr>\n",
              "      <th>B M Spurr School of Practical Nursing</th>\n",
              "      <td>Glen Dale</td>\n",
              "      <td>WV</td>\n",
              "      <td>0.0</td>\n",
              "      <td>0.0</td>\n",
              "      <td>0.0</td>\n",
              "      <td>0</td>\n",
              "      <td>NaN</td>\n",
              "      <td>NaN</td>\n",
              "      <td>0.0</td>\n",
              "      <td>31.0</td>\n",
              "      <td>...</td>\n",
              "      <td>0.0000</td>\n",
              "      <td>0.0000</td>\n",
              "      <td>0.0000</td>\n",
              "      <td>0.0000</td>\n",
              "      <td>1</td>\n",
              "      <td>0.4722</td>\n",
              "      <td>0.0000</td>\n",
              "      <td>0.4444</td>\n",
              "      <td>PrivacySuppressed</td>\n",
              "      <td>PrivacySuppressed</td>\n",
              "    </tr>\n",
              "  </tbody>\n",
              "</table>\n",
              "<p>1411 rows × 26 columns</p>\n",
              "</div>"
            ],
            "text/plain": [
              "                                                  CITY STABBR  HBCU  MENONLY  \\\n",
              "INSTNM                                                                         \n",
              "Dyersburg State Community College            Dyersburg     TN   0.0      0.0   \n",
              "Dutchess Community College                Poughkeepsie     NY   0.0      0.0   \n",
              "Dutchess BOCES-Practical Nursing Program  Poughkeepsie     NY   0.0      0.0   \n",
              "...                                                ...    ...   ...      ...   \n",
              "BJ's Beauty & Barber College                    Auburn     WA   0.0      0.0   \n",
              "BIR Training Center                            Chicago     IL   0.0      0.0   \n",
              "B M Spurr School of Practical Nursing        Glen Dale     WV   0.0      0.0   \n",
              "\n",
              "                                          WOMENONLY  RELAFFIL  SATVRMID  \\\n",
              "INSTNM                                                                    \n",
              "Dyersburg State Community College               0.0         0       NaN   \n",
              "Dutchess Community College                      0.0         0       NaN   \n",
              "Dutchess BOCES-Practical Nursing Program        0.0         0       NaN   \n",
              "...                                             ...       ...       ...   \n",
              "BJ's Beauty & Barber College                    0.0         0       NaN   \n",
              "BIR Training Center                             0.0         0       NaN   \n",
              "B M Spurr School of Practical Nursing           0.0         0       NaN   \n",
              "\n",
              "                                          SATMTMID  DISTANCEONLY    UGDS  \\\n",
              "INSTNM                                                                     \n",
              "Dyersburg State Community College              NaN           0.0  2001.0   \n",
              "Dutchess Community College                     NaN           0.0  6885.0   \n",
              "Dutchess BOCES-Practical Nursing Program       NaN           0.0   155.0   \n",
              "...                                            ...           ...     ...   \n",
              "BJ's Beauty & Barber College                   NaN           0.0    28.0   \n",
              "BIR Training Center                            NaN           0.0  2132.0   \n",
              "B M Spurr School of Practical Nursing          NaN           0.0    31.0   \n",
              "\n",
              "                                                 ...          UGDS_2MOR  \\\n",
              "INSTNM                                           ...                      \n",
              "Dyersburg State Community College                ...             0.0185   \n",
              "Dutchess Community College                       ...             0.0446   \n",
              "Dutchess BOCES-Practical Nursing Program         ...             0.0581   \n",
              "...                                              ...                ...   \n",
              "BJ's Beauty & Barber College                     ...             0.0714   \n",
              "BIR Training Center                              ...             0.0000   \n",
              "B M Spurr School of Practical Nursing            ...             0.0000   \n",
              "\n",
              "                                          UGDS_NRA  UGDS_UNKN  PPTUG_EF  \\\n",
              "INSTNM                                                                    \n",
              "Dyersburg State Community College           0.0010     0.0085    0.4423   \n",
              "Dutchess Community College                  0.0129     0.0049    0.3312   \n",
              "Dutchess BOCES-Practical Nursing Program    0.0000     0.0000    0.7548   \n",
              "...                                            ...        ...       ...   \n",
              "BJ's Beauty & Barber College                0.0000     0.0714    0.0000   \n",
              "BIR Training Center                         0.0000     0.0000    0.1806   \n",
              "B M Spurr School of Practical Nursing       0.0000     0.0000    0.0000   \n",
              "\n",
              "                                          CURROPER  PCTPELL  PCTFLOAN  \\\n",
              "INSTNM                                                                  \n",
              "Dyersburg State Community College                1   0.4921    0.2493   \n",
              "Dutchess Community College                       1   0.2464    0.1936   \n",
              "Dutchess BOCES-Practical Nursing Program         1   0.5294    0.6275   \n",
              "...                                            ...      ...       ...   \n",
              "BJ's Beauty & Barber College                     1   0.5192    0.6154   \n",
              "BIR Training Center                              0   0.6700    0.6998   \n",
              "B M Spurr School of Practical Nursing            1   0.4722    0.0000   \n",
              "\n",
              "                                          UG25ABV    MD_EARN_WNE_P10  \\\n",
              "INSTNM                                                                 \n",
              "Dyersburg State Community College          0.3097              26800   \n",
              "Dutchess Community College                 0.1806              32500   \n",
              "Dutchess BOCES-Practical Nursing Program   0.5430              36500   \n",
              "...                                           ...                ...   \n",
              "BJ's Beauty & Barber College               0.2917                NaN   \n",
              "BIR Training Center                        0.6741  PrivacySuppressed   \n",
              "B M Spurr School of Practical Nursing      0.4444  PrivacySuppressed   \n",
              "\n",
              "                                          GRAD_DEBT_MDN_SUPP  \n",
              "INSTNM                                                        \n",
              "Dyersburg State Community College                       7475  \n",
              "Dutchess Community College                             10250  \n",
              "Dutchess BOCES-Practical Nursing Program                9500  \n",
              "...                                                      ...  \n",
              "BJ's Beauty & Barber College               PrivacySuppressed  \n",
              "BIR Training Center                                    15394  \n",
              "B M Spurr School of Practical Nursing      PrivacySuppressed  \n",
              "\n",
              "[1411 rows x 26 columns]"
            ]
          },
          "metadata": {
            "tags": []
          },
          "execution_count": 388
        }
      ]
    }
  ]
}