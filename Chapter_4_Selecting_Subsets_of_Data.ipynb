{
  "nbformat": 4,
  "nbformat_minor": 0,
  "metadata": {
    "colab": {
      "name": "Chapter 4 Selecting Subsets of Data.ipynb",
      "version": "0.3.2",
      "provenance": [],
      "collapsed_sections": [
        "WDG3f8LZCTaC",
        "KIzXVvKcCTas",
        "6YHlOvlDCTaz",
        "3t40NoArCTbA",
        "XT4EDlYdCTbE"
      ],
      "include_colab_link": true
    },
    "language_info": {
      "codemirror_mode": {
        "name": "ipython",
        "version": 3
      },
      "file_extension": ".py",
      "mimetype": "text/x-python",
      "name": "python",
      "nbconvert_exporter": "python",
      "pygments_lexer": "ipython3",
      "version": "3.6.1"
    },
    "kernelspec": {
      "display_name": "Python 3",
      "language": "python",
      "name": "python3"
    }
  },
  "cells": [
    {
      "cell_type": "markdown",
      "metadata": {
        "id": "view-in-github",
        "colab_type": "text"
      },
      "source": [
        "<a href=\"https://colab.research.google.com/github/Blackman9t/PandasCookbook/blob/master/Chapter_4_Selecting_Subsets_of_Data.ipynb\" target=\"_parent\"><img src=\"https://colab.research.google.com/assets/colab-badge.svg\" alt=\"Open In Colab\"/></a>"
      ]
    },
    {
      "cell_type": "code",
      "metadata": {
        "id": "p7WsP4EsCTXw",
        "colab_type": "code",
        "colab": {}
      },
      "source": [
        "import pandas as pd\n",
        "import numpy as np"
      ],
      "execution_count": 0,
      "outputs": []
    },
    {
      "cell_type": "markdown",
      "metadata": {
        "id": "5IssWIVUCTX3",
        "colab_type": "text"
      },
      "source": [
        "# Selecting Series data"
      ]
    },
    {
      "cell_type": "markdown",
      "metadata": {
        "id": "iEn5xK7vSo0h",
        "colab_type": "text"
      },
      "source": [
        "Step1: Read in the college dataset with the institution name as the index, and select a single column as a Series with the indexing operator:"
      ]
    },
    {
      "cell_type": "code",
      "metadata": {
        "id": "EhC86kuyCTX4",
        "colab_type": "code",
        "outputId": "fd5b2882-a2fa-459b-bfa6-2a529bb6a539",
        "colab": {
          "base_uri": "https://localhost:8080/",
          "height": 134
        }
      },
      "source": [
        "college = pd.read_csv('https://raw.githubusercontent.com/Blackman9t/PandasCookbook/master/college.csv', index_col='INSTNM')\n",
        "city = college['CITY']\n",
        "city.head()"
      ],
      "execution_count": 2,
      "outputs": [
        {
          "output_type": "execute_result",
          "data": {
            "text/plain": [
              "INSTNM\n",
              "Alabama A & M University                   Normal\n",
              "University of Alabama at Birmingham    Birmingham\n",
              "Amridge University                     Montgomery\n",
              "University of Alabama in Huntsville    Huntsville\n",
              "Alabama State University               Montgomery\n",
              "Name: CITY, dtype: object"
            ]
          },
          "metadata": {
            "tags": []
          },
          "execution_count": 2
        }
      ]
    },
    {
      "cell_type": "markdown",
      "metadata": {
        "id": "YIEm3tYdSxi2",
        "colab_type": "text"
      },
      "source": [
        "Step2: The .iloc indexer makes selections only by integer location. Passing an integer to it returns a scalar value:"
      ]
    },
    {
      "cell_type": "code",
      "metadata": {
        "id": "7y4MZIvfCTX_",
        "colab_type": "code",
        "outputId": "8c0fd2ad-19a2-47b2-bb08-65a0eb81cb82",
        "colab": {
          "base_uri": "https://localhost:8080/",
          "height": 34
        }
      },
      "source": [
        "city.iloc[3]"
      ],
      "execution_count": 3,
      "outputs": [
        {
          "output_type": "execute_result",
          "data": {
            "text/plain": [
              "'Huntsville'"
            ]
          },
          "metadata": {
            "tags": []
          },
          "execution_count": 3
        }
      ]
    },
    {
      "cell_type": "markdown",
      "metadata": {
        "id": "kboXwYZJS61_",
        "colab_type": "text"
      },
      "source": [
        "Step3: To select several different integer locations, pass a list to .iloc. This returns a Series:"
      ]
    },
    {
      "cell_type": "code",
      "metadata": {
        "id": "EV2x-hyICTYD",
        "colab_type": "code",
        "outputId": "51f4b330-2f64-424b-8a28-fabf15060ac4",
        "colab": {
          "base_uri": "https://localhost:8080/",
          "height": 101
        }
      },
      "source": [
        "city.iloc[[10,20,30]]"
      ],
      "execution_count": 4,
      "outputs": [
        {
          "output_type": "execute_result",
          "data": {
            "text/plain": [
              "INSTNM\n",
              "Birmingham Southern College                            Birmingham\n",
              "George C Wallace State Community College-Hanceville    Hanceville\n",
              "Judson College                                             Marion\n",
              "Name: CITY, dtype: object"
            ]
          },
          "metadata": {
            "tags": []
          },
          "execution_count": 4
        }
      ]
    },
    {
      "cell_type": "markdown",
      "metadata": {
        "id": "IS5tnfUGTDm6",
        "colab_type": "text"
      },
      "source": [
        "Step4: To select an equally spaced partition of data, use slice notation:"
      ]
    },
    {
      "cell_type": "code",
      "metadata": {
        "id": "uX-JbrepCTYH",
        "colab_type": "code",
        "outputId": "d4d97c75-16d6-4ac8-ba73-76eeff0b8ca8",
        "colab": {
          "base_uri": "https://localhost:8080/",
          "height": 134
        }
      },
      "source": [
        "city.iloc[4:50:10]"
      ],
      "execution_count": 5,
      "outputs": [
        {
          "output_type": "execute_result",
          "data": {
            "text/plain": [
              "INSTNM\n",
              "Alabama State University              Montgomery\n",
              "Enterprise State Community College    Enterprise\n",
              "Heritage Christian University           Florence\n",
              "Marion Military Institute                 Marion\n",
              "Reid State Technical College           Evergreen\n",
              "Name: CITY, dtype: object"
            ]
          },
          "metadata": {
            "tags": []
          },
          "execution_count": 5
        }
      ]
    },
    {
      "cell_type": "markdown",
      "metadata": {
        "id": "6bSu_4VJTW8L",
        "colab_type": "text"
      },
      "source": [
        "step5: Now we turn to the .loc indexer, which selects only with index labels. Passing a single string returns a scalar value:\n"
      ]
    },
    {
      "cell_type": "code",
      "metadata": {
        "id": "vg1uq3rqCTYL",
        "colab_type": "code",
        "outputId": "8c27276c-e963-4265-e592-891c0a1fe9e4",
        "colab": {
          "base_uri": "https://localhost:8080/",
          "height": 34
        }
      },
      "source": [
        "city.loc['Heritage Christian University']"
      ],
      "execution_count": 6,
      "outputs": [
        {
          "output_type": "execute_result",
          "data": {
            "text/plain": [
              "'Florence'"
            ]
          },
          "metadata": {
            "tags": []
          },
          "execution_count": 6
        }
      ]
    },
    {
      "cell_type": "markdown",
      "metadata": {
        "id": "ED9W3H7iUFgJ",
        "colab_type": "text"
      },
      "source": [
        "Step6: To select several disjoint labels, use a list:\n"
      ]
    },
    {
      "cell_type": "code",
      "metadata": {
        "id": "J5yi6d5rCTYP",
        "colab_type": "code",
        "outputId": "3351e18a-d302-45db-f29b-29c70dc61b28",
        "colab": {
          "base_uri": "https://localhost:8080/",
          "height": 84
        }
      },
      "source": [
        "np.random.seed(1)\n",
        "labels = list(np.random.choice(city.index, 4))\n",
        "labels"
      ],
      "execution_count": 7,
      "outputs": [
        {
          "output_type": "execute_result",
          "data": {
            "text/plain": [
              "['Northwest HVAC/R Training Center',\n",
              " 'California State University-Dominguez Hills',\n",
              " 'Lower Columbia College',\n",
              " 'Southwest Acupuncture College-Boulder']"
            ]
          },
          "metadata": {
            "tags": []
          },
          "execution_count": 7
        }
      ]
    },
    {
      "cell_type": "code",
      "metadata": {
        "id": "NdceS8s9CTYU",
        "colab_type": "code",
        "outputId": "64c3afa6-bc1e-4ee5-989e-57518a998020",
        "colab": {
          "base_uri": "https://localhost:8080/",
          "height": 118
        }
      },
      "source": [
        "city.loc[labels]"
      ],
      "execution_count": 8,
      "outputs": [
        {
          "output_type": "execute_result",
          "data": {
            "text/plain": [
              "INSTNM\n",
              "Northwest HVAC/R Training Center                Spokane\n",
              "California State University-Dominguez Hills      Carson\n",
              "Lower Columbia College                         Longview\n",
              "Southwest Acupuncture College-Boulder           Boulder\n",
              "Name: CITY, dtype: object"
            ]
          },
          "metadata": {
            "tags": []
          },
          "execution_count": 8
        }
      ]
    },
    {
      "cell_type": "markdown",
      "metadata": {
        "id": "B-ERmu4KUfpe",
        "colab_type": "text"
      },
      "source": [
        "Step7: To select an equally spaced partition of data, use slice notation. Make sure that the start and stop values are strings. You can use an integer to specify the step size of the slice:"
      ]
    },
    {
      "cell_type": "code",
      "metadata": {
        "id": "5Ah0IXVlCTYZ",
        "colab_type": "code",
        "outputId": "8e73d619-b47d-461d-cc72-0202973f741b",
        "colab": {
          "base_uri": "https://localhost:8080/",
          "height": 134
        }
      },
      "source": [
        "city.loc['Alabama State University':'Reid State Technical College':10]"
      ],
      "execution_count": 9,
      "outputs": [
        {
          "output_type": "execute_result",
          "data": {
            "text/plain": [
              "INSTNM\n",
              "Alabama State University              Montgomery\n",
              "Enterprise State Community College    Enterprise\n",
              "Heritage Christian University           Florence\n",
              "Marion Military Institute                 Marion\n",
              "Reid State Technical College           Evergreen\n",
              "Name: CITY, dtype: object"
            ]
          },
          "metadata": {
            "tags": []
          },
          "execution_count": 9
        }
      ]
    },
    {
      "cell_type": "code",
      "metadata": {
        "id": "AytSQ5T7CTYe",
        "colab_type": "code",
        "outputId": "4522d363-bbe6-41fe-ec35-6724ed9a2efc",
        "colab": {
          "base_uri": "https://localhost:8080/",
          "height": 134
        }
      },
      "source": [
        "city['Alabama State University':'Reid State Technical College':10]"
      ],
      "execution_count": 10,
      "outputs": [
        {
          "output_type": "execute_result",
          "data": {
            "text/plain": [
              "INSTNM\n",
              "Alabama State University              Montgomery\n",
              "Enterprise State Community College    Enterprise\n",
              "Heritage Christian University           Florence\n",
              "Marion Military Institute                 Marion\n",
              "Reid State Technical College           Evergreen\n",
              "Name: CITY, dtype: object"
            ]
          },
          "metadata": {
            "tags": []
          },
          "execution_count": 10
        }
      ]
    },
    {
      "cell_type": "markdown",
      "metadata": {
        "id": "5opp3kVdVtE2",
        "colab_type": "text"
      },
      "source": [
        "How it works...\n",
        "The values in a Series are referenced by integers beginning from 0. Step 2 selects the fourth element of the Series with the .loc indexer. Step 3 passes a three-item integer list to the indexing operator, which returns a Series with those integer locations selected. This feature is an enhancement over a Python list, which is incapable of selecting multiple disjoint items in this manner.\n",
        "\n",
        "In step 4, slice notation with start, stop, and step values specified is used to select an entire section of a Series.\n",
        "\n",
        "Steps 5 through 7 replicate steps 2 through 4 with the label-based indexer, .loc.  The labels must be exact matches of values in the index. To ensure our labels are exact, we choose four labels at random from the index in step 6 and store them to a list before selecting their values as a Series. Selections with the .loc indexer always include the last element, as seen in step 7."
      ]
    },
    {
      "cell_type": "markdown",
      "metadata": {
        "id": "QyvU-p7GCTYi",
        "colab_type": "text"
      },
      "source": [
        "## There's more..."
      ]
    },
    {
      "cell_type": "markdown",
      "metadata": {
        "id": "FxBVdUQ_WRZu",
        "colab_type": "text"
      },
      "source": [
        "When passing a scalar value to the indexing operator, as with step 2 and step 5, a scalar value is returned. When passing a list or slice, as in the other steps, a Series is returned. This returned value might seem inconsistent, but if we think of a Series as a dictionary-like object that maps labels to values, then returning the value makes sense. To select a single item and retain the item in its Series, pass in as a single-item list rather than a scalar value:\n",
        "\n"
      ]
    },
    {
      "cell_type": "code",
      "metadata": {
        "id": "GoIQGRKGCTYj",
        "colab_type": "code",
        "outputId": "371993a7-09ef-4249-8cb5-abfc8dff32c2",
        "colab": {
          "base_uri": "https://localhost:8080/",
          "height": 67
        }
      },
      "source": [
        "city.iloc[[3]]"
      ],
      "execution_count": 11,
      "outputs": [
        {
          "output_type": "execute_result",
          "data": {
            "text/plain": [
              "INSTNM\n",
              "University of Alabama in Huntsville    Huntsville\n",
              "Name: CITY, dtype: object"
            ]
          },
          "metadata": {
            "tags": []
          },
          "execution_count": 11
        }
      ]
    },
    {
      "cell_type": "markdown",
      "metadata": {
        "id": "btrwkaLOWS2G",
        "colab_type": "text"
      },
      "source": [
        "Care needs to be taken when using slice notation with .loc. If the start index appears after the stop index, then an empty Series is returned without an exception raised:"
      ]
    },
    {
      "cell_type": "code",
      "metadata": {
        "id": "mrf6td0ZCTYm",
        "colab_type": "code",
        "outputId": "a95d5619-a04a-49c1-f887-2e3e7c6f5a6e",
        "colab": {
          "base_uri": "https://localhost:8080/",
          "height": 34
        }
      },
      "source": [
        "city.loc['Reid State Technical College':'Alabama State University':10]"
      ],
      "execution_count": 12,
      "outputs": [
        {
          "output_type": "execute_result",
          "data": {
            "text/plain": [
              "Series([], Name: CITY, dtype: object)"
            ]
          },
          "metadata": {
            "tags": []
          },
          "execution_count": 12
        }
      ]
    },
    {
      "cell_type": "code",
      "metadata": {
        "id": "mXpCksqSCTYq",
        "colab_type": "code",
        "outputId": "e95917a0-27ac-43e8-f36c-10990c29f445",
        "colab": {
          "base_uri": "https://localhost:8080/",
          "height": 134
        }
      },
      "source": [
        "city.loc['Reid State Technical College':'Alabama State University':-10]"
      ],
      "execution_count": 13,
      "outputs": [
        {
          "output_type": "execute_result",
          "data": {
            "text/plain": [
              "INSTNM\n",
              "Reid State Technical College           Evergreen\n",
              "Marion Military Institute                 Marion\n",
              "Heritage Christian University           Florence\n",
              "Enterprise State Community College    Enterprise\n",
              "Alabama State University              Montgomery\n",
              "Name: CITY, dtype: object"
            ]
          },
          "metadata": {
            "tags": []
          },
          "execution_count": 13
        }
      ]
    },
    {
      "cell_type": "markdown",
      "metadata": {
        "id": "pAuG7bJCCTYv",
        "colab_type": "text"
      },
      "source": [
        "# Selecting DataFrame rows"
      ]
    },
    {
      "cell_type": "markdown",
      "metadata": {
        "id": "E5V-QaT4XGTN",
        "colab_type": "text"
      },
      "source": [
        "Step1: Read in the college dataset, and set the index as the institution name:"
      ]
    },
    {
      "cell_type": "code",
      "metadata": {
        "id": "ZvuL9bfZCTYv",
        "colab_type": "code",
        "outputId": "f758a813-b271-4659-9275-77307830d69d",
        "colab": {
          "base_uri": "https://localhost:8080/",
          "height": 430
        }
      },
      "source": [
        "college = pd.read_csv('https://raw.githubusercontent.com/Blackman9t/PandasCookbook/master/college.csv', index_col='INSTNM')\n",
        "college.head()"
      ],
      "execution_count": 14,
      "outputs": [
        {
          "output_type": "execute_result",
          "data": {
            "text/html": [
              "<div>\n",
              "<style scoped>\n",
              "    .dataframe tbody tr th:only-of-type {\n",
              "        vertical-align: middle;\n",
              "    }\n",
              "\n",
              "    .dataframe tbody tr th {\n",
              "        vertical-align: top;\n",
              "    }\n",
              "\n",
              "    .dataframe thead th {\n",
              "        text-align: right;\n",
              "    }\n",
              "</style>\n",
              "<table border=\"1\" class=\"dataframe\">\n",
              "  <thead>\n",
              "    <tr style=\"text-align: right;\">\n",
              "      <th></th>\n",
              "      <th>CITY</th>\n",
              "      <th>STABBR</th>\n",
              "      <th>HBCU</th>\n",
              "      <th>MENONLY</th>\n",
              "      <th>WOMENONLY</th>\n",
              "      <th>RELAFFIL</th>\n",
              "      <th>SATVRMID</th>\n",
              "      <th>SATMTMID</th>\n",
              "      <th>DISTANCEONLY</th>\n",
              "      <th>UGDS</th>\n",
              "      <th>UGDS_WHITE</th>\n",
              "      <th>UGDS_BLACK</th>\n",
              "      <th>UGDS_HISP</th>\n",
              "      <th>UGDS_ASIAN</th>\n",
              "      <th>UGDS_AIAN</th>\n",
              "      <th>UGDS_NHPI</th>\n",
              "      <th>UGDS_2MOR</th>\n",
              "      <th>UGDS_NRA</th>\n",
              "      <th>UGDS_UNKN</th>\n",
              "      <th>PPTUG_EF</th>\n",
              "      <th>CURROPER</th>\n",
              "      <th>PCTPELL</th>\n",
              "      <th>PCTFLOAN</th>\n",
              "      <th>UG25ABV</th>\n",
              "      <th>MD_EARN_WNE_P10</th>\n",
              "      <th>GRAD_DEBT_MDN_SUPP</th>\n",
              "    </tr>\n",
              "    <tr>\n",
              "      <th>INSTNM</th>\n",
              "      <th></th>\n",
              "      <th></th>\n",
              "      <th></th>\n",
              "      <th></th>\n",
              "      <th></th>\n",
              "      <th></th>\n",
              "      <th></th>\n",
              "      <th></th>\n",
              "      <th></th>\n",
              "      <th></th>\n",
              "      <th></th>\n",
              "      <th></th>\n",
              "      <th></th>\n",
              "      <th></th>\n",
              "      <th></th>\n",
              "      <th></th>\n",
              "      <th></th>\n",
              "      <th></th>\n",
              "      <th></th>\n",
              "      <th></th>\n",
              "      <th></th>\n",
              "      <th></th>\n",
              "      <th></th>\n",
              "      <th></th>\n",
              "      <th></th>\n",
              "      <th></th>\n",
              "    </tr>\n",
              "  </thead>\n",
              "  <tbody>\n",
              "    <tr>\n",
              "      <th>Alabama A &amp; M University</th>\n",
              "      <td>Normal</td>\n",
              "      <td>AL</td>\n",
              "      <td>1.0</td>\n",
              "      <td>0.0</td>\n",
              "      <td>0.0</td>\n",
              "      <td>0</td>\n",
              "      <td>424.0</td>\n",
              "      <td>420.0</td>\n",
              "      <td>0.0</td>\n",
              "      <td>4206.0</td>\n",
              "      <td>0.0333</td>\n",
              "      <td>0.9353</td>\n",
              "      <td>0.0055</td>\n",
              "      <td>0.0019</td>\n",
              "      <td>0.0024</td>\n",
              "      <td>0.0019</td>\n",
              "      <td>0.0000</td>\n",
              "      <td>0.0059</td>\n",
              "      <td>0.0138</td>\n",
              "      <td>0.0656</td>\n",
              "      <td>1</td>\n",
              "      <td>0.7356</td>\n",
              "      <td>0.8284</td>\n",
              "      <td>0.1049</td>\n",
              "      <td>30300</td>\n",
              "      <td>33888</td>\n",
              "    </tr>\n",
              "    <tr>\n",
              "      <th>University of Alabama at Birmingham</th>\n",
              "      <td>Birmingham</td>\n",
              "      <td>AL</td>\n",
              "      <td>0.0</td>\n",
              "      <td>0.0</td>\n",
              "      <td>0.0</td>\n",
              "      <td>0</td>\n",
              "      <td>570.0</td>\n",
              "      <td>565.0</td>\n",
              "      <td>0.0</td>\n",
              "      <td>11383.0</td>\n",
              "      <td>0.5922</td>\n",
              "      <td>0.2600</td>\n",
              "      <td>0.0283</td>\n",
              "      <td>0.0518</td>\n",
              "      <td>0.0022</td>\n",
              "      <td>0.0007</td>\n",
              "      <td>0.0368</td>\n",
              "      <td>0.0179</td>\n",
              "      <td>0.0100</td>\n",
              "      <td>0.2607</td>\n",
              "      <td>1</td>\n",
              "      <td>0.3460</td>\n",
              "      <td>0.5214</td>\n",
              "      <td>0.2422</td>\n",
              "      <td>39700</td>\n",
              "      <td>21941.5</td>\n",
              "    </tr>\n",
              "    <tr>\n",
              "      <th>Amridge University</th>\n",
              "      <td>Montgomery</td>\n",
              "      <td>AL</td>\n",
              "      <td>0.0</td>\n",
              "      <td>0.0</td>\n",
              "      <td>0.0</td>\n",
              "      <td>1</td>\n",
              "      <td>NaN</td>\n",
              "      <td>NaN</td>\n",
              "      <td>1.0</td>\n",
              "      <td>291.0</td>\n",
              "      <td>0.2990</td>\n",
              "      <td>0.4192</td>\n",
              "      <td>0.0069</td>\n",
              "      <td>0.0034</td>\n",
              "      <td>0.0000</td>\n",
              "      <td>0.0000</td>\n",
              "      <td>0.0000</td>\n",
              "      <td>0.0000</td>\n",
              "      <td>0.2715</td>\n",
              "      <td>0.4536</td>\n",
              "      <td>1</td>\n",
              "      <td>0.6801</td>\n",
              "      <td>0.7795</td>\n",
              "      <td>0.8540</td>\n",
              "      <td>40100</td>\n",
              "      <td>23370</td>\n",
              "    </tr>\n",
              "    <tr>\n",
              "      <th>University of Alabama in Huntsville</th>\n",
              "      <td>Huntsville</td>\n",
              "      <td>AL</td>\n",
              "      <td>0.0</td>\n",
              "      <td>0.0</td>\n",
              "      <td>0.0</td>\n",
              "      <td>0</td>\n",
              "      <td>595.0</td>\n",
              "      <td>590.0</td>\n",
              "      <td>0.0</td>\n",
              "      <td>5451.0</td>\n",
              "      <td>0.6988</td>\n",
              "      <td>0.1255</td>\n",
              "      <td>0.0382</td>\n",
              "      <td>0.0376</td>\n",
              "      <td>0.0143</td>\n",
              "      <td>0.0002</td>\n",
              "      <td>0.0172</td>\n",
              "      <td>0.0332</td>\n",
              "      <td>0.0350</td>\n",
              "      <td>0.2146</td>\n",
              "      <td>1</td>\n",
              "      <td>0.3072</td>\n",
              "      <td>0.4596</td>\n",
              "      <td>0.2640</td>\n",
              "      <td>45500</td>\n",
              "      <td>24097</td>\n",
              "    </tr>\n",
              "    <tr>\n",
              "      <th>Alabama State University</th>\n",
              "      <td>Montgomery</td>\n",
              "      <td>AL</td>\n",
              "      <td>1.0</td>\n",
              "      <td>0.0</td>\n",
              "      <td>0.0</td>\n",
              "      <td>0</td>\n",
              "      <td>425.0</td>\n",
              "      <td>430.0</td>\n",
              "      <td>0.0</td>\n",
              "      <td>4811.0</td>\n",
              "      <td>0.0158</td>\n",
              "      <td>0.9208</td>\n",
              "      <td>0.0121</td>\n",
              "      <td>0.0019</td>\n",
              "      <td>0.0010</td>\n",
              "      <td>0.0006</td>\n",
              "      <td>0.0098</td>\n",
              "      <td>0.0243</td>\n",
              "      <td>0.0137</td>\n",
              "      <td>0.0892</td>\n",
              "      <td>1</td>\n",
              "      <td>0.7347</td>\n",
              "      <td>0.7554</td>\n",
              "      <td>0.1270</td>\n",
              "      <td>26600</td>\n",
              "      <td>33118.5</td>\n",
              "    </tr>\n",
              "  </tbody>\n",
              "</table>\n",
              "</div>"
            ],
            "text/plain": [
              "                                           CITY  ... GRAD_DEBT_MDN_SUPP\n",
              "INSTNM                                           ...                   \n",
              "Alabama A & M University                 Normal  ...              33888\n",
              "University of Alabama at Birmingham  Birmingham  ...            21941.5\n",
              "Amridge University                   Montgomery  ...              23370\n",
              "University of Alabama in Huntsville  Huntsville  ...              24097\n",
              "Alabama State University             Montgomery  ...            33118.5\n",
              "\n",
              "[5 rows x 26 columns]"
            ]
          },
          "metadata": {
            "tags": []
          },
          "execution_count": 14
        }
      ]
    },
    {
      "cell_type": "code",
      "metadata": {
        "id": "Om9jP7ceCTYz",
        "colab_type": "code",
        "colab": {}
      },
      "source": [
        "pd.options.display.max_rows = 6"
      ],
      "execution_count": 0,
      "outputs": []
    },
    {
      "cell_type": "markdown",
      "metadata": {
        "id": "JS6oLqnLXPop",
        "colab_type": "text"
      },
      "source": [
        "Step2: Pass an integer to the .iloc indexer to select an entire row at that position:"
      ]
    },
    {
      "cell_type": "code",
      "metadata": {
        "id": "4jc0TqGKCTY2",
        "colab_type": "code",
        "outputId": "aa7937cd-38f5-4a45-9e16-fcfa9202e00c",
        "colab": {
          "base_uri": "https://localhost:8080/",
          "height": 151
        }
      },
      "source": [
        "college.iloc[60]"
      ],
      "execution_count": 16,
      "outputs": [
        {
          "output_type": "execute_result",
          "data": {
            "text/plain": [
              "CITY                  Anchorage\n",
              "STABBR                       AK\n",
              "HBCU                          0\n",
              "                        ...    \n",
              "UG25ABV                  0.4386\n",
              "MD_EARN_WNE_P10           42500\n",
              "GRAD_DEBT_MDN_SUPP      19449.5\n",
              "Name: University of Alaska Anchorage, Length: 26, dtype: object"
            ]
          },
          "metadata": {
            "tags": []
          },
          "execution_count": 16
        }
      ]
    },
    {
      "cell_type": "markdown",
      "metadata": {
        "id": "ZnUMuuZgXZ_b",
        "colab_type": "text"
      },
      "source": [
        "Step3: To get the same row as the preceding step, pass the index label to the .loc indexer:\n"
      ]
    },
    {
      "cell_type": "code",
      "metadata": {
        "id": "BlbCnAFLCTY6",
        "colab_type": "code",
        "outputId": "1289e0d4-cfe5-4c04-a66b-17b7399baa50",
        "colab": {
          "base_uri": "https://localhost:8080/",
          "height": 151
        }
      },
      "source": [
        "college.loc['University of Alaska Anchorage']"
      ],
      "execution_count": 17,
      "outputs": [
        {
          "output_type": "execute_result",
          "data": {
            "text/plain": [
              "CITY                  Anchorage\n",
              "STABBR                       AK\n",
              "HBCU                          0\n",
              "                        ...    \n",
              "UG25ABV                  0.4386\n",
              "MD_EARN_WNE_P10           42500\n",
              "GRAD_DEBT_MDN_SUPP      19449.5\n",
              "Name: University of Alaska Anchorage, Length: 26, dtype: object"
            ]
          },
          "metadata": {
            "tags": []
          },
          "execution_count": 17
        }
      ]
    },
    {
      "cell_type": "markdown",
      "metadata": {
        "id": "3ji684N4XrP4",
        "colab_type": "text"
      },
      "source": [
        "Step4: To select a disjointed set of rows as a DataFrame, pass a list of integers to the .iloc indexer:"
      ]
    },
    {
      "cell_type": "code",
      "metadata": {
        "id": "yk7PwAKlCTY8",
        "colab_type": "code",
        "outputId": "ce86b57c-3cfa-4cc1-a0b5-ffee8582b125",
        "colab": {
          "base_uri": "https://localhost:8080/",
          "height": 286
        }
      },
      "source": [
        "college.iloc[[60, 99, 3]]"
      ],
      "execution_count": 18,
      "outputs": [
        {
          "output_type": "execute_result",
          "data": {
            "text/html": [
              "<div>\n",
              "<style scoped>\n",
              "    .dataframe tbody tr th:only-of-type {\n",
              "        vertical-align: middle;\n",
              "    }\n",
              "\n",
              "    .dataframe tbody tr th {\n",
              "        vertical-align: top;\n",
              "    }\n",
              "\n",
              "    .dataframe thead th {\n",
              "        text-align: right;\n",
              "    }\n",
              "</style>\n",
              "<table border=\"1\" class=\"dataframe\">\n",
              "  <thead>\n",
              "    <tr style=\"text-align: right;\">\n",
              "      <th></th>\n",
              "      <th>CITY</th>\n",
              "      <th>STABBR</th>\n",
              "      <th>HBCU</th>\n",
              "      <th>MENONLY</th>\n",
              "      <th>WOMENONLY</th>\n",
              "      <th>RELAFFIL</th>\n",
              "      <th>SATVRMID</th>\n",
              "      <th>SATMTMID</th>\n",
              "      <th>DISTANCEONLY</th>\n",
              "      <th>UGDS</th>\n",
              "      <th>UGDS_WHITE</th>\n",
              "      <th>UGDS_BLACK</th>\n",
              "      <th>UGDS_HISP</th>\n",
              "      <th>UGDS_ASIAN</th>\n",
              "      <th>UGDS_AIAN</th>\n",
              "      <th>UGDS_NHPI</th>\n",
              "      <th>UGDS_2MOR</th>\n",
              "      <th>UGDS_NRA</th>\n",
              "      <th>UGDS_UNKN</th>\n",
              "      <th>PPTUG_EF</th>\n",
              "      <th>CURROPER</th>\n",
              "      <th>PCTPELL</th>\n",
              "      <th>PCTFLOAN</th>\n",
              "      <th>UG25ABV</th>\n",
              "      <th>MD_EARN_WNE_P10</th>\n",
              "      <th>GRAD_DEBT_MDN_SUPP</th>\n",
              "    </tr>\n",
              "    <tr>\n",
              "      <th>INSTNM</th>\n",
              "      <th></th>\n",
              "      <th></th>\n",
              "      <th></th>\n",
              "      <th></th>\n",
              "      <th></th>\n",
              "      <th></th>\n",
              "      <th></th>\n",
              "      <th></th>\n",
              "      <th></th>\n",
              "      <th></th>\n",
              "      <th></th>\n",
              "      <th></th>\n",
              "      <th></th>\n",
              "      <th></th>\n",
              "      <th></th>\n",
              "      <th></th>\n",
              "      <th></th>\n",
              "      <th></th>\n",
              "      <th></th>\n",
              "      <th></th>\n",
              "      <th></th>\n",
              "      <th></th>\n",
              "      <th></th>\n",
              "      <th></th>\n",
              "      <th></th>\n",
              "      <th></th>\n",
              "    </tr>\n",
              "  </thead>\n",
              "  <tbody>\n",
              "    <tr>\n",
              "      <th>University of Alaska Anchorage</th>\n",
              "      <td>Anchorage</td>\n",
              "      <td>AK</td>\n",
              "      <td>0.0</td>\n",
              "      <td>0.0</td>\n",
              "      <td>0.0</td>\n",
              "      <td>0</td>\n",
              "      <td>NaN</td>\n",
              "      <td>NaN</td>\n",
              "      <td>0.0</td>\n",
              "      <td>12865.0</td>\n",
              "      <td>0.5747</td>\n",
              "      <td>0.0358</td>\n",
              "      <td>0.0761</td>\n",
              "      <td>0.0778</td>\n",
              "      <td>0.0653</td>\n",
              "      <td>0.0086</td>\n",
              "      <td>0.0980</td>\n",
              "      <td>0.0181</td>\n",
              "      <td>0.0457</td>\n",
              "      <td>0.4539</td>\n",
              "      <td>1</td>\n",
              "      <td>0.2385</td>\n",
              "      <td>0.2647</td>\n",
              "      <td>0.4386</td>\n",
              "      <td>42500</td>\n",
              "      <td>19449.5</td>\n",
              "    </tr>\n",
              "    <tr>\n",
              "      <th>International Academy of Hair Design</th>\n",
              "      <td>Tempe</td>\n",
              "      <td>AZ</td>\n",
              "      <td>0.0</td>\n",
              "      <td>0.0</td>\n",
              "      <td>0.0</td>\n",
              "      <td>0</td>\n",
              "      <td>NaN</td>\n",
              "      <td>NaN</td>\n",
              "      <td>0.0</td>\n",
              "      <td>188.0</td>\n",
              "      <td>0.2713</td>\n",
              "      <td>0.2500</td>\n",
              "      <td>0.3670</td>\n",
              "      <td>0.0160</td>\n",
              "      <td>0.0160</td>\n",
              "      <td>0.0000</td>\n",
              "      <td>0.0160</td>\n",
              "      <td>0.0000</td>\n",
              "      <td>0.0638</td>\n",
              "      <td>0.0000</td>\n",
              "      <td>0</td>\n",
              "      <td>0.7185</td>\n",
              "      <td>0.7346</td>\n",
              "      <td>0.3905</td>\n",
              "      <td>22200</td>\n",
              "      <td>10556</td>\n",
              "    </tr>\n",
              "    <tr>\n",
              "      <th>University of Alabama in Huntsville</th>\n",
              "      <td>Huntsville</td>\n",
              "      <td>AL</td>\n",
              "      <td>0.0</td>\n",
              "      <td>0.0</td>\n",
              "      <td>0.0</td>\n",
              "      <td>0</td>\n",
              "      <td>595.0</td>\n",
              "      <td>590.0</td>\n",
              "      <td>0.0</td>\n",
              "      <td>5451.0</td>\n",
              "      <td>0.6988</td>\n",
              "      <td>0.1255</td>\n",
              "      <td>0.0382</td>\n",
              "      <td>0.0376</td>\n",
              "      <td>0.0143</td>\n",
              "      <td>0.0002</td>\n",
              "      <td>0.0172</td>\n",
              "      <td>0.0332</td>\n",
              "      <td>0.0350</td>\n",
              "      <td>0.2146</td>\n",
              "      <td>1</td>\n",
              "      <td>0.3072</td>\n",
              "      <td>0.4596</td>\n",
              "      <td>0.2640</td>\n",
              "      <td>45500</td>\n",
              "      <td>24097</td>\n",
              "    </tr>\n",
              "  </tbody>\n",
              "</table>\n",
              "</div>"
            ],
            "text/plain": [
              "                                            CITY  ... GRAD_DEBT_MDN_SUPP\n",
              "INSTNM                                            ...                   \n",
              "University of Alaska Anchorage         Anchorage  ...            19449.5\n",
              "International Academy of Hair Design       Tempe  ...              10556\n",
              "University of Alabama in Huntsville   Huntsville  ...              24097\n",
              "\n",
              "[3 rows x 26 columns]"
            ]
          },
          "metadata": {
            "tags": []
          },
          "execution_count": 18
        }
      ]
    },
    {
      "cell_type": "markdown",
      "metadata": {
        "id": "KIK7c8YlX4Fm",
        "colab_type": "text"
      },
      "source": [
        "Step5: The same DataFrame from step 4 may be reproduced using .loc by passing it a list of the exact institution names:"
      ]
    },
    {
      "cell_type": "code",
      "metadata": {
        "id": "UJnInBItCTY_",
        "colab_type": "code",
        "outputId": "cf67704c-3bae-49ab-d710-2f41d5483013",
        "colab": {
          "base_uri": "https://localhost:8080/",
          "height": 286
        }
      },
      "source": [
        "labels = ['University of Alaska Anchorage',\n",
        "          'International Academy of Hair Design',\n",
        "          'University of Alabama in Huntsville']\n",
        "college.loc[labels]"
      ],
      "execution_count": 19,
      "outputs": [
        {
          "output_type": "execute_result",
          "data": {
            "text/html": [
              "<div>\n",
              "<style scoped>\n",
              "    .dataframe tbody tr th:only-of-type {\n",
              "        vertical-align: middle;\n",
              "    }\n",
              "\n",
              "    .dataframe tbody tr th {\n",
              "        vertical-align: top;\n",
              "    }\n",
              "\n",
              "    .dataframe thead th {\n",
              "        text-align: right;\n",
              "    }\n",
              "</style>\n",
              "<table border=\"1\" class=\"dataframe\">\n",
              "  <thead>\n",
              "    <tr style=\"text-align: right;\">\n",
              "      <th></th>\n",
              "      <th>CITY</th>\n",
              "      <th>STABBR</th>\n",
              "      <th>HBCU</th>\n",
              "      <th>MENONLY</th>\n",
              "      <th>WOMENONLY</th>\n",
              "      <th>RELAFFIL</th>\n",
              "      <th>SATVRMID</th>\n",
              "      <th>SATMTMID</th>\n",
              "      <th>DISTANCEONLY</th>\n",
              "      <th>UGDS</th>\n",
              "      <th>UGDS_WHITE</th>\n",
              "      <th>UGDS_BLACK</th>\n",
              "      <th>UGDS_HISP</th>\n",
              "      <th>UGDS_ASIAN</th>\n",
              "      <th>UGDS_AIAN</th>\n",
              "      <th>UGDS_NHPI</th>\n",
              "      <th>UGDS_2MOR</th>\n",
              "      <th>UGDS_NRA</th>\n",
              "      <th>UGDS_UNKN</th>\n",
              "      <th>PPTUG_EF</th>\n",
              "      <th>CURROPER</th>\n",
              "      <th>PCTPELL</th>\n",
              "      <th>PCTFLOAN</th>\n",
              "      <th>UG25ABV</th>\n",
              "      <th>MD_EARN_WNE_P10</th>\n",
              "      <th>GRAD_DEBT_MDN_SUPP</th>\n",
              "    </tr>\n",
              "    <tr>\n",
              "      <th>INSTNM</th>\n",
              "      <th></th>\n",
              "      <th></th>\n",
              "      <th></th>\n",
              "      <th></th>\n",
              "      <th></th>\n",
              "      <th></th>\n",
              "      <th></th>\n",
              "      <th></th>\n",
              "      <th></th>\n",
              "      <th></th>\n",
              "      <th></th>\n",
              "      <th></th>\n",
              "      <th></th>\n",
              "      <th></th>\n",
              "      <th></th>\n",
              "      <th></th>\n",
              "      <th></th>\n",
              "      <th></th>\n",
              "      <th></th>\n",
              "      <th></th>\n",
              "      <th></th>\n",
              "      <th></th>\n",
              "      <th></th>\n",
              "      <th></th>\n",
              "      <th></th>\n",
              "      <th></th>\n",
              "    </tr>\n",
              "  </thead>\n",
              "  <tbody>\n",
              "    <tr>\n",
              "      <th>University of Alaska Anchorage</th>\n",
              "      <td>Anchorage</td>\n",
              "      <td>AK</td>\n",
              "      <td>0.0</td>\n",
              "      <td>0.0</td>\n",
              "      <td>0.0</td>\n",
              "      <td>0</td>\n",
              "      <td>NaN</td>\n",
              "      <td>NaN</td>\n",
              "      <td>0.0</td>\n",
              "      <td>12865.0</td>\n",
              "      <td>0.5747</td>\n",
              "      <td>0.0358</td>\n",
              "      <td>0.0761</td>\n",
              "      <td>0.0778</td>\n",
              "      <td>0.0653</td>\n",
              "      <td>0.0086</td>\n",
              "      <td>0.0980</td>\n",
              "      <td>0.0181</td>\n",
              "      <td>0.0457</td>\n",
              "      <td>0.4539</td>\n",
              "      <td>1</td>\n",
              "      <td>0.2385</td>\n",
              "      <td>0.2647</td>\n",
              "      <td>0.4386</td>\n",
              "      <td>42500</td>\n",
              "      <td>19449.5</td>\n",
              "    </tr>\n",
              "    <tr>\n",
              "      <th>International Academy of Hair Design</th>\n",
              "      <td>Tempe</td>\n",
              "      <td>AZ</td>\n",
              "      <td>0.0</td>\n",
              "      <td>0.0</td>\n",
              "      <td>0.0</td>\n",
              "      <td>0</td>\n",
              "      <td>NaN</td>\n",
              "      <td>NaN</td>\n",
              "      <td>0.0</td>\n",
              "      <td>188.0</td>\n",
              "      <td>0.2713</td>\n",
              "      <td>0.2500</td>\n",
              "      <td>0.3670</td>\n",
              "      <td>0.0160</td>\n",
              "      <td>0.0160</td>\n",
              "      <td>0.0000</td>\n",
              "      <td>0.0160</td>\n",
              "      <td>0.0000</td>\n",
              "      <td>0.0638</td>\n",
              "      <td>0.0000</td>\n",
              "      <td>0</td>\n",
              "      <td>0.7185</td>\n",
              "      <td>0.7346</td>\n",
              "      <td>0.3905</td>\n",
              "      <td>22200</td>\n",
              "      <td>10556</td>\n",
              "    </tr>\n",
              "    <tr>\n",
              "      <th>University of Alabama in Huntsville</th>\n",
              "      <td>Huntsville</td>\n",
              "      <td>AL</td>\n",
              "      <td>0.0</td>\n",
              "      <td>0.0</td>\n",
              "      <td>0.0</td>\n",
              "      <td>0</td>\n",
              "      <td>595.0</td>\n",
              "      <td>590.0</td>\n",
              "      <td>0.0</td>\n",
              "      <td>5451.0</td>\n",
              "      <td>0.6988</td>\n",
              "      <td>0.1255</td>\n",
              "      <td>0.0382</td>\n",
              "      <td>0.0376</td>\n",
              "      <td>0.0143</td>\n",
              "      <td>0.0002</td>\n",
              "      <td>0.0172</td>\n",
              "      <td>0.0332</td>\n",
              "      <td>0.0350</td>\n",
              "      <td>0.2146</td>\n",
              "      <td>1</td>\n",
              "      <td>0.3072</td>\n",
              "      <td>0.4596</td>\n",
              "      <td>0.2640</td>\n",
              "      <td>45500</td>\n",
              "      <td>24097</td>\n",
              "    </tr>\n",
              "  </tbody>\n",
              "</table>\n",
              "</div>"
            ],
            "text/plain": [
              "                                            CITY  ... GRAD_DEBT_MDN_SUPP\n",
              "INSTNM                                            ...                   \n",
              "University of Alaska Anchorage         Anchorage  ...            19449.5\n",
              "International Academy of Hair Design       Tempe  ...              10556\n",
              "University of Alabama in Huntsville   Huntsville  ...              24097\n",
              "\n",
              "[3 rows x 26 columns]"
            ]
          },
          "metadata": {
            "tags": []
          },
          "execution_count": 19
        }
      ]
    },
    {
      "cell_type": "markdown",
      "metadata": {
        "id": "DW0eRMX3YI8h",
        "colab_type": "text"
      },
      "source": [
        "Step6: Use slice notation with .iloc to select an entire segment of the data:\n"
      ]
    },
    {
      "cell_type": "code",
      "metadata": {
        "id": "CGqyaDqVCTZC",
        "colab_type": "code",
        "outputId": "be4a7799-c577-47c1-fbe7-9c850833fe9e",
        "colab": {
          "base_uri": "https://localhost:8080/",
          "height": 286
        }
      },
      "source": [
        "college.iloc[99:102]"
      ],
      "execution_count": 20,
      "outputs": [
        {
          "output_type": "execute_result",
          "data": {
            "text/html": [
              "<div>\n",
              "<style scoped>\n",
              "    .dataframe tbody tr th:only-of-type {\n",
              "        vertical-align: middle;\n",
              "    }\n",
              "\n",
              "    .dataframe tbody tr th {\n",
              "        vertical-align: top;\n",
              "    }\n",
              "\n",
              "    .dataframe thead th {\n",
              "        text-align: right;\n",
              "    }\n",
              "</style>\n",
              "<table border=\"1\" class=\"dataframe\">\n",
              "  <thead>\n",
              "    <tr style=\"text-align: right;\">\n",
              "      <th></th>\n",
              "      <th>CITY</th>\n",
              "      <th>STABBR</th>\n",
              "      <th>HBCU</th>\n",
              "      <th>MENONLY</th>\n",
              "      <th>WOMENONLY</th>\n",
              "      <th>RELAFFIL</th>\n",
              "      <th>SATVRMID</th>\n",
              "      <th>SATMTMID</th>\n",
              "      <th>DISTANCEONLY</th>\n",
              "      <th>UGDS</th>\n",
              "      <th>UGDS_WHITE</th>\n",
              "      <th>UGDS_BLACK</th>\n",
              "      <th>UGDS_HISP</th>\n",
              "      <th>UGDS_ASIAN</th>\n",
              "      <th>UGDS_AIAN</th>\n",
              "      <th>UGDS_NHPI</th>\n",
              "      <th>UGDS_2MOR</th>\n",
              "      <th>UGDS_NRA</th>\n",
              "      <th>UGDS_UNKN</th>\n",
              "      <th>PPTUG_EF</th>\n",
              "      <th>CURROPER</th>\n",
              "      <th>PCTPELL</th>\n",
              "      <th>PCTFLOAN</th>\n",
              "      <th>UG25ABV</th>\n",
              "      <th>MD_EARN_WNE_P10</th>\n",
              "      <th>GRAD_DEBT_MDN_SUPP</th>\n",
              "    </tr>\n",
              "    <tr>\n",
              "      <th>INSTNM</th>\n",
              "      <th></th>\n",
              "      <th></th>\n",
              "      <th></th>\n",
              "      <th></th>\n",
              "      <th></th>\n",
              "      <th></th>\n",
              "      <th></th>\n",
              "      <th></th>\n",
              "      <th></th>\n",
              "      <th></th>\n",
              "      <th></th>\n",
              "      <th></th>\n",
              "      <th></th>\n",
              "      <th></th>\n",
              "      <th></th>\n",
              "      <th></th>\n",
              "      <th></th>\n",
              "      <th></th>\n",
              "      <th></th>\n",
              "      <th></th>\n",
              "      <th></th>\n",
              "      <th></th>\n",
              "      <th></th>\n",
              "      <th></th>\n",
              "      <th></th>\n",
              "      <th></th>\n",
              "    </tr>\n",
              "  </thead>\n",
              "  <tbody>\n",
              "    <tr>\n",
              "      <th>International Academy of Hair Design</th>\n",
              "      <td>Tempe</td>\n",
              "      <td>AZ</td>\n",
              "      <td>0.0</td>\n",
              "      <td>0.0</td>\n",
              "      <td>0.0</td>\n",
              "      <td>0</td>\n",
              "      <td>NaN</td>\n",
              "      <td>NaN</td>\n",
              "      <td>0.0</td>\n",
              "      <td>188.0</td>\n",
              "      <td>0.2713</td>\n",
              "      <td>0.2500</td>\n",
              "      <td>0.3670</td>\n",
              "      <td>0.0160</td>\n",
              "      <td>0.0160</td>\n",
              "      <td>0.0000</td>\n",
              "      <td>0.0160</td>\n",
              "      <td>0.0000</td>\n",
              "      <td>0.0638</td>\n",
              "      <td>0.0000</td>\n",
              "      <td>0</td>\n",
              "      <td>0.7185</td>\n",
              "      <td>0.7346</td>\n",
              "      <td>0.3905</td>\n",
              "      <td>22200</td>\n",
              "      <td>10556</td>\n",
              "    </tr>\n",
              "    <tr>\n",
              "      <th>GateWay Community College</th>\n",
              "      <td>Phoenix</td>\n",
              "      <td>AZ</td>\n",
              "      <td>0.0</td>\n",
              "      <td>0.0</td>\n",
              "      <td>0.0</td>\n",
              "      <td>0</td>\n",
              "      <td>NaN</td>\n",
              "      <td>NaN</td>\n",
              "      <td>0.0</td>\n",
              "      <td>5211.0</td>\n",
              "      <td>0.3585</td>\n",
              "      <td>0.1201</td>\n",
              "      <td>0.3389</td>\n",
              "      <td>0.0355</td>\n",
              "      <td>0.0451</td>\n",
              "      <td>0.0029</td>\n",
              "      <td>0.0127</td>\n",
              "      <td>0.0161</td>\n",
              "      <td>0.0702</td>\n",
              "      <td>0.7465</td>\n",
              "      <td>1</td>\n",
              "      <td>0.3270</td>\n",
              "      <td>0.2189</td>\n",
              "      <td>0.5832</td>\n",
              "      <td>29800</td>\n",
              "      <td>7283</td>\n",
              "    </tr>\n",
              "    <tr>\n",
              "      <th>Mesa Community College</th>\n",
              "      <td>Mesa</td>\n",
              "      <td>AZ</td>\n",
              "      <td>0.0</td>\n",
              "      <td>0.0</td>\n",
              "      <td>0.0</td>\n",
              "      <td>0</td>\n",
              "      <td>NaN</td>\n",
              "      <td>NaN</td>\n",
              "      <td>0.0</td>\n",
              "      <td>19055.0</td>\n",
              "      <td>0.5002</td>\n",
              "      <td>0.0661</td>\n",
              "      <td>0.2354</td>\n",
              "      <td>0.0390</td>\n",
              "      <td>0.0403</td>\n",
              "      <td>0.0046</td>\n",
              "      <td>0.0205</td>\n",
              "      <td>0.0257</td>\n",
              "      <td>0.0682</td>\n",
              "      <td>0.6457</td>\n",
              "      <td>1</td>\n",
              "      <td>0.3423</td>\n",
              "      <td>0.2207</td>\n",
              "      <td>0.4010</td>\n",
              "      <td>35200</td>\n",
              "      <td>8000</td>\n",
              "    </tr>\n",
              "  </tbody>\n",
              "</table>\n",
              "</div>"
            ],
            "text/plain": [
              "                                         CITY  ... GRAD_DEBT_MDN_SUPP\n",
              "INSTNM                                         ...                   \n",
              "International Academy of Hair Design    Tempe  ...              10556\n",
              "GateWay Community College             Phoenix  ...               7283\n",
              "Mesa Community College                   Mesa  ...               8000\n",
              "\n",
              "[3 rows x 26 columns]"
            ]
          },
          "metadata": {
            "tags": []
          },
          "execution_count": 20
        }
      ]
    },
    {
      "cell_type": "markdown",
      "metadata": {
        "id": "yxzGi20EYV3u",
        "colab_type": "text"
      },
      "source": [
        "Step7: Slice notation also works with the .loc indexer and is inclusive of the last label:\n"
      ]
    },
    {
      "cell_type": "code",
      "metadata": {
        "id": "8R9H8o5KCTZF",
        "colab_type": "code",
        "outputId": "fbb0339e-13e3-41e9-f3d0-3b82d2b78bd1",
        "colab": {
          "base_uri": "https://localhost:8080/",
          "height": 286
        }
      },
      "source": [
        "start = 'International Academy of Hair Design'\n",
        "stop = 'Mesa Community College'\n",
        "college.loc[start:stop]"
      ],
      "execution_count": 21,
      "outputs": [
        {
          "output_type": "execute_result",
          "data": {
            "text/html": [
              "<div>\n",
              "<style scoped>\n",
              "    .dataframe tbody tr th:only-of-type {\n",
              "        vertical-align: middle;\n",
              "    }\n",
              "\n",
              "    .dataframe tbody tr th {\n",
              "        vertical-align: top;\n",
              "    }\n",
              "\n",
              "    .dataframe thead th {\n",
              "        text-align: right;\n",
              "    }\n",
              "</style>\n",
              "<table border=\"1\" class=\"dataframe\">\n",
              "  <thead>\n",
              "    <tr style=\"text-align: right;\">\n",
              "      <th></th>\n",
              "      <th>CITY</th>\n",
              "      <th>STABBR</th>\n",
              "      <th>HBCU</th>\n",
              "      <th>MENONLY</th>\n",
              "      <th>WOMENONLY</th>\n",
              "      <th>RELAFFIL</th>\n",
              "      <th>SATVRMID</th>\n",
              "      <th>SATMTMID</th>\n",
              "      <th>DISTANCEONLY</th>\n",
              "      <th>UGDS</th>\n",
              "      <th>UGDS_WHITE</th>\n",
              "      <th>UGDS_BLACK</th>\n",
              "      <th>UGDS_HISP</th>\n",
              "      <th>UGDS_ASIAN</th>\n",
              "      <th>UGDS_AIAN</th>\n",
              "      <th>UGDS_NHPI</th>\n",
              "      <th>UGDS_2MOR</th>\n",
              "      <th>UGDS_NRA</th>\n",
              "      <th>UGDS_UNKN</th>\n",
              "      <th>PPTUG_EF</th>\n",
              "      <th>CURROPER</th>\n",
              "      <th>PCTPELL</th>\n",
              "      <th>PCTFLOAN</th>\n",
              "      <th>UG25ABV</th>\n",
              "      <th>MD_EARN_WNE_P10</th>\n",
              "      <th>GRAD_DEBT_MDN_SUPP</th>\n",
              "    </tr>\n",
              "    <tr>\n",
              "      <th>INSTNM</th>\n",
              "      <th></th>\n",
              "      <th></th>\n",
              "      <th></th>\n",
              "      <th></th>\n",
              "      <th></th>\n",
              "      <th></th>\n",
              "      <th></th>\n",
              "      <th></th>\n",
              "      <th></th>\n",
              "      <th></th>\n",
              "      <th></th>\n",
              "      <th></th>\n",
              "      <th></th>\n",
              "      <th></th>\n",
              "      <th></th>\n",
              "      <th></th>\n",
              "      <th></th>\n",
              "      <th></th>\n",
              "      <th></th>\n",
              "      <th></th>\n",
              "      <th></th>\n",
              "      <th></th>\n",
              "      <th></th>\n",
              "      <th></th>\n",
              "      <th></th>\n",
              "      <th></th>\n",
              "    </tr>\n",
              "  </thead>\n",
              "  <tbody>\n",
              "    <tr>\n",
              "      <th>International Academy of Hair Design</th>\n",
              "      <td>Tempe</td>\n",
              "      <td>AZ</td>\n",
              "      <td>0.0</td>\n",
              "      <td>0.0</td>\n",
              "      <td>0.0</td>\n",
              "      <td>0</td>\n",
              "      <td>NaN</td>\n",
              "      <td>NaN</td>\n",
              "      <td>0.0</td>\n",
              "      <td>188.0</td>\n",
              "      <td>0.2713</td>\n",
              "      <td>0.2500</td>\n",
              "      <td>0.3670</td>\n",
              "      <td>0.0160</td>\n",
              "      <td>0.0160</td>\n",
              "      <td>0.0000</td>\n",
              "      <td>0.0160</td>\n",
              "      <td>0.0000</td>\n",
              "      <td>0.0638</td>\n",
              "      <td>0.0000</td>\n",
              "      <td>0</td>\n",
              "      <td>0.7185</td>\n",
              "      <td>0.7346</td>\n",
              "      <td>0.3905</td>\n",
              "      <td>22200</td>\n",
              "      <td>10556</td>\n",
              "    </tr>\n",
              "    <tr>\n",
              "      <th>GateWay Community College</th>\n",
              "      <td>Phoenix</td>\n",
              "      <td>AZ</td>\n",
              "      <td>0.0</td>\n",
              "      <td>0.0</td>\n",
              "      <td>0.0</td>\n",
              "      <td>0</td>\n",
              "      <td>NaN</td>\n",
              "      <td>NaN</td>\n",
              "      <td>0.0</td>\n",
              "      <td>5211.0</td>\n",
              "      <td>0.3585</td>\n",
              "      <td>0.1201</td>\n",
              "      <td>0.3389</td>\n",
              "      <td>0.0355</td>\n",
              "      <td>0.0451</td>\n",
              "      <td>0.0029</td>\n",
              "      <td>0.0127</td>\n",
              "      <td>0.0161</td>\n",
              "      <td>0.0702</td>\n",
              "      <td>0.7465</td>\n",
              "      <td>1</td>\n",
              "      <td>0.3270</td>\n",
              "      <td>0.2189</td>\n",
              "      <td>0.5832</td>\n",
              "      <td>29800</td>\n",
              "      <td>7283</td>\n",
              "    </tr>\n",
              "    <tr>\n",
              "      <th>Mesa Community College</th>\n",
              "      <td>Mesa</td>\n",
              "      <td>AZ</td>\n",
              "      <td>0.0</td>\n",
              "      <td>0.0</td>\n",
              "      <td>0.0</td>\n",
              "      <td>0</td>\n",
              "      <td>NaN</td>\n",
              "      <td>NaN</td>\n",
              "      <td>0.0</td>\n",
              "      <td>19055.0</td>\n",
              "      <td>0.5002</td>\n",
              "      <td>0.0661</td>\n",
              "      <td>0.2354</td>\n",
              "      <td>0.0390</td>\n",
              "      <td>0.0403</td>\n",
              "      <td>0.0046</td>\n",
              "      <td>0.0205</td>\n",
              "      <td>0.0257</td>\n",
              "      <td>0.0682</td>\n",
              "      <td>0.6457</td>\n",
              "      <td>1</td>\n",
              "      <td>0.3423</td>\n",
              "      <td>0.2207</td>\n",
              "      <td>0.4010</td>\n",
              "      <td>35200</td>\n",
              "      <td>8000</td>\n",
              "    </tr>\n",
              "  </tbody>\n",
              "</table>\n",
              "</div>"
            ],
            "text/plain": [
              "                                         CITY  ... GRAD_DEBT_MDN_SUPP\n",
              "INSTNM                                         ...                   \n",
              "International Academy of Hair Design    Tempe  ...              10556\n",
              "GateWay Community College             Phoenix  ...               7283\n",
              "Mesa Community College                   Mesa  ...               8000\n",
              "\n",
              "[3 rows x 26 columns]"
            ]
          },
          "metadata": {
            "tags": []
          },
          "execution_count": 21
        }
      ]
    },
    {
      "cell_type": "markdown",
      "metadata": {
        "id": "ShgeCHoXYrPx",
        "colab_type": "text"
      },
      "source": [
        "##How it works...\n",
        "Passing a scalar value, a list of scalars, or a slice object to the .iloc or .loc indexers causes pandas to scan the index labels for the appropriate rows and return them. If a single scalar value is passed, a Series is returned. If a list or slice object is passed, then a DataFrame is returned."
      ]
    },
    {
      "cell_type": "markdown",
      "metadata": {
        "id": "cpGFWTSLCTZI",
        "colab_type": "text"
      },
      "source": [
        "# There's more..."
      ]
    },
    {
      "cell_type": "markdown",
      "metadata": {
        "id": "sFQOuDwYZCEu",
        "colab_type": "text"
      },
      "source": [
        "In step 5, the list of index labels can be selected directly from the DataFrame returned in step 4 without the need for copying and pasting:"
      ]
    },
    {
      "cell_type": "code",
      "metadata": {
        "id": "KDPZmwaWCTZI",
        "colab_type": "code",
        "outputId": "424a7961-e500-47b4-e3a9-654f0d5c6506",
        "colab": {
          "base_uri": "https://localhost:8080/",
          "height": 67
        }
      },
      "source": [
        "college.iloc[[60, 99, 3]].index.tolist()"
      ],
      "execution_count": 22,
      "outputs": [
        {
          "output_type": "execute_result",
          "data": {
            "text/plain": [
              "['University of Alaska Anchorage',\n",
              " 'International Academy of Hair Design',\n",
              " 'University of Alabama in Huntsville']"
            ]
          },
          "metadata": {
            "tags": []
          },
          "execution_count": 22
        }
      ]
    },
    {
      "cell_type": "markdown",
      "metadata": {
        "id": "OgWO6PfTCTZL",
        "colab_type": "text"
      },
      "source": [
        "# Selecting DataFrame rows and columns simultaneously"
      ]
    },
    {
      "cell_type": "markdown",
      "metadata": {
        "id": "6BO-p4raeoXi",
        "colab_type": "text"
      },
      "source": [
        "Directly using the indexing operator is the correct method to select one or more columns from a DataFrame. However, it does not allow you to select both rows and columns simultaneously. To select rows and columns simultaneously, you will need to pass both valid row and column selections separated by a comma to either the .iloc or .loc indexers."
      ]
    },
    {
      "cell_type": "markdown",
      "metadata": {
        "id": "X-FGF5UNe7rs",
        "colab_type": "text"
      },
      "source": [
        "The rows and columns variables may be scalar values, lists, slice objects, or boolean sequences.\n",
        "\n",
        "In this recipe, each step shows a simultaneous row and column selection using .iloc and its exact replication using .loc."
      ]
    },
    {
      "cell_type": "markdown",
      "metadata": {
        "id": "SxBevIqjfQr1",
        "colab_type": "text"
      },
      "source": [
        "Step1: Read in the college dataset, and set the index as the institution name. Select the first three rows and the first four columns with slice notation:"
      ]
    },
    {
      "cell_type": "code",
      "metadata": {
        "id": "alPUkEBpCTZM",
        "colab_type": "code",
        "outputId": "f6571721-868c-4f0f-ce4b-631850eca9a7",
        "colab": {
          "base_uri": "https://localhost:8080/",
          "height": 166
        }
      },
      "source": [
        "college = pd.read_csv('https://raw.githubusercontent.com/Blackman9t/PandasCookbook/master/college.csv', index_col='INSTNM')\n",
        "college.iloc[:3, :4]"
      ],
      "execution_count": 23,
      "outputs": [
        {
          "output_type": "execute_result",
          "data": {
            "text/html": [
              "<div>\n",
              "<style scoped>\n",
              "    .dataframe tbody tr th:only-of-type {\n",
              "        vertical-align: middle;\n",
              "    }\n",
              "\n",
              "    .dataframe tbody tr th {\n",
              "        vertical-align: top;\n",
              "    }\n",
              "\n",
              "    .dataframe thead th {\n",
              "        text-align: right;\n",
              "    }\n",
              "</style>\n",
              "<table border=\"1\" class=\"dataframe\">\n",
              "  <thead>\n",
              "    <tr style=\"text-align: right;\">\n",
              "      <th></th>\n",
              "      <th>CITY</th>\n",
              "      <th>STABBR</th>\n",
              "      <th>HBCU</th>\n",
              "      <th>MENONLY</th>\n",
              "    </tr>\n",
              "    <tr>\n",
              "      <th>INSTNM</th>\n",
              "      <th></th>\n",
              "      <th></th>\n",
              "      <th></th>\n",
              "      <th></th>\n",
              "    </tr>\n",
              "  </thead>\n",
              "  <tbody>\n",
              "    <tr>\n",
              "      <th>Alabama A &amp; M University</th>\n",
              "      <td>Normal</td>\n",
              "      <td>AL</td>\n",
              "      <td>1.0</td>\n",
              "      <td>0.0</td>\n",
              "    </tr>\n",
              "    <tr>\n",
              "      <th>University of Alabama at Birmingham</th>\n",
              "      <td>Birmingham</td>\n",
              "      <td>AL</td>\n",
              "      <td>0.0</td>\n",
              "      <td>0.0</td>\n",
              "    </tr>\n",
              "    <tr>\n",
              "      <th>Amridge University</th>\n",
              "      <td>Montgomery</td>\n",
              "      <td>AL</td>\n",
              "      <td>0.0</td>\n",
              "      <td>0.0</td>\n",
              "    </tr>\n",
              "  </tbody>\n",
              "</table>\n",
              "</div>"
            ],
            "text/plain": [
              "                                           CITY STABBR  HBCU  MENONLY\n",
              "INSTNM                                                               \n",
              "Alabama A & M University                 Normal     AL   1.0      0.0\n",
              "University of Alabama at Birmingham  Birmingham     AL   0.0      0.0\n",
              "Amridge University                   Montgomery     AL   0.0      0.0"
            ]
          },
          "metadata": {
            "tags": []
          },
          "execution_count": 23
        }
      ]
    },
    {
      "cell_type": "markdown",
      "metadata": {
        "id": "AKV3k3H2fX37",
        "colab_type": "text"
      },
      "source": [
        "Step2: Select all the rows of two different columns:"
      ]
    },
    {
      "cell_type": "code",
      "metadata": {
        "id": "4aFsZdp3CTZQ",
        "colab_type": "code",
        "outputId": "ee6bb33f-07d0-4428-b139-5ab5c0166da7",
        "colab": {
          "base_uri": "https://localhost:8080/",
          "height": 166
        }
      },
      "source": [
        "college.loc[:'Amridge University', :'MENONLY']"
      ],
      "execution_count": 24,
      "outputs": [
        {
          "output_type": "execute_result",
          "data": {
            "text/html": [
              "<div>\n",
              "<style scoped>\n",
              "    .dataframe tbody tr th:only-of-type {\n",
              "        vertical-align: middle;\n",
              "    }\n",
              "\n",
              "    .dataframe tbody tr th {\n",
              "        vertical-align: top;\n",
              "    }\n",
              "\n",
              "    .dataframe thead th {\n",
              "        text-align: right;\n",
              "    }\n",
              "</style>\n",
              "<table border=\"1\" class=\"dataframe\">\n",
              "  <thead>\n",
              "    <tr style=\"text-align: right;\">\n",
              "      <th></th>\n",
              "      <th>CITY</th>\n",
              "      <th>STABBR</th>\n",
              "      <th>HBCU</th>\n",
              "      <th>MENONLY</th>\n",
              "    </tr>\n",
              "    <tr>\n",
              "      <th>INSTNM</th>\n",
              "      <th></th>\n",
              "      <th></th>\n",
              "      <th></th>\n",
              "      <th></th>\n",
              "    </tr>\n",
              "  </thead>\n",
              "  <tbody>\n",
              "    <tr>\n",
              "      <th>Alabama A &amp; M University</th>\n",
              "      <td>Normal</td>\n",
              "      <td>AL</td>\n",
              "      <td>1.0</td>\n",
              "      <td>0.0</td>\n",
              "    </tr>\n",
              "    <tr>\n",
              "      <th>University of Alabama at Birmingham</th>\n",
              "      <td>Birmingham</td>\n",
              "      <td>AL</td>\n",
              "      <td>0.0</td>\n",
              "      <td>0.0</td>\n",
              "    </tr>\n",
              "    <tr>\n",
              "      <th>Amridge University</th>\n",
              "      <td>Montgomery</td>\n",
              "      <td>AL</td>\n",
              "      <td>0.0</td>\n",
              "      <td>0.0</td>\n",
              "    </tr>\n",
              "  </tbody>\n",
              "</table>\n",
              "</div>"
            ],
            "text/plain": [
              "                                           CITY STABBR  HBCU  MENONLY\n",
              "INSTNM                                                               \n",
              "Alabama A & M University                 Normal     AL   1.0      0.0\n",
              "University of Alabama at Birmingham  Birmingham     AL   0.0      0.0\n",
              "Amridge University                   Montgomery     AL   0.0      0.0"
            ]
          },
          "metadata": {
            "tags": []
          },
          "execution_count": 24
        }
      ]
    },
    {
      "cell_type": "markdown",
      "metadata": {
        "id": "EnoN55pMfnqv",
        "colab_type": "text"
      },
      "source": [
        "Step3: Select disjointed rows and columns:\n"
      ]
    },
    {
      "cell_type": "code",
      "metadata": {
        "id": "SFrQ3_M6f0h3",
        "colab_type": "code",
        "colab": {
          "base_uri": "https://localhost:8080/",
          "height": 240
        },
        "outputId": "78f2dc55-c8ea-4e84-b321-9ca7f3b1eaa2"
      },
      "source": [
        "college.head(2)"
      ],
      "execution_count": 25,
      "outputs": [
        {
          "output_type": "execute_result",
          "data": {
            "text/html": [
              "<div>\n",
              "<style scoped>\n",
              "    .dataframe tbody tr th:only-of-type {\n",
              "        vertical-align: middle;\n",
              "    }\n",
              "\n",
              "    .dataframe tbody tr th {\n",
              "        vertical-align: top;\n",
              "    }\n",
              "\n",
              "    .dataframe thead th {\n",
              "        text-align: right;\n",
              "    }\n",
              "</style>\n",
              "<table border=\"1\" class=\"dataframe\">\n",
              "  <thead>\n",
              "    <tr style=\"text-align: right;\">\n",
              "      <th></th>\n",
              "      <th>CITY</th>\n",
              "      <th>STABBR</th>\n",
              "      <th>HBCU</th>\n",
              "      <th>MENONLY</th>\n",
              "      <th>WOMENONLY</th>\n",
              "      <th>RELAFFIL</th>\n",
              "      <th>SATVRMID</th>\n",
              "      <th>SATMTMID</th>\n",
              "      <th>DISTANCEONLY</th>\n",
              "      <th>UGDS</th>\n",
              "      <th>UGDS_WHITE</th>\n",
              "      <th>UGDS_BLACK</th>\n",
              "      <th>UGDS_HISP</th>\n",
              "      <th>UGDS_ASIAN</th>\n",
              "      <th>UGDS_AIAN</th>\n",
              "      <th>UGDS_NHPI</th>\n",
              "      <th>UGDS_2MOR</th>\n",
              "      <th>UGDS_NRA</th>\n",
              "      <th>UGDS_UNKN</th>\n",
              "      <th>PPTUG_EF</th>\n",
              "      <th>CURROPER</th>\n",
              "      <th>PCTPELL</th>\n",
              "      <th>PCTFLOAN</th>\n",
              "      <th>UG25ABV</th>\n",
              "      <th>MD_EARN_WNE_P10</th>\n",
              "      <th>GRAD_DEBT_MDN_SUPP</th>\n",
              "    </tr>\n",
              "    <tr>\n",
              "      <th>INSTNM</th>\n",
              "      <th></th>\n",
              "      <th></th>\n",
              "      <th></th>\n",
              "      <th></th>\n",
              "      <th></th>\n",
              "      <th></th>\n",
              "      <th></th>\n",
              "      <th></th>\n",
              "      <th></th>\n",
              "      <th></th>\n",
              "      <th></th>\n",
              "      <th></th>\n",
              "      <th></th>\n",
              "      <th></th>\n",
              "      <th></th>\n",
              "      <th></th>\n",
              "      <th></th>\n",
              "      <th></th>\n",
              "      <th></th>\n",
              "      <th></th>\n",
              "      <th></th>\n",
              "      <th></th>\n",
              "      <th></th>\n",
              "      <th></th>\n",
              "      <th></th>\n",
              "      <th></th>\n",
              "    </tr>\n",
              "  </thead>\n",
              "  <tbody>\n",
              "    <tr>\n",
              "      <th>Alabama A &amp; M University</th>\n",
              "      <td>Normal</td>\n",
              "      <td>AL</td>\n",
              "      <td>1.0</td>\n",
              "      <td>0.0</td>\n",
              "      <td>0.0</td>\n",
              "      <td>0</td>\n",
              "      <td>424.0</td>\n",
              "      <td>420.0</td>\n",
              "      <td>0.0</td>\n",
              "      <td>4206.0</td>\n",
              "      <td>0.0333</td>\n",
              "      <td>0.9353</td>\n",
              "      <td>0.0055</td>\n",
              "      <td>0.0019</td>\n",
              "      <td>0.0024</td>\n",
              "      <td>0.0019</td>\n",
              "      <td>0.0000</td>\n",
              "      <td>0.0059</td>\n",
              "      <td>0.0138</td>\n",
              "      <td>0.0656</td>\n",
              "      <td>1</td>\n",
              "      <td>0.7356</td>\n",
              "      <td>0.8284</td>\n",
              "      <td>0.1049</td>\n",
              "      <td>30300</td>\n",
              "      <td>33888</td>\n",
              "    </tr>\n",
              "    <tr>\n",
              "      <th>University of Alabama at Birmingham</th>\n",
              "      <td>Birmingham</td>\n",
              "      <td>AL</td>\n",
              "      <td>0.0</td>\n",
              "      <td>0.0</td>\n",
              "      <td>0.0</td>\n",
              "      <td>0</td>\n",
              "      <td>570.0</td>\n",
              "      <td>565.0</td>\n",
              "      <td>0.0</td>\n",
              "      <td>11383.0</td>\n",
              "      <td>0.5922</td>\n",
              "      <td>0.2600</td>\n",
              "      <td>0.0283</td>\n",
              "      <td>0.0518</td>\n",
              "      <td>0.0022</td>\n",
              "      <td>0.0007</td>\n",
              "      <td>0.0368</td>\n",
              "      <td>0.0179</td>\n",
              "      <td>0.0100</td>\n",
              "      <td>0.2607</td>\n",
              "      <td>1</td>\n",
              "      <td>0.3460</td>\n",
              "      <td>0.5214</td>\n",
              "      <td>0.2422</td>\n",
              "      <td>39700</td>\n",
              "      <td>21941.5</td>\n",
              "    </tr>\n",
              "  </tbody>\n",
              "</table>\n",
              "</div>"
            ],
            "text/plain": [
              "                                           CITY  ... GRAD_DEBT_MDN_SUPP\n",
              "INSTNM                                           ...                   \n",
              "Alabama A & M University                 Normal  ...              33888\n",
              "University of Alabama at Birmingham  Birmingham  ...            21941.5\n",
              "\n",
              "[2 rows x 26 columns]"
            ]
          },
          "metadata": {
            "tags": []
          },
          "execution_count": 25
        }
      ]
    },
    {
      "cell_type": "code",
      "metadata": {
        "id": "ygZC0JSLCTZU",
        "colab_type": "code",
        "outputId": "15a1f4fb-3cca-477e-a2f4-a02360b40429",
        "colab": {
          "base_uri": "https://localhost:8080/",
          "height": 225
        }
      },
      "source": [
        "college.iloc[:, [4,6]].head()"
      ],
      "execution_count": 26,
      "outputs": [
        {
          "output_type": "execute_result",
          "data": {
            "text/html": [
              "<div>\n",
              "<style scoped>\n",
              "    .dataframe tbody tr th:only-of-type {\n",
              "        vertical-align: middle;\n",
              "    }\n",
              "\n",
              "    .dataframe tbody tr th {\n",
              "        vertical-align: top;\n",
              "    }\n",
              "\n",
              "    .dataframe thead th {\n",
              "        text-align: right;\n",
              "    }\n",
              "</style>\n",
              "<table border=\"1\" class=\"dataframe\">\n",
              "  <thead>\n",
              "    <tr style=\"text-align: right;\">\n",
              "      <th></th>\n",
              "      <th>WOMENONLY</th>\n",
              "      <th>SATVRMID</th>\n",
              "    </tr>\n",
              "    <tr>\n",
              "      <th>INSTNM</th>\n",
              "      <th></th>\n",
              "      <th></th>\n",
              "    </tr>\n",
              "  </thead>\n",
              "  <tbody>\n",
              "    <tr>\n",
              "      <th>Alabama A &amp; M University</th>\n",
              "      <td>0.0</td>\n",
              "      <td>424.0</td>\n",
              "    </tr>\n",
              "    <tr>\n",
              "      <th>University of Alabama at Birmingham</th>\n",
              "      <td>0.0</td>\n",
              "      <td>570.0</td>\n",
              "    </tr>\n",
              "    <tr>\n",
              "      <th>Amridge University</th>\n",
              "      <td>0.0</td>\n",
              "      <td>NaN</td>\n",
              "    </tr>\n",
              "    <tr>\n",
              "      <th>University of Alabama in Huntsville</th>\n",
              "      <td>0.0</td>\n",
              "      <td>595.0</td>\n",
              "    </tr>\n",
              "    <tr>\n",
              "      <th>Alabama State University</th>\n",
              "      <td>0.0</td>\n",
              "      <td>425.0</td>\n",
              "    </tr>\n",
              "  </tbody>\n",
              "</table>\n",
              "</div>"
            ],
            "text/plain": [
              "                                     WOMENONLY  SATVRMID\n",
              "INSTNM                                                  \n",
              "Alabama A & M University                   0.0     424.0\n",
              "University of Alabama at Birmingham        0.0     570.0\n",
              "Amridge University                         0.0       NaN\n",
              "University of Alabama in Huntsville        0.0     595.0\n",
              "Alabama State University                   0.0     425.0"
            ]
          },
          "metadata": {
            "tags": []
          },
          "execution_count": 26
        }
      ]
    },
    {
      "cell_type": "code",
      "metadata": {
        "id": "bG_NFQxyCTZY",
        "colab_type": "code",
        "outputId": "41953ad5-6538-485c-87e6-ca4b20016a4f",
        "colab": {
          "base_uri": "https://localhost:8080/",
          "height": 313
        }
      },
      "source": [
        "college.loc[:, ['WOMENONLY', 'SATVRMID']]"
      ],
      "execution_count": 27,
      "outputs": [
        {
          "output_type": "execute_result",
          "data": {
            "text/html": [
              "<div>\n",
              "<style scoped>\n",
              "    .dataframe tbody tr th:only-of-type {\n",
              "        vertical-align: middle;\n",
              "    }\n",
              "\n",
              "    .dataframe tbody tr th {\n",
              "        vertical-align: top;\n",
              "    }\n",
              "\n",
              "    .dataframe thead th {\n",
              "        text-align: right;\n",
              "    }\n",
              "</style>\n",
              "<table border=\"1\" class=\"dataframe\">\n",
              "  <thead>\n",
              "    <tr style=\"text-align: right;\">\n",
              "      <th></th>\n",
              "      <th>WOMENONLY</th>\n",
              "      <th>SATVRMID</th>\n",
              "    </tr>\n",
              "    <tr>\n",
              "      <th>INSTNM</th>\n",
              "      <th></th>\n",
              "      <th></th>\n",
              "    </tr>\n",
              "  </thead>\n",
              "  <tbody>\n",
              "    <tr>\n",
              "      <th>Alabama A &amp; M University</th>\n",
              "      <td>0.0</td>\n",
              "      <td>424.0</td>\n",
              "    </tr>\n",
              "    <tr>\n",
              "      <th>University of Alabama at Birmingham</th>\n",
              "      <td>0.0</td>\n",
              "      <td>570.0</td>\n",
              "    </tr>\n",
              "    <tr>\n",
              "      <th>Amridge University</th>\n",
              "      <td>0.0</td>\n",
              "      <td>NaN</td>\n",
              "    </tr>\n",
              "    <tr>\n",
              "      <th>...</th>\n",
              "      <td>...</td>\n",
              "      <td>...</td>\n",
              "    </tr>\n",
              "    <tr>\n",
              "      <th>National Personal Training Institute of Cleveland</th>\n",
              "      <td>NaN</td>\n",
              "      <td>NaN</td>\n",
              "    </tr>\n",
              "    <tr>\n",
              "      <th>Bay Area Medical Academy - San Jose Satellite Location</th>\n",
              "      <td>NaN</td>\n",
              "      <td>NaN</td>\n",
              "    </tr>\n",
              "    <tr>\n",
              "      <th>Excel Learning Center-San Antonio South</th>\n",
              "      <td>NaN</td>\n",
              "      <td>NaN</td>\n",
              "    </tr>\n",
              "  </tbody>\n",
              "</table>\n",
              "<p>7535 rows × 2 columns</p>\n",
              "</div>"
            ],
            "text/plain": [
              "                                                    WOMENONLY  SATVRMID\n",
              "INSTNM                                                                 \n",
              "Alabama A & M University                                  0.0     424.0\n",
              "University of Alabama at Birmingham                       0.0     570.0\n",
              "Amridge University                                        0.0       NaN\n",
              "...                                                       ...       ...\n",
              "National Personal Training Institute of Cleveland         NaN       NaN\n",
              "Bay Area Medical Academy - San Jose Satellite L...        NaN       NaN\n",
              "Excel Learning Center-San Antonio South                   NaN       NaN\n",
              "\n",
              "[7535 rows x 2 columns]"
            ]
          },
          "metadata": {
            "tags": []
          },
          "execution_count": 27
        }
      ]
    },
    {
      "cell_type": "markdown",
      "metadata": {
        "id": "XbxIL41LgsQD",
        "colab_type": "text"
      },
      "source": [
        "Selecting columns 7 and 15 for only rows 100 and 200 from the college data set using .iloc"
      ]
    },
    {
      "cell_type": "code",
      "metadata": {
        "id": "uv7m_jyVCTZa",
        "colab_type": "code",
        "outputId": "0f9ebc5f-47ca-4e2b-f116-9484ded66b0a",
        "colab": {
          "base_uri": "https://localhost:8080/",
          "height": 136
        }
      },
      "source": [
        "college.iloc[[100, 200], [7, 15]]"
      ],
      "execution_count": 28,
      "outputs": [
        {
          "output_type": "execute_result",
          "data": {
            "text/html": [
              "<div>\n",
              "<style scoped>\n",
              "    .dataframe tbody tr th:only-of-type {\n",
              "        vertical-align: middle;\n",
              "    }\n",
              "\n",
              "    .dataframe tbody tr th {\n",
              "        vertical-align: top;\n",
              "    }\n",
              "\n",
              "    .dataframe thead th {\n",
              "        text-align: right;\n",
              "    }\n",
              "</style>\n",
              "<table border=\"1\" class=\"dataframe\">\n",
              "  <thead>\n",
              "    <tr style=\"text-align: right;\">\n",
              "      <th></th>\n",
              "      <th>SATMTMID</th>\n",
              "      <th>UGDS_NHPI</th>\n",
              "    </tr>\n",
              "    <tr>\n",
              "      <th>INSTNM</th>\n",
              "      <th></th>\n",
              "      <th></th>\n",
              "    </tr>\n",
              "  </thead>\n",
              "  <tbody>\n",
              "    <tr>\n",
              "      <th>GateWay Community College</th>\n",
              "      <td>NaN</td>\n",
              "      <td>0.0029</td>\n",
              "    </tr>\n",
              "    <tr>\n",
              "      <th>American Baptist Seminary of the West</th>\n",
              "      <td>NaN</td>\n",
              "      <td>NaN</td>\n",
              "    </tr>\n",
              "  </tbody>\n",
              "</table>\n",
              "</div>"
            ],
            "text/plain": [
              "                                       SATMTMID  UGDS_NHPI\n",
              "INSTNM                                                    \n",
              "GateWay Community College                   NaN     0.0029\n",
              "American Baptist Seminary of the West       NaN        NaN"
            ]
          },
          "metadata": {
            "tags": []
          },
          "execution_count": 28
        }
      ]
    },
    {
      "cell_type": "markdown",
      "metadata": {
        "id": "NJeeGVgDhJh5",
        "colab_type": "text"
      },
      "source": [
        "Selecting columns 7 and 15 for only rows 100 and 200 using the label names,  from the college data set using .loc"
      ]
    },
    {
      "cell_type": "code",
      "metadata": {
        "id": "EvsGz7e2CTZf",
        "colab_type": "code",
        "outputId": "b8cdfe1e-41cb-47b1-8d81-4a516cee80be",
        "colab": {
          "base_uri": "https://localhost:8080/",
          "height": 136
        }
      },
      "source": [
        "rows = ['GateWay Community College', 'American Baptist Seminary of the West']\n",
        "columns = ['SATMTMID', 'UGDS_NHPI']\n",
        "college.loc[rows, columns]"
      ],
      "execution_count": 29,
      "outputs": [
        {
          "output_type": "execute_result",
          "data": {
            "text/html": [
              "<div>\n",
              "<style scoped>\n",
              "    .dataframe tbody tr th:only-of-type {\n",
              "        vertical-align: middle;\n",
              "    }\n",
              "\n",
              "    .dataframe tbody tr th {\n",
              "        vertical-align: top;\n",
              "    }\n",
              "\n",
              "    .dataframe thead th {\n",
              "        text-align: right;\n",
              "    }\n",
              "</style>\n",
              "<table border=\"1\" class=\"dataframe\">\n",
              "  <thead>\n",
              "    <tr style=\"text-align: right;\">\n",
              "      <th></th>\n",
              "      <th>SATMTMID</th>\n",
              "      <th>UGDS_NHPI</th>\n",
              "    </tr>\n",
              "    <tr>\n",
              "      <th>INSTNM</th>\n",
              "      <th></th>\n",
              "      <th></th>\n",
              "    </tr>\n",
              "  </thead>\n",
              "  <tbody>\n",
              "    <tr>\n",
              "      <th>GateWay Community College</th>\n",
              "      <td>NaN</td>\n",
              "      <td>0.0029</td>\n",
              "    </tr>\n",
              "    <tr>\n",
              "      <th>American Baptist Seminary of the West</th>\n",
              "      <td>NaN</td>\n",
              "      <td>NaN</td>\n",
              "    </tr>\n",
              "  </tbody>\n",
              "</table>\n",
              "</div>"
            ],
            "text/plain": [
              "                                       SATMTMID  UGDS_NHPI\n",
              "INSTNM                                                    \n",
              "GateWay Community College                   NaN     0.0029\n",
              "American Baptist Seminary of the West       NaN        NaN"
            ]
          },
          "metadata": {
            "tags": []
          },
          "execution_count": 29
        }
      ]
    },
    {
      "cell_type": "markdown",
      "metadata": {
        "id": "LAGjn56PgYgf",
        "colab_type": "text"
      },
      "source": [
        "Step4: Select a single scalar value:"
      ]
    },
    {
      "cell_type": "code",
      "metadata": {
        "id": "0gu2Asw_CTZn",
        "colab_type": "code",
        "outputId": "91e28c21-2e14-4b6e-e157-d56fd9b81c20",
        "colab": {
          "base_uri": "https://localhost:8080/",
          "height": 34
        }
      },
      "source": [
        "college.iloc[5, -4]"
      ],
      "execution_count": 30,
      "outputs": [
        {
          "output_type": "execute_result",
          "data": {
            "text/plain": [
              "0.401"
            ]
          },
          "metadata": {
            "tags": []
          },
          "execution_count": 30
        }
      ]
    },
    {
      "cell_type": "code",
      "metadata": {
        "id": "hH8V4qaSCTZ1",
        "colab_type": "code",
        "outputId": "6673b054-0587-49cd-f903-ac96d6447671",
        "colab": {
          "base_uri": "https://localhost:8080/",
          "height": 34
        }
      },
      "source": [
        "college.loc['The University of Alabama', 'PCTFLOAN']"
      ],
      "execution_count": 31,
      "outputs": [
        {
          "output_type": "execute_result",
          "data": {
            "text/plain": [
              "0.401"
            ]
          },
          "metadata": {
            "tags": []
          },
          "execution_count": 31
        }
      ]
    },
    {
      "cell_type": "markdown",
      "metadata": {
        "id": "R5678oVKhriV",
        "colab_type": "text"
      },
      "source": [
        "Step5: Slice the rows and select a single column:"
      ]
    },
    {
      "cell_type": "code",
      "metadata": {
        "id": "nsP3gGHSCTZ7",
        "colab_type": "code",
        "outputId": "47604780-d22c-4277-e123-e1f4cfb3ddb0",
        "colab": {
          "base_uri": "https://localhost:8080/",
          "height": 134
        }
      },
      "source": [
        "college.iloc[90:80:-2, 5]"
      ],
      "execution_count": 32,
      "outputs": [
        {
          "output_type": "execute_result",
          "data": {
            "text/plain": [
              "INSTNM\n",
              "Empire Beauty School-Flagstaff     0\n",
              "Charles of Italy Beauty College    0\n",
              "Central Arizona College            0\n",
              "University of Arizona              0\n",
              "Arizona State University-Tempe     0\n",
              "Name: RELAFFIL, dtype: int64"
            ]
          },
          "metadata": {
            "tags": []
          },
          "execution_count": 32
        }
      ]
    },
    {
      "cell_type": "code",
      "metadata": {
        "id": "OcnbGS_7CTZ-",
        "colab_type": "code",
        "outputId": "57a7cd8e-fff9-460d-a32a-07d6a7c0020d",
        "colab": {
          "base_uri": "https://localhost:8080/",
          "height": 134
        }
      },
      "source": [
        "start = 'Empire Beauty School-Flagstaff'\n",
        "stop = 'Arizona State University-Tempe'\n",
        "college.loc[start:stop:-2, 'RELAFFIL']"
      ],
      "execution_count": 33,
      "outputs": [
        {
          "output_type": "execute_result",
          "data": {
            "text/plain": [
              "INSTNM\n",
              "Empire Beauty School-Flagstaff     0\n",
              "Charles of Italy Beauty College    0\n",
              "Central Arizona College            0\n",
              "University of Arizona              0\n",
              "Arizona State University-Tempe     0\n",
              "Name: RELAFFIL, dtype: int64"
            ]
          },
          "metadata": {
            "tags": []
          },
          "execution_count": 33
        }
      ]
    },
    {
      "cell_type": "markdown",
      "metadata": {
        "id": "8rDOFGPmiqB1",
        "colab_type": "text"
      },
      "source": [
        "How it works...\n",
        "One of the keys to selecting rows and columns simultaneously is to understand the use of the comma in the brackets. The selection to the left of the comma always selects rows based on the row index. The selection to the right of the comma always selects columns based on the column index.\n",
        "\n",
        "It is not necessary to make a selection for both rows and columns simultaneously. Step 2 shows how to select all the rows and a subset of columns. The colon represents a slice object that simply returns all the values for that dimension."
      ]
    },
    {
      "cell_type": "markdown",
      "metadata": {
        "id": "yX5vsboWjTWP",
        "colab_type": "text"
      },
      "source": [
        "There's more...\n",
        "When selecting a subset of rows, along with all the columns, it is not necessary to use a colon following a comma. The default behavior is to select all the columns if there is no comma present. The previous recipe selected rows in exactly this manner. You can, however, use a colon to represent a slice of all the columns. The following lines of code are equivalent:\n",
        "\n",
        "```\n",
        "college.iloc[:2]\n",
        "college.iloc[:2, :]\n",
        "```"
      ]
    },
    {
      "cell_type": "code",
      "metadata": {
        "id": "KvoyWPg0jjrg",
        "colab_type": "code",
        "outputId": "5838a447-6840-4a6d-aa16-9bc7b4741f9e",
        "colab": {
          "base_uri": "https://localhost:8080/",
          "height": 240
        }
      },
      "source": [
        "college.iloc[:2]"
      ],
      "execution_count": 34,
      "outputs": [
        {
          "output_type": "execute_result",
          "data": {
            "text/html": [
              "<div>\n",
              "<style scoped>\n",
              "    .dataframe tbody tr th:only-of-type {\n",
              "        vertical-align: middle;\n",
              "    }\n",
              "\n",
              "    .dataframe tbody tr th {\n",
              "        vertical-align: top;\n",
              "    }\n",
              "\n",
              "    .dataframe thead th {\n",
              "        text-align: right;\n",
              "    }\n",
              "</style>\n",
              "<table border=\"1\" class=\"dataframe\">\n",
              "  <thead>\n",
              "    <tr style=\"text-align: right;\">\n",
              "      <th></th>\n",
              "      <th>CITY</th>\n",
              "      <th>STABBR</th>\n",
              "      <th>HBCU</th>\n",
              "      <th>MENONLY</th>\n",
              "      <th>WOMENONLY</th>\n",
              "      <th>RELAFFIL</th>\n",
              "      <th>SATVRMID</th>\n",
              "      <th>SATMTMID</th>\n",
              "      <th>DISTANCEONLY</th>\n",
              "      <th>UGDS</th>\n",
              "      <th>UGDS_WHITE</th>\n",
              "      <th>UGDS_BLACK</th>\n",
              "      <th>UGDS_HISP</th>\n",
              "      <th>UGDS_ASIAN</th>\n",
              "      <th>UGDS_AIAN</th>\n",
              "      <th>UGDS_NHPI</th>\n",
              "      <th>UGDS_2MOR</th>\n",
              "      <th>UGDS_NRA</th>\n",
              "      <th>UGDS_UNKN</th>\n",
              "      <th>PPTUG_EF</th>\n",
              "      <th>CURROPER</th>\n",
              "      <th>PCTPELL</th>\n",
              "      <th>PCTFLOAN</th>\n",
              "      <th>UG25ABV</th>\n",
              "      <th>MD_EARN_WNE_P10</th>\n",
              "      <th>GRAD_DEBT_MDN_SUPP</th>\n",
              "    </tr>\n",
              "    <tr>\n",
              "      <th>INSTNM</th>\n",
              "      <th></th>\n",
              "      <th></th>\n",
              "      <th></th>\n",
              "      <th></th>\n",
              "      <th></th>\n",
              "      <th></th>\n",
              "      <th></th>\n",
              "      <th></th>\n",
              "      <th></th>\n",
              "      <th></th>\n",
              "      <th></th>\n",
              "      <th></th>\n",
              "      <th></th>\n",
              "      <th></th>\n",
              "      <th></th>\n",
              "      <th></th>\n",
              "      <th></th>\n",
              "      <th></th>\n",
              "      <th></th>\n",
              "      <th></th>\n",
              "      <th></th>\n",
              "      <th></th>\n",
              "      <th></th>\n",
              "      <th></th>\n",
              "      <th></th>\n",
              "      <th></th>\n",
              "    </tr>\n",
              "  </thead>\n",
              "  <tbody>\n",
              "    <tr>\n",
              "      <th>Alabama A &amp; M University</th>\n",
              "      <td>Normal</td>\n",
              "      <td>AL</td>\n",
              "      <td>1.0</td>\n",
              "      <td>0.0</td>\n",
              "      <td>0.0</td>\n",
              "      <td>0</td>\n",
              "      <td>424.0</td>\n",
              "      <td>420.0</td>\n",
              "      <td>0.0</td>\n",
              "      <td>4206.0</td>\n",
              "      <td>0.0333</td>\n",
              "      <td>0.9353</td>\n",
              "      <td>0.0055</td>\n",
              "      <td>0.0019</td>\n",
              "      <td>0.0024</td>\n",
              "      <td>0.0019</td>\n",
              "      <td>0.0000</td>\n",
              "      <td>0.0059</td>\n",
              "      <td>0.0138</td>\n",
              "      <td>0.0656</td>\n",
              "      <td>1</td>\n",
              "      <td>0.7356</td>\n",
              "      <td>0.8284</td>\n",
              "      <td>0.1049</td>\n",
              "      <td>30300</td>\n",
              "      <td>33888</td>\n",
              "    </tr>\n",
              "    <tr>\n",
              "      <th>University of Alabama at Birmingham</th>\n",
              "      <td>Birmingham</td>\n",
              "      <td>AL</td>\n",
              "      <td>0.0</td>\n",
              "      <td>0.0</td>\n",
              "      <td>0.0</td>\n",
              "      <td>0</td>\n",
              "      <td>570.0</td>\n",
              "      <td>565.0</td>\n",
              "      <td>0.0</td>\n",
              "      <td>11383.0</td>\n",
              "      <td>0.5922</td>\n",
              "      <td>0.2600</td>\n",
              "      <td>0.0283</td>\n",
              "      <td>0.0518</td>\n",
              "      <td>0.0022</td>\n",
              "      <td>0.0007</td>\n",
              "      <td>0.0368</td>\n",
              "      <td>0.0179</td>\n",
              "      <td>0.0100</td>\n",
              "      <td>0.2607</td>\n",
              "      <td>1</td>\n",
              "      <td>0.3460</td>\n",
              "      <td>0.5214</td>\n",
              "      <td>0.2422</td>\n",
              "      <td>39700</td>\n",
              "      <td>21941.5</td>\n",
              "    </tr>\n",
              "  </tbody>\n",
              "</table>\n",
              "</div>"
            ],
            "text/plain": [
              "                                           CITY  ... GRAD_DEBT_MDN_SUPP\n",
              "INSTNM                                           ...                   \n",
              "Alabama A & M University                 Normal  ...              33888\n",
              "University of Alabama at Birmingham  Birmingham  ...            21941.5\n",
              "\n",
              "[2 rows x 26 columns]"
            ]
          },
          "metadata": {
            "tags": []
          },
          "execution_count": 34
        }
      ]
    },
    {
      "cell_type": "code",
      "metadata": {
        "id": "DL5yLrmpjwT2",
        "colab_type": "code",
        "outputId": "4626cae6-3607-45cf-a11e-f94b3ba73a54",
        "colab": {
          "base_uri": "https://localhost:8080/",
          "height": 240
        }
      },
      "source": [
        "college.iloc[:2, :]"
      ],
      "execution_count": 35,
      "outputs": [
        {
          "output_type": "execute_result",
          "data": {
            "text/html": [
              "<div>\n",
              "<style scoped>\n",
              "    .dataframe tbody tr th:only-of-type {\n",
              "        vertical-align: middle;\n",
              "    }\n",
              "\n",
              "    .dataframe tbody tr th {\n",
              "        vertical-align: top;\n",
              "    }\n",
              "\n",
              "    .dataframe thead th {\n",
              "        text-align: right;\n",
              "    }\n",
              "</style>\n",
              "<table border=\"1\" class=\"dataframe\">\n",
              "  <thead>\n",
              "    <tr style=\"text-align: right;\">\n",
              "      <th></th>\n",
              "      <th>CITY</th>\n",
              "      <th>STABBR</th>\n",
              "      <th>HBCU</th>\n",
              "      <th>MENONLY</th>\n",
              "      <th>WOMENONLY</th>\n",
              "      <th>RELAFFIL</th>\n",
              "      <th>SATVRMID</th>\n",
              "      <th>SATMTMID</th>\n",
              "      <th>DISTANCEONLY</th>\n",
              "      <th>UGDS</th>\n",
              "      <th>UGDS_WHITE</th>\n",
              "      <th>UGDS_BLACK</th>\n",
              "      <th>UGDS_HISP</th>\n",
              "      <th>UGDS_ASIAN</th>\n",
              "      <th>UGDS_AIAN</th>\n",
              "      <th>UGDS_NHPI</th>\n",
              "      <th>UGDS_2MOR</th>\n",
              "      <th>UGDS_NRA</th>\n",
              "      <th>UGDS_UNKN</th>\n",
              "      <th>PPTUG_EF</th>\n",
              "      <th>CURROPER</th>\n",
              "      <th>PCTPELL</th>\n",
              "      <th>PCTFLOAN</th>\n",
              "      <th>UG25ABV</th>\n",
              "      <th>MD_EARN_WNE_P10</th>\n",
              "      <th>GRAD_DEBT_MDN_SUPP</th>\n",
              "    </tr>\n",
              "    <tr>\n",
              "      <th>INSTNM</th>\n",
              "      <th></th>\n",
              "      <th></th>\n",
              "      <th></th>\n",
              "      <th></th>\n",
              "      <th></th>\n",
              "      <th></th>\n",
              "      <th></th>\n",
              "      <th></th>\n",
              "      <th></th>\n",
              "      <th></th>\n",
              "      <th></th>\n",
              "      <th></th>\n",
              "      <th></th>\n",
              "      <th></th>\n",
              "      <th></th>\n",
              "      <th></th>\n",
              "      <th></th>\n",
              "      <th></th>\n",
              "      <th></th>\n",
              "      <th></th>\n",
              "      <th></th>\n",
              "      <th></th>\n",
              "      <th></th>\n",
              "      <th></th>\n",
              "      <th></th>\n",
              "      <th></th>\n",
              "    </tr>\n",
              "  </thead>\n",
              "  <tbody>\n",
              "    <tr>\n",
              "      <th>Alabama A &amp; M University</th>\n",
              "      <td>Normal</td>\n",
              "      <td>AL</td>\n",
              "      <td>1.0</td>\n",
              "      <td>0.0</td>\n",
              "      <td>0.0</td>\n",
              "      <td>0</td>\n",
              "      <td>424.0</td>\n",
              "      <td>420.0</td>\n",
              "      <td>0.0</td>\n",
              "      <td>4206.0</td>\n",
              "      <td>0.0333</td>\n",
              "      <td>0.9353</td>\n",
              "      <td>0.0055</td>\n",
              "      <td>0.0019</td>\n",
              "      <td>0.0024</td>\n",
              "      <td>0.0019</td>\n",
              "      <td>0.0000</td>\n",
              "      <td>0.0059</td>\n",
              "      <td>0.0138</td>\n",
              "      <td>0.0656</td>\n",
              "      <td>1</td>\n",
              "      <td>0.7356</td>\n",
              "      <td>0.8284</td>\n",
              "      <td>0.1049</td>\n",
              "      <td>30300</td>\n",
              "      <td>33888</td>\n",
              "    </tr>\n",
              "    <tr>\n",
              "      <th>University of Alabama at Birmingham</th>\n",
              "      <td>Birmingham</td>\n",
              "      <td>AL</td>\n",
              "      <td>0.0</td>\n",
              "      <td>0.0</td>\n",
              "      <td>0.0</td>\n",
              "      <td>0</td>\n",
              "      <td>570.0</td>\n",
              "      <td>565.0</td>\n",
              "      <td>0.0</td>\n",
              "      <td>11383.0</td>\n",
              "      <td>0.5922</td>\n",
              "      <td>0.2600</td>\n",
              "      <td>0.0283</td>\n",
              "      <td>0.0518</td>\n",
              "      <td>0.0022</td>\n",
              "      <td>0.0007</td>\n",
              "      <td>0.0368</td>\n",
              "      <td>0.0179</td>\n",
              "      <td>0.0100</td>\n",
              "      <td>0.2607</td>\n",
              "      <td>1</td>\n",
              "      <td>0.3460</td>\n",
              "      <td>0.5214</td>\n",
              "      <td>0.2422</td>\n",
              "      <td>39700</td>\n",
              "      <td>21941.5</td>\n",
              "    </tr>\n",
              "  </tbody>\n",
              "</table>\n",
              "</div>"
            ],
            "text/plain": [
              "                                           CITY  ... GRAD_DEBT_MDN_SUPP\n",
              "INSTNM                                           ...                   \n",
              "Alabama A & M University                 Normal  ...              33888\n",
              "University of Alabama at Birmingham  Birmingham  ...            21941.5\n",
              "\n",
              "[2 rows x 26 columns]"
            ]
          },
          "metadata": {
            "tags": []
          },
          "execution_count": 35
        }
      ]
    },
    {
      "cell_type": "markdown",
      "metadata": {
        "id": "WDG3f8LZCTaC",
        "colab_type": "text"
      },
      "source": [
        "# Selecting with a combination of integers and labels"
      ]
    },
    {
      "cell_type": "markdown",
      "metadata": {
        "id": "vv1DD5dVvPOl",
        "colab_type": "text"
      },
      "source": [
        "Step1: Read in the college dataset and assign the institution name (INSTNM) as the index:\n"
      ]
    },
    {
      "cell_type": "code",
      "metadata": {
        "id": "QS__r2uiCTaD",
        "colab_type": "code",
        "colab": {
          "base_uri": "https://localhost:8080/",
          "height": 286
        },
        "outputId": "deef4745-4529-4533-d0a6-7ca30a39ccec"
      },
      "source": [
        "college = pd.read_csv('https://raw.githubusercontent.com/Blackman9t/PandasCookbook/master/college.csv', index_col='INSTNM')\n",
        "\n",
        "college.head(3)"
      ],
      "execution_count": 38,
      "outputs": [
        {
          "output_type": "execute_result",
          "data": {
            "text/html": [
              "<div>\n",
              "<style scoped>\n",
              "    .dataframe tbody tr th:only-of-type {\n",
              "        vertical-align: middle;\n",
              "    }\n",
              "\n",
              "    .dataframe tbody tr th {\n",
              "        vertical-align: top;\n",
              "    }\n",
              "\n",
              "    .dataframe thead th {\n",
              "        text-align: right;\n",
              "    }\n",
              "</style>\n",
              "<table border=\"1\" class=\"dataframe\">\n",
              "  <thead>\n",
              "    <tr style=\"text-align: right;\">\n",
              "      <th></th>\n",
              "      <th>CITY</th>\n",
              "      <th>STABBR</th>\n",
              "      <th>HBCU</th>\n",
              "      <th>MENONLY</th>\n",
              "      <th>WOMENONLY</th>\n",
              "      <th>RELAFFIL</th>\n",
              "      <th>SATVRMID</th>\n",
              "      <th>SATMTMID</th>\n",
              "      <th>DISTANCEONLY</th>\n",
              "      <th>UGDS</th>\n",
              "      <th>UGDS_WHITE</th>\n",
              "      <th>UGDS_BLACK</th>\n",
              "      <th>UGDS_HISP</th>\n",
              "      <th>UGDS_ASIAN</th>\n",
              "      <th>UGDS_AIAN</th>\n",
              "      <th>UGDS_NHPI</th>\n",
              "      <th>UGDS_2MOR</th>\n",
              "      <th>UGDS_NRA</th>\n",
              "      <th>UGDS_UNKN</th>\n",
              "      <th>PPTUG_EF</th>\n",
              "      <th>CURROPER</th>\n",
              "      <th>PCTPELL</th>\n",
              "      <th>PCTFLOAN</th>\n",
              "      <th>UG25ABV</th>\n",
              "      <th>MD_EARN_WNE_P10</th>\n",
              "      <th>GRAD_DEBT_MDN_SUPP</th>\n",
              "    </tr>\n",
              "    <tr>\n",
              "      <th>INSTNM</th>\n",
              "      <th></th>\n",
              "      <th></th>\n",
              "      <th></th>\n",
              "      <th></th>\n",
              "      <th></th>\n",
              "      <th></th>\n",
              "      <th></th>\n",
              "      <th></th>\n",
              "      <th></th>\n",
              "      <th></th>\n",
              "      <th></th>\n",
              "      <th></th>\n",
              "      <th></th>\n",
              "      <th></th>\n",
              "      <th></th>\n",
              "      <th></th>\n",
              "      <th></th>\n",
              "      <th></th>\n",
              "      <th></th>\n",
              "      <th></th>\n",
              "      <th></th>\n",
              "      <th></th>\n",
              "      <th></th>\n",
              "      <th></th>\n",
              "      <th></th>\n",
              "      <th></th>\n",
              "    </tr>\n",
              "  </thead>\n",
              "  <tbody>\n",
              "    <tr>\n",
              "      <th>Alabama A &amp; M University</th>\n",
              "      <td>Normal</td>\n",
              "      <td>AL</td>\n",
              "      <td>1.0</td>\n",
              "      <td>0.0</td>\n",
              "      <td>0.0</td>\n",
              "      <td>0</td>\n",
              "      <td>424.0</td>\n",
              "      <td>420.0</td>\n",
              "      <td>0.0</td>\n",
              "      <td>4206.0</td>\n",
              "      <td>0.0333</td>\n",
              "      <td>0.9353</td>\n",
              "      <td>0.0055</td>\n",
              "      <td>0.0019</td>\n",
              "      <td>0.0024</td>\n",
              "      <td>0.0019</td>\n",
              "      <td>0.0000</td>\n",
              "      <td>0.0059</td>\n",
              "      <td>0.0138</td>\n",
              "      <td>0.0656</td>\n",
              "      <td>1</td>\n",
              "      <td>0.7356</td>\n",
              "      <td>0.8284</td>\n",
              "      <td>0.1049</td>\n",
              "      <td>30300</td>\n",
              "      <td>33888</td>\n",
              "    </tr>\n",
              "    <tr>\n",
              "      <th>University of Alabama at Birmingham</th>\n",
              "      <td>Birmingham</td>\n",
              "      <td>AL</td>\n",
              "      <td>0.0</td>\n",
              "      <td>0.0</td>\n",
              "      <td>0.0</td>\n",
              "      <td>0</td>\n",
              "      <td>570.0</td>\n",
              "      <td>565.0</td>\n",
              "      <td>0.0</td>\n",
              "      <td>11383.0</td>\n",
              "      <td>0.5922</td>\n",
              "      <td>0.2600</td>\n",
              "      <td>0.0283</td>\n",
              "      <td>0.0518</td>\n",
              "      <td>0.0022</td>\n",
              "      <td>0.0007</td>\n",
              "      <td>0.0368</td>\n",
              "      <td>0.0179</td>\n",
              "      <td>0.0100</td>\n",
              "      <td>0.2607</td>\n",
              "      <td>1</td>\n",
              "      <td>0.3460</td>\n",
              "      <td>0.5214</td>\n",
              "      <td>0.2422</td>\n",
              "      <td>39700</td>\n",
              "      <td>21941.5</td>\n",
              "    </tr>\n",
              "    <tr>\n",
              "      <th>Amridge University</th>\n",
              "      <td>Montgomery</td>\n",
              "      <td>AL</td>\n",
              "      <td>0.0</td>\n",
              "      <td>0.0</td>\n",
              "      <td>0.0</td>\n",
              "      <td>1</td>\n",
              "      <td>NaN</td>\n",
              "      <td>NaN</td>\n",
              "      <td>1.0</td>\n",
              "      <td>291.0</td>\n",
              "      <td>0.2990</td>\n",
              "      <td>0.4192</td>\n",
              "      <td>0.0069</td>\n",
              "      <td>0.0034</td>\n",
              "      <td>0.0000</td>\n",
              "      <td>0.0000</td>\n",
              "      <td>0.0000</td>\n",
              "      <td>0.0000</td>\n",
              "      <td>0.2715</td>\n",
              "      <td>0.4536</td>\n",
              "      <td>1</td>\n",
              "      <td>0.6801</td>\n",
              "      <td>0.7795</td>\n",
              "      <td>0.8540</td>\n",
              "      <td>40100</td>\n",
              "      <td>23370</td>\n",
              "    </tr>\n",
              "  </tbody>\n",
              "</table>\n",
              "</div>"
            ],
            "text/plain": [
              "                                           CITY  ... GRAD_DEBT_MDN_SUPP\n",
              "INSTNM                                           ...                   \n",
              "Alabama A & M University                 Normal  ...              33888\n",
              "University of Alabama at Birmingham  Birmingham  ...            21941.5\n",
              "Amridge University                   Montgomery  ...              23370\n",
              "\n",
              "[3 rows x 26 columns]"
            ]
          },
          "metadata": {
            "tags": []
          },
          "execution_count": 38
        }
      ]
    },
    {
      "cell_type": "markdown",
      "metadata": {
        "id": "8eRhznGYvhQn",
        "colab_type": "text"
      },
      "source": [
        "Step2: Use the Index method get_loc to find the integer position of the desired columns:"
      ]
    },
    {
      "cell_type": "code",
      "metadata": {
        "id": "WMqH8ekmCTaG",
        "colab_type": "code",
        "outputId": "e4553abb-1bf1-4cb4-a4cf-a2e53673c9f4",
        "colab": {
          "base_uri": "https://localhost:8080/",
          "height": 34
        }
      },
      "source": [
        "col_start = college.columns.get_loc('UGDS_WHITE')\n",
        "col_end = college.columns.get_loc('UGDS_UNKN') + 1\n",
        "col_start, col_end"
      ],
      "execution_count": 39,
      "outputs": [
        {
          "output_type": "execute_result",
          "data": {
            "text/plain": [
              "(10, 19)"
            ]
          },
          "metadata": {
            "tags": []
          },
          "execution_count": 39
        }
      ]
    },
    {
      "cell_type": "markdown",
      "metadata": {
        "id": "GVUJD990v2dM",
        "colab_type": "text"
      },
      "source": [
        "Step3: Use col_start and col_end to select columns by integer location using .iloc:"
      ]
    },
    {
      "cell_type": "code",
      "metadata": {
        "id": "tYfRWqryCTaK",
        "colab_type": "code",
        "outputId": "d4d09196-0a3b-493d-85a4-1add9a46aaeb",
        "colab": {
          "base_uri": "https://localhost:8080/",
          "height": 225
        }
      },
      "source": [
        "college.iloc[:5, col_start:col_end]"
      ],
      "execution_count": 40,
      "outputs": [
        {
          "output_type": "execute_result",
          "data": {
            "text/html": [
              "<div>\n",
              "<style scoped>\n",
              "    .dataframe tbody tr th:only-of-type {\n",
              "        vertical-align: middle;\n",
              "    }\n",
              "\n",
              "    .dataframe tbody tr th {\n",
              "        vertical-align: top;\n",
              "    }\n",
              "\n",
              "    .dataframe thead th {\n",
              "        text-align: right;\n",
              "    }\n",
              "</style>\n",
              "<table border=\"1\" class=\"dataframe\">\n",
              "  <thead>\n",
              "    <tr style=\"text-align: right;\">\n",
              "      <th></th>\n",
              "      <th>UGDS_WHITE</th>\n",
              "      <th>UGDS_BLACK</th>\n",
              "      <th>UGDS_HISP</th>\n",
              "      <th>UGDS_ASIAN</th>\n",
              "      <th>UGDS_AIAN</th>\n",
              "      <th>UGDS_NHPI</th>\n",
              "      <th>UGDS_2MOR</th>\n",
              "      <th>UGDS_NRA</th>\n",
              "      <th>UGDS_UNKN</th>\n",
              "    </tr>\n",
              "    <tr>\n",
              "      <th>INSTNM</th>\n",
              "      <th></th>\n",
              "      <th></th>\n",
              "      <th></th>\n",
              "      <th></th>\n",
              "      <th></th>\n",
              "      <th></th>\n",
              "      <th></th>\n",
              "      <th></th>\n",
              "      <th></th>\n",
              "    </tr>\n",
              "  </thead>\n",
              "  <tbody>\n",
              "    <tr>\n",
              "      <th>Alabama A &amp; M University</th>\n",
              "      <td>0.0333</td>\n",
              "      <td>0.9353</td>\n",
              "      <td>0.0055</td>\n",
              "      <td>0.0019</td>\n",
              "      <td>0.0024</td>\n",
              "      <td>0.0019</td>\n",
              "      <td>0.0000</td>\n",
              "      <td>0.0059</td>\n",
              "      <td>0.0138</td>\n",
              "    </tr>\n",
              "    <tr>\n",
              "      <th>University of Alabama at Birmingham</th>\n",
              "      <td>0.5922</td>\n",
              "      <td>0.2600</td>\n",
              "      <td>0.0283</td>\n",
              "      <td>0.0518</td>\n",
              "      <td>0.0022</td>\n",
              "      <td>0.0007</td>\n",
              "      <td>0.0368</td>\n",
              "      <td>0.0179</td>\n",
              "      <td>0.0100</td>\n",
              "    </tr>\n",
              "    <tr>\n",
              "      <th>Amridge University</th>\n",
              "      <td>0.2990</td>\n",
              "      <td>0.4192</td>\n",
              "      <td>0.0069</td>\n",
              "      <td>0.0034</td>\n",
              "      <td>0.0000</td>\n",
              "      <td>0.0000</td>\n",
              "      <td>0.0000</td>\n",
              "      <td>0.0000</td>\n",
              "      <td>0.2715</td>\n",
              "    </tr>\n",
              "    <tr>\n",
              "      <th>University of Alabama in Huntsville</th>\n",
              "      <td>0.6988</td>\n",
              "      <td>0.1255</td>\n",
              "      <td>0.0382</td>\n",
              "      <td>0.0376</td>\n",
              "      <td>0.0143</td>\n",
              "      <td>0.0002</td>\n",
              "      <td>0.0172</td>\n",
              "      <td>0.0332</td>\n",
              "      <td>0.0350</td>\n",
              "    </tr>\n",
              "    <tr>\n",
              "      <th>Alabama State University</th>\n",
              "      <td>0.0158</td>\n",
              "      <td>0.9208</td>\n",
              "      <td>0.0121</td>\n",
              "      <td>0.0019</td>\n",
              "      <td>0.0010</td>\n",
              "      <td>0.0006</td>\n",
              "      <td>0.0098</td>\n",
              "      <td>0.0243</td>\n",
              "      <td>0.0137</td>\n",
              "    </tr>\n",
              "  </tbody>\n",
              "</table>\n",
              "</div>"
            ],
            "text/plain": [
              "                                     UGDS_WHITE  ...  UGDS_UNKN\n",
              "INSTNM                                           ...           \n",
              "Alabama A & M University                 0.0333  ...     0.0138\n",
              "University of Alabama at Birmingham      0.5922  ...     0.0100\n",
              "Amridge University                       0.2990  ...     0.2715\n",
              "University of Alabama in Huntsville      0.6988  ...     0.0350\n",
              "Alabama State University                 0.0158  ...     0.0137\n",
              "\n",
              "[5 rows x 9 columns]"
            ]
          },
          "metadata": {
            "tags": []
          },
          "execution_count": 40
        }
      ]
    },
    {
      "cell_type": "markdown",
      "metadata": {
        "id": "1a0_4QqiwO7-",
        "colab_type": "text"
      },
      "source": [
        "How it works...\n",
        "Step 2 first retrieves the column index through the columns attribute. Indexes have a get_loc method, which accepts an index label and returns its integer location. We find both the start and end integer locations for the columns that we wish to slice. We add one because slicing with .iloc is exclusive of the last item. Step 3 uses slice notation with the rows and columns.\n",
        "\n"
      ]
    },
    {
      "cell_type": "markdown",
      "metadata": {
        "id": "yZcGDsnhCTaO",
        "colab_type": "text"
      },
      "source": [
        "# There's more...\n",
        "\n",
        "There's more...\n",
        "We can do a very similar operation to make .loc work with a mixture of integers and positions. The following shows how to select the 10th through 15th (inclusive) rows, along with columns UGDS_WHITE through UGDS_UNKN:"
      ]
    },
    {
      "cell_type": "code",
      "metadata": {
        "id": "_Ysj8n9ACTaO",
        "colab_type": "code",
        "outputId": "b5736423-dbb5-4c40-e67b-34ed08bb8898",
        "colab": {
          "base_uri": "https://localhost:8080/",
          "height": 254
        }
      },
      "source": [
        "row_start = college.index[10]\n",
        "row_end = college.index[15]\n",
        "college.loc[row_start:row_end, 'UGDS_WHITE':'UGDS_UNKN']"
      ],
      "execution_count": 41,
      "outputs": [
        {
          "output_type": "execute_result",
          "data": {
            "text/html": [
              "<div>\n",
              "<style scoped>\n",
              "    .dataframe tbody tr th:only-of-type {\n",
              "        vertical-align: middle;\n",
              "    }\n",
              "\n",
              "    .dataframe tbody tr th {\n",
              "        vertical-align: top;\n",
              "    }\n",
              "\n",
              "    .dataframe thead th {\n",
              "        text-align: right;\n",
              "    }\n",
              "</style>\n",
              "<table border=\"1\" class=\"dataframe\">\n",
              "  <thead>\n",
              "    <tr style=\"text-align: right;\">\n",
              "      <th></th>\n",
              "      <th>UGDS_WHITE</th>\n",
              "      <th>UGDS_BLACK</th>\n",
              "      <th>UGDS_HISP</th>\n",
              "      <th>UGDS_ASIAN</th>\n",
              "      <th>UGDS_AIAN</th>\n",
              "      <th>UGDS_NHPI</th>\n",
              "      <th>UGDS_2MOR</th>\n",
              "      <th>UGDS_NRA</th>\n",
              "      <th>UGDS_UNKN</th>\n",
              "    </tr>\n",
              "    <tr>\n",
              "      <th>INSTNM</th>\n",
              "      <th></th>\n",
              "      <th></th>\n",
              "      <th></th>\n",
              "      <th></th>\n",
              "      <th></th>\n",
              "      <th></th>\n",
              "      <th></th>\n",
              "      <th></th>\n",
              "      <th></th>\n",
              "    </tr>\n",
              "  </thead>\n",
              "  <tbody>\n",
              "    <tr>\n",
              "      <th>Birmingham Southern College</th>\n",
              "      <td>0.7983</td>\n",
              "      <td>0.1102</td>\n",
              "      <td>0.0195</td>\n",
              "      <td>0.0517</td>\n",
              "      <td>0.0102</td>\n",
              "      <td>0.0000</td>\n",
              "      <td>0.0051</td>\n",
              "      <td>0.0000</td>\n",
              "      <td>0.0051</td>\n",
              "    </tr>\n",
              "    <tr>\n",
              "      <th>Chattahoochee Valley Community College</th>\n",
              "      <td>0.4661</td>\n",
              "      <td>0.4372</td>\n",
              "      <td>0.0492</td>\n",
              "      <td>0.0127</td>\n",
              "      <td>0.0023</td>\n",
              "      <td>0.0035</td>\n",
              "      <td>0.0151</td>\n",
              "      <td>0.0000</td>\n",
              "      <td>0.0139</td>\n",
              "    </tr>\n",
              "    <tr>\n",
              "      <th>Concordia College Alabama</th>\n",
              "      <td>0.0280</td>\n",
              "      <td>0.8758</td>\n",
              "      <td>0.0373</td>\n",
              "      <td>0.0093</td>\n",
              "      <td>0.0000</td>\n",
              "      <td>0.0000</td>\n",
              "      <td>0.0031</td>\n",
              "      <td>0.0466</td>\n",
              "      <td>0.0000</td>\n",
              "    </tr>\n",
              "    <tr>\n",
              "      <th>South University-Montgomery</th>\n",
              "      <td>0.3046</td>\n",
              "      <td>0.6054</td>\n",
              "      <td>0.0153</td>\n",
              "      <td>0.0153</td>\n",
              "      <td>0.0153</td>\n",
              "      <td>0.0096</td>\n",
              "      <td>0.0000</td>\n",
              "      <td>0.0019</td>\n",
              "      <td>0.0326</td>\n",
              "    </tr>\n",
              "    <tr>\n",
              "      <th>Enterprise State Community College</th>\n",
              "      <td>0.6408</td>\n",
              "      <td>0.2435</td>\n",
              "      <td>0.0509</td>\n",
              "      <td>0.0202</td>\n",
              "      <td>0.0081</td>\n",
              "      <td>0.0029</td>\n",
              "      <td>0.0254</td>\n",
              "      <td>0.0012</td>\n",
              "      <td>0.0069</td>\n",
              "    </tr>\n",
              "    <tr>\n",
              "      <th>James H Faulkner State Community College</th>\n",
              "      <td>0.6979</td>\n",
              "      <td>0.2259</td>\n",
              "      <td>0.0320</td>\n",
              "      <td>0.0084</td>\n",
              "      <td>0.0177</td>\n",
              "      <td>0.0014</td>\n",
              "      <td>0.0152</td>\n",
              "      <td>0.0007</td>\n",
              "      <td>0.0009</td>\n",
              "    </tr>\n",
              "  </tbody>\n",
              "</table>\n",
              "</div>"
            ],
            "text/plain": [
              "                                          UGDS_WHITE  ...  UGDS_UNKN\n",
              "INSTNM                                                ...           \n",
              "Birmingham Southern College                   0.7983  ...     0.0051\n",
              "Chattahoochee Valley Community College        0.4661  ...     0.0139\n",
              "Concordia College Alabama                     0.0280  ...     0.0000\n",
              "South University-Montgomery                   0.3046  ...     0.0326\n",
              "Enterprise State Community College            0.6408  ...     0.0069\n",
              "James H Faulkner State Community College      0.6979  ...     0.0009\n",
              "\n",
              "[6 rows x 9 columns]"
            ]
          },
          "metadata": {
            "tags": []
          },
          "execution_count": 41
        }
      ]
    },
    {
      "cell_type": "markdown",
      "metadata": {
        "id": "dyc4C6HVCTaU",
        "colab_type": "text"
      },
      "source": [
        "# Speeding up scalar selection\n",
        "\n",
        "Both the .iloc and .loc indexers are capable of selecting a single element, a scalar value, from a Series or DataFrame. However, there exist the indexers, .iat and .at, which respectively achieve the same thing at faster speeds. Like .iloc, the .iat indexer uses integer location to make its selection and must be passed two integers separated by a comma. Similar to .loc, the .at index uses labels to make its selection and must be passed an index and column label separated by a comma.\n",
        "\n",
        "Getting ready\n",
        "This recipe is valuable if computational time is of utmost importance. It shows the performance improvement of .iat and .at over .iloc and .loc when using scalar selection."
      ]
    },
    {
      "cell_type": "markdown",
      "metadata": {
        "id": "-KfOzsD0x12u",
        "colab_type": "text"
      },
      "source": [
        "##Getting ready\n",
        "This recipe is valuable if computational time is of utmost importance. It shows the performance improvement of .iat and .at over .iloc and .loc when using scalar selection.\n",
        "\n",
        "How to do it...<br>\n",
        "Step1: Read in the college scoreboard dataset with the institution name as the index. Pass a college name and column name to .loc in order to select a scalar value:"
      ]
    },
    {
      "cell_type": "code",
      "metadata": {
        "id": "8ybvvB8SCTaV",
        "colab_type": "code",
        "outputId": "a3ae9a0c-91ed-4fbd-b04f-948e7fb639ca",
        "colab": {
          "base_uri": "https://localhost:8080/",
          "height": 34
        }
      },
      "source": [
        "college = pd.read_csv('https://raw.githubusercontent.com/Blackman9t/PandasCookbook/master/college.csv', index_col='INSTNM')\n",
        "college.loc['Texas A & M University-College Station', 'UGDS_WHITE']"
      ],
      "execution_count": 42,
      "outputs": [
        {
          "output_type": "execute_result",
          "data": {
            "text/plain": [
              "0.6609999999999999"
            ]
          },
          "metadata": {
            "tags": []
          },
          "execution_count": 42
        }
      ]
    },
    {
      "cell_type": "markdown",
      "metadata": {
        "id": "ZRzyUazzz9ta",
        "colab_type": "text"
      },
      "source": [
        "Step2: Achieve the same result with .at:"
      ]
    },
    {
      "cell_type": "code",
      "metadata": {
        "id": "bVU2b9S_CTaZ",
        "colab_type": "code",
        "outputId": "2c08122e-79c1-40fe-8fcf-4308bd45c760",
        "colab": {
          "base_uri": "https://localhost:8080/",
          "height": 34
        }
      },
      "source": [
        "college.at['Texas A & M University-College Station', 'UGDS_WHITE']"
      ],
      "execution_count": 43,
      "outputs": [
        {
          "output_type": "execute_result",
          "data": {
            "text/plain": [
              "0.6609999999999999"
            ]
          },
          "metadata": {
            "tags": []
          },
          "execution_count": 43
        }
      ]
    },
    {
      "cell_type": "markdown",
      "metadata": {
        "id": "r9Usmk1J0XP_",
        "colab_type": "text"
      },
      "source": [
        "Step3: Use the %timeit magic command to find the difference in speed:\n"
      ]
    },
    {
      "cell_type": "code",
      "metadata": {
        "id": "gmUqhGBiCTac",
        "colab_type": "code",
        "outputId": "4061b9a2-4d19-4479-a05d-60daed41f82b",
        "colab": {
          "base_uri": "https://localhost:8080/",
          "height": 50
        }
      },
      "source": [
        "%timeit college.loc['Texas A & M University-College Station', 'UGDS_WHITE']"
      ],
      "execution_count": 44,
      "outputs": [
        {
          "output_type": "stream",
          "text": [
            "The slowest run took 12.80 times longer than the fastest. This could mean that an intermediate result is being cached.\n",
            "100000 loops, best of 3: 9.02 µs per loop\n"
          ],
          "name": "stdout"
        }
      ]
    },
    {
      "cell_type": "code",
      "metadata": {
        "id": "2JCT4o6aCTad",
        "colab_type": "code",
        "outputId": "739022cc-f5ee-4bb3-9f79-94ddd387faa5",
        "colab": {
          "base_uri": "https://localhost:8080/",
          "height": 50
        }
      },
      "source": [
        "%timeit college.at['Texas A & M University-College Station', 'UGDS_WHITE']"
      ],
      "execution_count": 45,
      "outputs": [
        {
          "output_type": "stream",
          "text": [
            "The slowest run took 17.11 times longer than the fastest. This could mean that an intermediate result is being cached.\n",
            "100000 loops, best of 3: 5.95 µs per loop\n"
          ],
          "name": "stdout"
        }
      ]
    },
    {
      "cell_type": "markdown",
      "metadata": {
        "id": "lA5FZKNaLNN9",
        "colab_type": "text"
      },
      "source": [
        "Step4: Find the integer locations of the preceding selections and then time the difference between .iloc and .iat:"
      ]
    },
    {
      "cell_type": "code",
      "metadata": {
        "id": "M8L6BWK1CTaf",
        "colab_type": "code",
        "colab": {}
      },
      "source": [
        "row_num = college.index.get_loc('Texas A & M University-College Station')\n",
        "col_num = college.columns.get_loc('UGDS_WHITE')"
      ],
      "execution_count": 0,
      "outputs": []
    },
    {
      "cell_type": "code",
      "metadata": {
        "id": "yxnnsM4lCTai",
        "colab_type": "code",
        "outputId": "e38a18bb-0ce0-4bfc-ab71-9fa592215ea5",
        "colab": {
          "base_uri": "https://localhost:8080/",
          "height": 34
        }
      },
      "source": [
        "row_num, col_num"
      ],
      "execution_count": 47,
      "outputs": [
        {
          "output_type": "execute_result",
          "data": {
            "text/plain": [
              "(3765, 10)"
            ]
          },
          "metadata": {
            "tags": []
          },
          "execution_count": 47
        }
      ]
    },
    {
      "cell_type": "code",
      "metadata": {
        "id": "lxWz2ReECTam",
        "colab_type": "code",
        "outputId": "d0130bc8-35f2-43e2-a0d3-12c1f05d5d86",
        "colab": {
          "base_uri": "https://localhost:8080/",
          "height": 50
        }
      },
      "source": [
        "%timeit college.iloc[row_num, col_num]  # about 10.5 micro seconds per loop"
      ],
      "execution_count": 48,
      "outputs": [
        {
          "output_type": "stream",
          "text": [
            "The slowest run took 26.92 times longer than the fastest. This could mean that an intermediate result is being cached.\n",
            "100000 loops, best of 3: 10.5 µs per loop\n"
          ],
          "name": "stdout"
        }
      ]
    },
    {
      "cell_type": "code",
      "metadata": {
        "id": "xRzilqSACTao",
        "colab_type": "code",
        "outputId": "99726503-de92-45ab-ef49-5f68b522f630",
        "colab": {
          "base_uri": "https://localhost:8080/",
          "height": 50
        }
      },
      "source": [
        "%timeit college.iat[row_num, col_num]  # about 7.04 micro seconds per loop"
      ],
      "execution_count": 49,
      "outputs": [
        {
          "output_type": "stream",
          "text": [
            "The slowest run took 14.70 times longer than the fastest. This could mean that an intermediate result is being cached.\n",
            "100000 loops, best of 3: 7.04 µs per loop\n"
          ],
          "name": "stdout"
        }
      ]
    },
    {
      "cell_type": "code",
      "metadata": {
        "id": "AigCzqSECTap",
        "colab_type": "code",
        "outputId": "f4c650ac-f2bf-4042-f038-d3b800184adf",
        "colab": {
          "base_uri": "https://localhost:8080/",
          "height": 50
        }
      },
      "source": [
        "%timeit college.iloc[5, col_num] # about 10.8 micro seconds per loop"
      ],
      "execution_count": 50,
      "outputs": [
        {
          "output_type": "stream",
          "text": [
            "The slowest run took 9.17 times longer than the fastest. This could mean that an intermediate result is being cached.\n",
            "100000 loops, best of 3: 10.8 µs per loop\n"
          ],
          "name": "stdout"
        }
      ]
    },
    {
      "cell_type": "code",
      "metadata": {
        "id": "O8LrVl8jCTaq",
        "colab_type": "code",
        "outputId": "1976fc84-e899-437a-960a-0de566ef9d2b",
        "colab": {
          "base_uri": "https://localhost:8080/",
          "height": 50
        }
      },
      "source": [
        "%timeit college.iat[5, col_num]  # about 3.7 micro seconds per loop"
      ],
      "execution_count": 51,
      "outputs": [
        {
          "output_type": "stream",
          "text": [
            "The slowest run took 12.44 times longer than the fastest. This could mean that an intermediate result is being cached.\n",
            "100000 loops, best of 3: 7 µs per loop\n"
          ],
          "name": "stdout"
        }
      ]
    },
    {
      "cell_type": "markdown",
      "metadata": {
        "id": "JdRcr_mKMCzi",
        "colab_type": "text"
      },
      "source": [
        "##How it works...\n",
        "The scalar indexers, .iat and .at, only accept scalar values. They fail if anything else is passed to them. They are drop-in replacements for .iloc and .loc when doing scalar selection. The timeit magic command times entire blocks of code when preceded by two percentage signs and a single time when preceded by one percentage sign. It shows that about 2.5 microseconds are saved on average by switching to the scalar indexers. This might not be much but can add up quickly if scalar selection is repeatedly done in a program.\n",
        "\n",
        "\n"
      ]
    },
    {
      "cell_type": "markdown",
      "metadata": {
        "id": "KIzXVvKcCTas",
        "colab_type": "text"
      },
      "source": [
        "## There's more...\n",
        "\n",
        "There's more...\n",
        "Both .iat and .at work with Series as well. Pass them a single scalar value, and they will return a scalar:\n"
      ]
    },
    {
      "cell_type": "code",
      "metadata": {
        "id": "4BlldngWCTas",
        "colab_type": "code",
        "colab": {}
      },
      "source": [
        "state = college['STABBR']"
      ],
      "execution_count": 0,
      "outputs": []
    },
    {
      "cell_type": "code",
      "metadata": {
        "id": "K2sQyCOnCTau",
        "colab_type": "code",
        "outputId": "58a89ebe-af18-4196-8df2-ee170e1893bc",
        "colab": {
          "base_uri": "https://localhost:8080/",
          "height": 34
        }
      },
      "source": [
        "state.iat[1000]"
      ],
      "execution_count": 53,
      "outputs": [
        {
          "output_type": "execute_result",
          "data": {
            "text/plain": [
              "'IL'"
            ]
          },
          "metadata": {
            "tags": []
          },
          "execution_count": 53
        }
      ]
    },
    {
      "cell_type": "code",
      "metadata": {
        "id": "l54vGGiYCTaw",
        "colab_type": "code",
        "outputId": "72f7b9b5-92e4-4578-ada3-47847f054cca",
        "colab": {
          "base_uri": "https://localhost:8080/",
          "height": 34
        }
      },
      "source": [
        "state.at['Stanford University']"
      ],
      "execution_count": 54,
      "outputs": [
        {
          "output_type": "execute_result",
          "data": {
            "text/plain": [
              "'CA'"
            ]
          },
          "metadata": {
            "tags": []
          },
          "execution_count": 54
        }
      ]
    },
    {
      "cell_type": "markdown",
      "metadata": {
        "id": "6YHlOvlDCTaz",
        "colab_type": "text"
      },
      "source": [
        "# Slicing rows lazily\n",
        "\n",
        "Slicing rows lazily\n",
        "The previous recipes in this chapter showed how the .iloc and .loc indexers were used to select subsets of both Series and DataFrames in either dimension. A shortcut to select the rows exists with just the indexing operator itself. This is just a shortcut to show additional features of pandas, but the primary function of the indexing operator is actually to select DataFrame columns. If you want to select rows, it is best to use .iloc or .loc, as they are unambiguous."
      ]
    },
    {
      "cell_type": "markdown",
      "metadata": {
        "id": "VDrLYR9qNC1F",
        "colab_type": "text"
      },
      "source": [
        "Step1: Read in the college dataset with the institution name as the index and then select every other row from index 10 to 20:\n"
      ]
    },
    {
      "cell_type": "code",
      "metadata": {
        "id": "fS4ETpIMCTaz",
        "colab_type": "code",
        "outputId": "de61746a-bf36-45e8-ba51-572afae85ad9",
        "colab": {
          "base_uri": "https://localhost:8080/",
          "height": 430
        }
      },
      "source": [
        "college = pd.read_csv('https://raw.githubusercontent.com/Blackman9t/PandasCookbook/master/college.csv', index_col='INSTNM')\n",
        "college[10:20:2]"
      ],
      "execution_count": 55,
      "outputs": [
        {
          "output_type": "execute_result",
          "data": {
            "text/html": [
              "<div>\n",
              "<style scoped>\n",
              "    .dataframe tbody tr th:only-of-type {\n",
              "        vertical-align: middle;\n",
              "    }\n",
              "\n",
              "    .dataframe tbody tr th {\n",
              "        vertical-align: top;\n",
              "    }\n",
              "\n",
              "    .dataframe thead th {\n",
              "        text-align: right;\n",
              "    }\n",
              "</style>\n",
              "<table border=\"1\" class=\"dataframe\">\n",
              "  <thead>\n",
              "    <tr style=\"text-align: right;\">\n",
              "      <th></th>\n",
              "      <th>CITY</th>\n",
              "      <th>STABBR</th>\n",
              "      <th>HBCU</th>\n",
              "      <th>MENONLY</th>\n",
              "      <th>WOMENONLY</th>\n",
              "      <th>RELAFFIL</th>\n",
              "      <th>SATVRMID</th>\n",
              "      <th>SATMTMID</th>\n",
              "      <th>DISTANCEONLY</th>\n",
              "      <th>UGDS</th>\n",
              "      <th>UGDS_WHITE</th>\n",
              "      <th>UGDS_BLACK</th>\n",
              "      <th>UGDS_HISP</th>\n",
              "      <th>UGDS_ASIAN</th>\n",
              "      <th>UGDS_AIAN</th>\n",
              "      <th>UGDS_NHPI</th>\n",
              "      <th>UGDS_2MOR</th>\n",
              "      <th>UGDS_NRA</th>\n",
              "      <th>UGDS_UNKN</th>\n",
              "      <th>PPTUG_EF</th>\n",
              "      <th>CURROPER</th>\n",
              "      <th>PCTPELL</th>\n",
              "      <th>PCTFLOAN</th>\n",
              "      <th>UG25ABV</th>\n",
              "      <th>MD_EARN_WNE_P10</th>\n",
              "      <th>GRAD_DEBT_MDN_SUPP</th>\n",
              "    </tr>\n",
              "    <tr>\n",
              "      <th>INSTNM</th>\n",
              "      <th></th>\n",
              "      <th></th>\n",
              "      <th></th>\n",
              "      <th></th>\n",
              "      <th></th>\n",
              "      <th></th>\n",
              "      <th></th>\n",
              "      <th></th>\n",
              "      <th></th>\n",
              "      <th></th>\n",
              "      <th></th>\n",
              "      <th></th>\n",
              "      <th></th>\n",
              "      <th></th>\n",
              "      <th></th>\n",
              "      <th></th>\n",
              "      <th></th>\n",
              "      <th></th>\n",
              "      <th></th>\n",
              "      <th></th>\n",
              "      <th></th>\n",
              "      <th></th>\n",
              "      <th></th>\n",
              "      <th></th>\n",
              "      <th></th>\n",
              "      <th></th>\n",
              "    </tr>\n",
              "  </thead>\n",
              "  <tbody>\n",
              "    <tr>\n",
              "      <th>Birmingham Southern College</th>\n",
              "      <td>Birmingham</td>\n",
              "      <td>AL</td>\n",
              "      <td>0.0</td>\n",
              "      <td>0.0</td>\n",
              "      <td>0.0</td>\n",
              "      <td>1</td>\n",
              "      <td>560.0</td>\n",
              "      <td>560.0</td>\n",
              "      <td>0.0</td>\n",
              "      <td>1180.0</td>\n",
              "      <td>0.7983</td>\n",
              "      <td>0.1102</td>\n",
              "      <td>0.0195</td>\n",
              "      <td>0.0517</td>\n",
              "      <td>0.0102</td>\n",
              "      <td>0.0000</td>\n",
              "      <td>0.0051</td>\n",
              "      <td>0.0000</td>\n",
              "      <td>0.0051</td>\n",
              "      <td>0.0017</td>\n",
              "      <td>1</td>\n",
              "      <td>0.1920</td>\n",
              "      <td>0.4809</td>\n",
              "      <td>0.0152</td>\n",
              "      <td>44200</td>\n",
              "      <td>27000</td>\n",
              "    </tr>\n",
              "    <tr>\n",
              "      <th>Concordia College Alabama</th>\n",
              "      <td>Selma</td>\n",
              "      <td>AL</td>\n",
              "      <td>1.0</td>\n",
              "      <td>0.0</td>\n",
              "      <td>0.0</td>\n",
              "      <td>1</td>\n",
              "      <td>420.0</td>\n",
              "      <td>400.0</td>\n",
              "      <td>0.0</td>\n",
              "      <td>322.0</td>\n",
              "      <td>0.0280</td>\n",
              "      <td>0.8758</td>\n",
              "      <td>0.0373</td>\n",
              "      <td>0.0093</td>\n",
              "      <td>0.0000</td>\n",
              "      <td>0.0000</td>\n",
              "      <td>0.0031</td>\n",
              "      <td>0.0466</td>\n",
              "      <td>0.0000</td>\n",
              "      <td>0.1056</td>\n",
              "      <td>1</td>\n",
              "      <td>0.8667</td>\n",
              "      <td>0.9333</td>\n",
              "      <td>0.2367</td>\n",
              "      <td>19900</td>\n",
              "      <td>PrivacySuppressed</td>\n",
              "    </tr>\n",
              "    <tr>\n",
              "      <th>Enterprise State Community College</th>\n",
              "      <td>Enterprise</td>\n",
              "      <td>AL</td>\n",
              "      <td>0.0</td>\n",
              "      <td>0.0</td>\n",
              "      <td>0.0</td>\n",
              "      <td>0</td>\n",
              "      <td>NaN</td>\n",
              "      <td>NaN</td>\n",
              "      <td>0.0</td>\n",
              "      <td>1729.0</td>\n",
              "      <td>0.6408</td>\n",
              "      <td>0.2435</td>\n",
              "      <td>0.0509</td>\n",
              "      <td>0.0202</td>\n",
              "      <td>0.0081</td>\n",
              "      <td>0.0029</td>\n",
              "      <td>0.0254</td>\n",
              "      <td>0.0012</td>\n",
              "      <td>0.0069</td>\n",
              "      <td>0.3823</td>\n",
              "      <td>1</td>\n",
              "      <td>0.4895</td>\n",
              "      <td>0.2263</td>\n",
              "      <td>0.3399</td>\n",
              "      <td>24600</td>\n",
              "      <td>8273</td>\n",
              "    </tr>\n",
              "    <tr>\n",
              "      <th>Faulkner University</th>\n",
              "      <td>Montgomery</td>\n",
              "      <td>AL</td>\n",
              "      <td>0.0</td>\n",
              "      <td>0.0</td>\n",
              "      <td>0.0</td>\n",
              "      <td>1</td>\n",
              "      <td>NaN</td>\n",
              "      <td>NaN</td>\n",
              "      <td>0.0</td>\n",
              "      <td>2367.0</td>\n",
              "      <td>0.3874</td>\n",
              "      <td>0.5137</td>\n",
              "      <td>0.0258</td>\n",
              "      <td>0.0042</td>\n",
              "      <td>0.0063</td>\n",
              "      <td>0.0013</td>\n",
              "      <td>0.0173</td>\n",
              "      <td>0.0182</td>\n",
              "      <td>0.0258</td>\n",
              "      <td>0.2302</td>\n",
              "      <td>1</td>\n",
              "      <td>0.5812</td>\n",
              "      <td>0.7253</td>\n",
              "      <td>0.4589</td>\n",
              "      <td>37200</td>\n",
              "      <td>22000</td>\n",
              "    </tr>\n",
              "    <tr>\n",
              "      <th>New Beginning College of Cosmetology</th>\n",
              "      <td>Albertville</td>\n",
              "      <td>AL</td>\n",
              "      <td>0.0</td>\n",
              "      <td>0.0</td>\n",
              "      <td>0.0</td>\n",
              "      <td>0</td>\n",
              "      <td>NaN</td>\n",
              "      <td>NaN</td>\n",
              "      <td>0.0</td>\n",
              "      <td>115.0</td>\n",
              "      <td>0.8957</td>\n",
              "      <td>0.0348</td>\n",
              "      <td>0.0696</td>\n",
              "      <td>0.0000</td>\n",
              "      <td>0.0000</td>\n",
              "      <td>0.0000</td>\n",
              "      <td>0.0000</td>\n",
              "      <td>0.0000</td>\n",
              "      <td>0.0000</td>\n",
              "      <td>0.0783</td>\n",
              "      <td>1</td>\n",
              "      <td>0.8224</td>\n",
              "      <td>0.8553</td>\n",
              "      <td>0.3933</td>\n",
              "      <td>NaN</td>\n",
              "      <td>5500</td>\n",
              "    </tr>\n",
              "  </tbody>\n",
              "</table>\n",
              "</div>"
            ],
            "text/plain": [
              "                                             CITY  ... GRAD_DEBT_MDN_SUPP\n",
              "INSTNM                                             ...                   \n",
              "Birmingham Southern College            Birmingham  ...              27000\n",
              "Concordia College Alabama                   Selma  ...  PrivacySuppressed\n",
              "Enterprise State Community College     Enterprise  ...               8273\n",
              "Faulkner University                    Montgomery  ...              22000\n",
              "New Beginning College of Cosmetology  Albertville  ...               5500\n",
              "\n",
              "[5 rows x 26 columns]"
            ]
          },
          "metadata": {
            "tags": []
          },
          "execution_count": 55
        }
      ]
    },
    {
      "cell_type": "markdown",
      "metadata": {
        "id": "NzDYPHrzOrbc",
        "colab_type": "text"
      },
      "source": [
        "Step2: This same slicing exists with Series:\n"
      ]
    },
    {
      "cell_type": "code",
      "metadata": {
        "id": "GU4LMBqECTa1",
        "colab_type": "code",
        "outputId": "a0d1c9a9-92be-4cd5-98e0-35b2ff141931",
        "colab": {
          "base_uri": "https://localhost:8080/",
          "height": 134
        }
      },
      "source": [
        "city[10:20:2]"
      ],
      "execution_count": 56,
      "outputs": [
        {
          "output_type": "execute_result",
          "data": {
            "text/plain": [
              "INSTNM\n",
              "Birmingham Southern College              Birmingham\n",
              "Concordia College Alabama                     Selma\n",
              "Enterprise State Community College       Enterprise\n",
              "Faulkner University                      Montgomery\n",
              "New Beginning College of Cosmetology    Albertville\n",
              "Name: CITY, dtype: object"
            ]
          },
          "metadata": {
            "tags": []
          },
          "execution_count": 56
        }
      ]
    },
    {
      "cell_type": "markdown",
      "metadata": {
        "id": "NzRrMN9DQ3eC",
        "colab_type": "text"
      },
      "source": [
        "Step3: Both Series and DataFrames can slice by label as well with just the indexing operator:\n"
      ]
    },
    {
      "cell_type": "code",
      "metadata": {
        "id": "nSzSaHzZQ7dd",
        "colab_type": "code",
        "colab": {
          "base_uri": "https://localhost:8080/",
          "height": 320
        },
        "outputId": "c9dd7649-a4ea-4d88-915e-8ce2c8383d85"
      },
      "source": [
        "start = 'Mesa Community College'\n",
        "stop = 'Spokane Community College'\n",
        "college[start:stop:1500]"
      ],
      "execution_count": 66,
      "outputs": [
        {
          "output_type": "execute_result",
          "data": {
            "text/html": [
              "<div>\n",
              "<style scoped>\n",
              "    .dataframe tbody tr th:only-of-type {\n",
              "        vertical-align: middle;\n",
              "    }\n",
              "\n",
              "    .dataframe tbody tr th {\n",
              "        vertical-align: top;\n",
              "    }\n",
              "\n",
              "    .dataframe thead th {\n",
              "        text-align: right;\n",
              "    }\n",
              "</style>\n",
              "<table border=\"1\" class=\"dataframe\">\n",
              "  <thead>\n",
              "    <tr style=\"text-align: right;\">\n",
              "      <th></th>\n",
              "      <th>CITY</th>\n",
              "      <th>STABBR</th>\n",
              "      <th>HBCU</th>\n",
              "      <th>MENONLY</th>\n",
              "      <th>WOMENONLY</th>\n",
              "      <th>RELAFFIL</th>\n",
              "      <th>SATVRMID</th>\n",
              "      <th>SATMTMID</th>\n",
              "      <th>DISTANCEONLY</th>\n",
              "      <th>UGDS</th>\n",
              "      <th>UGDS_WHITE</th>\n",
              "      <th>UGDS_BLACK</th>\n",
              "      <th>UGDS_HISP</th>\n",
              "      <th>UGDS_ASIAN</th>\n",
              "      <th>UGDS_AIAN</th>\n",
              "      <th>UGDS_NHPI</th>\n",
              "      <th>UGDS_2MOR</th>\n",
              "      <th>UGDS_NRA</th>\n",
              "      <th>UGDS_UNKN</th>\n",
              "      <th>PPTUG_EF</th>\n",
              "      <th>CURROPER</th>\n",
              "      <th>PCTPELL</th>\n",
              "      <th>PCTFLOAN</th>\n",
              "      <th>UG25ABV</th>\n",
              "      <th>MD_EARN_WNE_P10</th>\n",
              "      <th>GRAD_DEBT_MDN_SUPP</th>\n",
              "    </tr>\n",
              "    <tr>\n",
              "      <th>INSTNM</th>\n",
              "      <th></th>\n",
              "      <th></th>\n",
              "      <th></th>\n",
              "      <th></th>\n",
              "      <th></th>\n",
              "      <th></th>\n",
              "      <th></th>\n",
              "      <th></th>\n",
              "      <th></th>\n",
              "      <th></th>\n",
              "      <th></th>\n",
              "      <th></th>\n",
              "      <th></th>\n",
              "      <th></th>\n",
              "      <th></th>\n",
              "      <th></th>\n",
              "      <th></th>\n",
              "      <th></th>\n",
              "      <th></th>\n",
              "      <th></th>\n",
              "      <th></th>\n",
              "      <th></th>\n",
              "      <th></th>\n",
              "      <th></th>\n",
              "      <th></th>\n",
              "      <th></th>\n",
              "    </tr>\n",
              "  </thead>\n",
              "  <tbody>\n",
              "    <tr>\n",
              "      <th>Mesa Community College</th>\n",
              "      <td>Mesa</td>\n",
              "      <td>AZ</td>\n",
              "      <td>0.0</td>\n",
              "      <td>0.0</td>\n",
              "      <td>0.0</td>\n",
              "      <td>0</td>\n",
              "      <td>NaN</td>\n",
              "      <td>NaN</td>\n",
              "      <td>0.0</td>\n",
              "      <td>19055.0</td>\n",
              "      <td>0.5002</td>\n",
              "      <td>0.0661</td>\n",
              "      <td>0.2354</td>\n",
              "      <td>0.039</td>\n",
              "      <td>0.0403</td>\n",
              "      <td>0.0046</td>\n",
              "      <td>0.0205</td>\n",
              "      <td>0.0257</td>\n",
              "      <td>0.0682</td>\n",
              "      <td>0.6457</td>\n",
              "      <td>1</td>\n",
              "      <td>0.3423</td>\n",
              "      <td>0.2207</td>\n",
              "      <td>0.4010</td>\n",
              "      <td>35200</td>\n",
              "      <td>8000</td>\n",
              "    </tr>\n",
              "    <tr>\n",
              "      <th>Hair Academy Inc-New Carrollton</th>\n",
              "      <td>New Carrollton</td>\n",
              "      <td>MD</td>\n",
              "      <td>0.0</td>\n",
              "      <td>0.0</td>\n",
              "      <td>0.0</td>\n",
              "      <td>0</td>\n",
              "      <td>NaN</td>\n",
              "      <td>NaN</td>\n",
              "      <td>0.0</td>\n",
              "      <td>504.0</td>\n",
              "      <td>0.0000</td>\n",
              "      <td>0.9940</td>\n",
              "      <td>0.0040</td>\n",
              "      <td>0.000</td>\n",
              "      <td>0.0020</td>\n",
              "      <td>0.0000</td>\n",
              "      <td>0.0000</td>\n",
              "      <td>0.0000</td>\n",
              "      <td>0.0000</td>\n",
              "      <td>0.4683</td>\n",
              "      <td>1</td>\n",
              "      <td>0.9756</td>\n",
              "      <td>1.0000</td>\n",
              "      <td>0.5882</td>\n",
              "      <td>15200</td>\n",
              "      <td>9666</td>\n",
              "    </tr>\n",
              "    <tr>\n",
              "      <th>National College of Natural Medicine</th>\n",
              "      <td>Portland</td>\n",
              "      <td>OR</td>\n",
              "      <td>0.0</td>\n",
              "      <td>0.0</td>\n",
              "      <td>0.0</td>\n",
              "      <td>0</td>\n",
              "      <td>NaN</td>\n",
              "      <td>NaN</td>\n",
              "      <td>0.0</td>\n",
              "      <td>NaN</td>\n",
              "      <td>NaN</td>\n",
              "      <td>NaN</td>\n",
              "      <td>NaN</td>\n",
              "      <td>NaN</td>\n",
              "      <td>NaN</td>\n",
              "      <td>NaN</td>\n",
              "      <td>NaN</td>\n",
              "      <td>NaN</td>\n",
              "      <td>NaN</td>\n",
              "      <td>NaN</td>\n",
              "      <td>1</td>\n",
              "      <td>NaN</td>\n",
              "      <td>NaN</td>\n",
              "      <td>NaN</td>\n",
              "      <td>NaN</td>\n",
              "      <td>PrivacySuppressed</td>\n",
              "    </tr>\n",
              "  </tbody>\n",
              "</table>\n",
              "</div>"
            ],
            "text/plain": [
              "                                                CITY  ... GRAD_DEBT_MDN_SUPP\n",
              "INSTNM                                                ...                   \n",
              "Mesa Community College                          Mesa  ...               8000\n",
              "Hair Academy Inc-New Carrollton       New Carrollton  ...               9666\n",
              "National College of Natural Medicine        Portland  ...  PrivacySuppressed\n",
              "\n",
              "[3 rows x 26 columns]"
            ]
          },
          "metadata": {
            "tags": []
          },
          "execution_count": 66
        }
      ]
    },
    {
      "cell_type": "markdown",
      "metadata": {
        "id": "Oc8Ad4HBRHuS",
        "colab_type": "text"
      },
      "source": [
        "Step4: Here is the same slice by label with a Series:\n"
      ]
    },
    {
      "cell_type": "markdown",
      "metadata": {
        "id": "JYVVs17pR4mw",
        "colab_type": "text"
      },
      "source": [
        "##How it works...\n",
        "The indexing operator changes behavior based on what type of object is passed to it. The following pseudocode outlines how DataFrame indexing operator handles the object that it is passed:\n",
        "\n",
        "\n",
        "df[item]  # Where `df` is a DataFrame and item is some object\n",
        "\n",
        "If item is a string then\n",
        "    Find a column name that matches the item exactly\n",
        "    Raise KeyError if there is no match\n",
        "    Return the column as a Series\n",
        "\n",
        "If item is a list of strings then\n",
        "    Raise KeyError if one or more strings in item don't match columns\n",
        "    Return a DataFrame with just the columns in the list\n",
        "\n",
        "If item is a slice object then\n",
        "   Works with either integer or string slices\n",
        "   Raise KeyError if label from label slice is not in index\n",
        "   Return all ROWS that are selected by the slice\n",
        "\n",
        "If item is a list, Series or ndarray of booleans then\n",
        "   Raise ValueError if length of item not equal to length of DataFrame\n",
        "   Use the booleans to return only the rows with True in same location\n"
      ]
    },
    {
      "cell_type": "code",
      "metadata": {
        "id": "7mSbXCcMRY2U",
        "colab_type": "code",
        "colab": {
          "base_uri": "https://localhost:8080/",
          "height": 101
        },
        "outputId": "b444c669-3512-4ff6-bba1-077d35fbde67"
      },
      "source": [
        "city[start:stop:1500]"
      ],
      "execution_count": 67,
      "outputs": [
        {
          "output_type": "execute_result",
          "data": {
            "text/plain": [
              "INSTNM\n",
              "Mesa Community College                            Mesa\n",
              "Hair Academy Inc-New Carrollton         New Carrollton\n",
              "National College of Natural Medicine          Portland\n",
              "Name: CITY, dtype: object"
            ]
          },
          "metadata": {
            "tags": []
          },
          "execution_count": 67
        }
      ]
    },
    {
      "cell_type": "code",
      "metadata": {
        "id": "3NNgJXD9CTa5",
        "colab_type": "code",
        "outputId": "3751afe7-e1f2-490a-81c6-8571b190411b",
        "colab": {
          "base_uri": "https://localhost:8080/",
          "height": 34
        }
      },
      "source": [
        "college.index[0]"
      ],
      "execution_count": 69,
      "outputs": [
        {
          "output_type": "execute_result",
          "data": {
            "text/plain": [
              "'Alabama A & M University'"
            ]
          },
          "metadata": {
            "tags": []
          },
          "execution_count": 69
        }
      ]
    },
    {
      "cell_type": "code",
      "metadata": {
        "id": "arK_VIWBCTa6",
        "colab_type": "code",
        "outputId": "782b50a5-174c-422e-a626-ed0b43d2119d",
        "colab": {
          "base_uri": "https://localhost:8080/",
          "height": 320
        }
      },
      "source": [
        "college['Mesa Community College':'Spokane Community College':1500]"
      ],
      "execution_count": 70,
      "outputs": [
        {
          "output_type": "execute_result",
          "data": {
            "text/html": [
              "<div>\n",
              "<style scoped>\n",
              "    .dataframe tbody tr th:only-of-type {\n",
              "        vertical-align: middle;\n",
              "    }\n",
              "\n",
              "    .dataframe tbody tr th {\n",
              "        vertical-align: top;\n",
              "    }\n",
              "\n",
              "    .dataframe thead th {\n",
              "        text-align: right;\n",
              "    }\n",
              "</style>\n",
              "<table border=\"1\" class=\"dataframe\">\n",
              "  <thead>\n",
              "    <tr style=\"text-align: right;\">\n",
              "      <th></th>\n",
              "      <th>CITY</th>\n",
              "      <th>STABBR</th>\n",
              "      <th>HBCU</th>\n",
              "      <th>MENONLY</th>\n",
              "      <th>WOMENONLY</th>\n",
              "      <th>RELAFFIL</th>\n",
              "      <th>SATVRMID</th>\n",
              "      <th>SATMTMID</th>\n",
              "      <th>DISTANCEONLY</th>\n",
              "      <th>UGDS</th>\n",
              "      <th>UGDS_WHITE</th>\n",
              "      <th>UGDS_BLACK</th>\n",
              "      <th>UGDS_HISP</th>\n",
              "      <th>UGDS_ASIAN</th>\n",
              "      <th>UGDS_AIAN</th>\n",
              "      <th>UGDS_NHPI</th>\n",
              "      <th>UGDS_2MOR</th>\n",
              "      <th>UGDS_NRA</th>\n",
              "      <th>UGDS_UNKN</th>\n",
              "      <th>PPTUG_EF</th>\n",
              "      <th>CURROPER</th>\n",
              "      <th>PCTPELL</th>\n",
              "      <th>PCTFLOAN</th>\n",
              "      <th>UG25ABV</th>\n",
              "      <th>MD_EARN_WNE_P10</th>\n",
              "      <th>GRAD_DEBT_MDN_SUPP</th>\n",
              "    </tr>\n",
              "    <tr>\n",
              "      <th>INSTNM</th>\n",
              "      <th></th>\n",
              "      <th></th>\n",
              "      <th></th>\n",
              "      <th></th>\n",
              "      <th></th>\n",
              "      <th></th>\n",
              "      <th></th>\n",
              "      <th></th>\n",
              "      <th></th>\n",
              "      <th></th>\n",
              "      <th></th>\n",
              "      <th></th>\n",
              "      <th></th>\n",
              "      <th></th>\n",
              "      <th></th>\n",
              "      <th></th>\n",
              "      <th></th>\n",
              "      <th></th>\n",
              "      <th></th>\n",
              "      <th></th>\n",
              "      <th></th>\n",
              "      <th></th>\n",
              "      <th></th>\n",
              "      <th></th>\n",
              "      <th></th>\n",
              "      <th></th>\n",
              "    </tr>\n",
              "  </thead>\n",
              "  <tbody>\n",
              "    <tr>\n",
              "      <th>Mesa Community College</th>\n",
              "      <td>Mesa</td>\n",
              "      <td>AZ</td>\n",
              "      <td>0.0</td>\n",
              "      <td>0.0</td>\n",
              "      <td>0.0</td>\n",
              "      <td>0</td>\n",
              "      <td>NaN</td>\n",
              "      <td>NaN</td>\n",
              "      <td>0.0</td>\n",
              "      <td>19055.0</td>\n",
              "      <td>0.5002</td>\n",
              "      <td>0.0661</td>\n",
              "      <td>0.2354</td>\n",
              "      <td>0.039</td>\n",
              "      <td>0.0403</td>\n",
              "      <td>0.0046</td>\n",
              "      <td>0.0205</td>\n",
              "      <td>0.0257</td>\n",
              "      <td>0.0682</td>\n",
              "      <td>0.6457</td>\n",
              "      <td>1</td>\n",
              "      <td>0.3423</td>\n",
              "      <td>0.2207</td>\n",
              "      <td>0.4010</td>\n",
              "      <td>35200</td>\n",
              "      <td>8000</td>\n",
              "    </tr>\n",
              "    <tr>\n",
              "      <th>Hair Academy Inc-New Carrollton</th>\n",
              "      <td>New Carrollton</td>\n",
              "      <td>MD</td>\n",
              "      <td>0.0</td>\n",
              "      <td>0.0</td>\n",
              "      <td>0.0</td>\n",
              "      <td>0</td>\n",
              "      <td>NaN</td>\n",
              "      <td>NaN</td>\n",
              "      <td>0.0</td>\n",
              "      <td>504.0</td>\n",
              "      <td>0.0000</td>\n",
              "      <td>0.9940</td>\n",
              "      <td>0.0040</td>\n",
              "      <td>0.000</td>\n",
              "      <td>0.0020</td>\n",
              "      <td>0.0000</td>\n",
              "      <td>0.0000</td>\n",
              "      <td>0.0000</td>\n",
              "      <td>0.0000</td>\n",
              "      <td>0.4683</td>\n",
              "      <td>1</td>\n",
              "      <td>0.9756</td>\n",
              "      <td>1.0000</td>\n",
              "      <td>0.5882</td>\n",
              "      <td>15200</td>\n",
              "      <td>9666</td>\n",
              "    </tr>\n",
              "    <tr>\n",
              "      <th>National College of Natural Medicine</th>\n",
              "      <td>Portland</td>\n",
              "      <td>OR</td>\n",
              "      <td>0.0</td>\n",
              "      <td>0.0</td>\n",
              "      <td>0.0</td>\n",
              "      <td>0</td>\n",
              "      <td>NaN</td>\n",
              "      <td>NaN</td>\n",
              "      <td>0.0</td>\n",
              "      <td>NaN</td>\n",
              "      <td>NaN</td>\n",
              "      <td>NaN</td>\n",
              "      <td>NaN</td>\n",
              "      <td>NaN</td>\n",
              "      <td>NaN</td>\n",
              "      <td>NaN</td>\n",
              "      <td>NaN</td>\n",
              "      <td>NaN</td>\n",
              "      <td>NaN</td>\n",
              "      <td>NaN</td>\n",
              "      <td>1</td>\n",
              "      <td>NaN</td>\n",
              "      <td>NaN</td>\n",
              "      <td>NaN</td>\n",
              "      <td>NaN</td>\n",
              "      <td>PrivacySuppressed</td>\n",
              "    </tr>\n",
              "  </tbody>\n",
              "</table>\n",
              "</div>"
            ],
            "text/plain": [
              "                                                CITY  ... GRAD_DEBT_MDN_SUPP\n",
              "INSTNM                                                ...                   \n",
              "Mesa Community College                          Mesa  ...               8000\n",
              "Hair Academy Inc-New Carrollton       New Carrollton  ...               9666\n",
              "National College of Natural Medicine        Portland  ...  PrivacySuppressed\n",
              "\n",
              "[3 rows x 26 columns]"
            ]
          },
          "metadata": {
            "tags": []
          },
          "execution_count": 70
        }
      ]
    },
    {
      "cell_type": "code",
      "metadata": {
        "id": "OfDaIlzLCTa9",
        "colab_type": "code",
        "outputId": "e80cb1e6-445b-4974-e6dd-6919f073435c",
        "colab": {
          "base_uri": "https://localhost:8080/",
          "height": 101
        }
      },
      "source": [
        "city['Mesa Community College':'Spokane Community College':1500]"
      ],
      "execution_count": 71,
      "outputs": [
        {
          "output_type": "execute_result",
          "data": {
            "text/plain": [
              "INSTNM\n",
              "Mesa Community College                            Mesa\n",
              "Hair Academy Inc-New Carrollton         New Carrollton\n",
              "National College of Natural Medicine          Portland\n",
              "Name: CITY, dtype: object"
            ]
          },
          "metadata": {
            "tags": []
          },
          "execution_count": 71
        }
      ]
    },
    {
      "cell_type": "markdown",
      "metadata": {
        "id": "3t40NoArCTbA",
        "colab_type": "text"
      },
      "source": [
        "## There's more..."
      ]
    },
    {
      "cell_type": "markdown",
      "metadata": {
        "id": "NcGg8NFNS5pG",
        "colab_type": "text"
      },
      "source": [
        "There's more...\n",
        "It is important to be aware that this lazy slicing does not work for columns, just for DataFrame rows and Series.It also cannot be used to select both rows and columns simultaneously. Take, for instance, the following code, which attempts to select the first ten rows and two columns:\n",
        "\n"
      ]
    },
    {
      "cell_type": "code",
      "metadata": {
        "id": "-UKDU03jCTbA",
        "colab_type": "code",
        "outputId": "6349dcbc-6202-4e13-f720-6b12c4464235",
        "colab": {
          "base_uri": "https://localhost:8080/",
          "height": 370
        }
      },
      "source": [
        "# college[:10, ['CITY', 'STABBR']]\n",
        "\n",
        "# Raises a TypeError"
      ],
      "execution_count": 72,
      "outputs": [
        {
          "output_type": "error",
          "ename": "TypeError",
          "evalue": "ignored",
          "traceback": [
            "\u001b[0;31m---------------------------------------------------------------------------\u001b[0m",
            "\u001b[0;31mTypeError\u001b[0m                                 Traceback (most recent call last)",
            "\u001b[0;32m<ipython-input-72-9bae0a227907>\u001b[0m in \u001b[0;36m<module>\u001b[0;34m()\u001b[0m\n\u001b[0;32m----> 1\u001b[0;31m \u001b[0mcollege\u001b[0m\u001b[0;34m[\u001b[0m\u001b[0;34m:\u001b[0m\u001b[0;36m10\u001b[0m\u001b[0;34m,\u001b[0m \u001b[0;34m[\u001b[0m\u001b[0;34m'CITY'\u001b[0m\u001b[0;34m,\u001b[0m \u001b[0;34m'STABBR'\u001b[0m\u001b[0;34m]\u001b[0m\u001b[0;34m]\u001b[0m\u001b[0;34m\u001b[0m\u001b[0;34m\u001b[0m\u001b[0m\n\u001b[0m",
            "\u001b[0;32m/usr/local/lib/python3.6/dist-packages/pandas/core/frame.py\u001b[0m in \u001b[0;36m__getitem__\u001b[0;34m(self, key)\u001b[0m\n\u001b[1;32m   2925\u001b[0m             \u001b[0;32mif\u001b[0m \u001b[0mself\u001b[0m\u001b[0;34m.\u001b[0m\u001b[0mcolumns\u001b[0m\u001b[0;34m.\u001b[0m\u001b[0mnlevels\u001b[0m \u001b[0;34m>\u001b[0m \u001b[0;36m1\u001b[0m\u001b[0;34m:\u001b[0m\u001b[0;34m\u001b[0m\u001b[0;34m\u001b[0m\u001b[0m\n\u001b[1;32m   2926\u001b[0m                 \u001b[0;32mreturn\u001b[0m \u001b[0mself\u001b[0m\u001b[0;34m.\u001b[0m\u001b[0m_getitem_multilevel\u001b[0m\u001b[0;34m(\u001b[0m\u001b[0mkey\u001b[0m\u001b[0;34m)\u001b[0m\u001b[0;34m\u001b[0m\u001b[0;34m\u001b[0m\u001b[0m\n\u001b[0;32m-> 2927\u001b[0;31m             \u001b[0mindexer\u001b[0m \u001b[0;34m=\u001b[0m \u001b[0mself\u001b[0m\u001b[0;34m.\u001b[0m\u001b[0mcolumns\u001b[0m\u001b[0;34m.\u001b[0m\u001b[0mget_loc\u001b[0m\u001b[0;34m(\u001b[0m\u001b[0mkey\u001b[0m\u001b[0;34m)\u001b[0m\u001b[0;34m\u001b[0m\u001b[0;34m\u001b[0m\u001b[0m\n\u001b[0m\u001b[1;32m   2928\u001b[0m             \u001b[0;32mif\u001b[0m \u001b[0mis_integer\u001b[0m\u001b[0;34m(\u001b[0m\u001b[0mindexer\u001b[0m\u001b[0;34m)\u001b[0m\u001b[0;34m:\u001b[0m\u001b[0;34m\u001b[0m\u001b[0;34m\u001b[0m\u001b[0m\n\u001b[1;32m   2929\u001b[0m                 \u001b[0mindexer\u001b[0m \u001b[0;34m=\u001b[0m \u001b[0;34m[\u001b[0m\u001b[0mindexer\u001b[0m\u001b[0;34m]\u001b[0m\u001b[0;34m\u001b[0m\u001b[0;34m\u001b[0m\u001b[0m\n",
            "\u001b[0;32m/usr/local/lib/python3.6/dist-packages/pandas/core/indexes/base.py\u001b[0m in \u001b[0;36mget_loc\u001b[0;34m(self, key, method, tolerance)\u001b[0m\n\u001b[1;32m   2655\u001b[0m                                  'backfill or nearest lookups')\n\u001b[1;32m   2656\u001b[0m             \u001b[0;32mtry\u001b[0m\u001b[0;34m:\u001b[0m\u001b[0;34m\u001b[0m\u001b[0;34m\u001b[0m\u001b[0m\n\u001b[0;32m-> 2657\u001b[0;31m                 \u001b[0;32mreturn\u001b[0m \u001b[0mself\u001b[0m\u001b[0;34m.\u001b[0m\u001b[0m_engine\u001b[0m\u001b[0;34m.\u001b[0m\u001b[0mget_loc\u001b[0m\u001b[0;34m(\u001b[0m\u001b[0mkey\u001b[0m\u001b[0;34m)\u001b[0m\u001b[0;34m\u001b[0m\u001b[0;34m\u001b[0m\u001b[0m\n\u001b[0m\u001b[1;32m   2658\u001b[0m             \u001b[0;32mexcept\u001b[0m \u001b[0mKeyError\u001b[0m\u001b[0;34m:\u001b[0m\u001b[0;34m\u001b[0m\u001b[0;34m\u001b[0m\u001b[0m\n\u001b[1;32m   2659\u001b[0m                 \u001b[0;32mreturn\u001b[0m \u001b[0mself\u001b[0m\u001b[0;34m.\u001b[0m\u001b[0m_engine\u001b[0m\u001b[0;34m.\u001b[0m\u001b[0mget_loc\u001b[0m\u001b[0;34m(\u001b[0m\u001b[0mself\u001b[0m\u001b[0;34m.\u001b[0m\u001b[0m_maybe_cast_indexer\u001b[0m\u001b[0;34m(\u001b[0m\u001b[0mkey\u001b[0m\u001b[0;34m)\u001b[0m\u001b[0;34m)\u001b[0m\u001b[0;34m\u001b[0m\u001b[0;34m\u001b[0m\u001b[0m\n",
            "\u001b[0;32mpandas/_libs/index.pyx\u001b[0m in \u001b[0;36mpandas._libs.index.IndexEngine.get_loc\u001b[0;34m()\u001b[0m\n",
            "\u001b[0;32mpandas/_libs/index.pyx\u001b[0m in \u001b[0;36mpandas._libs.index.IndexEngine.get_loc\u001b[0;34m()\u001b[0m\n",
            "\u001b[0;31mTypeError\u001b[0m: '(slice(None, 10, None), ['CITY', 'STABBR'])' is an invalid key"
          ]
        }
      ]
    },
    {
      "cell_type": "markdown",
      "metadata": {
        "id": "MHjDhm8OTKlc",
        "colab_type": "text"
      },
      "source": [
        "To make a selection in this manner, you need to use .loc or .iloc. Here is one possible way that selects all the institution labels first and then uses the label-based indexer .loc:\n",
        "\n"
      ]
    },
    {
      "cell_type": "code",
      "metadata": {
        "id": "NxY28eVSCTbC",
        "colab_type": "code",
        "outputId": "597a6230-8dc2-47ff-94b9-40b300f5d99b",
        "colab": {
          "base_uri": "https://localhost:8080/",
          "height": 313
        }
      },
      "source": [
        "first_ten_instnm = college.index[:10]\n",
        "college.loc[first_ten_instnm, ['CITY', 'STABBR']]"
      ],
      "execution_count": 74,
      "outputs": [
        {
          "output_type": "execute_result",
          "data": {
            "text/html": [
              "<div>\n",
              "<style scoped>\n",
              "    .dataframe tbody tr th:only-of-type {\n",
              "        vertical-align: middle;\n",
              "    }\n",
              "\n",
              "    .dataframe tbody tr th {\n",
              "        vertical-align: top;\n",
              "    }\n",
              "\n",
              "    .dataframe thead th {\n",
              "        text-align: right;\n",
              "    }\n",
              "</style>\n",
              "<table border=\"1\" class=\"dataframe\">\n",
              "  <thead>\n",
              "    <tr style=\"text-align: right;\">\n",
              "      <th></th>\n",
              "      <th>CITY</th>\n",
              "      <th>STABBR</th>\n",
              "    </tr>\n",
              "    <tr>\n",
              "      <th>INSTNM</th>\n",
              "      <th></th>\n",
              "      <th></th>\n",
              "    </tr>\n",
              "  </thead>\n",
              "  <tbody>\n",
              "    <tr>\n",
              "      <th>Alabama A &amp; M University</th>\n",
              "      <td>Normal</td>\n",
              "      <td>AL</td>\n",
              "    </tr>\n",
              "    <tr>\n",
              "      <th>University of Alabama at Birmingham</th>\n",
              "      <td>Birmingham</td>\n",
              "      <td>AL</td>\n",
              "    </tr>\n",
              "    <tr>\n",
              "      <th>Amridge University</th>\n",
              "      <td>Montgomery</td>\n",
              "      <td>AL</td>\n",
              "    </tr>\n",
              "    <tr>\n",
              "      <th>...</th>\n",
              "      <td>...</td>\n",
              "      <td>...</td>\n",
              "    </tr>\n",
              "    <tr>\n",
              "      <th>Athens State University</th>\n",
              "      <td>Athens</td>\n",
              "      <td>AL</td>\n",
              "    </tr>\n",
              "    <tr>\n",
              "      <th>Auburn University at Montgomery</th>\n",
              "      <td>Montgomery</td>\n",
              "      <td>AL</td>\n",
              "    </tr>\n",
              "    <tr>\n",
              "      <th>Auburn University</th>\n",
              "      <td>Auburn</td>\n",
              "      <td>AL</td>\n",
              "    </tr>\n",
              "  </tbody>\n",
              "</table>\n",
              "<p>10 rows × 2 columns</p>\n",
              "</div>"
            ],
            "text/plain": [
              "                                           CITY STABBR\n",
              "INSTNM                                                \n",
              "Alabama A & M University                 Normal     AL\n",
              "University of Alabama at Birmingham  Birmingham     AL\n",
              "Amridge University                   Montgomery     AL\n",
              "...                                         ...    ...\n",
              "Athens State University                  Athens     AL\n",
              "Auburn University at Montgomery      Montgomery     AL\n",
              "Auburn University                        Auburn     AL\n",
              "\n",
              "[10 rows x 2 columns]"
            ]
          },
          "metadata": {
            "tags": []
          },
          "execution_count": 74
        }
      ]
    },
    {
      "cell_type": "markdown",
      "metadata": {
        "id": "XT4EDlYdCTbE",
        "colab_type": "text"
      },
      "source": [
        "# Slicing Lexicographically\n",
        "\n",
        "Slicing lexicographically\n",
        "The .loc indexer typically selects data based on the exact string label of the index. However, it also allows you to select data based on the lexicographic order of the values in the index. Specifically, .loc allows you to select all rows with an index lexicographically using slice notation. This works only if the index is sorted."
      ]
    },
    {
      "cell_type": "markdown",
      "metadata": {
        "id": "2mcDx_vCTlC1",
        "colab_type": "text"
      },
      "source": [
        "##Getting ready\n",
        "In this recipe, you will first sort the index and then use slice notation inside the .loc indexer to select all rows between two strings."
      ]
    },
    {
      "cell_type": "markdown",
      "metadata": {
        "id": "Rw7y30fNTsK-",
        "colab_type": "text"
      },
      "source": [
        "Step1: Read in the college dataset, and set the institution name as the index:\n"
      ]
    },
    {
      "cell_type": "code",
      "metadata": {
        "id": "ug26SytsCTbF",
        "colab_type": "code",
        "colab": {}
      },
      "source": [
        "college = pd.read_csv('https://raw.githubusercontent.com/Blackman9t/PandasCookbook/master/college.csv', index_col='INSTNM')\n"
      ],
      "execution_count": 0,
      "outputs": []
    },
    {
      "cell_type": "markdown",
      "metadata": {
        "id": "J5ZiMGCOUGOC",
        "colab_type": "text"
      },
      "source": [
        "Step2; Attempt to select all colleges with names lexicographically between 'Sp' and 'Su':\n"
      ]
    },
    {
      "cell_type": "code",
      "metadata": {
        "id": "fDykrVC0UJJU",
        "colab_type": "code",
        "colab": {}
      },
      "source": [
        "# college.loc['Sp':'Su']\n",
        "\n",
        "# This raises both Value and KeyErrors"
      ],
      "execution_count": 0,
      "outputs": []
    },
    {
      "cell_type": "markdown",
      "metadata": {
        "id": "cKoUUqI6UcVi",
        "colab_type": "text"
      },
      "source": [
        "Step3: As the index is not sorted, the preceding command fails. Let's go ahead and sort the index:"
      ]
    },
    {
      "cell_type": "code",
      "metadata": {
        "id": "2vy00-goCTbG",
        "colab_type": "code",
        "colab": {
          "base_uri": "https://localhost:8080/",
          "height": 240
        },
        "outputId": "90a9f301-da65-4530-af04-dcd633c7c63c"
      },
      "source": [
        "college = college.sort_index()\n",
        "\n",
        "college.head(2)"
      ],
      "execution_count": 80,
      "outputs": [
        {
          "output_type": "execute_result",
          "data": {
            "text/html": [
              "<div>\n",
              "<style scoped>\n",
              "    .dataframe tbody tr th:only-of-type {\n",
              "        vertical-align: middle;\n",
              "    }\n",
              "\n",
              "    .dataframe tbody tr th {\n",
              "        vertical-align: top;\n",
              "    }\n",
              "\n",
              "    .dataframe thead th {\n",
              "        text-align: right;\n",
              "    }\n",
              "</style>\n",
              "<table border=\"1\" class=\"dataframe\">\n",
              "  <thead>\n",
              "    <tr style=\"text-align: right;\">\n",
              "      <th></th>\n",
              "      <th>CITY</th>\n",
              "      <th>STABBR</th>\n",
              "      <th>HBCU</th>\n",
              "      <th>MENONLY</th>\n",
              "      <th>WOMENONLY</th>\n",
              "      <th>RELAFFIL</th>\n",
              "      <th>SATVRMID</th>\n",
              "      <th>SATMTMID</th>\n",
              "      <th>DISTANCEONLY</th>\n",
              "      <th>UGDS</th>\n",
              "      <th>UGDS_WHITE</th>\n",
              "      <th>UGDS_BLACK</th>\n",
              "      <th>UGDS_HISP</th>\n",
              "      <th>UGDS_ASIAN</th>\n",
              "      <th>UGDS_AIAN</th>\n",
              "      <th>UGDS_NHPI</th>\n",
              "      <th>UGDS_2MOR</th>\n",
              "      <th>UGDS_NRA</th>\n",
              "      <th>UGDS_UNKN</th>\n",
              "      <th>PPTUG_EF</th>\n",
              "      <th>CURROPER</th>\n",
              "      <th>PCTPELL</th>\n",
              "      <th>PCTFLOAN</th>\n",
              "      <th>UG25ABV</th>\n",
              "      <th>MD_EARN_WNE_P10</th>\n",
              "      <th>GRAD_DEBT_MDN_SUPP</th>\n",
              "    </tr>\n",
              "    <tr>\n",
              "      <th>INSTNM</th>\n",
              "      <th></th>\n",
              "      <th></th>\n",
              "      <th></th>\n",
              "      <th></th>\n",
              "      <th></th>\n",
              "      <th></th>\n",
              "      <th></th>\n",
              "      <th></th>\n",
              "      <th></th>\n",
              "      <th></th>\n",
              "      <th></th>\n",
              "      <th></th>\n",
              "      <th></th>\n",
              "      <th></th>\n",
              "      <th></th>\n",
              "      <th></th>\n",
              "      <th></th>\n",
              "      <th></th>\n",
              "      <th></th>\n",
              "      <th></th>\n",
              "      <th></th>\n",
              "      <th></th>\n",
              "      <th></th>\n",
              "      <th></th>\n",
              "      <th></th>\n",
              "      <th></th>\n",
              "    </tr>\n",
              "  </thead>\n",
              "  <tbody>\n",
              "    <tr>\n",
              "      <th>A &amp; W Healthcare Educators</th>\n",
              "      <td>New Orleans</td>\n",
              "      <td>LA</td>\n",
              "      <td>0.0</td>\n",
              "      <td>0.0</td>\n",
              "      <td>0.0</td>\n",
              "      <td>0</td>\n",
              "      <td>NaN</td>\n",
              "      <td>NaN</td>\n",
              "      <td>0.0</td>\n",
              "      <td>40.0</td>\n",
              "      <td>0.0</td>\n",
              "      <td>0.975</td>\n",
              "      <td>0.025</td>\n",
              "      <td>0.0</td>\n",
              "      <td>0.0</td>\n",
              "      <td>0.0</td>\n",
              "      <td>0.0</td>\n",
              "      <td>0.0</td>\n",
              "      <td>0.0</td>\n",
              "      <td>0.125</td>\n",
              "      <td>1</td>\n",
              "      <td>0.7018</td>\n",
              "      <td>0.8596</td>\n",
              "      <td>0.6667</td>\n",
              "      <td>NaN</td>\n",
              "      <td>19022.5</td>\n",
              "    </tr>\n",
              "    <tr>\n",
              "      <th>A T Still University of Health Sciences</th>\n",
              "      <td>Kirksville</td>\n",
              "      <td>MO</td>\n",
              "      <td>0.0</td>\n",
              "      <td>0.0</td>\n",
              "      <td>0.0</td>\n",
              "      <td>0</td>\n",
              "      <td>NaN</td>\n",
              "      <td>NaN</td>\n",
              "      <td>0.0</td>\n",
              "      <td>NaN</td>\n",
              "      <td>NaN</td>\n",
              "      <td>NaN</td>\n",
              "      <td>NaN</td>\n",
              "      <td>NaN</td>\n",
              "      <td>NaN</td>\n",
              "      <td>NaN</td>\n",
              "      <td>NaN</td>\n",
              "      <td>NaN</td>\n",
              "      <td>NaN</td>\n",
              "      <td>NaN</td>\n",
              "      <td>1</td>\n",
              "      <td>NaN</td>\n",
              "      <td>NaN</td>\n",
              "      <td>NaN</td>\n",
              "      <td>219800</td>\n",
              "      <td>PrivacySuppressed</td>\n",
              "    </tr>\n",
              "  </tbody>\n",
              "</table>\n",
              "</div>"
            ],
            "text/plain": [
              "                                                CITY  ... GRAD_DEBT_MDN_SUPP\n",
              "INSTNM                                                ...                   \n",
              "A & W Healthcare Educators               New Orleans  ...            19022.5\n",
              "A T Still University of Health Sciences   Kirksville  ...  PrivacySuppressed\n",
              "\n",
              "[2 rows x 26 columns]"
            ]
          },
          "metadata": {
            "tags": []
          },
          "execution_count": 80
        }
      ]
    },
    {
      "cell_type": "markdown",
      "metadata": {
        "id": "bpS6cBV6Uvf6",
        "colab_type": "text"
      },
      "source": [
        "Step4: Now, let's rerun the same command from step 2:"
      ]
    },
    {
      "cell_type": "code",
      "metadata": {
        "id": "gUTaaQNPCTbJ",
        "colab_type": "code",
        "colab": {}
      },
      "source": [
        "pd.options.display.max_rows = 10"
      ],
      "execution_count": 0,
      "outputs": []
    },
    {
      "cell_type": "code",
      "metadata": {
        "id": "rhwqa_1ZCTbL",
        "colab_type": "code",
        "outputId": "fb24b69b-3de2-4509-b31f-53d499d7c9fb",
        "colab": {
          "base_uri": "https://localhost:8080/",
          "height": 787
        }
      },
      "source": [
        "college.loc['Sp':'Su']"
      ],
      "execution_count": 82,
      "outputs": [
        {
          "output_type": "execute_result",
          "data": {
            "text/html": [
              "<div>\n",
              "<style scoped>\n",
              "    .dataframe tbody tr th:only-of-type {\n",
              "        vertical-align: middle;\n",
              "    }\n",
              "\n",
              "    .dataframe tbody tr th {\n",
              "        vertical-align: top;\n",
              "    }\n",
              "\n",
              "    .dataframe thead th {\n",
              "        text-align: right;\n",
              "    }\n",
              "</style>\n",
              "<table border=\"1\" class=\"dataframe\">\n",
              "  <thead>\n",
              "    <tr style=\"text-align: right;\">\n",
              "      <th></th>\n",
              "      <th>CITY</th>\n",
              "      <th>STABBR</th>\n",
              "      <th>HBCU</th>\n",
              "      <th>MENONLY</th>\n",
              "      <th>WOMENONLY</th>\n",
              "      <th>RELAFFIL</th>\n",
              "      <th>SATVRMID</th>\n",
              "      <th>SATMTMID</th>\n",
              "      <th>DISTANCEONLY</th>\n",
              "      <th>UGDS</th>\n",
              "      <th>UGDS_WHITE</th>\n",
              "      <th>UGDS_BLACK</th>\n",
              "      <th>UGDS_HISP</th>\n",
              "      <th>UGDS_ASIAN</th>\n",
              "      <th>UGDS_AIAN</th>\n",
              "      <th>UGDS_NHPI</th>\n",
              "      <th>UGDS_2MOR</th>\n",
              "      <th>UGDS_NRA</th>\n",
              "      <th>UGDS_UNKN</th>\n",
              "      <th>PPTUG_EF</th>\n",
              "      <th>CURROPER</th>\n",
              "      <th>PCTPELL</th>\n",
              "      <th>PCTFLOAN</th>\n",
              "      <th>UG25ABV</th>\n",
              "      <th>MD_EARN_WNE_P10</th>\n",
              "      <th>GRAD_DEBT_MDN_SUPP</th>\n",
              "    </tr>\n",
              "    <tr>\n",
              "      <th>INSTNM</th>\n",
              "      <th></th>\n",
              "      <th></th>\n",
              "      <th></th>\n",
              "      <th></th>\n",
              "      <th></th>\n",
              "      <th></th>\n",
              "      <th></th>\n",
              "      <th></th>\n",
              "      <th></th>\n",
              "      <th></th>\n",
              "      <th></th>\n",
              "      <th></th>\n",
              "      <th></th>\n",
              "      <th></th>\n",
              "      <th></th>\n",
              "      <th></th>\n",
              "      <th></th>\n",
              "      <th></th>\n",
              "      <th></th>\n",
              "      <th></th>\n",
              "      <th></th>\n",
              "      <th></th>\n",
              "      <th></th>\n",
              "      <th></th>\n",
              "      <th></th>\n",
              "      <th></th>\n",
              "    </tr>\n",
              "  </thead>\n",
              "  <tbody>\n",
              "    <tr>\n",
              "      <th>Spa Tech Institute-Ipswich</th>\n",
              "      <td>Ipswich</td>\n",
              "      <td>MA</td>\n",
              "      <td>0.0</td>\n",
              "      <td>0.0</td>\n",
              "      <td>0.0</td>\n",
              "      <td>0</td>\n",
              "      <td>NaN</td>\n",
              "      <td>NaN</td>\n",
              "      <td>0.0</td>\n",
              "      <td>37.0</td>\n",
              "      <td>0.9459</td>\n",
              "      <td>0.0000</td>\n",
              "      <td>0.0000</td>\n",
              "      <td>0.0000</td>\n",
              "      <td>0.0000</td>\n",
              "      <td>0.0000</td>\n",
              "      <td>0.0000</td>\n",
              "      <td>0.0000</td>\n",
              "      <td>0.0541</td>\n",
              "      <td>0.4054</td>\n",
              "      <td>1</td>\n",
              "      <td>0.2656</td>\n",
              "      <td>0.3906</td>\n",
              "      <td>0.7907</td>\n",
              "      <td>21500</td>\n",
              "      <td>6333</td>\n",
              "    </tr>\n",
              "    <tr>\n",
              "      <th>Spa Tech Institute-Plymouth</th>\n",
              "      <td>Plymouth</td>\n",
              "      <td>MA</td>\n",
              "      <td>0.0</td>\n",
              "      <td>0.0</td>\n",
              "      <td>0.0</td>\n",
              "      <td>0</td>\n",
              "      <td>NaN</td>\n",
              "      <td>NaN</td>\n",
              "      <td>0.0</td>\n",
              "      <td>153.0</td>\n",
              "      <td>0.7124</td>\n",
              "      <td>0.0131</td>\n",
              "      <td>0.0196</td>\n",
              "      <td>0.0065</td>\n",
              "      <td>0.0000</td>\n",
              "      <td>0.0000</td>\n",
              "      <td>0.0000</td>\n",
              "      <td>0.0000</td>\n",
              "      <td>0.2484</td>\n",
              "      <td>0.3399</td>\n",
              "      <td>1</td>\n",
              "      <td>0.3716</td>\n",
              "      <td>0.4266</td>\n",
              "      <td>0.6250</td>\n",
              "      <td>21500</td>\n",
              "      <td>6333</td>\n",
              "    </tr>\n",
              "    <tr>\n",
              "      <th>Spa Tech Institute-Westboro</th>\n",
              "      <td>Westboro</td>\n",
              "      <td>MA</td>\n",
              "      <td>0.0</td>\n",
              "      <td>0.0</td>\n",
              "      <td>0.0</td>\n",
              "      <td>0</td>\n",
              "      <td>NaN</td>\n",
              "      <td>NaN</td>\n",
              "      <td>0.0</td>\n",
              "      <td>90.0</td>\n",
              "      <td>0.8222</td>\n",
              "      <td>0.0333</td>\n",
              "      <td>0.1000</td>\n",
              "      <td>0.0222</td>\n",
              "      <td>0.0000</td>\n",
              "      <td>0.0000</td>\n",
              "      <td>0.0000</td>\n",
              "      <td>0.0000</td>\n",
              "      <td>0.0222</td>\n",
              "      <td>0.5778</td>\n",
              "      <td>1</td>\n",
              "      <td>0.3409</td>\n",
              "      <td>0.4545</td>\n",
              "      <td>0.6882</td>\n",
              "      <td>21500</td>\n",
              "      <td>6333</td>\n",
              "    </tr>\n",
              "    <tr>\n",
              "      <th>Spa Tech Institute-Westbrook</th>\n",
              "      <td>Westbrook</td>\n",
              "      <td>ME</td>\n",
              "      <td>0.0</td>\n",
              "      <td>0.0</td>\n",
              "      <td>0.0</td>\n",
              "      <td>0</td>\n",
              "      <td>NaN</td>\n",
              "      <td>NaN</td>\n",
              "      <td>0.0</td>\n",
              "      <td>240.0</td>\n",
              "      <td>0.9417</td>\n",
              "      <td>0.0333</td>\n",
              "      <td>0.0042</td>\n",
              "      <td>0.0167</td>\n",
              "      <td>0.0000</td>\n",
              "      <td>0.0000</td>\n",
              "      <td>0.0000</td>\n",
              "      <td>0.0000</td>\n",
              "      <td>0.0042</td>\n",
              "      <td>0.2542</td>\n",
              "      <td>1</td>\n",
              "      <td>0.4350</td>\n",
              "      <td>0.5093</td>\n",
              "      <td>0.5224</td>\n",
              "      <td>21500</td>\n",
              "      <td>6333</td>\n",
              "    </tr>\n",
              "    <tr>\n",
              "      <th>Spalding University</th>\n",
              "      <td>Louisville</td>\n",
              "      <td>KY</td>\n",
              "      <td>0.0</td>\n",
              "      <td>0.0</td>\n",
              "      <td>0.0</td>\n",
              "      <td>1</td>\n",
              "      <td>490.0</td>\n",
              "      <td>440.0</td>\n",
              "      <td>0.0</td>\n",
              "      <td>1227.0</td>\n",
              "      <td>0.6650</td>\n",
              "      <td>0.2127</td>\n",
              "      <td>0.0416</td>\n",
              "      <td>0.0114</td>\n",
              "      <td>0.0024</td>\n",
              "      <td>0.0024</td>\n",
              "      <td>0.0302</td>\n",
              "      <td>0.0016</td>\n",
              "      <td>0.0326</td>\n",
              "      <td>0.2502</td>\n",
              "      <td>1</td>\n",
              "      <td>0.4442</td>\n",
              "      <td>0.6725</td>\n",
              "      <td>0.3764</td>\n",
              "      <td>41700</td>\n",
              "      <td>25000</td>\n",
              "    </tr>\n",
              "    <tr>\n",
              "      <th>...</th>\n",
              "      <td>...</td>\n",
              "      <td>...</td>\n",
              "      <td>...</td>\n",
              "      <td>...</td>\n",
              "      <td>...</td>\n",
              "      <td>...</td>\n",
              "      <td>...</td>\n",
              "      <td>...</td>\n",
              "      <td>...</td>\n",
              "      <td>...</td>\n",
              "      <td>...</td>\n",
              "      <td>...</td>\n",
              "      <td>...</td>\n",
              "      <td>...</td>\n",
              "      <td>...</td>\n",
              "      <td>...</td>\n",
              "      <td>...</td>\n",
              "      <td>...</td>\n",
              "      <td>...</td>\n",
              "      <td>...</td>\n",
              "      <td>...</td>\n",
              "      <td>...</td>\n",
              "      <td>...</td>\n",
              "      <td>...</td>\n",
              "      <td>...</td>\n",
              "      <td>...</td>\n",
              "    </tr>\n",
              "    <tr>\n",
              "      <th>Studio Academy of Beauty</th>\n",
              "      <td>Chandler</td>\n",
              "      <td>AZ</td>\n",
              "      <td>0.0</td>\n",
              "      <td>0.0</td>\n",
              "      <td>0.0</td>\n",
              "      <td>0</td>\n",
              "      <td>NaN</td>\n",
              "      <td>NaN</td>\n",
              "      <td>0.0</td>\n",
              "      <td>332.0</td>\n",
              "      <td>0.4669</td>\n",
              "      <td>0.1145</td>\n",
              "      <td>0.3283</td>\n",
              "      <td>0.0090</td>\n",
              "      <td>0.0301</td>\n",
              "      <td>0.0030</td>\n",
              "      <td>0.0392</td>\n",
              "      <td>0.0000</td>\n",
              "      <td>0.0090</td>\n",
              "      <td>0.0000</td>\n",
              "      <td>1</td>\n",
              "      <td>0.5855</td>\n",
              "      <td>0.6218</td>\n",
              "      <td>0.5675</td>\n",
              "      <td>NaN</td>\n",
              "      <td>6333</td>\n",
              "    </tr>\n",
              "    <tr>\n",
              "      <th>Studio Jewelers</th>\n",
              "      <td>New York</td>\n",
              "      <td>NY</td>\n",
              "      <td>0.0</td>\n",
              "      <td>0.0</td>\n",
              "      <td>0.0</td>\n",
              "      <td>0</td>\n",
              "      <td>NaN</td>\n",
              "      <td>NaN</td>\n",
              "      <td>0.0</td>\n",
              "      <td>55.0</td>\n",
              "      <td>0.2545</td>\n",
              "      <td>0.1091</td>\n",
              "      <td>0.2727</td>\n",
              "      <td>0.3273</td>\n",
              "      <td>0.0000</td>\n",
              "      <td>0.0000</td>\n",
              "      <td>0.0000</td>\n",
              "      <td>0.0364</td>\n",
              "      <td>0.0000</td>\n",
              "      <td>0.6000</td>\n",
              "      <td>1</td>\n",
              "      <td>0.0451</td>\n",
              "      <td>0.0902</td>\n",
              "      <td>0.8525</td>\n",
              "      <td>PrivacySuppressed</td>\n",
              "      <td>PrivacySuppressed</td>\n",
              "    </tr>\n",
              "    <tr>\n",
              "      <th>Stylemaster College of Hair Design</th>\n",
              "      <td>Longview</td>\n",
              "      <td>WA</td>\n",
              "      <td>0.0</td>\n",
              "      <td>0.0</td>\n",
              "      <td>0.0</td>\n",
              "      <td>0</td>\n",
              "      <td>NaN</td>\n",
              "      <td>NaN</td>\n",
              "      <td>0.0</td>\n",
              "      <td>77.0</td>\n",
              "      <td>0.9481</td>\n",
              "      <td>0.0130</td>\n",
              "      <td>0.0260</td>\n",
              "      <td>0.0000</td>\n",
              "      <td>0.0000</td>\n",
              "      <td>0.0000</td>\n",
              "      <td>0.0130</td>\n",
              "      <td>0.0000</td>\n",
              "      <td>0.0000</td>\n",
              "      <td>0.0000</td>\n",
              "      <td>1</td>\n",
              "      <td>0.8036</td>\n",
              "      <td>0.7024</td>\n",
              "      <td>0.4510</td>\n",
              "      <td>17000</td>\n",
              "      <td>13320</td>\n",
              "    </tr>\n",
              "    <tr>\n",
              "      <th>Styles and Profiles Beauty College</th>\n",
              "      <td>Selmer</td>\n",
              "      <td>TN</td>\n",
              "      <td>0.0</td>\n",
              "      <td>0.0</td>\n",
              "      <td>0.0</td>\n",
              "      <td>0</td>\n",
              "      <td>NaN</td>\n",
              "      <td>NaN</td>\n",
              "      <td>0.0</td>\n",
              "      <td>31.0</td>\n",
              "      <td>0.8710</td>\n",
              "      <td>0.1290</td>\n",
              "      <td>0.0000</td>\n",
              "      <td>0.0000</td>\n",
              "      <td>0.0000</td>\n",
              "      <td>0.0000</td>\n",
              "      <td>0.0000</td>\n",
              "      <td>0.0000</td>\n",
              "      <td>0.0000</td>\n",
              "      <td>0.0000</td>\n",
              "      <td>1</td>\n",
              "      <td>0.8182</td>\n",
              "      <td>0.7955</td>\n",
              "      <td>0.2400</td>\n",
              "      <td>PrivacySuppressed</td>\n",
              "      <td>PrivacySuppressed</td>\n",
              "    </tr>\n",
              "    <tr>\n",
              "      <th>Styletrends Barber and Hairstyling Academy</th>\n",
              "      <td>Rock Hill</td>\n",
              "      <td>SC</td>\n",
              "      <td>0.0</td>\n",
              "      <td>0.0</td>\n",
              "      <td>0.0</td>\n",
              "      <td>0</td>\n",
              "      <td>NaN</td>\n",
              "      <td>NaN</td>\n",
              "      <td>0.0</td>\n",
              "      <td>45.0</td>\n",
              "      <td>0.0000</td>\n",
              "      <td>1.0000</td>\n",
              "      <td>0.0000</td>\n",
              "      <td>0.0000</td>\n",
              "      <td>0.0000</td>\n",
              "      <td>0.0000</td>\n",
              "      <td>0.0000</td>\n",
              "      <td>0.0000</td>\n",
              "      <td>0.0000</td>\n",
              "      <td>0.5556</td>\n",
              "      <td>0</td>\n",
              "      <td>1.0000</td>\n",
              "      <td>1.0000</td>\n",
              "      <td>0.3529</td>\n",
              "      <td>PrivacySuppressed</td>\n",
              "      <td>9495.5</td>\n",
              "    </tr>\n",
              "  </tbody>\n",
              "</table>\n",
              "<p>201 rows × 26 columns</p>\n",
              "</div>"
            ],
            "text/plain": [
              "                                                  CITY  ... GRAD_DEBT_MDN_SUPP\n",
              "INSTNM                                                  ...                   \n",
              "Spa Tech Institute-Ipswich                     Ipswich  ...               6333\n",
              "Spa Tech Institute-Plymouth                   Plymouth  ...               6333\n",
              "Spa Tech Institute-Westboro                   Westboro  ...               6333\n",
              "Spa Tech Institute-Westbrook                 Westbrook  ...               6333\n",
              "Spalding University                         Louisville  ...              25000\n",
              "...                                                ...  ...                ...\n",
              "Studio Academy of Beauty                      Chandler  ...               6333\n",
              "Studio Jewelers                               New York  ...  PrivacySuppressed\n",
              "Stylemaster College of Hair Design            Longview  ...              13320\n",
              "Styles and Profiles Beauty College              Selmer  ...  PrivacySuppressed\n",
              "Styletrends Barber and Hairstyling Academy   Rock Hill  ...             9495.5\n",
              "\n",
              "[201 rows x 26 columns]"
            ]
          },
          "metadata": {
            "tags": []
          },
          "execution_count": 82
        }
      ]
    },
    {
      "cell_type": "markdown",
      "metadata": {
        "id": "uDtZj7QBVNwE",
        "colab_type": "text"
      },
      "source": [
        "##How it works...\n",
        "The normal behavior of .loc is to make selections of data based on the exact labels passed to it. It raises a KeyError when these labels are not found in the index. However, one special exception to this behavior exists whenever the index is lexicographically sorted, and a slice is passed to it. Selection is now possible between the start and stop labels of the slice, even if they are not exact values of the index."
      ]
    },
    {
      "cell_type": "markdown",
      "metadata": {
        "id": "elqbXYK1Vi4z",
        "colab_type": "text"
      },
      "source": [
        "##There's more...\n",
        "With this recipe, it is easy to select colleges between two letters of the alphabet. For instance, to select all colleges that begin with the letter D through S, you would use college.loc['D':'T']. Slicing like this is still inclusive of the last index so this would technically return a college with the exact name T.\n",
        "\n",
        "This type of slicing also works when the index is sorted in the opposite direction. You can determine which direction the index is sorted with the index attribute, is_monotonic_increasing or is_monotonic_decreasing. Either of these must be True in order for lexicographic slicing to work. For instance, the following code lexicographically sorts the index from Z to A:"
      ]
    },
    {
      "cell_type": "code",
      "metadata": {
        "id": "AG4NBYUnCTbN",
        "colab_type": "code",
        "outputId": "a318f18a-5e4e-4388-f27a-b51e706c0372",
        "colab": {
          "base_uri": "https://localhost:8080/",
          "height": 34
        }
      },
      "source": [
        "college = college.sort_index(ascending=False)\n",
        "college.index.is_monotonic_decreasing"
      ],
      "execution_count": 86,
      "outputs": [
        {
          "output_type": "execute_result",
          "data": {
            "text/plain": [
              "True"
            ]
          },
          "metadata": {
            "tags": []
          },
          "execution_count": 86
        }
      ]
    },
    {
      "cell_type": "code",
      "metadata": {
        "id": "5pYn3WITCTbP",
        "colab_type": "code",
        "outputId": "b08de74b-80e6-45ba-9f6c-da27c7fd6670",
        "colab": {
          "base_uri": "https://localhost:8080/",
          "height": 854
        }
      },
      "source": [
        "college.loc['E':'B']"
      ],
      "execution_count": 84,
      "outputs": [
        {
          "output_type": "execute_result",
          "data": {
            "text/html": [
              "<div>\n",
              "<style scoped>\n",
              "    .dataframe tbody tr th:only-of-type {\n",
              "        vertical-align: middle;\n",
              "    }\n",
              "\n",
              "    .dataframe tbody tr th {\n",
              "        vertical-align: top;\n",
              "    }\n",
              "\n",
              "    .dataframe thead th {\n",
              "        text-align: right;\n",
              "    }\n",
              "</style>\n",
              "<table border=\"1\" class=\"dataframe\">\n",
              "  <thead>\n",
              "    <tr style=\"text-align: right;\">\n",
              "      <th></th>\n",
              "      <th>CITY</th>\n",
              "      <th>STABBR</th>\n",
              "      <th>HBCU</th>\n",
              "      <th>MENONLY</th>\n",
              "      <th>WOMENONLY</th>\n",
              "      <th>RELAFFIL</th>\n",
              "      <th>SATVRMID</th>\n",
              "      <th>SATMTMID</th>\n",
              "      <th>DISTANCEONLY</th>\n",
              "      <th>UGDS</th>\n",
              "      <th>UGDS_WHITE</th>\n",
              "      <th>UGDS_BLACK</th>\n",
              "      <th>UGDS_HISP</th>\n",
              "      <th>UGDS_ASIAN</th>\n",
              "      <th>UGDS_AIAN</th>\n",
              "      <th>UGDS_NHPI</th>\n",
              "      <th>UGDS_2MOR</th>\n",
              "      <th>UGDS_NRA</th>\n",
              "      <th>UGDS_UNKN</th>\n",
              "      <th>PPTUG_EF</th>\n",
              "      <th>CURROPER</th>\n",
              "      <th>PCTPELL</th>\n",
              "      <th>PCTFLOAN</th>\n",
              "      <th>UG25ABV</th>\n",
              "      <th>MD_EARN_WNE_P10</th>\n",
              "      <th>GRAD_DEBT_MDN_SUPP</th>\n",
              "    </tr>\n",
              "    <tr>\n",
              "      <th>INSTNM</th>\n",
              "      <th></th>\n",
              "      <th></th>\n",
              "      <th></th>\n",
              "      <th></th>\n",
              "      <th></th>\n",
              "      <th></th>\n",
              "      <th></th>\n",
              "      <th></th>\n",
              "      <th></th>\n",
              "      <th></th>\n",
              "      <th></th>\n",
              "      <th></th>\n",
              "      <th></th>\n",
              "      <th></th>\n",
              "      <th></th>\n",
              "      <th></th>\n",
              "      <th></th>\n",
              "      <th></th>\n",
              "      <th></th>\n",
              "      <th></th>\n",
              "      <th></th>\n",
              "      <th></th>\n",
              "      <th></th>\n",
              "      <th></th>\n",
              "      <th></th>\n",
              "      <th></th>\n",
              "    </tr>\n",
              "  </thead>\n",
              "  <tbody>\n",
              "    <tr>\n",
              "      <th>Dyersburg State Community College</th>\n",
              "      <td>Dyersburg</td>\n",
              "      <td>TN</td>\n",
              "      <td>0.0</td>\n",
              "      <td>0.0</td>\n",
              "      <td>0.0</td>\n",
              "      <td>0</td>\n",
              "      <td>NaN</td>\n",
              "      <td>NaN</td>\n",
              "      <td>0.0</td>\n",
              "      <td>2001.0</td>\n",
              "      <td>0.7266</td>\n",
              "      <td>0.2139</td>\n",
              "      <td>0.0240</td>\n",
              "      <td>0.0040</td>\n",
              "      <td>0.0035</td>\n",
              "      <td>0.0000</td>\n",
              "      <td>0.0185</td>\n",
              "      <td>0.0010</td>\n",
              "      <td>0.0085</td>\n",
              "      <td>0.4423</td>\n",
              "      <td>1</td>\n",
              "      <td>0.4921</td>\n",
              "      <td>0.2493</td>\n",
              "      <td>0.3097</td>\n",
              "      <td>26800</td>\n",
              "      <td>7475</td>\n",
              "    </tr>\n",
              "    <tr>\n",
              "      <th>Dutchess Community College</th>\n",
              "      <td>Poughkeepsie</td>\n",
              "      <td>NY</td>\n",
              "      <td>0.0</td>\n",
              "      <td>0.0</td>\n",
              "      <td>0.0</td>\n",
              "      <td>0</td>\n",
              "      <td>NaN</td>\n",
              "      <td>NaN</td>\n",
              "      <td>0.0</td>\n",
              "      <td>6885.0</td>\n",
              "      <td>0.6003</td>\n",
              "      <td>0.1361</td>\n",
              "      <td>0.1801</td>\n",
              "      <td>0.0182</td>\n",
              "      <td>0.0022</td>\n",
              "      <td>0.0007</td>\n",
              "      <td>0.0446</td>\n",
              "      <td>0.0129</td>\n",
              "      <td>0.0049</td>\n",
              "      <td>0.3312</td>\n",
              "      <td>1</td>\n",
              "      <td>0.2464</td>\n",
              "      <td>0.1936</td>\n",
              "      <td>0.1806</td>\n",
              "      <td>32500</td>\n",
              "      <td>10250</td>\n",
              "    </tr>\n",
              "    <tr>\n",
              "      <th>Dutchess BOCES-Practical Nursing Program</th>\n",
              "      <td>Poughkeepsie</td>\n",
              "      <td>NY</td>\n",
              "      <td>0.0</td>\n",
              "      <td>0.0</td>\n",
              "      <td>0.0</td>\n",
              "      <td>0</td>\n",
              "      <td>NaN</td>\n",
              "      <td>NaN</td>\n",
              "      <td>0.0</td>\n",
              "      <td>155.0</td>\n",
              "      <td>0.4903</td>\n",
              "      <td>0.3419</td>\n",
              "      <td>0.0774</td>\n",
              "      <td>0.0258</td>\n",
              "      <td>0.0000</td>\n",
              "      <td>0.0065</td>\n",
              "      <td>0.0581</td>\n",
              "      <td>0.0000</td>\n",
              "      <td>0.0000</td>\n",
              "      <td>0.7548</td>\n",
              "      <td>1</td>\n",
              "      <td>0.5294</td>\n",
              "      <td>0.6275</td>\n",
              "      <td>0.5430</td>\n",
              "      <td>36500</td>\n",
              "      <td>9500</td>\n",
              "    </tr>\n",
              "    <tr>\n",
              "      <th>Durham Technical Community College</th>\n",
              "      <td>Durham</td>\n",
              "      <td>NC</td>\n",
              "      <td>0.0</td>\n",
              "      <td>0.0</td>\n",
              "      <td>0.0</td>\n",
              "      <td>0</td>\n",
              "      <td>NaN</td>\n",
              "      <td>NaN</td>\n",
              "      <td>0.0</td>\n",
              "      <td>4769.0</td>\n",
              "      <td>0.3080</td>\n",
              "      <td>0.4611</td>\n",
              "      <td>0.1126</td>\n",
              "      <td>0.0451</td>\n",
              "      <td>0.0048</td>\n",
              "      <td>0.0019</td>\n",
              "      <td>0.0182</td>\n",
              "      <td>0.0025</td>\n",
              "      <td>0.0457</td>\n",
              "      <td>0.6905</td>\n",
              "      <td>1</td>\n",
              "      <td>0.4495</td>\n",
              "      <td>0.1796</td>\n",
              "      <td>0.5961</td>\n",
              "      <td>27200</td>\n",
              "      <td>11069.5</td>\n",
              "    </tr>\n",
              "    <tr>\n",
              "      <th>Durham Beauty Academy</th>\n",
              "      <td>Durham</td>\n",
              "      <td>NC</td>\n",
              "      <td>0.0</td>\n",
              "      <td>0.0</td>\n",
              "      <td>0.0</td>\n",
              "      <td>0</td>\n",
              "      <td>NaN</td>\n",
              "      <td>NaN</td>\n",
              "      <td>0.0</td>\n",
              "      <td>78.0</td>\n",
              "      <td>0.0385</td>\n",
              "      <td>0.9231</td>\n",
              "      <td>0.0000</td>\n",
              "      <td>0.0128</td>\n",
              "      <td>0.0128</td>\n",
              "      <td>0.0000</td>\n",
              "      <td>0.0000</td>\n",
              "      <td>0.0000</td>\n",
              "      <td>0.0128</td>\n",
              "      <td>0.0000</td>\n",
              "      <td>1</td>\n",
              "      <td>0.5746</td>\n",
              "      <td>0.8134</td>\n",
              "      <td>0.4000</td>\n",
              "      <td>PrivacySuppressed</td>\n",
              "      <td>15332</td>\n",
              "    </tr>\n",
              "    <tr>\n",
              "      <th>...</th>\n",
              "      <td>...</td>\n",
              "      <td>...</td>\n",
              "      <td>...</td>\n",
              "      <td>...</td>\n",
              "      <td>...</td>\n",
              "      <td>...</td>\n",
              "      <td>...</td>\n",
              "      <td>...</td>\n",
              "      <td>...</td>\n",
              "      <td>...</td>\n",
              "      <td>...</td>\n",
              "      <td>...</td>\n",
              "      <td>...</td>\n",
              "      <td>...</td>\n",
              "      <td>...</td>\n",
              "      <td>...</td>\n",
              "      <td>...</td>\n",
              "      <td>...</td>\n",
              "      <td>...</td>\n",
              "      <td>...</td>\n",
              "      <td>...</td>\n",
              "      <td>...</td>\n",
              "      <td>...</td>\n",
              "      <td>...</td>\n",
              "      <td>...</td>\n",
              "      <td>...</td>\n",
              "    </tr>\n",
              "    <tr>\n",
              "      <th>Bacone College</th>\n",
              "      <td>Muskogee</td>\n",
              "      <td>OK</td>\n",
              "      <td>0.0</td>\n",
              "      <td>0.0</td>\n",
              "      <td>0.0</td>\n",
              "      <td>1</td>\n",
              "      <td>398.0</td>\n",
              "      <td>428.0</td>\n",
              "      <td>0.0</td>\n",
              "      <td>939.0</td>\n",
              "      <td>0.1917</td>\n",
              "      <td>0.3099</td>\n",
              "      <td>0.0895</td>\n",
              "      <td>0.0288</td>\n",
              "      <td>0.2556</td>\n",
              "      <td>0.0053</td>\n",
              "      <td>0.0298</td>\n",
              "      <td>0.0000</td>\n",
              "      <td>0.0895</td>\n",
              "      <td>0.1140</td>\n",
              "      <td>1</td>\n",
              "      <td>0.9392</td>\n",
              "      <td>0.8920</td>\n",
              "      <td>0.1648</td>\n",
              "      <td>29700</td>\n",
              "      <td>26350</td>\n",
              "    </tr>\n",
              "    <tr>\n",
              "      <th>Babson College</th>\n",
              "      <td>Wellesley</td>\n",
              "      <td>MA</td>\n",
              "      <td>0.0</td>\n",
              "      <td>0.0</td>\n",
              "      <td>0.0</td>\n",
              "      <td>0</td>\n",
              "      <td>615.0</td>\n",
              "      <td>660.0</td>\n",
              "      <td>0.0</td>\n",
              "      <td>2107.0</td>\n",
              "      <td>0.3863</td>\n",
              "      <td>0.0479</td>\n",
              "      <td>0.0973</td>\n",
              "      <td>0.1144</td>\n",
              "      <td>0.0019</td>\n",
              "      <td>0.0005</td>\n",
              "      <td>0.0233</td>\n",
              "      <td>0.2682</td>\n",
              "      <td>0.0603</td>\n",
              "      <td>0.0000</td>\n",
              "      <td>1</td>\n",
              "      <td>0.1709</td>\n",
              "      <td>0.3727</td>\n",
              "      <td>0.0090</td>\n",
              "      <td>86700</td>\n",
              "      <td>27000</td>\n",
              "    </tr>\n",
              "    <tr>\n",
              "      <th>BJ's Beauty &amp; Barber College</th>\n",
              "      <td>Auburn</td>\n",
              "      <td>WA</td>\n",
              "      <td>0.0</td>\n",
              "      <td>0.0</td>\n",
              "      <td>0.0</td>\n",
              "      <td>0</td>\n",
              "      <td>NaN</td>\n",
              "      <td>NaN</td>\n",
              "      <td>0.0</td>\n",
              "      <td>28.0</td>\n",
              "      <td>0.5000</td>\n",
              "      <td>0.0000</td>\n",
              "      <td>0.1429</td>\n",
              "      <td>0.2143</td>\n",
              "      <td>0.0000</td>\n",
              "      <td>0.0000</td>\n",
              "      <td>0.0714</td>\n",
              "      <td>0.0000</td>\n",
              "      <td>0.0714</td>\n",
              "      <td>0.0000</td>\n",
              "      <td>1</td>\n",
              "      <td>0.5192</td>\n",
              "      <td>0.6154</td>\n",
              "      <td>0.2917</td>\n",
              "      <td>NaN</td>\n",
              "      <td>PrivacySuppressed</td>\n",
              "    </tr>\n",
              "    <tr>\n",
              "      <th>BIR Training Center</th>\n",
              "      <td>Chicago</td>\n",
              "      <td>IL</td>\n",
              "      <td>0.0</td>\n",
              "      <td>0.0</td>\n",
              "      <td>0.0</td>\n",
              "      <td>0</td>\n",
              "      <td>NaN</td>\n",
              "      <td>NaN</td>\n",
              "      <td>0.0</td>\n",
              "      <td>2132.0</td>\n",
              "      <td>0.1201</td>\n",
              "      <td>0.8452</td>\n",
              "      <td>0.0220</td>\n",
              "      <td>0.0127</td>\n",
              "      <td>0.0000</td>\n",
              "      <td>0.0000</td>\n",
              "      <td>0.0000</td>\n",
              "      <td>0.0000</td>\n",
              "      <td>0.0000</td>\n",
              "      <td>0.1806</td>\n",
              "      <td>0</td>\n",
              "      <td>0.6700</td>\n",
              "      <td>0.6998</td>\n",
              "      <td>0.6741</td>\n",
              "      <td>PrivacySuppressed</td>\n",
              "      <td>15394</td>\n",
              "    </tr>\n",
              "    <tr>\n",
              "      <th>B M Spurr School of Practical Nursing</th>\n",
              "      <td>Glen Dale</td>\n",
              "      <td>WV</td>\n",
              "      <td>0.0</td>\n",
              "      <td>0.0</td>\n",
              "      <td>0.0</td>\n",
              "      <td>0</td>\n",
              "      <td>NaN</td>\n",
              "      <td>NaN</td>\n",
              "      <td>0.0</td>\n",
              "      <td>31.0</td>\n",
              "      <td>1.0000</td>\n",
              "      <td>0.0000</td>\n",
              "      <td>0.0000</td>\n",
              "      <td>0.0000</td>\n",
              "      <td>0.0000</td>\n",
              "      <td>0.0000</td>\n",
              "      <td>0.0000</td>\n",
              "      <td>0.0000</td>\n",
              "      <td>0.0000</td>\n",
              "      <td>0.0000</td>\n",
              "      <td>1</td>\n",
              "      <td>0.4722</td>\n",
              "      <td>0.0000</td>\n",
              "      <td>0.4444</td>\n",
              "      <td>PrivacySuppressed</td>\n",
              "      <td>PrivacySuppressed</td>\n",
              "    </tr>\n",
              "  </tbody>\n",
              "</table>\n",
              "<p>1411 rows × 26 columns</p>\n",
              "</div>"
            ],
            "text/plain": [
              "                                                  CITY  ... GRAD_DEBT_MDN_SUPP\n",
              "INSTNM                                                  ...                   \n",
              "Dyersburg State Community College            Dyersburg  ...               7475\n",
              "Dutchess Community College                Poughkeepsie  ...              10250\n",
              "Dutchess BOCES-Practical Nursing Program  Poughkeepsie  ...               9500\n",
              "Durham Technical Community College              Durham  ...            11069.5\n",
              "Durham Beauty Academy                           Durham  ...              15332\n",
              "...                                                ...  ...                ...\n",
              "Bacone College                                Muskogee  ...              26350\n",
              "Babson College                               Wellesley  ...              27000\n",
              "BJ's Beauty & Barber College                    Auburn  ...  PrivacySuppressed\n",
              "BIR Training Center                            Chicago  ...              15394\n",
              "B M Spurr School of Practical Nursing        Glen Dale  ...  PrivacySuppressed\n",
              "\n",
              "[1411 rows x 26 columns]"
            ]
          },
          "metadata": {
            "tags": []
          },
          "execution_count": 84
        }
      ]
    },
    {
      "cell_type": "code",
      "metadata": {
        "id": "cmK7grQfWETb",
        "colab_type": "code",
        "colab": {}
      },
      "source": [
        "# Run below code to kill notebook and fee up space after use\n",
        "\n",
        "#import os, signal\n",
        "#os.kill(os.getpid(), signal.SIGKILL)"
      ],
      "execution_count": 0,
      "outputs": []
    }
  ]
}