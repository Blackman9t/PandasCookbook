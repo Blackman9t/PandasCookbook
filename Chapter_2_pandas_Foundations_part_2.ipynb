{
  "nbformat": 4,
  "nbformat_minor": 0,
  "metadata": {
    "colab": {
      "name": "Chapter 2 pandas Foundations part 2.ipynb",
      "version": "0.3.2",
      "provenance": [],
      "collapsed_sections": [],
      "include_colab_link": true
    },
    "language_info": {
      "codemirror_mode": {
        "name": "ipython",
        "version": 3
      },
      "file_extension": ".py",
      "mimetype": "text/x-python",
      "name": "python",
      "nbconvert_exporter": "python",
      "pygments_lexer": "ipython3",
      "version": "3.6.1"
    },
    "kernelspec": {
      "display_name": "Python 3",
      "language": "python",
      "name": "python3"
    }
  },
  "cells": [
    {
      "cell_type": "markdown",
      "metadata": {
        "id": "view-in-github",
        "colab_type": "text"
      },
      "source": [
        "<a href=\"https://colab.research.google.com/github/Blackman9t/PandasCookbook/blob/master/Chapter_2_pandas_Foundations_part_2.ipynb\" target=\"_parent\"><img src=\"https://colab.research.google.com/assets/colab-badge.svg\" alt=\"Open In Colab\"/></a>"
      ]
    },
    {
      "cell_type": "markdown",
      "metadata": {
        "id": "MbJ02ofEXpQS",
        "colab_type": "text"
      },
      "source": [
        "# Chapter 2: pandas Foundations: part 2"
      ]
    },
    {
      "cell_type": "markdown",
      "metadata": {
        "id": "KZ2v2BmQXpQU",
        "colab_type": "text"
      },
      "source": [
        "## Recipes\n",
        "* [Selecting multiple DataFrame columns](#Selecting-multiple-DataFrame-columns)\n",
        "* [Selecting columns with methods](#Selecting-columns-with-methods)\n",
        "* [Ordering column names sensibly](#Ordering-column-names-sensibly)\n",
        "* [Operating on the entire DataFrame](#Operating-on-the-entire-DataFrame)\n",
        "* [Chaining DataFrame methods together](#Chaining-DataFrame-methods-together)\n",
        "* [Working with operators on a DataFrame](#Working-with-operators-on-a-DataFrame)\n",
        "* [Transposing the direction of a DataFrame operation](#Transposing-the-direction-of-a-DataFrame-operation)"
      ]
    },
    {
      "cell_type": "code",
      "metadata": {
        "id": "pKvCMB38XpQU",
        "colab_type": "code",
        "colab": {}
      },
      "source": [
        "import pandas as pd\n",
        "import numpy as np\n",
        "pd.options.display.max_columns = 40"
      ],
      "execution_count": 0,
      "outputs": []
    },
    {
      "cell_type": "markdown",
      "metadata": {
        "id": "gfTtIVHTX_Xj",
        "colab_type": "text"
      },
      "source": [
        "Let's install gdrive so we can import files directly into colab"
      ]
    },
    {
      "cell_type": "code",
      "metadata": {
        "id": "nzWw5s4dYJy8",
        "colab_type": "code",
        "colab": {}
      },
      "source": [
        "from google.colab import drive\n",
        "drive.mount('/content/gdrive')"
      ],
      "execution_count": 0,
      "outputs": []
    },
    {
      "cell_type": "markdown",
      "metadata": {
        "id": "rpCGhtaTXpQY",
        "colab_type": "text"
      },
      "source": [
        "# Selecting multiple DataFrame columns"
      ]
    },
    {
      "cell_type": "code",
      "metadata": {
        "id": "khqS79ttXpQY",
        "colab_type": "code",
        "colab": {
          "base_uri": "https://localhost:8080/",
          "height": 195
        },
        "outputId": "965c7232-6a01-4b1d-e9cf-7ede2027a3ee"
      },
      "source": [
        "movie = pd.read_csv('/content/gdrive/My Drive/Colab_Notebooks/data_tools/pandas/PandasCookBook_Code/data/movie.csv')\n",
        "movie_actor_director = movie[['actor_1_name', 'actor_2_name', 'actor_3_name', 'director_name']]\n",
        "movie_actor_director.head()"
      ],
      "execution_count": 3,
      "outputs": [
        {
          "output_type": "execute_result",
          "data": {
            "text/html": [
              "<div>\n",
              "<style scoped>\n",
              "    .dataframe tbody tr th:only-of-type {\n",
              "        vertical-align: middle;\n",
              "    }\n",
              "\n",
              "    .dataframe tbody tr th {\n",
              "        vertical-align: top;\n",
              "    }\n",
              "\n",
              "    .dataframe thead th {\n",
              "        text-align: right;\n",
              "    }\n",
              "</style>\n",
              "<table border=\"1\" class=\"dataframe\">\n",
              "  <thead>\n",
              "    <tr style=\"text-align: right;\">\n",
              "      <th></th>\n",
              "      <th>actor_1_name</th>\n",
              "      <th>actor_2_name</th>\n",
              "      <th>actor_3_name</th>\n",
              "      <th>director_name</th>\n",
              "    </tr>\n",
              "  </thead>\n",
              "  <tbody>\n",
              "    <tr>\n",
              "      <th>0</th>\n",
              "      <td>CCH Pounder</td>\n",
              "      <td>Joel David Moore</td>\n",
              "      <td>Wes Studi</td>\n",
              "      <td>James Cameron</td>\n",
              "    </tr>\n",
              "    <tr>\n",
              "      <th>1</th>\n",
              "      <td>Johnny Depp</td>\n",
              "      <td>Orlando Bloom</td>\n",
              "      <td>Jack Davenport</td>\n",
              "      <td>Gore Verbinski</td>\n",
              "    </tr>\n",
              "    <tr>\n",
              "      <th>2</th>\n",
              "      <td>Christoph Waltz</td>\n",
              "      <td>Rory Kinnear</td>\n",
              "      <td>Stephanie Sigman</td>\n",
              "      <td>Sam Mendes</td>\n",
              "    </tr>\n",
              "    <tr>\n",
              "      <th>3</th>\n",
              "      <td>Tom Hardy</td>\n",
              "      <td>Christian Bale</td>\n",
              "      <td>Joseph Gordon-Levitt</td>\n",
              "      <td>Christopher Nolan</td>\n",
              "    </tr>\n",
              "    <tr>\n",
              "      <th>4</th>\n",
              "      <td>Doug Walker</td>\n",
              "      <td>Rob Walker</td>\n",
              "      <td>NaN</td>\n",
              "      <td>Doug Walker</td>\n",
              "    </tr>\n",
              "  </tbody>\n",
              "</table>\n",
              "</div>"
            ],
            "text/plain": [
              "      actor_1_name      actor_2_name          actor_3_name      director_name\n",
              "0      CCH Pounder  Joel David Moore             Wes Studi      James Cameron\n",
              "1      Johnny Depp     Orlando Bloom        Jack Davenport     Gore Verbinski\n",
              "2  Christoph Waltz      Rory Kinnear      Stephanie Sigman         Sam Mendes\n",
              "3        Tom Hardy    Christian Bale  Joseph Gordon-Levitt  Christopher Nolan\n",
              "4      Doug Walker        Rob Walker                   NaN        Doug Walker"
            ]
          },
          "metadata": {
            "tags": []
          },
          "execution_count": 3
        }
      ]
    },
    {
      "cell_type": "code",
      "metadata": {
        "id": "7Psp-tqwZPvp",
        "colab_type": "code",
        "colab": {
          "base_uri": "https://localhost:8080/",
          "height": 168
        },
        "outputId": "bb33b12f-c550-4888-b02f-f343700a1371"
      },
      "source": [
        "movie.columns"
      ],
      "execution_count": 4,
      "outputs": [
        {
          "output_type": "execute_result",
          "data": {
            "text/plain": [
              "Index(['color', 'director_name', 'num_critic_for_reviews', 'duration',\n",
              "       'director_facebook_likes', 'actor_3_facebook_likes', 'actor_2_name',\n",
              "       'actor_1_facebook_likes', 'gross', 'genres', 'actor_1_name',\n",
              "       'movie_title', 'num_voted_users', 'cast_total_facebook_likes',\n",
              "       'actor_3_name', 'facenumber_in_poster', 'plot_keywords',\n",
              "       'movie_imdb_link', 'num_user_for_reviews', 'language', 'country',\n",
              "       'content_rating', 'budget', 'title_year', 'actor_2_facebook_likes',\n",
              "       'imdb_score', 'aspect_ratio', 'movie_facebook_likes'],\n",
              "      dtype='object')"
            ]
          },
          "metadata": {
            "tags": []
          },
          "execution_count": 4
        }
      ]
    },
    {
      "cell_type": "code",
      "metadata": {
        "id": "hcZEtLTvXpQd",
        "colab_type": "code",
        "colab": {
          "base_uri": "https://localhost:8080/",
          "height": 195
        },
        "outputId": "2a4db65c-4599-4f7c-e961-3fd117600a71"
      },
      "source": [
        "movie[['director_name']].head()"
      ],
      "execution_count": 5,
      "outputs": [
        {
          "output_type": "execute_result",
          "data": {
            "text/html": [
              "<div>\n",
              "<style scoped>\n",
              "    .dataframe tbody tr th:only-of-type {\n",
              "        vertical-align: middle;\n",
              "    }\n",
              "\n",
              "    .dataframe tbody tr th {\n",
              "        vertical-align: top;\n",
              "    }\n",
              "\n",
              "    .dataframe thead th {\n",
              "        text-align: right;\n",
              "    }\n",
              "</style>\n",
              "<table border=\"1\" class=\"dataframe\">\n",
              "  <thead>\n",
              "    <tr style=\"text-align: right;\">\n",
              "      <th></th>\n",
              "      <th>director_name</th>\n",
              "    </tr>\n",
              "  </thead>\n",
              "  <tbody>\n",
              "    <tr>\n",
              "      <th>0</th>\n",
              "      <td>James Cameron</td>\n",
              "    </tr>\n",
              "    <tr>\n",
              "      <th>1</th>\n",
              "      <td>Gore Verbinski</td>\n",
              "    </tr>\n",
              "    <tr>\n",
              "      <th>2</th>\n",
              "      <td>Sam Mendes</td>\n",
              "    </tr>\n",
              "    <tr>\n",
              "      <th>3</th>\n",
              "      <td>Christopher Nolan</td>\n",
              "    </tr>\n",
              "    <tr>\n",
              "      <th>4</th>\n",
              "      <td>Doug Walker</td>\n",
              "    </tr>\n",
              "  </tbody>\n",
              "</table>\n",
              "</div>"
            ],
            "text/plain": [
              "       director_name\n",
              "0      James Cameron\n",
              "1     Gore Verbinski\n",
              "2         Sam Mendes\n",
              "3  Christopher Nolan\n",
              "4        Doug Walker"
            ]
          },
          "metadata": {
            "tags": []
          },
          "execution_count": 5
        }
      ]
    },
    {
      "cell_type": "markdown",
      "metadata": {
        "id": "JMSbYS3VZ_Tr",
        "colab_type": "text"
      },
      "source": [
        "How it works...\n",
        "The DataFrame indexing operator is very flexible and capable of accepting a number of different objects. If a string is passed, it will return a single-dimensional Series. If a list is passed to the indexing operator, it returns a DataFrame of all the columns in the list in the specified order\n",
        "\n",
        "Step 2 shows how to select a single column as a DataFrame rather than as a Series. Most commonly, a single column is selected with a string, resulting in a Series. When a DataFrame is the desired output, simply put the column name in a single-element list."
      ]
    },
    {
      "cell_type": "markdown",
      "metadata": {
        "id": "1Cxd8-87XpQk",
        "colab_type": "text"
      },
      "source": [
        "## There's more..."
      ]
    },
    {
      "cell_type": "code",
      "metadata": {
        "id": "n_6OBHYRas0Y",
        "colab_type": "code",
        "colab": {}
      },
      "source": [
        "# movie_actor_director = movie['actor_1_name', 'actor_2_name', 'actor_3_name', 'director_name']\n",
        "\n",
        "# Uncomment above code and run and it causes a KeyError... see reason below"
      ],
      "execution_count": 0,
      "outputs": []
    },
    {
      "cell_type": "markdown",
      "metadata": {
        "id": "ennE9y0jauen",
        "colab_type": "text"
      },
      "source": [
        "The above key error  is a common error to encounter, as it is easy to forget to place the desired columns in a list. You might be wondering what exactly is going on here. The four string names separated by commas are technically a tuple object. Normally, tuples are written with open and closing parentheses, but it isn't necessary:\n",
        "\n"
      ]
    },
    {
      "cell_type": "code",
      "metadata": {
        "id": "cPjVPhkAXpQl",
        "colab_type": "code",
        "colab": {}
      },
      "source": [
        "cols =['actor_1_name', 'actor_2_name', 'actor_3_name', 'director_name']\n",
        "movie_actor_director = movie[cols]"
      ],
      "execution_count": 0,
      "outputs": []
    },
    {
      "cell_type": "markdown",
      "metadata": {
        "id": "B75MEd1BXpQo",
        "colab_type": "text"
      },
      "source": [
        "# Selecting columns with methods"
      ]
    },
    {
      "cell_type": "markdown",
      "metadata": {
        "id": "yBujGnh0bltS",
        "colab_type": "text"
      },
      "source": [
        "Selecting columns with methods\n",
        "Although column selection is usually done directly with the indexing operator, there are some DataFrame methods that facilitate their selection in an alternative manner. select_dtypes and filter are two useful methods to do this.\n",
        "\n",
        "Getting ready\n",
        "You need to be familiar with all pandas data types and how to access them. The Understanding data types recipe in Chapter 1, Pandas Foundations, has a table with all pandas data types.\n",
        "\n",
        "How it works...\n",
        "Read in the movie dataset, and use the title of the movie to label each row. Use the get_dtype_counts method to output the number of columns with each specific data type:\n"
      ]
    },
    {
      "cell_type": "code",
      "metadata": {
        "id": "6FAUp8OyXpQp",
        "colab_type": "code",
        "colab": {
          "base_uri": "https://localhost:8080/",
          "height": 84
        },
        "outputId": "0d41bfc2-e3f9-45ee-b9f4-5983419cae98"
      },
      "source": [
        "movie = pd.read_csv('/content/gdrive/My Drive/Colab_Notebooks/data_tools/pandas/PandasCookBook_Code/data/movie.csv', index_col='movie_title')\n",
        "\n",
        "movie.get_dtype_counts()  # This outputs the number of columns of each data type available"
      ],
      "execution_count": 12,
      "outputs": [
        {
          "output_type": "execute_result",
          "data": {
            "text/plain": [
              "float64    13\n",
              "int64       3\n",
              "object     11\n",
              "dtype: int64"
            ]
          },
          "metadata": {
            "tags": []
          },
          "execution_count": 12
        }
      ]
    },
    {
      "cell_type": "markdown",
      "metadata": {
        "id": "1mVcuO9XciQj",
        "colab_type": "text"
      },
      "source": [
        "Use the select_dtypes method to select only the integer columns:"
      ]
    },
    {
      "cell_type": "code",
      "metadata": {
        "id": "v4y--RhbXpQs",
        "colab_type": "code",
        "colab": {
          "base_uri": "https://localhost:8080/",
          "height": 225
        },
        "outputId": "d8cb6824-8bbb-4e9b-8b94-baac8c9e695b"
      },
      "source": [
        "movie.select_dtypes(include=['int']).head()  # selecting only integer columns from the data frame and displaying the first 5 rows"
      ],
      "execution_count": 14,
      "outputs": [
        {
          "output_type": "execute_result",
          "data": {
            "text/html": [
              "<div>\n",
              "<style scoped>\n",
              "    .dataframe tbody tr th:only-of-type {\n",
              "        vertical-align: middle;\n",
              "    }\n",
              "\n",
              "    .dataframe tbody tr th {\n",
              "        vertical-align: top;\n",
              "    }\n",
              "\n",
              "    .dataframe thead th {\n",
              "        text-align: right;\n",
              "    }\n",
              "</style>\n",
              "<table border=\"1\" class=\"dataframe\">\n",
              "  <thead>\n",
              "    <tr style=\"text-align: right;\">\n",
              "      <th></th>\n",
              "      <th>num_voted_users</th>\n",
              "      <th>cast_total_facebook_likes</th>\n",
              "      <th>movie_facebook_likes</th>\n",
              "    </tr>\n",
              "    <tr>\n",
              "      <th>movie_title</th>\n",
              "      <th></th>\n",
              "      <th></th>\n",
              "      <th></th>\n",
              "    </tr>\n",
              "  </thead>\n",
              "  <tbody>\n",
              "    <tr>\n",
              "      <th>Avatar</th>\n",
              "      <td>886204</td>\n",
              "      <td>4834</td>\n",
              "      <td>33000</td>\n",
              "    </tr>\n",
              "    <tr>\n",
              "      <th>Pirates of the Caribbean: At World's End</th>\n",
              "      <td>471220</td>\n",
              "      <td>48350</td>\n",
              "      <td>0</td>\n",
              "    </tr>\n",
              "    <tr>\n",
              "      <th>Spectre</th>\n",
              "      <td>275868</td>\n",
              "      <td>11700</td>\n",
              "      <td>85000</td>\n",
              "    </tr>\n",
              "    <tr>\n",
              "      <th>The Dark Knight Rises</th>\n",
              "      <td>1144337</td>\n",
              "      <td>106759</td>\n",
              "      <td>164000</td>\n",
              "    </tr>\n",
              "    <tr>\n",
              "      <th>Star Wars: Episode VII - The Force Awakens</th>\n",
              "      <td>8</td>\n",
              "      <td>143</td>\n",
              "      <td>0</td>\n",
              "    </tr>\n",
              "  </tbody>\n",
              "</table>\n",
              "</div>"
            ],
            "text/plain": [
              "                                            num_voted_users  \\\n",
              "movie_title                                                   \n",
              "Avatar                                               886204   \n",
              "Pirates of the Caribbean: At World's End             471220   \n",
              "Spectre                                              275868   \n",
              "The Dark Knight Rises                               1144337   \n",
              "Star Wars: Episode VII - The Force Awakens                8   \n",
              "\n",
              "                                            cast_total_facebook_likes  \\\n",
              "movie_title                                                             \n",
              "Avatar                                                           4834   \n",
              "Pirates of the Caribbean: At World's End                        48350   \n",
              "Spectre                                                         11700   \n",
              "The Dark Knight Rises                                          106759   \n",
              "Star Wars: Episode VII - The Force Awakens                        143   \n",
              "\n",
              "                                            movie_facebook_likes  \n",
              "movie_title                                                       \n",
              "Avatar                                                     33000  \n",
              "Pirates of the Caribbean: At World's End                       0  \n",
              "Spectre                                                    85000  \n",
              "The Dark Knight Rises                                     164000  \n",
              "Star Wars: Episode VII - The Force Awakens                     0  "
            ]
          },
          "metadata": {
            "tags": []
          },
          "execution_count": 14
        }
      ]
    },
    {
      "cell_type": "markdown",
      "metadata": {
        "id": "w6NtWmQcc_En",
        "colab_type": "text"
      },
      "source": [
        "If you would like to select all the numeric columns, you may simply pass the string number to the include parameter:"
      ]
    },
    {
      "cell_type": "code",
      "metadata": {
        "id": "a2a-x3_-XpQw",
        "colab_type": "code",
        "colab": {
          "base_uri": "https://localhost:8080/",
          "height": 396
        },
        "outputId": "81be25d3-d419-47eb-d2a1-fccaa9560336"
      },
      "source": [
        "movie.select_dtypes(include=['number']).head()  # selecting all numeric columns from the data frame and displaying the first 5 rows"
      ],
      "execution_count": 19,
      "outputs": [
        {
          "output_type": "execute_result",
          "data": {
            "text/html": [
              "<div>\n",
              "<style scoped>\n",
              "    .dataframe tbody tr th:only-of-type {\n",
              "        vertical-align: middle;\n",
              "    }\n",
              "\n",
              "    .dataframe tbody tr th {\n",
              "        vertical-align: top;\n",
              "    }\n",
              "\n",
              "    .dataframe thead th {\n",
              "        text-align: right;\n",
              "    }\n",
              "</style>\n",
              "<table border=\"1\" class=\"dataframe\">\n",
              "  <thead>\n",
              "    <tr style=\"text-align: right;\">\n",
              "      <th></th>\n",
              "      <th>num_critic_for_reviews</th>\n",
              "      <th>duration</th>\n",
              "      <th>director_facebook_likes</th>\n",
              "      <th>actor_3_facebook_likes</th>\n",
              "      <th>actor_1_facebook_likes</th>\n",
              "      <th>gross</th>\n",
              "      <th>num_voted_users</th>\n",
              "      <th>cast_total_facebook_likes</th>\n",
              "      <th>facenumber_in_poster</th>\n",
              "      <th>num_user_for_reviews</th>\n",
              "      <th>budget</th>\n",
              "      <th>title_year</th>\n",
              "      <th>actor_2_facebook_likes</th>\n",
              "      <th>imdb_score</th>\n",
              "      <th>aspect_ratio</th>\n",
              "      <th>movie_facebook_likes</th>\n",
              "    </tr>\n",
              "    <tr>\n",
              "      <th>movie_title</th>\n",
              "      <th></th>\n",
              "      <th></th>\n",
              "      <th></th>\n",
              "      <th></th>\n",
              "      <th></th>\n",
              "      <th></th>\n",
              "      <th></th>\n",
              "      <th></th>\n",
              "      <th></th>\n",
              "      <th></th>\n",
              "      <th></th>\n",
              "      <th></th>\n",
              "      <th></th>\n",
              "      <th></th>\n",
              "      <th></th>\n",
              "      <th></th>\n",
              "    </tr>\n",
              "  </thead>\n",
              "  <tbody>\n",
              "    <tr>\n",
              "      <th>Avatar</th>\n",
              "      <td>723.0</td>\n",
              "      <td>178.0</td>\n",
              "      <td>0.0</td>\n",
              "      <td>855.0</td>\n",
              "      <td>1000.0</td>\n",
              "      <td>760505847.0</td>\n",
              "      <td>886204</td>\n",
              "      <td>4834</td>\n",
              "      <td>0.0</td>\n",
              "      <td>3054.0</td>\n",
              "      <td>237000000.0</td>\n",
              "      <td>2009.0</td>\n",
              "      <td>936.0</td>\n",
              "      <td>7.9</td>\n",
              "      <td>1.78</td>\n",
              "      <td>33000</td>\n",
              "    </tr>\n",
              "    <tr>\n",
              "      <th>Pirates of the Caribbean: At World's End</th>\n",
              "      <td>302.0</td>\n",
              "      <td>169.0</td>\n",
              "      <td>563.0</td>\n",
              "      <td>1000.0</td>\n",
              "      <td>40000.0</td>\n",
              "      <td>309404152.0</td>\n",
              "      <td>471220</td>\n",
              "      <td>48350</td>\n",
              "      <td>0.0</td>\n",
              "      <td>1238.0</td>\n",
              "      <td>300000000.0</td>\n",
              "      <td>2007.0</td>\n",
              "      <td>5000.0</td>\n",
              "      <td>7.1</td>\n",
              "      <td>2.35</td>\n",
              "      <td>0</td>\n",
              "    </tr>\n",
              "    <tr>\n",
              "      <th>Spectre</th>\n",
              "      <td>602.0</td>\n",
              "      <td>148.0</td>\n",
              "      <td>0.0</td>\n",
              "      <td>161.0</td>\n",
              "      <td>11000.0</td>\n",
              "      <td>200074175.0</td>\n",
              "      <td>275868</td>\n",
              "      <td>11700</td>\n",
              "      <td>1.0</td>\n",
              "      <td>994.0</td>\n",
              "      <td>245000000.0</td>\n",
              "      <td>2015.0</td>\n",
              "      <td>393.0</td>\n",
              "      <td>6.8</td>\n",
              "      <td>2.35</td>\n",
              "      <td>85000</td>\n",
              "    </tr>\n",
              "    <tr>\n",
              "      <th>The Dark Knight Rises</th>\n",
              "      <td>813.0</td>\n",
              "      <td>164.0</td>\n",
              "      <td>22000.0</td>\n",
              "      <td>23000.0</td>\n",
              "      <td>27000.0</td>\n",
              "      <td>448130642.0</td>\n",
              "      <td>1144337</td>\n",
              "      <td>106759</td>\n",
              "      <td>0.0</td>\n",
              "      <td>2701.0</td>\n",
              "      <td>250000000.0</td>\n",
              "      <td>2012.0</td>\n",
              "      <td>23000.0</td>\n",
              "      <td>8.5</td>\n",
              "      <td>2.35</td>\n",
              "      <td>164000</td>\n",
              "    </tr>\n",
              "    <tr>\n",
              "      <th>Star Wars: Episode VII - The Force Awakens</th>\n",
              "      <td>NaN</td>\n",
              "      <td>NaN</td>\n",
              "      <td>131.0</td>\n",
              "      <td>NaN</td>\n",
              "      <td>131.0</td>\n",
              "      <td>NaN</td>\n",
              "      <td>8</td>\n",
              "      <td>143</td>\n",
              "      <td>0.0</td>\n",
              "      <td>NaN</td>\n",
              "      <td>NaN</td>\n",
              "      <td>NaN</td>\n",
              "      <td>12.0</td>\n",
              "      <td>7.1</td>\n",
              "      <td>NaN</td>\n",
              "      <td>0</td>\n",
              "    </tr>\n",
              "  </tbody>\n",
              "</table>\n",
              "</div>"
            ],
            "text/plain": [
              "                                            num_critic_for_reviews  duration  \\\n",
              "movie_title                                                                    \n",
              "Avatar                                                       723.0     178.0   \n",
              "Pirates of the Caribbean: At World's End                     302.0     169.0   \n",
              "Spectre                                                      602.0     148.0   \n",
              "The Dark Knight Rises                                        813.0     164.0   \n",
              "Star Wars: Episode VII - The Force Awakens                     NaN       NaN   \n",
              "\n",
              "                                            director_facebook_likes  \\\n",
              "movie_title                                                           \n",
              "Avatar                                                          0.0   \n",
              "Pirates of the Caribbean: At World's End                      563.0   \n",
              "Spectre                                                         0.0   \n",
              "The Dark Knight Rises                                       22000.0   \n",
              "Star Wars: Episode VII - The Force Awakens                    131.0   \n",
              "\n",
              "                                            actor_3_facebook_likes  \\\n",
              "movie_title                                                          \n",
              "Avatar                                                       855.0   \n",
              "Pirates of the Caribbean: At World's End                    1000.0   \n",
              "Spectre                                                      161.0   \n",
              "The Dark Knight Rises                                      23000.0   \n",
              "Star Wars: Episode VII - The Force Awakens                     NaN   \n",
              "\n",
              "                                            actor_1_facebook_likes  \\\n",
              "movie_title                                                          \n",
              "Avatar                                                      1000.0   \n",
              "Pirates of the Caribbean: At World's End                   40000.0   \n",
              "Spectre                                                    11000.0   \n",
              "The Dark Knight Rises                                      27000.0   \n",
              "Star Wars: Episode VII - The Force Awakens                   131.0   \n",
              "\n",
              "                                                  gross  num_voted_users  \\\n",
              "movie_title                                                                \n",
              "Avatar                                      760505847.0           886204   \n",
              "Pirates of the Caribbean: At World's End    309404152.0           471220   \n",
              "Spectre                                     200074175.0           275868   \n",
              "The Dark Knight Rises                       448130642.0          1144337   \n",
              "Star Wars: Episode VII - The Force Awakens          NaN                8   \n",
              "\n",
              "                                            cast_total_facebook_likes  \\\n",
              "movie_title                                                             \n",
              "Avatar                                                           4834   \n",
              "Pirates of the Caribbean: At World's End                        48350   \n",
              "Spectre                                                         11700   \n",
              "The Dark Knight Rises                                          106759   \n",
              "Star Wars: Episode VII - The Force Awakens                        143   \n",
              "\n",
              "                                            facenumber_in_poster  \\\n",
              "movie_title                                                        \n",
              "Avatar                                                       0.0   \n",
              "Pirates of the Caribbean: At World's End                     0.0   \n",
              "Spectre                                                      1.0   \n",
              "The Dark Knight Rises                                        0.0   \n",
              "Star Wars: Episode VII - The Force Awakens                   0.0   \n",
              "\n",
              "                                            num_user_for_reviews       budget  \\\n",
              "movie_title                                                                     \n",
              "Avatar                                                    3054.0  237000000.0   \n",
              "Pirates of the Caribbean: At World's End                  1238.0  300000000.0   \n",
              "Spectre                                                    994.0  245000000.0   \n",
              "The Dark Knight Rises                                     2701.0  250000000.0   \n",
              "Star Wars: Episode VII - The Force Awakens                   NaN          NaN   \n",
              "\n",
              "                                            title_year  \\\n",
              "movie_title                                              \n",
              "Avatar                                          2009.0   \n",
              "Pirates of the Caribbean: At World's End        2007.0   \n",
              "Spectre                                         2015.0   \n",
              "The Dark Knight Rises                           2012.0   \n",
              "Star Wars: Episode VII - The Force Awakens         NaN   \n",
              "\n",
              "                                            actor_2_facebook_likes  \\\n",
              "movie_title                                                          \n",
              "Avatar                                                       936.0   \n",
              "Pirates of the Caribbean: At World's End                    5000.0   \n",
              "Spectre                                                      393.0   \n",
              "The Dark Knight Rises                                      23000.0   \n",
              "Star Wars: Episode VII - The Force Awakens                    12.0   \n",
              "\n",
              "                                            imdb_score  aspect_ratio  \\\n",
              "movie_title                                                            \n",
              "Avatar                                             7.9          1.78   \n",
              "Pirates of the Caribbean: At World's End           7.1          2.35   \n",
              "Spectre                                            6.8          2.35   \n",
              "The Dark Knight Rises                              8.5          2.35   \n",
              "Star Wars: Episode VII - The Force Awakens         7.1           NaN   \n",
              "\n",
              "                                            movie_facebook_likes  \n",
              "movie_title                                                       \n",
              "Avatar                                                     33000  \n",
              "Pirates of the Caribbean: At World's End                       0  \n",
              "Spectre                                                    85000  \n",
              "The Dark Knight Rises                                     164000  \n",
              "Star Wars: Episode VII - The Force Awakens                     0  "
            ]
          },
          "metadata": {
            "tags": []
          },
          "execution_count": 19
        }
      ]
    },
    {
      "cell_type": "code",
      "metadata": {
        "id": "J63nJZVjfEr4",
        "colab_type": "code",
        "colab": {
          "base_uri": "https://localhost:8080/",
          "height": 430
        },
        "outputId": "de44731f-69e4-465c-94cf-5552577d13b6"
      },
      "source": [
        "movie.select_dtypes(include=['object']).head()  # selecting all columns of strings or mixed data types called objects from the data frame and displaying the first 5 rows"
      ],
      "execution_count": 20,
      "outputs": [
        {
          "output_type": "execute_result",
          "data": {
            "text/html": [
              "<div>\n",
              "<style scoped>\n",
              "    .dataframe tbody tr th:only-of-type {\n",
              "        vertical-align: middle;\n",
              "    }\n",
              "\n",
              "    .dataframe tbody tr th {\n",
              "        vertical-align: top;\n",
              "    }\n",
              "\n",
              "    .dataframe thead th {\n",
              "        text-align: right;\n",
              "    }\n",
              "</style>\n",
              "<table border=\"1\" class=\"dataframe\">\n",
              "  <thead>\n",
              "    <tr style=\"text-align: right;\">\n",
              "      <th></th>\n",
              "      <th>color</th>\n",
              "      <th>director_name</th>\n",
              "      <th>actor_2_name</th>\n",
              "      <th>genres</th>\n",
              "      <th>actor_1_name</th>\n",
              "      <th>actor_3_name</th>\n",
              "      <th>plot_keywords</th>\n",
              "      <th>movie_imdb_link</th>\n",
              "      <th>language</th>\n",
              "      <th>country</th>\n",
              "      <th>content_rating</th>\n",
              "    </tr>\n",
              "    <tr>\n",
              "      <th>movie_title</th>\n",
              "      <th></th>\n",
              "      <th></th>\n",
              "      <th></th>\n",
              "      <th></th>\n",
              "      <th></th>\n",
              "      <th></th>\n",
              "      <th></th>\n",
              "      <th></th>\n",
              "      <th></th>\n",
              "      <th></th>\n",
              "      <th></th>\n",
              "    </tr>\n",
              "  </thead>\n",
              "  <tbody>\n",
              "    <tr>\n",
              "      <th>Avatar</th>\n",
              "      <td>Color</td>\n",
              "      <td>James Cameron</td>\n",
              "      <td>Joel David Moore</td>\n",
              "      <td>Action|Adventure|Fantasy|Sci-Fi</td>\n",
              "      <td>CCH Pounder</td>\n",
              "      <td>Wes Studi</td>\n",
              "      <td>avatar|future|marine|native|paraplegic</td>\n",
              "      <td>http://www.imdb.com/title/tt0499549/?ref_=fn_t...</td>\n",
              "      <td>English</td>\n",
              "      <td>USA</td>\n",
              "      <td>PG-13</td>\n",
              "    </tr>\n",
              "    <tr>\n",
              "      <th>Pirates of the Caribbean: At World's End</th>\n",
              "      <td>Color</td>\n",
              "      <td>Gore Verbinski</td>\n",
              "      <td>Orlando Bloom</td>\n",
              "      <td>Action|Adventure|Fantasy</td>\n",
              "      <td>Johnny Depp</td>\n",
              "      <td>Jack Davenport</td>\n",
              "      <td>goddess|marriage ceremony|marriage proposal|pi...</td>\n",
              "      <td>http://www.imdb.com/title/tt0449088/?ref_=fn_t...</td>\n",
              "      <td>English</td>\n",
              "      <td>USA</td>\n",
              "      <td>PG-13</td>\n",
              "    </tr>\n",
              "    <tr>\n",
              "      <th>Spectre</th>\n",
              "      <td>Color</td>\n",
              "      <td>Sam Mendes</td>\n",
              "      <td>Rory Kinnear</td>\n",
              "      <td>Action|Adventure|Thriller</td>\n",
              "      <td>Christoph Waltz</td>\n",
              "      <td>Stephanie Sigman</td>\n",
              "      <td>bomb|espionage|sequel|spy|terrorist</td>\n",
              "      <td>http://www.imdb.com/title/tt2379713/?ref_=fn_t...</td>\n",
              "      <td>English</td>\n",
              "      <td>UK</td>\n",
              "      <td>PG-13</td>\n",
              "    </tr>\n",
              "    <tr>\n",
              "      <th>The Dark Knight Rises</th>\n",
              "      <td>Color</td>\n",
              "      <td>Christopher Nolan</td>\n",
              "      <td>Christian Bale</td>\n",
              "      <td>Action|Thriller</td>\n",
              "      <td>Tom Hardy</td>\n",
              "      <td>Joseph Gordon-Levitt</td>\n",
              "      <td>deception|imprisonment|lawlessness|police offi...</td>\n",
              "      <td>http://www.imdb.com/title/tt1345836/?ref_=fn_t...</td>\n",
              "      <td>English</td>\n",
              "      <td>USA</td>\n",
              "      <td>PG-13</td>\n",
              "    </tr>\n",
              "    <tr>\n",
              "      <th>Star Wars: Episode VII - The Force Awakens</th>\n",
              "      <td>NaN</td>\n",
              "      <td>Doug Walker</td>\n",
              "      <td>Rob Walker</td>\n",
              "      <td>Documentary</td>\n",
              "      <td>Doug Walker</td>\n",
              "      <td>NaN</td>\n",
              "      <td>NaN</td>\n",
              "      <td>http://www.imdb.com/title/tt5289954/?ref_=fn_t...</td>\n",
              "      <td>NaN</td>\n",
              "      <td>NaN</td>\n",
              "      <td>NaN</td>\n",
              "    </tr>\n",
              "  </tbody>\n",
              "</table>\n",
              "</div>"
            ],
            "text/plain": [
              "                                            color      director_name  \\\n",
              "movie_title                                                            \n",
              "Avatar                                      Color      James Cameron   \n",
              "Pirates of the Caribbean: At World's End    Color     Gore Verbinski   \n",
              "Spectre                                     Color         Sam Mendes   \n",
              "The Dark Knight Rises                       Color  Christopher Nolan   \n",
              "Star Wars: Episode VII - The Force Awakens    NaN        Doug Walker   \n",
              "\n",
              "                                                actor_2_name  \\\n",
              "movie_title                                                    \n",
              "Avatar                                      Joel David Moore   \n",
              "Pirates of the Caribbean: At World's End       Orlando Bloom   \n",
              "Spectre                                         Rory Kinnear   \n",
              "The Dark Knight Rises                         Christian Bale   \n",
              "Star Wars: Episode VII - The Force Awakens        Rob Walker   \n",
              "\n",
              "                                                                     genres  \\\n",
              "movie_title                                                                   \n",
              "Avatar                                      Action|Adventure|Fantasy|Sci-Fi   \n",
              "Pirates of the Caribbean: At World's End           Action|Adventure|Fantasy   \n",
              "Spectre                                           Action|Adventure|Thriller   \n",
              "The Dark Knight Rises                                       Action|Thriller   \n",
              "Star Wars: Episode VII - The Force Awakens                      Documentary   \n",
              "\n",
              "                                               actor_1_name  \\\n",
              "movie_title                                                   \n",
              "Avatar                                          CCH Pounder   \n",
              "Pirates of the Caribbean: At World's End        Johnny Depp   \n",
              "Spectre                                     Christoph Waltz   \n",
              "The Dark Knight Rises                             Tom Hardy   \n",
              "Star Wars: Episode VII - The Force Awakens      Doug Walker   \n",
              "\n",
              "                                                    actor_3_name  \\\n",
              "movie_title                                                        \n",
              "Avatar                                                 Wes Studi   \n",
              "Pirates of the Caribbean: At World's End          Jack Davenport   \n",
              "Spectre                                         Stephanie Sigman   \n",
              "The Dark Knight Rises                       Joseph Gordon-Levitt   \n",
              "Star Wars: Episode VII - The Force Awakens                   NaN   \n",
              "\n",
              "                                                                                plot_keywords  \\\n",
              "movie_title                                                                                     \n",
              "Avatar                                                 avatar|future|marine|native|paraplegic   \n",
              "Pirates of the Caribbean: At World's End    goddess|marriage ceremony|marriage proposal|pi...   \n",
              "Spectre                                                   bomb|espionage|sequel|spy|terrorist   \n",
              "The Dark Knight Rises                       deception|imprisonment|lawlessness|police offi...   \n",
              "Star Wars: Episode VII - The Force Awakens                                                NaN   \n",
              "\n",
              "                                                                              movie_imdb_link  \\\n",
              "movie_title                                                                                     \n",
              "Avatar                                      http://www.imdb.com/title/tt0499549/?ref_=fn_t...   \n",
              "Pirates of the Caribbean: At World's End    http://www.imdb.com/title/tt0449088/?ref_=fn_t...   \n",
              "Spectre                                     http://www.imdb.com/title/tt2379713/?ref_=fn_t...   \n",
              "The Dark Knight Rises                       http://www.imdb.com/title/tt1345836/?ref_=fn_t...   \n",
              "Star Wars: Episode VII - The Force Awakens  http://www.imdb.com/title/tt5289954/?ref_=fn_t...   \n",
              "\n",
              "                                           language country content_rating  \n",
              "movie_title                                                                 \n",
              "Avatar                                      English     USA          PG-13  \n",
              "Pirates of the Caribbean: At World's End    English     USA          PG-13  \n",
              "Spectre                                     English      UK          PG-13  \n",
              "The Dark Knight Rises                       English     USA          PG-13  \n",
              "Star Wars: Episode VII - The Force Awakens      NaN     NaN            NaN  "
            ]
          },
          "metadata": {
            "tags": []
          },
          "execution_count": 20
        }
      ]
    },
    {
      "cell_type": "markdown",
      "metadata": {
        "id": "8IigRF6ddcLk",
        "colab_type": "text"
      },
      "source": [
        "### Using The filter method to select columns"
      ]
    },
    {
      "cell_type": "markdown",
      "metadata": {
        "id": "6vqIYY8Xd5D2",
        "colab_type": "text"
      },
      "source": [
        "An alternative method to select columns is with the filter method. This method is flexible and searches column names (or index labels) based on which parameter is used. Here, we use the like parameter to search for all column names that contain the exact string, facebook:"
      ]
    },
    {
      "cell_type": "code",
      "metadata": {
        "id": "I7kbsKeAXpQz",
        "colab_type": "code",
        "colab": {
          "base_uri": "https://localhost:8080/",
          "height": 258
        },
        "outputId": "f67bd7d6-0ba4-4fa1-ad49-6b9a33f63c24"
      },
      "source": [
        "movie.filter(like='facebook').head()  # selecting all columns that have facebook in their names, using filter method"
      ],
      "execution_count": 16,
      "outputs": [
        {
          "output_type": "execute_result",
          "data": {
            "text/html": [
              "<div>\n",
              "<style scoped>\n",
              "    .dataframe tbody tr th:only-of-type {\n",
              "        vertical-align: middle;\n",
              "    }\n",
              "\n",
              "    .dataframe tbody tr th {\n",
              "        vertical-align: top;\n",
              "    }\n",
              "\n",
              "    .dataframe thead th {\n",
              "        text-align: right;\n",
              "    }\n",
              "</style>\n",
              "<table border=\"1\" class=\"dataframe\">\n",
              "  <thead>\n",
              "    <tr style=\"text-align: right;\">\n",
              "      <th></th>\n",
              "      <th>director_facebook_likes</th>\n",
              "      <th>actor_3_facebook_likes</th>\n",
              "      <th>actor_1_facebook_likes</th>\n",
              "      <th>cast_total_facebook_likes</th>\n",
              "      <th>actor_2_facebook_likes</th>\n",
              "      <th>movie_facebook_likes</th>\n",
              "    </tr>\n",
              "    <tr>\n",
              "      <th>movie_title</th>\n",
              "      <th></th>\n",
              "      <th></th>\n",
              "      <th></th>\n",
              "      <th></th>\n",
              "      <th></th>\n",
              "      <th></th>\n",
              "    </tr>\n",
              "  </thead>\n",
              "  <tbody>\n",
              "    <tr>\n",
              "      <th>Avatar</th>\n",
              "      <td>0.0</td>\n",
              "      <td>855.0</td>\n",
              "      <td>1000.0</td>\n",
              "      <td>4834</td>\n",
              "      <td>936.0</td>\n",
              "      <td>33000</td>\n",
              "    </tr>\n",
              "    <tr>\n",
              "      <th>Pirates of the Caribbean: At World's End</th>\n",
              "      <td>563.0</td>\n",
              "      <td>1000.0</td>\n",
              "      <td>40000.0</td>\n",
              "      <td>48350</td>\n",
              "      <td>5000.0</td>\n",
              "      <td>0</td>\n",
              "    </tr>\n",
              "    <tr>\n",
              "      <th>Spectre</th>\n",
              "      <td>0.0</td>\n",
              "      <td>161.0</td>\n",
              "      <td>11000.0</td>\n",
              "      <td>11700</td>\n",
              "      <td>393.0</td>\n",
              "      <td>85000</td>\n",
              "    </tr>\n",
              "    <tr>\n",
              "      <th>The Dark Knight Rises</th>\n",
              "      <td>22000.0</td>\n",
              "      <td>23000.0</td>\n",
              "      <td>27000.0</td>\n",
              "      <td>106759</td>\n",
              "      <td>23000.0</td>\n",
              "      <td>164000</td>\n",
              "    </tr>\n",
              "    <tr>\n",
              "      <th>Star Wars: Episode VII - The Force Awakens</th>\n",
              "      <td>131.0</td>\n",
              "      <td>NaN</td>\n",
              "      <td>131.0</td>\n",
              "      <td>143</td>\n",
              "      <td>12.0</td>\n",
              "      <td>0</td>\n",
              "    </tr>\n",
              "  </tbody>\n",
              "</table>\n",
              "</div>"
            ],
            "text/plain": [
              "                                            director_facebook_likes  \\\n",
              "movie_title                                                           \n",
              "Avatar                                                          0.0   \n",
              "Pirates of the Caribbean: At World's End                      563.0   \n",
              "Spectre                                                         0.0   \n",
              "The Dark Knight Rises                                       22000.0   \n",
              "Star Wars: Episode VII - The Force Awakens                    131.0   \n",
              "\n",
              "                                            actor_3_facebook_likes  \\\n",
              "movie_title                                                          \n",
              "Avatar                                                       855.0   \n",
              "Pirates of the Caribbean: At World's End                    1000.0   \n",
              "Spectre                                                      161.0   \n",
              "The Dark Knight Rises                                      23000.0   \n",
              "Star Wars: Episode VII - The Force Awakens                     NaN   \n",
              "\n",
              "                                            actor_1_facebook_likes  \\\n",
              "movie_title                                                          \n",
              "Avatar                                                      1000.0   \n",
              "Pirates of the Caribbean: At World's End                   40000.0   \n",
              "Spectre                                                    11000.0   \n",
              "The Dark Knight Rises                                      27000.0   \n",
              "Star Wars: Episode VII - The Force Awakens                   131.0   \n",
              "\n",
              "                                            cast_total_facebook_likes  \\\n",
              "movie_title                                                             \n",
              "Avatar                                                           4834   \n",
              "Pirates of the Caribbean: At World's End                        48350   \n",
              "Spectre                                                         11700   \n",
              "The Dark Knight Rises                                          106759   \n",
              "Star Wars: Episode VII - The Force Awakens                        143   \n",
              "\n",
              "                                            actor_2_facebook_likes  \\\n",
              "movie_title                                                          \n",
              "Avatar                                                       936.0   \n",
              "Pirates of the Caribbean: At World's End                    5000.0   \n",
              "Spectre                                                      393.0   \n",
              "The Dark Knight Rises                                      23000.0   \n",
              "Star Wars: Episode VII - The Force Awakens                    12.0   \n",
              "\n",
              "                                            movie_facebook_likes  \n",
              "movie_title                                                       \n",
              "Avatar                                                     33000  \n",
              "Pirates of the Caribbean: At World's End                       0  \n",
              "Spectre                                                    85000  \n",
              "The Dark Knight Rises                                     164000  \n",
              "Star Wars: Episode VII - The Force Awakens                     0  "
            ]
          },
          "metadata": {
            "tags": []
          },
          "execution_count": 16
        }
      ]
    },
    {
      "cell_type": "markdown",
      "metadata": {
        "id": "uyo-eSjReVas",
        "colab_type": "text"
      },
      "source": [
        "The filter method allows columns to be searched through regular expressions with the regex parameter. Here, we search for all columns that have a digit somewhere in their name:"
      ]
    },
    {
      "cell_type": "code",
      "metadata": {
        "id": "dap7_cUKXpQ3",
        "colab_type": "code",
        "colab": {
          "base_uri": "https://localhost:8080/",
          "height": 225
        },
        "outputId": "9d2ce860-f648-44a4-b348-4dcebf5a3915"
      },
      "source": [
        "movie.filter(regex='\\d').head() # Using Regex to select all columns that have a digit or number in their names, using filter method."
      ],
      "execution_count": 17,
      "outputs": [
        {
          "output_type": "execute_result",
          "data": {
            "text/html": [
              "<div>\n",
              "<style scoped>\n",
              "    .dataframe tbody tr th:only-of-type {\n",
              "        vertical-align: middle;\n",
              "    }\n",
              "\n",
              "    .dataframe tbody tr th {\n",
              "        vertical-align: top;\n",
              "    }\n",
              "\n",
              "    .dataframe thead th {\n",
              "        text-align: right;\n",
              "    }\n",
              "</style>\n",
              "<table border=\"1\" class=\"dataframe\">\n",
              "  <thead>\n",
              "    <tr style=\"text-align: right;\">\n",
              "      <th></th>\n",
              "      <th>actor_3_facebook_likes</th>\n",
              "      <th>actor_2_name</th>\n",
              "      <th>actor_1_facebook_likes</th>\n",
              "      <th>actor_1_name</th>\n",
              "      <th>actor_3_name</th>\n",
              "      <th>actor_2_facebook_likes</th>\n",
              "    </tr>\n",
              "    <tr>\n",
              "      <th>movie_title</th>\n",
              "      <th></th>\n",
              "      <th></th>\n",
              "      <th></th>\n",
              "      <th></th>\n",
              "      <th></th>\n",
              "      <th></th>\n",
              "    </tr>\n",
              "  </thead>\n",
              "  <tbody>\n",
              "    <tr>\n",
              "      <th>Avatar</th>\n",
              "      <td>855.0</td>\n",
              "      <td>Joel David Moore</td>\n",
              "      <td>1000.0</td>\n",
              "      <td>CCH Pounder</td>\n",
              "      <td>Wes Studi</td>\n",
              "      <td>936.0</td>\n",
              "    </tr>\n",
              "    <tr>\n",
              "      <th>Pirates of the Caribbean: At World's End</th>\n",
              "      <td>1000.0</td>\n",
              "      <td>Orlando Bloom</td>\n",
              "      <td>40000.0</td>\n",
              "      <td>Johnny Depp</td>\n",
              "      <td>Jack Davenport</td>\n",
              "      <td>5000.0</td>\n",
              "    </tr>\n",
              "    <tr>\n",
              "      <th>Spectre</th>\n",
              "      <td>161.0</td>\n",
              "      <td>Rory Kinnear</td>\n",
              "      <td>11000.0</td>\n",
              "      <td>Christoph Waltz</td>\n",
              "      <td>Stephanie Sigman</td>\n",
              "      <td>393.0</td>\n",
              "    </tr>\n",
              "    <tr>\n",
              "      <th>The Dark Knight Rises</th>\n",
              "      <td>23000.0</td>\n",
              "      <td>Christian Bale</td>\n",
              "      <td>27000.0</td>\n",
              "      <td>Tom Hardy</td>\n",
              "      <td>Joseph Gordon-Levitt</td>\n",
              "      <td>23000.0</td>\n",
              "    </tr>\n",
              "    <tr>\n",
              "      <th>Star Wars: Episode VII - The Force Awakens</th>\n",
              "      <td>NaN</td>\n",
              "      <td>Rob Walker</td>\n",
              "      <td>131.0</td>\n",
              "      <td>Doug Walker</td>\n",
              "      <td>NaN</td>\n",
              "      <td>12.0</td>\n",
              "    </tr>\n",
              "  </tbody>\n",
              "</table>\n",
              "</div>"
            ],
            "text/plain": [
              "                                            actor_3_facebook_likes  \\\n",
              "movie_title                                                          \n",
              "Avatar                                                       855.0   \n",
              "Pirates of the Caribbean: At World's End                    1000.0   \n",
              "Spectre                                                      161.0   \n",
              "The Dark Knight Rises                                      23000.0   \n",
              "Star Wars: Episode VII - The Force Awakens                     NaN   \n",
              "\n",
              "                                                actor_2_name  \\\n",
              "movie_title                                                    \n",
              "Avatar                                      Joel David Moore   \n",
              "Pirates of the Caribbean: At World's End       Orlando Bloom   \n",
              "Spectre                                         Rory Kinnear   \n",
              "The Dark Knight Rises                         Christian Bale   \n",
              "Star Wars: Episode VII - The Force Awakens        Rob Walker   \n",
              "\n",
              "                                            actor_1_facebook_likes  \\\n",
              "movie_title                                                          \n",
              "Avatar                                                      1000.0   \n",
              "Pirates of the Caribbean: At World's End                   40000.0   \n",
              "Spectre                                                    11000.0   \n",
              "The Dark Knight Rises                                      27000.0   \n",
              "Star Wars: Episode VII - The Force Awakens                   131.0   \n",
              "\n",
              "                                               actor_1_name  \\\n",
              "movie_title                                                   \n",
              "Avatar                                          CCH Pounder   \n",
              "Pirates of the Caribbean: At World's End        Johnny Depp   \n",
              "Spectre                                     Christoph Waltz   \n",
              "The Dark Knight Rises                             Tom Hardy   \n",
              "Star Wars: Episode VII - The Force Awakens      Doug Walker   \n",
              "\n",
              "                                                    actor_3_name  \\\n",
              "movie_title                                                        \n",
              "Avatar                                                 Wes Studi   \n",
              "Pirates of the Caribbean: At World's End          Jack Davenport   \n",
              "Spectre                                         Stephanie Sigman   \n",
              "The Dark Knight Rises                       Joseph Gordon-Levitt   \n",
              "Star Wars: Episode VII - The Force Awakens                   NaN   \n",
              "\n",
              "                                            actor_2_facebook_likes  \n",
              "movie_title                                                         \n",
              "Avatar                                                       936.0  \n",
              "Pirates of the Caribbean: At World's End                    5000.0  \n",
              "Spectre                                                      393.0  \n",
              "The Dark Knight Rises                                      23000.0  \n",
              "Star Wars: Episode VII - The Force Awakens                    12.0  "
            ]
          },
          "metadata": {
            "tags": []
          },
          "execution_count": 17
        }
      ]
    },
    {
      "cell_type": "markdown",
      "metadata": {
        "id": "hEHSF8SHgHZx",
        "colab_type": "text"
      },
      "source": [
        "How it works...\n",
        "Step 1 lists the frequencies of all the different data types. Alternatively, you may use the dtypes attribute to get the exact data type for each column. The select_dtypes method takes a list of data types in its include parameter and returns a DataFrame with columns of just those given data types. The list values may be either the string name of the data type or the actual Python object.\n",
        "\n",
        "The filter method selects columns by only inspecting the column names and not the actual data values. It has three mutually exclusive parameters, items, like, and regex, only one of which can be used at a time. The like parameter takes a string and attempts to find all the column names that contain that exact string somewhere in the name. To gain more flexibility, you may use the regex parameter instead to select column names through a regular expression. This particular regular expression, \\d, represents all digits from zero to nine and matches any string with at least a single digit in it."
      ]
    },
    {
      "cell_type": "markdown",
      "metadata": {
        "id": "UYBjXxI4g5JG",
        "colab_type": "text"
      },
      "source": [
        "There's more...\n",
        "The filter method comes with another parameter, items, which takes a list of exact column names. This is nearly an exact duplication of the indexing operator, except that a KeyError will not be raised if one or all of the strings does not match any column name. For instance, movie.filter(items=['actor_1_name', 'asdf']) runs without error and returns a single column DataFrame."
      ]
    },
    {
      "cell_type": "code",
      "metadata": {
        "id": "973sGxYRXpQ7",
        "colab_type": "code",
        "colab": {
          "base_uri": "https://localhost:8080/",
          "height": 225
        },
        "outputId": "b2c963f2-9a88-4de8-99b4-58a02e9b12e7"
      },
      "source": [
        "movie.filter(items=['actor_1_name', 'asdf']).head()"
      ],
      "execution_count": 24,
      "outputs": [
        {
          "output_type": "execute_result",
          "data": {
            "text/html": [
              "<div>\n",
              "<style scoped>\n",
              "    .dataframe tbody tr th:only-of-type {\n",
              "        vertical-align: middle;\n",
              "    }\n",
              "\n",
              "    .dataframe tbody tr th {\n",
              "        vertical-align: top;\n",
              "    }\n",
              "\n",
              "    .dataframe thead th {\n",
              "        text-align: right;\n",
              "    }\n",
              "</style>\n",
              "<table border=\"1\" class=\"dataframe\">\n",
              "  <thead>\n",
              "    <tr style=\"text-align: right;\">\n",
              "      <th></th>\n",
              "      <th>actor_1_name</th>\n",
              "    </tr>\n",
              "    <tr>\n",
              "      <th>movie_title</th>\n",
              "      <th></th>\n",
              "    </tr>\n",
              "  </thead>\n",
              "  <tbody>\n",
              "    <tr>\n",
              "      <th>Avatar</th>\n",
              "      <td>CCH Pounder</td>\n",
              "    </tr>\n",
              "    <tr>\n",
              "      <th>Pirates of the Caribbean: At World's End</th>\n",
              "      <td>Johnny Depp</td>\n",
              "    </tr>\n",
              "    <tr>\n",
              "      <th>Spectre</th>\n",
              "      <td>Christoph Waltz</td>\n",
              "    </tr>\n",
              "    <tr>\n",
              "      <th>The Dark Knight Rises</th>\n",
              "      <td>Tom Hardy</td>\n",
              "    </tr>\n",
              "    <tr>\n",
              "      <th>Star Wars: Episode VII - The Force Awakens</th>\n",
              "      <td>Doug Walker</td>\n",
              "    </tr>\n",
              "  </tbody>\n",
              "</table>\n",
              "</div>"
            ],
            "text/plain": [
              "                                               actor_1_name\n",
              "movie_title                                                \n",
              "Avatar                                          CCH Pounder\n",
              "Pirates of the Caribbean: At World's End        Johnny Depp\n",
              "Spectre                                     Christoph Waltz\n",
              "The Dark Knight Rises                             Tom Hardy\n",
              "Star Wars: Episode VII - The Force Awakens      Doug Walker"
            ]
          },
          "metadata": {
            "tags": []
          },
          "execution_count": 24
        }
      ]
    },
    {
      "cell_type": "markdown",
      "metadata": {
        "id": "BK9lk1FKjc7K",
        "colab_type": "text"
      },
      "source": [
        "\n",
        "\n",
        "<img src='https://github.com/Blackman9t/PandasCookbook/blob/master/pandasdtypestable.png?raw=true' height = 600 width=8000>"
      ]
    },
    {
      "cell_type": "markdown",
      "metadata": {
        "id": "mnII872zXpQ_",
        "colab_type": "text"
      },
      "source": [
        "# Ordering column names sensibly"
      ]
    },
    {
      "cell_type": "markdown",
      "metadata": {
        "id": "Nl8wmLg3lTMg",
        "colab_type": "text"
      },
      "source": [
        "**The following is a simple guideline to order columns:**\n",
        "\n",
        "**Classify each column as either discrete or continuous<br>\n",
        "Group common columns within the discrete and continuous columns<br>\n",
        "Place the most important groups of columns first with categorical columns before continuous ones**"
      ]
    },
    {
      "cell_type": "code",
      "metadata": {
        "id": "B1QXjNlCXpRA",
        "colab_type": "code",
        "colab": {}
      },
      "source": [
        "movie = pd.read_csv('/content/gdrive/My Drive/Colab_Notebooks/data_tools/pandas/PandasCookBook_Code/data/movie.csv')"
      ],
      "execution_count": 0,
      "outputs": []
    },
    {
      "cell_type": "code",
      "metadata": {
        "id": "Gp0rQwjMXpRE",
        "colab_type": "code",
        "colab": {
          "base_uri": "https://localhost:8080/",
          "height": 366
        },
        "outputId": "788b71b3-7568-472d-d57c-664bba916339"
      },
      "source": [
        "movie.head()"
      ],
      "execution_count": 26,
      "outputs": [
        {
          "output_type": "execute_result",
          "data": {
            "text/html": [
              "<div>\n",
              "<style scoped>\n",
              "    .dataframe tbody tr th:only-of-type {\n",
              "        vertical-align: middle;\n",
              "    }\n",
              "\n",
              "    .dataframe tbody tr th {\n",
              "        vertical-align: top;\n",
              "    }\n",
              "\n",
              "    .dataframe thead th {\n",
              "        text-align: right;\n",
              "    }\n",
              "</style>\n",
              "<table border=\"1\" class=\"dataframe\">\n",
              "  <thead>\n",
              "    <tr style=\"text-align: right;\">\n",
              "      <th></th>\n",
              "      <th>color</th>\n",
              "      <th>director_name</th>\n",
              "      <th>num_critic_for_reviews</th>\n",
              "      <th>duration</th>\n",
              "      <th>director_facebook_likes</th>\n",
              "      <th>actor_3_facebook_likes</th>\n",
              "      <th>actor_2_name</th>\n",
              "      <th>actor_1_facebook_likes</th>\n",
              "      <th>gross</th>\n",
              "      <th>genres</th>\n",
              "      <th>actor_1_name</th>\n",
              "      <th>movie_title</th>\n",
              "      <th>num_voted_users</th>\n",
              "      <th>cast_total_facebook_likes</th>\n",
              "      <th>actor_3_name</th>\n",
              "      <th>facenumber_in_poster</th>\n",
              "      <th>plot_keywords</th>\n",
              "      <th>movie_imdb_link</th>\n",
              "      <th>num_user_for_reviews</th>\n",
              "      <th>language</th>\n",
              "      <th>country</th>\n",
              "      <th>content_rating</th>\n",
              "      <th>budget</th>\n",
              "      <th>title_year</th>\n",
              "      <th>actor_2_facebook_likes</th>\n",
              "      <th>imdb_score</th>\n",
              "      <th>aspect_ratio</th>\n",
              "      <th>movie_facebook_likes</th>\n",
              "    </tr>\n",
              "  </thead>\n",
              "  <tbody>\n",
              "    <tr>\n",
              "      <th>0</th>\n",
              "      <td>Color</td>\n",
              "      <td>James Cameron</td>\n",
              "      <td>723.0</td>\n",
              "      <td>178.0</td>\n",
              "      <td>0.0</td>\n",
              "      <td>855.0</td>\n",
              "      <td>Joel David Moore</td>\n",
              "      <td>1000.0</td>\n",
              "      <td>760505847.0</td>\n",
              "      <td>Action|Adventure|Fantasy|Sci-Fi</td>\n",
              "      <td>CCH Pounder</td>\n",
              "      <td>Avatar</td>\n",
              "      <td>886204</td>\n",
              "      <td>4834</td>\n",
              "      <td>Wes Studi</td>\n",
              "      <td>0.0</td>\n",
              "      <td>avatar|future|marine|native|paraplegic</td>\n",
              "      <td>http://www.imdb.com/title/tt0499549/?ref_=fn_t...</td>\n",
              "      <td>3054.0</td>\n",
              "      <td>English</td>\n",
              "      <td>USA</td>\n",
              "      <td>PG-13</td>\n",
              "      <td>237000000.0</td>\n",
              "      <td>2009.0</td>\n",
              "      <td>936.0</td>\n",
              "      <td>7.9</td>\n",
              "      <td>1.78</td>\n",
              "      <td>33000</td>\n",
              "    </tr>\n",
              "    <tr>\n",
              "      <th>1</th>\n",
              "      <td>Color</td>\n",
              "      <td>Gore Verbinski</td>\n",
              "      <td>302.0</td>\n",
              "      <td>169.0</td>\n",
              "      <td>563.0</td>\n",
              "      <td>1000.0</td>\n",
              "      <td>Orlando Bloom</td>\n",
              "      <td>40000.0</td>\n",
              "      <td>309404152.0</td>\n",
              "      <td>Action|Adventure|Fantasy</td>\n",
              "      <td>Johnny Depp</td>\n",
              "      <td>Pirates of the Caribbean: At World's End</td>\n",
              "      <td>471220</td>\n",
              "      <td>48350</td>\n",
              "      <td>Jack Davenport</td>\n",
              "      <td>0.0</td>\n",
              "      <td>goddess|marriage ceremony|marriage proposal|pi...</td>\n",
              "      <td>http://www.imdb.com/title/tt0449088/?ref_=fn_t...</td>\n",
              "      <td>1238.0</td>\n",
              "      <td>English</td>\n",
              "      <td>USA</td>\n",
              "      <td>PG-13</td>\n",
              "      <td>300000000.0</td>\n",
              "      <td>2007.0</td>\n",
              "      <td>5000.0</td>\n",
              "      <td>7.1</td>\n",
              "      <td>2.35</td>\n",
              "      <td>0</td>\n",
              "    </tr>\n",
              "    <tr>\n",
              "      <th>2</th>\n",
              "      <td>Color</td>\n",
              "      <td>Sam Mendes</td>\n",
              "      <td>602.0</td>\n",
              "      <td>148.0</td>\n",
              "      <td>0.0</td>\n",
              "      <td>161.0</td>\n",
              "      <td>Rory Kinnear</td>\n",
              "      <td>11000.0</td>\n",
              "      <td>200074175.0</td>\n",
              "      <td>Action|Adventure|Thriller</td>\n",
              "      <td>Christoph Waltz</td>\n",
              "      <td>Spectre</td>\n",
              "      <td>275868</td>\n",
              "      <td>11700</td>\n",
              "      <td>Stephanie Sigman</td>\n",
              "      <td>1.0</td>\n",
              "      <td>bomb|espionage|sequel|spy|terrorist</td>\n",
              "      <td>http://www.imdb.com/title/tt2379713/?ref_=fn_t...</td>\n",
              "      <td>994.0</td>\n",
              "      <td>English</td>\n",
              "      <td>UK</td>\n",
              "      <td>PG-13</td>\n",
              "      <td>245000000.0</td>\n",
              "      <td>2015.0</td>\n",
              "      <td>393.0</td>\n",
              "      <td>6.8</td>\n",
              "      <td>2.35</td>\n",
              "      <td>85000</td>\n",
              "    </tr>\n",
              "    <tr>\n",
              "      <th>3</th>\n",
              "      <td>Color</td>\n",
              "      <td>Christopher Nolan</td>\n",
              "      <td>813.0</td>\n",
              "      <td>164.0</td>\n",
              "      <td>22000.0</td>\n",
              "      <td>23000.0</td>\n",
              "      <td>Christian Bale</td>\n",
              "      <td>27000.0</td>\n",
              "      <td>448130642.0</td>\n",
              "      <td>Action|Thriller</td>\n",
              "      <td>Tom Hardy</td>\n",
              "      <td>The Dark Knight Rises</td>\n",
              "      <td>1144337</td>\n",
              "      <td>106759</td>\n",
              "      <td>Joseph Gordon-Levitt</td>\n",
              "      <td>0.0</td>\n",
              "      <td>deception|imprisonment|lawlessness|police offi...</td>\n",
              "      <td>http://www.imdb.com/title/tt1345836/?ref_=fn_t...</td>\n",
              "      <td>2701.0</td>\n",
              "      <td>English</td>\n",
              "      <td>USA</td>\n",
              "      <td>PG-13</td>\n",
              "      <td>250000000.0</td>\n",
              "      <td>2012.0</td>\n",
              "      <td>23000.0</td>\n",
              "      <td>8.5</td>\n",
              "      <td>2.35</td>\n",
              "      <td>164000</td>\n",
              "    </tr>\n",
              "    <tr>\n",
              "      <th>4</th>\n",
              "      <td>NaN</td>\n",
              "      <td>Doug Walker</td>\n",
              "      <td>NaN</td>\n",
              "      <td>NaN</td>\n",
              "      <td>131.0</td>\n",
              "      <td>NaN</td>\n",
              "      <td>Rob Walker</td>\n",
              "      <td>131.0</td>\n",
              "      <td>NaN</td>\n",
              "      <td>Documentary</td>\n",
              "      <td>Doug Walker</td>\n",
              "      <td>Star Wars: Episode VII - The Force Awakens</td>\n",
              "      <td>8</td>\n",
              "      <td>143</td>\n",
              "      <td>NaN</td>\n",
              "      <td>0.0</td>\n",
              "      <td>NaN</td>\n",
              "      <td>http://www.imdb.com/title/tt5289954/?ref_=fn_t...</td>\n",
              "      <td>NaN</td>\n",
              "      <td>NaN</td>\n",
              "      <td>NaN</td>\n",
              "      <td>NaN</td>\n",
              "      <td>NaN</td>\n",
              "      <td>NaN</td>\n",
              "      <td>12.0</td>\n",
              "      <td>7.1</td>\n",
              "      <td>NaN</td>\n",
              "      <td>0</td>\n",
              "    </tr>\n",
              "  </tbody>\n",
              "</table>\n",
              "</div>"
            ],
            "text/plain": [
              "   color      director_name  num_critic_for_reviews  duration  \\\n",
              "0  Color      James Cameron                   723.0     178.0   \n",
              "1  Color     Gore Verbinski                   302.0     169.0   \n",
              "2  Color         Sam Mendes                   602.0     148.0   \n",
              "3  Color  Christopher Nolan                   813.0     164.0   \n",
              "4    NaN        Doug Walker                     NaN       NaN   \n",
              "\n",
              "   director_facebook_likes  actor_3_facebook_likes      actor_2_name  \\\n",
              "0                      0.0                   855.0  Joel David Moore   \n",
              "1                    563.0                  1000.0     Orlando Bloom   \n",
              "2                      0.0                   161.0      Rory Kinnear   \n",
              "3                  22000.0                 23000.0    Christian Bale   \n",
              "4                    131.0                     NaN        Rob Walker   \n",
              "\n",
              "   actor_1_facebook_likes        gross                           genres  \\\n",
              "0                  1000.0  760505847.0  Action|Adventure|Fantasy|Sci-Fi   \n",
              "1                 40000.0  309404152.0         Action|Adventure|Fantasy   \n",
              "2                 11000.0  200074175.0        Action|Adventure|Thriller   \n",
              "3                 27000.0  448130642.0                  Action|Thriller   \n",
              "4                   131.0          NaN                      Documentary   \n",
              "\n",
              "      actor_1_name                                 movie_title  \\\n",
              "0      CCH Pounder                                      Avatar   \n",
              "1      Johnny Depp    Pirates of the Caribbean: At World's End   \n",
              "2  Christoph Waltz                                     Spectre   \n",
              "3        Tom Hardy                       The Dark Knight Rises   \n",
              "4      Doug Walker  Star Wars: Episode VII - The Force Awakens   \n",
              "\n",
              "   num_voted_users  cast_total_facebook_likes          actor_3_name  \\\n",
              "0           886204                       4834             Wes Studi   \n",
              "1           471220                      48350        Jack Davenport   \n",
              "2           275868                      11700      Stephanie Sigman   \n",
              "3          1144337                     106759  Joseph Gordon-Levitt   \n",
              "4                8                        143                   NaN   \n",
              "\n",
              "   facenumber_in_poster                                      plot_keywords  \\\n",
              "0                   0.0             avatar|future|marine|native|paraplegic   \n",
              "1                   0.0  goddess|marriage ceremony|marriage proposal|pi...   \n",
              "2                   1.0                bomb|espionage|sequel|spy|terrorist   \n",
              "3                   0.0  deception|imprisonment|lawlessness|police offi...   \n",
              "4                   0.0                                                NaN   \n",
              "\n",
              "                                     movie_imdb_link  num_user_for_reviews  \\\n",
              "0  http://www.imdb.com/title/tt0499549/?ref_=fn_t...                3054.0   \n",
              "1  http://www.imdb.com/title/tt0449088/?ref_=fn_t...                1238.0   \n",
              "2  http://www.imdb.com/title/tt2379713/?ref_=fn_t...                 994.0   \n",
              "3  http://www.imdb.com/title/tt1345836/?ref_=fn_t...                2701.0   \n",
              "4  http://www.imdb.com/title/tt5289954/?ref_=fn_t...                   NaN   \n",
              "\n",
              "  language country content_rating       budget  title_year  \\\n",
              "0  English     USA          PG-13  237000000.0      2009.0   \n",
              "1  English     USA          PG-13  300000000.0      2007.0   \n",
              "2  English      UK          PG-13  245000000.0      2015.0   \n",
              "3  English     USA          PG-13  250000000.0      2012.0   \n",
              "4      NaN     NaN            NaN          NaN         NaN   \n",
              "\n",
              "   actor_2_facebook_likes  imdb_score  aspect_ratio  movie_facebook_likes  \n",
              "0                   936.0         7.9          1.78                 33000  \n",
              "1                  5000.0         7.1          2.35                     0  \n",
              "2                   393.0         6.8          2.35                 85000  \n",
              "3                 23000.0         8.5          2.35                164000  \n",
              "4                    12.0         7.1           NaN                     0  "
            ]
          },
          "metadata": {
            "tags": []
          },
          "execution_count": 26
        }
      ]
    },
    {
      "cell_type": "code",
      "metadata": {
        "id": "m8wFLfo3XpRJ",
        "colab_type": "code",
        "colab": {
          "base_uri": "https://localhost:8080/",
          "height": 168
        },
        "outputId": "1c612954-290d-45a7-909f-48475ea46a41"
      },
      "source": [
        "movie.columns"
      ],
      "execution_count": 28,
      "outputs": [
        {
          "output_type": "execute_result",
          "data": {
            "text/plain": [
              "Index(['color', 'director_name', 'num_critic_for_reviews', 'duration',\n",
              "       'director_facebook_likes', 'actor_3_facebook_likes', 'actor_2_name',\n",
              "       'actor_1_facebook_likes', 'gross', 'genres', 'actor_1_name',\n",
              "       'movie_title', 'num_voted_users', 'cast_total_facebook_likes',\n",
              "       'actor_3_name', 'facenumber_in_poster', 'plot_keywords',\n",
              "       'movie_imdb_link', 'num_user_for_reviews', 'language', 'country',\n",
              "       'content_rating', 'budget', 'title_year', 'actor_2_facebook_likes',\n",
              "       'imdb_score', 'aspect_ratio', 'movie_facebook_likes'],\n",
              "      dtype='object')"
            ]
          },
          "metadata": {
            "tags": []
          },
          "execution_count": 28
        }
      ]
    },
    {
      "cell_type": "markdown",
      "metadata": {
        "id": "-dKDtBzmmusa",
        "colab_type": "text"
      },
      "source": [
        "The columns don't appear to have any logical ordering to them. Organize the names sensibly into lists so that the guideline from the previous section is followed:\n"
      ]
    },
    {
      "cell_type": "code",
      "metadata": {
        "id": "ix0yeSIqXpRM",
        "colab_type": "code",
        "colab": {}
      },
      "source": [
        "disc_core = ['movie_title','title_year', 'content_rating','genres']\n",
        "disc_people = ['director_name','actor_1_name', 'actor_2_name','actor_3_name']\n",
        "disc_other = ['color','country','language','plot_keywords','movie_imdb_link']\n",
        "cont_fb = ['director_facebook_likes','actor_1_facebook_likes','actor_2_facebook_likes',\n",
        "           'actor_3_facebook_likes', 'cast_total_facebook_likes', 'movie_facebook_likes']\n",
        "cont_finance = ['budget','gross']\n",
        "cont_num_reviews = ['num_voted_users','num_user_for_reviews', 'num_critic_for_reviews']\n",
        "cont_other = ['imdb_score','duration', 'aspect_ratio', 'facenumber_in_poster']"
      ],
      "execution_count": 0,
      "outputs": []
    },
    {
      "cell_type": "markdown",
      "metadata": {
        "id": "GBq_OVDfnOqi",
        "colab_type": "text"
      },
      "source": [
        "Concatenate all the lists together to get the final column order. Also, ensure that this list contains all the columns from the original:"
      ]
    },
    {
      "cell_type": "code",
      "metadata": {
        "id": "oJpjNtwMXpRQ",
        "colab_type": "code",
        "colab": {}
      },
      "source": [
        "new_col_order = disc_core + disc_people + disc_other + \\\n",
        "                    cont_fb + cont_finance + cont_num_reviews + cont_other\n"
      ],
      "execution_count": 0,
      "outputs": []
    },
    {
      "cell_type": "markdown",
      "metadata": {
        "id": "Uif7EXu4nftW",
        "colab_type": "text"
      },
      "source": [
        "Let's confirm that this new ordered column has all the elements of the other column, with no duplicates or omissions"
      ]
    },
    {
      "cell_type": "code",
      "metadata": {
        "id": "2OEK4iegnMN1",
        "colab_type": "code",
        "colab": {
          "base_uri": "https://localhost:8080/",
          "height": 34
        },
        "outputId": "c4543805-33d8-4937-94c9-a69672c68890"
      },
      "source": [
        "set(movie.columns) == set(new_col_order)"
      ],
      "execution_count": 31,
      "outputs": [
        {
          "output_type": "execute_result",
          "data": {
            "text/plain": [
              "True"
            ]
          },
          "metadata": {
            "tags": []
          },
          "execution_count": 31
        }
      ]
    },
    {
      "cell_type": "markdown",
      "metadata": {
        "id": "0vhRPw3XnyVT",
        "colab_type": "text"
      },
      "source": [
        "Pass the list with the new column order to the indexing operator of the DataFrame to reorder the columns:\n"
      ]
    },
    {
      "cell_type": "code",
      "metadata": {
        "id": "_evBtkocXpRT",
        "colab_type": "code",
        "colab": {
          "base_uri": "https://localhost:8080/",
          "height": 366
        },
        "outputId": "8d8ea27d-e2ea-44ab-9f35-39d48911681d"
      },
      "source": [
        "movie2 = movie[new_col_order]\n",
        "movie2.head()"
      ],
      "execution_count": 32,
      "outputs": [
        {
          "output_type": "execute_result",
          "data": {
            "text/html": [
              "<div>\n",
              "<style scoped>\n",
              "    .dataframe tbody tr th:only-of-type {\n",
              "        vertical-align: middle;\n",
              "    }\n",
              "\n",
              "    .dataframe tbody tr th {\n",
              "        vertical-align: top;\n",
              "    }\n",
              "\n",
              "    .dataframe thead th {\n",
              "        text-align: right;\n",
              "    }\n",
              "</style>\n",
              "<table border=\"1\" class=\"dataframe\">\n",
              "  <thead>\n",
              "    <tr style=\"text-align: right;\">\n",
              "      <th></th>\n",
              "      <th>movie_title</th>\n",
              "      <th>title_year</th>\n",
              "      <th>content_rating</th>\n",
              "      <th>genres</th>\n",
              "      <th>director_name</th>\n",
              "      <th>actor_1_name</th>\n",
              "      <th>actor_2_name</th>\n",
              "      <th>actor_3_name</th>\n",
              "      <th>color</th>\n",
              "      <th>country</th>\n",
              "      <th>language</th>\n",
              "      <th>plot_keywords</th>\n",
              "      <th>movie_imdb_link</th>\n",
              "      <th>director_facebook_likes</th>\n",
              "      <th>actor_1_facebook_likes</th>\n",
              "      <th>actor_2_facebook_likes</th>\n",
              "      <th>actor_3_facebook_likes</th>\n",
              "      <th>cast_total_facebook_likes</th>\n",
              "      <th>movie_facebook_likes</th>\n",
              "      <th>budget</th>\n",
              "      <th>gross</th>\n",
              "      <th>num_voted_users</th>\n",
              "      <th>num_user_for_reviews</th>\n",
              "      <th>num_critic_for_reviews</th>\n",
              "      <th>imdb_score</th>\n",
              "      <th>duration</th>\n",
              "      <th>aspect_ratio</th>\n",
              "      <th>facenumber_in_poster</th>\n",
              "    </tr>\n",
              "  </thead>\n",
              "  <tbody>\n",
              "    <tr>\n",
              "      <th>0</th>\n",
              "      <td>Avatar</td>\n",
              "      <td>2009.0</td>\n",
              "      <td>PG-13</td>\n",
              "      <td>Action|Adventure|Fantasy|Sci-Fi</td>\n",
              "      <td>James Cameron</td>\n",
              "      <td>CCH Pounder</td>\n",
              "      <td>Joel David Moore</td>\n",
              "      <td>Wes Studi</td>\n",
              "      <td>Color</td>\n",
              "      <td>USA</td>\n",
              "      <td>English</td>\n",
              "      <td>avatar|future|marine|native|paraplegic</td>\n",
              "      <td>http://www.imdb.com/title/tt0499549/?ref_=fn_t...</td>\n",
              "      <td>0.0</td>\n",
              "      <td>1000.0</td>\n",
              "      <td>936.0</td>\n",
              "      <td>855.0</td>\n",
              "      <td>4834</td>\n",
              "      <td>33000</td>\n",
              "      <td>237000000.0</td>\n",
              "      <td>760505847.0</td>\n",
              "      <td>886204</td>\n",
              "      <td>3054.0</td>\n",
              "      <td>723.0</td>\n",
              "      <td>7.9</td>\n",
              "      <td>178.0</td>\n",
              "      <td>1.78</td>\n",
              "      <td>0.0</td>\n",
              "    </tr>\n",
              "    <tr>\n",
              "      <th>1</th>\n",
              "      <td>Pirates of the Caribbean: At World's End</td>\n",
              "      <td>2007.0</td>\n",
              "      <td>PG-13</td>\n",
              "      <td>Action|Adventure|Fantasy</td>\n",
              "      <td>Gore Verbinski</td>\n",
              "      <td>Johnny Depp</td>\n",
              "      <td>Orlando Bloom</td>\n",
              "      <td>Jack Davenport</td>\n",
              "      <td>Color</td>\n",
              "      <td>USA</td>\n",
              "      <td>English</td>\n",
              "      <td>goddess|marriage ceremony|marriage proposal|pi...</td>\n",
              "      <td>http://www.imdb.com/title/tt0449088/?ref_=fn_t...</td>\n",
              "      <td>563.0</td>\n",
              "      <td>40000.0</td>\n",
              "      <td>5000.0</td>\n",
              "      <td>1000.0</td>\n",
              "      <td>48350</td>\n",
              "      <td>0</td>\n",
              "      <td>300000000.0</td>\n",
              "      <td>309404152.0</td>\n",
              "      <td>471220</td>\n",
              "      <td>1238.0</td>\n",
              "      <td>302.0</td>\n",
              "      <td>7.1</td>\n",
              "      <td>169.0</td>\n",
              "      <td>2.35</td>\n",
              "      <td>0.0</td>\n",
              "    </tr>\n",
              "    <tr>\n",
              "      <th>2</th>\n",
              "      <td>Spectre</td>\n",
              "      <td>2015.0</td>\n",
              "      <td>PG-13</td>\n",
              "      <td>Action|Adventure|Thriller</td>\n",
              "      <td>Sam Mendes</td>\n",
              "      <td>Christoph Waltz</td>\n",
              "      <td>Rory Kinnear</td>\n",
              "      <td>Stephanie Sigman</td>\n",
              "      <td>Color</td>\n",
              "      <td>UK</td>\n",
              "      <td>English</td>\n",
              "      <td>bomb|espionage|sequel|spy|terrorist</td>\n",
              "      <td>http://www.imdb.com/title/tt2379713/?ref_=fn_t...</td>\n",
              "      <td>0.0</td>\n",
              "      <td>11000.0</td>\n",
              "      <td>393.0</td>\n",
              "      <td>161.0</td>\n",
              "      <td>11700</td>\n",
              "      <td>85000</td>\n",
              "      <td>245000000.0</td>\n",
              "      <td>200074175.0</td>\n",
              "      <td>275868</td>\n",
              "      <td>994.0</td>\n",
              "      <td>602.0</td>\n",
              "      <td>6.8</td>\n",
              "      <td>148.0</td>\n",
              "      <td>2.35</td>\n",
              "      <td>1.0</td>\n",
              "    </tr>\n",
              "    <tr>\n",
              "      <th>3</th>\n",
              "      <td>The Dark Knight Rises</td>\n",
              "      <td>2012.0</td>\n",
              "      <td>PG-13</td>\n",
              "      <td>Action|Thriller</td>\n",
              "      <td>Christopher Nolan</td>\n",
              "      <td>Tom Hardy</td>\n",
              "      <td>Christian Bale</td>\n",
              "      <td>Joseph Gordon-Levitt</td>\n",
              "      <td>Color</td>\n",
              "      <td>USA</td>\n",
              "      <td>English</td>\n",
              "      <td>deception|imprisonment|lawlessness|police offi...</td>\n",
              "      <td>http://www.imdb.com/title/tt1345836/?ref_=fn_t...</td>\n",
              "      <td>22000.0</td>\n",
              "      <td>27000.0</td>\n",
              "      <td>23000.0</td>\n",
              "      <td>23000.0</td>\n",
              "      <td>106759</td>\n",
              "      <td>164000</td>\n",
              "      <td>250000000.0</td>\n",
              "      <td>448130642.0</td>\n",
              "      <td>1144337</td>\n",
              "      <td>2701.0</td>\n",
              "      <td>813.0</td>\n",
              "      <td>8.5</td>\n",
              "      <td>164.0</td>\n",
              "      <td>2.35</td>\n",
              "      <td>0.0</td>\n",
              "    </tr>\n",
              "    <tr>\n",
              "      <th>4</th>\n",
              "      <td>Star Wars: Episode VII - The Force Awakens</td>\n",
              "      <td>NaN</td>\n",
              "      <td>NaN</td>\n",
              "      <td>Documentary</td>\n",
              "      <td>Doug Walker</td>\n",
              "      <td>Doug Walker</td>\n",
              "      <td>Rob Walker</td>\n",
              "      <td>NaN</td>\n",
              "      <td>NaN</td>\n",
              "      <td>NaN</td>\n",
              "      <td>NaN</td>\n",
              "      <td>NaN</td>\n",
              "      <td>http://www.imdb.com/title/tt5289954/?ref_=fn_t...</td>\n",
              "      <td>131.0</td>\n",
              "      <td>131.0</td>\n",
              "      <td>12.0</td>\n",
              "      <td>NaN</td>\n",
              "      <td>143</td>\n",
              "      <td>0</td>\n",
              "      <td>NaN</td>\n",
              "      <td>NaN</td>\n",
              "      <td>8</td>\n",
              "      <td>NaN</td>\n",
              "      <td>NaN</td>\n",
              "      <td>7.1</td>\n",
              "      <td>NaN</td>\n",
              "      <td>NaN</td>\n",
              "      <td>0.0</td>\n",
              "    </tr>\n",
              "  </tbody>\n",
              "</table>\n",
              "</div>"
            ],
            "text/plain": [
              "                                  movie_title  title_year content_rating  \\\n",
              "0                                      Avatar      2009.0          PG-13   \n",
              "1    Pirates of the Caribbean: At World's End      2007.0          PG-13   \n",
              "2                                     Spectre      2015.0          PG-13   \n",
              "3                       The Dark Knight Rises      2012.0          PG-13   \n",
              "4  Star Wars: Episode VII - The Force Awakens         NaN            NaN   \n",
              "\n",
              "                            genres      director_name     actor_1_name  \\\n",
              "0  Action|Adventure|Fantasy|Sci-Fi      James Cameron      CCH Pounder   \n",
              "1         Action|Adventure|Fantasy     Gore Verbinski      Johnny Depp   \n",
              "2        Action|Adventure|Thriller         Sam Mendes  Christoph Waltz   \n",
              "3                  Action|Thriller  Christopher Nolan        Tom Hardy   \n",
              "4                      Documentary        Doug Walker      Doug Walker   \n",
              "\n",
              "       actor_2_name          actor_3_name  color country language  \\\n",
              "0  Joel David Moore             Wes Studi  Color     USA  English   \n",
              "1     Orlando Bloom        Jack Davenport  Color     USA  English   \n",
              "2      Rory Kinnear      Stephanie Sigman  Color      UK  English   \n",
              "3    Christian Bale  Joseph Gordon-Levitt  Color     USA  English   \n",
              "4        Rob Walker                   NaN    NaN     NaN      NaN   \n",
              "\n",
              "                                       plot_keywords  \\\n",
              "0             avatar|future|marine|native|paraplegic   \n",
              "1  goddess|marriage ceremony|marriage proposal|pi...   \n",
              "2                bomb|espionage|sequel|spy|terrorist   \n",
              "3  deception|imprisonment|lawlessness|police offi...   \n",
              "4                                                NaN   \n",
              "\n",
              "                                     movie_imdb_link  director_facebook_likes  \\\n",
              "0  http://www.imdb.com/title/tt0499549/?ref_=fn_t...                      0.0   \n",
              "1  http://www.imdb.com/title/tt0449088/?ref_=fn_t...                    563.0   \n",
              "2  http://www.imdb.com/title/tt2379713/?ref_=fn_t...                      0.0   \n",
              "3  http://www.imdb.com/title/tt1345836/?ref_=fn_t...                  22000.0   \n",
              "4  http://www.imdb.com/title/tt5289954/?ref_=fn_t...                    131.0   \n",
              "\n",
              "   actor_1_facebook_likes  actor_2_facebook_likes  actor_3_facebook_likes  \\\n",
              "0                  1000.0                   936.0                   855.0   \n",
              "1                 40000.0                  5000.0                  1000.0   \n",
              "2                 11000.0                   393.0                   161.0   \n",
              "3                 27000.0                 23000.0                 23000.0   \n",
              "4                   131.0                    12.0                     NaN   \n",
              "\n",
              "   cast_total_facebook_likes  movie_facebook_likes       budget        gross  \\\n",
              "0                       4834                 33000  237000000.0  760505847.0   \n",
              "1                      48350                     0  300000000.0  309404152.0   \n",
              "2                      11700                 85000  245000000.0  200074175.0   \n",
              "3                     106759                164000  250000000.0  448130642.0   \n",
              "4                        143                     0          NaN          NaN   \n",
              "\n",
              "   num_voted_users  num_user_for_reviews  num_critic_for_reviews  imdb_score  \\\n",
              "0           886204                3054.0                   723.0         7.9   \n",
              "1           471220                1238.0                   302.0         7.1   \n",
              "2           275868                 994.0                   602.0         6.8   \n",
              "3          1144337                2701.0                   813.0         8.5   \n",
              "4                8                   NaN                     NaN         7.1   \n",
              "\n",
              "   duration  aspect_ratio  facenumber_in_poster  \n",
              "0     178.0          1.78                   0.0  \n",
              "1     169.0          2.35                   0.0  \n",
              "2     148.0          2.35                   1.0  \n",
              "3     164.0          2.35                   0.0  \n",
              "4       NaN           NaN                   0.0  "
            ]
          },
          "metadata": {
            "tags": []
          },
          "execution_count": 32
        }
      ]
    },
    {
      "cell_type": "markdown",
      "metadata": {
        "id": "GJmdj26joe0Z",
        "colab_type": "text"
      },
      "source": [
        "How it works...\n",
        "To select a subset of columns from a DataFrame, use a list of specific column names. For instance, movie[['movie_title', 'director_name']] creates a new DataFrame with only the movie_title and director_name columns. Selecting columns by name is the default behavior of the indexing operator for a pandas DataFrame.\n",
        "\n",
        "Step 3 neatly organizes all of the column names into separate lists based on their type (discrete or continuous) and by how similar their data is. The most important columns, such as the title of the movie, are placed first.\n",
        "\n",
        "Step 4 concatenates all of the lists of column names and validates that this new list contains the same exact values as the original column names. Python sets are unordered and the equality statement checks whether each member of one set is a member of the other. Manually ordering columns in this recipe is susceptible to human error as it's easy to mistakenly forget a column in the new column list.\n",
        "\n",
        "Step 5 completes the reordering by passing the new column order as a list to the indexing operator. This new order is now much more sensible than the original."
      ]
    },
    {
      "cell_type": "markdown",
      "metadata": {
        "id": "ksL_DTY2pVcZ",
        "colab_type": "text"
      },
      "source": [
        "There's more...\n",
        "There are alternative guidelines for ordering columns besides the simple suggestion mentioned earlier. Hadley Wickham's seminal paper on Tidy Data suggests placing the fixed variables first, followed by measured variables. As this data does not emanate from a controlled experiment, there is some flexibility in determining which variables are fixed and which ones are measured. Good candidates for measured variables are those that we would like to predict such as gross, the total revenue, or the imdb_score. For instance, in this ordering, we can mix discrete and continuous variables. It might make more sense to place the column for the number of Facebook likes directly after the name of that actor. You can, of course, come up with your own guidelines for column order as the computational parts are unaffected by it.\n",
        "\n",
        "Quite often, you will be pulling data directly from a relational database. A very common practice for relational databases is to have the primary key (if it exists) as the first column and any foreign keys directly following it.\n",
        "\n",
        "Hadley Wickham's paper on [Tidy Data](http://bit.ly/2v1hvH5) "
      ]
    },
    {
      "cell_type": "markdown",
      "metadata": {
        "id": "G1MZGFVpXpRW",
        "colab_type": "text"
      },
      "source": [
        "# Operating on the entire DataFrame"
      ]
    },
    {
      "cell_type": "code",
      "metadata": {
        "id": "47UuHR35XpRW",
        "colab_type": "code",
        "colab": {
          "base_uri": "https://localhost:8080/",
          "height": 34
        },
        "outputId": "b5bd24ee-4282-442a-ce9d-972d905d77e5"
      },
      "source": [
        "pd.options.display.max_rows = 8\n",
        "movie = pd.read_csv('/content/gdrive/My Drive/Colab_Notebooks/data_tools/pandas/PandasCookBook_Code/data/movie.csv')\n",
        "movie.shape"
      ],
      "execution_count": 33,
      "outputs": [
        {
          "output_type": "execute_result",
          "data": {
            "text/plain": [
              "(4916, 28)"
            ]
          },
          "metadata": {
            "tags": []
          },
          "execution_count": 33
        }
      ]
    },
    {
      "cell_type": "code",
      "metadata": {
        "id": "Q37FPLfUXpRZ",
        "colab_type": "code",
        "colab": {
          "base_uri": "https://localhost:8080/",
          "height": 34
        },
        "outputId": "c07f0dd5-d00f-4243-8556-bf458bcc67e0"
      },
      "source": [
        "movie.size"
      ],
      "execution_count": 34,
      "outputs": [
        {
          "output_type": "execute_result",
          "data": {
            "text/plain": [
              "137648"
            ]
          },
          "metadata": {
            "tags": []
          },
          "execution_count": 34
        }
      ]
    },
    {
      "cell_type": "code",
      "metadata": {
        "id": "fUyCsjVqXpRd",
        "colab_type": "code",
        "colab": {
          "base_uri": "https://localhost:8080/",
          "height": 34
        },
        "outputId": "c7b298e8-23cf-4240-93b7-fcd9536b5a73"
      },
      "source": [
        "movie.ndim"
      ],
      "execution_count": 35,
      "outputs": [
        {
          "output_type": "execute_result",
          "data": {
            "text/plain": [
              "2"
            ]
          },
          "metadata": {
            "tags": []
          },
          "execution_count": 35
        }
      ]
    },
    {
      "cell_type": "code",
      "metadata": {
        "id": "ntp9sg3iXpRf",
        "colab_type": "code",
        "colab": {
          "base_uri": "https://localhost:8080/",
          "height": 34
        },
        "outputId": "4fe06e33-7164-488e-d8d8-5ee13db86a77"
      },
      "source": [
        "len(movie)"
      ],
      "execution_count": 36,
      "outputs": [
        {
          "output_type": "execute_result",
          "data": {
            "text/plain": [
              "4916"
            ]
          },
          "metadata": {
            "tags": []
          },
          "execution_count": 36
        }
      ]
    },
    {
      "cell_type": "markdown",
      "metadata": {
        "id": "cFGEdQB3s-uN",
        "colab_type": "text"
      },
      "source": [
        "Use the count method to find the number of non-missing values for each column. The output is a Series that now has the old column names as its index:"
      ]
    },
    {
      "cell_type": "code",
      "metadata": {
        "id": "EWThP2w1XpRi",
        "colab_type": "code",
        "colab": {
          "base_uri": "https://localhost:8080/",
          "height": 185
        },
        "outputId": "0b636a03-29c0-481a-a9f8-758704508bea"
      },
      "source": [
        "movie.count()"
      ],
      "execution_count": 38,
      "outputs": [
        {
          "output_type": "execute_result",
          "data": {
            "text/plain": [
              "color                     4897\n",
              "director_name             4814\n",
              "num_critic_for_reviews    4867\n",
              "duration                  4901\n",
              "                          ... \n",
              "actor_2_facebook_likes    4903\n",
              "imdb_score                4916\n",
              "aspect_ratio              4590\n",
              "movie_facebook_likes      4916\n",
              "Length: 28, dtype: int64"
            ]
          },
          "metadata": {
            "tags": []
          },
          "execution_count": 38
        }
      ]
    },
    {
      "cell_type": "markdown",
      "metadata": {
        "id": "lMXVja9_tXsf",
        "colab_type": "text"
      },
      "source": [
        "The other methods that compute summary statistics such as min, max, mean, median, and std all return similar Series, with column names in the index and their computational result as the values:\n"
      ]
    },
    {
      "cell_type": "code",
      "metadata": {
        "id": "nj4c4ePrXpRl",
        "colab_type": "code",
        "colab": {
          "base_uri": "https://localhost:8080/",
          "height": 185
        },
        "outputId": "68587cd5-f772-4cf6-870d-f6d5fc02c3ef"
      },
      "source": [
        "movie.min()"
      ],
      "execution_count": 39,
      "outputs": [
        {
          "output_type": "execute_result",
          "data": {
            "text/plain": [
              "num_critic_for_reviews     1.00\n",
              "duration                   7.00\n",
              "director_facebook_likes    0.00\n",
              "actor_3_facebook_likes     0.00\n",
              "                           ... \n",
              "actor_2_facebook_likes     0.00\n",
              "imdb_score                 1.60\n",
              "aspect_ratio               1.18\n",
              "movie_facebook_likes       0.00\n",
              "Length: 16, dtype: float64"
            ]
          },
          "metadata": {
            "tags": []
          },
          "execution_count": 39
        }
      ]
    },
    {
      "cell_type": "markdown",
      "metadata": {
        "id": "ivPV_FwAthim",
        "colab_type": "text"
      },
      "source": [
        "The describe method is very powerful and calculates all the descriptive statistics and quartiles in the preceding steps all at once. The end result is a DataFrame with the descriptive statistics as its index:\n"
      ]
    },
    {
      "cell_type": "code",
      "metadata": {
        "id": "vnP2rSaEXpRn",
        "colab_type": "code",
        "colab": {
          "base_uri": "https://localhost:8080/",
          "height": 304
        },
        "outputId": "84c43a97-4950-4b79-8df2-c2e93e9d7f72"
      },
      "source": [
        "movie.describe()"
      ],
      "execution_count": 40,
      "outputs": [
        {
          "output_type": "execute_result",
          "data": {
            "text/html": [
              "<div>\n",
              "<style scoped>\n",
              "    .dataframe tbody tr th:only-of-type {\n",
              "        vertical-align: middle;\n",
              "    }\n",
              "\n",
              "    .dataframe tbody tr th {\n",
              "        vertical-align: top;\n",
              "    }\n",
              "\n",
              "    .dataframe thead th {\n",
              "        text-align: right;\n",
              "    }\n",
              "</style>\n",
              "<table border=\"1\" class=\"dataframe\">\n",
              "  <thead>\n",
              "    <tr style=\"text-align: right;\">\n",
              "      <th></th>\n",
              "      <th>num_critic_for_reviews</th>\n",
              "      <th>duration</th>\n",
              "      <th>director_facebook_likes</th>\n",
              "      <th>actor_3_facebook_likes</th>\n",
              "      <th>actor_1_facebook_likes</th>\n",
              "      <th>gross</th>\n",
              "      <th>num_voted_users</th>\n",
              "      <th>cast_total_facebook_likes</th>\n",
              "      <th>facenumber_in_poster</th>\n",
              "      <th>num_user_for_reviews</th>\n",
              "      <th>budget</th>\n",
              "      <th>title_year</th>\n",
              "      <th>actor_2_facebook_likes</th>\n",
              "      <th>imdb_score</th>\n",
              "      <th>aspect_ratio</th>\n",
              "      <th>movie_facebook_likes</th>\n",
              "    </tr>\n",
              "  </thead>\n",
              "  <tbody>\n",
              "    <tr>\n",
              "      <th>count</th>\n",
              "      <td>4867.000000</td>\n",
              "      <td>4901.000000</td>\n",
              "      <td>4814.000000</td>\n",
              "      <td>4893.000000</td>\n",
              "      <td>4909.000000</td>\n",
              "      <td>4.054000e+03</td>\n",
              "      <td>4.916000e+03</td>\n",
              "      <td>4916.000000</td>\n",
              "      <td>4903.000000</td>\n",
              "      <td>4895.000000</td>\n",
              "      <td>4.432000e+03</td>\n",
              "      <td>4810.000000</td>\n",
              "      <td>4903.000000</td>\n",
              "      <td>4916.000000</td>\n",
              "      <td>4590.000000</td>\n",
              "      <td>4916.000000</td>\n",
              "    </tr>\n",
              "    <tr>\n",
              "      <th>mean</th>\n",
              "      <td>137.988905</td>\n",
              "      <td>107.090798</td>\n",
              "      <td>691.014541</td>\n",
              "      <td>631.276313</td>\n",
              "      <td>6494.488491</td>\n",
              "      <td>4.764451e+07</td>\n",
              "      <td>8.264492e+04</td>\n",
              "      <td>9579.815907</td>\n",
              "      <td>1.377320</td>\n",
              "      <td>267.668846</td>\n",
              "      <td>3.654749e+07</td>\n",
              "      <td>2002.447609</td>\n",
              "      <td>1621.923516</td>\n",
              "      <td>6.437429</td>\n",
              "      <td>2.222349</td>\n",
              "      <td>7348.294142</td>\n",
              "    </tr>\n",
              "    <tr>\n",
              "      <th>std</th>\n",
              "      <td>120.239379</td>\n",
              "      <td>25.286015</td>\n",
              "      <td>2832.954125</td>\n",
              "      <td>1625.874802</td>\n",
              "      <td>15106.986884</td>\n",
              "      <td>6.737255e+07</td>\n",
              "      <td>1.383222e+05</td>\n",
              "      <td>18164.316990</td>\n",
              "      <td>2.023826</td>\n",
              "      <td>372.934839</td>\n",
              "      <td>1.002427e+08</td>\n",
              "      <td>12.453977</td>\n",
              "      <td>4011.299523</td>\n",
              "      <td>1.127802</td>\n",
              "      <td>1.402940</td>\n",
              "      <td>19206.016458</td>\n",
              "    </tr>\n",
              "    <tr>\n",
              "      <th>min</th>\n",
              "      <td>1.000000</td>\n",
              "      <td>7.000000</td>\n",
              "      <td>0.000000</td>\n",
              "      <td>0.000000</td>\n",
              "      <td>0.000000</td>\n",
              "      <td>1.620000e+02</td>\n",
              "      <td>5.000000e+00</td>\n",
              "      <td>0.000000</td>\n",
              "      <td>0.000000</td>\n",
              "      <td>1.000000</td>\n",
              "      <td>2.180000e+02</td>\n",
              "      <td>1916.000000</td>\n",
              "      <td>0.000000</td>\n",
              "      <td>1.600000</td>\n",
              "      <td>1.180000</td>\n",
              "      <td>0.000000</td>\n",
              "    </tr>\n",
              "    <tr>\n",
              "      <th>25%</th>\n",
              "      <td>49.000000</td>\n",
              "      <td>93.000000</td>\n",
              "      <td>7.000000</td>\n",
              "      <td>132.000000</td>\n",
              "      <td>607.000000</td>\n",
              "      <td>5.019656e+06</td>\n",
              "      <td>8.361750e+03</td>\n",
              "      <td>1394.750000</td>\n",
              "      <td>0.000000</td>\n",
              "      <td>64.000000</td>\n",
              "      <td>6.000000e+06</td>\n",
              "      <td>1999.000000</td>\n",
              "      <td>277.000000</td>\n",
              "      <td>5.800000</td>\n",
              "      <td>1.850000</td>\n",
              "      <td>0.000000</td>\n",
              "    </tr>\n",
              "    <tr>\n",
              "      <th>50%</th>\n",
              "      <td>108.000000</td>\n",
              "      <td>103.000000</td>\n",
              "      <td>48.000000</td>\n",
              "      <td>366.000000</td>\n",
              "      <td>982.000000</td>\n",
              "      <td>2.504396e+07</td>\n",
              "      <td>3.313250e+04</td>\n",
              "      <td>3049.000000</td>\n",
              "      <td>1.000000</td>\n",
              "      <td>153.000000</td>\n",
              "      <td>1.985000e+07</td>\n",
              "      <td>2005.000000</td>\n",
              "      <td>593.000000</td>\n",
              "      <td>6.600000</td>\n",
              "      <td>2.350000</td>\n",
              "      <td>159.000000</td>\n",
              "    </tr>\n",
              "    <tr>\n",
              "      <th>75%</th>\n",
              "      <td>191.000000</td>\n",
              "      <td>118.000000</td>\n",
              "      <td>189.750000</td>\n",
              "      <td>633.000000</td>\n",
              "      <td>11000.000000</td>\n",
              "      <td>6.110841e+07</td>\n",
              "      <td>9.377275e+04</td>\n",
              "      <td>13616.750000</td>\n",
              "      <td>2.000000</td>\n",
              "      <td>320.500000</td>\n",
              "      <td>4.300000e+07</td>\n",
              "      <td>2011.000000</td>\n",
              "      <td>912.000000</td>\n",
              "      <td>7.200000</td>\n",
              "      <td>2.350000</td>\n",
              "      <td>2000.000000</td>\n",
              "    </tr>\n",
              "    <tr>\n",
              "      <th>max</th>\n",
              "      <td>813.000000</td>\n",
              "      <td>511.000000</td>\n",
              "      <td>23000.000000</td>\n",
              "      <td>23000.000000</td>\n",
              "      <td>640000.000000</td>\n",
              "      <td>7.605058e+08</td>\n",
              "      <td>1.689764e+06</td>\n",
              "      <td>656730.000000</td>\n",
              "      <td>43.000000</td>\n",
              "      <td>5060.000000</td>\n",
              "      <td>4.200000e+09</td>\n",
              "      <td>2016.000000</td>\n",
              "      <td>137000.000000</td>\n",
              "      <td>9.500000</td>\n",
              "      <td>16.000000</td>\n",
              "      <td>349000.000000</td>\n",
              "    </tr>\n",
              "  </tbody>\n",
              "</table>\n",
              "</div>"
            ],
            "text/plain": [
              "       num_critic_for_reviews     duration  director_facebook_likes  \\\n",
              "count             4867.000000  4901.000000              4814.000000   \n",
              "mean               137.988905   107.090798               691.014541   \n",
              "std                120.239379    25.286015              2832.954125   \n",
              "min                  1.000000     7.000000                 0.000000   \n",
              "25%                 49.000000    93.000000                 7.000000   \n",
              "50%                108.000000   103.000000                48.000000   \n",
              "75%                191.000000   118.000000               189.750000   \n",
              "max                813.000000   511.000000             23000.000000   \n",
              "\n",
              "       actor_3_facebook_likes  actor_1_facebook_likes         gross  \\\n",
              "count             4893.000000             4909.000000  4.054000e+03   \n",
              "mean               631.276313             6494.488491  4.764451e+07   \n",
              "std               1625.874802            15106.986884  6.737255e+07   \n",
              "min                  0.000000                0.000000  1.620000e+02   \n",
              "25%                132.000000              607.000000  5.019656e+06   \n",
              "50%                366.000000              982.000000  2.504396e+07   \n",
              "75%                633.000000            11000.000000  6.110841e+07   \n",
              "max              23000.000000           640000.000000  7.605058e+08   \n",
              "\n",
              "       num_voted_users  cast_total_facebook_likes  facenumber_in_poster  \\\n",
              "count     4.916000e+03                4916.000000           4903.000000   \n",
              "mean      8.264492e+04                9579.815907              1.377320   \n",
              "std       1.383222e+05               18164.316990              2.023826   \n",
              "min       5.000000e+00                   0.000000              0.000000   \n",
              "25%       8.361750e+03                1394.750000              0.000000   \n",
              "50%       3.313250e+04                3049.000000              1.000000   \n",
              "75%       9.377275e+04               13616.750000              2.000000   \n",
              "max       1.689764e+06              656730.000000             43.000000   \n",
              "\n",
              "       num_user_for_reviews        budget   title_year  \\\n",
              "count           4895.000000  4.432000e+03  4810.000000   \n",
              "mean             267.668846  3.654749e+07  2002.447609   \n",
              "std              372.934839  1.002427e+08    12.453977   \n",
              "min                1.000000  2.180000e+02  1916.000000   \n",
              "25%               64.000000  6.000000e+06  1999.000000   \n",
              "50%              153.000000  1.985000e+07  2005.000000   \n",
              "75%              320.500000  4.300000e+07  2011.000000   \n",
              "max             5060.000000  4.200000e+09  2016.000000   \n",
              "\n",
              "       actor_2_facebook_likes   imdb_score  aspect_ratio  movie_facebook_likes  \n",
              "count             4903.000000  4916.000000   4590.000000           4916.000000  \n",
              "mean              1621.923516     6.437429      2.222349           7348.294142  \n",
              "std               4011.299523     1.127802      1.402940          19206.016458  \n",
              "min                  0.000000     1.600000      1.180000              0.000000  \n",
              "25%                277.000000     5.800000      1.850000              0.000000  \n",
              "50%                593.000000     6.600000      2.350000            159.000000  \n",
              "75%                912.000000     7.200000      2.350000           2000.000000  \n",
              "max             137000.000000     9.500000     16.000000         349000.000000  "
            ]
          },
          "metadata": {
            "tags": []
          },
          "execution_count": 40
        }
      ]
    },
    {
      "cell_type": "code",
      "metadata": {
        "id": "vcohvDB6XpRr",
        "colab_type": "code",
        "colab": {}
      },
      "source": [
        "pd.options.display.max_rows = 10"
      ],
      "execution_count": 0,
      "outputs": []
    },
    {
      "cell_type": "markdown",
      "metadata": {
        "id": "JWfJdgjPt1yD",
        "colab_type": "text"
      },
      "source": [
        "It is possible to specify exact quantiles in the describe method using the percentiles parameter:\n"
      ]
    },
    {
      "cell_type": "code",
      "metadata": {
        "id": "1yrek3N_XpRs",
        "colab_type": "code",
        "colab": {
          "base_uri": "https://localhost:8080/",
          "height": 334
        },
        "outputId": "86b075c3-d0c1-4963-eb9f-2179c3b0b3a5"
      },
      "source": [
        "movie.describe(percentiles=[.01, .3, .99])"
      ],
      "execution_count": 42,
      "outputs": [
        {
          "output_type": "execute_result",
          "data": {
            "text/html": [
              "<div>\n",
              "<style scoped>\n",
              "    .dataframe tbody tr th:only-of-type {\n",
              "        vertical-align: middle;\n",
              "    }\n",
              "\n",
              "    .dataframe tbody tr th {\n",
              "        vertical-align: top;\n",
              "    }\n",
              "\n",
              "    .dataframe thead th {\n",
              "        text-align: right;\n",
              "    }\n",
              "</style>\n",
              "<table border=\"1\" class=\"dataframe\">\n",
              "  <thead>\n",
              "    <tr style=\"text-align: right;\">\n",
              "      <th></th>\n",
              "      <th>num_critic_for_reviews</th>\n",
              "      <th>duration</th>\n",
              "      <th>director_facebook_likes</th>\n",
              "      <th>actor_3_facebook_likes</th>\n",
              "      <th>actor_1_facebook_likes</th>\n",
              "      <th>gross</th>\n",
              "      <th>num_voted_users</th>\n",
              "      <th>cast_total_facebook_likes</th>\n",
              "      <th>facenumber_in_poster</th>\n",
              "      <th>num_user_for_reviews</th>\n",
              "      <th>budget</th>\n",
              "      <th>title_year</th>\n",
              "      <th>actor_2_facebook_likes</th>\n",
              "      <th>imdb_score</th>\n",
              "      <th>aspect_ratio</th>\n",
              "      <th>movie_facebook_likes</th>\n",
              "    </tr>\n",
              "  </thead>\n",
              "  <tbody>\n",
              "    <tr>\n",
              "      <th>count</th>\n",
              "      <td>4867.000000</td>\n",
              "      <td>4901.000000</td>\n",
              "      <td>4814.000000</td>\n",
              "      <td>4893.000000</td>\n",
              "      <td>4909.000000</td>\n",
              "      <td>4.054000e+03</td>\n",
              "      <td>4.916000e+03</td>\n",
              "      <td>4916.000000</td>\n",
              "      <td>4903.000000</td>\n",
              "      <td>4895.000000</td>\n",
              "      <td>4.432000e+03</td>\n",
              "      <td>4810.000000</td>\n",
              "      <td>4903.000000</td>\n",
              "      <td>4916.000000</td>\n",
              "      <td>4590.000000</td>\n",
              "      <td>4916.000000</td>\n",
              "    </tr>\n",
              "    <tr>\n",
              "      <th>mean</th>\n",
              "      <td>137.988905</td>\n",
              "      <td>107.090798</td>\n",
              "      <td>691.014541</td>\n",
              "      <td>631.276313</td>\n",
              "      <td>6494.488491</td>\n",
              "      <td>4.764451e+07</td>\n",
              "      <td>8.264492e+04</td>\n",
              "      <td>9579.815907</td>\n",
              "      <td>1.377320</td>\n",
              "      <td>267.668846</td>\n",
              "      <td>3.654749e+07</td>\n",
              "      <td>2002.447609</td>\n",
              "      <td>1621.923516</td>\n",
              "      <td>6.437429</td>\n",
              "      <td>2.222349</td>\n",
              "      <td>7348.294142</td>\n",
              "    </tr>\n",
              "    <tr>\n",
              "      <th>std</th>\n",
              "      <td>120.239379</td>\n",
              "      <td>25.286015</td>\n",
              "      <td>2832.954125</td>\n",
              "      <td>1625.874802</td>\n",
              "      <td>15106.986884</td>\n",
              "      <td>6.737255e+07</td>\n",
              "      <td>1.383222e+05</td>\n",
              "      <td>18164.316990</td>\n",
              "      <td>2.023826</td>\n",
              "      <td>372.934839</td>\n",
              "      <td>1.002427e+08</td>\n",
              "      <td>12.453977</td>\n",
              "      <td>4011.299523</td>\n",
              "      <td>1.127802</td>\n",
              "      <td>1.402940</td>\n",
              "      <td>19206.016458</td>\n",
              "    </tr>\n",
              "    <tr>\n",
              "      <th>min</th>\n",
              "      <td>1.000000</td>\n",
              "      <td>7.000000</td>\n",
              "      <td>0.000000</td>\n",
              "      <td>0.000000</td>\n",
              "      <td>0.000000</td>\n",
              "      <td>1.620000e+02</td>\n",
              "      <td>5.000000e+00</td>\n",
              "      <td>0.000000</td>\n",
              "      <td>0.000000</td>\n",
              "      <td>1.000000</td>\n",
              "      <td>2.180000e+02</td>\n",
              "      <td>1916.000000</td>\n",
              "      <td>0.000000</td>\n",
              "      <td>1.600000</td>\n",
              "      <td>1.180000</td>\n",
              "      <td>0.000000</td>\n",
              "    </tr>\n",
              "    <tr>\n",
              "      <th>1%</th>\n",
              "      <td>2.000000</td>\n",
              "      <td>43.000000</td>\n",
              "      <td>0.000000</td>\n",
              "      <td>0.000000</td>\n",
              "      <td>6.080000</td>\n",
              "      <td>8.474800e+03</td>\n",
              "      <td>5.300000e+01</td>\n",
              "      <td>6.000000</td>\n",
              "      <td>0.000000</td>\n",
              "      <td>1.940000</td>\n",
              "      <td>6.000000e+04</td>\n",
              "      <td>1951.000000</td>\n",
              "      <td>0.000000</td>\n",
              "      <td>3.100000</td>\n",
              "      <td>1.330000</td>\n",
              "      <td>0.000000</td>\n",
              "    </tr>\n",
              "    <tr>\n",
              "      <th>30%</th>\n",
              "      <td>60.000000</td>\n",
              "      <td>95.000000</td>\n",
              "      <td>11.000000</td>\n",
              "      <td>176.000000</td>\n",
              "      <td>694.000000</td>\n",
              "      <td>7.914069e+06</td>\n",
              "      <td>1.186450e+04</td>\n",
              "      <td>1684.500000</td>\n",
              "      <td>0.000000</td>\n",
              "      <td>80.000000</td>\n",
              "      <td>8.000000e+06</td>\n",
              "      <td>2000.000000</td>\n",
              "      <td>345.000000</td>\n",
              "      <td>6.000000</td>\n",
              "      <td>1.850000</td>\n",
              "      <td>0.000000</td>\n",
              "    </tr>\n",
              "    <tr>\n",
              "      <th>50%</th>\n",
              "      <td>108.000000</td>\n",
              "      <td>103.000000</td>\n",
              "      <td>48.000000</td>\n",
              "      <td>366.000000</td>\n",
              "      <td>982.000000</td>\n",
              "      <td>2.504396e+07</td>\n",
              "      <td>3.313250e+04</td>\n",
              "      <td>3049.000000</td>\n",
              "      <td>1.000000</td>\n",
              "      <td>153.000000</td>\n",
              "      <td>1.985000e+07</td>\n",
              "      <td>2005.000000</td>\n",
              "      <td>593.000000</td>\n",
              "      <td>6.600000</td>\n",
              "      <td>2.350000</td>\n",
              "      <td>159.000000</td>\n",
              "    </tr>\n",
              "    <tr>\n",
              "      <th>99%</th>\n",
              "      <td>546.680000</td>\n",
              "      <td>189.000000</td>\n",
              "      <td>16000.000000</td>\n",
              "      <td>11000.000000</td>\n",
              "      <td>44920.000000</td>\n",
              "      <td>3.264128e+08</td>\n",
              "      <td>6.815846e+05</td>\n",
              "      <td>62413.900000</td>\n",
              "      <td>8.000000</td>\n",
              "      <td>1999.240000</td>\n",
              "      <td>2.000000e+08</td>\n",
              "      <td>2016.000000</td>\n",
              "      <td>17000.000000</td>\n",
              "      <td>8.500000</td>\n",
              "      <td>4.000000</td>\n",
              "      <td>93850.000000</td>\n",
              "    </tr>\n",
              "    <tr>\n",
              "      <th>max</th>\n",
              "      <td>813.000000</td>\n",
              "      <td>511.000000</td>\n",
              "      <td>23000.000000</td>\n",
              "      <td>23000.000000</td>\n",
              "      <td>640000.000000</td>\n",
              "      <td>7.605058e+08</td>\n",
              "      <td>1.689764e+06</td>\n",
              "      <td>656730.000000</td>\n",
              "      <td>43.000000</td>\n",
              "      <td>5060.000000</td>\n",
              "      <td>4.200000e+09</td>\n",
              "      <td>2016.000000</td>\n",
              "      <td>137000.000000</td>\n",
              "      <td>9.500000</td>\n",
              "      <td>16.000000</td>\n",
              "      <td>349000.000000</td>\n",
              "    </tr>\n",
              "  </tbody>\n",
              "</table>\n",
              "</div>"
            ],
            "text/plain": [
              "       num_critic_for_reviews     duration  director_facebook_likes  \\\n",
              "count             4867.000000  4901.000000              4814.000000   \n",
              "mean               137.988905   107.090798               691.014541   \n",
              "std                120.239379    25.286015              2832.954125   \n",
              "min                  1.000000     7.000000                 0.000000   \n",
              "1%                   2.000000    43.000000                 0.000000   \n",
              "30%                 60.000000    95.000000                11.000000   \n",
              "50%                108.000000   103.000000                48.000000   \n",
              "99%                546.680000   189.000000             16000.000000   \n",
              "max                813.000000   511.000000             23000.000000   \n",
              "\n",
              "       actor_3_facebook_likes  actor_1_facebook_likes         gross  \\\n",
              "count             4893.000000             4909.000000  4.054000e+03   \n",
              "mean               631.276313             6494.488491  4.764451e+07   \n",
              "std               1625.874802            15106.986884  6.737255e+07   \n",
              "min                  0.000000                0.000000  1.620000e+02   \n",
              "1%                   0.000000                6.080000  8.474800e+03   \n",
              "30%                176.000000              694.000000  7.914069e+06   \n",
              "50%                366.000000              982.000000  2.504396e+07   \n",
              "99%              11000.000000            44920.000000  3.264128e+08   \n",
              "max              23000.000000           640000.000000  7.605058e+08   \n",
              "\n",
              "       num_voted_users  cast_total_facebook_likes  facenumber_in_poster  \\\n",
              "count     4.916000e+03                4916.000000           4903.000000   \n",
              "mean      8.264492e+04                9579.815907              1.377320   \n",
              "std       1.383222e+05               18164.316990              2.023826   \n",
              "min       5.000000e+00                   0.000000              0.000000   \n",
              "1%        5.300000e+01                   6.000000              0.000000   \n",
              "30%       1.186450e+04                1684.500000              0.000000   \n",
              "50%       3.313250e+04                3049.000000              1.000000   \n",
              "99%       6.815846e+05               62413.900000              8.000000   \n",
              "max       1.689764e+06              656730.000000             43.000000   \n",
              "\n",
              "       num_user_for_reviews        budget   title_year  \\\n",
              "count           4895.000000  4.432000e+03  4810.000000   \n",
              "mean             267.668846  3.654749e+07  2002.447609   \n",
              "std              372.934839  1.002427e+08    12.453977   \n",
              "min                1.000000  2.180000e+02  1916.000000   \n",
              "1%                 1.940000  6.000000e+04  1951.000000   \n",
              "30%               80.000000  8.000000e+06  2000.000000   \n",
              "50%              153.000000  1.985000e+07  2005.000000   \n",
              "99%             1999.240000  2.000000e+08  2016.000000   \n",
              "max             5060.000000  4.200000e+09  2016.000000   \n",
              "\n",
              "       actor_2_facebook_likes   imdb_score  aspect_ratio  movie_facebook_likes  \n",
              "count             4903.000000  4916.000000   4590.000000           4916.000000  \n",
              "mean              1621.923516     6.437429      2.222349           7348.294142  \n",
              "std               4011.299523     1.127802      1.402940          19206.016458  \n",
              "min                  0.000000     1.600000      1.180000              0.000000  \n",
              "1%                   0.000000     3.100000      1.330000              0.000000  \n",
              "30%                345.000000     6.000000      1.850000              0.000000  \n",
              "50%                593.000000     6.600000      2.350000            159.000000  \n",
              "99%              17000.000000     8.500000      4.000000          93850.000000  \n",
              "max             137000.000000     9.500000     16.000000         349000.000000  "
            ]
          },
          "metadata": {
            "tags": []
          },
          "execution_count": 42
        }
      ]
    },
    {
      "cell_type": "markdown",
      "metadata": {
        "id": "OeempGqpvJXS",
        "colab_type": "text"
      },
      "source": [
        "If you look closely, you will notice that the output from step 3 is missing all the object columns from step 2. The reason for this is that there are missing values in the object columns and pandas does not know how to compare a string value with a missing value. It silently drops all of the columns for which it is unable to compute a minimum.\n",
        "\n",
        "Note\n",
        "\n",
        "In this context, silently means that no error was raised and no warning thrown. This is a bit dangerous and requires users to have a good familiarity with pandas."
      ]
    },
    {
      "cell_type": "markdown",
      "metadata": {
        "id": "Djp7V3PAvVH_",
        "colab_type": "text"
      },
      "source": [
        "The numeric columns have missing values as well but have a result returned. By default, pandas handles missing values in numeric columns by skipping them. It is possible to change this behavior by setting the skipna parameter to False. This will cause pandas to return NaN for all these aggregation methods if there exists at least a single missing value.\n",
        "\n",
        "The describe method displays the main summarizations all at once and can expand its summary to include more quantiles by passing a list of numbers between 0 and 1 to the percentiles parameter. It defaults to showing information on just the numeric columns. See the Developing a data analysis routine recipe for more on the describe method."
      ]
    },
    {
      "cell_type": "markdown",
      "metadata": {
        "id": "epmltsbTviy1",
        "colab_type": "text"
      },
      "source": [
        "There's more...\n",
        "To see how the skipna parameter affects the outcome, we can set its value to False and rerun step 3 from the preceding recipe. Only numeric columns without missing values will calculate a result:\n",
        "\n"
      ]
    },
    {
      "cell_type": "code",
      "metadata": {
        "id": "Flk6sD8yvou2",
        "colab_type": "code",
        "colab": {
          "base_uri": "https://localhost:8080/",
          "height": 185
        },
        "outputId": "91222e34-b9dd-4acf-8107-505c81e31d26"
      },
      "source": [
        "movie.mean(skipna=False)  # The mean or average value is only calculated for columns that do not have any missing values"
      ],
      "execution_count": 47,
      "outputs": [
        {
          "output_type": "execute_result",
          "data": {
            "text/plain": [
              "num_critic_for_reviews             NaN\n",
              "duration                           NaN\n",
              "director_facebook_likes            NaN\n",
              "actor_3_facebook_likes             NaN\n",
              "                              ...     \n",
              "actor_2_facebook_likes             NaN\n",
              "imdb_score                    6.437429\n",
              "aspect_ratio                       NaN\n",
              "movie_facebook_likes       7348.294142\n",
              "Length: 16, dtype: float64"
            ]
          },
          "metadata": {
            "tags": []
          },
          "execution_count": 47
        }
      ]
    },
    {
      "cell_type": "markdown",
      "metadata": {
        "id": "GHnKZfTDuA0A",
        "colab_type": "text"
      },
      "source": [
        "It is possible to include summary statistics for all columns both object or numeric by passing the include=all param"
      ]
    },
    {
      "cell_type": "code",
      "metadata": {
        "id": "uzjqiapbuB02",
        "colab_type": "code",
        "colab": {
          "base_uri": "https://localhost:8080/",
          "height": 438
        },
        "outputId": "5f731944-e39b-4a3c-e395-6b63a5c4ddf9"
      },
      "source": [
        "movie.describe(include='all')"
      ],
      "execution_count": 43,
      "outputs": [
        {
          "output_type": "execute_result",
          "data": {
            "text/html": [
              "<div>\n",
              "<style scoped>\n",
              "    .dataframe tbody tr th:only-of-type {\n",
              "        vertical-align: middle;\n",
              "    }\n",
              "\n",
              "    .dataframe tbody tr th {\n",
              "        vertical-align: top;\n",
              "    }\n",
              "\n",
              "    .dataframe thead th {\n",
              "        text-align: right;\n",
              "    }\n",
              "</style>\n",
              "<table border=\"1\" class=\"dataframe\">\n",
              "  <thead>\n",
              "    <tr style=\"text-align: right;\">\n",
              "      <th></th>\n",
              "      <th>color</th>\n",
              "      <th>director_name</th>\n",
              "      <th>num_critic_for_reviews</th>\n",
              "      <th>duration</th>\n",
              "      <th>director_facebook_likes</th>\n",
              "      <th>actor_3_facebook_likes</th>\n",
              "      <th>actor_2_name</th>\n",
              "      <th>actor_1_facebook_likes</th>\n",
              "      <th>gross</th>\n",
              "      <th>genres</th>\n",
              "      <th>actor_1_name</th>\n",
              "      <th>movie_title</th>\n",
              "      <th>num_voted_users</th>\n",
              "      <th>cast_total_facebook_likes</th>\n",
              "      <th>actor_3_name</th>\n",
              "      <th>facenumber_in_poster</th>\n",
              "      <th>plot_keywords</th>\n",
              "      <th>movie_imdb_link</th>\n",
              "      <th>num_user_for_reviews</th>\n",
              "      <th>language</th>\n",
              "      <th>country</th>\n",
              "      <th>content_rating</th>\n",
              "      <th>budget</th>\n",
              "      <th>title_year</th>\n",
              "      <th>actor_2_facebook_likes</th>\n",
              "      <th>imdb_score</th>\n",
              "      <th>aspect_ratio</th>\n",
              "      <th>movie_facebook_likes</th>\n",
              "    </tr>\n",
              "  </thead>\n",
              "  <tbody>\n",
              "    <tr>\n",
              "      <th>count</th>\n",
              "      <td>4897</td>\n",
              "      <td>4814</td>\n",
              "      <td>4867.000000</td>\n",
              "      <td>4901.000000</td>\n",
              "      <td>4814.000000</td>\n",
              "      <td>4893.000000</td>\n",
              "      <td>4903</td>\n",
              "      <td>4909.000000</td>\n",
              "      <td>4.054000e+03</td>\n",
              "      <td>4916</td>\n",
              "      <td>4909</td>\n",
              "      <td>4916</td>\n",
              "      <td>4.916000e+03</td>\n",
              "      <td>4916.000000</td>\n",
              "      <td>4893</td>\n",
              "      <td>4903.00000</td>\n",
              "      <td>4764</td>\n",
              "      <td>4916</td>\n",
              "      <td>4895.000000</td>\n",
              "      <td>4904</td>\n",
              "      <td>4911</td>\n",
              "      <td>4616</td>\n",
              "      <td>4.432000e+03</td>\n",
              "      <td>4810.000000</td>\n",
              "      <td>4903.000000</td>\n",
              "      <td>4916.000000</td>\n",
              "      <td>4590.000000</td>\n",
              "      <td>4916.000000</td>\n",
              "    </tr>\n",
              "    <tr>\n",
              "      <th>unique</th>\n",
              "      <td>2</td>\n",
              "      <td>2397</td>\n",
              "      <td>NaN</td>\n",
              "      <td>NaN</td>\n",
              "      <td>NaN</td>\n",
              "      <td>NaN</td>\n",
              "      <td>3030</td>\n",
              "      <td>NaN</td>\n",
              "      <td>NaN</td>\n",
              "      <td>914</td>\n",
              "      <td>2095</td>\n",
              "      <td>4916</td>\n",
              "      <td>NaN</td>\n",
              "      <td>NaN</td>\n",
              "      <td>3519</td>\n",
              "      <td>NaN</td>\n",
              "      <td>4756</td>\n",
              "      <td>4916</td>\n",
              "      <td>NaN</td>\n",
              "      <td>47</td>\n",
              "      <td>65</td>\n",
              "      <td>18</td>\n",
              "      <td>NaN</td>\n",
              "      <td>NaN</td>\n",
              "      <td>NaN</td>\n",
              "      <td>NaN</td>\n",
              "      <td>NaN</td>\n",
              "      <td>NaN</td>\n",
              "    </tr>\n",
              "    <tr>\n",
              "      <th>top</th>\n",
              "      <td>Color</td>\n",
              "      <td>Steven Spielberg</td>\n",
              "      <td>NaN</td>\n",
              "      <td>NaN</td>\n",
              "      <td>NaN</td>\n",
              "      <td>NaN</td>\n",
              "      <td>Morgan Freeman</td>\n",
              "      <td>NaN</td>\n",
              "      <td>NaN</td>\n",
              "      <td>Drama</td>\n",
              "      <td>Robert De Niro</td>\n",
              "      <td>Teen Wolf Too</td>\n",
              "      <td>NaN</td>\n",
              "      <td>NaN</td>\n",
              "      <td>Steve Coogan</td>\n",
              "      <td>NaN</td>\n",
              "      <td>based on novel</td>\n",
              "      <td>http://www.imdb.com/title/tt0218922/?ref_=fn_t...</td>\n",
              "      <td>NaN</td>\n",
              "      <td>English</td>\n",
              "      <td>USA</td>\n",
              "      <td>R</td>\n",
              "      <td>NaN</td>\n",
              "      <td>NaN</td>\n",
              "      <td>NaN</td>\n",
              "      <td>NaN</td>\n",
              "      <td>NaN</td>\n",
              "      <td>NaN</td>\n",
              "    </tr>\n",
              "    <tr>\n",
              "      <th>freq</th>\n",
              "      <td>4693</td>\n",
              "      <td>26</td>\n",
              "      <td>NaN</td>\n",
              "      <td>NaN</td>\n",
              "      <td>NaN</td>\n",
              "      <td>NaN</td>\n",
              "      <td>18</td>\n",
              "      <td>NaN</td>\n",
              "      <td>NaN</td>\n",
              "      <td>233</td>\n",
              "      <td>48</td>\n",
              "      <td>1</td>\n",
              "      <td>NaN</td>\n",
              "      <td>NaN</td>\n",
              "      <td>8</td>\n",
              "      <td>NaN</td>\n",
              "      <td>4</td>\n",
              "      <td>1</td>\n",
              "      <td>NaN</td>\n",
              "      <td>4582</td>\n",
              "      <td>3710</td>\n",
              "      <td>2067</td>\n",
              "      <td>NaN</td>\n",
              "      <td>NaN</td>\n",
              "      <td>NaN</td>\n",
              "      <td>NaN</td>\n",
              "      <td>NaN</td>\n",
              "      <td>NaN</td>\n",
              "    </tr>\n",
              "    <tr>\n",
              "      <th>mean</th>\n",
              "      <td>NaN</td>\n",
              "      <td>NaN</td>\n",
              "      <td>137.988905</td>\n",
              "      <td>107.090798</td>\n",
              "      <td>691.014541</td>\n",
              "      <td>631.276313</td>\n",
              "      <td>NaN</td>\n",
              "      <td>6494.488491</td>\n",
              "      <td>4.764451e+07</td>\n",
              "      <td>NaN</td>\n",
              "      <td>NaN</td>\n",
              "      <td>NaN</td>\n",
              "      <td>8.264492e+04</td>\n",
              "      <td>9579.815907</td>\n",
              "      <td>NaN</td>\n",
              "      <td>1.37732</td>\n",
              "      <td>NaN</td>\n",
              "      <td>NaN</td>\n",
              "      <td>267.668846</td>\n",
              "      <td>NaN</td>\n",
              "      <td>NaN</td>\n",
              "      <td>NaN</td>\n",
              "      <td>3.654749e+07</td>\n",
              "      <td>2002.447609</td>\n",
              "      <td>1621.923516</td>\n",
              "      <td>6.437429</td>\n",
              "      <td>2.222349</td>\n",
              "      <td>7348.294142</td>\n",
              "    </tr>\n",
              "    <tr>\n",
              "      <th>...</th>\n",
              "      <td>...</td>\n",
              "      <td>...</td>\n",
              "      <td>...</td>\n",
              "      <td>...</td>\n",
              "      <td>...</td>\n",
              "      <td>...</td>\n",
              "      <td>...</td>\n",
              "      <td>...</td>\n",
              "      <td>...</td>\n",
              "      <td>...</td>\n",
              "      <td>...</td>\n",
              "      <td>...</td>\n",
              "      <td>...</td>\n",
              "      <td>...</td>\n",
              "      <td>...</td>\n",
              "      <td>...</td>\n",
              "      <td>...</td>\n",
              "      <td>...</td>\n",
              "      <td>...</td>\n",
              "      <td>...</td>\n",
              "      <td>...</td>\n",
              "      <td>...</td>\n",
              "      <td>...</td>\n",
              "      <td>...</td>\n",
              "      <td>...</td>\n",
              "      <td>...</td>\n",
              "      <td>...</td>\n",
              "      <td>...</td>\n",
              "    </tr>\n",
              "    <tr>\n",
              "      <th>min</th>\n",
              "      <td>NaN</td>\n",
              "      <td>NaN</td>\n",
              "      <td>1.000000</td>\n",
              "      <td>7.000000</td>\n",
              "      <td>0.000000</td>\n",
              "      <td>0.000000</td>\n",
              "      <td>NaN</td>\n",
              "      <td>0.000000</td>\n",
              "      <td>1.620000e+02</td>\n",
              "      <td>NaN</td>\n",
              "      <td>NaN</td>\n",
              "      <td>NaN</td>\n",
              "      <td>5.000000e+00</td>\n",
              "      <td>0.000000</td>\n",
              "      <td>NaN</td>\n",
              "      <td>0.00000</td>\n",
              "      <td>NaN</td>\n",
              "      <td>NaN</td>\n",
              "      <td>1.000000</td>\n",
              "      <td>NaN</td>\n",
              "      <td>NaN</td>\n",
              "      <td>NaN</td>\n",
              "      <td>2.180000e+02</td>\n",
              "      <td>1916.000000</td>\n",
              "      <td>0.000000</td>\n",
              "      <td>1.600000</td>\n",
              "      <td>1.180000</td>\n",
              "      <td>0.000000</td>\n",
              "    </tr>\n",
              "    <tr>\n",
              "      <th>25%</th>\n",
              "      <td>NaN</td>\n",
              "      <td>NaN</td>\n",
              "      <td>49.000000</td>\n",
              "      <td>93.000000</td>\n",
              "      <td>7.000000</td>\n",
              "      <td>132.000000</td>\n",
              "      <td>NaN</td>\n",
              "      <td>607.000000</td>\n",
              "      <td>5.019656e+06</td>\n",
              "      <td>NaN</td>\n",
              "      <td>NaN</td>\n",
              "      <td>NaN</td>\n",
              "      <td>8.361750e+03</td>\n",
              "      <td>1394.750000</td>\n",
              "      <td>NaN</td>\n",
              "      <td>0.00000</td>\n",
              "      <td>NaN</td>\n",
              "      <td>NaN</td>\n",
              "      <td>64.000000</td>\n",
              "      <td>NaN</td>\n",
              "      <td>NaN</td>\n",
              "      <td>NaN</td>\n",
              "      <td>6.000000e+06</td>\n",
              "      <td>1999.000000</td>\n",
              "      <td>277.000000</td>\n",
              "      <td>5.800000</td>\n",
              "      <td>1.850000</td>\n",
              "      <td>0.000000</td>\n",
              "    </tr>\n",
              "    <tr>\n",
              "      <th>50%</th>\n",
              "      <td>NaN</td>\n",
              "      <td>NaN</td>\n",
              "      <td>108.000000</td>\n",
              "      <td>103.000000</td>\n",
              "      <td>48.000000</td>\n",
              "      <td>366.000000</td>\n",
              "      <td>NaN</td>\n",
              "      <td>982.000000</td>\n",
              "      <td>2.504396e+07</td>\n",
              "      <td>NaN</td>\n",
              "      <td>NaN</td>\n",
              "      <td>NaN</td>\n",
              "      <td>3.313250e+04</td>\n",
              "      <td>3049.000000</td>\n",
              "      <td>NaN</td>\n",
              "      <td>1.00000</td>\n",
              "      <td>NaN</td>\n",
              "      <td>NaN</td>\n",
              "      <td>153.000000</td>\n",
              "      <td>NaN</td>\n",
              "      <td>NaN</td>\n",
              "      <td>NaN</td>\n",
              "      <td>1.985000e+07</td>\n",
              "      <td>2005.000000</td>\n",
              "      <td>593.000000</td>\n",
              "      <td>6.600000</td>\n",
              "      <td>2.350000</td>\n",
              "      <td>159.000000</td>\n",
              "    </tr>\n",
              "    <tr>\n",
              "      <th>75%</th>\n",
              "      <td>NaN</td>\n",
              "      <td>NaN</td>\n",
              "      <td>191.000000</td>\n",
              "      <td>118.000000</td>\n",
              "      <td>189.750000</td>\n",
              "      <td>633.000000</td>\n",
              "      <td>NaN</td>\n",
              "      <td>11000.000000</td>\n",
              "      <td>6.110841e+07</td>\n",
              "      <td>NaN</td>\n",
              "      <td>NaN</td>\n",
              "      <td>NaN</td>\n",
              "      <td>9.377275e+04</td>\n",
              "      <td>13616.750000</td>\n",
              "      <td>NaN</td>\n",
              "      <td>2.00000</td>\n",
              "      <td>NaN</td>\n",
              "      <td>NaN</td>\n",
              "      <td>320.500000</td>\n",
              "      <td>NaN</td>\n",
              "      <td>NaN</td>\n",
              "      <td>NaN</td>\n",
              "      <td>4.300000e+07</td>\n",
              "      <td>2011.000000</td>\n",
              "      <td>912.000000</td>\n",
              "      <td>7.200000</td>\n",
              "      <td>2.350000</td>\n",
              "      <td>2000.000000</td>\n",
              "    </tr>\n",
              "    <tr>\n",
              "      <th>max</th>\n",
              "      <td>NaN</td>\n",
              "      <td>NaN</td>\n",
              "      <td>813.000000</td>\n",
              "      <td>511.000000</td>\n",
              "      <td>23000.000000</td>\n",
              "      <td>23000.000000</td>\n",
              "      <td>NaN</td>\n",
              "      <td>640000.000000</td>\n",
              "      <td>7.605058e+08</td>\n",
              "      <td>NaN</td>\n",
              "      <td>NaN</td>\n",
              "      <td>NaN</td>\n",
              "      <td>1.689764e+06</td>\n",
              "      <td>656730.000000</td>\n",
              "      <td>NaN</td>\n",
              "      <td>43.00000</td>\n",
              "      <td>NaN</td>\n",
              "      <td>NaN</td>\n",
              "      <td>5060.000000</td>\n",
              "      <td>NaN</td>\n",
              "      <td>NaN</td>\n",
              "      <td>NaN</td>\n",
              "      <td>4.200000e+09</td>\n",
              "      <td>2016.000000</td>\n",
              "      <td>137000.000000</td>\n",
              "      <td>9.500000</td>\n",
              "      <td>16.000000</td>\n",
              "      <td>349000.000000</td>\n",
              "    </tr>\n",
              "  </tbody>\n",
              "</table>\n",
              "<p>11 rows × 28 columns</p>\n",
              "</div>"
            ],
            "text/plain": [
              "        color     director_name  num_critic_for_reviews     duration  \\\n",
              "count    4897              4814             4867.000000  4901.000000   \n",
              "unique      2              2397                     NaN          NaN   \n",
              "top     Color  Steven Spielberg                     NaN          NaN   \n",
              "freq     4693                26                     NaN          NaN   \n",
              "mean      NaN               NaN              137.988905   107.090798   \n",
              "...       ...               ...                     ...          ...   \n",
              "min       NaN               NaN                1.000000     7.000000   \n",
              "25%       NaN               NaN               49.000000    93.000000   \n",
              "50%       NaN               NaN              108.000000   103.000000   \n",
              "75%       NaN               NaN              191.000000   118.000000   \n",
              "max       NaN               NaN              813.000000   511.000000   \n",
              "\n",
              "        director_facebook_likes  actor_3_facebook_likes    actor_2_name  \\\n",
              "count               4814.000000             4893.000000            4903   \n",
              "unique                      NaN                     NaN            3030   \n",
              "top                         NaN                     NaN  Morgan Freeman   \n",
              "freq                        NaN                     NaN              18   \n",
              "mean                 691.014541              631.276313             NaN   \n",
              "...                         ...                     ...             ...   \n",
              "min                    0.000000                0.000000             NaN   \n",
              "25%                    7.000000              132.000000             NaN   \n",
              "50%                   48.000000              366.000000             NaN   \n",
              "75%                  189.750000              633.000000             NaN   \n",
              "max                23000.000000            23000.000000             NaN   \n",
              "\n",
              "        actor_1_facebook_likes         gross genres    actor_1_name  \\\n",
              "count              4909.000000  4.054000e+03   4916            4909   \n",
              "unique                     NaN           NaN    914            2095   \n",
              "top                        NaN           NaN  Drama  Robert De Niro   \n",
              "freq                       NaN           NaN    233              48   \n",
              "mean               6494.488491  4.764451e+07    NaN             NaN   \n",
              "...                        ...           ...    ...             ...   \n",
              "min                   0.000000  1.620000e+02    NaN             NaN   \n",
              "25%                 607.000000  5.019656e+06    NaN             NaN   \n",
              "50%                 982.000000  2.504396e+07    NaN             NaN   \n",
              "75%               11000.000000  6.110841e+07    NaN             NaN   \n",
              "max              640000.000000  7.605058e+08    NaN             NaN   \n",
              "\n",
              "          movie_title  num_voted_users  cast_total_facebook_likes  \\\n",
              "count            4916     4.916000e+03                4916.000000   \n",
              "unique           4916              NaN                        NaN   \n",
              "top     Teen Wolf Too              NaN                        NaN   \n",
              "freq                1              NaN                        NaN   \n",
              "mean              NaN     8.264492e+04                9579.815907   \n",
              "...               ...              ...                        ...   \n",
              "min               NaN     5.000000e+00                   0.000000   \n",
              "25%               NaN     8.361750e+03                1394.750000   \n",
              "50%               NaN     3.313250e+04                3049.000000   \n",
              "75%               NaN     9.377275e+04               13616.750000   \n",
              "max               NaN     1.689764e+06              656730.000000   \n",
              "\n",
              "        actor_3_name  facenumber_in_poster   plot_keywords  \\\n",
              "count           4893            4903.00000            4764   \n",
              "unique          3519                   NaN            4756   \n",
              "top     Steve Coogan                   NaN  based on novel   \n",
              "freq               8                   NaN               4   \n",
              "mean             NaN               1.37732             NaN   \n",
              "...              ...                   ...             ...   \n",
              "min              NaN               0.00000             NaN   \n",
              "25%              NaN               0.00000             NaN   \n",
              "50%              NaN               1.00000             NaN   \n",
              "75%              NaN               2.00000             NaN   \n",
              "max              NaN              43.00000             NaN   \n",
              "\n",
              "                                          movie_imdb_link  \\\n",
              "count                                                4916   \n",
              "unique                                               4916   \n",
              "top     http://www.imdb.com/title/tt0218922/?ref_=fn_t...   \n",
              "freq                                                    1   \n",
              "mean                                                  NaN   \n",
              "...                                                   ...   \n",
              "min                                                   NaN   \n",
              "25%                                                   NaN   \n",
              "50%                                                   NaN   \n",
              "75%                                                   NaN   \n",
              "max                                                   NaN   \n",
              "\n",
              "        num_user_for_reviews language country content_rating        budget  \\\n",
              "count            4895.000000     4904    4911           4616  4.432000e+03   \n",
              "unique                   NaN       47      65             18           NaN   \n",
              "top                      NaN  English     USA              R           NaN   \n",
              "freq                     NaN     4582    3710           2067           NaN   \n",
              "mean              267.668846      NaN     NaN            NaN  3.654749e+07   \n",
              "...                      ...      ...     ...            ...           ...   \n",
              "min                 1.000000      NaN     NaN            NaN  2.180000e+02   \n",
              "25%                64.000000      NaN     NaN            NaN  6.000000e+06   \n",
              "50%               153.000000      NaN     NaN            NaN  1.985000e+07   \n",
              "75%               320.500000      NaN     NaN            NaN  4.300000e+07   \n",
              "max              5060.000000      NaN     NaN            NaN  4.200000e+09   \n",
              "\n",
              "         title_year  actor_2_facebook_likes   imdb_score  aspect_ratio  \\\n",
              "count   4810.000000             4903.000000  4916.000000   4590.000000   \n",
              "unique          NaN                     NaN          NaN           NaN   \n",
              "top             NaN                     NaN          NaN           NaN   \n",
              "freq            NaN                     NaN          NaN           NaN   \n",
              "mean    2002.447609             1621.923516     6.437429      2.222349   \n",
              "...             ...                     ...          ...           ...   \n",
              "min     1916.000000                0.000000     1.600000      1.180000   \n",
              "25%     1999.000000              277.000000     5.800000      1.850000   \n",
              "50%     2005.000000              593.000000     6.600000      2.350000   \n",
              "75%     2011.000000              912.000000     7.200000      2.350000   \n",
              "max     2016.000000           137000.000000     9.500000     16.000000   \n",
              "\n",
              "        movie_facebook_likes  \n",
              "count            4916.000000  \n",
              "unique                   NaN  \n",
              "top                      NaN  \n",
              "freq                     NaN  \n",
              "mean             7348.294142  \n",
              "...                      ...  \n",
              "min                 0.000000  \n",
              "25%                 0.000000  \n",
              "50%               159.000000  \n",
              "75%              2000.000000  \n",
              "max            349000.000000  \n",
              "\n",
              "[11 rows x 28 columns]"
            ]
          },
          "metadata": {
            "tags": []
          },
          "execution_count": 43
        }
      ]
    },
    {
      "cell_type": "code",
      "metadata": {
        "id": "PozdHnaDXpRw",
        "colab_type": "code",
        "colab": {}
      },
      "source": [
        "pd.options.display.max_rows = 8"
      ],
      "execution_count": 0,
      "outputs": []
    },
    {
      "cell_type": "code",
      "metadata": {
        "id": "4cn3jC19XpR0",
        "colab_type": "code",
        "colab": {
          "base_uri": "https://localhost:8080/",
          "height": 185
        },
        "outputId": "921ee3a1-053c-4d29-a3f6-d7d4334669d5"
      },
      "source": [
        "movie.isnull().sum()"
      ],
      "execution_count": 49,
      "outputs": [
        {
          "output_type": "execute_result",
          "data": {
            "text/plain": [
              "color                      19\n",
              "director_name             102\n",
              "num_critic_for_reviews     49\n",
              "duration                   15\n",
              "                         ... \n",
              "actor_2_facebook_likes     13\n",
              "imdb_score                  0\n",
              "aspect_ratio              326\n",
              "movie_facebook_likes        0\n",
              "Length: 28, dtype: int64"
            ]
          },
          "metadata": {
            "tags": []
          },
          "execution_count": 49
        }
      ]
    },
    {
      "cell_type": "markdown",
      "metadata": {
        "id": "82LGivj5XpR4",
        "colab_type": "text"
      },
      "source": [
        "## There's more..."
      ]
    },
    {
      "cell_type": "code",
      "metadata": {
        "id": "OvO92JAIXpR6",
        "colab_type": "code",
        "colab": {
          "base_uri": "https://localhost:8080/",
          "height": 185
        },
        "outputId": "3cb3a584-2a75-4de0-b891-048d96eb0c9f"
      },
      "source": [
        "movie.min(skipna=False)  # The min value is only calculated for columns that do not have any missing values"
      ],
      "execution_count": 50,
      "outputs": [
        {
          "output_type": "execute_result",
          "data": {
            "text/plain": [
              "num_critic_for_reviews     NaN\n",
              "duration                   NaN\n",
              "director_facebook_likes    NaN\n",
              "actor_3_facebook_likes     NaN\n",
              "                          ... \n",
              "actor_2_facebook_likes     NaN\n",
              "imdb_score                 1.6\n",
              "aspect_ratio               NaN\n",
              "movie_facebook_likes       0.0\n",
              "Length: 16, dtype: float64"
            ]
          },
          "metadata": {
            "tags": []
          },
          "execution_count": 50
        }
      ]
    },
    {
      "cell_type": "markdown",
      "metadata": {
        "id": "t5rdW9PYXpSD",
        "colab_type": "text"
      },
      "source": [
        "# Chaining DataFrame methods together"
      ]
    },
    {
      "cell_type": "markdown",
      "metadata": {
        "id": "S80ecRASzLX8",
        "colab_type": "text"
      },
      "source": [
        "To get a count of the missing values, the isnull method must first be called to change each DataFrame value to a boolean. Let's call this method on the movie dataset:"
      ]
    },
    {
      "cell_type": "code",
      "metadata": {
        "id": "Iu-bSjK6XpSE",
        "colab_type": "code",
        "colab": {
          "base_uri": "https://localhost:8080/",
          "height": 215
        },
        "outputId": "8a0ae19f-a5bd-4236-dac1-66cd83a4bcdc"
      },
      "source": [
        "movie = pd.read_csv('/content/gdrive/My Drive/Colab_Notebooks/data_tools/pandas/PandasCookBook_Code/data/movie.csv')\n",
        "movie.isnull().head()"
      ],
      "execution_count": 52,
      "outputs": [
        {
          "output_type": "execute_result",
          "data": {
            "text/html": [
              "<div>\n",
              "<style scoped>\n",
              "    .dataframe tbody tr th:only-of-type {\n",
              "        vertical-align: middle;\n",
              "    }\n",
              "\n",
              "    .dataframe tbody tr th {\n",
              "        vertical-align: top;\n",
              "    }\n",
              "\n",
              "    .dataframe thead th {\n",
              "        text-align: right;\n",
              "    }\n",
              "</style>\n",
              "<table border=\"1\" class=\"dataframe\">\n",
              "  <thead>\n",
              "    <tr style=\"text-align: right;\">\n",
              "      <th></th>\n",
              "      <th>color</th>\n",
              "      <th>director_name</th>\n",
              "      <th>num_critic_for_reviews</th>\n",
              "      <th>duration</th>\n",
              "      <th>director_facebook_likes</th>\n",
              "      <th>actor_3_facebook_likes</th>\n",
              "      <th>actor_2_name</th>\n",
              "      <th>actor_1_facebook_likes</th>\n",
              "      <th>gross</th>\n",
              "      <th>genres</th>\n",
              "      <th>actor_1_name</th>\n",
              "      <th>movie_title</th>\n",
              "      <th>num_voted_users</th>\n",
              "      <th>cast_total_facebook_likes</th>\n",
              "      <th>actor_3_name</th>\n",
              "      <th>facenumber_in_poster</th>\n",
              "      <th>plot_keywords</th>\n",
              "      <th>movie_imdb_link</th>\n",
              "      <th>num_user_for_reviews</th>\n",
              "      <th>language</th>\n",
              "      <th>country</th>\n",
              "      <th>content_rating</th>\n",
              "      <th>budget</th>\n",
              "      <th>title_year</th>\n",
              "      <th>actor_2_facebook_likes</th>\n",
              "      <th>imdb_score</th>\n",
              "      <th>aspect_ratio</th>\n",
              "      <th>movie_facebook_likes</th>\n",
              "    </tr>\n",
              "  </thead>\n",
              "  <tbody>\n",
              "    <tr>\n",
              "      <th>0</th>\n",
              "      <td>False</td>\n",
              "      <td>False</td>\n",
              "      <td>False</td>\n",
              "      <td>False</td>\n",
              "      <td>False</td>\n",
              "      <td>False</td>\n",
              "      <td>False</td>\n",
              "      <td>False</td>\n",
              "      <td>False</td>\n",
              "      <td>False</td>\n",
              "      <td>False</td>\n",
              "      <td>False</td>\n",
              "      <td>False</td>\n",
              "      <td>False</td>\n",
              "      <td>False</td>\n",
              "      <td>False</td>\n",
              "      <td>False</td>\n",
              "      <td>False</td>\n",
              "      <td>False</td>\n",
              "      <td>False</td>\n",
              "      <td>False</td>\n",
              "      <td>False</td>\n",
              "      <td>False</td>\n",
              "      <td>False</td>\n",
              "      <td>False</td>\n",
              "      <td>False</td>\n",
              "      <td>False</td>\n",
              "      <td>False</td>\n",
              "    </tr>\n",
              "    <tr>\n",
              "      <th>1</th>\n",
              "      <td>False</td>\n",
              "      <td>False</td>\n",
              "      <td>False</td>\n",
              "      <td>False</td>\n",
              "      <td>False</td>\n",
              "      <td>False</td>\n",
              "      <td>False</td>\n",
              "      <td>False</td>\n",
              "      <td>False</td>\n",
              "      <td>False</td>\n",
              "      <td>False</td>\n",
              "      <td>False</td>\n",
              "      <td>False</td>\n",
              "      <td>False</td>\n",
              "      <td>False</td>\n",
              "      <td>False</td>\n",
              "      <td>False</td>\n",
              "      <td>False</td>\n",
              "      <td>False</td>\n",
              "      <td>False</td>\n",
              "      <td>False</td>\n",
              "      <td>False</td>\n",
              "      <td>False</td>\n",
              "      <td>False</td>\n",
              "      <td>False</td>\n",
              "      <td>False</td>\n",
              "      <td>False</td>\n",
              "      <td>False</td>\n",
              "    </tr>\n",
              "    <tr>\n",
              "      <th>2</th>\n",
              "      <td>False</td>\n",
              "      <td>False</td>\n",
              "      <td>False</td>\n",
              "      <td>False</td>\n",
              "      <td>False</td>\n",
              "      <td>False</td>\n",
              "      <td>False</td>\n",
              "      <td>False</td>\n",
              "      <td>False</td>\n",
              "      <td>False</td>\n",
              "      <td>False</td>\n",
              "      <td>False</td>\n",
              "      <td>False</td>\n",
              "      <td>False</td>\n",
              "      <td>False</td>\n",
              "      <td>False</td>\n",
              "      <td>False</td>\n",
              "      <td>False</td>\n",
              "      <td>False</td>\n",
              "      <td>False</td>\n",
              "      <td>False</td>\n",
              "      <td>False</td>\n",
              "      <td>False</td>\n",
              "      <td>False</td>\n",
              "      <td>False</td>\n",
              "      <td>False</td>\n",
              "      <td>False</td>\n",
              "      <td>False</td>\n",
              "    </tr>\n",
              "    <tr>\n",
              "      <th>3</th>\n",
              "      <td>False</td>\n",
              "      <td>False</td>\n",
              "      <td>False</td>\n",
              "      <td>False</td>\n",
              "      <td>False</td>\n",
              "      <td>False</td>\n",
              "      <td>False</td>\n",
              "      <td>False</td>\n",
              "      <td>False</td>\n",
              "      <td>False</td>\n",
              "      <td>False</td>\n",
              "      <td>False</td>\n",
              "      <td>False</td>\n",
              "      <td>False</td>\n",
              "      <td>False</td>\n",
              "      <td>False</td>\n",
              "      <td>False</td>\n",
              "      <td>False</td>\n",
              "      <td>False</td>\n",
              "      <td>False</td>\n",
              "      <td>False</td>\n",
              "      <td>False</td>\n",
              "      <td>False</td>\n",
              "      <td>False</td>\n",
              "      <td>False</td>\n",
              "      <td>False</td>\n",
              "      <td>False</td>\n",
              "      <td>False</td>\n",
              "    </tr>\n",
              "    <tr>\n",
              "      <th>4</th>\n",
              "      <td>True</td>\n",
              "      <td>False</td>\n",
              "      <td>True</td>\n",
              "      <td>True</td>\n",
              "      <td>False</td>\n",
              "      <td>True</td>\n",
              "      <td>False</td>\n",
              "      <td>False</td>\n",
              "      <td>True</td>\n",
              "      <td>False</td>\n",
              "      <td>False</td>\n",
              "      <td>False</td>\n",
              "      <td>False</td>\n",
              "      <td>False</td>\n",
              "      <td>True</td>\n",
              "      <td>False</td>\n",
              "      <td>True</td>\n",
              "      <td>False</td>\n",
              "      <td>True</td>\n",
              "      <td>True</td>\n",
              "      <td>True</td>\n",
              "      <td>True</td>\n",
              "      <td>True</td>\n",
              "      <td>True</td>\n",
              "      <td>False</td>\n",
              "      <td>False</td>\n",
              "      <td>True</td>\n",
              "      <td>False</td>\n",
              "    </tr>\n",
              "  </tbody>\n",
              "</table>\n",
              "</div>"
            ],
            "text/plain": [
              "   color  director_name  num_critic_for_reviews  duration  \\\n",
              "0  False          False                   False     False   \n",
              "1  False          False                   False     False   \n",
              "2  False          False                   False     False   \n",
              "3  False          False                   False     False   \n",
              "4   True          False                    True      True   \n",
              "\n",
              "   director_facebook_likes  actor_3_facebook_likes  actor_2_name  \\\n",
              "0                    False                   False         False   \n",
              "1                    False                   False         False   \n",
              "2                    False                   False         False   \n",
              "3                    False                   False         False   \n",
              "4                    False                    True         False   \n",
              "\n",
              "   actor_1_facebook_likes  gross  genres  actor_1_name  movie_title  \\\n",
              "0                   False  False   False         False        False   \n",
              "1                   False  False   False         False        False   \n",
              "2                   False  False   False         False        False   \n",
              "3                   False  False   False         False        False   \n",
              "4                   False   True   False         False        False   \n",
              "\n",
              "   num_voted_users  cast_total_facebook_likes  actor_3_name  \\\n",
              "0            False                      False         False   \n",
              "1            False                      False         False   \n",
              "2            False                      False         False   \n",
              "3            False                      False         False   \n",
              "4            False                      False          True   \n",
              "\n",
              "   facenumber_in_poster  plot_keywords  movie_imdb_link  num_user_for_reviews  \\\n",
              "0                 False          False            False                 False   \n",
              "1                 False          False            False                 False   \n",
              "2                 False          False            False                 False   \n",
              "3                 False          False            False                 False   \n",
              "4                 False           True            False                  True   \n",
              "\n",
              "   language  country  content_rating  budget  title_year  \\\n",
              "0     False    False           False   False       False   \n",
              "1     False    False           False   False       False   \n",
              "2     False    False           False   False       False   \n",
              "3     False    False           False   False       False   \n",
              "4      True     True            True    True        True   \n",
              "\n",
              "   actor_2_facebook_likes  imdb_score  aspect_ratio  movie_facebook_likes  \n",
              "0                   False       False         False                 False  \n",
              "1                   False       False         False                 False  \n",
              "2                   False       False         False                 False  \n",
              "3                   False       False         False                 False  \n",
              "4                   False       False          True                 False  "
            ]
          },
          "metadata": {
            "tags": []
          },
          "execution_count": 52
        }
      ]
    },
    {
      "cell_type": "markdown",
      "metadata": {
        "id": "z8gI_n2nzZQn",
        "colab_type": "text"
      },
      "source": [
        "We will chain the sum method that interprets True/False booleans as 1/0. Notice that a Series is returned:\n"
      ]
    },
    {
      "cell_type": "code",
      "metadata": {
        "id": "lyPsPPGuXpSH",
        "colab_type": "code",
        "colab": {
          "base_uri": "https://localhost:8080/",
          "height": 118
        },
        "outputId": "369dfa89-ff90-4efd-d2c9-defd40896aad"
      },
      "source": [
        "movie.isnull().sum().head()"
      ],
      "execution_count": 53,
      "outputs": [
        {
          "output_type": "execute_result",
          "data": {
            "text/plain": [
              "color                       19\n",
              "director_name              102\n",
              "num_critic_for_reviews      49\n",
              "duration                    15\n",
              "director_facebook_likes    102\n",
              "dtype: int64"
            ]
          },
          "metadata": {
            "tags": []
          },
          "execution_count": 53
        }
      ]
    },
    {
      "cell_type": "markdown",
      "metadata": {
        "id": "EKWj02GtznVS",
        "colab_type": "text"
      },
      "source": [
        "We can go one step further and take the sum of this Series and return the count of the total number of missing values in the entire DataFrame as a scalar value:"
      ]
    },
    {
      "cell_type": "code",
      "metadata": {
        "id": "ZTrERPpjXpSK",
        "colab_type": "code",
        "colab": {
          "base_uri": "https://localhost:8080/",
          "height": 34
        },
        "outputId": "1f231981-7463-498d-b58f-22d9b0db56c2"
      },
      "source": [
        "movie.isnull().sum().sum()  # calculating the total number of all missing values in the data set"
      ],
      "execution_count": 54,
      "outputs": [
        {
          "output_type": "execute_result",
          "data": {
            "text/plain": [
              "2654"
            ]
          },
          "metadata": {
            "tags": []
          },
          "execution_count": 54
        }
      ]
    },
    {
      "cell_type": "markdown",
      "metadata": {
        "id": "xhx3Halsz3s-",
        "colab_type": "text"
      },
      "source": [
        "A slight deviation is to determine whether there are any missing values in the DataFrame. We use the any method here twice in succession to do this:"
      ]
    },
    {
      "cell_type": "code",
      "metadata": {
        "id": "7FFKj0ACXpSM",
        "colab_type": "code",
        "colab": {
          "base_uri": "https://localhost:8080/",
          "height": 34
        },
        "outputId": "11be83bd-0190-472b-acd2-2d72caaebdaf"
      },
      "source": [
        "movie.isnull().any().any()  # checking if any column in the entire data set has a missing value"
      ],
      "execution_count": 55,
      "outputs": [
        {
          "output_type": "execute_result",
          "data": {
            "text/plain": [
              "True"
            ]
          },
          "metadata": {
            "tags": []
          },
          "execution_count": 55
        }
      ]
    },
    {
      "cell_type": "markdown",
      "metadata": {
        "id": "G7dRKNeXXpSP",
        "colab_type": "text"
      },
      "source": [
        "## How it works..."
      ]
    },
    {
      "cell_type": "markdown",
      "metadata": {
        "id": "FXWL_RFI0gK2",
        "colab_type": "text"
      },
      "source": [
        "How it works...\n",
        "The isnull method returns a DataFrame the same size as the calling DataFrame but with all values transformed to booleans. See the counts of the following data types to verify this:\n",
        "\n"
      ]
    },
    {
      "cell_type": "code",
      "metadata": {
        "id": "8G0BtutEXpSP",
        "colab_type": "code",
        "colab": {
          "base_uri": "https://localhost:8080/",
          "height": 50
        },
        "outputId": "f30063c2-368e-4ad7-c8c1-c8f4b8a8e112"
      },
      "source": [
        "movie.isnull().get_dtype_counts()"
      ],
      "execution_count": 56,
      "outputs": [
        {
          "output_type": "execute_result",
          "data": {
            "text/plain": [
              "bool    28\n",
              "dtype: int64"
            ]
          },
          "metadata": {
            "tags": []
          },
          "execution_count": 56
        }
      ]
    },
    {
      "cell_type": "markdown",
      "metadata": {
        "id": "PqmxHJWH0teQ",
        "colab_type": "text"
      },
      "source": [
        "proof that the isnull() method creates a data frame of identical shape as the data frame its called upon. but with all boolean elements."
      ]
    },
    {
      "cell_type": "code",
      "metadata": {
        "id": "B-BO8hTh0nMG",
        "colab_type": "code",
        "colab": {
          "base_uri": "https://localhost:8080/",
          "height": 34
        },
        "outputId": "90615df5-c67d-4ecb-f3c2-e2f135baaf8a"
      },
      "source": [
        "movie.isnull().shape"
      ],
      "execution_count": 57,
      "outputs": [
        {
          "output_type": "execute_result",
          "data": {
            "text/plain": [
              "(4916, 28)"
            ]
          },
          "metadata": {
            "tags": []
          },
          "execution_count": 57
        }
      ]
    },
    {
      "cell_type": "markdown",
      "metadata": {
        "id": "B0P72ww7XpST",
        "colab_type": "text"
      },
      "source": [
        "## There's more..."
      ]
    },
    {
      "cell_type": "markdown",
      "metadata": {
        "id": "heeK_Ei_1eGu",
        "colab_type": "text"
      },
      "source": [
        "There's more...\n",
        "Most of the columns in the movie dataset with object data type contain missing values. By default, the aggregation methods, min, max, and sum, do not return anything, as seen in the following code snippet, which selects three object columns and attempts to find the maximum value of each one:\n",
        "\n"
      ]
    },
    {
      "cell_type": "code",
      "metadata": {
        "id": "kfvrV0GTXpST",
        "colab_type": "code",
        "colab": {
          "base_uri": "https://localhost:8080/",
          "height": 34
        },
        "outputId": "fec9694a-6aec-4c90-f77c-b710dc8824c2"
      },
      "source": [
        "movie[['color', 'movie_title', 'color']].max()"
      ],
      "execution_count": 58,
      "outputs": [
        {
          "output_type": "execute_result",
          "data": {
            "text/plain": [
              "Series([], dtype: float64)"
            ]
          },
          "metadata": {
            "tags": []
          },
          "execution_count": 58
        }
      ]
    },
    {
      "cell_type": "markdown",
      "metadata": {
        "id": "NMzdBXQQ1wcT",
        "colab_type": "text"
      },
      "source": [
        "To force pandas to return something for each column, we must fill in the missing values. Here, we choose an empty string:"
      ]
    },
    {
      "cell_type": "code",
      "metadata": {
        "id": "GCB8W8lpXpSa",
        "colab_type": "code",
        "colab": {
          "base_uri": "https://localhost:8080/",
          "height": 185
        },
        "outputId": "1ff98921-aa3f-41bc-9ab8-363bee5454bf"
      },
      "source": [
        "movie.select_dtypes(['object']).fillna('').max()"
      ],
      "execution_count": 59,
      "outputs": [
        {
          "output_type": "execute_result",
          "data": {
            "text/plain": [
              "color                                                          Color\n",
              "director_name                                          Étienne Faure\n",
              "actor_2_name                                           Zubaida Sahar\n",
              "genres                                                       Western\n",
              "                                         ...                        \n",
              "movie_imdb_link    http://www.imdb.com/title/tt5574490/?ref_=fn_t...\n",
              "language                                                        Zulu\n",
              "country                                                 West Germany\n",
              "content_rating                                                     X\n",
              "Length: 12, dtype: object"
            ]
          },
          "metadata": {
            "tags": []
          },
          "execution_count": 59
        }
      ]
    },
    {
      "cell_type": "code",
      "metadata": {
        "id": "4S-52Etx2AHv",
        "colab_type": "code",
        "colab": {
          "base_uri": "https://localhost:8080/",
          "height": 185
        },
        "outputId": "d505aecf-1fe4-4a4a-93cb-6331df791316"
      },
      "source": [
        "# Above code re-written for readability\n",
        "\n",
        "movie.select_dtypes(['object'])\\\n",
        "     .fillna('')\\\n",
        "     .max()"
      ],
      "execution_count": 60,
      "outputs": [
        {
          "output_type": "execute_result",
          "data": {
            "text/plain": [
              "color                                                          Color\n",
              "director_name                                          Étienne Faure\n",
              "actor_2_name                                           Zubaida Sahar\n",
              "genres                                                       Western\n",
              "                                         ...                        \n",
              "movie_imdb_link    http://www.imdb.com/title/tt5574490/?ref_=fn_t...\n",
              "language                                                        Zulu\n",
              "country                                                 West Germany\n",
              "content_rating                                                     X\n",
              "Length: 12, dtype: object"
            ]
          },
          "metadata": {
            "tags": []
          },
          "execution_count": 60
        }
      ]
    },
    {
      "cell_type": "markdown",
      "metadata": {
        "id": "c1M7lG3R2YsF",
        "colab_type": "text"
      },
      "source": [
        "Note\n",
        "It is atypical to aggregate a column of all strings, as the minimum and maximum values are not universally defined. Attempting to call methods that clearly have no string interpretation, such as finding the mean or variance, will not work."
      ]
    },
    {
      "cell_type": "markdown",
      "metadata": {
        "id": "x3owdjA3XpSe",
        "colab_type": "text"
      },
      "source": [
        "# Working with operators on a DataFrame"
      ]
    },
    {
      "cell_type": "markdown",
      "metadata": {
        "id": "6AkEKlr8XpSe",
        "colab_type": "text"
      },
      "source": [
        "## Getting ready..."
      ]
    },
    {
      "cell_type": "code",
      "metadata": {
        "id": "cxkifdbsXpSf",
        "colab_type": "code",
        "colab": {}
      },
      "source": [
        "college = pd.read_csv('/content/gdrive/My Drive/Colab_Notebooks/data_tools/pandas/PandasCookBook_Code/data/college.csv')\n",
        "# college + 5\n",
        "\n",
        "# Adding 5 to a data frame of heterogenous column dtypes creates an error."
      ],
      "execution_count": 0,
      "outputs": []
    },
    {
      "cell_type": "markdown",
      "metadata": {
        "id": "H356AQ7x3mmb",
        "colab_type": "text"
      },
      "source": [
        "To successfully use an operator with a DataFrame, first select homogeneous data. For this recipe, we will select all the columns that begin with UGDS_. These columns represent the fraction of undergraduate students by race. To get started, we import the data and use the institution name as the label for our index, and then select the columns we desire with the filter method:"
      ]
    },
    {
      "cell_type": "code",
      "metadata": {
        "id": "YTVOscbhXpSk",
        "colab_type": "code",
        "colab": {
          "base_uri": "https://localhost:8080/",
          "height": 372
        },
        "outputId": "c3d653bc-3797-4a78-e2d9-0584de71eabf"
      },
      "source": [
        "college = pd.read_csv('/content/gdrive/My Drive/Colab_Notebooks/data_tools/pandas/PandasCookBook_Code/data/college.csv', index_col='INSTNM')\n",
        "college_ugds_ = college.filter(like='UGDS_')\n",
        "college_ugds_"
      ],
      "execution_count": 64,
      "outputs": [
        {
          "output_type": "execute_result",
          "data": {
            "text/html": [
              "<div>\n",
              "<style scoped>\n",
              "    .dataframe tbody tr th:only-of-type {\n",
              "        vertical-align: middle;\n",
              "    }\n",
              "\n",
              "    .dataframe tbody tr th {\n",
              "        vertical-align: top;\n",
              "    }\n",
              "\n",
              "    .dataframe thead th {\n",
              "        text-align: right;\n",
              "    }\n",
              "</style>\n",
              "<table border=\"1\" class=\"dataframe\">\n",
              "  <thead>\n",
              "    <tr style=\"text-align: right;\">\n",
              "      <th></th>\n",
              "      <th>UGDS_WHITE</th>\n",
              "      <th>UGDS_BLACK</th>\n",
              "      <th>UGDS_HISP</th>\n",
              "      <th>UGDS_ASIAN</th>\n",
              "      <th>UGDS_AIAN</th>\n",
              "      <th>UGDS_NHPI</th>\n",
              "      <th>UGDS_2MOR</th>\n",
              "      <th>UGDS_NRA</th>\n",
              "      <th>UGDS_UNKN</th>\n",
              "    </tr>\n",
              "    <tr>\n",
              "      <th>INSTNM</th>\n",
              "      <th></th>\n",
              "      <th></th>\n",
              "      <th></th>\n",
              "      <th></th>\n",
              "      <th></th>\n",
              "      <th></th>\n",
              "      <th></th>\n",
              "      <th></th>\n",
              "      <th></th>\n",
              "    </tr>\n",
              "  </thead>\n",
              "  <tbody>\n",
              "    <tr>\n",
              "      <th>Alabama A &amp; M University</th>\n",
              "      <td>0.0333</td>\n",
              "      <td>0.9353</td>\n",
              "      <td>0.0055</td>\n",
              "      <td>0.0019</td>\n",
              "      <td>0.0024</td>\n",
              "      <td>0.0019</td>\n",
              "      <td>0.0000</td>\n",
              "      <td>0.0059</td>\n",
              "      <td>0.0138</td>\n",
              "    </tr>\n",
              "    <tr>\n",
              "      <th>University of Alabama at Birmingham</th>\n",
              "      <td>0.5922</td>\n",
              "      <td>0.2600</td>\n",
              "      <td>0.0283</td>\n",
              "      <td>0.0518</td>\n",
              "      <td>0.0022</td>\n",
              "      <td>0.0007</td>\n",
              "      <td>0.0368</td>\n",
              "      <td>0.0179</td>\n",
              "      <td>0.0100</td>\n",
              "    </tr>\n",
              "    <tr>\n",
              "      <th>Amridge University</th>\n",
              "      <td>0.2990</td>\n",
              "      <td>0.4192</td>\n",
              "      <td>0.0069</td>\n",
              "      <td>0.0034</td>\n",
              "      <td>0.0000</td>\n",
              "      <td>0.0000</td>\n",
              "      <td>0.0000</td>\n",
              "      <td>0.0000</td>\n",
              "      <td>0.2715</td>\n",
              "    </tr>\n",
              "    <tr>\n",
              "      <th>University of Alabama in Huntsville</th>\n",
              "      <td>0.6988</td>\n",
              "      <td>0.1255</td>\n",
              "      <td>0.0382</td>\n",
              "      <td>0.0376</td>\n",
              "      <td>0.0143</td>\n",
              "      <td>0.0002</td>\n",
              "      <td>0.0172</td>\n",
              "      <td>0.0332</td>\n",
              "      <td>0.0350</td>\n",
              "    </tr>\n",
              "    <tr>\n",
              "      <th>...</th>\n",
              "      <td>...</td>\n",
              "      <td>...</td>\n",
              "      <td>...</td>\n",
              "      <td>...</td>\n",
              "      <td>...</td>\n",
              "      <td>...</td>\n",
              "      <td>...</td>\n",
              "      <td>...</td>\n",
              "      <td>...</td>\n",
              "    </tr>\n",
              "    <tr>\n",
              "      <th>Rasmussen College - Overland Park</th>\n",
              "      <td>NaN</td>\n",
              "      <td>NaN</td>\n",
              "      <td>NaN</td>\n",
              "      <td>NaN</td>\n",
              "      <td>NaN</td>\n",
              "      <td>NaN</td>\n",
              "      <td>NaN</td>\n",
              "      <td>NaN</td>\n",
              "      <td>NaN</td>\n",
              "    </tr>\n",
              "    <tr>\n",
              "      <th>National Personal Training Institute of Cleveland</th>\n",
              "      <td>NaN</td>\n",
              "      <td>NaN</td>\n",
              "      <td>NaN</td>\n",
              "      <td>NaN</td>\n",
              "      <td>NaN</td>\n",
              "      <td>NaN</td>\n",
              "      <td>NaN</td>\n",
              "      <td>NaN</td>\n",
              "      <td>NaN</td>\n",
              "    </tr>\n",
              "    <tr>\n",
              "      <th>Bay Area Medical Academy - San Jose Satellite Location</th>\n",
              "      <td>NaN</td>\n",
              "      <td>NaN</td>\n",
              "      <td>NaN</td>\n",
              "      <td>NaN</td>\n",
              "      <td>NaN</td>\n",
              "      <td>NaN</td>\n",
              "      <td>NaN</td>\n",
              "      <td>NaN</td>\n",
              "      <td>NaN</td>\n",
              "    </tr>\n",
              "    <tr>\n",
              "      <th>Excel Learning Center-San Antonio South</th>\n",
              "      <td>NaN</td>\n",
              "      <td>NaN</td>\n",
              "      <td>NaN</td>\n",
              "      <td>NaN</td>\n",
              "      <td>NaN</td>\n",
              "      <td>NaN</td>\n",
              "      <td>NaN</td>\n",
              "      <td>NaN</td>\n",
              "      <td>NaN</td>\n",
              "    </tr>\n",
              "  </tbody>\n",
              "</table>\n",
              "<p>7535 rows × 9 columns</p>\n",
              "</div>"
            ],
            "text/plain": [
              "                                                    UGDS_WHITE  UGDS_BLACK  \\\n",
              "INSTNM                                                                       \n",
              "Alabama A & M University                                0.0333      0.9353   \n",
              "University of Alabama at Birmingham                     0.5922      0.2600   \n",
              "Amridge University                                      0.2990      0.4192   \n",
              "University of Alabama in Huntsville                     0.6988      0.1255   \n",
              "...                                                        ...         ...   \n",
              "Rasmussen College - Overland Park                          NaN         NaN   \n",
              "National Personal Training Institute of Cleveland          NaN         NaN   \n",
              "Bay Area Medical Academy - San Jose Satellite L...         NaN         NaN   \n",
              "Excel Learning Center-San Antonio South                    NaN         NaN   \n",
              "\n",
              "                                                    UGDS_HISP  UGDS_ASIAN  \\\n",
              "INSTNM                                                                      \n",
              "Alabama A & M University                               0.0055      0.0019   \n",
              "University of Alabama at Birmingham                    0.0283      0.0518   \n",
              "Amridge University                                     0.0069      0.0034   \n",
              "University of Alabama in Huntsville                    0.0382      0.0376   \n",
              "...                                                       ...         ...   \n",
              "Rasmussen College - Overland Park                         NaN         NaN   \n",
              "National Personal Training Institute of Cleveland         NaN         NaN   \n",
              "Bay Area Medical Academy - San Jose Satellite L...        NaN         NaN   \n",
              "Excel Learning Center-San Antonio South                   NaN         NaN   \n",
              "\n",
              "                                                    UGDS_AIAN  UGDS_NHPI  \\\n",
              "INSTNM                                                                     \n",
              "Alabama A & M University                               0.0024     0.0019   \n",
              "University of Alabama at Birmingham                    0.0022     0.0007   \n",
              "Amridge University                                     0.0000     0.0000   \n",
              "University of Alabama in Huntsville                    0.0143     0.0002   \n",
              "...                                                       ...        ...   \n",
              "Rasmussen College - Overland Park                         NaN        NaN   \n",
              "National Personal Training Institute of Cleveland         NaN        NaN   \n",
              "Bay Area Medical Academy - San Jose Satellite L...        NaN        NaN   \n",
              "Excel Learning Center-San Antonio South                   NaN        NaN   \n",
              "\n",
              "                                                    UGDS_2MOR  UGDS_NRA  \\\n",
              "INSTNM                                                                    \n",
              "Alabama A & M University                               0.0000    0.0059   \n",
              "University of Alabama at Birmingham                    0.0368    0.0179   \n",
              "Amridge University                                     0.0000    0.0000   \n",
              "University of Alabama in Huntsville                    0.0172    0.0332   \n",
              "...                                                       ...       ...   \n",
              "Rasmussen College - Overland Park                         NaN       NaN   \n",
              "National Personal Training Institute of Cleveland         NaN       NaN   \n",
              "Bay Area Medical Academy - San Jose Satellite L...        NaN       NaN   \n",
              "Excel Learning Center-San Antonio South                   NaN       NaN   \n",
              "\n",
              "                                                    UGDS_UNKN  \n",
              "INSTNM                                                         \n",
              "Alabama A & M University                               0.0138  \n",
              "University of Alabama at Birmingham                    0.0100  \n",
              "Amridge University                                     0.2715  \n",
              "University of Alabama in Huntsville                    0.0350  \n",
              "...                                                       ...  \n",
              "Rasmussen College - Overland Park                         NaN  \n",
              "National Personal Training Institute of Cleveland         NaN  \n",
              "Bay Area Medical Academy - San Jose Satellite L...        NaN  \n",
              "Excel Learning Center-San Antonio South                   NaN  \n",
              "\n",
              "[7535 rows x 9 columns]"
            ]
          },
          "metadata": {
            "tags": []
          },
          "execution_count": 64
        }
      ]
    },
    {
      "cell_type": "code",
      "metadata": {
        "id": "GurIL626XpSo",
        "colab_type": "code",
        "colab": {
          "base_uri": "https://localhost:8080/",
          "height": 846
        },
        "outputId": "83acf7e1-fff5-4877-ba48-466287ae8b7c"
      },
      "source": [
        "college == 'asdf'"
      ],
      "execution_count": 66,
      "outputs": [
        {
          "output_type": "stream",
          "text": [
            "/usr/local/lib/python3.6/dist-packages/pandas/core/ops.py:1649: FutureWarning: elementwise comparison failed; returning scalar instead, but in the future will perform elementwise comparison\n",
            "  result = method(y)\n"
          ],
          "name": "stderr"
        },
        {
          "output_type": "execute_result",
          "data": {
            "text/html": [
              "<div>\n",
              "<style scoped>\n",
              "    .dataframe tbody tr th:only-of-type {\n",
              "        vertical-align: middle;\n",
              "    }\n",
              "\n",
              "    .dataframe tbody tr th {\n",
              "        vertical-align: top;\n",
              "    }\n",
              "\n",
              "    .dataframe thead th {\n",
              "        text-align: right;\n",
              "    }\n",
              "</style>\n",
              "<table border=\"1\" class=\"dataframe\">\n",
              "  <thead>\n",
              "    <tr style=\"text-align: right;\">\n",
              "      <th></th>\n",
              "      <th>CITY</th>\n",
              "      <th>STABBR</th>\n",
              "      <th>HBCU</th>\n",
              "      <th>MENONLY</th>\n",
              "      <th>WOMENONLY</th>\n",
              "      <th>RELAFFIL</th>\n",
              "      <th>SATVRMID</th>\n",
              "      <th>SATMTMID</th>\n",
              "      <th>DISTANCEONLY</th>\n",
              "      <th>UGDS</th>\n",
              "      <th>UGDS_WHITE</th>\n",
              "      <th>UGDS_BLACK</th>\n",
              "      <th>UGDS_HISP</th>\n",
              "      <th>UGDS_ASIAN</th>\n",
              "      <th>UGDS_AIAN</th>\n",
              "      <th>UGDS_NHPI</th>\n",
              "      <th>UGDS_2MOR</th>\n",
              "      <th>UGDS_NRA</th>\n",
              "      <th>UGDS_UNKN</th>\n",
              "      <th>PPTUG_EF</th>\n",
              "      <th>CURROPER</th>\n",
              "      <th>PCTPELL</th>\n",
              "      <th>PCTFLOAN</th>\n",
              "      <th>UG25ABV</th>\n",
              "      <th>MD_EARN_WNE_P10</th>\n",
              "      <th>GRAD_DEBT_MDN_SUPP</th>\n",
              "    </tr>\n",
              "    <tr>\n",
              "      <th>INSTNM</th>\n",
              "      <th></th>\n",
              "      <th></th>\n",
              "      <th></th>\n",
              "      <th></th>\n",
              "      <th></th>\n",
              "      <th></th>\n",
              "      <th></th>\n",
              "      <th></th>\n",
              "      <th></th>\n",
              "      <th></th>\n",
              "      <th></th>\n",
              "      <th></th>\n",
              "      <th></th>\n",
              "      <th></th>\n",
              "      <th></th>\n",
              "      <th></th>\n",
              "      <th></th>\n",
              "      <th></th>\n",
              "      <th></th>\n",
              "      <th></th>\n",
              "      <th></th>\n",
              "      <th></th>\n",
              "      <th></th>\n",
              "      <th></th>\n",
              "      <th></th>\n",
              "      <th></th>\n",
              "    </tr>\n",
              "  </thead>\n",
              "  <tbody>\n",
              "    <tr>\n",
              "      <th>Alabama A &amp; M University</th>\n",
              "      <td>False</td>\n",
              "      <td>False</td>\n",
              "      <td>False</td>\n",
              "      <td>False</td>\n",
              "      <td>False</td>\n",
              "      <td>False</td>\n",
              "      <td>False</td>\n",
              "      <td>False</td>\n",
              "      <td>False</td>\n",
              "      <td>False</td>\n",
              "      <td>False</td>\n",
              "      <td>False</td>\n",
              "      <td>False</td>\n",
              "      <td>False</td>\n",
              "      <td>False</td>\n",
              "      <td>False</td>\n",
              "      <td>False</td>\n",
              "      <td>False</td>\n",
              "      <td>False</td>\n",
              "      <td>False</td>\n",
              "      <td>False</td>\n",
              "      <td>False</td>\n",
              "      <td>False</td>\n",
              "      <td>False</td>\n",
              "      <td>False</td>\n",
              "      <td>False</td>\n",
              "    </tr>\n",
              "    <tr>\n",
              "      <th>University of Alabama at Birmingham</th>\n",
              "      <td>False</td>\n",
              "      <td>False</td>\n",
              "      <td>False</td>\n",
              "      <td>False</td>\n",
              "      <td>False</td>\n",
              "      <td>False</td>\n",
              "      <td>False</td>\n",
              "      <td>False</td>\n",
              "      <td>False</td>\n",
              "      <td>False</td>\n",
              "      <td>False</td>\n",
              "      <td>False</td>\n",
              "      <td>False</td>\n",
              "      <td>False</td>\n",
              "      <td>False</td>\n",
              "      <td>False</td>\n",
              "      <td>False</td>\n",
              "      <td>False</td>\n",
              "      <td>False</td>\n",
              "      <td>False</td>\n",
              "      <td>False</td>\n",
              "      <td>False</td>\n",
              "      <td>False</td>\n",
              "      <td>False</td>\n",
              "      <td>False</td>\n",
              "      <td>False</td>\n",
              "    </tr>\n",
              "    <tr>\n",
              "      <th>Amridge University</th>\n",
              "      <td>False</td>\n",
              "      <td>False</td>\n",
              "      <td>False</td>\n",
              "      <td>False</td>\n",
              "      <td>False</td>\n",
              "      <td>False</td>\n",
              "      <td>False</td>\n",
              "      <td>False</td>\n",
              "      <td>False</td>\n",
              "      <td>False</td>\n",
              "      <td>False</td>\n",
              "      <td>False</td>\n",
              "      <td>False</td>\n",
              "      <td>False</td>\n",
              "      <td>False</td>\n",
              "      <td>False</td>\n",
              "      <td>False</td>\n",
              "      <td>False</td>\n",
              "      <td>False</td>\n",
              "      <td>False</td>\n",
              "      <td>False</td>\n",
              "      <td>False</td>\n",
              "      <td>False</td>\n",
              "      <td>False</td>\n",
              "      <td>False</td>\n",
              "      <td>False</td>\n",
              "    </tr>\n",
              "    <tr>\n",
              "      <th>University of Alabama in Huntsville</th>\n",
              "      <td>False</td>\n",
              "      <td>False</td>\n",
              "      <td>False</td>\n",
              "      <td>False</td>\n",
              "      <td>False</td>\n",
              "      <td>False</td>\n",
              "      <td>False</td>\n",
              "      <td>False</td>\n",
              "      <td>False</td>\n",
              "      <td>False</td>\n",
              "      <td>False</td>\n",
              "      <td>False</td>\n",
              "      <td>False</td>\n",
              "      <td>False</td>\n",
              "      <td>False</td>\n",
              "      <td>False</td>\n",
              "      <td>False</td>\n",
              "      <td>False</td>\n",
              "      <td>False</td>\n",
              "      <td>False</td>\n",
              "      <td>False</td>\n",
              "      <td>False</td>\n",
              "      <td>False</td>\n",
              "      <td>False</td>\n",
              "      <td>False</td>\n",
              "      <td>False</td>\n",
              "    </tr>\n",
              "    <tr>\n",
              "      <th>...</th>\n",
              "      <td>...</td>\n",
              "      <td>...</td>\n",
              "      <td>...</td>\n",
              "      <td>...</td>\n",
              "      <td>...</td>\n",
              "      <td>...</td>\n",
              "      <td>...</td>\n",
              "      <td>...</td>\n",
              "      <td>...</td>\n",
              "      <td>...</td>\n",
              "      <td>...</td>\n",
              "      <td>...</td>\n",
              "      <td>...</td>\n",
              "      <td>...</td>\n",
              "      <td>...</td>\n",
              "      <td>...</td>\n",
              "      <td>...</td>\n",
              "      <td>...</td>\n",
              "      <td>...</td>\n",
              "      <td>...</td>\n",
              "      <td>...</td>\n",
              "      <td>...</td>\n",
              "      <td>...</td>\n",
              "      <td>...</td>\n",
              "      <td>...</td>\n",
              "      <td>...</td>\n",
              "    </tr>\n",
              "    <tr>\n",
              "      <th>Rasmussen College - Overland Park</th>\n",
              "      <td>False</td>\n",
              "      <td>False</td>\n",
              "      <td>False</td>\n",
              "      <td>False</td>\n",
              "      <td>False</td>\n",
              "      <td>False</td>\n",
              "      <td>False</td>\n",
              "      <td>False</td>\n",
              "      <td>False</td>\n",
              "      <td>False</td>\n",
              "      <td>False</td>\n",
              "      <td>False</td>\n",
              "      <td>False</td>\n",
              "      <td>False</td>\n",
              "      <td>False</td>\n",
              "      <td>False</td>\n",
              "      <td>False</td>\n",
              "      <td>False</td>\n",
              "      <td>False</td>\n",
              "      <td>False</td>\n",
              "      <td>False</td>\n",
              "      <td>False</td>\n",
              "      <td>False</td>\n",
              "      <td>False</td>\n",
              "      <td>False</td>\n",
              "      <td>False</td>\n",
              "    </tr>\n",
              "    <tr>\n",
              "      <th>National Personal Training Institute of Cleveland</th>\n",
              "      <td>False</td>\n",
              "      <td>False</td>\n",
              "      <td>False</td>\n",
              "      <td>False</td>\n",
              "      <td>False</td>\n",
              "      <td>False</td>\n",
              "      <td>False</td>\n",
              "      <td>False</td>\n",
              "      <td>False</td>\n",
              "      <td>False</td>\n",
              "      <td>False</td>\n",
              "      <td>False</td>\n",
              "      <td>False</td>\n",
              "      <td>False</td>\n",
              "      <td>False</td>\n",
              "      <td>False</td>\n",
              "      <td>False</td>\n",
              "      <td>False</td>\n",
              "      <td>False</td>\n",
              "      <td>False</td>\n",
              "      <td>False</td>\n",
              "      <td>False</td>\n",
              "      <td>False</td>\n",
              "      <td>False</td>\n",
              "      <td>False</td>\n",
              "      <td>False</td>\n",
              "    </tr>\n",
              "    <tr>\n",
              "      <th>Bay Area Medical Academy - San Jose Satellite Location</th>\n",
              "      <td>False</td>\n",
              "      <td>False</td>\n",
              "      <td>False</td>\n",
              "      <td>False</td>\n",
              "      <td>False</td>\n",
              "      <td>False</td>\n",
              "      <td>False</td>\n",
              "      <td>False</td>\n",
              "      <td>False</td>\n",
              "      <td>False</td>\n",
              "      <td>False</td>\n",
              "      <td>False</td>\n",
              "      <td>False</td>\n",
              "      <td>False</td>\n",
              "      <td>False</td>\n",
              "      <td>False</td>\n",
              "      <td>False</td>\n",
              "      <td>False</td>\n",
              "      <td>False</td>\n",
              "      <td>False</td>\n",
              "      <td>False</td>\n",
              "      <td>False</td>\n",
              "      <td>False</td>\n",
              "      <td>False</td>\n",
              "      <td>False</td>\n",
              "      <td>False</td>\n",
              "    </tr>\n",
              "    <tr>\n",
              "      <th>Excel Learning Center-San Antonio South</th>\n",
              "      <td>False</td>\n",
              "      <td>False</td>\n",
              "      <td>False</td>\n",
              "      <td>False</td>\n",
              "      <td>False</td>\n",
              "      <td>False</td>\n",
              "      <td>False</td>\n",
              "      <td>False</td>\n",
              "      <td>False</td>\n",
              "      <td>False</td>\n",
              "      <td>False</td>\n",
              "      <td>False</td>\n",
              "      <td>False</td>\n",
              "      <td>False</td>\n",
              "      <td>False</td>\n",
              "      <td>False</td>\n",
              "      <td>False</td>\n",
              "      <td>False</td>\n",
              "      <td>False</td>\n",
              "      <td>False</td>\n",
              "      <td>False</td>\n",
              "      <td>False</td>\n",
              "      <td>False</td>\n",
              "      <td>False</td>\n",
              "      <td>False</td>\n",
              "      <td>False</td>\n",
              "    </tr>\n",
              "  </tbody>\n",
              "</table>\n",
              "<p>7535 rows × 26 columns</p>\n",
              "</div>"
            ],
            "text/plain": [
              "                                                     CITY  STABBR   HBCU  \\\n",
              "INSTNM                                                                     \n",
              "Alabama A & M University                            False   False  False   \n",
              "University of Alabama at Birmingham                 False   False  False   \n",
              "Amridge University                                  False   False  False   \n",
              "University of Alabama in Huntsville                 False   False  False   \n",
              "...                                                   ...     ...    ...   \n",
              "Rasmussen College - Overland Park                   False   False  False   \n",
              "National Personal Training Institute of Cleveland   False   False  False   \n",
              "Bay Area Medical Academy - San Jose Satellite L...  False   False  False   \n",
              "Excel Learning Center-San Antonio South             False   False  False   \n",
              "\n",
              "                                                    MENONLY  WOMENONLY  \\\n",
              "INSTNM                                                                   \n",
              "Alabama A & M University                              False      False   \n",
              "University of Alabama at Birmingham                   False      False   \n",
              "Amridge University                                    False      False   \n",
              "University of Alabama in Huntsville                   False      False   \n",
              "...                                                     ...        ...   \n",
              "Rasmussen College - Overland Park                     False      False   \n",
              "National Personal Training Institute of Cleveland     False      False   \n",
              "Bay Area Medical Academy - San Jose Satellite L...    False      False   \n",
              "Excel Learning Center-San Antonio South               False      False   \n",
              "\n",
              "                                                    RELAFFIL  SATVRMID  \\\n",
              "INSTNM                                                                   \n",
              "Alabama A & M University                               False     False   \n",
              "University of Alabama at Birmingham                    False     False   \n",
              "Amridge University                                     False     False   \n",
              "University of Alabama in Huntsville                    False     False   \n",
              "...                                                      ...       ...   \n",
              "Rasmussen College - Overland Park                      False     False   \n",
              "National Personal Training Institute of Cleveland      False     False   \n",
              "Bay Area Medical Academy - San Jose Satellite L...     False     False   \n",
              "Excel Learning Center-San Antonio South                False     False   \n",
              "\n",
              "                                                    SATMTMID  DISTANCEONLY  \\\n",
              "INSTNM                                                                       \n",
              "Alabama A & M University                               False         False   \n",
              "University of Alabama at Birmingham                    False         False   \n",
              "Amridge University                                     False         False   \n",
              "University of Alabama in Huntsville                    False         False   \n",
              "...                                                      ...           ...   \n",
              "Rasmussen College - Overland Park                      False         False   \n",
              "National Personal Training Institute of Cleveland      False         False   \n",
              "Bay Area Medical Academy - San Jose Satellite L...     False         False   \n",
              "Excel Learning Center-San Antonio South                False         False   \n",
              "\n",
              "                                                     UGDS  UGDS_WHITE  \\\n",
              "INSTNM                                                                  \n",
              "Alabama A & M University                            False       False   \n",
              "University of Alabama at Birmingham                 False       False   \n",
              "Amridge University                                  False       False   \n",
              "University of Alabama in Huntsville                 False       False   \n",
              "...                                                   ...         ...   \n",
              "Rasmussen College - Overland Park                   False       False   \n",
              "National Personal Training Institute of Cleveland   False       False   \n",
              "Bay Area Medical Academy - San Jose Satellite L...  False       False   \n",
              "Excel Learning Center-San Antonio South             False       False   \n",
              "\n",
              "                                                    UGDS_BLACK  UGDS_HISP  \\\n",
              "INSTNM                                                                      \n",
              "Alabama A & M University                                 False      False   \n",
              "University of Alabama at Birmingham                      False      False   \n",
              "Amridge University                                       False      False   \n",
              "University of Alabama in Huntsville                      False      False   \n",
              "...                                                        ...        ...   \n",
              "Rasmussen College - Overland Park                        False      False   \n",
              "National Personal Training Institute of Cleveland        False      False   \n",
              "Bay Area Medical Academy - San Jose Satellite L...       False      False   \n",
              "Excel Learning Center-San Antonio South                  False      False   \n",
              "\n",
              "                                                    UGDS_ASIAN  UGDS_AIAN  \\\n",
              "INSTNM                                                                      \n",
              "Alabama A & M University                                 False      False   \n",
              "University of Alabama at Birmingham                      False      False   \n",
              "Amridge University                                       False      False   \n",
              "University of Alabama in Huntsville                      False      False   \n",
              "...                                                        ...        ...   \n",
              "Rasmussen College - Overland Park                        False      False   \n",
              "National Personal Training Institute of Cleveland        False      False   \n",
              "Bay Area Medical Academy - San Jose Satellite L...       False      False   \n",
              "Excel Learning Center-San Antonio South                  False      False   \n",
              "\n",
              "                                                    UGDS_NHPI  UGDS_2MOR  \\\n",
              "INSTNM                                                                     \n",
              "Alabama A & M University                                False      False   \n",
              "University of Alabama at Birmingham                     False      False   \n",
              "Amridge University                                      False      False   \n",
              "University of Alabama in Huntsville                     False      False   \n",
              "...                                                       ...        ...   \n",
              "Rasmussen College - Overland Park                       False      False   \n",
              "National Personal Training Institute of Cleveland       False      False   \n",
              "Bay Area Medical Academy - San Jose Satellite L...      False      False   \n",
              "Excel Learning Center-San Antonio South                 False      False   \n",
              "\n",
              "                                                    UGDS_NRA  UGDS_UNKN  \\\n",
              "INSTNM                                                                    \n",
              "Alabama A & M University                               False      False   \n",
              "University of Alabama at Birmingham                    False      False   \n",
              "Amridge University                                     False      False   \n",
              "University of Alabama in Huntsville                    False      False   \n",
              "...                                                      ...        ...   \n",
              "Rasmussen College - Overland Park                      False      False   \n",
              "National Personal Training Institute of Cleveland      False      False   \n",
              "Bay Area Medical Academy - San Jose Satellite L...     False      False   \n",
              "Excel Learning Center-San Antonio South                False      False   \n",
              "\n",
              "                                                    PPTUG_EF  CURROPER  \\\n",
              "INSTNM                                                                   \n",
              "Alabama A & M University                               False     False   \n",
              "University of Alabama at Birmingham                    False     False   \n",
              "Amridge University                                     False     False   \n",
              "University of Alabama in Huntsville                    False     False   \n",
              "...                                                      ...       ...   \n",
              "Rasmussen College - Overland Park                      False     False   \n",
              "National Personal Training Institute of Cleveland      False     False   \n",
              "Bay Area Medical Academy - San Jose Satellite L...     False     False   \n",
              "Excel Learning Center-San Antonio South                False     False   \n",
              "\n",
              "                                                    PCTPELL  PCTFLOAN  \\\n",
              "INSTNM                                                                  \n",
              "Alabama A & M University                              False     False   \n",
              "University of Alabama at Birmingham                   False     False   \n",
              "Amridge University                                    False     False   \n",
              "University of Alabama in Huntsville                   False     False   \n",
              "...                                                     ...       ...   \n",
              "Rasmussen College - Overland Park                     False     False   \n",
              "National Personal Training Institute of Cleveland     False     False   \n",
              "Bay Area Medical Academy - San Jose Satellite L...    False     False   \n",
              "Excel Learning Center-San Antonio South               False     False   \n",
              "\n",
              "                                                    UG25ABV  MD_EARN_WNE_P10  \\\n",
              "INSTNM                                                                         \n",
              "Alabama A & M University                              False            False   \n",
              "University of Alabama at Birmingham                   False            False   \n",
              "Amridge University                                    False            False   \n",
              "University of Alabama in Huntsville                   False            False   \n",
              "...                                                     ...              ...   \n",
              "Rasmussen College - Overland Park                     False            False   \n",
              "National Personal Training Institute of Cleveland     False            False   \n",
              "Bay Area Medical Academy - San Jose Satellite L...    False            False   \n",
              "Excel Learning Center-San Antonio South               False            False   \n",
              "\n",
              "                                                    GRAD_DEBT_MDN_SUPP  \n",
              "INSTNM                                                                  \n",
              "Alabama A & M University                                         False  \n",
              "University of Alabama at Birmingham                              False  \n",
              "Amridge University                                               False  \n",
              "University of Alabama in Huntsville                              False  \n",
              "...                                                                ...  \n",
              "Rasmussen College - Overland Park                                False  \n",
              "National Personal Training Institute of Cleveland                False  \n",
              "Bay Area Medical Academy - San Jose Satellite L...               False  \n",
              "Excel Learning Center-San Antonio South                          False  \n",
              "\n",
              "[7535 rows x 26 columns]"
            ]
          },
          "metadata": {
            "tags": []
          },
          "execution_count": 66
        }
      ]
    },
    {
      "cell_type": "markdown",
      "metadata": {
        "id": "q5BHKMF55HwF",
        "colab_type": "text"
      },
      "source": [
        "This recipe uses multiple operators with a DataFrame to round the undergraduate columns to the nearest hundredth. We will then see how this result is equivalent to the round method.\n",
        "\n",
        "How to do it...\n",
        "To begin our rounding adventure with operators, we will first add .00501 to each value of college_ugds_:\n"
      ]
    },
    {
      "cell_type": "code",
      "metadata": {
        "id": "6CCVu0WdXpSu",
        "colab_type": "code",
        "colab": {
          "base_uri": "https://localhost:8080/",
          "height": 225
        },
        "outputId": "b2acd08c-678d-40bf-ddef-4cf20d7753bd"
      },
      "source": [
        "college_ugds_.head() + .00501"
      ],
      "execution_count": 67,
      "outputs": [
        {
          "output_type": "execute_result",
          "data": {
            "text/html": [
              "<div>\n",
              "<style scoped>\n",
              "    .dataframe tbody tr th:only-of-type {\n",
              "        vertical-align: middle;\n",
              "    }\n",
              "\n",
              "    .dataframe tbody tr th {\n",
              "        vertical-align: top;\n",
              "    }\n",
              "\n",
              "    .dataframe thead th {\n",
              "        text-align: right;\n",
              "    }\n",
              "</style>\n",
              "<table border=\"1\" class=\"dataframe\">\n",
              "  <thead>\n",
              "    <tr style=\"text-align: right;\">\n",
              "      <th></th>\n",
              "      <th>UGDS_WHITE</th>\n",
              "      <th>UGDS_BLACK</th>\n",
              "      <th>UGDS_HISP</th>\n",
              "      <th>UGDS_ASIAN</th>\n",
              "      <th>UGDS_AIAN</th>\n",
              "      <th>UGDS_NHPI</th>\n",
              "      <th>UGDS_2MOR</th>\n",
              "      <th>UGDS_NRA</th>\n",
              "      <th>UGDS_UNKN</th>\n",
              "    </tr>\n",
              "    <tr>\n",
              "      <th>INSTNM</th>\n",
              "      <th></th>\n",
              "      <th></th>\n",
              "      <th></th>\n",
              "      <th></th>\n",
              "      <th></th>\n",
              "      <th></th>\n",
              "      <th></th>\n",
              "      <th></th>\n",
              "      <th></th>\n",
              "    </tr>\n",
              "  </thead>\n",
              "  <tbody>\n",
              "    <tr>\n",
              "      <th>Alabama A &amp; M University</th>\n",
              "      <td>0.03831</td>\n",
              "      <td>0.94031</td>\n",
              "      <td>0.01051</td>\n",
              "      <td>0.00691</td>\n",
              "      <td>0.00741</td>\n",
              "      <td>0.00691</td>\n",
              "      <td>0.00501</td>\n",
              "      <td>0.01091</td>\n",
              "      <td>0.01881</td>\n",
              "    </tr>\n",
              "    <tr>\n",
              "      <th>University of Alabama at Birmingham</th>\n",
              "      <td>0.59721</td>\n",
              "      <td>0.26501</td>\n",
              "      <td>0.03331</td>\n",
              "      <td>0.05681</td>\n",
              "      <td>0.00721</td>\n",
              "      <td>0.00571</td>\n",
              "      <td>0.04181</td>\n",
              "      <td>0.02291</td>\n",
              "      <td>0.01501</td>\n",
              "    </tr>\n",
              "    <tr>\n",
              "      <th>Amridge University</th>\n",
              "      <td>0.30401</td>\n",
              "      <td>0.42421</td>\n",
              "      <td>0.01191</td>\n",
              "      <td>0.00841</td>\n",
              "      <td>0.00501</td>\n",
              "      <td>0.00501</td>\n",
              "      <td>0.00501</td>\n",
              "      <td>0.00501</td>\n",
              "      <td>0.27651</td>\n",
              "    </tr>\n",
              "    <tr>\n",
              "      <th>University of Alabama in Huntsville</th>\n",
              "      <td>0.70381</td>\n",
              "      <td>0.13051</td>\n",
              "      <td>0.04321</td>\n",
              "      <td>0.04261</td>\n",
              "      <td>0.01931</td>\n",
              "      <td>0.00521</td>\n",
              "      <td>0.02221</td>\n",
              "      <td>0.03821</td>\n",
              "      <td>0.04001</td>\n",
              "    </tr>\n",
              "    <tr>\n",
              "      <th>Alabama State University</th>\n",
              "      <td>0.02081</td>\n",
              "      <td>0.92581</td>\n",
              "      <td>0.01711</td>\n",
              "      <td>0.00691</td>\n",
              "      <td>0.00601</td>\n",
              "      <td>0.00561</td>\n",
              "      <td>0.01481</td>\n",
              "      <td>0.02931</td>\n",
              "      <td>0.01871</td>\n",
              "    </tr>\n",
              "  </tbody>\n",
              "</table>\n",
              "</div>"
            ],
            "text/plain": [
              "                                     UGDS_WHITE  UGDS_BLACK  UGDS_HISP  \\\n",
              "INSTNM                                                                   \n",
              "Alabama A & M University                0.03831     0.94031    0.01051   \n",
              "University of Alabama at Birmingham     0.59721     0.26501    0.03331   \n",
              "Amridge University                      0.30401     0.42421    0.01191   \n",
              "University of Alabama in Huntsville     0.70381     0.13051    0.04321   \n",
              "Alabama State University                0.02081     0.92581    0.01711   \n",
              "\n",
              "                                     UGDS_ASIAN  UGDS_AIAN  UGDS_NHPI  \\\n",
              "INSTNM                                                                  \n",
              "Alabama A & M University                0.00691    0.00741    0.00691   \n",
              "University of Alabama at Birmingham     0.05681    0.00721    0.00571   \n",
              "Amridge University                      0.00841    0.00501    0.00501   \n",
              "University of Alabama in Huntsville     0.04261    0.01931    0.00521   \n",
              "Alabama State University                0.00691    0.00601    0.00561   \n",
              "\n",
              "                                     UGDS_2MOR  UGDS_NRA  UGDS_UNKN  \n",
              "INSTNM                                                               \n",
              "Alabama A & M University               0.00501   0.01091    0.01881  \n",
              "University of Alabama at Birmingham    0.04181   0.02291    0.01501  \n",
              "Amridge University                     0.00501   0.00501    0.27651  \n",
              "University of Alabama in Huntsville    0.02221   0.03821    0.04001  \n",
              "Alabama State University               0.01481   0.02931    0.01871  "
            ]
          },
          "metadata": {
            "tags": []
          },
          "execution_count": 67
        }
      ]
    },
    {
      "cell_type": "markdown",
      "metadata": {
        "id": "LDA7I_zR5Zgs",
        "colab_type": "text"
      },
      "source": [
        "Use the floor division operator, //, to round to the nearest whole number percentage:"
      ]
    },
    {
      "cell_type": "code",
      "metadata": {
        "id": "tQRmeb4HXpSw",
        "colab_type": "code",
        "colab": {
          "base_uri": "https://localhost:8080/",
          "height": 225
        },
        "outputId": "c4ac96b1-0432-45cb-dc33-ed9e5d795667"
      },
      "source": [
        "(college_ugds_.head() + .00501) // .01"
      ],
      "execution_count": 68,
      "outputs": [
        {
          "output_type": "execute_result",
          "data": {
            "text/html": [
              "<div>\n",
              "<style scoped>\n",
              "    .dataframe tbody tr th:only-of-type {\n",
              "        vertical-align: middle;\n",
              "    }\n",
              "\n",
              "    .dataframe tbody tr th {\n",
              "        vertical-align: top;\n",
              "    }\n",
              "\n",
              "    .dataframe thead th {\n",
              "        text-align: right;\n",
              "    }\n",
              "</style>\n",
              "<table border=\"1\" class=\"dataframe\">\n",
              "  <thead>\n",
              "    <tr style=\"text-align: right;\">\n",
              "      <th></th>\n",
              "      <th>UGDS_WHITE</th>\n",
              "      <th>UGDS_BLACK</th>\n",
              "      <th>UGDS_HISP</th>\n",
              "      <th>UGDS_ASIAN</th>\n",
              "      <th>UGDS_AIAN</th>\n",
              "      <th>UGDS_NHPI</th>\n",
              "      <th>UGDS_2MOR</th>\n",
              "      <th>UGDS_NRA</th>\n",
              "      <th>UGDS_UNKN</th>\n",
              "    </tr>\n",
              "    <tr>\n",
              "      <th>INSTNM</th>\n",
              "      <th></th>\n",
              "      <th></th>\n",
              "      <th></th>\n",
              "      <th></th>\n",
              "      <th></th>\n",
              "      <th></th>\n",
              "      <th></th>\n",
              "      <th></th>\n",
              "      <th></th>\n",
              "    </tr>\n",
              "  </thead>\n",
              "  <tbody>\n",
              "    <tr>\n",
              "      <th>Alabama A &amp; M University</th>\n",
              "      <td>3.0</td>\n",
              "      <td>94.0</td>\n",
              "      <td>1.0</td>\n",
              "      <td>0.0</td>\n",
              "      <td>0.0</td>\n",
              "      <td>0.0</td>\n",
              "      <td>0.0</td>\n",
              "      <td>1.0</td>\n",
              "      <td>1.0</td>\n",
              "    </tr>\n",
              "    <tr>\n",
              "      <th>University of Alabama at Birmingham</th>\n",
              "      <td>59.0</td>\n",
              "      <td>26.0</td>\n",
              "      <td>3.0</td>\n",
              "      <td>5.0</td>\n",
              "      <td>0.0</td>\n",
              "      <td>0.0</td>\n",
              "      <td>4.0</td>\n",
              "      <td>2.0</td>\n",
              "      <td>1.0</td>\n",
              "    </tr>\n",
              "    <tr>\n",
              "      <th>Amridge University</th>\n",
              "      <td>30.0</td>\n",
              "      <td>42.0</td>\n",
              "      <td>1.0</td>\n",
              "      <td>0.0</td>\n",
              "      <td>0.0</td>\n",
              "      <td>0.0</td>\n",
              "      <td>0.0</td>\n",
              "      <td>0.0</td>\n",
              "      <td>27.0</td>\n",
              "    </tr>\n",
              "    <tr>\n",
              "      <th>University of Alabama in Huntsville</th>\n",
              "      <td>70.0</td>\n",
              "      <td>13.0</td>\n",
              "      <td>4.0</td>\n",
              "      <td>4.0</td>\n",
              "      <td>1.0</td>\n",
              "      <td>0.0</td>\n",
              "      <td>2.0</td>\n",
              "      <td>3.0</td>\n",
              "      <td>4.0</td>\n",
              "    </tr>\n",
              "    <tr>\n",
              "      <th>Alabama State University</th>\n",
              "      <td>2.0</td>\n",
              "      <td>92.0</td>\n",
              "      <td>1.0</td>\n",
              "      <td>0.0</td>\n",
              "      <td>0.0</td>\n",
              "      <td>0.0</td>\n",
              "      <td>1.0</td>\n",
              "      <td>2.0</td>\n",
              "      <td>1.0</td>\n",
              "    </tr>\n",
              "  </tbody>\n",
              "</table>\n",
              "</div>"
            ],
            "text/plain": [
              "                                     UGDS_WHITE  UGDS_BLACK  UGDS_HISP  \\\n",
              "INSTNM                                                                   \n",
              "Alabama A & M University                    3.0        94.0        1.0   \n",
              "University of Alabama at Birmingham        59.0        26.0        3.0   \n",
              "Amridge University                         30.0        42.0        1.0   \n",
              "University of Alabama in Huntsville        70.0        13.0        4.0   \n",
              "Alabama State University                    2.0        92.0        1.0   \n",
              "\n",
              "                                     UGDS_ASIAN  UGDS_AIAN  UGDS_NHPI  \\\n",
              "INSTNM                                                                  \n",
              "Alabama A & M University                    0.0        0.0        0.0   \n",
              "University of Alabama at Birmingham         5.0        0.0        0.0   \n",
              "Amridge University                          0.0        0.0        0.0   \n",
              "University of Alabama in Huntsville         4.0        1.0        0.0   \n",
              "Alabama State University                    0.0        0.0        0.0   \n",
              "\n",
              "                                     UGDS_2MOR  UGDS_NRA  UGDS_UNKN  \n",
              "INSTNM                                                               \n",
              "Alabama A & M University                   0.0       1.0        1.0  \n",
              "University of Alabama at Birmingham        4.0       2.0        1.0  \n",
              "Amridge University                         0.0       0.0       27.0  \n",
              "University of Alabama in Huntsville        2.0       3.0        4.0  \n",
              "Alabama State University                   1.0       2.0        1.0  "
            ]
          },
          "metadata": {
            "tags": []
          },
          "execution_count": 68
        }
      ]
    },
    {
      "cell_type": "markdown",
      "metadata": {
        "id": "6M2i9SNp5qHk",
        "colab_type": "text"
      },
      "source": [
        "To complete the rounding exercise, divide by 100:"
      ]
    },
    {
      "cell_type": "code",
      "metadata": {
        "id": "s6T4Ja-xXpSx",
        "colab_type": "code",
        "colab": {
          "base_uri": "https://localhost:8080/",
          "height": 225
        },
        "outputId": "de0c67aa-e12c-4745-c18a-d26667ede190"
      },
      "source": [
        "college_ugds_op_round = (college_ugds_ + .00501) // .01 / 100\n",
        "college_ugds_op_round.head()"
      ],
      "execution_count": 70,
      "outputs": [
        {
          "output_type": "execute_result",
          "data": {
            "text/html": [
              "<div>\n",
              "<style scoped>\n",
              "    .dataframe tbody tr th:only-of-type {\n",
              "        vertical-align: middle;\n",
              "    }\n",
              "\n",
              "    .dataframe tbody tr th {\n",
              "        vertical-align: top;\n",
              "    }\n",
              "\n",
              "    .dataframe thead th {\n",
              "        text-align: right;\n",
              "    }\n",
              "</style>\n",
              "<table border=\"1\" class=\"dataframe\">\n",
              "  <thead>\n",
              "    <tr style=\"text-align: right;\">\n",
              "      <th></th>\n",
              "      <th>UGDS_WHITE</th>\n",
              "      <th>UGDS_BLACK</th>\n",
              "      <th>UGDS_HISP</th>\n",
              "      <th>UGDS_ASIAN</th>\n",
              "      <th>UGDS_AIAN</th>\n",
              "      <th>UGDS_NHPI</th>\n",
              "      <th>UGDS_2MOR</th>\n",
              "      <th>UGDS_NRA</th>\n",
              "      <th>UGDS_UNKN</th>\n",
              "    </tr>\n",
              "    <tr>\n",
              "      <th>INSTNM</th>\n",
              "      <th></th>\n",
              "      <th></th>\n",
              "      <th></th>\n",
              "      <th></th>\n",
              "      <th></th>\n",
              "      <th></th>\n",
              "      <th></th>\n",
              "      <th></th>\n",
              "      <th></th>\n",
              "    </tr>\n",
              "  </thead>\n",
              "  <tbody>\n",
              "    <tr>\n",
              "      <th>Alabama A &amp; M University</th>\n",
              "      <td>0.03</td>\n",
              "      <td>0.94</td>\n",
              "      <td>0.01</td>\n",
              "      <td>0.00</td>\n",
              "      <td>0.00</td>\n",
              "      <td>0.0</td>\n",
              "      <td>0.00</td>\n",
              "      <td>0.01</td>\n",
              "      <td>0.01</td>\n",
              "    </tr>\n",
              "    <tr>\n",
              "      <th>University of Alabama at Birmingham</th>\n",
              "      <td>0.59</td>\n",
              "      <td>0.26</td>\n",
              "      <td>0.03</td>\n",
              "      <td>0.05</td>\n",
              "      <td>0.00</td>\n",
              "      <td>0.0</td>\n",
              "      <td>0.04</td>\n",
              "      <td>0.02</td>\n",
              "      <td>0.01</td>\n",
              "    </tr>\n",
              "    <tr>\n",
              "      <th>Amridge University</th>\n",
              "      <td>0.30</td>\n",
              "      <td>0.42</td>\n",
              "      <td>0.01</td>\n",
              "      <td>0.00</td>\n",
              "      <td>0.00</td>\n",
              "      <td>0.0</td>\n",
              "      <td>0.00</td>\n",
              "      <td>0.00</td>\n",
              "      <td>0.27</td>\n",
              "    </tr>\n",
              "    <tr>\n",
              "      <th>University of Alabama in Huntsville</th>\n",
              "      <td>0.70</td>\n",
              "      <td>0.13</td>\n",
              "      <td>0.04</td>\n",
              "      <td>0.04</td>\n",
              "      <td>0.01</td>\n",
              "      <td>0.0</td>\n",
              "      <td>0.02</td>\n",
              "      <td>0.03</td>\n",
              "      <td>0.04</td>\n",
              "    </tr>\n",
              "    <tr>\n",
              "      <th>Alabama State University</th>\n",
              "      <td>0.02</td>\n",
              "      <td>0.92</td>\n",
              "      <td>0.01</td>\n",
              "      <td>0.00</td>\n",
              "      <td>0.00</td>\n",
              "      <td>0.0</td>\n",
              "      <td>0.01</td>\n",
              "      <td>0.02</td>\n",
              "      <td>0.01</td>\n",
              "    </tr>\n",
              "  </tbody>\n",
              "</table>\n",
              "</div>"
            ],
            "text/plain": [
              "                                     UGDS_WHITE  UGDS_BLACK  UGDS_HISP  \\\n",
              "INSTNM                                                                   \n",
              "Alabama A & M University                   0.03        0.94       0.01   \n",
              "University of Alabama at Birmingham        0.59        0.26       0.03   \n",
              "Amridge University                         0.30        0.42       0.01   \n",
              "University of Alabama in Huntsville        0.70        0.13       0.04   \n",
              "Alabama State University                   0.02        0.92       0.01   \n",
              "\n",
              "                                     UGDS_ASIAN  UGDS_AIAN  UGDS_NHPI  \\\n",
              "INSTNM                                                                  \n",
              "Alabama A & M University                   0.00       0.00        0.0   \n",
              "University of Alabama at Birmingham        0.05       0.00        0.0   \n",
              "Amridge University                         0.00       0.00        0.0   \n",
              "University of Alabama in Huntsville        0.04       0.01        0.0   \n",
              "Alabama State University                   0.00       0.00        0.0   \n",
              "\n",
              "                                     UGDS_2MOR  UGDS_NRA  UGDS_UNKN  \n",
              "INSTNM                                                               \n",
              "Alabama A & M University                  0.00      0.01       0.01  \n",
              "University of Alabama at Birmingham       0.04      0.02       0.01  \n",
              "Amridge University                        0.00      0.00       0.27  \n",
              "University of Alabama in Huntsville       0.02      0.03       0.04  \n",
              "Alabama State University                  0.01      0.02       0.01  "
            ]
          },
          "metadata": {
            "tags": []
          },
          "execution_count": 70
        }
      ]
    },
    {
      "cell_type": "markdown",
      "metadata": {
        "id": "avO3_Qvm6F1Y",
        "colab_type": "text"
      },
      "source": [
        "Now use the round DataFrame method to do the rounding automatically for us. NumPy rounds numbers that are exactly halfway between either side to the even side. Due to this, we add a small fraction before rounding:\n"
      ]
    },
    {
      "cell_type": "code",
      "metadata": {
        "id": "UnqM8E5iXpS0",
        "colab_type": "code",
        "colab": {
          "base_uri": "https://localhost:8080/",
          "height": 225
        },
        "outputId": "2fba770c-503c-4f30-c23f-f40bd243a52f"
      },
      "source": [
        "college_ugds_round = (college_ugds_ + .00001).round(2)\n",
        "college_ugds_round.head()"
      ],
      "execution_count": 71,
      "outputs": [
        {
          "output_type": "execute_result",
          "data": {
            "text/html": [
              "<div>\n",
              "<style scoped>\n",
              "    .dataframe tbody tr th:only-of-type {\n",
              "        vertical-align: middle;\n",
              "    }\n",
              "\n",
              "    .dataframe tbody tr th {\n",
              "        vertical-align: top;\n",
              "    }\n",
              "\n",
              "    .dataframe thead th {\n",
              "        text-align: right;\n",
              "    }\n",
              "</style>\n",
              "<table border=\"1\" class=\"dataframe\">\n",
              "  <thead>\n",
              "    <tr style=\"text-align: right;\">\n",
              "      <th></th>\n",
              "      <th>UGDS_WHITE</th>\n",
              "      <th>UGDS_BLACK</th>\n",
              "      <th>UGDS_HISP</th>\n",
              "      <th>UGDS_ASIAN</th>\n",
              "      <th>UGDS_AIAN</th>\n",
              "      <th>UGDS_NHPI</th>\n",
              "      <th>UGDS_2MOR</th>\n",
              "      <th>UGDS_NRA</th>\n",
              "      <th>UGDS_UNKN</th>\n",
              "    </tr>\n",
              "    <tr>\n",
              "      <th>INSTNM</th>\n",
              "      <th></th>\n",
              "      <th></th>\n",
              "      <th></th>\n",
              "      <th></th>\n",
              "      <th></th>\n",
              "      <th></th>\n",
              "      <th></th>\n",
              "      <th></th>\n",
              "      <th></th>\n",
              "    </tr>\n",
              "  </thead>\n",
              "  <tbody>\n",
              "    <tr>\n",
              "      <th>Alabama A &amp; M University</th>\n",
              "      <td>0.03</td>\n",
              "      <td>0.94</td>\n",
              "      <td>0.01</td>\n",
              "      <td>0.00</td>\n",
              "      <td>0.00</td>\n",
              "      <td>0.0</td>\n",
              "      <td>0.00</td>\n",
              "      <td>0.01</td>\n",
              "      <td>0.01</td>\n",
              "    </tr>\n",
              "    <tr>\n",
              "      <th>University of Alabama at Birmingham</th>\n",
              "      <td>0.59</td>\n",
              "      <td>0.26</td>\n",
              "      <td>0.03</td>\n",
              "      <td>0.05</td>\n",
              "      <td>0.00</td>\n",
              "      <td>0.0</td>\n",
              "      <td>0.04</td>\n",
              "      <td>0.02</td>\n",
              "      <td>0.01</td>\n",
              "    </tr>\n",
              "    <tr>\n",
              "      <th>Amridge University</th>\n",
              "      <td>0.30</td>\n",
              "      <td>0.42</td>\n",
              "      <td>0.01</td>\n",
              "      <td>0.00</td>\n",
              "      <td>0.00</td>\n",
              "      <td>0.0</td>\n",
              "      <td>0.00</td>\n",
              "      <td>0.00</td>\n",
              "      <td>0.27</td>\n",
              "    </tr>\n",
              "    <tr>\n",
              "      <th>University of Alabama in Huntsville</th>\n",
              "      <td>0.70</td>\n",
              "      <td>0.13</td>\n",
              "      <td>0.04</td>\n",
              "      <td>0.04</td>\n",
              "      <td>0.01</td>\n",
              "      <td>0.0</td>\n",
              "      <td>0.02</td>\n",
              "      <td>0.03</td>\n",
              "      <td>0.04</td>\n",
              "    </tr>\n",
              "    <tr>\n",
              "      <th>Alabama State University</th>\n",
              "      <td>0.02</td>\n",
              "      <td>0.92</td>\n",
              "      <td>0.01</td>\n",
              "      <td>0.00</td>\n",
              "      <td>0.00</td>\n",
              "      <td>0.0</td>\n",
              "      <td>0.01</td>\n",
              "      <td>0.02</td>\n",
              "      <td>0.01</td>\n",
              "    </tr>\n",
              "  </tbody>\n",
              "</table>\n",
              "</div>"
            ],
            "text/plain": [
              "                                     UGDS_WHITE  UGDS_BLACK  UGDS_HISP  \\\n",
              "INSTNM                                                                   \n",
              "Alabama A & M University                   0.03        0.94       0.01   \n",
              "University of Alabama at Birmingham        0.59        0.26       0.03   \n",
              "Amridge University                         0.30        0.42       0.01   \n",
              "University of Alabama in Huntsville        0.70        0.13       0.04   \n",
              "Alabama State University                   0.02        0.92       0.01   \n",
              "\n",
              "                                     UGDS_ASIAN  UGDS_AIAN  UGDS_NHPI  \\\n",
              "INSTNM                                                                  \n",
              "Alabama A & M University                   0.00       0.00        0.0   \n",
              "University of Alabama at Birmingham        0.05       0.00        0.0   \n",
              "Amridge University                         0.00       0.00        0.0   \n",
              "University of Alabama in Huntsville        0.04       0.01        0.0   \n",
              "Alabama State University                   0.00       0.00        0.0   \n",
              "\n",
              "                                     UGDS_2MOR  UGDS_NRA  UGDS_UNKN  \n",
              "INSTNM                                                               \n",
              "Alabama A & M University                  0.00      0.01       0.01  \n",
              "University of Alabama at Birmingham       0.04      0.02       0.01  \n",
              "Amridge University                        0.00      0.00       0.27  \n",
              "University of Alabama in Huntsville       0.02      0.03       0.04  \n",
              "Alabama State University                  0.01      0.02       0.01  "
            ]
          },
          "metadata": {
            "tags": []
          },
          "execution_count": 71
        }
      ]
    },
    {
      "cell_type": "markdown",
      "metadata": {
        "id": "zhnBpf_h63bY",
        "colab_type": "text"
      },
      "source": [
        "How it works...\n",
        "Step 1 uses the plus operator, which attempts to add a scalar value to each value of each column of the DataFrame. As the columns are all numeric, this operation works as expected. There are some missing values in each of the columns but they stay missing after the operation.\n",
        "\n",
        "Mathematically, adding .005 should be enough so that the floor division in the next step correctly rounds to the nearest whole percentage. The trouble appears because of the inexactness of floating point numbers:\n",
        "\n"
      ]
    },
    {
      "cell_type": "code",
      "metadata": {
        "id": "mLb3qpVyXpS2",
        "colab_type": "code",
        "colab": {
          "base_uri": "https://localhost:8080/",
          "height": 34
        },
        "outputId": "5970071a-a473-475a-daae-77217fe1e01c"
      },
      "source": [
        ".045 + .005"
      ],
      "execution_count": 74,
      "outputs": [
        {
          "output_type": "execute_result",
          "data": {
            "text/plain": [
              "0.049999999999999996"
            ]
          },
          "metadata": {
            "tags": []
          },
          "execution_count": 74
        }
      ]
    },
    {
      "cell_type": "markdown",
      "metadata": {
        "id": "f8BF0PlN6Trb",
        "colab_type": "text"
      },
      "source": [
        "Use the equals DataFrame method to test the equality of two DataFrames:"
      ]
    },
    {
      "cell_type": "code",
      "metadata": {
        "id": "KfyXsZhWXpS4",
        "colab_type": "code",
        "colab": {
          "base_uri": "https://localhost:8080/",
          "height": 34
        },
        "outputId": "7e2eb591-8654-4572-a5af-c04a42447fc5"
      },
      "source": [
        "college_ugds_op_round.equals(college_ugds_round)"
      ],
      "execution_count": 75,
      "outputs": [
        {
          "output_type": "execute_result",
          "data": {
            "text/plain": [
              "True"
            ]
          },
          "metadata": {
            "tags": []
          },
          "execution_count": 75
        }
      ]
    },
    {
      "cell_type": "markdown",
      "metadata": {
        "id": "VPGBoiT5XpS6",
        "colab_type": "text"
      },
      "source": [
        "## There's more..."
      ]
    },
    {
      "cell_type": "markdown",
      "metadata": {
        "id": "wOTk53Mn7lIL",
        "colab_type": "text"
      },
      "source": [
        "There's more...\n",
        "Just as with Series, DataFrames have method equivalents of the operators. You may replace the operators with their method equivalents:"
      ]
    },
    {
      "cell_type": "code",
      "metadata": {
        "id": "MvpV4TmFXpS7",
        "colab_type": "code",
        "colab": {}
      },
      "source": [
        "college_ugds_op_round_methods = college_ugds_.add(.00501)\\\n",
        "                                             .floordiv(.01)\\\n",
        "                                             .div(100)"
      ],
      "execution_count": 0,
      "outputs": []
    },
    {
      "cell_type": "code",
      "metadata": {
        "id": "1_IwxwM28A0Q",
        "colab_type": "code",
        "colab": {
          "base_uri": "https://localhost:8080/",
          "height": 372
        },
        "outputId": "26fb325c-239e-4ffb-8271-1d1523e9f1c3"
      },
      "source": [
        "college_ugds_op_round_methods"
      ],
      "execution_count": 77,
      "outputs": [
        {
          "output_type": "execute_result",
          "data": {
            "text/html": [
              "<div>\n",
              "<style scoped>\n",
              "    .dataframe tbody tr th:only-of-type {\n",
              "        vertical-align: middle;\n",
              "    }\n",
              "\n",
              "    .dataframe tbody tr th {\n",
              "        vertical-align: top;\n",
              "    }\n",
              "\n",
              "    .dataframe thead th {\n",
              "        text-align: right;\n",
              "    }\n",
              "</style>\n",
              "<table border=\"1\" class=\"dataframe\">\n",
              "  <thead>\n",
              "    <tr style=\"text-align: right;\">\n",
              "      <th></th>\n",
              "      <th>UGDS_WHITE</th>\n",
              "      <th>UGDS_BLACK</th>\n",
              "      <th>UGDS_HISP</th>\n",
              "      <th>UGDS_ASIAN</th>\n",
              "      <th>UGDS_AIAN</th>\n",
              "      <th>UGDS_NHPI</th>\n",
              "      <th>UGDS_2MOR</th>\n",
              "      <th>UGDS_NRA</th>\n",
              "      <th>UGDS_UNKN</th>\n",
              "    </tr>\n",
              "    <tr>\n",
              "      <th>INSTNM</th>\n",
              "      <th></th>\n",
              "      <th></th>\n",
              "      <th></th>\n",
              "      <th></th>\n",
              "      <th></th>\n",
              "      <th></th>\n",
              "      <th></th>\n",
              "      <th></th>\n",
              "      <th></th>\n",
              "    </tr>\n",
              "  </thead>\n",
              "  <tbody>\n",
              "    <tr>\n",
              "      <th>Alabama A &amp; M University</th>\n",
              "      <td>0.03</td>\n",
              "      <td>0.94</td>\n",
              "      <td>0.01</td>\n",
              "      <td>0.00</td>\n",
              "      <td>0.00</td>\n",
              "      <td>0.0</td>\n",
              "      <td>0.00</td>\n",
              "      <td>0.01</td>\n",
              "      <td>0.01</td>\n",
              "    </tr>\n",
              "    <tr>\n",
              "      <th>University of Alabama at Birmingham</th>\n",
              "      <td>0.59</td>\n",
              "      <td>0.26</td>\n",
              "      <td>0.03</td>\n",
              "      <td>0.05</td>\n",
              "      <td>0.00</td>\n",
              "      <td>0.0</td>\n",
              "      <td>0.04</td>\n",
              "      <td>0.02</td>\n",
              "      <td>0.01</td>\n",
              "    </tr>\n",
              "    <tr>\n",
              "      <th>Amridge University</th>\n",
              "      <td>0.30</td>\n",
              "      <td>0.42</td>\n",
              "      <td>0.01</td>\n",
              "      <td>0.00</td>\n",
              "      <td>0.00</td>\n",
              "      <td>0.0</td>\n",
              "      <td>0.00</td>\n",
              "      <td>0.00</td>\n",
              "      <td>0.27</td>\n",
              "    </tr>\n",
              "    <tr>\n",
              "      <th>University of Alabama in Huntsville</th>\n",
              "      <td>0.70</td>\n",
              "      <td>0.13</td>\n",
              "      <td>0.04</td>\n",
              "      <td>0.04</td>\n",
              "      <td>0.01</td>\n",
              "      <td>0.0</td>\n",
              "      <td>0.02</td>\n",
              "      <td>0.03</td>\n",
              "      <td>0.04</td>\n",
              "    </tr>\n",
              "    <tr>\n",
              "      <th>...</th>\n",
              "      <td>...</td>\n",
              "      <td>...</td>\n",
              "      <td>...</td>\n",
              "      <td>...</td>\n",
              "      <td>...</td>\n",
              "      <td>...</td>\n",
              "      <td>...</td>\n",
              "      <td>...</td>\n",
              "      <td>...</td>\n",
              "    </tr>\n",
              "    <tr>\n",
              "      <th>Rasmussen College - Overland Park</th>\n",
              "      <td>NaN</td>\n",
              "      <td>NaN</td>\n",
              "      <td>NaN</td>\n",
              "      <td>NaN</td>\n",
              "      <td>NaN</td>\n",
              "      <td>NaN</td>\n",
              "      <td>NaN</td>\n",
              "      <td>NaN</td>\n",
              "      <td>NaN</td>\n",
              "    </tr>\n",
              "    <tr>\n",
              "      <th>National Personal Training Institute of Cleveland</th>\n",
              "      <td>NaN</td>\n",
              "      <td>NaN</td>\n",
              "      <td>NaN</td>\n",
              "      <td>NaN</td>\n",
              "      <td>NaN</td>\n",
              "      <td>NaN</td>\n",
              "      <td>NaN</td>\n",
              "      <td>NaN</td>\n",
              "      <td>NaN</td>\n",
              "    </tr>\n",
              "    <tr>\n",
              "      <th>Bay Area Medical Academy - San Jose Satellite Location</th>\n",
              "      <td>NaN</td>\n",
              "      <td>NaN</td>\n",
              "      <td>NaN</td>\n",
              "      <td>NaN</td>\n",
              "      <td>NaN</td>\n",
              "      <td>NaN</td>\n",
              "      <td>NaN</td>\n",
              "      <td>NaN</td>\n",
              "      <td>NaN</td>\n",
              "    </tr>\n",
              "    <tr>\n",
              "      <th>Excel Learning Center-San Antonio South</th>\n",
              "      <td>NaN</td>\n",
              "      <td>NaN</td>\n",
              "      <td>NaN</td>\n",
              "      <td>NaN</td>\n",
              "      <td>NaN</td>\n",
              "      <td>NaN</td>\n",
              "      <td>NaN</td>\n",
              "      <td>NaN</td>\n",
              "      <td>NaN</td>\n",
              "    </tr>\n",
              "  </tbody>\n",
              "</table>\n",
              "<p>7535 rows × 9 columns</p>\n",
              "</div>"
            ],
            "text/plain": [
              "                                                    UGDS_WHITE  UGDS_BLACK  \\\n",
              "INSTNM                                                                       \n",
              "Alabama A & M University                                  0.03        0.94   \n",
              "University of Alabama at Birmingham                       0.59        0.26   \n",
              "Amridge University                                        0.30        0.42   \n",
              "University of Alabama in Huntsville                       0.70        0.13   \n",
              "...                                                        ...         ...   \n",
              "Rasmussen College - Overland Park                          NaN         NaN   \n",
              "National Personal Training Institute of Cleveland          NaN         NaN   \n",
              "Bay Area Medical Academy - San Jose Satellite L...         NaN         NaN   \n",
              "Excel Learning Center-San Antonio South                    NaN         NaN   \n",
              "\n",
              "                                                    UGDS_HISP  UGDS_ASIAN  \\\n",
              "INSTNM                                                                      \n",
              "Alabama A & M University                                 0.01        0.00   \n",
              "University of Alabama at Birmingham                      0.03        0.05   \n",
              "Amridge University                                       0.01        0.00   \n",
              "University of Alabama in Huntsville                      0.04        0.04   \n",
              "...                                                       ...         ...   \n",
              "Rasmussen College - Overland Park                         NaN         NaN   \n",
              "National Personal Training Institute of Cleveland         NaN         NaN   \n",
              "Bay Area Medical Academy - San Jose Satellite L...        NaN         NaN   \n",
              "Excel Learning Center-San Antonio South                   NaN         NaN   \n",
              "\n",
              "                                                    UGDS_AIAN  UGDS_NHPI  \\\n",
              "INSTNM                                                                     \n",
              "Alabama A & M University                                 0.00        0.0   \n",
              "University of Alabama at Birmingham                      0.00        0.0   \n",
              "Amridge University                                       0.00        0.0   \n",
              "University of Alabama in Huntsville                      0.01        0.0   \n",
              "...                                                       ...        ...   \n",
              "Rasmussen College - Overland Park                         NaN        NaN   \n",
              "National Personal Training Institute of Cleveland         NaN        NaN   \n",
              "Bay Area Medical Academy - San Jose Satellite L...        NaN        NaN   \n",
              "Excel Learning Center-San Antonio South                   NaN        NaN   \n",
              "\n",
              "                                                    UGDS_2MOR  UGDS_NRA  \\\n",
              "INSTNM                                                                    \n",
              "Alabama A & M University                                 0.00      0.01   \n",
              "University of Alabama at Birmingham                      0.04      0.02   \n",
              "Amridge University                                       0.00      0.00   \n",
              "University of Alabama in Huntsville                      0.02      0.03   \n",
              "...                                                       ...       ...   \n",
              "Rasmussen College - Overland Park                         NaN       NaN   \n",
              "National Personal Training Institute of Cleveland         NaN       NaN   \n",
              "Bay Area Medical Academy - San Jose Satellite L...        NaN       NaN   \n",
              "Excel Learning Center-San Antonio South                   NaN       NaN   \n",
              "\n",
              "                                                    UGDS_UNKN  \n",
              "INSTNM                                                         \n",
              "Alabama A & M University                                 0.01  \n",
              "University of Alabama at Birmingham                      0.01  \n",
              "Amridge University                                       0.27  \n",
              "University of Alabama in Huntsville                      0.04  \n",
              "...                                                       ...  \n",
              "Rasmussen College - Overland Park                         NaN  \n",
              "National Personal Training Institute of Cleveland         NaN  \n",
              "Bay Area Medical Academy - San Jose Satellite L...        NaN  \n",
              "Excel Learning Center-San Antonio South                   NaN  \n",
              "\n",
              "[7535 rows x 9 columns]"
            ]
          },
          "metadata": {
            "tags": []
          },
          "execution_count": 77
        }
      ]
    },
    {
      "cell_type": "code",
      "metadata": {
        "id": "Z-DGeiJF8OAk",
        "colab_type": "code",
        "colab": {
          "base_uri": "https://localhost:8080/",
          "height": 34
        },
        "outputId": "a997cbfd-be04-478f-ff98-9e4758666265"
      },
      "source": [
        "college_ugds_op_round_methods.equals(college_ugds_op_round)"
      ],
      "execution_count": 78,
      "outputs": [
        {
          "output_type": "execute_result",
          "data": {
            "text/plain": [
              "True"
            ]
          },
          "metadata": {
            "tags": []
          },
          "execution_count": 78
        }
      ]
    },
    {
      "cell_type": "markdown",
      "metadata": {
        "id": "lWUpZrE68iKC",
        "colab_type": "text"
      },
      "source": [
        "##What every computer scientist should know about floating-point arithmetic (http://bit.ly/2vmYZKi)"
      ]
    },
    {
      "cell_type": "markdown",
      "metadata": {
        "id": "Be8I6HivXpS8",
        "colab_type": "text"
      },
      "source": [
        "# Comparing missing values"
      ]
    },
    {
      "cell_type": "markdown",
      "metadata": {
        "id": "Ql9akv7U9AJ2",
        "colab_type": "text"
      },
      "source": [
        "Pandas uses the NumPy NaN (np.nan) object to represent a missing value. This is an unusual object, as it is not equal to itself. Even Python's None object evaluates as True when compared to itself:\n",
        "\n"
      ]
    },
    {
      "cell_type": "code",
      "metadata": {
        "id": "XcSHR2GsXpS8",
        "colab_type": "code",
        "colab": {
          "base_uri": "https://localhost:8080/",
          "height": 34
        },
        "outputId": "76555e19-4522-4f05-9bda-4d484a18a6f4"
      },
      "source": [
        "np.nan == np.nan"
      ],
      "execution_count": 80,
      "outputs": [
        {
          "output_type": "execute_result",
          "data": {
            "text/plain": [
              "False"
            ]
          },
          "metadata": {
            "tags": []
          },
          "execution_count": 80
        }
      ]
    },
    {
      "cell_type": "code",
      "metadata": {
        "id": "dsSmMnL4XpS-",
        "colab_type": "code",
        "colab": {
          "base_uri": "https://localhost:8080/",
          "height": 34
        },
        "outputId": "2431d41a-8b8e-454d-c493-604ed0aa48e5"
      },
      "source": [
        "None == None"
      ],
      "execution_count": 81,
      "outputs": [
        {
          "output_type": "execute_result",
          "data": {
            "text/plain": [
              "True"
            ]
          },
          "metadata": {
            "tags": []
          },
          "execution_count": 81
        }
      ]
    },
    {
      "cell_type": "code",
      "metadata": {
        "id": "6-NxbVNbXpTD",
        "colab_type": "code",
        "colab": {
          "base_uri": "https://localhost:8080/",
          "height": 34
        },
        "outputId": "3afb6178-546d-4a32-ecf1-a29bae8c3a27"
      },
      "source": [
        "5 > np.nan"
      ],
      "execution_count": 82,
      "outputs": [
        {
          "output_type": "execute_result",
          "data": {
            "text/plain": [
              "False"
            ]
          },
          "metadata": {
            "tags": []
          },
          "execution_count": 82
        }
      ]
    },
    {
      "cell_type": "code",
      "metadata": {
        "id": "J6m9kIySXpTG",
        "colab_type": "code",
        "colab": {
          "base_uri": "https://localhost:8080/",
          "height": 34
        },
        "outputId": "84b701ab-7a10-41ed-d09a-6746b4eaf60d"
      },
      "source": [
        "np.nan > 5"
      ],
      "execution_count": 83,
      "outputs": [
        {
          "output_type": "execute_result",
          "data": {
            "text/plain": [
              "False"
            ]
          },
          "metadata": {
            "tags": []
          },
          "execution_count": 83
        }
      ]
    },
    {
      "cell_type": "code",
      "metadata": {
        "id": "IOZpxRE-XpTI",
        "colab_type": "code",
        "colab": {
          "base_uri": "https://localhost:8080/",
          "height": 34
        },
        "outputId": "08273ce7-6431-48d6-e842-96523a50b5de"
      },
      "source": [
        "5 != np.nan"
      ],
      "execution_count": 84,
      "outputs": [
        {
          "output_type": "execute_result",
          "data": {
            "text/plain": [
              "True"
            ]
          },
          "metadata": {
            "tags": []
          },
          "execution_count": 84
        }
      ]
    },
    {
      "cell_type": "markdown",
      "metadata": {
        "id": "F0L9wsEI99Iq",
        "colab_type": "text"
      },
      "source": [
        "Series and DataFrames use the equals operator, ==, to make element-by-element comparisons that return an object of the same size. This recipe shows you how to use the equals operator, which is very different from the equals method."
      ]
    },
    {
      "cell_type": "code",
      "metadata": {
        "id": "syFimrp0XpTK",
        "colab_type": "code",
        "colab": {}
      },
      "source": [
        "college = pd.read_csv('/content/gdrive/My Drive/Colab_Notebooks/data_tools/pandas/PandasCookBook_Code/data/college.csv', index_col='INSTNM')\n",
        "\n",
        "college_ugds_ = college.filter(like='UGDS_')"
      ],
      "execution_count": 0,
      "outputs": []
    },
    {
      "cell_type": "markdown",
      "metadata": {
        "id": "vMltLagS-K8p",
        "colab_type": "text"
      },
      "source": [
        "To get an idea of how the equals operator works, let's compare each element to a scalar value:\n"
      ]
    },
    {
      "cell_type": "code",
      "metadata": {
        "id": "f9eMGuEFXpTN",
        "colab_type": "code",
        "colab": {
          "base_uri": "https://localhost:8080/",
          "height": 225
        },
        "outputId": "658ea3bb-ddf5-4650-a42c-aa97158b3ac2"
      },
      "source": [
        "college_ugds_.head() == .0019"
      ],
      "execution_count": 86,
      "outputs": [
        {
          "output_type": "execute_result",
          "data": {
            "text/html": [
              "<div>\n",
              "<style scoped>\n",
              "    .dataframe tbody tr th:only-of-type {\n",
              "        vertical-align: middle;\n",
              "    }\n",
              "\n",
              "    .dataframe tbody tr th {\n",
              "        vertical-align: top;\n",
              "    }\n",
              "\n",
              "    .dataframe thead th {\n",
              "        text-align: right;\n",
              "    }\n",
              "</style>\n",
              "<table border=\"1\" class=\"dataframe\">\n",
              "  <thead>\n",
              "    <tr style=\"text-align: right;\">\n",
              "      <th></th>\n",
              "      <th>UGDS_WHITE</th>\n",
              "      <th>UGDS_BLACK</th>\n",
              "      <th>UGDS_HISP</th>\n",
              "      <th>UGDS_ASIAN</th>\n",
              "      <th>UGDS_AIAN</th>\n",
              "      <th>UGDS_NHPI</th>\n",
              "      <th>UGDS_2MOR</th>\n",
              "      <th>UGDS_NRA</th>\n",
              "      <th>UGDS_UNKN</th>\n",
              "    </tr>\n",
              "    <tr>\n",
              "      <th>INSTNM</th>\n",
              "      <th></th>\n",
              "      <th></th>\n",
              "      <th></th>\n",
              "      <th></th>\n",
              "      <th></th>\n",
              "      <th></th>\n",
              "      <th></th>\n",
              "      <th></th>\n",
              "      <th></th>\n",
              "    </tr>\n",
              "  </thead>\n",
              "  <tbody>\n",
              "    <tr>\n",
              "      <th>Alabama A &amp; M University</th>\n",
              "      <td>False</td>\n",
              "      <td>False</td>\n",
              "      <td>False</td>\n",
              "      <td>True</td>\n",
              "      <td>False</td>\n",
              "      <td>True</td>\n",
              "      <td>False</td>\n",
              "      <td>False</td>\n",
              "      <td>False</td>\n",
              "    </tr>\n",
              "    <tr>\n",
              "      <th>University of Alabama at Birmingham</th>\n",
              "      <td>False</td>\n",
              "      <td>False</td>\n",
              "      <td>False</td>\n",
              "      <td>False</td>\n",
              "      <td>False</td>\n",
              "      <td>False</td>\n",
              "      <td>False</td>\n",
              "      <td>False</td>\n",
              "      <td>False</td>\n",
              "    </tr>\n",
              "    <tr>\n",
              "      <th>Amridge University</th>\n",
              "      <td>False</td>\n",
              "      <td>False</td>\n",
              "      <td>False</td>\n",
              "      <td>False</td>\n",
              "      <td>False</td>\n",
              "      <td>False</td>\n",
              "      <td>False</td>\n",
              "      <td>False</td>\n",
              "      <td>False</td>\n",
              "    </tr>\n",
              "    <tr>\n",
              "      <th>University of Alabama in Huntsville</th>\n",
              "      <td>False</td>\n",
              "      <td>False</td>\n",
              "      <td>False</td>\n",
              "      <td>False</td>\n",
              "      <td>False</td>\n",
              "      <td>False</td>\n",
              "      <td>False</td>\n",
              "      <td>False</td>\n",
              "      <td>False</td>\n",
              "    </tr>\n",
              "    <tr>\n",
              "      <th>Alabama State University</th>\n",
              "      <td>False</td>\n",
              "      <td>False</td>\n",
              "      <td>False</td>\n",
              "      <td>True</td>\n",
              "      <td>False</td>\n",
              "      <td>False</td>\n",
              "      <td>False</td>\n",
              "      <td>False</td>\n",
              "      <td>False</td>\n",
              "    </tr>\n",
              "  </tbody>\n",
              "</table>\n",
              "</div>"
            ],
            "text/plain": [
              "                                     UGDS_WHITE  UGDS_BLACK  UGDS_HISP  \\\n",
              "INSTNM                                                                   \n",
              "Alabama A & M University                  False       False      False   \n",
              "University of Alabama at Birmingham       False       False      False   \n",
              "Amridge University                        False       False      False   \n",
              "University of Alabama in Huntsville       False       False      False   \n",
              "Alabama State University                  False       False      False   \n",
              "\n",
              "                                     UGDS_ASIAN  UGDS_AIAN  UGDS_NHPI  \\\n",
              "INSTNM                                                                  \n",
              "Alabama A & M University                   True      False       True   \n",
              "University of Alabama at Birmingham       False      False      False   \n",
              "Amridge University                        False      False      False   \n",
              "University of Alabama in Huntsville       False      False      False   \n",
              "Alabama State University                   True      False      False   \n",
              "\n",
              "                                     UGDS_2MOR  UGDS_NRA  UGDS_UNKN  \n",
              "INSTNM                                                               \n",
              "Alabama A & M University                 False     False      False  \n",
              "University of Alabama at Birmingham      False     False      False  \n",
              "Amridge University                       False     False      False  \n",
              "University of Alabama in Huntsville      False     False      False  \n",
              "Alabama State University                 False     False      False  "
            ]
          },
          "metadata": {
            "tags": []
          },
          "execution_count": 86
        }
      ]
    },
    {
      "cell_type": "markdown",
      "metadata": {
        "id": "VND20uwi-Y3h",
        "colab_type": "text"
      },
      "source": [
        "This works as expected but becomes problematic whenever you attempt to compare DataFrames with missing values. This same equals operator may be used to compare two DataFrames with one another on an element-by-element basis. Take, for instance, college_ugds_ compared against itself, as follows:\n"
      ]
    },
    {
      "cell_type": "code",
      "metadata": {
        "id": "B1WBQyOzXpTP",
        "colab_type": "code",
        "colab": {
          "base_uri": "https://localhost:8080/",
          "height": 225
        },
        "outputId": "6de370a2-2bf5-4dc5-8386-7467971330f6"
      },
      "source": [
        "college_self_compare = college_ugds_ == college_ugds_\n",
        "college_self_compare.head()"
      ],
      "execution_count": 87,
      "outputs": [
        {
          "output_type": "execute_result",
          "data": {
            "text/html": [
              "<div>\n",
              "<style scoped>\n",
              "    .dataframe tbody tr th:only-of-type {\n",
              "        vertical-align: middle;\n",
              "    }\n",
              "\n",
              "    .dataframe tbody tr th {\n",
              "        vertical-align: top;\n",
              "    }\n",
              "\n",
              "    .dataframe thead th {\n",
              "        text-align: right;\n",
              "    }\n",
              "</style>\n",
              "<table border=\"1\" class=\"dataframe\">\n",
              "  <thead>\n",
              "    <tr style=\"text-align: right;\">\n",
              "      <th></th>\n",
              "      <th>UGDS_WHITE</th>\n",
              "      <th>UGDS_BLACK</th>\n",
              "      <th>UGDS_HISP</th>\n",
              "      <th>UGDS_ASIAN</th>\n",
              "      <th>UGDS_AIAN</th>\n",
              "      <th>UGDS_NHPI</th>\n",
              "      <th>UGDS_2MOR</th>\n",
              "      <th>UGDS_NRA</th>\n",
              "      <th>UGDS_UNKN</th>\n",
              "    </tr>\n",
              "    <tr>\n",
              "      <th>INSTNM</th>\n",
              "      <th></th>\n",
              "      <th></th>\n",
              "      <th></th>\n",
              "      <th></th>\n",
              "      <th></th>\n",
              "      <th></th>\n",
              "      <th></th>\n",
              "      <th></th>\n",
              "      <th></th>\n",
              "    </tr>\n",
              "  </thead>\n",
              "  <tbody>\n",
              "    <tr>\n",
              "      <th>Alabama A &amp; M University</th>\n",
              "      <td>True</td>\n",
              "      <td>True</td>\n",
              "      <td>True</td>\n",
              "      <td>True</td>\n",
              "      <td>True</td>\n",
              "      <td>True</td>\n",
              "      <td>True</td>\n",
              "      <td>True</td>\n",
              "      <td>True</td>\n",
              "    </tr>\n",
              "    <tr>\n",
              "      <th>University of Alabama at Birmingham</th>\n",
              "      <td>True</td>\n",
              "      <td>True</td>\n",
              "      <td>True</td>\n",
              "      <td>True</td>\n",
              "      <td>True</td>\n",
              "      <td>True</td>\n",
              "      <td>True</td>\n",
              "      <td>True</td>\n",
              "      <td>True</td>\n",
              "    </tr>\n",
              "    <tr>\n",
              "      <th>Amridge University</th>\n",
              "      <td>True</td>\n",
              "      <td>True</td>\n",
              "      <td>True</td>\n",
              "      <td>True</td>\n",
              "      <td>True</td>\n",
              "      <td>True</td>\n",
              "      <td>True</td>\n",
              "      <td>True</td>\n",
              "      <td>True</td>\n",
              "    </tr>\n",
              "    <tr>\n",
              "      <th>University of Alabama in Huntsville</th>\n",
              "      <td>True</td>\n",
              "      <td>True</td>\n",
              "      <td>True</td>\n",
              "      <td>True</td>\n",
              "      <td>True</td>\n",
              "      <td>True</td>\n",
              "      <td>True</td>\n",
              "      <td>True</td>\n",
              "      <td>True</td>\n",
              "    </tr>\n",
              "    <tr>\n",
              "      <th>Alabama State University</th>\n",
              "      <td>True</td>\n",
              "      <td>True</td>\n",
              "      <td>True</td>\n",
              "      <td>True</td>\n",
              "      <td>True</td>\n",
              "      <td>True</td>\n",
              "      <td>True</td>\n",
              "      <td>True</td>\n",
              "      <td>True</td>\n",
              "    </tr>\n",
              "  </tbody>\n",
              "</table>\n",
              "</div>"
            ],
            "text/plain": [
              "                                     UGDS_WHITE  UGDS_BLACK  UGDS_HISP  \\\n",
              "INSTNM                                                                   \n",
              "Alabama A & M University                   True        True       True   \n",
              "University of Alabama at Birmingham        True        True       True   \n",
              "Amridge University                         True        True       True   \n",
              "University of Alabama in Huntsville        True        True       True   \n",
              "Alabama State University                   True        True       True   \n",
              "\n",
              "                                     UGDS_ASIAN  UGDS_AIAN  UGDS_NHPI  \\\n",
              "INSTNM                                                                  \n",
              "Alabama A & M University                   True       True       True   \n",
              "University of Alabama at Birmingham        True       True       True   \n",
              "Amridge University                         True       True       True   \n",
              "University of Alabama in Huntsville        True       True       True   \n",
              "Alabama State University                   True       True       True   \n",
              "\n",
              "                                     UGDS_2MOR  UGDS_NRA  UGDS_UNKN  \n",
              "INSTNM                                                               \n",
              "Alabama A & M University                  True      True       True  \n",
              "University of Alabama at Birmingham       True      True       True  \n",
              "Amridge University                        True      True       True  \n",
              "University of Alabama in Huntsville       True      True       True  \n",
              "Alabama State University                  True      True       True  "
            ]
          },
          "metadata": {
            "tags": []
          },
          "execution_count": 87
        }
      ]
    },
    {
      "cell_type": "markdown",
      "metadata": {
        "id": "rgrGt_59-r4_",
        "colab_type": "text"
      },
      "source": [
        "At first glance, all the values appear to be equal, as you would expect. However, using the all method to determine if each column contains only True values yields an unexpected result:\n"
      ]
    },
    {
      "cell_type": "code",
      "metadata": {
        "id": "t426yL1MXpTR",
        "colab_type": "code",
        "colab": {
          "base_uri": "https://localhost:8080/",
          "height": 185
        },
        "outputId": "fab6a693-8884-4dbd-bc46-0dcaedd2bb8b"
      },
      "source": [
        "college_self_compare.all()  # Code to confirm if all columns contain only true values "
      ],
      "execution_count": 88,
      "outputs": [
        {
          "output_type": "execute_result",
          "data": {
            "text/plain": [
              "UGDS_WHITE    False\n",
              "UGDS_BLACK    False\n",
              "UGDS_HISP     False\n",
              "UGDS_ASIAN    False\n",
              "              ...  \n",
              "UGDS_NHPI     False\n",
              "UGDS_2MOR     False\n",
              "UGDS_NRA      False\n",
              "UGDS_UNKN     False\n",
              "Length: 9, dtype: bool"
            ]
          },
          "metadata": {
            "tags": []
          },
          "execution_count": 88
        }
      ]
    },
    {
      "cell_type": "markdown",
      "metadata": {
        "id": "JWYxtxtx_Gff",
        "colab_type": "text"
      },
      "source": [
        "This happens because missing values do not compare equally with one another. If you tried to count missing values using the equal operator and summing up the boolean columns, you would get zero for each one:\n"
      ]
    },
    {
      "cell_type": "code",
      "metadata": {
        "id": "UPWLKlwkXpTX",
        "colab_type": "code",
        "colab": {
          "base_uri": "https://localhost:8080/",
          "height": 185
        },
        "outputId": "907368a1-289a-44b8-d43a-190811450526"
      },
      "source": [
        "(college_ugds_ == np.nan).sum()"
      ],
      "execution_count": 89,
      "outputs": [
        {
          "output_type": "execute_result",
          "data": {
            "text/plain": [
              "UGDS_WHITE    0\n",
              "UGDS_BLACK    0\n",
              "UGDS_HISP     0\n",
              "UGDS_ASIAN    0\n",
              "             ..\n",
              "UGDS_NHPI     0\n",
              "UGDS_2MOR     0\n",
              "UGDS_NRA      0\n",
              "UGDS_UNKN     0\n",
              "Length: 9, dtype: int64"
            ]
          },
          "metadata": {
            "tags": []
          },
          "execution_count": 89
        }
      ]
    },
    {
      "cell_type": "markdown",
      "metadata": {
        "id": "7ybF5SN3_Tur",
        "colab_type": "text"
      },
      "source": [
        "The primary way to count missing values uses the isnull method:\n"
      ]
    },
    {
      "cell_type": "code",
      "metadata": {
        "id": "JFsFal8IXpTY",
        "colab_type": "code",
        "colab": {
          "base_uri": "https://localhost:8080/",
          "height": 185
        },
        "outputId": "f0c0601f-06e6-4a0a-f99d-98675ca54eb4"
      },
      "source": [
        "college_ugds_.isnull().sum()"
      ],
      "execution_count": 90,
      "outputs": [
        {
          "output_type": "execute_result",
          "data": {
            "text/plain": [
              "UGDS_WHITE    661\n",
              "UGDS_BLACK    661\n",
              "UGDS_HISP     661\n",
              "UGDS_ASIAN    661\n",
              "             ... \n",
              "UGDS_NHPI     661\n",
              "UGDS_2MOR     661\n",
              "UGDS_NRA      661\n",
              "UGDS_UNKN     661\n",
              "Length: 9, dtype: int64"
            ]
          },
          "metadata": {
            "tags": []
          },
          "execution_count": 90
        }
      ]
    },
    {
      "cell_type": "code",
      "metadata": {
        "id": "ktum1Xlx_Xor",
        "colab_type": "code",
        "colab": {
          "base_uri": "https://localhost:8080/",
          "height": 185
        },
        "outputId": "00463c1e-c273-428a-cef1-43308654d413"
      },
      "source": [
        "college_ugds_.isna().sum()"
      ],
      "execution_count": 91,
      "outputs": [
        {
          "output_type": "execute_result",
          "data": {
            "text/plain": [
              "UGDS_WHITE    661\n",
              "UGDS_BLACK    661\n",
              "UGDS_HISP     661\n",
              "UGDS_ASIAN    661\n",
              "             ... \n",
              "UGDS_NHPI     661\n",
              "UGDS_2MOR     661\n",
              "UGDS_NRA      661\n",
              "UGDS_UNKN     661\n",
              "Length: 9, dtype: int64"
            ]
          },
          "metadata": {
            "tags": []
          },
          "execution_count": 91
        }
      ]
    },
    {
      "cell_type": "markdown",
      "metadata": {
        "id": "MZ6qnjHt_gQv",
        "colab_type": "text"
      },
      "source": [
        "The correct way to compare two entire DataFrames with one another is not with the equals operator but with the equals method:"
      ]
    },
    {
      "cell_type": "code",
      "metadata": {
        "id": "g5jl56tC_pGn",
        "colab_type": "code",
        "colab": {
          "base_uri": "https://localhost:8080/",
          "height": 34
        },
        "outputId": "8f2b99c5-4d4a-4892-caa8-60316e7cab44"
      },
      "source": [
        "college_ugds_.equals(college_ugds_)"
      ],
      "execution_count": 93,
      "outputs": [
        {
          "output_type": "execute_result",
          "data": {
            "text/plain": [
              "True"
            ]
          },
          "metadata": {
            "tags": []
          },
          "execution_count": 93
        }
      ]
    },
    {
      "cell_type": "markdown",
      "metadata": {
        "id": "UZpyVTf1A6Gg",
        "colab_type": "text"
      },
      "source": [
        "Inside the pandas.testing sub-package, a function exists that developers must use when creating unit tests. The assert_frame_equal function raises an AssertionError if two DataFrames are not equal. It returns None if the two passed frames are equal:\n",
        "\n"
      ]
    },
    {
      "cell_type": "code",
      "metadata": {
        "id": "-yNpc35wXpTa",
        "colab_type": "code",
        "colab": {}
      },
      "source": [
        "from pandas.testing import assert_frame_equal"
      ],
      "execution_count": 0,
      "outputs": []
    },
    {
      "cell_type": "code",
      "metadata": {
        "id": "gurzrM2eXpTb",
        "colab_type": "code",
        "colab": {}
      },
      "source": [
        "assert_frame_equal(college_ugds_, college_ugds_)"
      ],
      "execution_count": 0,
      "outputs": []
    },
    {
      "cell_type": "markdown",
      "metadata": {
        "id": "LQbticcKXpTd",
        "colab_type": "text"
      },
      "source": [
        "## There's more..."
      ]
    },
    {
      "cell_type": "markdown",
      "metadata": {
        "id": "pICFUawtAork",
        "colab_type": "text"
      },
      "source": [
        "All the comparison operators have method counterparts that allow for more functionality. Somewhat confusingly, the eq DataFrame method does element-by-element comparison, just like the equals operator.The eq method is not at all the same as the equals method. It merely does a similar task as the equals operator. The following code duplicates step 1:"
      ]
    },
    {
      "cell_type": "code",
      "metadata": {
        "id": "HbUDI9-9XpTd",
        "colab_type": "code",
        "colab": {},
        "outputId": "258c1c3e-2212-4df7-a77e-2cb301473434"
      },
      "source": [
        "college_ugds_.eq(.0019).head()  # same as college_ugds_ == .0019 "
      ],
      "execution_count": 0,
      "outputs": [
        {
          "output_type": "execute_result",
          "data": {
            "text/html": [
              "<div>\n",
              "<style>\n",
              "    .dataframe thead tr:only-child th {\n",
              "        text-align: right;\n",
              "    }\n",
              "\n",
              "    .dataframe thead th {\n",
              "        text-align: left;\n",
              "    }\n",
              "\n",
              "    .dataframe tbody tr th {\n",
              "        vertical-align: top;\n",
              "    }\n",
              "</style>\n",
              "<table border=\"1\" class=\"dataframe\">\n",
              "  <thead>\n",
              "    <tr style=\"text-align: right;\">\n",
              "      <th></th>\n",
              "      <th>UGDS_WHITE</th>\n",
              "      <th>UGDS_BLACK</th>\n",
              "      <th>UGDS_HISP</th>\n",
              "      <th>UGDS_ASIAN</th>\n",
              "      <th>UGDS_AIAN</th>\n",
              "      <th>UGDS_NHPI</th>\n",
              "      <th>UGDS_2MOR</th>\n",
              "      <th>UGDS_NRA</th>\n",
              "      <th>UGDS_UNKN</th>\n",
              "    </tr>\n",
              "    <tr>\n",
              "      <th>INSTNM</th>\n",
              "      <th></th>\n",
              "      <th></th>\n",
              "      <th></th>\n",
              "      <th></th>\n",
              "      <th></th>\n",
              "      <th></th>\n",
              "      <th></th>\n",
              "      <th></th>\n",
              "      <th></th>\n",
              "    </tr>\n",
              "  </thead>\n",
              "  <tbody>\n",
              "    <tr>\n",
              "      <th>Alabama A &amp; M University</th>\n",
              "      <td>False</td>\n",
              "      <td>False</td>\n",
              "      <td>False</td>\n",
              "      <td>True</td>\n",
              "      <td>False</td>\n",
              "      <td>True</td>\n",
              "      <td>False</td>\n",
              "      <td>False</td>\n",
              "      <td>False</td>\n",
              "    </tr>\n",
              "    <tr>\n",
              "      <th>University of Alabama at Birmingham</th>\n",
              "      <td>False</td>\n",
              "      <td>False</td>\n",
              "      <td>False</td>\n",
              "      <td>False</td>\n",
              "      <td>False</td>\n",
              "      <td>False</td>\n",
              "      <td>False</td>\n",
              "      <td>False</td>\n",
              "      <td>False</td>\n",
              "    </tr>\n",
              "    <tr>\n",
              "      <th>Amridge University</th>\n",
              "      <td>False</td>\n",
              "      <td>False</td>\n",
              "      <td>False</td>\n",
              "      <td>False</td>\n",
              "      <td>False</td>\n",
              "      <td>False</td>\n",
              "      <td>False</td>\n",
              "      <td>False</td>\n",
              "      <td>False</td>\n",
              "    </tr>\n",
              "    <tr>\n",
              "      <th>University of Alabama in Huntsville</th>\n",
              "      <td>False</td>\n",
              "      <td>False</td>\n",
              "      <td>False</td>\n",
              "      <td>False</td>\n",
              "      <td>False</td>\n",
              "      <td>False</td>\n",
              "      <td>False</td>\n",
              "      <td>False</td>\n",
              "      <td>False</td>\n",
              "    </tr>\n",
              "    <tr>\n",
              "      <th>Alabama State University</th>\n",
              "      <td>False</td>\n",
              "      <td>False</td>\n",
              "      <td>False</td>\n",
              "      <td>True</td>\n",
              "      <td>False</td>\n",
              "      <td>False</td>\n",
              "      <td>False</td>\n",
              "      <td>False</td>\n",
              "      <td>False</td>\n",
              "    </tr>\n",
              "  </tbody>\n",
              "</table>\n",
              "</div>"
            ],
            "text/plain": [
              "                                     UGDS_WHITE  UGDS_BLACK  UGDS_HISP  \\\n",
              "INSTNM                                                                   \n",
              "Alabama A & M University                  False       False      False   \n",
              "University of Alabama at Birmingham       False       False      False   \n",
              "Amridge University                        False       False      False   \n",
              "University of Alabama in Huntsville       False       False      False   \n",
              "Alabama State University                  False       False      False   \n",
              "\n",
              "                                     UGDS_ASIAN  UGDS_AIAN  UGDS_NHPI  \\\n",
              "INSTNM                                                                  \n",
              "Alabama A & M University                   True      False       True   \n",
              "University of Alabama at Birmingham       False      False      False   \n",
              "Amridge University                        False      False      False   \n",
              "University of Alabama in Huntsville       False      False      False   \n",
              "Alabama State University                   True      False      False   \n",
              "\n",
              "                                     UGDS_2MOR  UGDS_NRA  UGDS_UNKN  \n",
              "INSTNM                                                               \n",
              "Alabama A & M University                 False     False      False  \n",
              "University of Alabama at Birmingham      False     False      False  \n",
              "Amridge University                       False     False      False  \n",
              "University of Alabama in Huntsville      False     False      False  \n",
              "Alabama State University                 False     False      False  "
            ]
          },
          "metadata": {
            "tags": []
          },
          "execution_count": 479
        }
      ]
    },
    {
      "cell_type": "markdown",
      "metadata": {
        "id": "9Ext1fYJBV36",
        "colab_type": "text"
      },
      "source": [
        "Note\n",
        "Unit tests are a very important part of software development and ensure that the code is running correctly. Pandas contains many thousands of unit tests that help ensure that it is running properly. To read more on how pandas runs its unit tests, see the Contributing to pandas section in the documentation (http://bit.ly/2vmCSU6)."
      ]
    },
    {
      "cell_type": "markdown",
      "metadata": {
        "id": "I3f-lN-BXpTg",
        "colab_type": "text"
      },
      "source": [
        "# Transposing the direction of a DataFrame operation"
      ]
    },
    {
      "cell_type": "code",
      "metadata": {
        "id": "q8XTqqtWXpTg",
        "colab_type": "code",
        "colab": {
          "base_uri": "https://localhost:8080/",
          "height": 225
        },
        "outputId": "601a04b1-fa06-4b99-ec7c-b0fe7bd609c7"
      },
      "source": [
        "college = pd.read_csv('/content/gdrive/My Drive/Colab_Notebooks/data_tools/pandas/PandasCookBook_Code/data/college.csv', index_col='INSTNM')\n",
        "college_ugds_ = college.filter(like='UGDS_')\n",
        "college_ugds_.head()"
      ],
      "execution_count": 101,
      "outputs": [
        {
          "output_type": "execute_result",
          "data": {
            "text/html": [
              "<div>\n",
              "<style scoped>\n",
              "    .dataframe tbody tr th:only-of-type {\n",
              "        vertical-align: middle;\n",
              "    }\n",
              "\n",
              "    .dataframe tbody tr th {\n",
              "        vertical-align: top;\n",
              "    }\n",
              "\n",
              "    .dataframe thead th {\n",
              "        text-align: right;\n",
              "    }\n",
              "</style>\n",
              "<table border=\"1\" class=\"dataframe\">\n",
              "  <thead>\n",
              "    <tr style=\"text-align: right;\">\n",
              "      <th></th>\n",
              "      <th>UGDS_WHITE</th>\n",
              "      <th>UGDS_BLACK</th>\n",
              "      <th>UGDS_HISP</th>\n",
              "      <th>UGDS_ASIAN</th>\n",
              "      <th>UGDS_AIAN</th>\n",
              "      <th>UGDS_NHPI</th>\n",
              "      <th>UGDS_2MOR</th>\n",
              "      <th>UGDS_NRA</th>\n",
              "      <th>UGDS_UNKN</th>\n",
              "    </tr>\n",
              "    <tr>\n",
              "      <th>INSTNM</th>\n",
              "      <th></th>\n",
              "      <th></th>\n",
              "      <th></th>\n",
              "      <th></th>\n",
              "      <th></th>\n",
              "      <th></th>\n",
              "      <th></th>\n",
              "      <th></th>\n",
              "      <th></th>\n",
              "    </tr>\n",
              "  </thead>\n",
              "  <tbody>\n",
              "    <tr>\n",
              "      <th>Alabama A &amp; M University</th>\n",
              "      <td>0.0333</td>\n",
              "      <td>0.9353</td>\n",
              "      <td>0.0055</td>\n",
              "      <td>0.0019</td>\n",
              "      <td>0.0024</td>\n",
              "      <td>0.0019</td>\n",
              "      <td>0.0000</td>\n",
              "      <td>0.0059</td>\n",
              "      <td>0.0138</td>\n",
              "    </tr>\n",
              "    <tr>\n",
              "      <th>University of Alabama at Birmingham</th>\n",
              "      <td>0.5922</td>\n",
              "      <td>0.2600</td>\n",
              "      <td>0.0283</td>\n",
              "      <td>0.0518</td>\n",
              "      <td>0.0022</td>\n",
              "      <td>0.0007</td>\n",
              "      <td>0.0368</td>\n",
              "      <td>0.0179</td>\n",
              "      <td>0.0100</td>\n",
              "    </tr>\n",
              "    <tr>\n",
              "      <th>Amridge University</th>\n",
              "      <td>0.2990</td>\n",
              "      <td>0.4192</td>\n",
              "      <td>0.0069</td>\n",
              "      <td>0.0034</td>\n",
              "      <td>0.0000</td>\n",
              "      <td>0.0000</td>\n",
              "      <td>0.0000</td>\n",
              "      <td>0.0000</td>\n",
              "      <td>0.2715</td>\n",
              "    </tr>\n",
              "    <tr>\n",
              "      <th>University of Alabama in Huntsville</th>\n",
              "      <td>0.6988</td>\n",
              "      <td>0.1255</td>\n",
              "      <td>0.0382</td>\n",
              "      <td>0.0376</td>\n",
              "      <td>0.0143</td>\n",
              "      <td>0.0002</td>\n",
              "      <td>0.0172</td>\n",
              "      <td>0.0332</td>\n",
              "      <td>0.0350</td>\n",
              "    </tr>\n",
              "    <tr>\n",
              "      <th>Alabama State University</th>\n",
              "      <td>0.0158</td>\n",
              "      <td>0.9208</td>\n",
              "      <td>0.0121</td>\n",
              "      <td>0.0019</td>\n",
              "      <td>0.0010</td>\n",
              "      <td>0.0006</td>\n",
              "      <td>0.0098</td>\n",
              "      <td>0.0243</td>\n",
              "      <td>0.0137</td>\n",
              "    </tr>\n",
              "  </tbody>\n",
              "</table>\n",
              "</div>"
            ],
            "text/plain": [
              "                                     UGDS_WHITE  UGDS_BLACK  UGDS_HISP  \\\n",
              "INSTNM                                                                   \n",
              "Alabama A & M University                 0.0333      0.9353     0.0055   \n",
              "University of Alabama at Birmingham      0.5922      0.2600     0.0283   \n",
              "Amridge University                       0.2990      0.4192     0.0069   \n",
              "University of Alabama in Huntsville      0.6988      0.1255     0.0382   \n",
              "Alabama State University                 0.0158      0.9208     0.0121   \n",
              "\n",
              "                                     UGDS_ASIAN  UGDS_AIAN  UGDS_NHPI  \\\n",
              "INSTNM                                                                  \n",
              "Alabama A & M University                 0.0019     0.0024     0.0019   \n",
              "University of Alabama at Birmingham      0.0518     0.0022     0.0007   \n",
              "Amridge University                       0.0034     0.0000     0.0000   \n",
              "University of Alabama in Huntsville      0.0376     0.0143     0.0002   \n",
              "Alabama State University                 0.0019     0.0010     0.0006   \n",
              "\n",
              "                                     UGDS_2MOR  UGDS_NRA  UGDS_UNKN  \n",
              "INSTNM                                                               \n",
              "Alabama A & M University                0.0000    0.0059     0.0138  \n",
              "University of Alabama at Birmingham     0.0368    0.0179     0.0100  \n",
              "Amridge University                      0.0000    0.0000     0.2715  \n",
              "University of Alabama in Huntsville     0.0172    0.0332     0.0350  \n",
              "Alabama State University                0.0098    0.0243     0.0137  "
            ]
          },
          "metadata": {
            "tags": []
          },
          "execution_count": 101
        }
      ]
    },
    {
      "cell_type": "markdown",
      "metadata": {
        "id": "7NpHvtBgOB3Y",
        "colab_type": "text"
      },
      "source": [
        "Now that the DataFrame contains homogenous column data, operations can be sensibly done both vertically and horizontally. The count method returns the number of non-missing values. By default, its axis parameter is set to 0:"
      ]
    },
    {
      "cell_type": "code",
      "metadata": {
        "id": "lDmv48miXpTk",
        "colab_type": "code",
        "colab": {
          "base_uri": "https://localhost:8080/",
          "height": 185
        },
        "outputId": "d3c57517-149f-4ec0-d947-dbef683fb219"
      },
      "source": [
        "college_ugds_.count()"
      ],
      "execution_count": 102,
      "outputs": [
        {
          "output_type": "execute_result",
          "data": {
            "text/plain": [
              "UGDS_WHITE    6874\n",
              "UGDS_BLACK    6874\n",
              "UGDS_HISP     6874\n",
              "UGDS_ASIAN    6874\n",
              "              ... \n",
              "UGDS_NHPI     6874\n",
              "UGDS_2MOR     6874\n",
              "UGDS_NRA      6874\n",
              "UGDS_UNKN     6874\n",
              "Length: 9, dtype: int64"
            ]
          },
          "metadata": {
            "tags": []
          },
          "execution_count": 102
        }
      ]
    },
    {
      "cell_type": "code",
      "metadata": {
        "id": "7mWnYMZmXpTm",
        "colab_type": "code",
        "colab": {
          "base_uri": "https://localhost:8080/",
          "height": 185
        },
        "outputId": "b15f32c7-7f87-45f2-8617-971dfbe5390c"
      },
      "source": [
        "college_ugds_.count(axis=0)"
      ],
      "execution_count": 103,
      "outputs": [
        {
          "output_type": "execute_result",
          "data": {
            "text/plain": [
              "UGDS_WHITE    6874\n",
              "UGDS_BLACK    6874\n",
              "UGDS_HISP     6874\n",
              "UGDS_ASIAN    6874\n",
              "              ... \n",
              "UGDS_NHPI     6874\n",
              "UGDS_2MOR     6874\n",
              "UGDS_NRA      6874\n",
              "UGDS_UNKN     6874\n",
              "Length: 9, dtype: int64"
            ]
          },
          "metadata": {
            "tags": []
          },
          "execution_count": 103
        }
      ]
    },
    {
      "cell_type": "markdown",
      "metadata": {
        "id": "mUW2tA2QOWFD",
        "colab_type": "text"
      },
      "source": [
        "Changing the axis parameter to 1/columns transposes the operation so that each row of data has a count of its non-missing values:"
      ]
    },
    {
      "cell_type": "code",
      "metadata": {
        "id": "-Ne0uY8iXpTp",
        "colab_type": "code",
        "colab": {
          "base_uri": "https://localhost:8080/",
          "height": 185
        },
        "outputId": "6502eb79-aff8-4edc-970c-faf76f676820"
      },
      "source": [
        "college_ugds_.count(axis='index')"
      ],
      "execution_count": 104,
      "outputs": [
        {
          "output_type": "execute_result",
          "data": {
            "text/plain": [
              "UGDS_WHITE    6874\n",
              "UGDS_BLACK    6874\n",
              "UGDS_HISP     6874\n",
              "UGDS_ASIAN    6874\n",
              "              ... \n",
              "UGDS_NHPI     6874\n",
              "UGDS_2MOR     6874\n",
              "UGDS_NRA      6874\n",
              "UGDS_UNKN     6874\n",
              "Length: 9, dtype: int64"
            ]
          },
          "metadata": {
            "tags": []
          },
          "execution_count": 104
        }
      ]
    },
    {
      "cell_type": "code",
      "metadata": {
        "id": "RMC_v3OVXpTv",
        "colab_type": "code",
        "colab": {
          "base_uri": "https://localhost:8080/",
          "height": 134
        },
        "outputId": "c4966042-0179-4bda-e276-d88a7168b5b0"
      },
      "source": [
        "college_ugds_.count(axis='columns').head()"
      ],
      "execution_count": 105,
      "outputs": [
        {
          "output_type": "execute_result",
          "data": {
            "text/plain": [
              "INSTNM\n",
              "Alabama A & M University               9\n",
              "University of Alabama at Birmingham    9\n",
              "Amridge University                     9\n",
              "University of Alabama in Huntsville    9\n",
              "Alabama State University               9\n",
              "dtype: int64"
            ]
          },
          "metadata": {
            "tags": []
          },
          "execution_count": 105
        }
      ]
    },
    {
      "cell_type": "markdown",
      "metadata": {
        "id": "MT8hfuXQOrgB",
        "colab_type": "text"
      },
      "source": [
        "Instead of counting non-missing values, we can sum all the values in each row. Each row of percentages should add up to 1. The sum method may be used to verify this:"
      ]
    },
    {
      "cell_type": "code",
      "metadata": {
        "id": "ARE_35BaXpTy",
        "colab_type": "code",
        "colab": {},
        "outputId": "8a8e50eb-9057-4528-d24f-41dd55713c5e"
      },
      "source": [
        "college_ugds_.sum(axis='columns').head()"
      ],
      "execution_count": 0,
      "outputs": [
        {
          "output_type": "execute_result",
          "data": {
            "text/plain": [
              "INSTNM\n",
              "Alabama A & M University               1.0000\n",
              "University of Alabama at Birmingham    0.9999\n",
              "Amridge University                     1.0000\n",
              "University of Alabama in Huntsville    1.0000\n",
              "Alabama State University               1.0000\n",
              "dtype: float64"
            ]
          },
          "metadata": {
            "tags": []
          },
          "execution_count": 34
        }
      ]
    },
    {
      "cell_type": "markdown",
      "metadata": {
        "id": "tvsNOvjjO0I-",
        "colab_type": "text"
      },
      "source": [
        "To get an idea of the distribution of each column, the median method can be used:\n"
      ]
    },
    {
      "cell_type": "code",
      "metadata": {
        "id": "TCNgJ3EWXpT0",
        "colab_type": "code",
        "colab": {
          "base_uri": "https://localhost:8080/",
          "height": 185
        },
        "outputId": "8611934d-21ce-4b95-b4d3-21dd700a0a25"
      },
      "source": [
        "college_ugds_.median(axis='index')"
      ],
      "execution_count": 106,
      "outputs": [
        {
          "output_type": "execute_result",
          "data": {
            "text/plain": [
              "UGDS_WHITE    0.55570\n",
              "UGDS_BLACK    0.10005\n",
              "UGDS_HISP     0.07140\n",
              "UGDS_ASIAN    0.01290\n",
              "               ...   \n",
              "UGDS_NHPI     0.00000\n",
              "UGDS_2MOR     0.01750\n",
              "UGDS_NRA      0.00000\n",
              "UGDS_UNKN     0.01430\n",
              "Length: 9, dtype: float64"
            ]
          },
          "metadata": {
            "tags": []
          },
          "execution_count": 106
        }
      ]
    },
    {
      "cell_type": "markdown",
      "metadata": {
        "id": "__lgmtY6Pb4Q",
        "colab_type": "text"
      },
      "source": [
        "How it works...\n",
        "The direction of operation is one of the more confusing aspects of pandas, and threads abound on the internet to discuss its interpretation. Many novice pandas users have difficulty remembering the meaning of the axis parameter. Luckily, there are only two potential directions that an operation can complete in pandas. A simple brute force solution of trying both directions until achieving the desired result is one possibility. I remember the meaning of the axis parameter by thinking of 1 as looking like a column, and any operation with axis=1 returns a new column of data (has the same number of items that a column does).\n",
        "\n",
        "This is confirmed in step 3, where the result (without the head method) returns a new column of data and could be easily appended as a column to the DataFrame, if necessary. The other steps with axis equal to 1/index return a new row of data."
      ]
    },
    {
      "cell_type": "markdown",
      "metadata": {
        "id": "igUcSD9fXpT2",
        "colab_type": "text"
      },
      "source": [
        "## There's more"
      ]
    },
    {
      "cell_type": "markdown",
      "metadata": {
        "id": "Df89YRARPuGj",
        "colab_type": "text"
      },
      "source": [
        "The cumsum method with axis=1 accumulates the race percentages across each row. It gives a slightly different view of the data. For example, it is very easy to see the exact percentage of white, black, and Hispanic together for each school:"
      ]
    },
    {
      "cell_type": "markdown",
      "metadata": {
        "id": "cu0Us5wpP7n5",
        "colab_type": "text"
      },
      "source": [
        "Pandas official documentation for cumsum (http://bit.ly/2v3B6EZ)"
      ]
    },
    {
      "cell_type": "code",
      "metadata": {
        "id": "8wjnenreXpT2",
        "colab_type": "code",
        "colab": {
          "base_uri": "https://localhost:8080/",
          "height": 225
        },
        "outputId": "14ae1552-cf8b-4892-c1ab-f43f627a44ab"
      },
      "source": [
        "college_ugds_cumsum = college_ugds_.cumsum(axis=1)\n",
        "college_ugds_cumsum.head()"
      ],
      "execution_count": 108,
      "outputs": [
        {
          "output_type": "execute_result",
          "data": {
            "text/html": [
              "<div>\n",
              "<style scoped>\n",
              "    .dataframe tbody tr th:only-of-type {\n",
              "        vertical-align: middle;\n",
              "    }\n",
              "\n",
              "    .dataframe tbody tr th {\n",
              "        vertical-align: top;\n",
              "    }\n",
              "\n",
              "    .dataframe thead th {\n",
              "        text-align: right;\n",
              "    }\n",
              "</style>\n",
              "<table border=\"1\" class=\"dataframe\">\n",
              "  <thead>\n",
              "    <tr style=\"text-align: right;\">\n",
              "      <th></th>\n",
              "      <th>UGDS_WHITE</th>\n",
              "      <th>UGDS_BLACK</th>\n",
              "      <th>UGDS_HISP</th>\n",
              "      <th>UGDS_ASIAN</th>\n",
              "      <th>UGDS_AIAN</th>\n",
              "      <th>UGDS_NHPI</th>\n",
              "      <th>UGDS_2MOR</th>\n",
              "      <th>UGDS_NRA</th>\n",
              "      <th>UGDS_UNKN</th>\n",
              "    </tr>\n",
              "    <tr>\n",
              "      <th>INSTNM</th>\n",
              "      <th></th>\n",
              "      <th></th>\n",
              "      <th></th>\n",
              "      <th></th>\n",
              "      <th></th>\n",
              "      <th></th>\n",
              "      <th></th>\n",
              "      <th></th>\n",
              "      <th></th>\n",
              "    </tr>\n",
              "  </thead>\n",
              "  <tbody>\n",
              "    <tr>\n",
              "      <th>Alabama A &amp; M University</th>\n",
              "      <td>0.0333</td>\n",
              "      <td>0.9686</td>\n",
              "      <td>0.9741</td>\n",
              "      <td>0.9760</td>\n",
              "      <td>0.9784</td>\n",
              "      <td>0.9803</td>\n",
              "      <td>0.9803</td>\n",
              "      <td>0.9862</td>\n",
              "      <td>1.0000</td>\n",
              "    </tr>\n",
              "    <tr>\n",
              "      <th>University of Alabama at Birmingham</th>\n",
              "      <td>0.5922</td>\n",
              "      <td>0.8522</td>\n",
              "      <td>0.8805</td>\n",
              "      <td>0.9323</td>\n",
              "      <td>0.9345</td>\n",
              "      <td>0.9352</td>\n",
              "      <td>0.9720</td>\n",
              "      <td>0.9899</td>\n",
              "      <td>0.9999</td>\n",
              "    </tr>\n",
              "    <tr>\n",
              "      <th>Amridge University</th>\n",
              "      <td>0.2990</td>\n",
              "      <td>0.7182</td>\n",
              "      <td>0.7251</td>\n",
              "      <td>0.7285</td>\n",
              "      <td>0.7285</td>\n",
              "      <td>0.7285</td>\n",
              "      <td>0.7285</td>\n",
              "      <td>0.7285</td>\n",
              "      <td>1.0000</td>\n",
              "    </tr>\n",
              "    <tr>\n",
              "      <th>University of Alabama in Huntsville</th>\n",
              "      <td>0.6988</td>\n",
              "      <td>0.8243</td>\n",
              "      <td>0.8625</td>\n",
              "      <td>0.9001</td>\n",
              "      <td>0.9144</td>\n",
              "      <td>0.9146</td>\n",
              "      <td>0.9318</td>\n",
              "      <td>0.9650</td>\n",
              "      <td>1.0000</td>\n",
              "    </tr>\n",
              "    <tr>\n",
              "      <th>Alabama State University</th>\n",
              "      <td>0.0158</td>\n",
              "      <td>0.9366</td>\n",
              "      <td>0.9487</td>\n",
              "      <td>0.9506</td>\n",
              "      <td>0.9516</td>\n",
              "      <td>0.9522</td>\n",
              "      <td>0.9620</td>\n",
              "      <td>0.9863</td>\n",
              "      <td>1.0000</td>\n",
              "    </tr>\n",
              "  </tbody>\n",
              "</table>\n",
              "</div>"
            ],
            "text/plain": [
              "                                     UGDS_WHITE  UGDS_BLACK  UGDS_HISP  \\\n",
              "INSTNM                                                                   \n",
              "Alabama A & M University                 0.0333      0.9686     0.9741   \n",
              "University of Alabama at Birmingham      0.5922      0.8522     0.8805   \n",
              "Amridge University                       0.2990      0.7182     0.7251   \n",
              "University of Alabama in Huntsville      0.6988      0.8243     0.8625   \n",
              "Alabama State University                 0.0158      0.9366     0.9487   \n",
              "\n",
              "                                     UGDS_ASIAN  UGDS_AIAN  UGDS_NHPI  \\\n",
              "INSTNM                                                                  \n",
              "Alabama A & M University                 0.9760     0.9784     0.9803   \n",
              "University of Alabama at Birmingham      0.9323     0.9345     0.9352   \n",
              "Amridge University                       0.7285     0.7285     0.7285   \n",
              "University of Alabama in Huntsville      0.9001     0.9144     0.9146   \n",
              "Alabama State University                 0.9506     0.9516     0.9522   \n",
              "\n",
              "                                     UGDS_2MOR  UGDS_NRA  UGDS_UNKN  \n",
              "INSTNM                                                               \n",
              "Alabama A & M University                0.9803    0.9862     1.0000  \n",
              "University of Alabama at Birmingham     0.9720    0.9899     0.9999  \n",
              "Amridge University                      0.7285    0.7285     1.0000  \n",
              "University of Alabama in Huntsville     0.9318    0.9650     1.0000  \n",
              "Alabama State University                0.9620    0.9863     1.0000  "
            ]
          },
          "metadata": {
            "tags": []
          },
          "execution_count": 108
        }
      ]
    },
    {
      "cell_type": "markdown",
      "metadata": {
        "id": "b-Yn73Y6Qfn3",
        "colab_type": "text"
      },
      "source": [
        "sorting the data frame in descending order using one column as the index of the sort"
      ]
    },
    {
      "cell_type": "code",
      "metadata": {
        "id": "5PADQiHTXpT5",
        "colab_type": "code",
        "colab": {
          "base_uri": "https://localhost:8080/",
          "height": 372
        },
        "outputId": "f0cc3986-9c55-4c95-91a3-42092d67effe"
      },
      "source": [
        "college_ugds_cumsum.sort_values('UGDS_BLACK', ascending=False)"
      ],
      "execution_count": 109,
      "outputs": [
        {
          "output_type": "execute_result",
          "data": {
            "text/html": [
              "<div>\n",
              "<style scoped>\n",
              "    .dataframe tbody tr th:only-of-type {\n",
              "        vertical-align: middle;\n",
              "    }\n",
              "\n",
              "    .dataframe tbody tr th {\n",
              "        vertical-align: top;\n",
              "    }\n",
              "\n",
              "    .dataframe thead th {\n",
              "        text-align: right;\n",
              "    }\n",
              "</style>\n",
              "<table border=\"1\" class=\"dataframe\">\n",
              "  <thead>\n",
              "    <tr style=\"text-align: right;\">\n",
              "      <th></th>\n",
              "      <th>UGDS_WHITE</th>\n",
              "      <th>UGDS_BLACK</th>\n",
              "      <th>UGDS_HISP</th>\n",
              "      <th>UGDS_ASIAN</th>\n",
              "      <th>UGDS_AIAN</th>\n",
              "      <th>UGDS_NHPI</th>\n",
              "      <th>UGDS_2MOR</th>\n",
              "      <th>UGDS_NRA</th>\n",
              "      <th>UGDS_UNKN</th>\n",
              "    </tr>\n",
              "    <tr>\n",
              "      <th>INSTNM</th>\n",
              "      <th></th>\n",
              "      <th></th>\n",
              "      <th></th>\n",
              "      <th></th>\n",
              "      <th></th>\n",
              "      <th></th>\n",
              "      <th></th>\n",
              "      <th></th>\n",
              "      <th></th>\n",
              "    </tr>\n",
              "  </thead>\n",
              "  <tbody>\n",
              "    <tr>\n",
              "      <th>Venango County Area Vocational Technical School</th>\n",
              "      <td>0.9688</td>\n",
              "      <td>1.0001</td>\n",
              "      <td>1.0001</td>\n",
              "      <td>1.0001</td>\n",
              "      <td>1.0001</td>\n",
              "      <td>1.0001</td>\n",
              "      <td>1.0001</td>\n",
              "      <td>1.0001</td>\n",
              "      <td>1.0001</td>\n",
              "    </tr>\n",
              "    <tr>\n",
              "      <th>American Broadcasting School-Oklahoma City</th>\n",
              "      <td>0.5217</td>\n",
              "      <td>1.0000</td>\n",
              "      <td>1.0000</td>\n",
              "      <td>1.0000</td>\n",
              "      <td>1.0000</td>\n",
              "      <td>1.0000</td>\n",
              "      <td>1.0000</td>\n",
              "      <td>1.0000</td>\n",
              "      <td>1.0000</td>\n",
              "    </tr>\n",
              "    <tr>\n",
              "      <th>Willoughby-Eastlake School of Practical Nursing</th>\n",
              "      <td>0.3333</td>\n",
              "      <td>1.0000</td>\n",
              "      <td>1.0000</td>\n",
              "      <td>1.0000</td>\n",
              "      <td>1.0000</td>\n",
              "      <td>1.0000</td>\n",
              "      <td>1.0000</td>\n",
              "      <td>1.0000</td>\n",
              "      <td>1.0000</td>\n",
              "    </tr>\n",
              "    <tr>\n",
              "      <th>Faris Technical Institute Inc</th>\n",
              "      <td>0.4118</td>\n",
              "      <td>1.0000</td>\n",
              "      <td>1.0000</td>\n",
              "      <td>1.0000</td>\n",
              "      <td>1.0000</td>\n",
              "      <td>1.0000</td>\n",
              "      <td>1.0000</td>\n",
              "      <td>1.0000</td>\n",
              "      <td>1.0000</td>\n",
              "    </tr>\n",
              "    <tr>\n",
              "      <th>...</th>\n",
              "      <td>...</td>\n",
              "      <td>...</td>\n",
              "      <td>...</td>\n",
              "      <td>...</td>\n",
              "      <td>...</td>\n",
              "      <td>...</td>\n",
              "      <td>...</td>\n",
              "      <td>...</td>\n",
              "      <td>...</td>\n",
              "    </tr>\n",
              "    <tr>\n",
              "      <th>Rasmussen College - Overland Park</th>\n",
              "      <td>NaN</td>\n",
              "      <td>NaN</td>\n",
              "      <td>NaN</td>\n",
              "      <td>NaN</td>\n",
              "      <td>NaN</td>\n",
              "      <td>NaN</td>\n",
              "      <td>NaN</td>\n",
              "      <td>NaN</td>\n",
              "      <td>NaN</td>\n",
              "    </tr>\n",
              "    <tr>\n",
              "      <th>National Personal Training Institute of Cleveland</th>\n",
              "      <td>NaN</td>\n",
              "      <td>NaN</td>\n",
              "      <td>NaN</td>\n",
              "      <td>NaN</td>\n",
              "      <td>NaN</td>\n",
              "      <td>NaN</td>\n",
              "      <td>NaN</td>\n",
              "      <td>NaN</td>\n",
              "      <td>NaN</td>\n",
              "    </tr>\n",
              "    <tr>\n",
              "      <th>Bay Area Medical Academy - San Jose Satellite Location</th>\n",
              "      <td>NaN</td>\n",
              "      <td>NaN</td>\n",
              "      <td>NaN</td>\n",
              "      <td>NaN</td>\n",
              "      <td>NaN</td>\n",
              "      <td>NaN</td>\n",
              "      <td>NaN</td>\n",
              "      <td>NaN</td>\n",
              "      <td>NaN</td>\n",
              "    </tr>\n",
              "    <tr>\n",
              "      <th>Excel Learning Center-San Antonio South</th>\n",
              "      <td>NaN</td>\n",
              "      <td>NaN</td>\n",
              "      <td>NaN</td>\n",
              "      <td>NaN</td>\n",
              "      <td>NaN</td>\n",
              "      <td>NaN</td>\n",
              "      <td>NaN</td>\n",
              "      <td>NaN</td>\n",
              "      <td>NaN</td>\n",
              "    </tr>\n",
              "  </tbody>\n",
              "</table>\n",
              "<p>7535 rows × 9 columns</p>\n",
              "</div>"
            ],
            "text/plain": [
              "                                                    UGDS_WHITE  UGDS_BLACK  \\\n",
              "INSTNM                                                                       \n",
              "Venango County Area Vocational Technical School         0.9688      1.0001   \n",
              "American Broadcasting School-Oklahoma City              0.5217      1.0000   \n",
              "Willoughby-Eastlake School of Practical Nursing         0.3333      1.0000   \n",
              "Faris Technical Institute Inc                           0.4118      1.0000   \n",
              "...                                                        ...         ...   \n",
              "Rasmussen College - Overland Park                          NaN         NaN   \n",
              "National Personal Training Institute of Cleveland          NaN         NaN   \n",
              "Bay Area Medical Academy - San Jose Satellite L...         NaN         NaN   \n",
              "Excel Learning Center-San Antonio South                    NaN         NaN   \n",
              "\n",
              "                                                    UGDS_HISP  UGDS_ASIAN  \\\n",
              "INSTNM                                                                      \n",
              "Venango County Area Vocational Technical School        1.0001      1.0001   \n",
              "American Broadcasting School-Oklahoma City             1.0000      1.0000   \n",
              "Willoughby-Eastlake School of Practical Nursing        1.0000      1.0000   \n",
              "Faris Technical Institute Inc                          1.0000      1.0000   \n",
              "...                                                       ...         ...   \n",
              "Rasmussen College - Overland Park                         NaN         NaN   \n",
              "National Personal Training Institute of Cleveland         NaN         NaN   \n",
              "Bay Area Medical Academy - San Jose Satellite L...        NaN         NaN   \n",
              "Excel Learning Center-San Antonio South                   NaN         NaN   \n",
              "\n",
              "                                                    UGDS_AIAN  UGDS_NHPI  \\\n",
              "INSTNM                                                                     \n",
              "Venango County Area Vocational Technical School        1.0001     1.0001   \n",
              "American Broadcasting School-Oklahoma City             1.0000     1.0000   \n",
              "Willoughby-Eastlake School of Practical Nursing        1.0000     1.0000   \n",
              "Faris Technical Institute Inc                          1.0000     1.0000   \n",
              "...                                                       ...        ...   \n",
              "Rasmussen College - Overland Park                         NaN        NaN   \n",
              "National Personal Training Institute of Cleveland         NaN        NaN   \n",
              "Bay Area Medical Academy - San Jose Satellite L...        NaN        NaN   \n",
              "Excel Learning Center-San Antonio South                   NaN        NaN   \n",
              "\n",
              "                                                    UGDS_2MOR  UGDS_NRA  \\\n",
              "INSTNM                                                                    \n",
              "Venango County Area Vocational Technical School        1.0001    1.0001   \n",
              "American Broadcasting School-Oklahoma City             1.0000    1.0000   \n",
              "Willoughby-Eastlake School of Practical Nursing        1.0000    1.0000   \n",
              "Faris Technical Institute Inc                          1.0000    1.0000   \n",
              "...                                                       ...       ...   \n",
              "Rasmussen College - Overland Park                         NaN       NaN   \n",
              "National Personal Training Institute of Cleveland         NaN       NaN   \n",
              "Bay Area Medical Academy - San Jose Satellite L...        NaN       NaN   \n",
              "Excel Learning Center-San Antonio South                   NaN       NaN   \n",
              "\n",
              "                                                    UGDS_UNKN  \n",
              "INSTNM                                                         \n",
              "Venango County Area Vocational Technical School        1.0001  \n",
              "American Broadcasting School-Oklahoma City             1.0000  \n",
              "Willoughby-Eastlake School of Practical Nursing        1.0000  \n",
              "Faris Technical Institute Inc                          1.0000  \n",
              "...                                                       ...  \n",
              "Rasmussen College - Overland Park                         NaN  \n",
              "National Personal Training Institute of Cleveland         NaN  \n",
              "Bay Area Medical Academy - San Jose Satellite L...        NaN  \n",
              "Excel Learning Center-San Antonio South                   NaN  \n",
              "\n",
              "[7535 rows x 9 columns]"
            ]
          },
          "metadata": {
            "tags": []
          },
          "execution_count": 109
        }
      ]
    },
    {
      "cell_type": "markdown",
      "metadata": {
        "id": "BkSsYenfXpT7",
        "colab_type": "text"
      },
      "source": [
        "# Determining college campus diversity"
      ]
    },
    {
      "cell_type": "code",
      "metadata": {
        "id": "6s99O2wYXpT7",
        "colab_type": "code",
        "colab": {
          "base_uri": "https://localhost:8080/",
          "height": 372
        },
        "outputId": "e975ed1a-1ae1-4c5b-a2e4-90b8e1124586"
      },
      "source": [
        "pd.read_csv('/content/gdrive/My Drive/Colab_Notebooks/data_tools/pandas/PandasCookBook_Code/data/college_diversity.csv', index_col='School')"
      ],
      "execution_count": 110,
      "outputs": [
        {
          "output_type": "execute_result",
          "data": {
            "text/html": [
              "<div>\n",
              "<style scoped>\n",
              "    .dataframe tbody tr th:only-of-type {\n",
              "        vertical-align: middle;\n",
              "    }\n",
              "\n",
              "    .dataframe tbody tr th {\n",
              "        vertical-align: top;\n",
              "    }\n",
              "\n",
              "    .dataframe thead th {\n",
              "        text-align: right;\n",
              "    }\n",
              "</style>\n",
              "<table border=\"1\" class=\"dataframe\">\n",
              "  <thead>\n",
              "    <tr style=\"text-align: right;\">\n",
              "      <th></th>\n",
              "      <th>Diversity Index</th>\n",
              "    </tr>\n",
              "    <tr>\n",
              "      <th>School</th>\n",
              "      <th></th>\n",
              "    </tr>\n",
              "  </thead>\n",
              "  <tbody>\n",
              "    <tr>\n",
              "      <th>Rutgers University--Newark  Newark, NJ</th>\n",
              "      <td>0.76</td>\n",
              "    </tr>\n",
              "    <tr>\n",
              "      <th>Andrews University  Berrien Springs, MI</th>\n",
              "      <td>0.74</td>\n",
              "    </tr>\n",
              "    <tr>\n",
              "      <th>Stanford University  Stanford, CA</th>\n",
              "      <td>0.74</td>\n",
              "    </tr>\n",
              "    <tr>\n",
              "      <th>University of Houston  Houston, TX</th>\n",
              "      <td>0.74</td>\n",
              "    </tr>\n",
              "    <tr>\n",
              "      <th>...</th>\n",
              "      <td>...</td>\n",
              "    </tr>\n",
              "    <tr>\n",
              "      <th>San Francisco State University  San Francisco, CA</th>\n",
              "      <td>0.73</td>\n",
              "    </tr>\n",
              "    <tr>\n",
              "      <th>University of Illinois--Chicago  Chicago, IL</th>\n",
              "      <td>0.73</td>\n",
              "    </tr>\n",
              "    <tr>\n",
              "      <th>New Jersey Institute of Technology  Newark, NJ</th>\n",
              "      <td>0.72</td>\n",
              "    </tr>\n",
              "    <tr>\n",
              "      <th>Texas Woman's University  Denton, TX</th>\n",
              "      <td>0.72</td>\n",
              "    </tr>\n",
              "  </tbody>\n",
              "</table>\n",
              "<p>10 rows × 1 columns</p>\n",
              "</div>"
            ],
            "text/plain": [
              "                                                   Diversity Index\n",
              "School                                                            \n",
              "Rutgers University--Newark  Newark, NJ                        0.76\n",
              "Andrews University  Berrien Springs, MI                       0.74\n",
              "Stanford University  Stanford, CA                             0.74\n",
              "University of Houston  Houston, TX                            0.74\n",
              "...                                                            ...\n",
              "San Francisco State University  San Francisco, CA             0.73\n",
              "University of Illinois--Chicago  Chicago, IL                  0.73\n",
              "New Jersey Institute of Technology  Newark, NJ                0.72\n",
              "Texas Woman's University  Denton, TX                          0.72\n",
              "\n",
              "[10 rows x 1 columns]"
            ]
          },
          "metadata": {
            "tags": []
          },
          "execution_count": 110
        }
      ]
    },
    {
      "cell_type": "markdown",
      "metadata": {
        "id": "NS9vS5N2Roaj",
        "colab_type": "text"
      },
      "source": [
        "Our college dataset classifies race into nine different categories. When trying to quantify something without an obvious definition, such as diversity, it helps to start with something very simple. In this recipe, our diversity metric will equal the count of the number of races having greater than 15% of the student population.\n",
        "\n",
        "How to do it...\n",
        " Read in the college dataset, and filter for just the undergraduate race columns:"
      ]
    },
    {
      "cell_type": "code",
      "metadata": {
        "id": "64nWn0UaXpT9",
        "colab_type": "code",
        "colab": {
          "base_uri": "https://localhost:8080/",
          "height": 225
        },
        "outputId": "bf07da1d-8100-4f14-d6d9-185df505a991"
      },
      "source": [
        "college = pd.read_csv('/content/gdrive/My Drive/Colab_Notebooks/data_tools/pandas/PandasCookBook_Code/data/college.csv', index_col='INSTNM')\n",
        "college_ugds_ = college.filter(like='UGDS_')\n",
        "college_ugds_.head()"
      ],
      "execution_count": 111,
      "outputs": [
        {
          "output_type": "execute_result",
          "data": {
            "text/html": [
              "<div>\n",
              "<style scoped>\n",
              "    .dataframe tbody tr th:only-of-type {\n",
              "        vertical-align: middle;\n",
              "    }\n",
              "\n",
              "    .dataframe tbody tr th {\n",
              "        vertical-align: top;\n",
              "    }\n",
              "\n",
              "    .dataframe thead th {\n",
              "        text-align: right;\n",
              "    }\n",
              "</style>\n",
              "<table border=\"1\" class=\"dataframe\">\n",
              "  <thead>\n",
              "    <tr style=\"text-align: right;\">\n",
              "      <th></th>\n",
              "      <th>UGDS_WHITE</th>\n",
              "      <th>UGDS_BLACK</th>\n",
              "      <th>UGDS_HISP</th>\n",
              "      <th>UGDS_ASIAN</th>\n",
              "      <th>UGDS_AIAN</th>\n",
              "      <th>UGDS_NHPI</th>\n",
              "      <th>UGDS_2MOR</th>\n",
              "      <th>UGDS_NRA</th>\n",
              "      <th>UGDS_UNKN</th>\n",
              "    </tr>\n",
              "    <tr>\n",
              "      <th>INSTNM</th>\n",
              "      <th></th>\n",
              "      <th></th>\n",
              "      <th></th>\n",
              "      <th></th>\n",
              "      <th></th>\n",
              "      <th></th>\n",
              "      <th></th>\n",
              "      <th></th>\n",
              "      <th></th>\n",
              "    </tr>\n",
              "  </thead>\n",
              "  <tbody>\n",
              "    <tr>\n",
              "      <th>Alabama A &amp; M University</th>\n",
              "      <td>0.0333</td>\n",
              "      <td>0.9353</td>\n",
              "      <td>0.0055</td>\n",
              "      <td>0.0019</td>\n",
              "      <td>0.0024</td>\n",
              "      <td>0.0019</td>\n",
              "      <td>0.0000</td>\n",
              "      <td>0.0059</td>\n",
              "      <td>0.0138</td>\n",
              "    </tr>\n",
              "    <tr>\n",
              "      <th>University of Alabama at Birmingham</th>\n",
              "      <td>0.5922</td>\n",
              "      <td>0.2600</td>\n",
              "      <td>0.0283</td>\n",
              "      <td>0.0518</td>\n",
              "      <td>0.0022</td>\n",
              "      <td>0.0007</td>\n",
              "      <td>0.0368</td>\n",
              "      <td>0.0179</td>\n",
              "      <td>0.0100</td>\n",
              "    </tr>\n",
              "    <tr>\n",
              "      <th>Amridge University</th>\n",
              "      <td>0.2990</td>\n",
              "      <td>0.4192</td>\n",
              "      <td>0.0069</td>\n",
              "      <td>0.0034</td>\n",
              "      <td>0.0000</td>\n",
              "      <td>0.0000</td>\n",
              "      <td>0.0000</td>\n",
              "      <td>0.0000</td>\n",
              "      <td>0.2715</td>\n",
              "    </tr>\n",
              "    <tr>\n",
              "      <th>University of Alabama in Huntsville</th>\n",
              "      <td>0.6988</td>\n",
              "      <td>0.1255</td>\n",
              "      <td>0.0382</td>\n",
              "      <td>0.0376</td>\n",
              "      <td>0.0143</td>\n",
              "      <td>0.0002</td>\n",
              "      <td>0.0172</td>\n",
              "      <td>0.0332</td>\n",
              "      <td>0.0350</td>\n",
              "    </tr>\n",
              "    <tr>\n",
              "      <th>Alabama State University</th>\n",
              "      <td>0.0158</td>\n",
              "      <td>0.9208</td>\n",
              "      <td>0.0121</td>\n",
              "      <td>0.0019</td>\n",
              "      <td>0.0010</td>\n",
              "      <td>0.0006</td>\n",
              "      <td>0.0098</td>\n",
              "      <td>0.0243</td>\n",
              "      <td>0.0137</td>\n",
              "    </tr>\n",
              "  </tbody>\n",
              "</table>\n",
              "</div>"
            ],
            "text/plain": [
              "                                     UGDS_WHITE  UGDS_BLACK  UGDS_HISP  \\\n",
              "INSTNM                                                                   \n",
              "Alabama A & M University                 0.0333      0.9353     0.0055   \n",
              "University of Alabama at Birmingham      0.5922      0.2600     0.0283   \n",
              "Amridge University                       0.2990      0.4192     0.0069   \n",
              "University of Alabama in Huntsville      0.6988      0.1255     0.0382   \n",
              "Alabama State University                 0.0158      0.9208     0.0121   \n",
              "\n",
              "                                     UGDS_ASIAN  UGDS_AIAN  UGDS_NHPI  \\\n",
              "INSTNM                                                                  \n",
              "Alabama A & M University                 0.0019     0.0024     0.0019   \n",
              "University of Alabama at Birmingham      0.0518     0.0022     0.0007   \n",
              "Amridge University                       0.0034     0.0000     0.0000   \n",
              "University of Alabama in Huntsville      0.0376     0.0143     0.0002   \n",
              "Alabama State University                 0.0019     0.0010     0.0006   \n",
              "\n",
              "                                     UGDS_2MOR  UGDS_NRA  UGDS_UNKN  \n",
              "INSTNM                                                               \n",
              "Alabama A & M University                0.0000    0.0059     0.0138  \n",
              "University of Alabama at Birmingham     0.0368    0.0179     0.0100  \n",
              "Amridge University                      0.0000    0.0000     0.2715  \n",
              "University of Alabama in Huntsville     0.0172    0.0332     0.0350  \n",
              "Alabama State University                0.0098    0.0243     0.0137  "
            ]
          },
          "metadata": {
            "tags": []
          },
          "execution_count": 111
        }
      ]
    },
    {
      "cell_type": "markdown",
      "metadata": {
        "id": "qLyPDNXzSSEg",
        "colab_type": "text"
      },
      "source": [
        "Many of these colleges have missing values for all their race columns. We can count all the missing values for each row and sort the resulting Series from the highest to lowest. This will reveal the colleges that have missing values:"
      ]
    },
    {
      "cell_type": "code",
      "metadata": {
        "id": "BfywwWBmXpT-",
        "colab_type": "code",
        "colab": {
          "base_uri": "https://localhost:8080/",
          "height": 134
        },
        "outputId": "dc88e38e-3827-4dec-f16b-d00ac3ba6fb4"
      },
      "source": [
        "college_ugds_.isnull().sum(axis=1).sort_values(ascending=False).head()"
      ],
      "execution_count": 112,
      "outputs": [
        {
          "output_type": "execute_result",
          "data": {
            "text/plain": [
              "INSTNM\n",
              "Excel Learning Center-San Antonio South         9\n",
              "Philadelphia College of Osteopathic Medicine    9\n",
              "Assemblies of God Theological Seminary          9\n",
              "Episcopal Divinity School                       9\n",
              "Phillips Graduate Institute                     9\n",
              "dtype: int64"
            ]
          },
          "metadata": {
            "tags": []
          },
          "execution_count": 112
        }
      ]
    },
    {
      "cell_type": "markdown",
      "metadata": {
        "id": "eQBRy28eSl6e",
        "colab_type": "text"
      },
      "source": [
        "Now that we have seen the colleges that are missing all their race columns, we can use the dropna method to drop all rows that have all nine race percentages missing. We can then count the remaining missing values:\n"
      ]
    },
    {
      "cell_type": "code",
      "metadata": {
        "id": "OfUlzdE-XpUA",
        "colab_type": "code",
        "colab": {}
      },
      "source": [
        "college_ugds_ = college_ugds_.dropna(how='all')"
      ],
      "execution_count": 0,
      "outputs": []
    },
    {
      "cell_type": "code",
      "metadata": {
        "id": "7mXrjh-FXpUB",
        "colab_type": "code",
        "colab": {
          "base_uri": "https://localhost:8080/",
          "height": 185
        },
        "outputId": "ae78be2e-9ed7-47c1-8a82-f37422b651bd"
      },
      "source": [
        "college_ugds_.isnull().sum()"
      ],
      "execution_count": 114,
      "outputs": [
        {
          "output_type": "execute_result",
          "data": {
            "text/plain": [
              "UGDS_WHITE    0\n",
              "UGDS_BLACK    0\n",
              "UGDS_HISP     0\n",
              "UGDS_ASIAN    0\n",
              "             ..\n",
              "UGDS_NHPI     0\n",
              "UGDS_2MOR     0\n",
              "UGDS_NRA      0\n",
              "UGDS_UNKN     0\n",
              "Length: 9, dtype: int64"
            ]
          },
          "metadata": {
            "tags": []
          },
          "execution_count": 114
        }
      ]
    },
    {
      "cell_type": "markdown",
      "metadata": {
        "id": "MpTGwg-zS8cT",
        "colab_type": "text"
      },
      "source": [
        "There are no missing values left in the dataset. We can now calculate our diversity metric. To get started, we will use the greater than or equal DataFrame method, ge, to convert each value to a boolean:"
      ]
    },
    {
      "cell_type": "code",
      "metadata": {
        "id": "-GbabzHsXpUD",
        "colab_type": "code",
        "colab": {
          "base_uri": "https://localhost:8080/",
          "height": 225
        },
        "outputId": "89925aba-c54c-4880-d834-02f497e27e4c"
      },
      "source": [
        "college_ugds_.ge(.15).head()"
      ],
      "execution_count": 115,
      "outputs": [
        {
          "output_type": "execute_result",
          "data": {
            "text/html": [
              "<div>\n",
              "<style scoped>\n",
              "    .dataframe tbody tr th:only-of-type {\n",
              "        vertical-align: middle;\n",
              "    }\n",
              "\n",
              "    .dataframe tbody tr th {\n",
              "        vertical-align: top;\n",
              "    }\n",
              "\n",
              "    .dataframe thead th {\n",
              "        text-align: right;\n",
              "    }\n",
              "</style>\n",
              "<table border=\"1\" class=\"dataframe\">\n",
              "  <thead>\n",
              "    <tr style=\"text-align: right;\">\n",
              "      <th></th>\n",
              "      <th>UGDS_WHITE</th>\n",
              "      <th>UGDS_BLACK</th>\n",
              "      <th>UGDS_HISP</th>\n",
              "      <th>UGDS_ASIAN</th>\n",
              "      <th>UGDS_AIAN</th>\n",
              "      <th>UGDS_NHPI</th>\n",
              "      <th>UGDS_2MOR</th>\n",
              "      <th>UGDS_NRA</th>\n",
              "      <th>UGDS_UNKN</th>\n",
              "    </tr>\n",
              "    <tr>\n",
              "      <th>INSTNM</th>\n",
              "      <th></th>\n",
              "      <th></th>\n",
              "      <th></th>\n",
              "      <th></th>\n",
              "      <th></th>\n",
              "      <th></th>\n",
              "      <th></th>\n",
              "      <th></th>\n",
              "      <th></th>\n",
              "    </tr>\n",
              "  </thead>\n",
              "  <tbody>\n",
              "    <tr>\n",
              "      <th>Alabama A &amp; M University</th>\n",
              "      <td>False</td>\n",
              "      <td>True</td>\n",
              "      <td>False</td>\n",
              "      <td>False</td>\n",
              "      <td>False</td>\n",
              "      <td>False</td>\n",
              "      <td>False</td>\n",
              "      <td>False</td>\n",
              "      <td>False</td>\n",
              "    </tr>\n",
              "    <tr>\n",
              "      <th>University of Alabama at Birmingham</th>\n",
              "      <td>True</td>\n",
              "      <td>True</td>\n",
              "      <td>False</td>\n",
              "      <td>False</td>\n",
              "      <td>False</td>\n",
              "      <td>False</td>\n",
              "      <td>False</td>\n",
              "      <td>False</td>\n",
              "      <td>False</td>\n",
              "    </tr>\n",
              "    <tr>\n",
              "      <th>Amridge University</th>\n",
              "      <td>True</td>\n",
              "      <td>True</td>\n",
              "      <td>False</td>\n",
              "      <td>False</td>\n",
              "      <td>False</td>\n",
              "      <td>False</td>\n",
              "      <td>False</td>\n",
              "      <td>False</td>\n",
              "      <td>True</td>\n",
              "    </tr>\n",
              "    <tr>\n",
              "      <th>University of Alabama in Huntsville</th>\n",
              "      <td>True</td>\n",
              "      <td>False</td>\n",
              "      <td>False</td>\n",
              "      <td>False</td>\n",
              "      <td>False</td>\n",
              "      <td>False</td>\n",
              "      <td>False</td>\n",
              "      <td>False</td>\n",
              "      <td>False</td>\n",
              "    </tr>\n",
              "    <tr>\n",
              "      <th>Alabama State University</th>\n",
              "      <td>False</td>\n",
              "      <td>True</td>\n",
              "      <td>False</td>\n",
              "      <td>False</td>\n",
              "      <td>False</td>\n",
              "      <td>False</td>\n",
              "      <td>False</td>\n",
              "      <td>False</td>\n",
              "      <td>False</td>\n",
              "    </tr>\n",
              "  </tbody>\n",
              "</table>\n",
              "</div>"
            ],
            "text/plain": [
              "                                     UGDS_WHITE  UGDS_BLACK  UGDS_HISP  \\\n",
              "INSTNM                                                                   \n",
              "Alabama A & M University                  False        True      False   \n",
              "University of Alabama at Birmingham        True        True      False   \n",
              "Amridge University                         True        True      False   \n",
              "University of Alabama in Huntsville        True       False      False   \n",
              "Alabama State University                  False        True      False   \n",
              "\n",
              "                                     UGDS_ASIAN  UGDS_AIAN  UGDS_NHPI  \\\n",
              "INSTNM                                                                  \n",
              "Alabama A & M University                  False      False      False   \n",
              "University of Alabama at Birmingham       False      False      False   \n",
              "Amridge University                        False      False      False   \n",
              "University of Alabama in Huntsville       False      False      False   \n",
              "Alabama State University                  False      False      False   \n",
              "\n",
              "                                     UGDS_2MOR  UGDS_NRA  UGDS_UNKN  \n",
              "INSTNM                                                               \n",
              "Alabama A & M University                 False     False      False  \n",
              "University of Alabama at Birmingham      False     False      False  \n",
              "Amridge University                       False     False       True  \n",
              "University of Alabama in Huntsville      False     False      False  \n",
              "Alabama State University                 False     False      False  "
            ]
          },
          "metadata": {
            "tags": []
          },
          "execution_count": 115
        }
      ]
    },
    {
      "cell_type": "markdown",
      "metadata": {
        "id": "-gvP7ZIuTNjd",
        "colab_type": "text"
      },
      "source": [
        "From here, we can use the sum method to count the True values for each college. Notice that a Series is returned:"
      ]
    },
    {
      "cell_type": "code",
      "metadata": {
        "id": "wHi9_Qm1XpUF",
        "colab_type": "code",
        "colab": {
          "base_uri": "https://localhost:8080/",
          "height": 134
        },
        "outputId": "250fd694-c10c-4601-f2b7-169d12f4ffd0"
      },
      "source": [
        "diversity_metric = college_ugds_.ge(.15).sum(axis='columns')\n",
        "diversity_metric.head()"
      ],
      "execution_count": 119,
      "outputs": [
        {
          "output_type": "execute_result",
          "data": {
            "text/plain": [
              "INSTNM\n",
              "Alabama A & M University               1\n",
              "University of Alabama at Birmingham    2\n",
              "Amridge University                     3\n",
              "University of Alabama in Huntsville    1\n",
              "Alabama State University               1\n",
              "dtype: int64"
            ]
          },
          "metadata": {
            "tags": []
          },
          "execution_count": 119
        }
      ]
    },
    {
      "cell_type": "markdown",
      "metadata": {
        "id": "n89YaDuVTZ1i",
        "colab_type": "text"
      },
      "source": [
        "To get an idea of the distribution, let's use the value_counts method on this Series:"
      ]
    },
    {
      "cell_type": "code",
      "metadata": {
        "id": "a9BHmrzpXpUG",
        "colab_type": "code",
        "colab": {
          "base_uri": "https://localhost:8080/",
          "height": 134
        },
        "outputId": "0ea2f242-f4fe-40f1-de3f-5a84ea5a0a98"
      },
      "source": [
        "diversity_metric.value_counts()"
      ],
      "execution_count": 121,
      "outputs": [
        {
          "output_type": "execute_result",
          "data": {
            "text/plain": [
              "1    3042\n",
              "2    2884\n",
              "3     876\n",
              "4      63\n",
              "0       7\n",
              "5       2\n",
              "dtype: int64"
            ]
          },
          "metadata": {
            "tags": []
          },
          "execution_count": 121
        }
      ]
    },
    {
      "cell_type": "markdown",
      "metadata": {
        "id": "AxZpEOqgUSlF",
        "colab_type": "text"
      },
      "source": [
        "Amazingly, two schools have more than 15% in five different race categories. Let's sort the diversity_metric Series to find out which ones they are:"
      ]
    },
    {
      "cell_type": "code",
      "metadata": {
        "id": "74-WYsXeXpUH",
        "colab_type": "code",
        "colab": {
          "base_uri": "https://localhost:8080/",
          "height": 134
        },
        "outputId": "e3b2c496-6126-43b6-84cd-66dbe9686173"
      },
      "source": [
        "diversity_metric.sort_values(ascending=False).head()"
      ],
      "execution_count": 122,
      "outputs": [
        {
          "output_type": "execute_result",
          "data": {
            "text/plain": [
              "INSTNM\n",
              "Regency Beauty Institute-Austin          5\n",
              "Central Texas Beauty College-Temple      5\n",
              "Sullivan and Cogliano Training Center    4\n",
              "Ambria College of Nursing                4\n",
              "Berkeley College-New York                4\n",
              "dtype: int64"
            ]
          },
          "metadata": {
            "tags": []
          },
          "execution_count": 122
        }
      ]
    },
    {
      "cell_type": "markdown",
      "metadata": {
        "id": "wN39e4EXUzzq",
        "colab_type": "text"
      },
      "source": [
        "It seems a little suspicious that schools can be that diverse. Let's look at the raw percentages from these top two schools. The .loc indexer is used to specifically select based on the index label:\n"
      ]
    },
    {
      "cell_type": "code",
      "metadata": {
        "id": "eprf6CBVXpUJ",
        "colab_type": "code",
        "colab": {
          "base_uri": "https://localhost:8080/",
          "height": 136
        },
        "outputId": "b03fd6b5-61f9-4ae9-b381-8ae429a642e5"
      },
      "source": [
        "college_ugds_.loc[['Regency Beauty Institute-Austin', \n",
        "                          'Central Texas Beauty College-Temple']]"
      ],
      "execution_count": 123,
      "outputs": [
        {
          "output_type": "execute_result",
          "data": {
            "text/html": [
              "<div>\n",
              "<style scoped>\n",
              "    .dataframe tbody tr th:only-of-type {\n",
              "        vertical-align: middle;\n",
              "    }\n",
              "\n",
              "    .dataframe tbody tr th {\n",
              "        vertical-align: top;\n",
              "    }\n",
              "\n",
              "    .dataframe thead th {\n",
              "        text-align: right;\n",
              "    }\n",
              "</style>\n",
              "<table border=\"1\" class=\"dataframe\">\n",
              "  <thead>\n",
              "    <tr style=\"text-align: right;\">\n",
              "      <th></th>\n",
              "      <th>UGDS_WHITE</th>\n",
              "      <th>UGDS_BLACK</th>\n",
              "      <th>UGDS_HISP</th>\n",
              "      <th>UGDS_ASIAN</th>\n",
              "      <th>UGDS_AIAN</th>\n",
              "      <th>UGDS_NHPI</th>\n",
              "      <th>UGDS_2MOR</th>\n",
              "      <th>UGDS_NRA</th>\n",
              "      <th>UGDS_UNKN</th>\n",
              "    </tr>\n",
              "    <tr>\n",
              "      <th>INSTNM</th>\n",
              "      <th></th>\n",
              "      <th></th>\n",
              "      <th></th>\n",
              "      <th></th>\n",
              "      <th></th>\n",
              "      <th></th>\n",
              "      <th></th>\n",
              "      <th></th>\n",
              "      <th></th>\n",
              "    </tr>\n",
              "  </thead>\n",
              "  <tbody>\n",
              "    <tr>\n",
              "      <th>Regency Beauty Institute-Austin</th>\n",
              "      <td>0.1867</td>\n",
              "      <td>0.2133</td>\n",
              "      <td>0.1600</td>\n",
              "      <td>0.0000</td>\n",
              "      <td>0.0</td>\n",
              "      <td>0.0</td>\n",
              "      <td>0.1733</td>\n",
              "      <td>0.0</td>\n",
              "      <td>0.2667</td>\n",
              "    </tr>\n",
              "    <tr>\n",
              "      <th>Central Texas Beauty College-Temple</th>\n",
              "      <td>0.1616</td>\n",
              "      <td>0.2323</td>\n",
              "      <td>0.2626</td>\n",
              "      <td>0.0202</td>\n",
              "      <td>0.0</td>\n",
              "      <td>0.0</td>\n",
              "      <td>0.1717</td>\n",
              "      <td>0.0</td>\n",
              "      <td>0.1515</td>\n",
              "    </tr>\n",
              "  </tbody>\n",
              "</table>\n",
              "</div>"
            ],
            "text/plain": [
              "                                     UGDS_WHITE  UGDS_BLACK  UGDS_HISP  \\\n",
              "INSTNM                                                                   \n",
              "Regency Beauty Institute-Austin          0.1867      0.2133     0.1600   \n",
              "Central Texas Beauty College-Temple      0.1616      0.2323     0.2626   \n",
              "\n",
              "                                     UGDS_ASIAN  UGDS_AIAN  UGDS_NHPI  \\\n",
              "INSTNM                                                                  \n",
              "Regency Beauty Institute-Austin          0.0000        0.0        0.0   \n",
              "Central Texas Beauty College-Temple      0.0202        0.0        0.0   \n",
              "\n",
              "                                     UGDS_2MOR  UGDS_NRA  UGDS_UNKN  \n",
              "INSTNM                                                               \n",
              "Regency Beauty Institute-Austin         0.1733       0.0     0.2667  \n",
              "Central Texas Beauty College-Temple     0.1717       0.0     0.1515  "
            ]
          },
          "metadata": {
            "tags": []
          },
          "execution_count": 123
        }
      ]
    },
    {
      "cell_type": "markdown",
      "metadata": {
        "id": "BmKwQ4kEVLHT",
        "colab_type": "text"
      },
      "source": [
        "It appears that several categories were aggregated into the unknown and two or more races column. Regardless of this, they both appear to be quite diverse. We can see how the top 10 US News schools fared with this basic diversity metric:"
      ]
    },
    {
      "cell_type": "code",
      "metadata": {
        "id": "uLBj7kFrXpUL",
        "colab_type": "code",
        "colab": {}
      },
      "source": [
        "us_news_top = ['Rutgers University-Newark', \n",
        "               'Andrews University', \n",
        "               'Stanford University', \n",
        "               'University of Houston',\n",
        "               'University of Nevada-Las Vegas']"
      ],
      "execution_count": 0,
      "outputs": []
    },
    {
      "cell_type": "code",
      "metadata": {
        "id": "1MqIzAdzXpUM",
        "colab_type": "code",
        "colab": {
          "base_uri": "https://localhost:8080/",
          "height": 134
        },
        "outputId": "5fcc1933-7c62-47c4-83fd-2d5e6eb09d78"
      },
      "source": [
        "diversity_metric.loc[us_news_top]"
      ],
      "execution_count": 125,
      "outputs": [
        {
          "output_type": "execute_result",
          "data": {
            "text/plain": [
              "INSTNM\n",
              "Rutgers University-Newark         4\n",
              "Andrews University                3\n",
              "Stanford University               3\n",
              "University of Houston             3\n",
              "University of Nevada-Las Vegas    3\n",
              "dtype: int64"
            ]
          },
          "metadata": {
            "tags": []
          },
          "execution_count": 125
        }
      ]
    },
    {
      "cell_type": "markdown",
      "metadata": {
        "id": "geuIuZ4TVeUs",
        "colab_type": "text"
      },
      "source": [
        "How it works...\n",
        "Step 2 counts and then displays the schools with the highest number of missing values. As there are nine columns in the DataFrame, the maximum number of missing values per school is nine. Many schools are missing values for each column. Step 3 removes rows that have all their values missing. The dropna method in step 3 has the how parameter, which is defaulted to the string any but may also be changed to all. When set to any, it drops rows that contain one or more missing values. When set to all, it only drops rows where all values are missing.\n",
        "\n",
        "In this case, we conservatively drop rows that are missing all values. This is because it's possible that some missing values simply represent 0 percent. This did not happen to be the case here, as there were no missing values after the dropna was performed. If there were still missing values, we could have run the fillna(0) method to fill all the remaining values with 0.\n",
        "\n",
        "Step 4 begins our diversity metric calculation using the greater than or equal to method, ge. This results in a DataFrame of all booleans, which is summed horizontally by setting axis='columns'.\n",
        "\n",
        "The value_counts method is used in step 5 to produce a distribution of our diversity metric. It is quite rare for schools to have three races with 15% or more of the undergraduate student population. Step 7 and step 8 find two schools that are the most diverse based on our metric. Although they are diverse, it appears that many of the races are not fully accounted for and are defaulted into the unknown and two or more categories.\n",
        "\n",
        "Step 9 selects the top five schools from the US News article. It then selects their diversity metric from our newly created Series. It turns out that these schools also score highly with our simple ranking system.\n",
        "\n",
        "There's more...\n",
        "Alternatively, we can find the schools that are least diverse by ordering them by their maximum race percentage:\n",
        "\n"
      ]
    },
    {
      "cell_type": "markdown",
      "metadata": {
        "id": "u5kAM2xGXpUN",
        "colab_type": "text"
      },
      "source": [
        "## There's more..."
      ]
    },
    {
      "cell_type": "code",
      "metadata": {
        "id": "R-WoNYjiXpUO",
        "colab_type": "code",
        "colab": {
          "base_uri": "https://localhost:8080/",
          "height": 202
        },
        "outputId": "536d2cb9-c257-416f-fff7-5e8087d77bfc"
      },
      "source": [
        "college_ugds_.max(axis=1).sort_values(ascending=False).head(10)"
      ],
      "execution_count": 126,
      "outputs": [
        {
          "output_type": "execute_result",
          "data": {
            "text/plain": [
              "INSTNM\n",
              "Dewey University-Manati                               1.0\n",
              "Yeshiva and Kollel Harbotzas Torah                    1.0\n",
              "Mr Leon's School of Hair Design-Lewiston              1.0\n",
              "Dewey University-Bayamon                              1.0\n",
              "                                                     ... \n",
              "Monteclaro Escuela de Hoteleria y Artes Culinarias    1.0\n",
              "Yeshiva Shaar Hatorah                                 1.0\n",
              "Bais Medrash Elyon                                    1.0\n",
              "Yeshiva of Nitra Rabbinical College                   1.0\n",
              "Length: 10, dtype: float64"
            ]
          },
          "metadata": {
            "tags": []
          },
          "execution_count": 126
        }
      ]
    },
    {
      "cell_type": "code",
      "metadata": {
        "id": "jJ59qMdfXpUP",
        "colab_type": "code",
        "colab": {
          "base_uri": "https://localhost:8080/",
          "height": 185
        },
        "outputId": "a7621f97-7dae-4161-cde9-8a0451fbbc30"
      },
      "source": [
        "college_ugds_.loc['Talmudical Seminary Oholei Torah']"
      ],
      "execution_count": 128,
      "outputs": [
        {
          "output_type": "execute_result",
          "data": {
            "text/plain": [
              "UGDS_WHITE    1.0\n",
              "UGDS_BLACK    0.0\n",
              "UGDS_HISP     0.0\n",
              "UGDS_ASIAN    0.0\n",
              "             ... \n",
              "UGDS_NHPI     0.0\n",
              "UGDS_2MOR     0.0\n",
              "UGDS_NRA      0.0\n",
              "UGDS_UNKN     0.0\n",
              "Name: Talmudical Seminary Oholei Torah, Length: 9, dtype: float64"
            ]
          },
          "metadata": {
            "tags": []
          },
          "execution_count": 128
        }
      ]
    },
    {
      "cell_type": "markdown",
      "metadata": {
        "id": "vxoOkhfgWYwD",
        "colab_type": "text"
      },
      "source": [
        "We can also determine if any school has all nine race categories exceeding 1%:"
      ]
    },
    {
      "cell_type": "code",
      "metadata": {
        "id": "_6CqsBvKXpUR",
        "colab_type": "code",
        "colab": {
          "base_uri": "https://localhost:8080/",
          "height": 34
        },
        "outputId": "782aaec1-621f-4114-c2a3-ef5b5ef04ec9"
      },
      "source": [
        "(college_ugds_ > .01).all(axis=1).any()"
      ],
      "execution_count": 127,
      "outputs": [
        {
          "output_type": "execute_result",
          "data": {
            "text/plain": [
              "True"
            ]
          },
          "metadata": {
            "tags": []
          },
          "execution_count": 127
        }
      ]
    },
    {
      "cell_type": "code",
      "metadata": {
        "id": "WgvCaBTNXpUT",
        "colab_type": "code",
        "colab": {
          "base_uri": "https://localhost:8080/",
          "height": 34
        },
        "outputId": "b793eeca-465c-4e81-c1e5-7f094352584f"
      },
      "source": [
        "1/100"
      ],
      "execution_count": 133,
      "outputs": [
        {
          "output_type": "execute_result",
          "data": {
            "text/plain": [
              "0.01"
            ]
          },
          "metadata": {
            "tags": []
          },
          "execution_count": 133
        }
      ]
    },
    {
      "cell_type": "code",
      "metadata": {
        "id": "InBLc5iOYCx5",
        "colab_type": "code",
        "colab": {}
      },
      "source": [
        "import os, signal\n",
        "os.kill(os.getpid(),signal.SIGKILL)"
      ],
      "execution_count": 0,
      "outputs": []
    }
  ]
}