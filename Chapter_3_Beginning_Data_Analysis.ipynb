{
  "nbformat": 4,
  "nbformat_minor": 0,
  "metadata": {
    "colab": {
      "name": "Chapter 3 Beginning Data Analysis.ipynb",
      "version": "0.3.2",
      "provenance": [],
      "include_colab_link": true
    },
    "language_info": {
      "codemirror_mode": {
        "name": "ipython",
        "version": 3
      },
      "file_extension": ".py",
      "mimetype": "text/x-python",
      "name": "python",
      "nbconvert_exporter": "python",
      "pygments_lexer": "ipython3",
      "version": "3.6.1"
    },
    "kernelspec": {
      "display_name": "Python 3",
      "language": "python",
      "name": "python3"
    }
  },
  "cells": [
    {
      "cell_type": "markdown",
      "metadata": {
        "id": "view-in-github",
        "colab_type": "text"
      },
      "source": [
        "<a href=\"https://colab.research.google.com/github/Blackman9t/PandasCookbook/blob/master/Chapter_3_Beginning_Data_Analysis.ipynb\" target=\"_parent\"><img src=\"https://colab.research.google.com/assets/colab-badge.svg\" alt=\"Open In Colab\"/></a>"
      ]
    },
    {
      "cell_type": "markdown",
      "metadata": {
        "id": "IAZ-b4z50dn1",
        "colab_type": "text"
      },
      "source": [
        "# Chapter 3: Beginning Data Analysis"
      ]
    },
    {
      "cell_type": "markdown",
      "metadata": {
        "id": "40nueqEU0dn2",
        "colab_type": "text"
      },
      "source": [
        "## Recipes\n",
        "* [Developing a data analysis routine](#Developing-a-data-analysis-routine)\n",
        "* [Reducing memory by changing data types](#Reducing-memory-by-changing-data-types)\n",
        "* [Selecting the smallest of the largest](#Selecting-the-smallest-of-the-largest)\n",
        "* [Selecting the largest of each group by sorting](#Selecting-the-largest-of-each-group-by-sorting)\n",
        "* [Duplicating nlargest with sort_values](#Duplicating-nlargest-with-sort_values)\n",
        "* [Calculating a trailing stop order price](#Calculating-a-trailing-stop-order-price)"
      ]
    },
    {
      "cell_type": "code",
      "metadata": {
        "id": "iOwl8dsp0dn4",
        "colab_type": "code",
        "colab": {}
      },
      "source": [
        "import pandas as pd\n",
        "import numpy as np\n",
        "pd.options.display.max_columns = 50"
      ],
      "execution_count": 0,
      "outputs": []
    },
    {
      "cell_type": "markdown",
      "metadata": {
        "id": "8pwHW-ij0dn8",
        "colab_type": "text"
      },
      "source": [
        "# Developing a data analysis routine"
      ]
    },
    {
      "cell_type": "markdown",
      "metadata": {
        "id": "wkzLFB972Bxe",
        "colab_type": "text"
      },
      "source": [
        "It is important to consider the steps that you, as an analyst, take when you first encounter a dataset after importing it into your workspace as a DataFrame. Is there a set of tasks that you usually undertake to first examine the data? Are you aware of all the possible data types?"
      ]
    },
    {
      "cell_type": "markdown",
      "metadata": {
        "id": "2yzoz93N2p9U",
        "colab_type": "text"
      },
      "source": [
        "Although there is no standard approach when beginning a data analysis, it is typically a good idea to develop a routine for yourself when first examining a dataset. Similar to common routines that we have for waking up, showering, going to work, eating, and so on, a beginning data analysis routine helps one quickly get acquainted with a new dataset. This routine can manifest itself as a dynamic checklist of tasks that evolves as your familiarity with pandas and data analysis expands."
      ]
    },
    {
      "cell_type": "markdown",
      "metadata": {
        "id": "GRhccCYc2xYj",
        "colab_type": "text"
      },
      "source": [
        "Exploratory Data Analysis (EDA) is a term used to encompass the entire process of analyzing data without the formal use of statistical testing procedures. Much of EDA involves visually displaying different relationships among the data to detect interesting patterns and develop hypotheses."
      ]
    },
    {
      "cell_type": "markdown",
      "metadata": {
        "id": "pA3S04oc2_N7",
        "colab_type": "text"
      },
      "source": [
        "**Getting ready**<br>\n",
        "This recipe covers a small but fundamental part of EDA: the collection of metadata and univariate descriptive statistics in a routine and systematic way. It outlines a common set of tasks that can be undertaken when first importing any dataset as a pandas DataFrame. This recipe may help form the basis of the routine that you can implement when first examining a dataset.\n",
        "\n",
        "<font color='khaki'>Note<br>\n",
        "Metadata describes the dataset, or more aptly, data about the data. Examples of metadata include the number of columns/rows, column names, data types of each column, the source of the dataset, the date of collection, the acceptable values for different columns, and so on. Univariate descriptive statistics are summary statistics about individual variables (columns) of the dataset, independent of all other variables.</font>"
      ]
    },
    {
      "cell_type": "markdown",
      "metadata": {
        "id": "TpIn74db3df8",
        "colab_type": "text"
      },
      "source": [
        "How to do it...<br>\n",
        "**Step One:**<br>\n",
        "First, some metadata on the college dataset will be collected, followed by basic summary statistics of each column:\n",
        "\n",
        "Read in the dataset, and view the first five rows with the head method:"
      ]
    },
    {
      "cell_type": "code",
      "metadata": {
        "id": "u-u7L1a70dn9",
        "colab_type": "code",
        "colab": {}
      },
      "source": [
        "college_raw = 'https://raw.githubusercontent.com/Blackman9t/PandasCookbook/master/college.csv'  # raw link from github\n",
        "college = pd.read_csv(college_raw)"
      ],
      "execution_count": 0,
      "outputs": []
    },
    {
      "cell_type": "code",
      "metadata": {
        "id": "BjsB0Gqz0doA",
        "colab_type": "code",
        "colab": {
          "base_uri": "https://localhost:8080/",
          "height": 400
        },
        "outputId": "eb61c22b-3cdd-4786-f244-b89c9a901ca9"
      },
      "source": [
        "college.head()"
      ],
      "execution_count": 3,
      "outputs": [
        {
          "output_type": "execute_result",
          "data": {
            "text/html": [
              "<div>\n",
              "<style scoped>\n",
              "    .dataframe tbody tr th:only-of-type {\n",
              "        vertical-align: middle;\n",
              "    }\n",
              "\n",
              "    .dataframe tbody tr th {\n",
              "        vertical-align: top;\n",
              "    }\n",
              "\n",
              "    .dataframe thead th {\n",
              "        text-align: right;\n",
              "    }\n",
              "</style>\n",
              "<table border=\"1\" class=\"dataframe\">\n",
              "  <thead>\n",
              "    <tr style=\"text-align: right;\">\n",
              "      <th></th>\n",
              "      <th>INSTNM</th>\n",
              "      <th>CITY</th>\n",
              "      <th>STABBR</th>\n",
              "      <th>HBCU</th>\n",
              "      <th>MENONLY</th>\n",
              "      <th>WOMENONLY</th>\n",
              "      <th>RELAFFIL</th>\n",
              "      <th>SATVRMID</th>\n",
              "      <th>SATMTMID</th>\n",
              "      <th>DISTANCEONLY</th>\n",
              "      <th>UGDS</th>\n",
              "      <th>UGDS_WHITE</th>\n",
              "      <th>UGDS_BLACK</th>\n",
              "      <th>UGDS_HISP</th>\n",
              "      <th>UGDS_ASIAN</th>\n",
              "      <th>UGDS_AIAN</th>\n",
              "      <th>UGDS_NHPI</th>\n",
              "      <th>UGDS_2MOR</th>\n",
              "      <th>UGDS_NRA</th>\n",
              "      <th>UGDS_UNKN</th>\n",
              "      <th>PPTUG_EF</th>\n",
              "      <th>CURROPER</th>\n",
              "      <th>PCTPELL</th>\n",
              "      <th>PCTFLOAN</th>\n",
              "      <th>UG25ABV</th>\n",
              "      <th>MD_EARN_WNE_P10</th>\n",
              "      <th>GRAD_DEBT_MDN_SUPP</th>\n",
              "    </tr>\n",
              "  </thead>\n",
              "  <tbody>\n",
              "    <tr>\n",
              "      <th>0</th>\n",
              "      <td>Alabama A &amp; M University</td>\n",
              "      <td>Normal</td>\n",
              "      <td>AL</td>\n",
              "      <td>1.0</td>\n",
              "      <td>0.0</td>\n",
              "      <td>0.0</td>\n",
              "      <td>0</td>\n",
              "      <td>424.0</td>\n",
              "      <td>420.0</td>\n",
              "      <td>0.0</td>\n",
              "      <td>4206.0</td>\n",
              "      <td>0.0333</td>\n",
              "      <td>0.9353</td>\n",
              "      <td>0.0055</td>\n",
              "      <td>0.0019</td>\n",
              "      <td>0.0024</td>\n",
              "      <td>0.0019</td>\n",
              "      <td>0.0000</td>\n",
              "      <td>0.0059</td>\n",
              "      <td>0.0138</td>\n",
              "      <td>0.0656</td>\n",
              "      <td>1</td>\n",
              "      <td>0.7356</td>\n",
              "      <td>0.8284</td>\n",
              "      <td>0.1049</td>\n",
              "      <td>30300</td>\n",
              "      <td>33888</td>\n",
              "    </tr>\n",
              "    <tr>\n",
              "      <th>1</th>\n",
              "      <td>University of Alabama at Birmingham</td>\n",
              "      <td>Birmingham</td>\n",
              "      <td>AL</td>\n",
              "      <td>0.0</td>\n",
              "      <td>0.0</td>\n",
              "      <td>0.0</td>\n",
              "      <td>0</td>\n",
              "      <td>570.0</td>\n",
              "      <td>565.0</td>\n",
              "      <td>0.0</td>\n",
              "      <td>11383.0</td>\n",
              "      <td>0.5922</td>\n",
              "      <td>0.2600</td>\n",
              "      <td>0.0283</td>\n",
              "      <td>0.0518</td>\n",
              "      <td>0.0022</td>\n",
              "      <td>0.0007</td>\n",
              "      <td>0.0368</td>\n",
              "      <td>0.0179</td>\n",
              "      <td>0.0100</td>\n",
              "      <td>0.2607</td>\n",
              "      <td>1</td>\n",
              "      <td>0.3460</td>\n",
              "      <td>0.5214</td>\n",
              "      <td>0.2422</td>\n",
              "      <td>39700</td>\n",
              "      <td>21941.5</td>\n",
              "    </tr>\n",
              "    <tr>\n",
              "      <th>2</th>\n",
              "      <td>Amridge University</td>\n",
              "      <td>Montgomery</td>\n",
              "      <td>AL</td>\n",
              "      <td>0.0</td>\n",
              "      <td>0.0</td>\n",
              "      <td>0.0</td>\n",
              "      <td>1</td>\n",
              "      <td>NaN</td>\n",
              "      <td>NaN</td>\n",
              "      <td>1.0</td>\n",
              "      <td>291.0</td>\n",
              "      <td>0.2990</td>\n",
              "      <td>0.4192</td>\n",
              "      <td>0.0069</td>\n",
              "      <td>0.0034</td>\n",
              "      <td>0.0000</td>\n",
              "      <td>0.0000</td>\n",
              "      <td>0.0000</td>\n",
              "      <td>0.0000</td>\n",
              "      <td>0.2715</td>\n",
              "      <td>0.4536</td>\n",
              "      <td>1</td>\n",
              "      <td>0.6801</td>\n",
              "      <td>0.7795</td>\n",
              "      <td>0.8540</td>\n",
              "      <td>40100</td>\n",
              "      <td>23370</td>\n",
              "    </tr>\n",
              "    <tr>\n",
              "      <th>3</th>\n",
              "      <td>University of Alabama in Huntsville</td>\n",
              "      <td>Huntsville</td>\n",
              "      <td>AL</td>\n",
              "      <td>0.0</td>\n",
              "      <td>0.0</td>\n",
              "      <td>0.0</td>\n",
              "      <td>0</td>\n",
              "      <td>595.0</td>\n",
              "      <td>590.0</td>\n",
              "      <td>0.0</td>\n",
              "      <td>5451.0</td>\n",
              "      <td>0.6988</td>\n",
              "      <td>0.1255</td>\n",
              "      <td>0.0382</td>\n",
              "      <td>0.0376</td>\n",
              "      <td>0.0143</td>\n",
              "      <td>0.0002</td>\n",
              "      <td>0.0172</td>\n",
              "      <td>0.0332</td>\n",
              "      <td>0.0350</td>\n",
              "      <td>0.2146</td>\n",
              "      <td>1</td>\n",
              "      <td>0.3072</td>\n",
              "      <td>0.4596</td>\n",
              "      <td>0.2640</td>\n",
              "      <td>45500</td>\n",
              "      <td>24097</td>\n",
              "    </tr>\n",
              "    <tr>\n",
              "      <th>4</th>\n",
              "      <td>Alabama State University</td>\n",
              "      <td>Montgomery</td>\n",
              "      <td>AL</td>\n",
              "      <td>1.0</td>\n",
              "      <td>0.0</td>\n",
              "      <td>0.0</td>\n",
              "      <td>0</td>\n",
              "      <td>425.0</td>\n",
              "      <td>430.0</td>\n",
              "      <td>0.0</td>\n",
              "      <td>4811.0</td>\n",
              "      <td>0.0158</td>\n",
              "      <td>0.9208</td>\n",
              "      <td>0.0121</td>\n",
              "      <td>0.0019</td>\n",
              "      <td>0.0010</td>\n",
              "      <td>0.0006</td>\n",
              "      <td>0.0098</td>\n",
              "      <td>0.0243</td>\n",
              "      <td>0.0137</td>\n",
              "      <td>0.0892</td>\n",
              "      <td>1</td>\n",
              "      <td>0.7347</td>\n",
              "      <td>0.7554</td>\n",
              "      <td>0.1270</td>\n",
              "      <td>26600</td>\n",
              "      <td>33118.5</td>\n",
              "    </tr>\n",
              "  </tbody>\n",
              "</table>\n",
              "</div>"
            ],
            "text/plain": [
              "                                INSTNM        CITY STABBR  HBCU  MENONLY  \\\n",
              "0             Alabama A & M University      Normal     AL   1.0      0.0   \n",
              "1  University of Alabama at Birmingham  Birmingham     AL   0.0      0.0   \n",
              "2                   Amridge University  Montgomery     AL   0.0      0.0   \n",
              "3  University of Alabama in Huntsville  Huntsville     AL   0.0      0.0   \n",
              "4             Alabama State University  Montgomery     AL   1.0      0.0   \n",
              "\n",
              "   WOMENONLY  RELAFFIL  SATVRMID  SATMTMID  DISTANCEONLY     UGDS  UGDS_WHITE  \\\n",
              "0        0.0         0     424.0     420.0           0.0   4206.0      0.0333   \n",
              "1        0.0         0     570.0     565.0           0.0  11383.0      0.5922   \n",
              "2        0.0         1       NaN       NaN           1.0    291.0      0.2990   \n",
              "3        0.0         0     595.0     590.0           0.0   5451.0      0.6988   \n",
              "4        0.0         0     425.0     430.0           0.0   4811.0      0.0158   \n",
              "\n",
              "   UGDS_BLACK  UGDS_HISP  UGDS_ASIAN  UGDS_AIAN  UGDS_NHPI  UGDS_2MOR  \\\n",
              "0      0.9353     0.0055      0.0019     0.0024     0.0019     0.0000   \n",
              "1      0.2600     0.0283      0.0518     0.0022     0.0007     0.0368   \n",
              "2      0.4192     0.0069      0.0034     0.0000     0.0000     0.0000   \n",
              "3      0.1255     0.0382      0.0376     0.0143     0.0002     0.0172   \n",
              "4      0.9208     0.0121      0.0019     0.0010     0.0006     0.0098   \n",
              "\n",
              "   UGDS_NRA  UGDS_UNKN  PPTUG_EF  CURROPER  PCTPELL  PCTFLOAN  UG25ABV  \\\n",
              "0    0.0059     0.0138    0.0656         1   0.7356    0.8284   0.1049   \n",
              "1    0.0179     0.0100    0.2607         1   0.3460    0.5214   0.2422   \n",
              "2    0.0000     0.2715    0.4536         1   0.6801    0.7795   0.8540   \n",
              "3    0.0332     0.0350    0.2146         1   0.3072    0.4596   0.2640   \n",
              "4    0.0243     0.0137    0.0892         1   0.7347    0.7554   0.1270   \n",
              "\n",
              "  MD_EARN_WNE_P10 GRAD_DEBT_MDN_SUPP  \n",
              "0           30300              33888  \n",
              "1           39700            21941.5  \n",
              "2           40100              23370  \n",
              "3           45500              24097  \n",
              "4           26600            33118.5  "
            ]
          },
          "metadata": {
            "tags": []
          },
          "execution_count": 3
        }
      ]
    },
    {
      "cell_type": "markdown",
      "metadata": {
        "id": "0T1NhQ7f3-NG",
        "colab_type": "text"
      },
      "source": [
        "**Step two**\n",
        "\n",
        "Get the dimensions of the DataFrame with the shape attribute:\n"
      ]
    },
    {
      "cell_type": "code",
      "metadata": {
        "id": "fSzbTEwJ0doF",
        "colab_type": "code",
        "colab": {
          "base_uri": "https://localhost:8080/",
          "height": 34
        },
        "outputId": "fa6da2da-2e86-4b04-ca68-db3a9c1e600c"
      },
      "source": [
        "college.shape"
      ],
      "execution_count": 4,
      "outputs": [
        {
          "output_type": "execute_result",
          "data": {
            "text/plain": [
              "(7535, 27)"
            ]
          },
          "metadata": {
            "tags": []
          },
          "execution_count": 4
        }
      ]
    },
    {
      "cell_type": "markdown",
      "metadata": {
        "id": "jZS_w_wv4ZeT",
        "colab_type": "text"
      },
      "source": [
        "**Step three**:\n",
        "\n",
        "List the data type of each column, number of non-missing values, and memory usage with the info method:"
      ]
    },
    {
      "cell_type": "code",
      "metadata": {
        "id": "-ml4luEn4hNS",
        "colab_type": "code",
        "colab": {
          "base_uri": "https://localhost:8080/",
          "height": 554
        },
        "outputId": "d0b30d15-3b3a-4b68-f8fb-d9dbef264525"
      },
      "source": [
        "college.info()"
      ],
      "execution_count": 6,
      "outputs": [
        {
          "output_type": "stream",
          "text": [
            "<class 'pandas.core.frame.DataFrame'>\n",
            "RangeIndex: 7535 entries, 0 to 7534\n",
            "Data columns (total 27 columns):\n",
            "INSTNM                7535 non-null object\n",
            "CITY                  7535 non-null object\n",
            "STABBR                7535 non-null object\n",
            "HBCU                  7164 non-null float64\n",
            "MENONLY               7164 non-null float64\n",
            "WOMENONLY             7164 non-null float64\n",
            "RELAFFIL              7535 non-null int64\n",
            "SATVRMID              1185 non-null float64\n",
            "SATMTMID              1196 non-null float64\n",
            "DISTANCEONLY          7164 non-null float64\n",
            "UGDS                  6874 non-null float64\n",
            "UGDS_WHITE            6874 non-null float64\n",
            "UGDS_BLACK            6874 non-null float64\n",
            "UGDS_HISP             6874 non-null float64\n",
            "UGDS_ASIAN            6874 non-null float64\n",
            "UGDS_AIAN             6874 non-null float64\n",
            "UGDS_NHPI             6874 non-null float64\n",
            "UGDS_2MOR             6874 non-null float64\n",
            "UGDS_NRA              6874 non-null float64\n",
            "UGDS_UNKN             6874 non-null float64\n",
            "PPTUG_EF              6853 non-null float64\n",
            "CURROPER              7535 non-null int64\n",
            "PCTPELL               6849 non-null float64\n",
            "PCTFLOAN              6849 non-null float64\n",
            "UG25ABV               6718 non-null float64\n",
            "MD_EARN_WNE_P10       6413 non-null object\n",
            "GRAD_DEBT_MDN_SUPP    7503 non-null object\n",
            "dtypes: float64(20), int64(2), object(5)\n",
            "memory usage: 1.6+ MB\n"
          ],
          "name": "stdout"
        }
      ]
    },
    {
      "cell_type": "markdown",
      "metadata": {
        "id": "Z6zMtWvo5Da4",
        "colab_type": "text"
      },
      "source": [
        "**Step four**\n",
        "\n",
        "Get summary statistics for the numerical columns and transpose the DataFrame for more readable output:\n"
      ]
    },
    {
      "cell_type": "code",
      "metadata": {
        "id": "Fj-nCpsr0doJ",
        "colab_type": "code",
        "colab": {
          "base_uri": "https://localhost:8080/",
          "height": 342
        },
        "outputId": "f0278aec-a53f-4bd0-d314-281a47e1b40f"
      },
      "source": [
        "with pd.option_context('display.max_rows', 8):\n",
        "    display(college.describe(include=[np.number]).T)  # displaying max 8 rows, and transposing the output for readability"
      ],
      "execution_count": 7,
      "outputs": [
        {
          "output_type": "display_data",
          "data": {
            "text/html": [
              "<div>\n",
              "<style scoped>\n",
              "    .dataframe tbody tr th:only-of-type {\n",
              "        vertical-align: middle;\n",
              "    }\n",
              "\n",
              "    .dataframe tbody tr th {\n",
              "        vertical-align: top;\n",
              "    }\n",
              "\n",
              "    .dataframe thead th {\n",
              "        text-align: right;\n",
              "    }\n",
              "</style>\n",
              "<table border=\"1\" class=\"dataframe\">\n",
              "  <thead>\n",
              "    <tr style=\"text-align: right;\">\n",
              "      <th></th>\n",
              "      <th>count</th>\n",
              "      <th>mean</th>\n",
              "      <th>std</th>\n",
              "      <th>min</th>\n",
              "      <th>25%</th>\n",
              "      <th>50%</th>\n",
              "      <th>75%</th>\n",
              "      <th>max</th>\n",
              "    </tr>\n",
              "  </thead>\n",
              "  <tbody>\n",
              "    <tr>\n",
              "      <th>HBCU</th>\n",
              "      <td>7164.0</td>\n",
              "      <td>0.014238</td>\n",
              "      <td>0.118478</td>\n",
              "      <td>0.0</td>\n",
              "      <td>0.0000</td>\n",
              "      <td>0.00000</td>\n",
              "      <td>0.000000</td>\n",
              "      <td>1.0</td>\n",
              "    </tr>\n",
              "    <tr>\n",
              "      <th>MENONLY</th>\n",
              "      <td>7164.0</td>\n",
              "      <td>0.009213</td>\n",
              "      <td>0.095546</td>\n",
              "      <td>0.0</td>\n",
              "      <td>0.0000</td>\n",
              "      <td>0.00000</td>\n",
              "      <td>0.000000</td>\n",
              "      <td>1.0</td>\n",
              "    </tr>\n",
              "    <tr>\n",
              "      <th>WOMENONLY</th>\n",
              "      <td>7164.0</td>\n",
              "      <td>0.005304</td>\n",
              "      <td>0.072642</td>\n",
              "      <td>0.0</td>\n",
              "      <td>0.0000</td>\n",
              "      <td>0.00000</td>\n",
              "      <td>0.000000</td>\n",
              "      <td>1.0</td>\n",
              "    </tr>\n",
              "    <tr>\n",
              "      <th>RELAFFIL</th>\n",
              "      <td>7535.0</td>\n",
              "      <td>0.190975</td>\n",
              "      <td>0.393096</td>\n",
              "      <td>0.0</td>\n",
              "      <td>0.0000</td>\n",
              "      <td>0.00000</td>\n",
              "      <td>0.000000</td>\n",
              "      <td>1.0</td>\n",
              "    </tr>\n",
              "    <tr>\n",
              "      <th>...</th>\n",
              "      <td>...</td>\n",
              "      <td>...</td>\n",
              "      <td>...</td>\n",
              "      <td>...</td>\n",
              "      <td>...</td>\n",
              "      <td>...</td>\n",
              "      <td>...</td>\n",
              "      <td>...</td>\n",
              "    </tr>\n",
              "    <tr>\n",
              "      <th>CURROPER</th>\n",
              "      <td>7535.0</td>\n",
              "      <td>0.923291</td>\n",
              "      <td>0.266146</td>\n",
              "      <td>0.0</td>\n",
              "      <td>1.0000</td>\n",
              "      <td>1.00000</td>\n",
              "      <td>1.000000</td>\n",
              "      <td>1.0</td>\n",
              "    </tr>\n",
              "    <tr>\n",
              "      <th>PCTPELL</th>\n",
              "      <td>6849.0</td>\n",
              "      <td>0.530643</td>\n",
              "      <td>0.225544</td>\n",
              "      <td>0.0</td>\n",
              "      <td>0.3578</td>\n",
              "      <td>0.52150</td>\n",
              "      <td>0.712900</td>\n",
              "      <td>1.0</td>\n",
              "    </tr>\n",
              "    <tr>\n",
              "      <th>PCTFLOAN</th>\n",
              "      <td>6849.0</td>\n",
              "      <td>0.522211</td>\n",
              "      <td>0.283616</td>\n",
              "      <td>0.0</td>\n",
              "      <td>0.3329</td>\n",
              "      <td>0.58330</td>\n",
              "      <td>0.745000</td>\n",
              "      <td>1.0</td>\n",
              "    </tr>\n",
              "    <tr>\n",
              "      <th>UG25ABV</th>\n",
              "      <td>6718.0</td>\n",
              "      <td>0.410021</td>\n",
              "      <td>0.228939</td>\n",
              "      <td>0.0</td>\n",
              "      <td>0.2415</td>\n",
              "      <td>0.40075</td>\n",
              "      <td>0.572275</td>\n",
              "      <td>1.0</td>\n",
              "    </tr>\n",
              "  </tbody>\n",
              "</table>\n",
              "<p>22 rows × 8 columns</p>\n",
              "</div>"
            ],
            "text/plain": [
              "            count      mean       std  min     25%      50%       75%  max\n",
              "HBCU       7164.0  0.014238  0.118478  0.0  0.0000  0.00000  0.000000  1.0\n",
              "MENONLY    7164.0  0.009213  0.095546  0.0  0.0000  0.00000  0.000000  1.0\n",
              "WOMENONLY  7164.0  0.005304  0.072642  0.0  0.0000  0.00000  0.000000  1.0\n",
              "RELAFFIL   7535.0  0.190975  0.393096  0.0  0.0000  0.00000  0.000000  1.0\n",
              "...           ...       ...       ...  ...     ...      ...       ...  ...\n",
              "CURROPER   7535.0  0.923291  0.266146  0.0  1.0000  1.00000  1.000000  1.0\n",
              "PCTPELL    6849.0  0.530643  0.225544  0.0  0.3578  0.52150  0.712900  1.0\n",
              "PCTFLOAN   6849.0  0.522211  0.283616  0.0  0.3329  0.58330  0.745000  1.0\n",
              "UG25ABV    6718.0  0.410021  0.228939  0.0  0.2415  0.40075  0.572275  1.0\n",
              "\n",
              "[22 rows x 8 columns]"
            ]
          },
          "metadata": {
            "tags": []
          }
        }
      ]
    },
    {
      "cell_type": "markdown",
      "metadata": {
        "id": "LxF7kDmI6GON",
        "colab_type": "text"
      },
      "source": [
        "**Step five**\n",
        "\n",
        "Get summary statistics for the object and categorical columns:\n"
      ]
    },
    {
      "cell_type": "markdown",
      "metadata": {
        "id": "4v0NHkOQ88Nn",
        "colab_type": "text"
      },
      "source": [
        "Categorical columns are usually going to be either of type np.object or pd.Categorical. Step 5 ensures that both of these types are represented. In both step 4 and step 5, the output DataFrame is transposed with the T attribute. This eases readability for DataFrames with many columns."
      ]
    },
    {
      "cell_type": "code",
      "metadata": {
        "id": "6GjduaVX0doM",
        "colab_type": "code",
        "colab": {
          "base_uri": "https://localhost:8080/",
          "height": 195
        },
        "outputId": "f93b0d68-6871-414e-9851-0d31f7c73e19"
      },
      "source": [
        "college.describe(include=[np.object, pd.Categorical]).T"
      ],
      "execution_count": 13,
      "outputs": [
        {
          "output_type": "execute_result",
          "data": {
            "text/html": [
              "<div>\n",
              "<style scoped>\n",
              "    .dataframe tbody tr th:only-of-type {\n",
              "        vertical-align: middle;\n",
              "    }\n",
              "\n",
              "    .dataframe tbody tr th {\n",
              "        vertical-align: top;\n",
              "    }\n",
              "\n",
              "    .dataframe thead th {\n",
              "        text-align: right;\n",
              "    }\n",
              "</style>\n",
              "<table border=\"1\" class=\"dataframe\">\n",
              "  <thead>\n",
              "    <tr style=\"text-align: right;\">\n",
              "      <th></th>\n",
              "      <th>count</th>\n",
              "      <th>unique</th>\n",
              "      <th>top</th>\n",
              "      <th>freq</th>\n",
              "    </tr>\n",
              "  </thead>\n",
              "  <tbody>\n",
              "    <tr>\n",
              "      <th>INSTNM</th>\n",
              "      <td>7535</td>\n",
              "      <td>7535</td>\n",
              "      <td>Regency Beauty Institute-Rockford</td>\n",
              "      <td>1</td>\n",
              "    </tr>\n",
              "    <tr>\n",
              "      <th>CITY</th>\n",
              "      <td>7535</td>\n",
              "      <td>2514</td>\n",
              "      <td>New York</td>\n",
              "      <td>87</td>\n",
              "    </tr>\n",
              "    <tr>\n",
              "      <th>STABBR</th>\n",
              "      <td>7535</td>\n",
              "      <td>59</td>\n",
              "      <td>CA</td>\n",
              "      <td>773</td>\n",
              "    </tr>\n",
              "    <tr>\n",
              "      <th>MD_EARN_WNE_P10</th>\n",
              "      <td>6413</td>\n",
              "      <td>598</td>\n",
              "      <td>PrivacySuppressed</td>\n",
              "      <td>822</td>\n",
              "    </tr>\n",
              "    <tr>\n",
              "      <th>GRAD_DEBT_MDN_SUPP</th>\n",
              "      <td>7503</td>\n",
              "      <td>2038</td>\n",
              "      <td>PrivacySuppressed</td>\n",
              "      <td>1510</td>\n",
              "    </tr>\n",
              "  </tbody>\n",
              "</table>\n",
              "</div>"
            ],
            "text/plain": [
              "                   count unique                                top  freq\n",
              "INSTNM              7535   7535  Regency Beauty Institute-Rockford     1\n",
              "CITY                7535   2514                           New York    87\n",
              "STABBR              7535     59                                 CA   773\n",
              "MD_EARN_WNE_P10     6413    598                  PrivacySuppressed   822\n",
              "GRAD_DEBT_MDN_SUPP  7503   2038                  PrivacySuppressed  1510"
            ]
          },
          "metadata": {
            "tags": []
          },
          "execution_count": 13
        }
      ]
    },
    {
      "cell_type": "markdown",
      "metadata": {
        "id": "sHlQO7VZ6nGA",
        "colab_type": "text"
      },
      "source": [
        "How it works...\n",
        "After importing your dataset, a common task is to print out the first few rows of the DataFrame for manual inspection with the head method. The shape attribute returns the first piece of metadata, a tuple containing the number of rows and columns.\n",
        "\n",
        "The primary method to get the most metadata at once is the info method. It provides each column name, the number of non-missing values, the data type of each column, and the approximate memory usage of the DataFrame. For all DataFrames, columns values are always one data type. The same holds for relational databases. DataFrames, as a whole, might be composed of columns with different data types."
      ]
    },
    {
      "cell_type": "markdown",
      "metadata": {
        "id": "giVMwJGh7MwQ",
        "colab_type": "text"
      },
      "source": [
        "**See numpy Data type Hierarchy below**\n",
        "\n",
        "<img src='https://github.com/Blackman9t/PandasCookbook/blob/master/numpydtypehierarchy.png?raw=true' height=400>"
      ]
    },
    {
      "cell_type": "markdown",
      "metadata": {
        "id": "nZn_plLg8Rjd",
        "colab_type": "text"
      },
      "source": [
        "<font color='khaki'>Note<br>\n",
        "Broadly speaking, we can classify data as being either continuous or categorical. Continuous data is always numeric and can usually take on an infinite number of possibilities such as height, weight, and salary. Categorical data represents discrete values that take on a finite number of possibilities such as ethnicity, employment status, and car color. Categorical data can be represented numerically or with characters.</font>"
      ]
    },
    {
      "cell_type": "markdown",
      "metadata": {
        "id": "0jX9mTZ881cl",
        "colab_type": "text"
      },
      "source": [
        "There's more...\n",
        "It is possible to specify the exact quantiles returned from the describe method when used with numeric columns:"
      ]
    },
    {
      "cell_type": "code",
      "metadata": {
        "id": "yipPnEJ70doQ",
        "colab_type": "code",
        "colab": {}
      },
      "source": [
        "# used to shorten info output.\n",
        "import io\n",
        "buf = io.StringIO()\n",
        "college.info(buf=buf)\n",
        "s = buf.getvalue()"
      ],
      "execution_count": 0,
      "outputs": []
    },
    {
      "cell_type": "code",
      "metadata": {
        "id": "Hr-CEbOs0doU",
        "colab_type": "code",
        "colab": {},
        "outputId": "b533cc29-27cd-4c54-c935-db061ebc633a"
      },
      "source": [
        "s"
      ],
      "execution_count": 0,
      "outputs": [
        {
          "output_type": "execute_result",
          "data": {
            "text/plain": [
              "\"<class 'pandas.core.frame.DataFrame'>\\nRangeIndex: 7535 entries, 0 to 7534\\nData columns (total 27 columns):\\nINSTNM                7535 non-null object\\nCITY                  7535 non-null object\\nSTABBR                7535 non-null object\\nHBCU                  7164 non-null float64\\nMENONLY               7164 non-null float64\\nWOMENONLY             7164 non-null float64\\nRELAFFIL              7535 non-null int64\\nSATVRMID              1185 non-null float64\\nSATMTMID              1196 non-null float64\\nDISTANCEONLY          7164 non-null float64\\nUGDS                  6874 non-null float64\\nUGDS_WHITE            6874 non-null float64\\nUGDS_BLACK            6874 non-null float64\\nUGDS_HISP             6874 non-null float64\\nUGDS_ASIAN            6874 non-null float64\\nUGDS_AIAN             6874 non-null float64\\nUGDS_NHPI             6874 non-null float64\\nUGDS_2MOR             6874 non-null float64\\nUGDS_NRA              6874 non-null float64\\nUGDS_UNKN             6874 non-null float64\\nPPTUG_EF              6853 non-null float64\\nCURROPER              7535 non-null int64\\nPCTPELL               6849 non-null float64\\nPCTFLOAN              6849 non-null float64\\nUG25ABV               6718 non-null float64\\nMD_EARN_WNE_P10       6413 non-null object\\nGRAD_DEBT_MDN_SUPP    7503 non-null object\\ndtypes: float64(20), int64(2), object(5)\\nmemory usage: 1.6+ MB\\n\""
            ]
          },
          "metadata": {
            "tags": []
          },
          "execution_count": 8
        }
      ]
    },
    {
      "cell_type": "code",
      "metadata": {
        "id": "ePRMxAJ-0doY",
        "colab_type": "code",
        "colab": {}
      },
      "source": [
        "s1 = \"<class 'pandas.core.frame.DataFrame'>\\nRangeIndex: 7535 entries, 0 to 7534\\nData columns (total 27 columns):\\nINSTNM                7535 non-null object\\nCITY                  7535 non-null object\\nSTABBR                7535 non-null object\\nHBCU                  7164 non-null float64\\n...\""
      ],
      "execution_count": 0,
      "outputs": []
    },
    {
      "cell_type": "code",
      "metadata": {
        "id": "f_edhhy-0doa",
        "colab_type": "code",
        "colab": {}
      },
      "source": [
        "s2 = \"\\nPCTFLOAN              6849 non-null float64\\nUG25ABV               6718 non-null float64\\nMD_EARN_WNE_P10       6413 non-null object\\nGRAD_DEBT_MDN_SUPP    7503 non-null object\\ndtypes: float64(20), int64(2), object(5)\\nmemory usage: 1.6+ MB\\n\""
      ],
      "execution_count": 0,
      "outputs": []
    },
    {
      "cell_type": "code",
      "metadata": {
        "id": "8IxM4yKX0dod",
        "colab_type": "code",
        "colab": {
          "base_uri": "https://localhost:8080/",
          "height": 269
        },
        "outputId": "687aa4a8-f9a6-4b76-c9d2-984c6944ae92"
      },
      "source": [
        "print(s1 + s2)"
      ],
      "execution_count": 17,
      "outputs": [
        {
          "output_type": "stream",
          "text": [
            "<class 'pandas.core.frame.DataFrame'>\n",
            "RangeIndex: 7535 entries, 0 to 7534\n",
            "Data columns (total 27 columns):\n",
            "INSTNM                7535 non-null object\n",
            "CITY                  7535 non-null object\n",
            "STABBR                7535 non-null object\n",
            "HBCU                  7164 non-null float64\n",
            "...\n",
            "PCTFLOAN              6849 non-null float64\n",
            "UG25ABV               6718 non-null float64\n",
            "MD_EARN_WNE_P10       6413 non-null object\n",
            "GRAD_DEBT_MDN_SUPP    7503 non-null object\n",
            "dtypes: float64(20), int64(2), object(5)\n",
            "memory usage: 1.6+ MB\n",
            "\n"
          ],
          "name": "stdout"
        }
      ]
    },
    {
      "cell_type": "code",
      "metadata": {
        "id": "mUFVHqL30dog",
        "colab_type": "code",
        "colab": {
          "base_uri": "https://localhost:8080/",
          "height": 342
        },
        "outputId": "4ac34094-99d1-4fc8-8a08-939eba9d498b"
      },
      "source": [
        "college.describe(include=[np.number]).T"
      ],
      "execution_count": 18,
      "outputs": [
        {
          "output_type": "execute_result",
          "data": {
            "text/html": [
              "<div>\n",
              "<style scoped>\n",
              "    .dataframe tbody tr th:only-of-type {\n",
              "        vertical-align: middle;\n",
              "    }\n",
              "\n",
              "    .dataframe tbody tr th {\n",
              "        vertical-align: top;\n",
              "    }\n",
              "\n",
              "    .dataframe thead th {\n",
              "        text-align: right;\n",
              "    }\n",
              "</style>\n",
              "<table border=\"1\" class=\"dataframe\">\n",
              "  <thead>\n",
              "    <tr style=\"text-align: right;\">\n",
              "      <th></th>\n",
              "      <th>count</th>\n",
              "      <th>mean</th>\n",
              "      <th>std</th>\n",
              "      <th>min</th>\n",
              "      <th>25%</th>\n",
              "      <th>50%</th>\n",
              "      <th>75%</th>\n",
              "      <th>max</th>\n",
              "    </tr>\n",
              "  </thead>\n",
              "  <tbody>\n",
              "    <tr>\n",
              "      <th>HBCU</th>\n",
              "      <td>7164.0</td>\n",
              "      <td>0.014238</td>\n",
              "      <td>0.118478</td>\n",
              "      <td>0.0</td>\n",
              "      <td>0.0000</td>\n",
              "      <td>0.00000</td>\n",
              "      <td>0.000000</td>\n",
              "      <td>1.0</td>\n",
              "    </tr>\n",
              "    <tr>\n",
              "      <th>MENONLY</th>\n",
              "      <td>7164.0</td>\n",
              "      <td>0.009213</td>\n",
              "      <td>0.095546</td>\n",
              "      <td>0.0</td>\n",
              "      <td>0.0000</td>\n",
              "      <td>0.00000</td>\n",
              "      <td>0.000000</td>\n",
              "      <td>1.0</td>\n",
              "    </tr>\n",
              "    <tr>\n",
              "      <th>WOMENONLY</th>\n",
              "      <td>7164.0</td>\n",
              "      <td>0.005304</td>\n",
              "      <td>0.072642</td>\n",
              "      <td>0.0</td>\n",
              "      <td>0.0000</td>\n",
              "      <td>0.00000</td>\n",
              "      <td>0.000000</td>\n",
              "      <td>1.0</td>\n",
              "    </tr>\n",
              "    <tr>\n",
              "      <th>RELAFFIL</th>\n",
              "      <td>7535.0</td>\n",
              "      <td>0.190975</td>\n",
              "      <td>0.393096</td>\n",
              "      <td>0.0</td>\n",
              "      <td>0.0000</td>\n",
              "      <td>0.00000</td>\n",
              "      <td>0.000000</td>\n",
              "      <td>1.0</td>\n",
              "    </tr>\n",
              "    <tr>\n",
              "      <th>...</th>\n",
              "      <td>...</td>\n",
              "      <td>...</td>\n",
              "      <td>...</td>\n",
              "      <td>...</td>\n",
              "      <td>...</td>\n",
              "      <td>...</td>\n",
              "      <td>...</td>\n",
              "      <td>...</td>\n",
              "    </tr>\n",
              "    <tr>\n",
              "      <th>CURROPER</th>\n",
              "      <td>7535.0</td>\n",
              "      <td>0.923291</td>\n",
              "      <td>0.266146</td>\n",
              "      <td>0.0</td>\n",
              "      <td>1.0000</td>\n",
              "      <td>1.00000</td>\n",
              "      <td>1.000000</td>\n",
              "      <td>1.0</td>\n",
              "    </tr>\n",
              "    <tr>\n",
              "      <th>PCTPELL</th>\n",
              "      <td>6849.0</td>\n",
              "      <td>0.530643</td>\n",
              "      <td>0.225544</td>\n",
              "      <td>0.0</td>\n",
              "      <td>0.3578</td>\n",
              "      <td>0.52150</td>\n",
              "      <td>0.712900</td>\n",
              "      <td>1.0</td>\n",
              "    </tr>\n",
              "    <tr>\n",
              "      <th>PCTFLOAN</th>\n",
              "      <td>6849.0</td>\n",
              "      <td>0.522211</td>\n",
              "      <td>0.283616</td>\n",
              "      <td>0.0</td>\n",
              "      <td>0.3329</td>\n",
              "      <td>0.58330</td>\n",
              "      <td>0.745000</td>\n",
              "      <td>1.0</td>\n",
              "    </tr>\n",
              "    <tr>\n",
              "      <th>UG25ABV</th>\n",
              "      <td>6718.0</td>\n",
              "      <td>0.410021</td>\n",
              "      <td>0.228939</td>\n",
              "      <td>0.0</td>\n",
              "      <td>0.2415</td>\n",
              "      <td>0.40075</td>\n",
              "      <td>0.572275</td>\n",
              "      <td>1.0</td>\n",
              "    </tr>\n",
              "  </tbody>\n",
              "</table>\n",
              "<p>22 rows × 8 columns</p>\n",
              "</div>"
            ],
            "text/plain": [
              "            count      mean       std  min     25%      50%       75%  max\n",
              "HBCU       7164.0  0.014238  0.118478  0.0  0.0000  0.00000  0.000000  1.0\n",
              "MENONLY    7164.0  0.009213  0.095546  0.0  0.0000  0.00000  0.000000  1.0\n",
              "WOMENONLY  7164.0  0.005304  0.072642  0.0  0.0000  0.00000  0.000000  1.0\n",
              "RELAFFIL   7535.0  0.190975  0.393096  0.0  0.0000  0.00000  0.000000  1.0\n",
              "...           ...       ...       ...  ...     ...      ...       ...  ...\n",
              "CURROPER   7535.0  0.923291  0.266146  0.0  1.0000  1.00000  1.000000  1.0\n",
              "PCTPELL    6849.0  0.530643  0.225544  0.0  0.3578  0.52150  0.712900  1.0\n",
              "PCTFLOAN   6849.0  0.522211  0.283616  0.0  0.3329  0.58330  0.745000  1.0\n",
              "UG25ABV    6718.0  0.410021  0.228939  0.0  0.2415  0.40075  0.572275  1.0\n",
              "\n",
              "[22 rows x 8 columns]"
            ]
          },
          "metadata": {
            "tags": []
          },
          "execution_count": 18
        }
      ]
    },
    {
      "cell_type": "code",
      "metadata": {
        "id": "c6F9JlPK0dok",
        "colab_type": "code",
        "colab": {
          "base_uri": "https://localhost:8080/",
          "height": 195
        },
        "outputId": "5519d46b-cd79-4492-e893-e4f89fc14c88"
      },
      "source": [
        "college.describe(include=[np.object, pd.Categorical]).T"
      ],
      "execution_count": 19,
      "outputs": [
        {
          "output_type": "execute_result",
          "data": {
            "text/html": [
              "<div>\n",
              "<style scoped>\n",
              "    .dataframe tbody tr th:only-of-type {\n",
              "        vertical-align: middle;\n",
              "    }\n",
              "\n",
              "    .dataframe tbody tr th {\n",
              "        vertical-align: top;\n",
              "    }\n",
              "\n",
              "    .dataframe thead th {\n",
              "        text-align: right;\n",
              "    }\n",
              "</style>\n",
              "<table border=\"1\" class=\"dataframe\">\n",
              "  <thead>\n",
              "    <tr style=\"text-align: right;\">\n",
              "      <th></th>\n",
              "      <th>count</th>\n",
              "      <th>unique</th>\n",
              "      <th>top</th>\n",
              "      <th>freq</th>\n",
              "    </tr>\n",
              "  </thead>\n",
              "  <tbody>\n",
              "    <tr>\n",
              "      <th>INSTNM</th>\n",
              "      <td>7535</td>\n",
              "      <td>7535</td>\n",
              "      <td>Regency Beauty Institute-Rockford</td>\n",
              "      <td>1</td>\n",
              "    </tr>\n",
              "    <tr>\n",
              "      <th>CITY</th>\n",
              "      <td>7535</td>\n",
              "      <td>2514</td>\n",
              "      <td>New York</td>\n",
              "      <td>87</td>\n",
              "    </tr>\n",
              "    <tr>\n",
              "      <th>STABBR</th>\n",
              "      <td>7535</td>\n",
              "      <td>59</td>\n",
              "      <td>CA</td>\n",
              "      <td>773</td>\n",
              "    </tr>\n",
              "    <tr>\n",
              "      <th>MD_EARN_WNE_P10</th>\n",
              "      <td>6413</td>\n",
              "      <td>598</td>\n",
              "      <td>PrivacySuppressed</td>\n",
              "      <td>822</td>\n",
              "    </tr>\n",
              "    <tr>\n",
              "      <th>GRAD_DEBT_MDN_SUPP</th>\n",
              "      <td>7503</td>\n",
              "      <td>2038</td>\n",
              "      <td>PrivacySuppressed</td>\n",
              "      <td>1510</td>\n",
              "    </tr>\n",
              "  </tbody>\n",
              "</table>\n",
              "</div>"
            ],
            "text/plain": [
              "                   count unique                                top  freq\n",
              "INSTNM              7535   7535  Regency Beauty Institute-Rockford     1\n",
              "CITY                7535   2514                           New York    87\n",
              "STABBR              7535     59                                 CA   773\n",
              "MD_EARN_WNE_P10     6413    598                  PrivacySuppressed   822\n",
              "GRAD_DEBT_MDN_SUPP  7503   2038                  PrivacySuppressed  1510"
            ]
          },
          "metadata": {
            "tags": []
          },
          "execution_count": 19
        }
      ]
    },
    {
      "cell_type": "markdown",
      "metadata": {
        "id": "8sFvicOh0doo",
        "colab_type": "text"
      },
      "source": [
        "## There's more..."
      ]
    },
    {
      "cell_type": "markdown",
      "metadata": {
        "id": "SMZju8_l94-F",
        "colab_type": "text"
      },
      "source": [
        "Code below prints out the describe statistics for numerical columns and includes the percentile param that sets fixed pct to be displayed too"
      ]
    },
    {
      "cell_type": "code",
      "metadata": {
        "id": "aZxzYFtU0doq",
        "colab_type": "code",
        "colab": {
          "base_uri": "https://localhost:8080/",
          "height": 224
        },
        "outputId": "1c9c2de8-4a30-4bce-a0ed-ad126f137791"
      },
      "source": [
        "with pd.option_context('display.max_rows', 5):\n",
        "    display(college.describe(include=[np.number], \n",
        "                 percentiles=[.01, .05, .10, .25, .5, .75, .9, .95, .99]).T)"
      ],
      "execution_count": 21,
      "outputs": [
        {
          "output_type": "display_data",
          "data": {
            "text/html": [
              "<div>\n",
              "<style scoped>\n",
              "    .dataframe tbody tr th:only-of-type {\n",
              "        vertical-align: middle;\n",
              "    }\n",
              "\n",
              "    .dataframe tbody tr th {\n",
              "        vertical-align: top;\n",
              "    }\n",
              "\n",
              "    .dataframe thead th {\n",
              "        text-align: right;\n",
              "    }\n",
              "</style>\n",
              "<table border=\"1\" class=\"dataframe\">\n",
              "  <thead>\n",
              "    <tr style=\"text-align: right;\">\n",
              "      <th></th>\n",
              "      <th>count</th>\n",
              "      <th>mean</th>\n",
              "      <th>std</th>\n",
              "      <th>min</th>\n",
              "      <th>1%</th>\n",
              "      <th>5%</th>\n",
              "      <th>10%</th>\n",
              "      <th>25%</th>\n",
              "      <th>50%</th>\n",
              "      <th>75%</th>\n",
              "      <th>90%</th>\n",
              "      <th>95%</th>\n",
              "      <th>99%</th>\n",
              "      <th>max</th>\n",
              "    </tr>\n",
              "  </thead>\n",
              "  <tbody>\n",
              "    <tr>\n",
              "      <th>HBCU</th>\n",
              "      <td>7164.0</td>\n",
              "      <td>0.014238</td>\n",
              "      <td>0.118478</td>\n",
              "      <td>0.0</td>\n",
              "      <td>0.0000</td>\n",
              "      <td>0.0000</td>\n",
              "      <td>0.0000</td>\n",
              "      <td>0.0000</td>\n",
              "      <td>0.00000</td>\n",
              "      <td>0.000000</td>\n",
              "      <td>0.00000</td>\n",
              "      <td>0.00000</td>\n",
              "      <td>1.000000</td>\n",
              "      <td>1.0</td>\n",
              "    </tr>\n",
              "    <tr>\n",
              "      <th>MENONLY</th>\n",
              "      <td>7164.0</td>\n",
              "      <td>0.009213</td>\n",
              "      <td>0.095546</td>\n",
              "      <td>0.0</td>\n",
              "      <td>0.0000</td>\n",
              "      <td>0.0000</td>\n",
              "      <td>0.0000</td>\n",
              "      <td>0.0000</td>\n",
              "      <td>0.00000</td>\n",
              "      <td>0.000000</td>\n",
              "      <td>0.00000</td>\n",
              "      <td>0.00000</td>\n",
              "      <td>0.000000</td>\n",
              "      <td>1.0</td>\n",
              "    </tr>\n",
              "    <tr>\n",
              "      <th>...</th>\n",
              "      <td>...</td>\n",
              "      <td>...</td>\n",
              "      <td>...</td>\n",
              "      <td>...</td>\n",
              "      <td>...</td>\n",
              "      <td>...</td>\n",
              "      <td>...</td>\n",
              "      <td>...</td>\n",
              "      <td>...</td>\n",
              "      <td>...</td>\n",
              "      <td>...</td>\n",
              "      <td>...</td>\n",
              "      <td>...</td>\n",
              "      <td>...</td>\n",
              "    </tr>\n",
              "    <tr>\n",
              "      <th>PCTFLOAN</th>\n",
              "      <td>6849.0</td>\n",
              "      <td>0.522211</td>\n",
              "      <td>0.283616</td>\n",
              "      <td>0.0</td>\n",
              "      <td>0.0000</td>\n",
              "      <td>0.0000</td>\n",
              "      <td>0.0000</td>\n",
              "      <td>0.3329</td>\n",
              "      <td>0.58330</td>\n",
              "      <td>0.745000</td>\n",
              "      <td>0.84752</td>\n",
              "      <td>0.89792</td>\n",
              "      <td>0.986368</td>\n",
              "      <td>1.0</td>\n",
              "    </tr>\n",
              "    <tr>\n",
              "      <th>UG25ABV</th>\n",
              "      <td>6718.0</td>\n",
              "      <td>0.410021</td>\n",
              "      <td>0.228939</td>\n",
              "      <td>0.0</td>\n",
              "      <td>0.0025</td>\n",
              "      <td>0.0374</td>\n",
              "      <td>0.0899</td>\n",
              "      <td>0.2415</td>\n",
              "      <td>0.40075</td>\n",
              "      <td>0.572275</td>\n",
              "      <td>0.72666</td>\n",
              "      <td>0.80000</td>\n",
              "      <td>0.917383</td>\n",
              "      <td>1.0</td>\n",
              "    </tr>\n",
              "  </tbody>\n",
              "</table>\n",
              "<p>22 rows × 14 columns</p>\n",
              "</div>"
            ],
            "text/plain": [
              "           count      mean       std  min      1%      5%     10%     25%  \\\n",
              "HBCU      7164.0  0.014238  0.118478  0.0  0.0000  0.0000  0.0000  0.0000   \n",
              "MENONLY   7164.0  0.009213  0.095546  0.0  0.0000  0.0000  0.0000  0.0000   \n",
              "...          ...       ...       ...  ...     ...     ...     ...     ...   \n",
              "PCTFLOAN  6849.0  0.522211  0.283616  0.0  0.0000  0.0000  0.0000  0.3329   \n",
              "UG25ABV   6718.0  0.410021  0.228939  0.0  0.0025  0.0374  0.0899  0.2415   \n",
              "\n",
              "              50%       75%      90%      95%       99%  max  \n",
              "HBCU      0.00000  0.000000  0.00000  0.00000  1.000000  1.0  \n",
              "MENONLY   0.00000  0.000000  0.00000  0.00000  0.000000  1.0  \n",
              "...           ...       ...      ...      ...       ...  ...  \n",
              "PCTFLOAN  0.58330  0.745000  0.84752  0.89792  0.986368  1.0  \n",
              "UG25ABV   0.40075  0.572275  0.72666  0.80000  0.917383  1.0  \n",
              "\n",
              "[22 rows x 14 columns]"
            ]
          },
          "metadata": {
            "tags": []
          }
        }
      ]
    },
    {
      "cell_type": "markdown",
      "metadata": {
        "id": "lfVzo7Ei_ZxO",
        "colab_type": "text"
      },
      "source": [
        "# Data Dictionary"
      ]
    },
    {
      "cell_type": "markdown",
      "metadata": {
        "id": "xm81slNW_6Gg",
        "colab_type": "text"
      },
      "source": [
        "A crucial part of a data analysis involves creating and maintaining a data dictionary. A data dictionary is a table of metadata and notes on each column of data. One of the primary purposes of a data dictionary is to explain the meaning of the column names. The college dataset uses a lot of abbreviations that are likely to be unfamiliar to an analyst who is inspecting it for the first time.\n",
        "\n",
        "A data dictionary for the college dataset is provided in the following college_data_dictionary.csv file:\n",
        "\n"
      ]
    },
    {
      "cell_type": "code",
      "metadata": {
        "id": "KWeMSKsH0dov",
        "colab_type": "code",
        "colab": {}
      },
      "source": [
        "data_dict_raw = 'https://raw.githubusercontent.com/Blackman9t/PandasCookbook/master/college_data_dictionary.csv'\n",
        "college_dd = pd.read_csv(data_dict_raw)"
      ],
      "execution_count": 0,
      "outputs": []
    },
    {
      "cell_type": "code",
      "metadata": {
        "id": "4cRpG3Xk0doy",
        "colab_type": "code",
        "colab": {
          "base_uri": "https://localhost:8080/",
          "height": 402
        },
        "outputId": "ae7ef5fd-4e68-4f9f-ad57-bf3774cc90bf"
      },
      "source": [
        "with pd.option_context('display.max_rows', 10):\n",
        "    display(college_dd)"
      ],
      "execution_count": 24,
      "outputs": [
        {
          "output_type": "display_data",
          "data": {
            "text/html": [
              "<div>\n",
              "<style scoped>\n",
              "    .dataframe tbody tr th:only-of-type {\n",
              "        vertical-align: middle;\n",
              "    }\n",
              "\n",
              "    .dataframe tbody tr th {\n",
              "        vertical-align: top;\n",
              "    }\n",
              "\n",
              "    .dataframe thead th {\n",
              "        text-align: right;\n",
              "    }\n",
              "</style>\n",
              "<table border=\"1\" class=\"dataframe\">\n",
              "  <thead>\n",
              "    <tr style=\"text-align: right;\">\n",
              "      <th></th>\n",
              "      <th>column_name</th>\n",
              "      <th>description</th>\n",
              "    </tr>\n",
              "  </thead>\n",
              "  <tbody>\n",
              "    <tr>\n",
              "      <th>0</th>\n",
              "      <td>INSTNM</td>\n",
              "      <td>Institution Name</td>\n",
              "    </tr>\n",
              "    <tr>\n",
              "      <th>1</th>\n",
              "      <td>CITY</td>\n",
              "      <td>City Location</td>\n",
              "    </tr>\n",
              "    <tr>\n",
              "      <th>2</th>\n",
              "      <td>STABBR</td>\n",
              "      <td>State Abbreviation</td>\n",
              "    </tr>\n",
              "    <tr>\n",
              "      <th>3</th>\n",
              "      <td>HBCU</td>\n",
              "      <td>Historically Black College or University</td>\n",
              "    </tr>\n",
              "    <tr>\n",
              "      <th>4</th>\n",
              "      <td>MENONLY</td>\n",
              "      <td>0/1 Men Only</td>\n",
              "    </tr>\n",
              "    <tr>\n",
              "      <th>...</th>\n",
              "      <td>...</td>\n",
              "      <td>...</td>\n",
              "    </tr>\n",
              "    <tr>\n",
              "      <th>22</th>\n",
              "      <td>PCTPELL</td>\n",
              "      <td>Percent Students with Pell grant</td>\n",
              "    </tr>\n",
              "    <tr>\n",
              "      <th>23</th>\n",
              "      <td>PCTFLOAN</td>\n",
              "      <td>Percent Students with federal loan</td>\n",
              "    </tr>\n",
              "    <tr>\n",
              "      <th>24</th>\n",
              "      <td>UG25ABV</td>\n",
              "      <td>Percent Students Older than 25</td>\n",
              "    </tr>\n",
              "    <tr>\n",
              "      <th>25</th>\n",
              "      <td>MD_EARN_WNE_P10</td>\n",
              "      <td>Median Earnings 10 years after enrollment</td>\n",
              "    </tr>\n",
              "    <tr>\n",
              "      <th>26</th>\n",
              "      <td>GRAD_DEBT_MDN_SUPP</td>\n",
              "      <td>Median debt of completers</td>\n",
              "    </tr>\n",
              "  </tbody>\n",
              "</table>\n",
              "<p>27 rows × 2 columns</p>\n",
              "</div>"
            ],
            "text/plain": [
              "           column_name                                description\n",
              "0               INSTNM                           Institution Name\n",
              "1                 CITY                              City Location\n",
              "2               STABBR                         State Abbreviation\n",
              "3                 HBCU   Historically Black College or University\n",
              "4              MENONLY                               0/1 Men Only\n",
              "..                 ...                                        ...\n",
              "22             PCTPELL           Percent Students with Pell grant\n",
              "23            PCTFLOAN         Percent Students with federal loan\n",
              "24             UG25ABV             Percent Students Older than 25\n",
              "25     MD_EARN_WNE_P10  Median Earnings 10 years after enrollment\n",
              "26  GRAD_DEBT_MDN_SUPP                  Median debt of completers\n",
              "\n",
              "[27 rows x 2 columns]"
            ]
          },
          "metadata": {
            "tags": []
          }
        }
      ]
    },
    {
      "cell_type": "markdown",
      "metadata": {
        "id": "snG_NmIDA8hV",
        "colab_type": "text"
      },
      "source": [
        "As you can see, it is immensely helpful in deciphering the abbreviated column names. DataFrames are actually not the best place to store data dictionaries. A platform such as Excel or Google Sheets with easy ability to edit values and append columns is a better choice. Minimally, a column to keep track of notes on the data should be included in a data dictionary. A data dictionary is one of the first things that you can share as an analyst to collaborators.\n",
        "\n",
        "It will often be the case that the dataset you are working with originated from a database whose administrators you will have to contact in order to get more information. Formal electronic databases generally have more formal representations of their data, called schemas. If possible, attempt to investigate your dataset with people who have expert knowledge on its design."
      ]
    },
    {
      "cell_type": "markdown",
      "metadata": {
        "id": "EAZ2MhOP0do4",
        "colab_type": "text"
      },
      "source": [
        "# Reducing memory by changing data types"
      ]
    },
    {
      "cell_type": "markdown",
      "metadata": {
        "id": "Vl0W-lY0BgVI",
        "colab_type": "text"
      },
      "source": [
        "Pandas does not broadly classify data as either continuous or categorical but has precise technical definitions for many distinct data types.\n",
        "\n",
        "Getting ready\n",
        "This recipe changes the data type of one of the object columns from the college dataset to the special pandas Categorical data type to drastically reduce its memory usage.\n",
        "\n",
        "How to do it...\n",
        "After reading in our college dataset, we select a few columns of different data types that will clearly show how much memory may be saved:"
      ]
    },
    {
      "cell_type": "code",
      "metadata": {
        "id": "dHArGyeF0do8",
        "colab_type": "code",
        "colab": {
          "base_uri": "https://localhost:8080/",
          "height": 195
        },
        "outputId": "f4c98b24-89c4-4982-df13-e8385aab3a01"
      },
      "source": [
        "different_cols = ['RELAFFIL', 'SATMTMID', 'CURROPER', 'INSTNM', 'STABBR']\n",
        "college[different_cols].dtypes\n",
        "\n",
        "col2 = college.loc[:, different_cols]\n",
        "col2.head()"
      ],
      "execution_count": 56,
      "outputs": [
        {
          "output_type": "execute_result",
          "data": {
            "text/html": [
              "<div>\n",
              "<style scoped>\n",
              "    .dataframe tbody tr th:only-of-type {\n",
              "        vertical-align: middle;\n",
              "    }\n",
              "\n",
              "    .dataframe tbody tr th {\n",
              "        vertical-align: top;\n",
              "    }\n",
              "\n",
              "    .dataframe thead th {\n",
              "        text-align: right;\n",
              "    }\n",
              "</style>\n",
              "<table border=\"1\" class=\"dataframe\">\n",
              "  <thead>\n",
              "    <tr style=\"text-align: right;\">\n",
              "      <th></th>\n",
              "      <th>RELAFFIL</th>\n",
              "      <th>SATMTMID</th>\n",
              "      <th>CURROPER</th>\n",
              "      <th>INSTNM</th>\n",
              "      <th>STABBR</th>\n",
              "    </tr>\n",
              "  </thead>\n",
              "  <tbody>\n",
              "    <tr>\n",
              "      <th>0</th>\n",
              "      <td>0</td>\n",
              "      <td>420.0</td>\n",
              "      <td>1</td>\n",
              "      <td>Alabama A &amp; M University</td>\n",
              "      <td>AL</td>\n",
              "    </tr>\n",
              "    <tr>\n",
              "      <th>1</th>\n",
              "      <td>0</td>\n",
              "      <td>565.0</td>\n",
              "      <td>1</td>\n",
              "      <td>University of Alabama at Birmingham</td>\n",
              "      <td>AL</td>\n",
              "    </tr>\n",
              "    <tr>\n",
              "      <th>2</th>\n",
              "      <td>1</td>\n",
              "      <td>NaN</td>\n",
              "      <td>1</td>\n",
              "      <td>Amridge University</td>\n",
              "      <td>AL</td>\n",
              "    </tr>\n",
              "    <tr>\n",
              "      <th>3</th>\n",
              "      <td>0</td>\n",
              "      <td>590.0</td>\n",
              "      <td>1</td>\n",
              "      <td>University of Alabama in Huntsville</td>\n",
              "      <td>AL</td>\n",
              "    </tr>\n",
              "    <tr>\n",
              "      <th>4</th>\n",
              "      <td>0</td>\n",
              "      <td>430.0</td>\n",
              "      <td>1</td>\n",
              "      <td>Alabama State University</td>\n",
              "      <td>AL</td>\n",
              "    </tr>\n",
              "  </tbody>\n",
              "</table>\n",
              "</div>"
            ],
            "text/plain": [
              "   RELAFFIL  SATMTMID  CURROPER                               INSTNM STABBR\n",
              "0         0     420.0         1             Alabama A & M University     AL\n",
              "1         0     565.0         1  University of Alabama at Birmingham     AL\n",
              "2         1       NaN         1                   Amridge University     AL\n",
              "3         0     590.0         1  University of Alabama in Huntsville     AL\n",
              "4         0     430.0         1             Alabama State University     AL"
            ]
          },
          "metadata": {
            "tags": []
          },
          "execution_count": 56
        }
      ]
    },
    {
      "cell_type": "markdown",
      "metadata": {
        "id": "_5QUZ_cgO5L0",
        "colab_type": "text"
      },
      "source": [
        "Let's check the original memory of col2"
      ]
    },
    {
      "cell_type": "code",
      "metadata": {
        "id": "9urg1QlXO_fa",
        "colab_type": "code",
        "colab": {
          "base_uri": "https://localhost:8080/",
          "height": 134
        },
        "outputId": "51ef3c4c-1bf7-4d9b-8be0-aab27ce045b8"
      },
      "source": [
        "original_mem = col2.memory_usage(deep=True)\n",
        "original_mem"
      ],
      "execution_count": 57,
      "outputs": [
        {
          "output_type": "execute_result",
          "data": {
            "text/plain": [
              "Index           80\n",
              "RELAFFIL      7535\n",
              "SATMTMID     60280\n",
              "CURROPER     60280\n",
              "INSTNM      660699\n",
              "STABBR      444565\n",
              "dtype: int64"
            ]
          },
          "metadata": {
            "tags": []
          },
          "execution_count": 57
        }
      ]
    },
    {
      "cell_type": "code",
      "metadata": {
        "id": "su4z-RPP0do5",
        "colab_type": "code",
        "colab": {}
      },
      "source": [
        "college['RELAFFIL'] = college['RELAFFIL'].astype(np.int8)"
      ],
      "execution_count": 0,
      "outputs": []
    },
    {
      "cell_type": "markdown",
      "metadata": {
        "id": "Q7GHh0RSCphG",
        "colab_type": "text"
      },
      "source": [
        "Inspect the data types of each column:"
      ]
    },
    {
      "cell_type": "code",
      "metadata": {
        "id": "KB-umRmjCtRO",
        "colab_type": "code",
        "colab": {
          "base_uri": "https://localhost:8080/",
          "height": 118
        },
        "outputId": "757039dd-2ebc-4954-ad6d-2a90a28cb1ee"
      },
      "source": [
        "col2.dtypes"
      ],
      "execution_count": 58,
      "outputs": [
        {
          "output_type": "execute_result",
          "data": {
            "text/plain": [
              "RELAFFIL       int8\n",
              "SATMTMID    float64\n",
              "CURROPER      int64\n",
              "INSTNM       object\n",
              "STABBR       object\n",
              "dtype: object"
            ]
          },
          "metadata": {
            "tags": []
          },
          "execution_count": 58
        }
      ]
    },
    {
      "cell_type": "markdown",
      "metadata": {
        "id": "S1DUo05NC7PX",
        "colab_type": "text"
      },
      "source": [
        "Find the memory usage of each column with the memory_usage method:"
      ]
    },
    {
      "cell_type": "code",
      "metadata": {
        "id": "cK9BnpXN0do_",
        "colab_type": "code",
        "colab": {
          "base_uri": "https://localhost:8080/",
          "height": 134
        },
        "outputId": "53c1bdec-5d6a-45ab-eae9-eb6c7524f244"
      },
      "source": [
        "col2[different_cols].memory_usage(deep=True)"
      ],
      "execution_count": 59,
      "outputs": [
        {
          "output_type": "execute_result",
          "data": {
            "text/plain": [
              "Index           80\n",
              "RELAFFIL      7535\n",
              "SATMTMID     60280\n",
              "CURROPER     60280\n",
              "INSTNM      660699\n",
              "STABBR      444565\n",
              "dtype: int64"
            ]
          },
          "metadata": {
            "tags": []
          },
          "execution_count": 59
        }
      ]
    },
    {
      "cell_type": "markdown",
      "metadata": {
        "id": "jRls7xq4J0cA",
        "colab_type": "text"
      },
      "source": [
        "There is no need to use 64 bits for the CURROPER column as it contains only 0/1 values. Let's convert this column to an 8-bit (1 byte) integer with the astype method:"
      ]
    },
    {
      "cell_type": "code",
      "metadata": {
        "id": "7v0KQHV2J5Xc",
        "colab_type": "code",
        "colab": {}
      },
      "source": [
        "col2.CURROPER = col2.CURROPER.astype('int8')"
      ],
      "execution_count": 0,
      "outputs": []
    },
    {
      "cell_type": "markdown",
      "metadata": {
        "id": "7clHPVERKYoF",
        "colab_type": "text"
      },
      "source": [
        "Use the dtypes attribute to confirm the data type change:\n"
      ]
    },
    {
      "cell_type": "code",
      "metadata": {
        "id": "2-o_uE5QKXQ3",
        "colab_type": "code",
        "colab": {
          "base_uri": "https://localhost:8080/",
          "height": 118
        },
        "outputId": "ef93a261-4ebb-4fe5-9c35-10c802086d5b"
      },
      "source": [
        "col2.dtypes"
      ],
      "execution_count": 61,
      "outputs": [
        {
          "output_type": "execute_result",
          "data": {
            "text/plain": [
              "RELAFFIL       int8\n",
              "SATMTMID    float64\n",
              "CURROPER       int8\n",
              "INSTNM       object\n",
              "STABBR       object\n",
              "dtype: object"
            ]
          },
          "metadata": {
            "tags": []
          },
          "execution_count": 61
        }
      ]
    },
    {
      "cell_type": "markdown",
      "metadata": {
        "id": "dQ4JdjOAKlPN",
        "colab_type": "text"
      },
      "source": [
        "To save even more memory, you will want to consider changing object data types to categorical if they have a reasonably low cardinality (number of unique values). Let's first check the number of unique values for both the object columns:"
      ]
    },
    {
      "cell_type": "code",
      "metadata": {
        "id": "YQaKRRXkMe5T",
        "colab_type": "code",
        "colab": {
          "base_uri": "https://localhost:8080/",
          "height": 67
        },
        "outputId": "b9dba46c-7be5-4657-d4aa-20d4d56aa88d"
      },
      "source": [
        "col2.select_dtypes(include=['object']).nunique()  # selecting object data types and checking count of unique elements using nunique() param"
      ],
      "execution_count": 62,
      "outputs": [
        {
          "output_type": "execute_result",
          "data": {
            "text/plain": [
              "INSTNM    7535\n",
              "STABBR      59\n",
              "dtype: int64"
            ]
          },
          "metadata": {
            "tags": []
          },
          "execution_count": 62
        }
      ]
    },
    {
      "cell_type": "markdown",
      "metadata": {
        "id": "WPipndyQNUkV",
        "colab_type": "text"
      },
      "source": [
        "The STABBR column is a good candidate to convert to Categorical as less than one percent of its values are unique:"
      ]
    },
    {
      "cell_type": "code",
      "metadata": {
        "id": "-Qn1tLZBNXB0",
        "colab_type": "code",
        "colab": {
          "base_uri": "https://localhost:8080/",
          "height": 118
        },
        "outputId": "e71bd3af-750d-449d-d4ea-dac114096ded"
      },
      "source": [
        "col2.STABBR = col2.STABBR.astype('category')\n",
        "\n",
        "col2.dtypes"
      ],
      "execution_count": 63,
      "outputs": [
        {
          "output_type": "execute_result",
          "data": {
            "text/plain": [
              "RELAFFIL        int8\n",
              "SATMTMID     float64\n",
              "CURROPER        int8\n",
              "INSTNM        object\n",
              "STABBR      category\n",
              "dtype: object"
            ]
          },
          "metadata": {
            "tags": []
          },
          "execution_count": 63
        }
      ]
    },
    {
      "cell_type": "markdown",
      "metadata": {
        "id": "IDJ9AVrfN25h",
        "colab_type": "text"
      },
      "source": [
        "Compute the memory usage again:"
      ]
    },
    {
      "cell_type": "code",
      "metadata": {
        "id": "l6u37NasN4O3",
        "colab_type": "code",
        "colab": {
          "base_uri": "https://localhost:8080/",
          "height": 134
        },
        "outputId": "4f7493d3-2b65-42ae-9c29-c8f19a7785aa"
      },
      "source": [
        "new_mem = col2.memory_usage(deep=True)\n",
        "new_mem"
      ],
      "execution_count": 64,
      "outputs": [
        {
          "output_type": "execute_result",
          "data": {
            "text/plain": [
              "Index           80\n",
              "RELAFFIL      7535\n",
              "SATMTMID     60280\n",
              "CURROPER      7535\n",
              "INSTNM      660699\n",
              "STABBR       13576\n",
              "dtype: int64"
            ]
          },
          "metadata": {
            "tags": []
          },
          "execution_count": 64
        }
      ]
    },
    {
      "cell_type": "markdown",
      "metadata": {
        "id": "RVtU_PaVOVd7",
        "colab_type": "text"
      },
      "source": [
        "Finally, let's compare the original memory usage with our updated memory usage. The RELAFFIL column is, as expected, an eighth of its original, while the STABBR column has shrunk to just three percent of its original size:\n"
      ]
    },
    {
      "cell_type": "code",
      "metadata": {
        "id": "pC-FvsK_PbcY",
        "colab_type": "code",
        "colab": {
          "base_uri": "https://localhost:8080/",
          "height": 134
        },
        "outputId": "6f81f64e-706d-4216-aa7f-3aa6b04c0b6b"
      },
      "source": [
        "pct_mem = new_mem / original_mem\n",
        "\n",
        "pct_mem"
      ],
      "execution_count": 65,
      "outputs": [
        {
          "output_type": "execute_result",
          "data": {
            "text/plain": [
              "Index       1.000000\n",
              "RELAFFIL    1.000000\n",
              "SATMTMID    1.000000\n",
              "CURROPER    0.125000\n",
              "INSTNM      1.000000\n",
              "STABBR      0.030538\n",
              "dtype: float64"
            ]
          },
          "metadata": {
            "tags": []
          },
          "execution_count": 65
        }
      ]
    },
    {
      "cell_type": "markdown",
      "metadata": {
        "id": "RaPjw13lP81W",
        "colab_type": "text"
      },
      "source": [
        "How it works...\n",
        "Pandas defaults integer and float data types to 64 bits regardless of the maximum necessary size for the particular DataFrame. Integers, floats, and even booleans may be coerced to a different data type with the astype method and passing it the exact type, either as a string or specific object, as done in step 4.\n",
        "\n",
        "The RELAFFIL column is a good choice to cast to a smaller integer type as the data dictionary explains that its values must be 0/1. \n",
        "\n",
        "<font color='khaki'>Note<br>\n",
        "The memory units displayed are in bytes and not bits. One byte is equivalent to 8 bits, so when RELAFFIL was changed to an 8-bit integer, it uses one 1 byte of memory and as there are 7,535 rows, its memory footprint is equivalent to 7,535 bytes."
      ]
    },
    {
      "cell_type": "markdown",
      "metadata": {
        "id": "gbDdj7dnQxiv",
        "colab_type": "text"
      },
      "source": [
        "Columns that are object data type, such as INSTNM, are not like the other pandas data types. For all the other pandas data types, each value in that column is the same data type. For instance, when a column has the int64 type, every individual column value is also int64. This is not true for columns that are object data type. Each individual column value can be of any type. Object data types can have a mix of strings, numerics, datetimes, or even other Python objects such as lists or tuples. For this reason, the object data type is sometimes referred to as a catch-all for a column of data that doesn't match any of the other data types. The vast majority of the time, though, object data type columns will all be strings.\n",
        "\n",
        "<font color='khaki'>Note<br>\n",
        "Relational database management systems such as Microsoft's SQL Server or PostgreSQL have specific data types for characters such as varchar, text, or nchar that also usually specify a maximum number of characters. Pandas object data type is a much broader data type. Every value in an object column can be of any data type."
      ]
    },
    {
      "cell_type": "markdown",
      "metadata": {
        "id": "_w4WJa6URSGt",
        "colab_type": "text"
      },
      "source": [
        "Therefore, the memory of each individual value in an object data type column is inconsistent. There is no predefined amount of memory for each value like the other data types. For pandas to extract the exact amount of memory of an object data type column, the deep parameter must be set to True in the memory_usage method.\n",
        "\n",
        "Object columns are targets for the largest memory savings. Pandas has an additional categorical data type that is not available in NumPy. When converting to category, pandas internally creates a mapping from integers to each unique string value. Thus, each string only needs to be kept a single time in memory. As you can see, this simple change of data type reduced memory usage by 97%.\n",
        "\n",
        "You might also have noticed that the index uses an extremely low amount of memory. If no index is specified during DataFrame creation, as is the case in this recipe, pandas defaults the index to a RangeIndex. The RangeIndex is very similar to the built-in range function. It produces values on demand and only stores the minimum amount of information needed to create an index."
      ]
    },
    {
      "cell_type": "markdown",
      "metadata": {
        "id": "-o2Li2AY0dpB",
        "colab_type": "text"
      },
      "source": [
        "## There's more..."
      ]
    },
    {
      "cell_type": "code",
      "metadata": {
        "id": "Z-z30qfN0dpC",
        "colab_type": "code",
        "colab": {}
      },
      "source": [
        "college = pd.read_csv(college_raw)"
      ],
      "execution_count": 0,
      "outputs": []
    },
    {
      "cell_type": "code",
      "metadata": {
        "id": "_RospNzg0dpE",
        "colab_type": "code",
        "colab": {
          "base_uri": "https://localhost:8080/",
          "height": 84
        },
        "outputId": "4e7f8b40-ccf4-4358-9a6e-de7b331dae05"
      },
      "source": [
        "college[['CURROPER', 'INSTNM']].memory_usage(deep=True)"
      ],
      "execution_count": 67,
      "outputs": [
        {
          "output_type": "execute_result",
          "data": {
            "text/plain": [
              "Index           80\n",
              "CURROPER     60280\n",
              "INSTNM      660240\n",
              "dtype: int64"
            ]
          },
          "metadata": {
            "tags": []
          },
          "execution_count": 67
        }
      ]
    },
    {
      "cell_type": "markdown",
      "metadata": {
        "id": "VOAmueI2SBbG",
        "colab_type": "text"
      },
      "source": [
        "To get a better idea of how object data type columns differ from integers and floats, a single value from each one of these columns can be modified and the resulting memory usage displayed. The CURROPER and INSTNM columns are of int64 and object types, respectively:"
      ]
    },
    {
      "cell_type": "code",
      "metadata": {
        "id": "Rd748b2-0dpI",
        "colab_type": "code",
        "colab": {
          "base_uri": "https://localhost:8080/",
          "height": 84
        },
        "outputId": "5a2b02cd-5849-4af9-93b7-43fff47ca070"
      },
      "source": [
        "college.loc[0, 'CURROPER'] = 10000000\n",
        "college.loc[0, 'INSTNM'] = college.loc[0, 'INSTNM'] + 'a'\n",
        "# college.loc[1, 'INSTNM'] = college.loc[1, 'INSTNM'] + 'a'\n",
        "college[['CURROPER', 'INSTNM']].memory_usage(deep=True)"
      ],
      "execution_count": 68,
      "outputs": [
        {
          "output_type": "execute_result",
          "data": {
            "text/plain": [
              "Index           80\n",
              "CURROPER     60280\n",
              "INSTNM      660345\n",
              "dtype: int64"
            ]
          },
          "metadata": {
            "tags": []
          },
          "execution_count": 68
        }
      ]
    },
    {
      "cell_type": "markdown",
      "metadata": {
        "id": "1qbxZcYgS2e0",
        "colab_type": "text"
      },
      "source": [
        "Memory usage for CURROPER remained the same since a 64-bit integer is more than enough space for the larger number. On the other hand, the memory usage for INSTNM increased by 105 bytes by just adding a single letter to one value."
      ]
    },
    {
      "cell_type": "markdown",
      "metadata": {
        "id": "Rx4JbHKDTBh6",
        "colab_type": "text"
      },
      "source": [
        "<font color='khaki'>Note<br>\n",
        "Python 3 uses Unicode, a standardized character representation intended to encode all the world's writing systems. Unicode uses up to 4 bytes per character. It seems that pandas has some overhead (100 bytes) when making the first modification to a character value. Afterward, increments of 5 bytes per character are sustained."
      ]
    },
    {
      "cell_type": "markdown",
      "metadata": {
        "id": "dkg7GUYKTVI7",
        "colab_type": "text"
      },
      "source": [
        "Not all columns can be coerced to the desired type. Take a look at the MENONLY column, which from the data dictionary appears to contain only 0/1 values. The actual data type of this column upon import unexpectedly turns out to be float64. The reason for this is that there happen to be missing values, denoted by np.nan. There is no integer representation for missing values. Any numeric column with even a single missing value must be a float. Furthermore, any column of an integer data type will automatically be coerced to a float if one of the values becomes missing:"
      ]
    },
    {
      "cell_type": "code",
      "metadata": {
        "id": "Rt1RlIb80dpL",
        "colab_type": "code",
        "colab": {
          "base_uri": "https://localhost:8080/",
          "height": 34
        },
        "outputId": "ba113640-6f5e-4ead-aeca-767c1905e3ea"
      },
      "source": [
        "college['MENONLY'].dtype"
      ],
      "execution_count": 69,
      "outputs": [
        {
          "output_type": "execute_result",
          "data": {
            "text/plain": [
              "dtype('float64')"
            ]
          },
          "metadata": {
            "tags": []
          },
          "execution_count": 69
        }
      ]
    },
    {
      "cell_type": "code",
      "metadata": {
        "id": "-1lCXcRj0dpP",
        "colab_type": "code",
        "colab": {}
      },
      "source": [
        "# college['MENONLY'].astype('int8') # ValueError: Cannot convert non-finite values (NA or inf) to integer\n",
        "\n",
        "# ValueError: Cannot convert non-finite values (NA or inf) to integer"
      ],
      "execution_count": 0,
      "outputs": []
    },
    {
      "cell_type": "markdown",
      "metadata": {
        "id": "rKomHKSjT_ka",
        "colab_type": "text"
      },
      "source": [
        "Additionally, it is possible to substitute string names in place of Python objects when referring to data types. For instance, when using the include parameter in the describe DataFame method, it is possible to pass a list of either the formal object NumPy/pandas object or their equivalent string representation"
      ]
    },
    {
      "cell_type": "code",
      "metadata": {
        "id": "M_0Xjt6s0dpR",
        "colab_type": "code",
        "colab": {
          "base_uri": "https://localhost:8080/",
          "height": 342
        },
        "outputId": "0bc9dd71-360f-49c4-89c5-6bb4c0b516e8"
      },
      "source": [
        "college.describe(include=['int64', 'float64']).T"
      ],
      "execution_count": 72,
      "outputs": [
        {
          "output_type": "execute_result",
          "data": {
            "text/html": [
              "<div>\n",
              "<style scoped>\n",
              "    .dataframe tbody tr th:only-of-type {\n",
              "        vertical-align: middle;\n",
              "    }\n",
              "\n",
              "    .dataframe tbody tr th {\n",
              "        vertical-align: top;\n",
              "    }\n",
              "\n",
              "    .dataframe thead th {\n",
              "        text-align: right;\n",
              "    }\n",
              "</style>\n",
              "<table border=\"1\" class=\"dataframe\">\n",
              "  <thead>\n",
              "    <tr style=\"text-align: right;\">\n",
              "      <th></th>\n",
              "      <th>count</th>\n",
              "      <th>mean</th>\n",
              "      <th>std</th>\n",
              "      <th>min</th>\n",
              "      <th>25%</th>\n",
              "      <th>50%</th>\n",
              "      <th>75%</th>\n",
              "      <th>max</th>\n",
              "    </tr>\n",
              "  </thead>\n",
              "  <tbody>\n",
              "    <tr>\n",
              "      <th>HBCU</th>\n",
              "      <td>7164.0</td>\n",
              "      <td>0.014238</td>\n",
              "      <td>0.118478</td>\n",
              "      <td>0.0</td>\n",
              "      <td>0.0000</td>\n",
              "      <td>0.00000</td>\n",
              "      <td>0.000000</td>\n",
              "      <td>1.0</td>\n",
              "    </tr>\n",
              "    <tr>\n",
              "      <th>MENONLY</th>\n",
              "      <td>7164.0</td>\n",
              "      <td>0.009213</td>\n",
              "      <td>0.095546</td>\n",
              "      <td>0.0</td>\n",
              "      <td>0.0000</td>\n",
              "      <td>0.00000</td>\n",
              "      <td>0.000000</td>\n",
              "      <td>1.0</td>\n",
              "    </tr>\n",
              "    <tr>\n",
              "      <th>WOMENONLY</th>\n",
              "      <td>7164.0</td>\n",
              "      <td>0.005304</td>\n",
              "      <td>0.072642</td>\n",
              "      <td>0.0</td>\n",
              "      <td>0.0000</td>\n",
              "      <td>0.00000</td>\n",
              "      <td>0.000000</td>\n",
              "      <td>1.0</td>\n",
              "    </tr>\n",
              "    <tr>\n",
              "      <th>RELAFFIL</th>\n",
              "      <td>7535.0</td>\n",
              "      <td>0.190975</td>\n",
              "      <td>0.393096</td>\n",
              "      <td>0.0</td>\n",
              "      <td>0.0000</td>\n",
              "      <td>0.00000</td>\n",
              "      <td>0.000000</td>\n",
              "      <td>1.0</td>\n",
              "    </tr>\n",
              "    <tr>\n",
              "      <th>...</th>\n",
              "      <td>...</td>\n",
              "      <td>...</td>\n",
              "      <td>...</td>\n",
              "      <td>...</td>\n",
              "      <td>...</td>\n",
              "      <td>...</td>\n",
              "      <td>...</td>\n",
              "      <td>...</td>\n",
              "    </tr>\n",
              "    <tr>\n",
              "      <th>CURROPER</th>\n",
              "      <td>7535.0</td>\n",
              "      <td>1328.063172</td>\n",
              "      <td>115201.552429</td>\n",
              "      <td>0.0</td>\n",
              "      <td>1.0000</td>\n",
              "      <td>1.00000</td>\n",
              "      <td>1.000000</td>\n",
              "      <td>10000000.0</td>\n",
              "    </tr>\n",
              "    <tr>\n",
              "      <th>PCTPELL</th>\n",
              "      <td>6849.0</td>\n",
              "      <td>0.530643</td>\n",
              "      <td>0.225544</td>\n",
              "      <td>0.0</td>\n",
              "      <td>0.3578</td>\n",
              "      <td>0.52150</td>\n",
              "      <td>0.712900</td>\n",
              "      <td>1.0</td>\n",
              "    </tr>\n",
              "    <tr>\n",
              "      <th>PCTFLOAN</th>\n",
              "      <td>6849.0</td>\n",
              "      <td>0.522211</td>\n",
              "      <td>0.283616</td>\n",
              "      <td>0.0</td>\n",
              "      <td>0.3329</td>\n",
              "      <td>0.58330</td>\n",
              "      <td>0.745000</td>\n",
              "      <td>1.0</td>\n",
              "    </tr>\n",
              "    <tr>\n",
              "      <th>UG25ABV</th>\n",
              "      <td>6718.0</td>\n",
              "      <td>0.410021</td>\n",
              "      <td>0.228939</td>\n",
              "      <td>0.0</td>\n",
              "      <td>0.2415</td>\n",
              "      <td>0.40075</td>\n",
              "      <td>0.572275</td>\n",
              "      <td>1.0</td>\n",
              "    </tr>\n",
              "  </tbody>\n",
              "</table>\n",
              "<p>22 rows × 8 columns</p>\n",
              "</div>"
            ],
            "text/plain": [
              "            count         mean            std  min     25%      50%       75%  \\\n",
              "HBCU       7164.0     0.014238       0.118478  0.0  0.0000  0.00000  0.000000   \n",
              "MENONLY    7164.0     0.009213       0.095546  0.0  0.0000  0.00000  0.000000   \n",
              "WOMENONLY  7164.0     0.005304       0.072642  0.0  0.0000  0.00000  0.000000   \n",
              "RELAFFIL   7535.0     0.190975       0.393096  0.0  0.0000  0.00000  0.000000   \n",
              "...           ...          ...            ...  ...     ...      ...       ...   \n",
              "CURROPER   7535.0  1328.063172  115201.552429  0.0  1.0000  1.00000  1.000000   \n",
              "PCTPELL    6849.0     0.530643       0.225544  0.0  0.3578  0.52150  0.712900   \n",
              "PCTFLOAN   6849.0     0.522211       0.283616  0.0  0.3329  0.58330  0.745000   \n",
              "UG25ABV    6718.0     0.410021       0.228939  0.0  0.2415  0.40075  0.572275   \n",
              "\n",
              "                  max  \n",
              "HBCU              1.0  \n",
              "MENONLY           1.0  \n",
              "WOMENONLY         1.0  \n",
              "RELAFFIL          1.0  \n",
              "...               ...  \n",
              "CURROPER   10000000.0  \n",
              "PCTPELL           1.0  \n",
              "PCTFLOAN          1.0  \n",
              "UG25ABV           1.0  \n",
              "\n",
              "[22 rows x 8 columns]"
            ]
          },
          "metadata": {
            "tags": []
          },
          "execution_count": 72
        }
      ]
    },
    {
      "cell_type": "code",
      "metadata": {
        "id": "qd4kwuXa0dpU",
        "colab_type": "code",
        "colab": {
          "base_uri": "https://localhost:8080/",
          "height": 342
        },
        "outputId": "4ca00b46-87e3-4682-b581-a69b6cb69be6"
      },
      "source": [
        "college.describe(include=[np.int64, np.float64]).T"
      ],
      "execution_count": 73,
      "outputs": [
        {
          "output_type": "execute_result",
          "data": {
            "text/html": [
              "<div>\n",
              "<style scoped>\n",
              "    .dataframe tbody tr th:only-of-type {\n",
              "        vertical-align: middle;\n",
              "    }\n",
              "\n",
              "    .dataframe tbody tr th {\n",
              "        vertical-align: top;\n",
              "    }\n",
              "\n",
              "    .dataframe thead th {\n",
              "        text-align: right;\n",
              "    }\n",
              "</style>\n",
              "<table border=\"1\" class=\"dataframe\">\n",
              "  <thead>\n",
              "    <tr style=\"text-align: right;\">\n",
              "      <th></th>\n",
              "      <th>count</th>\n",
              "      <th>mean</th>\n",
              "      <th>std</th>\n",
              "      <th>min</th>\n",
              "      <th>25%</th>\n",
              "      <th>50%</th>\n",
              "      <th>75%</th>\n",
              "      <th>max</th>\n",
              "    </tr>\n",
              "  </thead>\n",
              "  <tbody>\n",
              "    <tr>\n",
              "      <th>HBCU</th>\n",
              "      <td>7164.0</td>\n",
              "      <td>0.014238</td>\n",
              "      <td>0.118478</td>\n",
              "      <td>0.0</td>\n",
              "      <td>0.0000</td>\n",
              "      <td>0.00000</td>\n",
              "      <td>0.000000</td>\n",
              "      <td>1.0</td>\n",
              "    </tr>\n",
              "    <tr>\n",
              "      <th>MENONLY</th>\n",
              "      <td>7164.0</td>\n",
              "      <td>0.009213</td>\n",
              "      <td>0.095546</td>\n",
              "      <td>0.0</td>\n",
              "      <td>0.0000</td>\n",
              "      <td>0.00000</td>\n",
              "      <td>0.000000</td>\n",
              "      <td>1.0</td>\n",
              "    </tr>\n",
              "    <tr>\n",
              "      <th>WOMENONLY</th>\n",
              "      <td>7164.0</td>\n",
              "      <td>0.005304</td>\n",
              "      <td>0.072642</td>\n",
              "      <td>0.0</td>\n",
              "      <td>0.0000</td>\n",
              "      <td>0.00000</td>\n",
              "      <td>0.000000</td>\n",
              "      <td>1.0</td>\n",
              "    </tr>\n",
              "    <tr>\n",
              "      <th>RELAFFIL</th>\n",
              "      <td>7535.0</td>\n",
              "      <td>0.190975</td>\n",
              "      <td>0.393096</td>\n",
              "      <td>0.0</td>\n",
              "      <td>0.0000</td>\n",
              "      <td>0.00000</td>\n",
              "      <td>0.000000</td>\n",
              "      <td>1.0</td>\n",
              "    </tr>\n",
              "    <tr>\n",
              "      <th>...</th>\n",
              "      <td>...</td>\n",
              "      <td>...</td>\n",
              "      <td>...</td>\n",
              "      <td>...</td>\n",
              "      <td>...</td>\n",
              "      <td>...</td>\n",
              "      <td>...</td>\n",
              "      <td>...</td>\n",
              "    </tr>\n",
              "    <tr>\n",
              "      <th>CURROPER</th>\n",
              "      <td>7535.0</td>\n",
              "      <td>1328.063172</td>\n",
              "      <td>115201.552429</td>\n",
              "      <td>0.0</td>\n",
              "      <td>1.0000</td>\n",
              "      <td>1.00000</td>\n",
              "      <td>1.000000</td>\n",
              "      <td>10000000.0</td>\n",
              "    </tr>\n",
              "    <tr>\n",
              "      <th>PCTPELL</th>\n",
              "      <td>6849.0</td>\n",
              "      <td>0.530643</td>\n",
              "      <td>0.225544</td>\n",
              "      <td>0.0</td>\n",
              "      <td>0.3578</td>\n",
              "      <td>0.52150</td>\n",
              "      <td>0.712900</td>\n",
              "      <td>1.0</td>\n",
              "    </tr>\n",
              "    <tr>\n",
              "      <th>PCTFLOAN</th>\n",
              "      <td>6849.0</td>\n",
              "      <td>0.522211</td>\n",
              "      <td>0.283616</td>\n",
              "      <td>0.0</td>\n",
              "      <td>0.3329</td>\n",
              "      <td>0.58330</td>\n",
              "      <td>0.745000</td>\n",
              "      <td>1.0</td>\n",
              "    </tr>\n",
              "    <tr>\n",
              "      <th>UG25ABV</th>\n",
              "      <td>6718.0</td>\n",
              "      <td>0.410021</td>\n",
              "      <td>0.228939</td>\n",
              "      <td>0.0</td>\n",
              "      <td>0.2415</td>\n",
              "      <td>0.40075</td>\n",
              "      <td>0.572275</td>\n",
              "      <td>1.0</td>\n",
              "    </tr>\n",
              "  </tbody>\n",
              "</table>\n",
              "<p>22 rows × 8 columns</p>\n",
              "</div>"
            ],
            "text/plain": [
              "            count         mean            std  min     25%      50%       75%  \\\n",
              "HBCU       7164.0     0.014238       0.118478  0.0  0.0000  0.00000  0.000000   \n",
              "MENONLY    7164.0     0.009213       0.095546  0.0  0.0000  0.00000  0.000000   \n",
              "WOMENONLY  7164.0     0.005304       0.072642  0.0  0.0000  0.00000  0.000000   \n",
              "RELAFFIL   7535.0     0.190975       0.393096  0.0  0.0000  0.00000  0.000000   \n",
              "...           ...          ...            ...  ...     ...      ...       ...   \n",
              "CURROPER   7535.0  1328.063172  115201.552429  0.0  1.0000  1.00000  1.000000   \n",
              "PCTPELL    6849.0     0.530643       0.225544  0.0  0.3578  0.52150  0.712900   \n",
              "PCTFLOAN   6849.0     0.522211       0.283616  0.0  0.3329  0.58330  0.745000   \n",
              "UG25ABV    6718.0     0.410021       0.228939  0.0  0.2415  0.40075  0.572275   \n",
              "\n",
              "                  max  \n",
              "HBCU              1.0  \n",
              "MENONLY           1.0  \n",
              "WOMENONLY         1.0  \n",
              "RELAFFIL          1.0  \n",
              "...               ...  \n",
              "CURROPER   10000000.0  \n",
              "PCTPELL           1.0  \n",
              "PCTFLOAN          1.0  \n",
              "UG25ABV           1.0  \n",
              "\n",
              "[22 rows x 8 columns]"
            ]
          },
          "metadata": {
            "tags": []
          },
          "execution_count": 73
        }
      ]
    },
    {
      "cell_type": "markdown",
      "metadata": {
        "id": "YfhEtw_6UPRP",
        "colab_type": "text"
      },
      "source": [
        "These strings can be similarly used when changing types:"
      ]
    },
    {
      "cell_type": "code",
      "metadata": {
        "id": "2EwNZ9yA0dpW",
        "colab_type": "code",
        "colab": {}
      },
      "source": [
        "college['RELAFFIL'] = college['RELAFFIL'].astype('int8')"
      ],
      "execution_count": 0,
      "outputs": []
    },
    {
      "cell_type": "code",
      "metadata": {
        "id": "kR5HJT0O0dpZ",
        "colab_type": "code",
        "colab": {
          "base_uri": "https://localhost:8080/",
          "height": 342
        },
        "outputId": "6bc5f297-79eb-4745-aa2f-0a6e50ddae47"
      },
      "source": [
        "college.describe(include=['int', 'float']).T  # defaults to 64 bit int/floats"
      ],
      "execution_count": 77,
      "outputs": [
        {
          "output_type": "execute_result",
          "data": {
            "text/html": [
              "<div>\n",
              "<style scoped>\n",
              "    .dataframe tbody tr th:only-of-type {\n",
              "        vertical-align: middle;\n",
              "    }\n",
              "\n",
              "    .dataframe tbody tr th {\n",
              "        vertical-align: top;\n",
              "    }\n",
              "\n",
              "    .dataframe thead th {\n",
              "        text-align: right;\n",
              "    }\n",
              "</style>\n",
              "<table border=\"1\" class=\"dataframe\">\n",
              "  <thead>\n",
              "    <tr style=\"text-align: right;\">\n",
              "      <th></th>\n",
              "      <th>count</th>\n",
              "      <th>mean</th>\n",
              "      <th>std</th>\n",
              "      <th>min</th>\n",
              "      <th>25%</th>\n",
              "      <th>50%</th>\n",
              "      <th>75%</th>\n",
              "      <th>max</th>\n",
              "    </tr>\n",
              "  </thead>\n",
              "  <tbody>\n",
              "    <tr>\n",
              "      <th>HBCU</th>\n",
              "      <td>7164.0</td>\n",
              "      <td>0.014238</td>\n",
              "      <td>0.118478</td>\n",
              "      <td>0.0</td>\n",
              "      <td>0.0000</td>\n",
              "      <td>0.00000</td>\n",
              "      <td>0.000000</td>\n",
              "      <td>1.0</td>\n",
              "    </tr>\n",
              "    <tr>\n",
              "      <th>MENONLY</th>\n",
              "      <td>7164.0</td>\n",
              "      <td>0.009213</td>\n",
              "      <td>0.095546</td>\n",
              "      <td>0.0</td>\n",
              "      <td>0.0000</td>\n",
              "      <td>0.00000</td>\n",
              "      <td>0.000000</td>\n",
              "      <td>1.0</td>\n",
              "    </tr>\n",
              "    <tr>\n",
              "      <th>WOMENONLY</th>\n",
              "      <td>7164.0</td>\n",
              "      <td>0.005304</td>\n",
              "      <td>0.072642</td>\n",
              "      <td>0.0</td>\n",
              "      <td>0.0000</td>\n",
              "      <td>0.00000</td>\n",
              "      <td>0.000000</td>\n",
              "      <td>1.0</td>\n",
              "    </tr>\n",
              "    <tr>\n",
              "      <th>SATVRMID</th>\n",
              "      <td>1185.0</td>\n",
              "      <td>522.819409</td>\n",
              "      <td>68.578862</td>\n",
              "      <td>290.0</td>\n",
              "      <td>475.0000</td>\n",
              "      <td>510.00000</td>\n",
              "      <td>555.000000</td>\n",
              "      <td>765.0</td>\n",
              "    </tr>\n",
              "    <tr>\n",
              "      <th>...</th>\n",
              "      <td>...</td>\n",
              "      <td>...</td>\n",
              "      <td>...</td>\n",
              "      <td>...</td>\n",
              "      <td>...</td>\n",
              "      <td>...</td>\n",
              "      <td>...</td>\n",
              "      <td>...</td>\n",
              "    </tr>\n",
              "    <tr>\n",
              "      <th>CURROPER</th>\n",
              "      <td>7535.0</td>\n",
              "      <td>1328.063172</td>\n",
              "      <td>115201.552429</td>\n",
              "      <td>0.0</td>\n",
              "      <td>1.0000</td>\n",
              "      <td>1.00000</td>\n",
              "      <td>1.000000</td>\n",
              "      <td>10000000.0</td>\n",
              "    </tr>\n",
              "    <tr>\n",
              "      <th>PCTPELL</th>\n",
              "      <td>6849.0</td>\n",
              "      <td>0.530643</td>\n",
              "      <td>0.225544</td>\n",
              "      <td>0.0</td>\n",
              "      <td>0.3578</td>\n",
              "      <td>0.52150</td>\n",
              "      <td>0.712900</td>\n",
              "      <td>1.0</td>\n",
              "    </tr>\n",
              "    <tr>\n",
              "      <th>PCTFLOAN</th>\n",
              "      <td>6849.0</td>\n",
              "      <td>0.522211</td>\n",
              "      <td>0.283616</td>\n",
              "      <td>0.0</td>\n",
              "      <td>0.3329</td>\n",
              "      <td>0.58330</td>\n",
              "      <td>0.745000</td>\n",
              "      <td>1.0</td>\n",
              "    </tr>\n",
              "    <tr>\n",
              "      <th>UG25ABV</th>\n",
              "      <td>6718.0</td>\n",
              "      <td>0.410021</td>\n",
              "      <td>0.228939</td>\n",
              "      <td>0.0</td>\n",
              "      <td>0.2415</td>\n",
              "      <td>0.40075</td>\n",
              "      <td>0.572275</td>\n",
              "      <td>1.0</td>\n",
              "    </tr>\n",
              "  </tbody>\n",
              "</table>\n",
              "<p>21 rows × 8 columns</p>\n",
              "</div>"
            ],
            "text/plain": [
              "            count         mean            std    min       25%        50%  \\\n",
              "HBCU       7164.0     0.014238       0.118478    0.0    0.0000    0.00000   \n",
              "MENONLY    7164.0     0.009213       0.095546    0.0    0.0000    0.00000   \n",
              "WOMENONLY  7164.0     0.005304       0.072642    0.0    0.0000    0.00000   \n",
              "SATVRMID   1185.0   522.819409      68.578862  290.0  475.0000  510.00000   \n",
              "...           ...          ...            ...    ...       ...        ...   \n",
              "CURROPER   7535.0  1328.063172  115201.552429    0.0    1.0000    1.00000   \n",
              "PCTPELL    6849.0     0.530643       0.225544    0.0    0.3578    0.52150   \n",
              "PCTFLOAN   6849.0     0.522211       0.283616    0.0    0.3329    0.58330   \n",
              "UG25ABV    6718.0     0.410021       0.228939    0.0    0.2415    0.40075   \n",
              "\n",
              "                  75%         max  \n",
              "HBCU         0.000000         1.0  \n",
              "MENONLY      0.000000         1.0  \n",
              "WOMENONLY    0.000000         1.0  \n",
              "SATVRMID   555.000000       765.0  \n",
              "...               ...         ...  \n",
              "CURROPER     1.000000  10000000.0  \n",
              "PCTPELL      0.712900         1.0  \n",
              "PCTFLOAN     0.745000         1.0  \n",
              "UG25ABV      0.572275         1.0  \n",
              "\n",
              "[21 rows x 8 columns]"
            ]
          },
          "metadata": {
            "tags": []
          },
          "execution_count": 77
        }
      ]
    },
    {
      "cell_type": "code",
      "metadata": {
        "id": "fswsIAqm0dpd",
        "colab_type": "code",
        "colab": {
          "base_uri": "https://localhost:8080/",
          "height": 342
        },
        "outputId": "e0b42eaa-b08a-4257-fdb7-082cf4c85203"
      },
      "source": [
        "college.describe(include=['number']).T  # also works as the default int/float are 64 bits"
      ],
      "execution_count": 78,
      "outputs": [
        {
          "output_type": "execute_result",
          "data": {
            "text/html": [
              "<div>\n",
              "<style scoped>\n",
              "    .dataframe tbody tr th:only-of-type {\n",
              "        vertical-align: middle;\n",
              "    }\n",
              "\n",
              "    .dataframe tbody tr th {\n",
              "        vertical-align: top;\n",
              "    }\n",
              "\n",
              "    .dataframe thead th {\n",
              "        text-align: right;\n",
              "    }\n",
              "</style>\n",
              "<table border=\"1\" class=\"dataframe\">\n",
              "  <thead>\n",
              "    <tr style=\"text-align: right;\">\n",
              "      <th></th>\n",
              "      <th>count</th>\n",
              "      <th>mean</th>\n",
              "      <th>std</th>\n",
              "      <th>min</th>\n",
              "      <th>25%</th>\n",
              "      <th>50%</th>\n",
              "      <th>75%</th>\n",
              "      <th>max</th>\n",
              "    </tr>\n",
              "  </thead>\n",
              "  <tbody>\n",
              "    <tr>\n",
              "      <th>HBCU</th>\n",
              "      <td>7164.0</td>\n",
              "      <td>0.014238</td>\n",
              "      <td>0.118478</td>\n",
              "      <td>0.0</td>\n",
              "      <td>0.0000</td>\n",
              "      <td>0.00000</td>\n",
              "      <td>0.000000</td>\n",
              "      <td>1.0</td>\n",
              "    </tr>\n",
              "    <tr>\n",
              "      <th>MENONLY</th>\n",
              "      <td>7164.0</td>\n",
              "      <td>0.009213</td>\n",
              "      <td>0.095546</td>\n",
              "      <td>0.0</td>\n",
              "      <td>0.0000</td>\n",
              "      <td>0.00000</td>\n",
              "      <td>0.000000</td>\n",
              "      <td>1.0</td>\n",
              "    </tr>\n",
              "    <tr>\n",
              "      <th>WOMENONLY</th>\n",
              "      <td>7164.0</td>\n",
              "      <td>0.005304</td>\n",
              "      <td>0.072642</td>\n",
              "      <td>0.0</td>\n",
              "      <td>0.0000</td>\n",
              "      <td>0.00000</td>\n",
              "      <td>0.000000</td>\n",
              "      <td>1.0</td>\n",
              "    </tr>\n",
              "    <tr>\n",
              "      <th>RELAFFIL</th>\n",
              "      <td>7535.0</td>\n",
              "      <td>0.190975</td>\n",
              "      <td>0.393096</td>\n",
              "      <td>0.0</td>\n",
              "      <td>0.0000</td>\n",
              "      <td>0.00000</td>\n",
              "      <td>0.000000</td>\n",
              "      <td>1.0</td>\n",
              "    </tr>\n",
              "    <tr>\n",
              "      <th>...</th>\n",
              "      <td>...</td>\n",
              "      <td>...</td>\n",
              "      <td>...</td>\n",
              "      <td>...</td>\n",
              "      <td>...</td>\n",
              "      <td>...</td>\n",
              "      <td>...</td>\n",
              "      <td>...</td>\n",
              "    </tr>\n",
              "    <tr>\n",
              "      <th>CURROPER</th>\n",
              "      <td>7535.0</td>\n",
              "      <td>1328.063172</td>\n",
              "      <td>115201.552429</td>\n",
              "      <td>0.0</td>\n",
              "      <td>1.0000</td>\n",
              "      <td>1.00000</td>\n",
              "      <td>1.000000</td>\n",
              "      <td>10000000.0</td>\n",
              "    </tr>\n",
              "    <tr>\n",
              "      <th>PCTPELL</th>\n",
              "      <td>6849.0</td>\n",
              "      <td>0.530643</td>\n",
              "      <td>0.225544</td>\n",
              "      <td>0.0</td>\n",
              "      <td>0.3578</td>\n",
              "      <td>0.52150</td>\n",
              "      <td>0.712900</td>\n",
              "      <td>1.0</td>\n",
              "    </tr>\n",
              "    <tr>\n",
              "      <th>PCTFLOAN</th>\n",
              "      <td>6849.0</td>\n",
              "      <td>0.522211</td>\n",
              "      <td>0.283616</td>\n",
              "      <td>0.0</td>\n",
              "      <td>0.3329</td>\n",
              "      <td>0.58330</td>\n",
              "      <td>0.745000</td>\n",
              "      <td>1.0</td>\n",
              "    </tr>\n",
              "    <tr>\n",
              "      <th>UG25ABV</th>\n",
              "      <td>6718.0</td>\n",
              "      <td>0.410021</td>\n",
              "      <td>0.228939</td>\n",
              "      <td>0.0</td>\n",
              "      <td>0.2415</td>\n",
              "      <td>0.40075</td>\n",
              "      <td>0.572275</td>\n",
              "      <td>1.0</td>\n",
              "    </tr>\n",
              "  </tbody>\n",
              "</table>\n",
              "<p>22 rows × 8 columns</p>\n",
              "</div>"
            ],
            "text/plain": [
              "            count         mean            std  min     25%      50%       75%  \\\n",
              "HBCU       7164.0     0.014238       0.118478  0.0  0.0000  0.00000  0.000000   \n",
              "MENONLY    7164.0     0.009213       0.095546  0.0  0.0000  0.00000  0.000000   \n",
              "WOMENONLY  7164.0     0.005304       0.072642  0.0  0.0000  0.00000  0.000000   \n",
              "RELAFFIL   7535.0     0.190975       0.393096  0.0  0.0000  0.00000  0.000000   \n",
              "...           ...          ...            ...  ...     ...      ...       ...   \n",
              "CURROPER   7535.0  1328.063172  115201.552429  0.0  1.0000  1.00000  1.000000   \n",
              "PCTPELL    6849.0     0.530643       0.225544  0.0  0.3578  0.52150  0.712900   \n",
              "PCTFLOAN   6849.0     0.522211       0.283616  0.0  0.3329  0.58330  0.745000   \n",
              "UG25ABV    6718.0     0.410021       0.228939  0.0  0.2415  0.40075  0.572275   \n",
              "\n",
              "                  max  \n",
              "HBCU              1.0  \n",
              "MENONLY           1.0  \n",
              "WOMENONLY         1.0  \n",
              "RELAFFIL          1.0  \n",
              "...               ...  \n",
              "CURROPER   10000000.0  \n",
              "PCTPELL           1.0  \n",
              "PCTFLOAN          1.0  \n",
              "UG25ABV           1.0  \n",
              "\n",
              "[22 rows x 8 columns]"
            ]
          },
          "metadata": {
            "tags": []
          },
          "execution_count": 78
        }
      ]
    },
    {
      "cell_type": "code",
      "metadata": {
        "id": "_9KY6ZUx0dpg",
        "colab_type": "code",
        "colab": {}
      },
      "source": [
        "college['MENONLY'] = college['MENONLY'].astype('float16')\n",
        "college['RELAFFIL'] = college['RELAFFIL'].astype('int8')"
      ],
      "execution_count": 0,
      "outputs": []
    },
    {
      "cell_type": "markdown",
      "metadata": {
        "id": "aYT8D1xbU7CG",
        "colab_type": "text"
      },
      "source": [
        "Lastly, it is possible to see the enormous memory difference between the minimal RangeIndex and Int64Index, which stores every row index in memory:\n",
        "\n"
      ]
    },
    {
      "cell_type": "code",
      "metadata": {
        "id": "1wv1jql70dpj",
        "colab_type": "code",
        "colab": {
          "base_uri": "https://localhost:8080/",
          "height": 34
        },
        "outputId": "1eb8eede-14d1-4bcf-e936-df310605049d"
      },
      "source": [
        "college.index = pd.Int64Index(college.index)\n",
        "college.index.memory_usage()"
      ],
      "execution_count": 80,
      "outputs": [
        {
          "output_type": "execute_result",
          "data": {
            "text/plain": [
              "60280"
            ]
          },
          "metadata": {
            "tags": []
          },
          "execution_count": 80
        }
      ]
    },
    {
      "cell_type": "markdown",
      "metadata": {
        "id": "BzlfNqVc0dpn",
        "colab_type": "text"
      },
      "source": [
        "# Selecting the smallest of the largest"
      ]
    },
    {
      "cell_type": "markdown",
      "metadata": {
        "id": "Eur61a99dT_Z",
        "colab_type": "text"
      },
      "source": [
        "This recipe can be used to create catchy news headlines such as Out of the top 100 best universities, these 5 have the lowest tuition or From the top 50 cities to live, these 10 are the most affordable. During an analysis, it is possible that you will first need to find a grouping of data that contains the top n values in a single column and, from this subset, find the bottom m values based on a different column."
      ]
    },
    {
      "cell_type": "code",
      "metadata": {
        "id": "_KjbqyGc0dpn",
        "colab_type": "code",
        "colab": {
          "base_uri": "https://localhost:8080/",
          "height": 195
        },
        "outputId": "2a432de7-9f7c-4151-cd36-ee6785ab863e"
      },
      "source": [
        "diamonds = pd.read_csv('https://raw.githubusercontent.com/Blackman9t/PandasCookbook/master/diamonds.csv')\n",
        "diamonds.head()"
      ],
      "execution_count": 83,
      "outputs": [
        {
          "output_type": "execute_result",
          "data": {
            "text/html": [
              "<div>\n",
              "<style scoped>\n",
              "    .dataframe tbody tr th:only-of-type {\n",
              "        vertical-align: middle;\n",
              "    }\n",
              "\n",
              "    .dataframe tbody tr th {\n",
              "        vertical-align: top;\n",
              "    }\n",
              "\n",
              "    .dataframe thead th {\n",
              "        text-align: right;\n",
              "    }\n",
              "</style>\n",
              "<table border=\"1\" class=\"dataframe\">\n",
              "  <thead>\n",
              "    <tr style=\"text-align: right;\">\n",
              "      <th></th>\n",
              "      <th>carat</th>\n",
              "      <th>cut</th>\n",
              "      <th>color</th>\n",
              "      <th>clarity</th>\n",
              "      <th>depth</th>\n",
              "      <th>table</th>\n",
              "      <th>price</th>\n",
              "      <th>x</th>\n",
              "      <th>y</th>\n",
              "      <th>z</th>\n",
              "    </tr>\n",
              "  </thead>\n",
              "  <tbody>\n",
              "    <tr>\n",
              "      <th>0</th>\n",
              "      <td>0.23</td>\n",
              "      <td>Ideal</td>\n",
              "      <td>E</td>\n",
              "      <td>SI2</td>\n",
              "      <td>61.5</td>\n",
              "      <td>55.0</td>\n",
              "      <td>326</td>\n",
              "      <td>3.95</td>\n",
              "      <td>3.98</td>\n",
              "      <td>2.43</td>\n",
              "    </tr>\n",
              "    <tr>\n",
              "      <th>1</th>\n",
              "      <td>0.21</td>\n",
              "      <td>Premium</td>\n",
              "      <td>E</td>\n",
              "      <td>SI1</td>\n",
              "      <td>59.8</td>\n",
              "      <td>61.0</td>\n",
              "      <td>326</td>\n",
              "      <td>3.89</td>\n",
              "      <td>3.84</td>\n",
              "      <td>2.31</td>\n",
              "    </tr>\n",
              "    <tr>\n",
              "      <th>2</th>\n",
              "      <td>0.23</td>\n",
              "      <td>Good</td>\n",
              "      <td>E</td>\n",
              "      <td>VS1</td>\n",
              "      <td>56.9</td>\n",
              "      <td>65.0</td>\n",
              "      <td>327</td>\n",
              "      <td>4.05</td>\n",
              "      <td>4.07</td>\n",
              "      <td>2.31</td>\n",
              "    </tr>\n",
              "    <tr>\n",
              "      <th>3</th>\n",
              "      <td>0.29</td>\n",
              "      <td>Premium</td>\n",
              "      <td>I</td>\n",
              "      <td>VS2</td>\n",
              "      <td>62.4</td>\n",
              "      <td>58.0</td>\n",
              "      <td>334</td>\n",
              "      <td>4.20</td>\n",
              "      <td>4.23</td>\n",
              "      <td>2.63</td>\n",
              "    </tr>\n",
              "    <tr>\n",
              "      <th>4</th>\n",
              "      <td>0.31</td>\n",
              "      <td>Good</td>\n",
              "      <td>J</td>\n",
              "      <td>SI2</td>\n",
              "      <td>63.3</td>\n",
              "      <td>58.0</td>\n",
              "      <td>335</td>\n",
              "      <td>4.34</td>\n",
              "      <td>4.35</td>\n",
              "      <td>2.75</td>\n",
              "    </tr>\n",
              "  </tbody>\n",
              "</table>\n",
              "</div>"
            ],
            "text/plain": [
              "   carat      cut color clarity  depth  table  price     x     y     z\n",
              "0   0.23    Ideal     E     SI2   61.5   55.0    326  3.95  3.98  2.43\n",
              "1   0.21  Premium     E     SI1   59.8   61.0    326  3.89  3.84  2.31\n",
              "2   0.23     Good     E     VS1   56.9   65.0    327  4.05  4.07  2.31\n",
              "3   0.29  Premium     I     VS2   62.4   58.0    334  4.20  4.23  2.63\n",
              "4   0.31     Good     J     SI2   63.3   58.0    335  4.34  4.35  2.75"
            ]
          },
          "metadata": {
            "tags": []
          },
          "execution_count": 83
        }
      ]
    },
    {
      "cell_type": "code",
      "metadata": {
        "id": "SJ2gxOh0flKF",
        "colab_type": "code",
        "colab": {
          "base_uri": "https://localhost:8080/",
          "height": 34
        },
        "outputId": "3a0d1856-ab6e-400c-a27d-935e7afdd4c0"
      },
      "source": [
        "diamonds.shape"
      ],
      "execution_count": 84,
      "outputs": [
        {
          "output_type": "execute_result",
          "data": {
            "text/plain": [
              "(53940, 10)"
            ]
          },
          "metadata": {
            "tags": []
          },
          "execution_count": 84
        }
      ]
    },
    {
      "cell_type": "code",
      "metadata": {
        "id": "oee45X7cfZQm",
        "colab_type": "code",
        "colab": {
          "base_uri": "https://localhost:8080/",
          "height": 195
        },
        "outputId": "13d84ee4-4deb-4b8c-e7a0-bb38099fcde9"
      },
      "source": [
        "diamonds2 = diamonds[['cut', 'carat', 'price']]\n",
        "diamonds2.head()"
      ],
      "execution_count": 86,
      "outputs": [
        {
          "output_type": "execute_result",
          "data": {
            "text/html": [
              "<div>\n",
              "<style scoped>\n",
              "    .dataframe tbody tr th:only-of-type {\n",
              "        vertical-align: middle;\n",
              "    }\n",
              "\n",
              "    .dataframe tbody tr th {\n",
              "        vertical-align: top;\n",
              "    }\n",
              "\n",
              "    .dataframe thead th {\n",
              "        text-align: right;\n",
              "    }\n",
              "</style>\n",
              "<table border=\"1\" class=\"dataframe\">\n",
              "  <thead>\n",
              "    <tr style=\"text-align: right;\">\n",
              "      <th></th>\n",
              "      <th>cut</th>\n",
              "      <th>carat</th>\n",
              "      <th>price</th>\n",
              "    </tr>\n",
              "  </thead>\n",
              "  <tbody>\n",
              "    <tr>\n",
              "      <th>0</th>\n",
              "      <td>Ideal</td>\n",
              "      <td>0.23</td>\n",
              "      <td>326</td>\n",
              "    </tr>\n",
              "    <tr>\n",
              "      <th>1</th>\n",
              "      <td>Premium</td>\n",
              "      <td>0.21</td>\n",
              "      <td>326</td>\n",
              "    </tr>\n",
              "    <tr>\n",
              "      <th>2</th>\n",
              "      <td>Good</td>\n",
              "      <td>0.23</td>\n",
              "      <td>327</td>\n",
              "    </tr>\n",
              "    <tr>\n",
              "      <th>3</th>\n",
              "      <td>Premium</td>\n",
              "      <td>0.29</td>\n",
              "      <td>334</td>\n",
              "    </tr>\n",
              "    <tr>\n",
              "      <th>4</th>\n",
              "      <td>Good</td>\n",
              "      <td>0.31</td>\n",
              "      <td>335</td>\n",
              "    </tr>\n",
              "  </tbody>\n",
              "</table>\n",
              "</div>"
            ],
            "text/plain": [
              "       cut  carat  price\n",
              "0    Ideal   0.23    326\n",
              "1  Premium   0.21    326\n",
              "2     Good   0.23    327\n",
              "3  Premium   0.29    334\n",
              "4     Good   0.31    335"
            ]
          },
          "metadata": {
            "tags": []
          },
          "execution_count": 86
        }
      ]
    },
    {
      "cell_type": "markdown",
      "metadata": {
        "id": "0vO79k45hD_C",
        "colab_type": "text"
      },
      "source": [
        "Use the nlargest method to select the top 100 diamonds by carat:"
      ]
    },
    {
      "cell_type": "code",
      "metadata": {
        "id": "ayI2n-pH0dpr",
        "colab_type": "code",
        "colab": {
          "base_uri": "https://localhost:8080/",
          "height": 195
        },
        "outputId": "52fe3941-0419-411f-e7a6-d2d0cd8f45fd"
      },
      "source": [
        "diamonds2.nlargest(100,'carat').head()"
      ],
      "execution_count": 87,
      "outputs": [
        {
          "output_type": "execute_result",
          "data": {
            "text/html": [
              "<div>\n",
              "<style scoped>\n",
              "    .dataframe tbody tr th:only-of-type {\n",
              "        vertical-align: middle;\n",
              "    }\n",
              "\n",
              "    .dataframe tbody tr th {\n",
              "        vertical-align: top;\n",
              "    }\n",
              "\n",
              "    .dataframe thead th {\n",
              "        text-align: right;\n",
              "    }\n",
              "</style>\n",
              "<table border=\"1\" class=\"dataframe\">\n",
              "  <thead>\n",
              "    <tr style=\"text-align: right;\">\n",
              "      <th></th>\n",
              "      <th>cut</th>\n",
              "      <th>carat</th>\n",
              "      <th>price</th>\n",
              "    </tr>\n",
              "  </thead>\n",
              "  <tbody>\n",
              "    <tr>\n",
              "      <th>27415</th>\n",
              "      <td>Fair</td>\n",
              "      <td>5.01</td>\n",
              "      <td>18018</td>\n",
              "    </tr>\n",
              "    <tr>\n",
              "      <th>27630</th>\n",
              "      <td>Fair</td>\n",
              "      <td>4.50</td>\n",
              "      <td>18531</td>\n",
              "    </tr>\n",
              "    <tr>\n",
              "      <th>27130</th>\n",
              "      <td>Fair</td>\n",
              "      <td>4.13</td>\n",
              "      <td>17329</td>\n",
              "    </tr>\n",
              "    <tr>\n",
              "      <th>25998</th>\n",
              "      <td>Premium</td>\n",
              "      <td>4.01</td>\n",
              "      <td>15223</td>\n",
              "    </tr>\n",
              "    <tr>\n",
              "      <th>25999</th>\n",
              "      <td>Premium</td>\n",
              "      <td>4.01</td>\n",
              "      <td>15223</td>\n",
              "    </tr>\n",
              "  </tbody>\n",
              "</table>\n",
              "</div>"
            ],
            "text/plain": [
              "           cut  carat  price\n",
              "27415     Fair   5.01  18018\n",
              "27630     Fair   4.50  18531\n",
              "27130     Fair   4.13  17329\n",
              "25998  Premium   4.01  15223\n",
              "25999  Premium   4.01  15223"
            ]
          },
          "metadata": {
            "tags": []
          },
          "execution_count": 87
        }
      ]
    },
    {
      "cell_type": "markdown",
      "metadata": {
        "id": "lI588l6Lho9j",
        "colab_type": "text"
      },
      "source": [
        "Chain the nsmallest method to return the ten lowest diamond prices  among those with a top 100 score:"
      ]
    },
    {
      "cell_type": "code",
      "metadata": {
        "id": "IztOsxy90dpt",
        "colab_type": "code",
        "colab": {
          "base_uri": "https://localhost:8080/",
          "height": 343
        },
        "outputId": "79230c4e-6901-40b9-b2cb-4f21c1642d01"
      },
      "source": [
        "pd.set_option('max_row',10)\n",
        "#movie2.nlargest(100, 'imdb_score').nsmallest(5, 'budget')\n",
        "diamonds2.nlargest(100, 'carat').nsmallest(10,'price')"
      ],
      "execution_count": 89,
      "outputs": [
        {
          "output_type": "execute_result",
          "data": {
            "text/html": [
              "<div>\n",
              "<style scoped>\n",
              "    .dataframe tbody tr th:only-of-type {\n",
              "        vertical-align: middle;\n",
              "    }\n",
              "\n",
              "    .dataframe tbody tr th {\n",
              "        vertical-align: top;\n",
              "    }\n",
              "\n",
              "    .dataframe thead th {\n",
              "        text-align: right;\n",
              "    }\n",
              "</style>\n",
              "<table border=\"1\" class=\"dataframe\">\n",
              "  <thead>\n",
              "    <tr style=\"text-align: right;\">\n",
              "      <th></th>\n",
              "      <th>cut</th>\n",
              "      <th>carat</th>\n",
              "      <th>price</th>\n",
              "    </tr>\n",
              "  </thead>\n",
              "  <tbody>\n",
              "    <tr>\n",
              "      <th>16283</th>\n",
              "      <td>Very Good</td>\n",
              "      <td>3.00</td>\n",
              "      <td>6512</td>\n",
              "    </tr>\n",
              "    <tr>\n",
              "      <th>17196</th>\n",
              "      <td>Fair</td>\n",
              "      <td>2.72</td>\n",
              "      <td>6870</td>\n",
              "    </tr>\n",
              "    <tr>\n",
              "      <th>19339</th>\n",
              "      <td>Premium</td>\n",
              "      <td>3.01</td>\n",
              "      <td>8040</td>\n",
              "    </tr>\n",
              "    <tr>\n",
              "      <th>19346</th>\n",
              "      <td>Fair</td>\n",
              "      <td>3.00</td>\n",
              "      <td>8044</td>\n",
              "    </tr>\n",
              "    <tr>\n",
              "      <th>19866</th>\n",
              "      <td>Premium</td>\n",
              "      <td>2.68</td>\n",
              "      <td>8419</td>\n",
              "    </tr>\n",
              "    <tr>\n",
              "      <th>20462</th>\n",
              "      <td>Fair</td>\n",
              "      <td>2.74</td>\n",
              "      <td>8807</td>\n",
              "    </tr>\n",
              "    <tr>\n",
              "      <th>21566</th>\n",
              "      <td>Very Good</td>\n",
              "      <td>2.68</td>\n",
              "      <td>9665</td>\n",
              "    </tr>\n",
              "    <tr>\n",
              "      <th>21758</th>\n",
              "      <td>Fair</td>\n",
              "      <td>3.11</td>\n",
              "      <td>9823</td>\n",
              "    </tr>\n",
              "    <tr>\n",
              "      <th>21862</th>\n",
              "      <td>Premium</td>\n",
              "      <td>3.01</td>\n",
              "      <td>9925</td>\n",
              "    </tr>\n",
              "    <tr>\n",
              "      <th>22399</th>\n",
              "      <td>Premium</td>\n",
              "      <td>2.77</td>\n",
              "      <td>10424</td>\n",
              "    </tr>\n",
              "  </tbody>\n",
              "</table>\n",
              "</div>"
            ],
            "text/plain": [
              "             cut  carat  price\n",
              "16283  Very Good   3.00   6512\n",
              "17196       Fair   2.72   6870\n",
              "19339    Premium   3.01   8040\n",
              "19346       Fair   3.00   8044\n",
              "19866    Premium   2.68   8419\n",
              "20462       Fair   2.74   8807\n",
              "21566  Very Good   2.68   9665\n",
              "21758       Fair   3.11   9823\n",
              "21862    Premium   3.01   9925\n",
              "22399    Premium   2.77  10424"
            ]
          },
          "metadata": {
            "tags": []
          },
          "execution_count": 89
        }
      ]
    },
    {
      "cell_type": "markdown",
      "metadata": {
        "id": "ebK3cHNYirtB",
        "colab_type": "text"
      },
      "source": [
        "How it works...\n",
        "The first parameter of the nlargest method, n, must be an integer and selects the number of rows to be returned. The second parameter, columns, takes a column name as a string. Step 2 returns the 100 highest carat diamonds. We could have saved this intermediate result as its own variable but instead, we chain the nsmallest method to it in step 3, which returns exactly ten rows, sorted by lowest price."
      ]
    },
    {
      "cell_type": "markdown",
      "metadata": {
        "id": "wQ7ht4Mtjf7-",
        "colab_type": "text"
      },
      "source": [
        "There's more...\n",
        "It is possible to pass a list of column names to the columns parameter of the nlargest/nsmallest methods. This would only be useful to break ties in the event that there were duplicate values sharing the nth ranked spot in the first column in the list."
      ]
    },
    {
      "cell_type": "markdown",
      "metadata": {
        "id": "LIUsMiai0dpx",
        "colab_type": "text"
      },
      "source": [
        "# Selecting the largest of each group by sorting"
      ]
    },
    {
      "cell_type": "markdown",
      "metadata": {
        "id": "BmvLYe11jvEB",
        "colab_type": "text"
      },
      "source": [
        "One of the most basic and common operations to perform during a data analysis is to select rows containing the largest value of some column within a group. For instance, this would be like finding the highest rated film of each year or the highest grossing film by content rating. To accomplish this task, we need to sort the groups as well as the column used to rank each member of the group, and then extract the highest member of each group."
      ]
    },
    {
      "cell_type": "markdown",
      "metadata": {
        "id": "_CLJfmQCkCU8",
        "colab_type": "text"
      },
      "source": [
        "In this recipe, we will find the depth of the highest rated diamonds of each cut category.\n",
        "\n",
        "How to do it..."
      ]
    },
    {
      "cell_type": "markdown",
      "metadata": {
        "id": "2c4RZaS3kW6O",
        "colab_type": "text"
      },
      "source": [
        "First let's confirm the categories in the cut column"
      ]
    },
    {
      "cell_type": "code",
      "metadata": {
        "id": "pH2RIULGkVXk",
        "colab_type": "code",
        "colab": {
          "base_uri": "https://localhost:8080/",
          "height": 134
        },
        "outputId": "07cdab91-d30e-4f07-ba8c-fe5828782355"
      },
      "source": [
        "diamonds.groupby('cut').size()"
      ],
      "execution_count": 100,
      "outputs": [
        {
          "output_type": "execute_result",
          "data": {
            "text/plain": [
              "cut\n",
              "Fair          1610\n",
              "Good          4906\n",
              "Ideal        21551\n",
              "Premium      13791\n",
              "Very Good    12082\n",
              "dtype: int64"
            ]
          },
          "metadata": {
            "tags": []
          },
          "execution_count": 100
        }
      ]
    },
    {
      "cell_type": "markdown",
      "metadata": {
        "id": "zfIHvtuTltot",
        "colab_type": "text"
      },
      "source": [
        "next let's slim the data set to just the columns we need to sort by cut category"
      ]
    },
    {
      "cell_type": "code",
      "metadata": {
        "id": "vnhUHm4-l2DT",
        "colab_type": "code",
        "colab": {
          "base_uri": "https://localhost:8080/",
          "height": 195
        },
        "outputId": "f0ed282e-b930-428c-8c27-3643fa114e7c"
      },
      "source": [
        "diamonds2 = diamonds[['cut','depth']]\n",
        "\n",
        "diamonds2.head()"
      ],
      "execution_count": 107,
      "outputs": [
        {
          "output_type": "execute_result",
          "data": {
            "text/html": [
              "<div>\n",
              "<style scoped>\n",
              "    .dataframe tbody tr th:only-of-type {\n",
              "        vertical-align: middle;\n",
              "    }\n",
              "\n",
              "    .dataframe tbody tr th {\n",
              "        vertical-align: top;\n",
              "    }\n",
              "\n",
              "    .dataframe thead th {\n",
              "        text-align: right;\n",
              "    }\n",
              "</style>\n",
              "<table border=\"1\" class=\"dataframe\">\n",
              "  <thead>\n",
              "    <tr style=\"text-align: right;\">\n",
              "      <th></th>\n",
              "      <th>cut</th>\n",
              "      <th>depth</th>\n",
              "    </tr>\n",
              "  </thead>\n",
              "  <tbody>\n",
              "    <tr>\n",
              "      <th>0</th>\n",
              "      <td>Ideal</td>\n",
              "      <td>61.5</td>\n",
              "    </tr>\n",
              "    <tr>\n",
              "      <th>1</th>\n",
              "      <td>Premium</td>\n",
              "      <td>59.8</td>\n",
              "    </tr>\n",
              "    <tr>\n",
              "      <th>2</th>\n",
              "      <td>Good</td>\n",
              "      <td>56.9</td>\n",
              "    </tr>\n",
              "    <tr>\n",
              "      <th>3</th>\n",
              "      <td>Premium</td>\n",
              "      <td>62.4</td>\n",
              "    </tr>\n",
              "    <tr>\n",
              "      <th>4</th>\n",
              "      <td>Good</td>\n",
              "      <td>63.3</td>\n",
              "    </tr>\n",
              "  </tbody>\n",
              "</table>\n",
              "</div>"
            ],
            "text/plain": [
              "       cut  depth\n",
              "0    Ideal   61.5\n",
              "1  Premium   59.8\n",
              "2     Good   56.9\n",
              "3  Premium   62.4\n",
              "4     Good   63.3"
            ]
          },
          "metadata": {
            "tags": []
          },
          "execution_count": 107
        }
      ]
    },
    {
      "cell_type": "markdown",
      "metadata": {
        "id": "9uU1ASwTmTXx",
        "colab_type": "text"
      },
      "source": [
        "Use the sort_values method to sort the DataFrame by cut. The default behavior sorts from the smallest to largest. Use the ascending parameter to invert this behavior by setting it equal to False:"
      ]
    },
    {
      "cell_type": "code",
      "metadata": {
        "id": "Rrix7DCA0dp0",
        "colab_type": "code",
        "colab": {
          "base_uri": "https://localhost:8080/",
          "height": 284
        },
        "outputId": "42c6d740-188a-4308-fb7c-17945d220c06"
      },
      "source": [
        "diamonds2.sort_values('cut', ascending=False).head(8)"
      ],
      "execution_count": 108,
      "outputs": [
        {
          "output_type": "execute_result",
          "data": {
            "text/html": [
              "<div>\n",
              "<style scoped>\n",
              "    .dataframe tbody tr th:only-of-type {\n",
              "        vertical-align: middle;\n",
              "    }\n",
              "\n",
              "    .dataframe tbody tr th {\n",
              "        vertical-align: top;\n",
              "    }\n",
              "\n",
              "    .dataframe thead th {\n",
              "        text-align: right;\n",
              "    }\n",
              "</style>\n",
              "<table border=\"1\" class=\"dataframe\">\n",
              "  <thead>\n",
              "    <tr style=\"text-align: right;\">\n",
              "      <th></th>\n",
              "      <th>cut</th>\n",
              "      <th>depth</th>\n",
              "    </tr>\n",
              "  </thead>\n",
              "  <tbody>\n",
              "    <tr>\n",
              "      <th>8748</th>\n",
              "      <td>Very Good</td>\n",
              "      <td>61.7</td>\n",
              "    </tr>\n",
              "    <tr>\n",
              "      <th>23064</th>\n",
              "      <td>Very Good</td>\n",
              "      <td>62.4</td>\n",
              "    </tr>\n",
              "    <tr>\n",
              "      <th>23058</th>\n",
              "      <td>Very Good</td>\n",
              "      <td>63.3</td>\n",
              "    </tr>\n",
              "    <tr>\n",
              "      <th>31236</th>\n",
              "      <td>Very Good</td>\n",
              "      <td>60.2</td>\n",
              "    </tr>\n",
              "    <tr>\n",
              "      <th>19154</th>\n",
              "      <td>Very Good</td>\n",
              "      <td>63.2</td>\n",
              "    </tr>\n",
              "    <tr>\n",
              "      <th>23055</th>\n",
              "      <td>Very Good</td>\n",
              "      <td>63.0</td>\n",
              "    </tr>\n",
              "    <tr>\n",
              "      <th>31238</th>\n",
              "      <td>Very Good</td>\n",
              "      <td>63.0</td>\n",
              "    </tr>\n",
              "    <tr>\n",
              "      <th>43477</th>\n",
              "      <td>Very Good</td>\n",
              "      <td>59.4</td>\n",
              "    </tr>\n",
              "  </tbody>\n",
              "</table>\n",
              "</div>"
            ],
            "text/plain": [
              "             cut  depth\n",
              "8748   Very Good   61.7\n",
              "23064  Very Good   62.4\n",
              "23058  Very Good   63.3\n",
              "31236  Very Good   60.2\n",
              "19154  Very Good   63.2\n",
              "23055  Very Good   63.0\n",
              "31238  Very Good   63.0\n",
              "43477  Very Good   59.4"
            ]
          },
          "metadata": {
            "tags": []
          },
          "execution_count": 108
        }
      ]
    },
    {
      "cell_type": "markdown",
      "metadata": {
        "id": "eK36xMoonAwx",
        "colab_type": "text"
      },
      "source": [
        "Notice how only the cut was sorted. To sort multiple columns at once, use a list. Let's look at how to sort both cut and depth:"
      ]
    },
    {
      "cell_type": "code",
      "metadata": {
        "id": "ag-HJJZP0dp4",
        "colab_type": "code",
        "colab": {
          "base_uri": "https://localhost:8080/",
          "height": 284
        },
        "outputId": "0b62f816-f830-40de-9bde-39c1ff4ac433"
      },
      "source": [
        "diamonds3 = diamonds2.sort_values(['cut','depth'], ascending=False)\n",
        "diamonds3.head(8)"
      ],
      "execution_count": 109,
      "outputs": [
        {
          "output_type": "execute_result",
          "data": {
            "text/html": [
              "<div>\n",
              "<style scoped>\n",
              "    .dataframe tbody tr th:only-of-type {\n",
              "        vertical-align: middle;\n",
              "    }\n",
              "\n",
              "    .dataframe tbody tr th {\n",
              "        vertical-align: top;\n",
              "    }\n",
              "\n",
              "    .dataframe thead th {\n",
              "        text-align: right;\n",
              "    }\n",
              "</style>\n",
              "<table border=\"1\" class=\"dataframe\">\n",
              "  <thead>\n",
              "    <tr style=\"text-align: right;\">\n",
              "      <th></th>\n",
              "      <th>cut</th>\n",
              "      <th>depth</th>\n",
              "    </tr>\n",
              "  </thead>\n",
              "  <tbody>\n",
              "    <tr>\n",
              "      <th>17100</th>\n",
              "      <td>Very Good</td>\n",
              "      <td>64.9</td>\n",
              "    </tr>\n",
              "    <tr>\n",
              "      <th>9160</th>\n",
              "      <td>Very Good</td>\n",
              "      <td>64.7</td>\n",
              "    </tr>\n",
              "    <tr>\n",
              "      <th>14572</th>\n",
              "      <td>Very Good</td>\n",
              "      <td>64.7</td>\n",
              "    </tr>\n",
              "    <tr>\n",
              "      <th>5726</th>\n",
              "      <td>Very Good</td>\n",
              "      <td>64.6</td>\n",
              "    </tr>\n",
              "    <tr>\n",
              "      <th>8089</th>\n",
              "      <td>Very Good</td>\n",
              "      <td>64.6</td>\n",
              "    </tr>\n",
              "    <tr>\n",
              "      <th>43526</th>\n",
              "      <td>Very Good</td>\n",
              "      <td>64.6</td>\n",
              "    </tr>\n",
              "    <tr>\n",
              "      <th>1159</th>\n",
              "      <td>Very Good</td>\n",
              "      <td>64.5</td>\n",
              "    </tr>\n",
              "    <tr>\n",
              "      <th>28286</th>\n",
              "      <td>Very Good</td>\n",
              "      <td>64.5</td>\n",
              "    </tr>\n",
              "  </tbody>\n",
              "</table>\n",
              "</div>"
            ],
            "text/plain": [
              "             cut  depth\n",
              "17100  Very Good   64.9\n",
              "9160   Very Good   64.7\n",
              "14572  Very Good   64.7\n",
              "5726   Very Good   64.6\n",
              "8089   Very Good   64.6\n",
              "43526  Very Good   64.6\n",
              "1159   Very Good   64.5\n",
              "28286  Very Good   64.5"
            ]
          },
          "metadata": {
            "tags": []
          },
          "execution_count": 109
        }
      ]
    },
    {
      "cell_type": "markdown",
      "metadata": {
        "id": "OqmqoTnznumr",
        "colab_type": "text"
      },
      "source": [
        "Now, we use the drop_duplicates method to keep only the first row of each cut category:"
      ]
    },
    {
      "cell_type": "code",
      "metadata": {
        "id": "DJ2rZ9390dp-",
        "colab_type": "code",
        "colab": {
          "base_uri": "https://localhost:8080/",
          "height": 195
        },
        "outputId": "b930f966-10cb-4aff-f124-93d962e7dbe9"
      },
      "source": [
        "best_cut_diamonds_depth = diamonds3.drop_duplicates(subset='cut')\n",
        "best_cut_diamonds_depth"
      ],
      "execution_count": 110,
      "outputs": [
        {
          "output_type": "execute_result",
          "data": {
            "text/html": [
              "<div>\n",
              "<style scoped>\n",
              "    .dataframe tbody tr th:only-of-type {\n",
              "        vertical-align: middle;\n",
              "    }\n",
              "\n",
              "    .dataframe tbody tr th {\n",
              "        vertical-align: top;\n",
              "    }\n",
              "\n",
              "    .dataframe thead th {\n",
              "        text-align: right;\n",
              "    }\n",
              "</style>\n",
              "<table border=\"1\" class=\"dataframe\">\n",
              "  <thead>\n",
              "    <tr style=\"text-align: right;\">\n",
              "      <th></th>\n",
              "      <th>cut</th>\n",
              "      <th>depth</th>\n",
              "    </tr>\n",
              "  </thead>\n",
              "  <tbody>\n",
              "    <tr>\n",
              "      <th>17100</th>\n",
              "      <td>Very Good</td>\n",
              "      <td>64.9</td>\n",
              "    </tr>\n",
              "    <tr>\n",
              "      <th>106</th>\n",
              "      <td>Premium</td>\n",
              "      <td>63.0</td>\n",
              "    </tr>\n",
              "    <tr>\n",
              "      <th>26263</th>\n",
              "      <td>Ideal</td>\n",
              "      <td>66.7</td>\n",
              "    </tr>\n",
              "    <tr>\n",
              "      <th>15227</th>\n",
              "      <td>Good</td>\n",
              "      <td>67.0</td>\n",
              "    </tr>\n",
              "    <tr>\n",
              "      <th>52860</th>\n",
              "      <td>Fair</td>\n",
              "      <td>79.0</td>\n",
              "    </tr>\n",
              "  </tbody>\n",
              "</table>\n",
              "</div>"
            ],
            "text/plain": [
              "             cut  depth\n",
              "17100  Very Good   64.9\n",
              "106      Premium   63.0\n",
              "26263      Ideal   66.7\n",
              "15227       Good   67.0\n",
              "52860       Fair   79.0"
            ]
          },
          "metadata": {
            "tags": []
          },
          "execution_count": 110
        }
      ]
    },
    {
      "cell_type": "markdown",
      "metadata": {
        "id": "CD71FY2hrdSS",
        "colab_type": "text"
      },
      "source": [
        "And from this brief exercise, we can see that:<br>\n",
        "The highest depth of a diamond in the  Premium class is just 63.0 inches.<br>\n",
        "While the highest depth of a  diamond belonging to Fair class is  79.0 inches.<br>\n",
        "This means the lower the depth, the better the quality as we can see in other classes such as Very-good, Ideal, and Good.<br>\n",
        "So therefore diamond ratings by cut and depth could be shown like this in order of listing<br>\n",
        "Premium- 63.0<br>\n",
        "Very Good- 64.9<br>\n",
        "Ideal- 66.7<br>\n",
        "Good- 67.0<br>\n",
        "Fair- 79.0<br>"
      ]
    },
    {
      "cell_type": "markdown",
      "metadata": {
        "id": "KZpSdAnmpmTe",
        "colab_type": "text"
      },
      "source": [
        "How it works...\n",
        "In step 1, we slim the dataset down to concentrate on only the columns of importance. This recipe would work the same with the entire DataFrame. <br>\n",
        "Step 2 shows how to sort a DataFrame by a single column, which is not exactly what we wanted. <br>\n",
        "Step 3 sorts multiple columns at the same time. It works by first sorting all of cut and then, within each distinct value of cut,  it sorts by price.\n",
        "\n",
        "The default behavior of the drop_duplicates method is to keep the first occurrence of each unique row, which would not drop any rows as each row is unique. However, the subset parameter alters it to only consider the column (or list of columns) given to it. <br>\n",
        "In this example, only one row for each cut  will be returned. As we sorted by cut and price in the last step, the highest scoring price for each cut is what we get."
      ]
    },
    {
      "cell_type": "markdown",
      "metadata": {
        "id": "f5v1OWJ4trmr",
        "colab_type": "text"
      },
      "source": [
        "###There's more...\n",
        "\n",
        "It is possible to sort one column in ascending order while simultaneously sorting another column in descending order. To accomplish this, pass in a list of booleans to the ascending parameter that corresponds to how you would like each column sorted. The following sorts cut and carat in descending order and price in ascending order. It then finds the cheapest diamond for each cut and carat group:\n",
        "\n"
      ]
    },
    {
      "cell_type": "code",
      "metadata": {
        "id": "J6L2a0DOurDC",
        "colab_type": "code",
        "colab": {
          "base_uri": "https://localhost:8080/",
          "height": 343
        },
        "outputId": "66b61acb-7377-4254-a55b-e82233460652"
      },
      "source": [
        "#  First group the columns we want to a data frame variable\n",
        "diamonds4 = diamonds[['cut','carat','price']]\n",
        "\n",
        "#  Next sort cut and carat descending and price ascending all same time\n",
        "diamonds4_sorted = diamonds4.sort_values(['cut','carat','price'],ascending=[False,False,True])\n",
        "\n",
        "diamonds4_sorted.head(10)"
      ],
      "execution_count": 112,
      "outputs": [
        {
          "output_type": "execute_result",
          "data": {
            "text/html": [
              "<div>\n",
              "<style scoped>\n",
              "    .dataframe tbody tr th:only-of-type {\n",
              "        vertical-align: middle;\n",
              "    }\n",
              "\n",
              "    .dataframe tbody tr th {\n",
              "        vertical-align: top;\n",
              "    }\n",
              "\n",
              "    .dataframe thead th {\n",
              "        text-align: right;\n",
              "    }\n",
              "</style>\n",
              "<table border=\"1\" class=\"dataframe\">\n",
              "  <thead>\n",
              "    <tr style=\"text-align: right;\">\n",
              "      <th></th>\n",
              "      <th>cut</th>\n",
              "      <th>carat</th>\n",
              "      <th>price</th>\n",
              "    </tr>\n",
              "  </thead>\n",
              "  <tbody>\n",
              "    <tr>\n",
              "      <th>26444</th>\n",
              "      <td>Very Good</td>\n",
              "      <td>4.00</td>\n",
              "      <td>15984</td>\n",
              "    </tr>\n",
              "    <tr>\n",
              "      <th>26100</th>\n",
              "      <td>Very Good</td>\n",
              "      <td>3.04</td>\n",
              "      <td>15354</td>\n",
              "    </tr>\n",
              "    <tr>\n",
              "      <th>16283</th>\n",
              "      <td>Very Good</td>\n",
              "      <td>3.00</td>\n",
              "      <td>6512</td>\n",
              "    </tr>\n",
              "    <tr>\n",
              "      <th>27024</th>\n",
              "      <td>Very Good</td>\n",
              "      <td>2.74</td>\n",
              "      <td>17164</td>\n",
              "    </tr>\n",
              "    <tr>\n",
              "      <th>27065</th>\n",
              "      <td>Very Good</td>\n",
              "      <td>2.74</td>\n",
              "      <td>17184</td>\n",
              "    </tr>\n",
              "    <tr>\n",
              "      <th>25525</th>\n",
              "      <td>Very Good</td>\n",
              "      <td>2.70</td>\n",
              "      <td>14341</td>\n",
              "    </tr>\n",
              "    <tr>\n",
              "      <th>21566</th>\n",
              "      <td>Very Good</td>\n",
              "      <td>2.68</td>\n",
              "      <td>9665</td>\n",
              "    </tr>\n",
              "    <tr>\n",
              "      <th>22413</th>\n",
              "      <td>Very Good</td>\n",
              "      <td>2.63</td>\n",
              "      <td>10437</td>\n",
              "    </tr>\n",
              "    <tr>\n",
              "      <th>25778</th>\n",
              "      <td>Very Good</td>\n",
              "      <td>2.58</td>\n",
              "      <td>14749</td>\n",
              "    </tr>\n",
              "    <tr>\n",
              "      <th>23960</th>\n",
              "      <td>Very Good</td>\n",
              "      <td>2.54</td>\n",
              "      <td>12095</td>\n",
              "    </tr>\n",
              "  </tbody>\n",
              "</table>\n",
              "</div>"
            ],
            "text/plain": [
              "             cut  carat  price\n",
              "26444  Very Good   4.00  15984\n",
              "26100  Very Good   3.04  15354\n",
              "16283  Very Good   3.00   6512\n",
              "27024  Very Good   2.74  17164\n",
              "27065  Very Good   2.74  17184\n",
              "25525  Very Good   2.70  14341\n",
              "21566  Very Good   2.68   9665\n",
              "22413  Very Good   2.63  10437\n",
              "25778  Very Good   2.58  14749\n",
              "23960  Very Good   2.54  12095"
            ]
          },
          "metadata": {
            "tags": []
          },
          "execution_count": 112
        }
      ]
    },
    {
      "cell_type": "code",
      "metadata": {
        "id": "HlWWjENRw31Q",
        "colab_type": "code",
        "colab": {
          "base_uri": "https://localhost:8080/",
          "height": 343
        },
        "outputId": "276245b8-77c3-4a5f-dfc2-f211ad61707e"
      },
      "source": [
        "# next we drop duplicates and see the cheapest diamonds per cut and carat groups\n",
        "diamonds4_sorted.drop_duplicates(subset=['cut','carat']).head(10)"
      ],
      "execution_count": 117,
      "outputs": [
        {
          "output_type": "execute_result",
          "data": {
            "text/html": [
              "<div>\n",
              "<style scoped>\n",
              "    .dataframe tbody tr th:only-of-type {\n",
              "        vertical-align: middle;\n",
              "    }\n",
              "\n",
              "    .dataframe tbody tr th {\n",
              "        vertical-align: top;\n",
              "    }\n",
              "\n",
              "    .dataframe thead th {\n",
              "        text-align: right;\n",
              "    }\n",
              "</style>\n",
              "<table border=\"1\" class=\"dataframe\">\n",
              "  <thead>\n",
              "    <tr style=\"text-align: right;\">\n",
              "      <th></th>\n",
              "      <th>cut</th>\n",
              "      <th>carat</th>\n",
              "      <th>price</th>\n",
              "    </tr>\n",
              "  </thead>\n",
              "  <tbody>\n",
              "    <tr>\n",
              "      <th>26444</th>\n",
              "      <td>Very Good</td>\n",
              "      <td>4.00</td>\n",
              "      <td>15984</td>\n",
              "    </tr>\n",
              "    <tr>\n",
              "      <th>26100</th>\n",
              "      <td>Very Good</td>\n",
              "      <td>3.04</td>\n",
              "      <td>15354</td>\n",
              "    </tr>\n",
              "    <tr>\n",
              "      <th>16283</th>\n",
              "      <td>Very Good</td>\n",
              "      <td>3.00</td>\n",
              "      <td>6512</td>\n",
              "    </tr>\n",
              "    <tr>\n",
              "      <th>27024</th>\n",
              "      <td>Very Good</td>\n",
              "      <td>2.74</td>\n",
              "      <td>17164</td>\n",
              "    </tr>\n",
              "    <tr>\n",
              "      <th>25525</th>\n",
              "      <td>Very Good</td>\n",
              "      <td>2.70</td>\n",
              "      <td>14341</td>\n",
              "    </tr>\n",
              "    <tr>\n",
              "      <th>21566</th>\n",
              "      <td>Very Good</td>\n",
              "      <td>2.68</td>\n",
              "      <td>9665</td>\n",
              "    </tr>\n",
              "    <tr>\n",
              "      <th>22413</th>\n",
              "      <td>Very Good</td>\n",
              "      <td>2.63</td>\n",
              "      <td>10437</td>\n",
              "    </tr>\n",
              "    <tr>\n",
              "      <th>25778</th>\n",
              "      <td>Very Good</td>\n",
              "      <td>2.58</td>\n",
              "      <td>14749</td>\n",
              "    </tr>\n",
              "    <tr>\n",
              "      <th>23960</th>\n",
              "      <td>Very Good</td>\n",
              "      <td>2.54</td>\n",
              "      <td>12095</td>\n",
              "    </tr>\n",
              "    <tr>\n",
              "      <th>27265</th>\n",
              "      <td>Very Good</td>\n",
              "      <td>2.52</td>\n",
              "      <td>17689</td>\n",
              "    </tr>\n",
              "  </tbody>\n",
              "</table>\n",
              "</div>"
            ],
            "text/plain": [
              "             cut  carat  price\n",
              "26444  Very Good   4.00  15984\n",
              "26100  Very Good   3.04  15354\n",
              "16283  Very Good   3.00   6512\n",
              "27024  Very Good   2.74  17164\n",
              "25525  Very Good   2.70  14341\n",
              "21566  Very Good   2.68   9665\n",
              "22413  Very Good   2.63  10437\n",
              "25778  Very Good   2.58  14749\n",
              "23960  Very Good   2.54  12095\n",
              "27265  Very Good   2.52  17689"
            ]
          },
          "metadata": {
            "tags": []
          },
          "execution_count": 117
        }
      ]
    },
    {
      "cell_type": "markdown",
      "metadata": {
        "id": "JYDQwmjbxl2E",
        "colab_type": "text"
      },
      "source": [
        "By default, drop_duplicates keeps the very first appearance, but this behavior may be modified by passing the keep parameter last to select the last row of each group or False to drop all duplicates entirely."
      ]
    },
    {
      "cell_type": "markdown",
      "metadata": {
        "id": "z_O_zYcx0dqI",
        "colab_type": "text"
      },
      "source": [
        "# Duplicating nlargest with sort_values"
      ]
    },
    {
      "cell_type": "markdown",
      "metadata": {
        "id": "LMxBxxMJ04MP",
        "colab_type": "text"
      },
      "source": [
        "The previous two recipes work similarly by sorting values in slightly different manners. Finding the top n values of a column of data is equivalent to sorting the entire column descending and taking the first n values. Pandas has many operations that are capable of doing this in a variety of ways."
      ]
    },
    {
      "cell_type": "markdown",
      "metadata": {
        "id": "6Rf7EFxm0-YZ",
        "colab_type": "text"
      },
      "source": [
        "Getting ready\n",
        "In this recipe, we will replicate the Selecting the smallest from the largest recipe with the sort_values method and explore the differences between the two.\n",
        "\n",
        "How to do it...\n",
        "Use sort_values to replicate the first part of the expression and grab the first 100 rows with the head method:\n"
      ]
    },
    {
      "cell_type": "code",
      "metadata": {
        "id": "qVwO6gXB125m",
        "colab_type": "code",
        "colab": {
          "base_uri": "https://localhost:8080/",
          "height": 195
        },
        "outputId": "d6782bd6-83f6-4d54-a0fa-6667f1520613"
      },
      "source": [
        "diamonds5 = diamonds[['cut', 'carat', 'price']]\n",
        "diamonds5.sort_values('carat',ascending=False).head(100).head()"
      ],
      "execution_count": 118,
      "outputs": [
        {
          "output_type": "execute_result",
          "data": {
            "text/html": [
              "<div>\n",
              "<style scoped>\n",
              "    .dataframe tbody tr th:only-of-type {\n",
              "        vertical-align: middle;\n",
              "    }\n",
              "\n",
              "    .dataframe tbody tr th {\n",
              "        vertical-align: top;\n",
              "    }\n",
              "\n",
              "    .dataframe thead th {\n",
              "        text-align: right;\n",
              "    }\n",
              "</style>\n",
              "<table border=\"1\" class=\"dataframe\">\n",
              "  <thead>\n",
              "    <tr style=\"text-align: right;\">\n",
              "      <th></th>\n",
              "      <th>cut</th>\n",
              "      <th>carat</th>\n",
              "      <th>price</th>\n",
              "    </tr>\n",
              "  </thead>\n",
              "  <tbody>\n",
              "    <tr>\n",
              "      <th>27415</th>\n",
              "      <td>Fair</td>\n",
              "      <td>5.01</td>\n",
              "      <td>18018</td>\n",
              "    </tr>\n",
              "    <tr>\n",
              "      <th>27630</th>\n",
              "      <td>Fair</td>\n",
              "      <td>4.50</td>\n",
              "      <td>18531</td>\n",
              "    </tr>\n",
              "    <tr>\n",
              "      <th>27130</th>\n",
              "      <td>Fair</td>\n",
              "      <td>4.13</td>\n",
              "      <td>17329</td>\n",
              "    </tr>\n",
              "    <tr>\n",
              "      <th>25999</th>\n",
              "      <td>Premium</td>\n",
              "      <td>4.01</td>\n",
              "      <td>15223</td>\n",
              "    </tr>\n",
              "    <tr>\n",
              "      <th>25998</th>\n",
              "      <td>Premium</td>\n",
              "      <td>4.01</td>\n",
              "      <td>15223</td>\n",
              "    </tr>\n",
              "  </tbody>\n",
              "</table>\n",
              "</div>"
            ],
            "text/plain": [
              "           cut  carat  price\n",
              "27415     Fair   5.01  18018\n",
              "27630     Fair   4.50  18531\n",
              "27130     Fair   4.13  17329\n",
              "25999  Premium   4.01  15223\n",
              "25998  Premium   4.01  15223"
            ]
          },
          "metadata": {
            "tags": []
          },
          "execution_count": 118
        }
      ]
    },
    {
      "cell_type": "code",
      "metadata": {
        "id": "tRCxXwZ83AUM",
        "colab_type": "code",
        "colab": {
          "base_uri": "https://localhost:8080/",
          "height": 195
        },
        "outputId": "56d0c20c-1c72-4441-e1ea-0be4227b4e02"
      },
      "source": [
        "diamonds5.sort_values('carat',ascending=False).head(100).head().sort_values('price').head()"
      ],
      "execution_count": 119,
      "outputs": [
        {
          "output_type": "execute_result",
          "data": {
            "text/html": [
              "<div>\n",
              "<style scoped>\n",
              "    .dataframe tbody tr th:only-of-type {\n",
              "        vertical-align: middle;\n",
              "    }\n",
              "\n",
              "    .dataframe tbody tr th {\n",
              "        vertical-align: top;\n",
              "    }\n",
              "\n",
              "    .dataframe thead th {\n",
              "        text-align: right;\n",
              "    }\n",
              "</style>\n",
              "<table border=\"1\" class=\"dataframe\">\n",
              "  <thead>\n",
              "    <tr style=\"text-align: right;\">\n",
              "      <th></th>\n",
              "      <th>cut</th>\n",
              "      <th>carat</th>\n",
              "      <th>price</th>\n",
              "    </tr>\n",
              "  </thead>\n",
              "  <tbody>\n",
              "    <tr>\n",
              "      <th>25999</th>\n",
              "      <td>Premium</td>\n",
              "      <td>4.01</td>\n",
              "      <td>15223</td>\n",
              "    </tr>\n",
              "    <tr>\n",
              "      <th>25998</th>\n",
              "      <td>Premium</td>\n",
              "      <td>4.01</td>\n",
              "      <td>15223</td>\n",
              "    </tr>\n",
              "    <tr>\n",
              "      <th>27130</th>\n",
              "      <td>Fair</td>\n",
              "      <td>4.13</td>\n",
              "      <td>17329</td>\n",
              "    </tr>\n",
              "    <tr>\n",
              "      <th>27415</th>\n",
              "      <td>Fair</td>\n",
              "      <td>5.01</td>\n",
              "      <td>18018</td>\n",
              "    </tr>\n",
              "    <tr>\n",
              "      <th>27630</th>\n",
              "      <td>Fair</td>\n",
              "      <td>4.50</td>\n",
              "      <td>18531</td>\n",
              "    </tr>\n",
              "  </tbody>\n",
              "</table>\n",
              "</div>"
            ],
            "text/plain": [
              "           cut  carat  price\n",
              "25999  Premium   4.01  15223\n",
              "25998  Premium   4.01  15223\n",
              "27130     Fair   4.13  17329\n",
              "27415     Fair   5.01  18018\n",
              "27630     Fair   4.50  18531"
            ]
          },
          "metadata": {
            "tags": []
          },
          "execution_count": 119
        }
      ]
    },
    {
      "cell_type": "code",
      "metadata": {
        "id": "5Kb7i5fp0dqX",
        "colab_type": "code",
        "colab": {
          "base_uri": "https://localhost:8080/",
          "height": 195
        },
        "outputId": "1bf91ab2-6c55-4c26-c774-eb7b45bc8c79"
      },
      "source": [
        "diamonds5.nlargest(100, 'carat').tail()"
      ],
      "execution_count": 120,
      "outputs": [
        {
          "output_type": "execute_result",
          "data": {
            "text/html": [
              "<div>\n",
              "<style scoped>\n",
              "    .dataframe tbody tr th:only-of-type {\n",
              "        vertical-align: middle;\n",
              "    }\n",
              "\n",
              "    .dataframe tbody tr th {\n",
              "        vertical-align: top;\n",
              "    }\n",
              "\n",
              "    .dataframe thead th {\n",
              "        text-align: right;\n",
              "    }\n",
              "</style>\n",
              "<table border=\"1\" class=\"dataframe\">\n",
              "  <thead>\n",
              "    <tr style=\"text-align: right;\">\n",
              "      <th></th>\n",
              "      <th>cut</th>\n",
              "      <th>carat</th>\n",
              "      <th>price</th>\n",
              "    </tr>\n",
              "  </thead>\n",
              "  <tbody>\n",
              "    <tr>\n",
              "      <th>26818</th>\n",
              "      <td>Ideal</td>\n",
              "      <td>2.53</td>\n",
              "      <td>16709</td>\n",
              "    </tr>\n",
              "    <tr>\n",
              "      <th>26915</th>\n",
              "      <td>Premium</td>\n",
              "      <td>2.53</td>\n",
              "      <td>16934</td>\n",
              "    </tr>\n",
              "    <tr>\n",
              "      <th>26999</th>\n",
              "      <td>Fair</td>\n",
              "      <td>2.53</td>\n",
              "      <td>17103</td>\n",
              "    </tr>\n",
              "    <tr>\n",
              "      <th>27227</th>\n",
              "      <td>Premium</td>\n",
              "      <td>2.53</td>\n",
              "      <td>17591</td>\n",
              "    </tr>\n",
              "    <tr>\n",
              "      <th>27522</th>\n",
              "      <td>Premium</td>\n",
              "      <td>2.53</td>\n",
              "      <td>18254</td>\n",
              "    </tr>\n",
              "  </tbody>\n",
              "</table>\n",
              "</div>"
            ],
            "text/plain": [
              "           cut  carat  price\n",
              "26818    Ideal   2.53  16709\n",
              "26915  Premium   2.53  16934\n",
              "26999     Fair   2.53  17103\n",
              "27227  Premium   2.53  17591\n",
              "27522  Premium   2.53  18254"
            ]
          },
          "metadata": {
            "tags": []
          },
          "execution_count": 120
        }
      ]
    },
    {
      "cell_type": "code",
      "metadata": {
        "id": "iqrPQhVS0dqa",
        "colab_type": "code",
        "colab": {
          "base_uri": "https://localhost:8080/",
          "height": 195
        },
        "outputId": "75f8f527-9685-45fa-9714-b97f8d71ed8d"
      },
      "source": [
        "diamonds5.sort_values('carat', ascending=False).head(100).tail()"
      ],
      "execution_count": 121,
      "outputs": [
        {
          "output_type": "execute_result",
          "data": {
            "text/html": [
              "<div>\n",
              "<style scoped>\n",
              "    .dataframe tbody tr th:only-of-type {\n",
              "        vertical-align: middle;\n",
              "    }\n",
              "\n",
              "    .dataframe tbody tr th {\n",
              "        vertical-align: top;\n",
              "    }\n",
              "\n",
              "    .dataframe thead th {\n",
              "        text-align: right;\n",
              "    }\n",
              "</style>\n",
              "<table border=\"1\" class=\"dataframe\">\n",
              "  <thead>\n",
              "    <tr style=\"text-align: right;\">\n",
              "      <th></th>\n",
              "      <th>cut</th>\n",
              "      <th>carat</th>\n",
              "      <th>price</th>\n",
              "    </tr>\n",
              "  </thead>\n",
              "  <tbody>\n",
              "    <tr>\n",
              "      <th>26999</th>\n",
              "      <td>Fair</td>\n",
              "      <td>2.53</td>\n",
              "      <td>17103</td>\n",
              "    </tr>\n",
              "    <tr>\n",
              "      <th>25964</th>\n",
              "      <td>Premium</td>\n",
              "      <td>2.53</td>\n",
              "      <td>15148</td>\n",
              "    </tr>\n",
              "    <tr>\n",
              "      <th>26455</th>\n",
              "      <td>Ideal</td>\n",
              "      <td>2.53</td>\n",
              "      <td>15993</td>\n",
              "    </tr>\n",
              "    <tr>\n",
              "      <th>27522</th>\n",
              "      <td>Premium</td>\n",
              "      <td>2.53</td>\n",
              "      <td>18254</td>\n",
              "    </tr>\n",
              "    <tr>\n",
              "      <th>26818</th>\n",
              "      <td>Ideal</td>\n",
              "      <td>2.53</td>\n",
              "      <td>16709</td>\n",
              "    </tr>\n",
              "  </tbody>\n",
              "</table>\n",
              "</div>"
            ],
            "text/plain": [
              "           cut  carat  price\n",
              "26999     Fair   2.53  17103\n",
              "25964  Premium   2.53  15148\n",
              "26455    Ideal   2.53  15993\n",
              "27522  Premium   2.53  18254\n",
              "26818    Ideal   2.53  16709"
            ]
          },
          "metadata": {
            "tags": []
          },
          "execution_count": 121
        }
      ]
    },
    {
      "cell_type": "markdown",
      "metadata": {
        "id": "Duj7r2T735mV",
        "colab_type": "text"
      },
      "source": [
        "How it works...\n",
        "The sort_valuesmethod can nearly replicate nlargest by chaining the head method after the operation, as seen in step 2. Step 3 replicates nsmallest by chaining another sort_values and completes the query by taking just the first five rows with the head method.\n",
        "\n",
        "Take a look at the output from the first DataFrame from step 1 and compare it with the output from step 3. Are they the same? No! What happened? To understand why the two results are not equivalent, let's look at the tail of the intermediate steps of each recipe:\n",
        "\n",
        "The issue arises because more than 100 movies exist with a rating of at least 8.4. Each of the methods, nlargest and sort_values, breaks ties differently, which results in a slightly different 100-row DataFrame. \n"
      ]
    },
    {
      "cell_type": "markdown",
      "metadata": {
        "id": "LStF4fBk4ORL",
        "colab_type": "text"
      },
      "source": [
        "There's more...\n",
        "If you look at the nlargest documentation, you will see that the keep parameter has three possible values, first, last, and False. From my knowledge of other pandas methods, keep=False should allow all ties to remain part of the result. Unfortunately, pandas raises an error when attempting to do this. I created an issue with pandas development team on GitHub to make this enhancement (http://bit.ly/2fGrCMa)."
      ]
    },
    {
      "cell_type": "markdown",
      "metadata": {
        "id": "7dGWat4v0dqc",
        "colab_type": "text"
      },
      "source": [
        "# Calculating a trailing stop order price"
      ]
    },
    {
      "cell_type": "code",
      "metadata": {
        "id": "RIKwRgrc0dqc",
        "colab_type": "code",
        "colab": {}
      },
      "source": [
        "import pandas_datareader as pdr"
      ],
      "execution_count": 0,
      "outputs": []
    },
    {
      "cell_type": "code",
      "metadata": {
        "id": "bKC6kZ000dqe",
        "colab_type": "code",
        "colab": {
          "base_uri": "https://localhost:8080/",
          "height": 404
        },
        "outputId": "e6fe21bb-59cd-4c9c-9910-e3813d42814d"
      },
      "source": [
        "tsla = pdr.DataReader('tsla', data_source='google',start='2017-1-1')\n",
        "tsla.head(8)"
      ],
      "execution_count": 123,
      "outputs": [
        {
          "output_type": "error",
          "ename": "ImmediateDeprecationError",
          "evalue": "ignored",
          "traceback": [
            "\u001b[0;31m---------------------------------------------------------------------------\u001b[0m",
            "\u001b[0;31mImmediateDeprecationError\u001b[0m                 Traceback (most recent call last)",
            "\u001b[0;32m<ipython-input-123-7e499abf89d5>\u001b[0m in \u001b[0;36m<module>\u001b[0;34m()\u001b[0m\n\u001b[0;32m----> 1\u001b[0;31m \u001b[0mtsla\u001b[0m \u001b[0;34m=\u001b[0m \u001b[0mpdr\u001b[0m\u001b[0;34m.\u001b[0m\u001b[0mDataReader\u001b[0m\u001b[0;34m(\u001b[0m\u001b[0;34m'tsla'\u001b[0m\u001b[0;34m,\u001b[0m \u001b[0mdata_source\u001b[0m\u001b[0;34m=\u001b[0m\u001b[0;34m'google'\u001b[0m\u001b[0;34m,\u001b[0m\u001b[0mstart\u001b[0m\u001b[0;34m=\u001b[0m\u001b[0;34m'2017-1-1'\u001b[0m\u001b[0;34m)\u001b[0m\u001b[0;34m\u001b[0m\u001b[0;34m\u001b[0m\u001b[0m\n\u001b[0m\u001b[1;32m      2\u001b[0m \u001b[0mtsla\u001b[0m\u001b[0;34m.\u001b[0m\u001b[0mhead\u001b[0m\u001b[0;34m(\u001b[0m\u001b[0;36m8\u001b[0m\u001b[0;34m)\u001b[0m\u001b[0;34m\u001b[0m\u001b[0;34m\u001b[0m\u001b[0m\n",
            "\u001b[0;32m/usr/local/lib/python3.6/dist-packages/pandas_datareader/data.py\u001b[0m in \u001b[0;36mDataReader\u001b[0;34m(name, data_source, start, end, retry_count, pause, session, access_key)\u001b[0m\n\u001b[1;32m    314\u001b[0m                                  \u001b[0mchunksize\u001b[0m\u001b[0;34m=\u001b[0m\u001b[0;36m25\u001b[0m\u001b[0;34m,\u001b[0m\u001b[0;34m\u001b[0m\u001b[0;34m\u001b[0m\u001b[0m\n\u001b[1;32m    315\u001b[0m                                  \u001b[0mretry_count\u001b[0m\u001b[0;34m=\u001b[0m\u001b[0mretry_count\u001b[0m\u001b[0;34m,\u001b[0m \u001b[0mpause\u001b[0m\u001b[0;34m=\u001b[0m\u001b[0mpause\u001b[0m\u001b[0;34m,\u001b[0m\u001b[0;34m\u001b[0m\u001b[0;34m\u001b[0m\u001b[0m\n\u001b[0;32m--> 316\u001b[0;31m                                  session=session).read()\n\u001b[0m\u001b[1;32m    317\u001b[0m \u001b[0;34m\u001b[0m\u001b[0m\n\u001b[1;32m    318\u001b[0m     \u001b[0;32melif\u001b[0m \u001b[0mdata_source\u001b[0m \u001b[0;34m==\u001b[0m \u001b[0;34m\"iex\"\u001b[0m\u001b[0;34m:\u001b[0m\u001b[0;34m\u001b[0m\u001b[0;34m\u001b[0m\u001b[0m\n",
            "\u001b[0;32m/usr/local/lib/python3.6/dist-packages/pandas_datareader/google/daily.py\u001b[0m in \u001b[0;36m__init__\u001b[0;34m(self, symbols, start, end, retry_count, pause, session, chunksize)\u001b[0m\n\u001b[1;32m     34\u001b[0m     def __init__(self, symbols=None, start=None, end=None, retry_count=3,\n\u001b[1;32m     35\u001b[0m                  pause=0.1, session=None, chunksize=25):\n\u001b[0;32m---> 36\u001b[0;31m         \u001b[0;32mraise\u001b[0m \u001b[0mImmediateDeprecationError\u001b[0m\u001b[0;34m(\u001b[0m\u001b[0mDEP_ERROR_MSG\u001b[0m\u001b[0;34m.\u001b[0m\u001b[0mformat\u001b[0m\u001b[0;34m(\u001b[0m\u001b[0;34m'Google finance'\u001b[0m\u001b[0;34m)\u001b[0m\u001b[0;34m)\u001b[0m\u001b[0;34m\u001b[0m\u001b[0;34m\u001b[0m\u001b[0m\n\u001b[0m\u001b[1;32m     37\u001b[0m         super(GoogleDailyReader, self).__init__(symbols, start, end,\n\u001b[1;32m     38\u001b[0m                                                 \u001b[0mretry_count\u001b[0m\u001b[0;34m,\u001b[0m \u001b[0mpause\u001b[0m\u001b[0;34m,\u001b[0m \u001b[0msession\u001b[0m\u001b[0;34m,\u001b[0m\u001b[0;34m\u001b[0m\u001b[0;34m\u001b[0m\u001b[0m\n",
            "\u001b[0;31mImmediateDeprecationError\u001b[0m: \nGoogle finance has been immediately deprecated due to large breaks in the API without the\nintroduction of a stable replacement. Pull Requests to re-enable these data\nconnectors are welcome.\n\nSee https://github.com/pydata/pandas-datareader/issues\n"
          ]
        }
      ]
    },
    {
      "cell_type": "code",
      "metadata": {
        "id": "-5E12OtN0dqg",
        "colab_type": "code",
        "colab": {}
      },
      "source": [
        "tsla_close = tsla['Close']"
      ],
      "execution_count": 0,
      "outputs": []
    },
    {
      "cell_type": "code",
      "metadata": {
        "id": "nLdcR1vM0dqi",
        "colab_type": "code",
        "colab": {},
        "outputId": "9d222304-a4e2-452d-a35f-fdfa4870abea"
      },
      "source": [
        "tsla_cummax = tsla_close.cummax()\n",
        "tsla_cummax.head(8)"
      ],
      "execution_count": 0,
      "outputs": [
        {
          "output_type": "execute_result",
          "data": {
            "text/plain": [
              "Date\n",
              "2017-01-03    216.99\n",
              "2017-01-04    226.99\n",
              "2017-01-05    226.99\n",
              "2017-01-06    229.01\n",
              "2017-01-09    231.28\n",
              "2017-01-10    231.28\n",
              "2017-01-11    231.28\n",
              "2017-01-12    231.28\n",
              "Name: Close, dtype: float64"
            ]
          },
          "metadata": {
            "tags": []
          },
          "execution_count": 672
        }
      ]
    },
    {
      "cell_type": "code",
      "metadata": {
        "id": "ayR9EQhq0dqn",
        "colab_type": "code",
        "colab": {},
        "outputId": "61f69170-3054-4f43-e7aa-753552c0a27e"
      },
      "source": [
        "tsla_trailing_stop = tsla_cummax * .9\n",
        "tsla_trailing_stop.head(8)"
      ],
      "execution_count": 0,
      "outputs": [
        {
          "output_type": "execute_result",
          "data": {
            "text/plain": [
              "Date\n",
              "2017-01-03    195.291\n",
              "2017-01-04    204.291\n",
              "2017-01-05    204.291\n",
              "2017-01-06    206.109\n",
              "2017-01-09    208.152\n",
              "2017-01-10    208.152\n",
              "2017-01-11    208.152\n",
              "2017-01-12    208.152\n",
              "Name: Close, dtype: float64"
            ]
          },
          "metadata": {
            "tags": []
          },
          "execution_count": 674
        }
      ]
    },
    {
      "cell_type": "markdown",
      "metadata": {
        "id": "wGl9s9vR0dqp",
        "colab_type": "text"
      },
      "source": [
        "## There's more..."
      ]
    },
    {
      "cell_type": "code",
      "metadata": {
        "collapsed": true,
        "id": "xoQ010DW0dqq",
        "colab_type": "code",
        "colab": {}
      },
      "source": [
        "def set_trailing_loss(symbol, purchase_date, perc):\n",
        "    close = pdr.DataReader(symbol, 'google', start=purchase_date)['Close']\n",
        "    return close.cummax() * perc"
      ],
      "execution_count": 0,
      "outputs": []
    },
    {
      "cell_type": "code",
      "metadata": {
        "id": "_C4KhTr_0dqs",
        "colab_type": "code",
        "colab": {},
        "outputId": "5f538757-e14e-467d-cd85-24fc2238e204"
      },
      "source": [
        "msft_trailing_stop = set_trailing_loss('msft', '2017-6-1', .85)\n",
        "msft_trailing_stop.head()"
      ],
      "execution_count": 0,
      "outputs": [
        {
          "output_type": "execute_result",
          "data": {
            "text/plain": [
              "Date\n",
              "2017-06-01    59.585\n",
              "2017-06-02    60.996\n",
              "2017-06-05    61.438\n",
              "2017-06-06    61.642\n",
              "2017-06-07    61.642\n",
              "Name: Close, dtype: float64"
            ]
          },
          "metadata": {
            "tags": []
          },
          "execution_count": 679
        }
      ]
    },
    {
      "cell_type": "code",
      "metadata": {
        "collapsed": true,
        "id": "uXvXKo5Y0dqu",
        "colab_type": "code",
        "colab": {}
      },
      "source": [
        ""
      ],
      "execution_count": 0,
      "outputs": []
    }
  ]
}